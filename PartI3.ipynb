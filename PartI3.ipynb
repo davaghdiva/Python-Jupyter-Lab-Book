{
 "cells": [
  {
   "cell_type": "markdown",
   "metadata": {},
   "source": [
    "< [Notebook 02](PartI2.ipynb) | [PyFinLab Index](ALWAYS-START-HERE.ipynb) | [Notebook 04](PartI4.ipynb) >\n",
    "\n",
    "<a id = \"ref00\"></a>"
   ]
  },
  {
   "cell_type": "markdown",
   "metadata": {},
   "source": [
    "<a><img src=\"figures/UUBS.png\" width=\"180\" height=\"180\" border=\"10\" /></a>\n",
    "\n",
    "<hr>\n",
    "</a>\n"
   ]
  },
  {
   "cell_type": "markdown",
   "metadata": {},
   "source": [
    "### Notebook 03: DataFrame - generating new variables and features\n",
    "\n",
    "In this notebook we introduce methods which can help us create new variables, features and columns in DataFrame objects."
   ]
  },
  {
   "cell_type": "code",
   "execution_count": null,
   "metadata": {},
   "outputs": [],
   "source": [
    "import pandas as pd\n",
    "import matplotlib.pyplot as plt\n",
    "%matplotlib inline"
   ]
  },
  {
   "cell_type": "code",
   "execution_count": null,
   "metadata": {},
   "outputs": [],
   "source": [
    "fb = pd.read_csv('data/facebook.csv')\n",
    "ms = pd.read_csv('data/microsoft.csv')"
   ]
  },
  {
   "cell_type": "markdown",
   "metadata": {},
   "source": [
    "### Create a new column to contain price difference"
   ]
  },
  {
   "cell_type": "code",
   "execution_count": null,
   "metadata": {},
   "outputs": [],
   "source": [
    "# set the index to \"Date\" for both the newly created objects fb and ms\n",
    "# assigning the output to variables (also objects) fb2 and ms2 respectively.\n",
    "# replace the keyword None with the correct code\n",
    "\n",
    "fb2 = None\n",
    "ms2 = None"
   ]
  },
  {
   "cell_type": "code",
   "execution_count": null,
   "metadata": {},
   "outputs": [],
   "source": [
    "# run this code to create a new column PriceDiff in the DataFrame fb2\n",
    "\n",
    "fb2['PriceDiff'] = fb2['Close'].shift(-1) - fb2['Close']"
   ]
  },
  {
   "cell_type": "code",
   "execution_count": null,
   "metadata": {},
   "outputs": [],
   "source": [
    "# your turn to create a PriceDiff column in ms2\n",
    "\n"
   ]
  },
  {
   "cell_type": "code",
   "execution_count": null,
   "metadata": {},
   "outputs": [],
   "source": [
    "# run this code to display the price difference of Microsoft on 2015-01-05\n",
    "\n",
    "ms2['PriceDiff'].loc['2015-01-05']"
   ]
  },
  {
   "cell_type": "markdown",
   "metadata": {},
   "source": [
    "<div align=\"right\">\n",
    "<a href=\"#Hag39\" class=\"btn btn-default\" data-toggle=\"collapse\">Expected output</a>\n",
    "\n",
    "</div>\n",
    "<div id=\"Hag39\" class=\"collapse\">\n",
    "\n",
    "```\n",
    "Expected output is -0.68000 to 5 significant figures.\n",
    "\n",
    "```\n",
    "\n",
    "\n",
    "</div>"
   ]
  },
  {
   "cell_type": "code",
   "execution_count": null,
   "metadata": {},
   "outputs": [],
   "source": [
    "# write code to display the price difference of Facebook on 2016-11-21\n",
    "\n"
   ]
  },
  {
   "cell_type": "markdown",
   "metadata": {},
   "source": [
    "<div align=\"right\">\n",
    "<a href=\"#Hag3119\" class=\"btn btn-default\" data-toggle=\"collapse\">Expected output</a>\n",
    "\n",
    "</div>\n",
    "<div id=\"Hag3119\" class=\"collapse\">\n",
    "\n",
    "```\n",
    "Expected output is 0.6699990000000042.\n",
    "\n",
    "```\n",
    "\n",
    "\n",
    "</div>"
   ]
  },
  {
   "cell_type": "markdown",
   "metadata": {},
   "source": [
    "### Create a new column to contain daily return\n",
    "\n",
    "Daily return is calcuated as PriceDiff/Close"
   ]
  },
  {
   "cell_type": "code",
   "execution_count": null,
   "metadata": {},
   "outputs": [],
   "source": [
    "# create a new column Return in the DataFrame fb2\n",
    "fb2['Return'] = fb2['PriceDiff']/fb2['Close']"
   ]
  },
  {
   "cell_type": "code",
   "execution_count": null,
   "metadata": {},
   "outputs": [],
   "source": [
    "# your turn to create a new column Return in the DataFrame ms2\n",
    "ms2['Return'] = None"
   ]
  },
  {
   "cell_type": "code",
   "execution_count": null,
   "metadata": {},
   "outputs": [],
   "source": [
    "# write code to output the Return on 2015-01-05 for Microsoft \n",
    "\n"
   ]
  },
  {
   "cell_type": "markdown",
   "metadata": {},
   "source": [
    "<div align=\"right\">\n",
    "<a href=\"#Hag389\" class=\"btn btn-default\" data-toggle=\"collapse\">Expected output</a>\n",
    "\n",
    "</div>\n",
    "<div id=\"Hag389\" class=\"collapse\">\n",
    "\n",
    "```\n",
    "Expected output for Microsoft is -0.014677 to 5 significant figures.\n",
    "\n",
    "```\n",
    "\n",
    "\n",
    "</div>"
   ]
  },
  {
   "cell_type": "code",
   "execution_count": null,
   "metadata": {},
   "outputs": [],
   "source": [
    "# write code to output the Return on 2015-01-05 for Facebook \n",
    "\n"
   ]
  },
  {
   "cell_type": "markdown",
   "metadata": {},
   "source": [
    "<div align=\"right\">\n",
    "<a href=\"#Hag3089\" class=\"btn btn-default\" data-toggle=\"collapse\">Expected output</a>\n",
    "\n",
    "</div>\n",
    "<div id=\"Hag3089\" class=\"collapse\">\n",
    "\n",
    "```\n",
    "Expected output for Facebook is -0.030318 to 5 significant figures.\n",
    "\n",
    "```\n",
    "\n",
    "\n",
    "</div>"
   ]
  },
  {
   "cell_type": "markdown",
   "metadata": {},
   "source": [
    "### Create a new column using \"list comprehension\" "
   ]
  },
  {
   "cell_type": "code",
   "execution_count": null,
   "metadata": {},
   "outputs": [],
   "source": [
    "# here we create a new column called Direction. \n",
    "# the list comprehension below means: \n",
    "# if price difference > 0, denote as 1, otherwise, denote as -1,\n",
    "# for every record in the DataFrame fb2.\n",
    "# run this code.\n",
    "    \n",
    "fb2['Direction'] = [1 if fb2.loc[ei,'PriceDiff'] > 0 else -1 \n",
    "                    for ei in fb2.index ]"
   ]
  },
  {
   "cell_type": "code",
   "execution_count": null,
   "metadata": {},
   "outputs": [],
   "source": [
    "# run the following code to show the FB price difference on 2015-01-05\n",
    "print('Price difference on {} is {}. direction is {}'\n",
    "      .format('2015-01-05', fb2['PriceDiff']\n",
    "              .loc['2015-01-05'], fb2['Direction'].loc['2015-01-05']))"
   ]
  },
  {
   "cell_type": "markdown",
   "metadata": {},
   "source": [
    "<div align=\"right\">\n",
    "<a href=\"#Hag30889\" class=\"btn btn-default\" data-toggle=\"collapse\">Expected output</a>\n",
    "\n",
    "</div>\n",
    "<div id=\"Hag30889\" class=\"collapse\">\n",
    "\n",
    "```\n",
    "Price difference on 2015-01-05 is -0.6000000000000014. direction is -1\n",
    "\n",
    "```\n",
    "\n",
    "\n",
    "</div>"
   ]
  },
  {
   "cell_type": "code",
   "execution_count": null,
   "metadata": {},
   "outputs": [],
   "source": [
    "# your turn to create a new column Direction for Microsoft\n",
    "ms2['Direction'] = None"
   ]
  },
  {
   "cell_type": "code",
   "execution_count": null,
   "metadata": {},
   "outputs": [],
   "source": [
    "# write code to show the Microsoft price difference \n",
    "# on 2017-06-15 (note the change of date)\n"
   ]
  },
  {
   "cell_type": "markdown",
   "metadata": {},
   "source": [
    "<div align=\"right\">\n",
    "<a href=\"#Hag89\" class=\"btn btn-default\" data-toggle=\"collapse\">Expected output</a>\n",
    "\n",
    "</div>\n",
    "<div id=\"Hag89\" class=\"collapse\">\n",
    "\n",
    "```\n",
    "Price difference on 2017-06-15 is 0.09999799999999937. direction is 1\n",
    "\n",
    "```\n",
    "\n",
    "\n",
    "</div>"
   ]
  },
  {
   "cell_type": "markdown",
   "metadata": {},
   "source": [
    "### Create a moving average column using .rolling()"
   ]
  },
  {
   "cell_type": "code",
   "execution_count": null,
   "metadata": {},
   "outputs": [],
   "source": [
    "fb2['MA50'] = fb2['Close'].rolling(50).mean()\n",
    "\n",
    "# plot the moving average\n",
    "plt.figure(figsize=(10, 8))\n",
    "fb2['MA50'].loc['2015-01-01':'2015-12-31'].plot(label='MA50')\n",
    "fb2['Close'].loc['2015-01-01':'2015-12-31'].plot(label='Close')\n",
    "plt.legend()\n",
    "plt.show()"
   ]
  },
  {
   "cell_type": "code",
   "execution_count": null,
   "metadata": {},
   "outputs": [],
   "source": [
    "# you can use .rolling() to calculate a moving average of arbitrary length. \n",
    "# this is your turn to calculate a \"60 day\" moving average for Microsoft, \n",
    "# name it \"MA60\" and follow the code above in plotting a graph\n",
    "\n",
    "ms2['MA60'] = None\n",
    "\n",
    "# write code to plot the moving average below\n"
   ]
  },
  {
   "cell_type": "markdown",
   "metadata": {},
   "source": [
    "<div align=\"right\">\n",
    "<a href=\"#Hag8977\" class=\"btn btn-default\" data-toggle=\"collapse\">Expected output</a>\n",
    "\n",
    "</div>\n",
    "<div id=\"Hag8977\" class=\"collapse\">\n",
    "\n",
    "<a><img src=\"figures/fig 6.png\" width=\"520\" height=\"520\" border=\"10\"/></a>\n",
    "\n",
    "</div>"
   ]
  },
  {
   "cell_type": "markdown",
   "metadata": {},
   "source": [
    "< [Notebook 02](PartI2.ipynb) | [PyFinLab Index](ALWAYS-START-HERE.ipynb) | [Notebook 04](PartI4.ipynb) >\n",
    "\n",
    "<div align=\"right\"><a href=\"#ref00\">back to top</a></div>"
   ]
  }
 ],
 "metadata": {
  "kernelspec": {
   "display_name": "Python 3",
   "language": "python",
   "name": "python3"
  },
  "language_info": {
   "codemirror_mode": {
    "name": "ipython",
    "version": 3
   },
   "file_extension": ".py",
   "mimetype": "text/x-python",
   "name": "python",
   "nbconvert_exporter": "python",
   "pygments_lexer": "ipython3",
   "version": "3.7.4"
  }
 },
 "nbformat": 4,
 "nbformat_minor": 2
}
