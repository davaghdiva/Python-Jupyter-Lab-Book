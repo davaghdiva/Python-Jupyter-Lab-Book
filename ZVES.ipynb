{
 "cells": [
  {
   "cell_type": "markdown",
   "metadata": {},
   "source": [
    "< [About this Lab Book](Welcome.ipynb) | [PyFinLab Index](ALWAYS-START-HERE.ipynb) | [Conditionals](ZConditionals.ipynb) >\n",
    "\n",
    "<a id = \"ref00\"></a>"
   ]
  },
  {
   "cell_type": "markdown",
   "metadata": {},
   "source": [
    "<a><img src=\"figures/UUBS.png\" width=\"180\" height=\"180\" border=\"10\" /></a>\n",
    "\n",
    "<hr>"
   ]
  },
  {
   "cell_type": "markdown",
   "metadata": {},
   "source": [
    "<h2> Notebook A1: Variables, Statements, and Expressions</h2>\n",
    "\n",
    "<div class=\"alert alert-block alert-info\" style=\"margin-top: 20px\">\n",
    "\n",
    "<li><a href=\"#ref0\">Aims and Objectives</a></li>\n",
    "<li><a href=\"#ref1\">Introduction</a></li>\n",
    "<li><a href=\"#ref2\">Values and Data Types</a></li>\n",
    "<li><a href=\"#ref3\">Operators and Operands</a></li>\n",
    "<li><a href=\"#ref4\">Functions Calls</a></li>\n",
    "<li><a href=\"#ref5\">Data Types</a></li>\n",
    "<li><a href=\"#ref6\">Type conversion functions</a></li>\n",
    "<li><a href=\"#ref7\">Variables</a></li>\n",
    "<li><a href=\"#ref8\">Variable Names and Keywords</a></li>\n",
    "<li><a href=\"#ref9\">Choosing Variable Names</a></li>\n",
    "<li><a href=\"#ref10\">Statements and Expressions</a></li>\n",
    "<li><a href=\"#ref11\">Order of Operations</a></li>\n",
    "<li><a href=\"#ref12\">Reassignment</a></li>\n",
    "<li><a href=\"#ref13\">Updating Variables</a></li>\n",
    "<li><a href=\"#ref14\">Hard-Coding</a></li>\n",
    "<li><a href=\"#ref15\">Input</a></li>\n",
    "<li><a href=\"#ref16\">Glossary</a></li>\n",
    "<li><a href=\"#ref17\">Exercises</a></li>\n",
    "<br>\n",
    "<p></p>\n",
    "Indicative Completion Time: <strong>3-4 hrs (not counting video viewing time)</strong>\n",
    "</div>\n"
   ]
  },
  {
   "cell_type": "markdown",
   "metadata": {},
   "source": [
    "<a id=\"ref0\"></a>\n",
    "<h3>Aims</h3>\n",
    "\n",
    "To introduce and understand the concept and use of: \n",
    "* Python’s storage model\n",
    "* accumulator patterns to solve problems\n",
    "* operator precedence\n",
    "* distinguishing between expressions, values, and printed representations\n",
    "* hard coding\n",
    "\n",
    "<h3>Objectives</h3>\n",
    "\n",
    "On completion of this notebook you should be able to:\n",
    "* identify variables that reference an object of a particular type (given some sample code)\n",
    "* convert a variable of one type to another type\n",
    "* simulate evaluation of an expression and assignment statement\n",
    "* use reassignment to increment a variable (accumulator pattern)\n",
    "* request input from a user and convert the input to the appropriate type\n",
    "* identify the following types of values: strings, integers, floats, functions\n",
    "* distinguish between valid and invalid variable names\n",
    "* write an assignment statement\n",
    "* update a reference diagram after reassignment\n"
   ]
  },
  {
   "cell_type": "markdown",
   "metadata": {},
   "source": [
    "<a id=\"ref1\"></a>\n",
    "<h2>Introduction</h2>"
   ]
  },
  {
   "cell_type": "markdown",
   "metadata": {},
   "source": [
    "In this notebook we introduce several basic building blocks of Python programs:\n",
    "\n",
    "* literals such as numbers and character strings\n",
    "* operators such as `+` and `*`\n",
    "* function calls, which take values as inputs and compute new values\n",
    "* variables, which save values so they can be used later in the program\n",
    "\n",
    "These are the basic building blocks that are assembled to create programs; programs you interact with everyday from the software running on your fitbit, smartwatch, and every app running on your phone, to the infrastructure behind the largest websites.\n"
   ]
  },
  {
   "cell_type": "markdown",
   "metadata": {},
   "source": [
    "Find below the video collecton for this notebook. Collectively the videos span all the key concepts related to working with variables, expressions, and statements in Python. View them *more than once* as they lay the foundation for *everything* that follows. \n",
    "\n",
    "Video 1 provides an general introduction to Python as a programming language; Videos 2-3 provide an overview of Python data types, variables and expressions; Video 4 provides an insightful and detailed discussion of the content in the previous two videos; Video 5 extends and complements the material presented in Video 4 and finally Video 6 brings it all together in the form of a first Python program. "
   ]
  },
  {
   "cell_type": "markdown",
   "metadata": {},
   "source": [
    "<a href=\"http://www.youtube.com/watch?feature=player_embedded&v=plKjFSj5Vbo\n",
    "\" target=\"_blank\"><img src=\"https://cdn.lynda.com/course/614299/614299-636517983560502284-16x9.jpg\" \n",
    "alt=\"Key Value Pairs\" width=\"200\" height=\"180\" border=\"10\" /></a>\n",
    "\n",
    "<p></p>\n",
    "<center><b>Video 1:</b> The Python Language</center>"
   ]
  },
  {
   "cell_type": "markdown",
   "metadata": {},
   "source": [
    "<a href=\"http://www.youtube.com/watch?feature=player_embedded&v=Uq7g2qjM7H4\n",
    "\" target=\"_blank\"><img src=\"https://cdn.lynda.com/course/614299/614299-636517983560502284-16x9.jpg\" \n",
    "alt=\"Key Value Pairs\" width=\"200\" height=\"180\" border=\"10\" /></a>\n",
    "\n",
    "<p></p>\n",
    "<center><b>Video 2:</b> Python Data Types (an overview)</center>"
   ]
  },
  {
   "cell_type": "markdown",
   "metadata": {},
   "source": [
    "<a href=\"http://www.youtube.com/watch?feature=player_embedded&v=tG9_Phpg7iE\n",
    "\" target=\"_blank\"><img src=\"https://cdn.lynda.com/course/614299/614299-636517983560502284-16x9.jpg\" \n",
    "alt=\"Key Value Pairs\" width=\"200\" height=\"180\" border=\"10\" /></a>\n",
    "\n",
    "<p></p>\n",
    "<center><b>Video 3:</b> Variables and Expressions (an overview) </center>"
   ]
  },
  {
   "cell_type": "markdown",
   "metadata": {},
   "source": [
    "<a href=\"http://www.youtube.com/watch?feature=player_embedded&v=8Qtv-N301mU\n",
    "\" target=\"_blank\"><img src=\"https://cdn.lynda.com/course/614299/614299-636517983560502284-16x9.jpg\" \n",
    "alt=\"Key Value Pairs\" width=\"200\" height=\"180\" border=\"10\" /></a>\n",
    "\n",
    "<p></p>\n",
    "<center><b>Video 4:</b> Constants, Variables and Assignment (in detail)</center>"
   ]
  },
  {
   "cell_type": "markdown",
   "metadata": {},
   "source": [
    "<a href=\"http://www.youtube.com/watch?feature=player_embedded&v=RSkYYMOixpw\n",
    "\" target=\"_blank\"><img src=\"https://cdn.lynda.com/course/614299/614299-636517983560502284-16x9.jpg\" \n",
    "alt=\"Key Value Pairs\" width=\"200\" height=\"180\" border=\"10\" /></a>\n",
    "\n",
    "<p></p>\n",
    "<center><b>Video 5:</b> Expressions (in detail)</center>"
   ]
  },
  {
   "cell_type": "markdown",
   "metadata": {},
   "source": [
    "<a href=\"http://www.youtube.com/watch?feature=player_embedded&v=K6F_QC097p4\n",
    "\" target=\"_blank\"><img src=\"https://cdn.lynda.com/course/614299/614299-636517983560502284-16x9.jpg\" \n",
    "alt=\"Key Value Pairs\" width=\"200\" height=\"180\" border=\"10\" /></a>\n",
    "\n",
    "<p></p>\n",
    "<center><b>Video 6:</b> Putting it together (a Python program)</center>"
   ]
  },
  {
   "cell_type": "markdown",
   "metadata": {},
   "source": [
    "<a id=\"ref2\"></a>\n",
    "<h2>Values and Data Types</h2>\n",
    "\n",
    "<div align=\"right\"><a href=\"#ref00\">back to top</a></div>"
   ]
  },
  {
   "cell_type": "markdown",
   "metadata": {},
   "source": [
    "A value is one of the fundamental things — like a word or a number — that a program manipulates. Some values are `5`(the result when we evaluate `2 + 3`), and `\"Hello, World!\"`. These objects are classified into different classes or data types: `5` is an integer, and `“Hello, World!”` is a string, so-called because it contains a string or sequence of characters. You (and the Python interpreter) can identify strings because they are enclosed in quotation marks.\n",
    "\n",
    "We can specify values directly in the programs we write. For example we can specify a number as a **literal** just by (literally) typing it directly into the program (e.g., `5` or `4.32`). In a program, we specify a word, or more generally a string of characters, by enclosing the characters inside quotation marks (e.g.,` \"Hello, World\"`).\n",
    "\n",
    "During the execution of a program, the Python interpreter creates an internal representation of literals that are specified in the program. It can then manipulate them, for example by multiplying two numbers. We call the internal representations **objects** or just **values**.\n",
    "\n",
    "You can’t directly see the internal representations of values. You can, however, use the`print `function to see a printed representation in the cell output.\n",
    "\n",
    "The printed representation of a number uses the familiar decimal representation (reading [Roman Numerals](https://en.wikipedia.org/wiki/Roman_numerals) is all very well if you want to tell when a BBC documentary was made by reading the last line of credits, but thankfully the Python interpreter does not present the number 2019 as MMXIX in the cell output). Thus, the printed representation of a number shown in the cell output is the same as the literal that you specify in a program.\n",
    "\n",
    "The printed representation of a character string, however, is not exactly the same as the literal used to specify the string in a program. For the literal in a program, you enclose the string in quotation marks. The printed representation, in the cell output, omits the quotation marks."
   ]
  },
  {
   "cell_type": "code",
   "execution_count": null,
   "metadata": {},
   "outputs": [],
   "source": [
    "print(3.2)\n",
    "print(\"Hello, World!\")"
   ]
  },
  {
   "cell_type": "markdown",
   "metadata": {},
   "source": [
    "<div align=\"left\">\n",
    "    <a href=\"#Hag2z0\" class=\"btn btn-default\" data-toggle=\"collapse\"><b>Note</b></a>\n",
    "\n",
    "</div>\n",
    "<div id=\"Hag2z0\" class=\"collapse\">\n",
    "    \n",
    "`Literals` appear in programs. The Python interpreter turns literals into `values`, which have internal representations that you never get to see directly. `Outputs` are external representations of values that appear in the cell output. When we are being careful, we will use the terms this way. Sometimes, however, we may get a little sloppy and refer to literals or external representations as values.\n",
    "\n",
    "\n",
    "</div>"
   ]
  },
  {
   "cell_type": "markdown",
   "metadata": {},
   "source": [
    "Numbers with a decimal point belong to a class called `float`, because these numbers are represented in a format called *floating-point*. At this stage, you can treat the words *class* and *type* interchangeably. We’ll come to a deeper understanding of what a class is in later notebooks.\n",
    "\n",
    "You will soon encounter other types of objects as well, such as lists and dictionaries. Each of these has its own special representation for specifying an object as a literal in a program, and for displaying an object when you print it. For example, list contents are enclosed in square brackets `[ ]`. You will also encounter some more complicated objects that do not have very nice printed representations: printing those won’t be very useful."
   ]
  },
  {
   "cell_type": "markdown",
   "metadata": {},
   "source": [
    "<a id=\"ref3\"></a>\n",
    "## Operators and Operands\n",
    "\n",
    "<div align=\"right\"><a href=\"#ref00\">back to top</a></div>"
   ]
  },
  {
   "cell_type": "markdown",
   "metadata": {},
   "source": [
    "You can build complex expressions out of simpler ones using **operators**. Operators are special tokens that represent computations like addition, multiplication and division. The values the operator works on are called **operands**.\n",
    "\n",
    "The following are all viable Python expressions whose meanings will soon become clear:"
   ]
  },
  {
   "cell_type": "markdown",
   "metadata": {},
   "source": [
    "<div align=\"left\">\n",
    "\n",
    "```python\n",
    "20 + 32\n",
    "5 ** 2\n",
    "(5 + 9) * (15 - 7)\n",
    "\n",
    "```\n",
    "</div>\n",
    "\n",
    "\n",
    "\n"
   ]
  },
  {
   "cell_type": "markdown",
   "metadata": {},
   "source": [
    "The tokens` +`, `-`, and `*`, and the use of brackets for grouping mean in Python what they mean in everyday mathematics. The asterisk (`*`) is the token for multiplication, and `**` is the token for exponentiation. Addition, subtraction, multiplication, and exponentiation all do what you would expect.\n",
    "\n",
    "Remember that if we want to see the results of the computation, the program needs to specify that with the word` print`. The first three computations below actually occur, but their results are not printed out. Only the `print(7+5)` statement will have its result sent to the cell output."
   ]
  },
  {
   "cell_type": "code",
   "execution_count": null,
   "metadata": {},
   "outputs": [],
   "source": [
    "20 + 32\n",
    "5 ** 2\n",
    "(5 + 9) * (15 - 7)\n",
    "print(7 + 5)"
   ]
  },
  {
   "cell_type": "markdown",
   "metadata": {},
   "source": [
    "In Python 3, which is the version we will be using, the division operator `/` produces a floating point result if the result is not an integer (e.g., `1/2`). If you want truncated division, you can use the `//` operator."
   ]
  },
  {
   "cell_type": "code",
   "execution_count": null,
   "metadata": {},
   "outputs": [],
   "source": [
    "print(9 / 5)\n",
    "print(5 / 9)\n",
    "print(9 // 5)"
   ]
  },
  {
   "cell_type": "markdown",
   "metadata": {},
   "source": [
    "Pay particular attention to the examples above. Note that `9//5` truncates (equivalent to always rounding down), so it produces the value 1 rather than 2.\n",
    "\n",
    "The integer division operator, `//`, also works on floating point numbers. It truncates to the nearest integer, but still produces a floating point result. Thus `8.0 // 3.0` is `2.0`.\n"
   ]
  },
  {
   "cell_type": "code",
   "execution_count": null,
   "metadata": {},
   "outputs": [],
   "source": [
    "print(8.0 / 3.0)\n",
    "print(8.0 // 3.0)"
   ]
  },
  {
   "cell_type": "markdown",
   "metadata": {},
   "source": [
    "The `modulo` operator, sometimes also called the *remainder* operator or *integer remainder* operator works on integers (and integer expressions) and yields the remainder when the first operand is divided by the second. In Python, the `modulo` operator is a percent sign (`%`). The syntax is the same as for other operators."
   ]
  },
  {
   "cell_type": "code",
   "execution_count": null,
   "metadata": {},
   "outputs": [],
   "source": [
    "print(7 // 3)    # This is the integer division operator\n",
    "print(7 % 3)     # This is the remainder or modulo operator"
   ]
  },
  {
   "cell_type": "markdown",
   "metadata": {},
   "source": [
    "In the above example, 7 divided by 3 is 2 when we use integer division, with a remainder of 1.\n",
    "\n",
    "The modulo operator turns out to be surprisingly useful. For example, you can check whether one number is divisible by another—if `x % y` is zero, then `x` is divisible by `y`. Also, you can extract the right-most digit or digits from a number. For example, `x % 10` yields the right-most digit of `x` (in base 10). Similarly `x % 100` yields the last two digits."
   ]
  },
  {
   "cell_type": "markdown",
   "metadata": {},
   "source": [
    "**Have a go:**\n",
    "    \n",
    "1.What value is printed when the following statement executes?"
   ]
  },
  {
   "cell_type": "code",
   "execution_count": null,
   "metadata": {},
   "outputs": [],
   "source": [
    "print(18/4)  #try to answer this before executing the code"
   ]
  },
  {
   "cell_type": "markdown",
   "metadata": {},
   "source": [
    "* A. 4.5\n",
    "* B. 5\n",
    "* C. 4\n",
    "* D. 4.0\n",
    "* E. 2"
   ]
  },
  {
   "cell_type": "markdown",
   "metadata": {},
   "source": [
    "<div align=\"right\">\n",
    "<a href=\"#Hag1\" class=\"btn btn-default\" data-toggle=\"collapse\">Click here for the answer</a>\n",
    "\n",
    "</div>\n",
    "<div id=\"Hag1\" class=\"collapse\">\n",
    "\n",
    "```\n",
    "A. 4.5\n",
    "```\n",
    "\n",
    "\n",
    "</div>"
   ]
  },
  {
   "cell_type": "markdown",
   "metadata": {},
   "source": [
    "2.What value is printed when the following statement executes?"
   ]
  },
  {
   "cell_type": "code",
   "execution_count": null,
   "metadata": {},
   "outputs": [],
   "source": [
    "print(18.0//4)  #try to answer this before executing the code"
   ]
  },
  {
   "cell_type": "markdown",
   "metadata": {},
   "source": [
    "* A. 4.5\n",
    "* B. 5\n",
    "* C. 4\n",
    "* D. 4.0\n",
    "* E. 2"
   ]
  },
  {
   "cell_type": "markdown",
   "metadata": {},
   "source": [
    "<div align=\"right\">\n",
    "<a href=\"#Hag2\" class=\"btn btn-default\" data-toggle=\"collapse\">Click here for the answer</a>\n",
    "\n",
    "</div>\n",
    "<div id=\"Hag2\" class=\"collapse\">\n",
    "\n",
    "```\n",
    "D. 4.0\n",
    "```\n",
    "</div>"
   ]
  },
  {
   "cell_type": "markdown",
   "metadata": {},
   "source": [
    "3.What value is printed when the following statement executes?"
   ]
  },
  {
   "cell_type": "code",
   "execution_count": null,
   "metadata": {},
   "outputs": [],
   "source": [
    "print(18 % 4)   #try to answer this before executing the code"
   ]
  },
  {
   "cell_type": "markdown",
   "metadata": {},
   "source": [
    "* A. 4.25\n",
    "* B. 5\n",
    "* C. 4\n",
    "* D. 2"
   ]
  },
  {
   "cell_type": "markdown",
   "metadata": {},
   "source": [
    "<div align=\"right\">\n",
    "<a href=\"#Hag3\" class=\"btn btn-default\" data-toggle=\"collapse\">Click here for the answer</a>\n",
    "\n",
    "</div>\n",
    "<div id=\"Hag3\" class=\"collapse\">\n",
    "\n",
    "```\n",
    "D. 2\n",
    "```\n",
    "\n",
    "\n",
    "</div>"
   ]
  },
  {
   "cell_type": "markdown",
   "metadata": {},
   "source": [
    "<a id=\"ref4\"></a>\n",
    "## Function Calls\n",
    "\n",
    "<div align=\"right\"><a href=\"#ref00\">back to top</a></div>"
   ]
  },
  {
   "cell_type": "markdown",
   "metadata": {},
   "source": [
    "The Python interpreter can compute new values with function calls. You will be familiar with the idea of functions from secondary school algebra. There you might define a function `f` by specifying how it transforms an input into an output, `f(x) = 3x + 2`. Then, you might write `f(5)` and expect to get the value `17`.\n",
    "\n",
    "Python adopts a similar syntax for invoking functions. If there is a named function `foo` that takes a single input, we can invoke `foo` on the value `5` by writing `foo(5)`.\n",
    "\n",
    "There are many built-in functions available in Python. You will meet many in this series of notebooks.\n",
    "\n",
    "Functions are somewhat like production lines that take in some raw material, perform some operation(s), and then send out the resulting (manufactured) object."
   ]
  },
  {
   "cell_type": "markdown",
   "metadata": {},
   "source": [
    "<a><img src=\"figures/function_object.png\" width=\"180\" height=\"180\" border=\"10\" /></a>\n",
    "\n",
    "<np></np><center><b>Figure 1:</b> The function *object*.</center> "
   ]
  },
  {
   "cell_type": "markdown",
   "metadata": {},
   "source": [
    "In this case, we refer to the materials as `arguments` or `inputs` and the resulting object is refered to as `output` or `return value`. This process of taking input, doing something, and then sending back the output is demonstrated in the graphic below."
   ]
  },
  {
   "cell_type": "markdown",
   "metadata": {},
   "source": [
    "<a><img src=\"figures/fcall.gif\" width=\"130\" height=\"180\" border=\"10\" /></a>\n",
    "\n",
    "<np></np><center><b>Figure 2:</b> Function `input-output`.</center> "
   ]
  },
  {
   "cell_type": "markdown",
   "metadata": {},
   "source": [
    "<div align=\"left\">\n",
    "    <a href=\"#Hag2uu0\" class=\"btn btn-default\" data-toggle=\"collapse\"><b>Note</b></a>\n",
    "\n",
    "</div>\n",
    "<div id=\"Hag2uu0\" class=\"collapse\">\n",
    "\n",
    "Don’t confuse the 'output value' of a function with the terms 'cell output' or 'output window'. The output of a function is a Python value and we can never really see the internal representation of a value. But we can draw pictures to help us imagine what values are, or we can print them to see an external representation in the 'cell output' or 'output window'.\n",
    "\n",
    "Perhaps to muddy the waters further, `print` is actually a function itself. All functions produce output values. The `print` function causes things to appear in the output window.\n",
    "\n",
    "</div>"
   ]
  },
  {
   "cell_type": "markdown",
   "metadata": {},
   "source": [
    "It is also possible for programmers to define new functions in their programs. You will learn how to do that later in the course. For now, you just need to learn how to invoke, or call, a function, and understand that the execution of the function returns a computed value."
   ]
  },
  {
   "cell_type": "markdown",
   "metadata": {},
   "source": [
    "I've defined three functions in the cell below, `square`, `add`, and `sub`. The code in that cell can be ignored so as not to bother you (yet) with how functions are defined. `square` takes a single input parameter, and returns that input multiplied by itself. `sub` takes two input parameters and returns the result of subtracting the second from the first. `add` takes two input parameters and returns the result of adding them together. As they stand these functions are basic and not particularly useful since we have the operators`+` `-` and `*` available. But they illustrate how functions work. Figure 3 illustrates how the `square` function works."
   ]
  },
  {
   "cell_type": "markdown",
   "metadata": {},
   "source": [
    "<a><img src=\"figures/square_function.gif\" width=\"280\" height=\"180\" border=\"10\" /></a>\n",
    "\n",
    "<np></np><center><b>Figure 3:</b> The `square` function.</center> "
   ]
  },
  {
   "cell_type": "code",
   "execution_count": null,
   "metadata": {},
   "outputs": [],
   "source": [
    "# In this cell we define the functions square, add and sub so we can use them\n",
    "# throughout the notebook. You can safely ignore the content of this cell\n",
    "# (though you do need to Run it) at this stage but it will do no harm \n",
    "# to take a look if you are interested.\n",
    "\n",
    "def square(x):\n",
    "    return x * x\n",
    "\n",
    "def add(x,y):\n",
    "    return x + y\n",
    "\n",
    "def sub(x,y):\n",
    "    return x - y"
   ]
  },
  {
   "cell_type": "code",
   "execution_count": null,
   "metadata": {},
   "outputs": [],
   "source": [
    "print(square(3))\n",
    "square(5)\n",
    "print(sub(6, 4))\n",
    "print(sub(5, 9))\n",
    "print(sub(9, 5))"
   ]
  },
  {
   "cell_type": "markdown",
   "metadata": {},
   "source": [
    "Notice that when a function takes more than one input parameter, the inputs are separated by a comma. Also notice that the order of the inputs matters. The value before the comma is treated as the first input, the value after it as the second input.\n",
    "\n",
    "Again, remember that when Python performs computations, the results are only shown in the output window if there’s a print statement that gives instructions to do that. In the cell above, `square(5)` produces the value `25` but we never get to see that as cell output because it is not printed."
   ]
  },
  {
   "cell_type": "markdown",
   "metadata": {},
   "source": [
    "### Function calls as part of complex expressions"
   ]
  },
  {
   "cell_type": "markdown",
   "metadata": {},
   "source": [
    "Anywhere in an expression that you can write a literal like a number, you can also write a function invocation that produces a number.\n",
    "\n",
    "For example:"
   ]
  },
  {
   "cell_type": "code",
   "execution_count": null,
   "metadata": {},
   "outputs": [],
   "source": [
    "print(square(3) + 2)\n",
    "print(sub(square(3), square(1+1)))"
   ]
  },
  {
   "cell_type": "markdown",
   "metadata": {},
   "source": [
    "Let’s take a look at how the latter of the above executions unfolds, step-by-step."
   ]
  },
  {
   "cell_type": "markdown",
   "metadata": {},
   "source": [
    "Notice how we must evaluate the expression inside the inner most set of brackets first (nesting in reverse)\n",
    "\n",
    "```\n",
    "print(sub(square(3), square(1+1)))\n",
    "print(sub(9, square(1+1)))\n",
    "print(sub(9, square(2)))\n",
    "print(sub(9, 4))\n",
    "print(5)\n",
    "\n",
    "5\n",
    "```"
   ]
  },
  {
   "cell_type": "markdown",
   "metadata": {},
   "source": [
    "### Functions are objects; brackets invoke functions"
   ]
  },
  {
   "cell_type": "markdown",
   "metadata": {},
   "source": [
    "Remember the earlier mention that some kinds of Python objects don’t have a nice printed representation. Functions are themselves just objects. If you tell Python to print the function object, rather than printing the results of invoking the function object, you’ll get one of those not-so-nice printed representations.\n",
    "\n",
    "Just typing the name of the function refers to the function as an object. Typing the name of the function followed by brackets `()` invokes the function.\n",
    "\n"
   ]
  },
  {
   "cell_type": "code",
   "execution_count": null,
   "metadata": {},
   "outputs": [],
   "source": [
    "print(square)\n",
    "print(square(3))\n",
    "print"
   ]
  },
  {
   "cell_type": "markdown",
   "metadata": {},
   "source": [
    "<a id=\"ref5\"></a>\n",
    "## Data Types\n",
    "\n",
    "<div align=\"right\"><a href=\"#ref00\">back to top</a></div>"
   ]
  },
  {
   "cell_type": "markdown",
   "metadata": {},
   "source": [
    "If you are not sure what class (data type) a value falls into, Python has a function called `type` which can tell you."
   ]
  },
  {
   "cell_type": "code",
   "execution_count": null,
   "metadata": {},
   "outputs": [],
   "source": [
    "print(type(\"Hello, World!\"))\n",
    "print(type(17))\n",
    "print(\"Hello, World\")\n",
    "print(type(3.2))"
   ]
  },
  {
   "cell_type": "markdown",
   "metadata": {},
   "source": [
    "What about values like `\"17\"` and `\"3.2\"`? They look like numbers, but they are in quotation marks like strings."
   ]
  },
  {
   "cell_type": "code",
   "execution_count": null,
   "metadata": {},
   "outputs": [],
   "source": [
    "print(type(\"17\"))\n",
    "print(type(\"3.2\"))"
   ]
  },
  {
   "cell_type": "markdown",
   "metadata": {},
   "source": [
    "They’re strings!\n",
    "\n",
    "Strings in Python can be enclosed in either single quotes (`'`) or double quotes (`\"`), or three of each (`'''` or `\"\"\"`)"
   ]
  },
  {
   "cell_type": "code",
   "execution_count": null,
   "metadata": {},
   "outputs": [],
   "source": [
    "print(type('This is a string.'))\n",
    "print(type(\"And so is this.\"))\n",
    "print(type(\"\"\"and this!\"\"\"))\n",
    "print(type('''and even this...'''))"
   ]
  },
  {
   "cell_type": "markdown",
   "metadata": {},
   "source": [
    "Double quoted strings can contain single quotes inside them, as in `\"Trigger's beard\"`, and single quoted strings can have double quotes inside them, as in `'The bank that likes to say \"Yes!\"'`. Strings enclosed with three occurrences of either quote symbol are called triple quoted strings. They can contain either single or double quotes:"
   ]
  },
  {
   "cell_type": "code",
   "execution_count": null,
   "metadata": {},
   "outputs": [],
   "source": [
    "print('''\"Oh no\", she exclaimed, \"My bike is broken!\"''')"
   ]
  },
  {
   "cell_type": "markdown",
   "metadata": {},
   "source": [
    "Triple quoted strings can even span multiple lines:"
   ]
  },
  {
   "cell_type": "code",
   "execution_count": null,
   "metadata": {},
   "outputs": [],
   "source": [
    "print(\"\"\"This message will output\n",
    "as three lines\n",
    "of text.\"\"\")"
   ]
  },
  {
   "cell_type": "markdown",
   "metadata": {},
   "source": [
    "Python doesn’t care whether you use single or double quotes or the three-of-a-kind quotes to surround strings. Once it has parsed the text of your program or command, the way it stores the value is identical in all cases, and the surrounding quotes are not part of the value."
   ]
  },
  {
   "cell_type": "code",
   "execution_count": null,
   "metadata": {},
   "outputs": [],
   "source": [
    "print('This is a string.')\n",
    "print(\"\"\"And so is this.\"\"\")"
   ]
  },
  {
   "cell_type": "markdown",
   "metadata": {},
   "source": [
    "The Python language developers usually choose to surround their strings with single quotes. What do you think would happen if the string already contained single quotes?\n",
    "\n",
    "When you type a large integer, you might be tempted to use commas between groups of three digits, as in `42,000`. This is not a legal integer in Python, but it does mean something else, which is legal:"
   ]
  },
  {
   "cell_type": "code",
   "execution_count": null,
   "metadata": {},
   "outputs": [],
   "source": [
    "print(\"Join John's revolution\")"
   ]
  },
  {
   "cell_type": "code",
   "execution_count": null,
   "metadata": {},
   "outputs": [],
   "source": [
    "print(42500)\n",
    "print(42,500)"
   ]
  },
  {
   "cell_type": "markdown",
   "metadata": {},
   "source": [
    "That’s probably not what you expected. Because of the comma, Python chose to treat this as a pair of values. In fact, a `print` statement can print any number of values as long as you separate them by commas. Notice that the values are separated by spaces when they are displayed."
   ]
  },
  {
   "cell_type": "code",
   "execution_count": null,
   "metadata": {},
   "outputs": [],
   "source": [
    "print(42,17,56,34,11,4.35,32)\n",
    "print(3.4,\"hello\",45)"
   ]
  },
  {
   "cell_type": "markdown",
   "metadata": {},
   "source": [
    "Remember not to put commas or spaces in your integers, no matter how big they are. Also revisit what we said in a previous notebook: programming languages are strict, the notation is concise, and even the smallest change might mean something quite different from what you intended. "
   ]
  },
  {
   "cell_type": "markdown",
   "metadata": {},
   "source": [
    "<div align=\"left\">\n",
    "    <a href=\"#Hag2700\" class=\"btn btn-default\" data-toggle=\"collapse\"><b>Note</b></a>\n",
    "\n",
    "</div>\n",
    "<div id=\"Hag2700\" class=\"collapse\">\n",
    "\n",
    "All code in this coursebook uses Python 3. If you install Python 2.7 on your machine, `print` will work slightly differently. One difference is that `print()` is not called as a function, so there are no brackets around the values to be printed. However as this is likely to be your first foray into Python programming it is assumed that you will only have cause to install and use Python 3.\n",
    "\n",
    "</div>"
   ]
  },
  {
   "cell_type": "markdown",
   "metadata": {},
   "source": [
    "**Have a go:** "
   ]
  },
  {
   "cell_type": "markdown",
   "metadata": {},
   "source": [
    "1. How can you determine the `type` of a variable?"
   ]
  },
  {
   "cell_type": "markdown",
   "metadata": {},
   "source": [
    "* A. Print out the value and determine the data type based on the value printed.\n",
    "* B. Use the type function.\n",
    "* C. Use it in a known equation and print the result.\n",
    "* D. Look at the declaration of the variable."
   ]
  },
  {
   "cell_type": "markdown",
   "metadata": {},
   "source": [
    "<div align=\"right\">\n",
    "<a href=\"#Hag73\" class=\"btn btn-default\" data-toggle=\"collapse\">Click here for the answer</a>\n",
    "\n",
    "</div>\n",
    "<div id=\"Hag73\" class=\"collapse\">\n",
    "\n",
    "```\n",
    "B. (The type function will tell you which class the variable belongs to)\n",
    "```\n",
    "\n",
    "</div>"
   ]
  },
  {
   "cell_type": "markdown",
   "metadata": {},
   "source": [
    "2. What is the data `type` of ‘this is what kind of data’?"
   ]
  },
  {
   "cell_type": "markdown",
   "metadata": {},
   "source": [
    "* A. Character\n",
    "* B. Integer\n",
    "* C. Float\n",
    "* D. String"
   ]
  },
  {
   "cell_type": "markdown",
   "metadata": {},
   "source": [
    "<div align=\"right\">\n",
    "<a href=\"#Hag63\" class=\"btn btn-default\" data-toggle=\"collapse\">Click here for the answer</a>\n",
    "\n",
    "</div>\n",
    "<div id=\"Hag63\" class=\"collapse\">\n",
    "\n",
    "```\n",
    "D. (Strings can be enclosed in single quotes.)\n",
    "```\n",
    "\n",
    "</div>"
   ]
  },
  {
   "cell_type": "markdown",
   "metadata": {},
   "source": [
    "<a id=\"ref6\"></a>\n",
    "## Type conversion functions\n",
    "\n",
    "<div align=\"right\"><a href=\"#ref00\">back to top</a></div>"
   ]
  },
  {
   "cell_type": "markdown",
   "metadata": {},
   "source": [
    "Sometimes it is necessary to convert values from one type to another. Python provides a few simple functions that will allow us to do that. The functions `int`, `float` and `str` will (attempt to) convert their arguments into types `int`, `float` and `str` respectively. We call these **type conversion** functions.\n",
    "\n",
    "The `int` function can take a floating point number or a string, and turn it into an integer. For floating point numbers, it *discards* the decimal portion of the number - a process called *truncation towards zero* on the number line. Let us see this in action:\n",
    "\n"
   ]
  },
  {
   "cell_type": "code",
   "execution_count": null,
   "metadata": {
    "scrolled": true
   },
   "outputs": [],
   "source": [
    "print(3.14,int(3.14))\n",
    "print(3.9999,int(3.9999))       # This doesn't round to the closest int!\n",
    "print(3.0,int(3.0))\n",
    "print(-3.999,int(-3.999))        # Note that the result is closer to zero\n",
    "\n",
    "print(\"2345\",int(\"2345\"))        # parse a string to produce an int\n",
    "print(17,int(17))                # int even works on integers\n",
    "print(int(\"23litres\"))"
   ]
  },
  {
   "cell_type": "markdown",
   "metadata": {},
   "source": [
    "You will have received a `Traceback` for the expression `print(int(\"23litres\"))`"
   ]
  },
  {
   "cell_type": "markdown",
   "metadata": {},
   "source": [
    "<div align=\"left\">\n",
    "<a href=\"#Hag163\" class=\"btn btn-default\" data-toggle=\"collapse\">Why the error message?</a>\n",
    "\n",
    "</div>\n",
    "<div id=\"Hag163\" class=\"collapse\">\n",
    "\n",
    "**Error** \n",
    "```\n",
    "ValueError: invalid literal for int() with base 10: '23litres' on line 8\n",
    "```\n",
    "\n",
    "**Description**\n",
    "```\n",
    "A ValueError most often occurs when you pass a parameter to a function;\n",
    "the function is expecting one type and you pass another.\n",
    "```\n",
    "\n",
    "**To Fix**\n",
    "```\n",
    "The error message gives you a pretty good hint about the name of \n",
    "the function as well as the value that is incorrect. Look at the \n",
    "error message closely and then trace back to the variable \n",
    "containing the problematic value.\n",
    "```\n",
    "\n",
    "</div>\n"
   ]
  },
  {
   "cell_type": "markdown",
   "metadata": {},
   "source": [
    "The last case shows that a string has to be a syntactically legal number, otherwise you’ll get one of those frustrating runtime errors. Modify the example by deleting the `litres` and rerun the cell. You should see the integer `23`.\n",
    "\n",
    "The type converter `float` can turn an integer or a syntactically legal string into a floating point number."
   ]
  },
  {
   "cell_type": "code",
   "execution_count": null,
   "metadata": {},
   "outputs": [],
   "source": [
    "print(float(\"123.45\"))\n",
    "print(type(float(\"123.45\")))"
   ]
  },
  {
   "cell_type": "markdown",
   "metadata": {},
   "source": [
    "The type converter `str` turns its argument into a string. Remember that when we print a string, the quotes are removed in the cell output. However, if we print the type, we can see that it is definitely `str`."
   ]
  },
  {
   "cell_type": "code",
   "execution_count": null,
   "metadata": {},
   "outputs": [],
   "source": [
    "print(str(17))\n",
    "print(str(123.45))\n",
    "print(type(str(123.45)))"
   ]
  },
  {
   "cell_type": "markdown",
   "metadata": {},
   "source": [
    "Because we can only print one type at a time, if we want to print out a string and an integer then we have to convert the type. Think about which type you’d need to convert, a string to an integer or an integer to a string?"
   ]
  },
  {
   "cell_type": "markdown",
   "metadata": {},
   "source": [
    "<a><img src=\"figures/type_cast.gif\" width=\"280\" height=\"180\" border=\"10\" /></a>\n",
    "\n",
    "<center><b>Figure 4:</b> Type conversion for printing.</center> "
   ]
  },
  {
   "cell_type": "markdown",
   "metadata": {},
   "source": [
    "**Have a go:**"
   ]
  },
  {
   "cell_type": "markdown",
   "metadata": {},
   "source": [
    "1. What value is printed when the following statement executes?"
   ]
  },
  {
   "cell_type": "code",
   "execution_count": null,
   "metadata": {},
   "outputs": [],
   "source": [
    "print(int(53.785)) # try to answer this before executing"
   ]
  },
  {
   "cell_type": "markdown",
   "metadata": {},
   "source": [
    "* A. Nothing is printed. It generates a runtime error.\n",
    "* B. 53\n",
    "* C. 54\n",
    "* D. 53.785"
   ]
  },
  {
   "cell_type": "markdown",
   "metadata": {},
   "source": [
    "<div align=\"right\">\n",
    "<a href=\"#Hag173\" class=\"btn btn-default\" data-toggle=\"collapse\">Click here for the answer</a>\n",
    "\n",
    "</div>\n",
    "<div id=\"Hag173\" class=\"collapse\">\n",
    "\n",
    "```\n",
    "B. (The int function truncates all values after the decimal \n",
    "    and prints the integer value)\n",
    "\n",
    "```\n",
    "\n",
    "</div>"
   ]
  },
  {
   "cell_type": "markdown",
   "metadata": {},
   "source": [
    "<a id=\"ref7\"></a>\n",
    "## Variables\n",
    "\n",
    "<div align=\"right\"><a href=\"#ref00\">back to top</a></div>"
   ]
  },
  {
   "cell_type": "markdown",
   "metadata": {},
   "source": [
    "One of the most powerful features of a programming language is the ability to manipulate **variables**. A variable is a name that refers to a value.\n",
    "\n",
    "**Assignment statements** create new variables and also give them values to refer to."
   ]
  },
  {
   "cell_type": "code",
   "execution_count": null,
   "metadata": {},
   "outputs": [],
   "source": [
    "message = \"What's up, Doc?\"\n",
    "n = 17\n",
    "pi = 3.14159"
   ]
  },
  {
   "cell_type": "markdown",
   "metadata": {},
   "source": [
    "This example makes three assignments. The first assigns the string value `\"What's up, Doc?\"` to a new variable named `message`. The second assigns the integer `17` to `n`, and the third assigns the floating-point number `3.14159` to a variable called `pi`.\n",
    "\n",
    "The **assignment token**, `=`, should not be confused with *equality* (we will see later that equality uses the `==` token). The assignment statement links a *name*, on the left hand side of the `=` operator, with a *value*, on the right hand side. This is why you will get an error if you enter:"
   ]
  },
  {
   "cell_type": "code",
   "execution_count": null,
   "metadata": {},
   "outputs": [],
   "source": [
    "17=n"
   ]
  },
  {
   "cell_type": "markdown",
   "metadata": {},
   "source": [
    "<div align=\"left\">\n",
    "    <a href=\"#Hag273\" class=\"btn btn-default\" data-toggle=\"collapse\"><b>Tip</b></a>\n",
    "\n",
    "</div>\n",
    "<div id=\"Hag273\" class=\"collapse\">\n",
    "\n",
    "When reading or writing code, **think** `“n is assigned 17”` or `“n gets the value 17”` or `“n is a reference to the object 17”` or `“n refers to the object 17”`. **Don’t think** `“n equals 17”`.\n",
    "\n",
    "</div>"
   ]
  },
  {
   "cell_type": "markdown",
   "metadata": {},
   "source": [
    "A common way to represent variables on paper is to write the name with an arrow pointing to the variable’s value. This kind of figure, known as a **reference diagram**, is often called a **state snapshot** because it shows what state each of the variables is in at a particular instant in time. (Think of it as the variable’s state of mind). This diagram shows the result of executing the assignment statements shown above."
   ]
  },
  {
   "cell_type": "markdown",
   "metadata": {},
   "source": [
    "![title](figures/refdiagram1.png)\n",
    "\n",
    "<np></np><center><b>Figure 5:</b> State snapshot</center> "
   ]
  },
  {
   "cell_type": "markdown",
   "metadata": {},
   "source": [
    "If your program includes a variable in any expression, whenever that expression is executed it will produce the value that is linked to the variable at the time of execution. In other words, evaluating a variable looks up its value."
   ]
  },
  {
   "cell_type": "code",
   "execution_count": null,
   "metadata": {},
   "outputs": [],
   "source": [
    "message = \"What's up, Doc?\"\n",
    "n = 17\n",
    "pi = 3.14159\n",
    "\n",
    "print(message) # note \"What's up, Doc?\" gets printed - the VALUE assigned to variable message\n",
    "print(n)\n",
    "print(pi)"
   ]
  },
  {
   "cell_type": "markdown",
   "metadata": {},
   "source": [
    "Now, as you step through the statements, you can see the variables and the values they reference as those references are created.\n",
    "\n",
    "We use variables in a program to “remember” things, like the current score at a football match. But variables are *variable*. This means they can change over time, just like the scoreboard at the football match. You can assign a value to a variable, and later assign a different value to the same variable."
   ]
  },
  {
   "cell_type": "markdown",
   "metadata": {},
   "source": [
    "<div align=\"left\">\n",
    "    <a href=\"#Hag270\" class=\"btn btn-default\" data-toggle=\"collapse\"><b>Note</b></a>\n",
    "\n",
    "</div>\n",
    "<div id=\"Hag270\" class=\"collapse\">\n",
    "\n",
    "This is different from mathematics. In algebra, if you give `x` the value 3, it cannot change to refer to a different value half-way through a calculation!\n",
    "\n",
    "</div>"
   ]
  },
  {
   "cell_type": "markdown",
   "metadata": {},
   "source": [
    "To see this, read and then run the following code. You’ll notice we change the value of `day` three times, and on the third assignment we even give it a value that is of a different type."
   ]
  },
  {
   "cell_type": "code",
   "execution_count": null,
   "metadata": {},
   "outputs": [],
   "source": [
    "day = \"Thursday\"\n",
    "print(day)\n",
    "day = \"Friday\"\n",
    "print(day)\n",
    "day = 21\n",
    "print(day)"
   ]
  },
  {
   "cell_type": "markdown",
   "metadata": {},
   "source": [
    "A great deal of programming is about having the computer remember things. For example, we might want to keep track of the number of missed calls on your phone. Each time another call is missed, we arrange to update or change the variable so that it will always reflect the correct value.\n",
    "\n",
    "Any place in a Python program where a number or string is expected, you can put a variable name instead. The Python interpreter will substitute the value for the variable name.\n",
    "\n",
    "For example, we can find out the data type of the current value of a variable by putting the variable name inside brackets following the function name `type`."
   ]
  },
  {
   "cell_type": "code",
   "execution_count": null,
   "metadata": {},
   "outputs": [],
   "source": [
    "message = \"What's up, Doc?\"\n",
    "n = 17\n",
    "pi = 3.14159\n",
    "\n",
    "print(type(message))\n",
    "print(type(n))\n",
    "print(type(pi))"
   ]
  },
  {
   "cell_type": "markdown",
   "metadata": {},
   "source": [
    "<div align=\"left\">\n",
    "    <a href=\"#Hag070\" class=\"btn btn-default\" data-toggle=\"collapse\"><b>Note</b></a>\n",
    "\n",
    "</div>\n",
    "<div id=\"Hag070\" class=\"collapse\">\n",
    "\n",
    "If you have programmed in another language such as Java or C++, you may be used to the idea that variables have types that are declared when the variable name is first introduced in a program. Python doesn’t do that. *Variables* don’t have types in Python; *values* do. That means that it is acceptable in Python to have a variable name refer to an integer and later have the same variable name refer to a string. This is generally not a good idea, because it will confuse human readers (including yourself), but the Python interpreter will not complain.\n",
    "\n",
    "</div>"
   ]
  },
  {
   "cell_type": "markdown",
   "metadata": {},
   "source": [
    "**Have a go:**"
   ]
  },
  {
   "cell_type": "markdown",
   "metadata": {},
   "source": [
    "1. What is printed when the following statements execute?"
   ]
  },
  {
   "cell_type": "code",
   "execution_count": null,
   "metadata": {},
   "outputs": [],
   "source": [
    "day = \"Thursday\"\n",
    "day = 32.5\n",
    "day = 19\n",
    "print(day)"
   ]
  },
  {
   "cell_type": "markdown",
   "metadata": {},
   "source": [
    "* A. Nothing is printed. A runtime error occurs.\n",
    "* B. Thursday\n",
    "* C. 32.5\n",
    "* D. 19"
   ]
  },
  {
   "cell_type": "markdown",
   "metadata": {},
   "source": [
    "<div align=\"right\">\n",
    "<a href=\"#Hag073\" class=\"btn btn-default\" data-toggle=\"collapse\">Click here for the answer</a>\n",
    "\n",
    "</div>\n",
    "<div id=\"Hag073\" class=\"collapse\">\n",
    "\n",
    "```\n",
    "D. (The variable day will contain the last value assigned to it \n",
    "    when it is printed.)\n",
    "\n",
    "```\n",
    "\n",
    "</div>"
   ]
  },
  {
   "cell_type": "markdown",
   "metadata": {},
   "source": [
    "<a id=\"ref8\"></a>\n",
    "## Variable Names and Keywords\n",
    "\n",
    "<div align=\"right\"><a href=\"#ref00\">back to top</a></div>"
   ]
  },
  {
   "cell_type": "markdown",
   "metadata": {},
   "source": [
    "**Variable names** can be arbitrarily long. They can contain both letters and digits, but they have to begin with a letter or the underscore. Although it is legal to use uppercase letters, normally we don’t. If you do, remember that case matters. `Janice` and `janice` and `jaNice` are different variables. And don't forget, variable names *never* contain spaces."
   ]
  },
  {
   "cell_type": "markdown",
   "metadata": {},
   "source": [
    "The underscore character (`_`) can also appear in a name. It is often used in names with multiple words, such as `my_name` or `price_of_tea_in_china`. There are some situations in which names beginning with an underscore have special meaning, so a safe rule for beginners (and perhaps for those who are not beginners) is to start all variable names with a letter.\n",
    "\n",
    "If you give a variable an illegal name, you get a syntax error. In the example below, each of the variable names is illegal."
   ]
  },
  {
   "cell_type": "code",
   "execution_count": null,
   "metadata": {},
   "outputs": [],
   "source": [
    "76trombones = \"big parade\"\n",
    "more$ = 1000000\n",
    "class = \"Python for FinTech 007\""
   ]
  },
  {
   "cell_type": "markdown",
   "metadata": {},
   "source": [
    "`76trombones` is illegal because it does not begin with a letter (or the underscore). `more$` \n",
    "is illegal because it contains an illegal character, the dollar sign. But what’s wrong with `class`?\n",
    "\n",
    "It turns out that `class` is one of the Python **keywords**. Keywords (aka reserved words) define the language’s syntax rules and structure, and they cannot be used as variable names. Python has thirty-something keywords (and every now and again improvements to Python introduce or eliminate one or two, hence the use of the term thirty-something):"
   ]
  },
  {
   "cell_type": "markdown",
   "metadata": {},
   "source": [
    "<style type=\"text/css\">\n",
    ".tg  {border-collapse:collapse;border-spacing:0;border:none;}\n",
    ".tg td{font-family:Arial, sans-serif;font-size:14px;padding:10px 5px;border-style:solid;border-width:0px;overflow:hidden;word-break:normal;}\n",
    ".tg th{font-family:Arial, sans-serif;font-size:14px;font-weight:normal;padding:10px 5px;border-style:solid;border-width:0px;overflow:hidden;word-break:normal;}\n",
    ".tg .tg-yqpd{border-color:#ffffff;text-align:left}\n",
    ".tg .tg-zv4m{border-color:#ffffff;text-align:left;vertical-align:top}\n",
    "</style>\n",
    "<table class=\"tg\">\n",
    "  <tr>\n",
    "    <td class=\"tg-yqpd\">and</td>\n",
    "    <td class=\"tg-yqpd\">as</td>\n",
    "    <td class=\"tg-yqpd\">assert</td>\n",
    "    <td class=\"tg-zv4m\">break</td>\n",
    "    <td class=\"tg-zv4m\">class</td>\n",
    "    <td class=\"tg-zv4m\">continue</td>\n",
    "  </tr>\n",
    "  <tr>\n",
    "    <td class=\"tg-yqpd\">def</td>\n",
    "    <td class=\"tg-yqpd\">del</td>\n",
    "    <td class=\"tg-yqpd\">elif</td>\n",
    "    <td class=\"tg-zv4m\">else</td>\n",
    "    <td class=\"tg-zv4m\">except</td>\n",
    "    <td class=\"tg-zv4m\">exec</td>\n",
    "  </tr>\n",
    "  <tr>\n",
    "    <td class=\"tg-yqpd\">finally</td>\n",
    "    <td class=\"tg-yqpd\">for</td>\n",
    "    <td class=\"tg-yqpd\">from</td>\n",
    "    <td class=\"tg-zv4m\">global</td>\n",
    "    <td class=\"tg-zv4m\">if</td>\n",
    "    <td class=\"tg-zv4m\">import</td>\n",
    "  </tr>\n",
    "  <tr>\n",
    "    <td class=\"tg-yqpd\">in</td>\n",
    "    <td class=\"tg-yqpd\">is</td>\n",
    "    <td class=\"tg-yqpd\">lambda</td>\n",
    "    <td class=\"tg-zv4m\">nonlocal</td>\n",
    "    <td class=\"tg-zv4m\">not</td>\n",
    "    <td class=\"tg-zv4m\">or</td>\n",
    "  </tr>\n",
    "  <tr>\n",
    "    <td class=\"tg-yqpd\">pass</td>\n",
    "    <td class=\"tg-yqpd\">raise</td>\n",
    "    <td class=\"tg-yqpd\">return</td>\n",
    "    <td class=\"tg-zv4m\">try</td>\n",
    "    <td class=\"tg-zv4m\">while</td>\n",
    "    <td class=\"tg-zv4m\">with</td>\n",
    "  </tr>\n",
    "  <tr>\n",
    "    <td class=\"tg-zv4m\">yield</td>\n",
    "    <td class=\"tg-zv4m\">True</td>\n",
    "    <td class=\"tg-zv4m\">False</td>\n",
    "    <td class=\"tg-zv4m\">None</td>\n",
    "    <td class=\"tg-zv4m\"> </td>\n",
    "    <td class=\"tg-zv4m\"></td>\n",
    "  </tr>\n",
    "</table>\n",
    "\n",
    "<np></np><center><b>Table 1:</b> Python reserved words.</center> "
   ]
  },
  {
   "cell_type": "markdown",
   "metadata": {},
   "source": [
    "You might want to keep this list handy. If the interpreter complains about one of your variable names and you don’t know why, it may be on this list."
   ]
  },
  {
   "cell_type": "markdown",
   "metadata": {},
   "source": [
    "**Have a go:**"
   ]
  },
  {
   "cell_type": "markdown",
   "metadata": {},
   "source": [
    "1. True or False: the following is a legal variable name in Python,"
   ]
  },
  {
   "cell_type": "markdown",
   "metadata": {},
   "source": [
    "```\n",
    "A_good_grade_is_A+\n",
    "```"
   ]
  },
  {
   "cell_type": "markdown",
   "metadata": {},
   "source": [
    "* A. True\n",
    "* B. False"
   ]
  },
  {
   "cell_type": "markdown",
   "metadata": {},
   "source": [
    "<div align=\"right\">\n",
    "<a href=\"#Hag7y3\" class=\"btn btn-default\" data-toggle=\"collapse\">Click here for the answer</a>\n",
    "\n",
    "</div>\n",
    "<div id=\"Hag7y3\" class=\"collapse\">\n",
    "\n",
    "```\n",
    "B. (The + character is not allowed in variable names \n",
    "    (everything else in this name is fine))\n",
    "```\n",
    "\n",
    "</div>"
   ]
  },
  {
   "cell_type": "markdown",
   "metadata": {},
   "source": [
    "<a id=\"ref9\"></a>\n",
    "## Choosing Variable Names\n",
    "\n",
    "<div align=\"right\"><a href=\"#ref00\">back to top</a></div>"
   ]
  },
  {
   "cell_type": "markdown",
   "metadata": {},
   "source": [
    "Programmers generally choose names for variables that are meaningful to human readers of the program — they help the programmer document, or remember, what the variable is used for. \n"
   ]
  },
  {
   "cell_type": "markdown",
   "metadata": {},
   "source": [
    "<div align=\"left\">\n",
    "    <a href=\"#Hagz70\" class=\"btn btn-default\" data-toggle=\"collapse\"><b>Note</b></a>\n",
    "\n",
    "</div>\n",
    "<div id=\"Hagz70\" class=\"collapse\">\n",
    "\n",
    "\n",
    "When new to programming we sometimes confuse “meaningful to human readers” with “meaningful to the computer”. So we mistakenly think that because we’ve named a variable `average` or `pi`, that the Python interpreter will realise that we intend to calculate an average, or associate the variable `pi` with the value `3.14159`. This is categorically not the case; the computer attaches no semantic meaning to variable names. The Python interpreter cannot read English, or any other written or spoken language for that matter. It understands only the Python programming language!\n",
    "\n",
    "Some people advise not to choose meaningful names when taking a introductory programming course — not because it isn't a good idea per se, but because they’re trying to reinforce the message that *you*, the programmer, has to *write* some program code to *calculate* the average (neither the word `average` nor any of its 1260 permutations (e.g., `egareva`) means a single thing to Python), so do not assume any connection between the *spelling* of a variable name and what Python makes of that variable name. \n",
    "\n",
    "I believe it is a good idea to get into the habit, early on, of mnemonic variable names provided you bear in mind what has just been explained.\n",
    "\n",
    "\n",
    "</div>"
   ]
  },
  {
   "cell_type": "markdown",
   "metadata": {},
   "source": [
    "<a id=\"ref10\"></a>\n",
    "## Statements and Expressions\n",
    "\n",
    "<div align=\"right\"><a href=\"#ref00\">back to top</a></div>"
   ]
  },
  {
   "cell_type": "markdown",
   "metadata": {},
   "source": [
    "A **statement** is an instruction that the Python interpreter can execute. You have only seen the assignment statement so far. Some other kinds of statements that you’ll see in this coursebook are `while` statements, `for` statements, `if` statements, and `import` statements. (There are other kinds too!)\n",
    "\n",
    "An **expression** is a combination of literals, variable names, operators, and calls to functions. Expressions need to be evaluated. The result of evaluating an expression is a value or object."
   ]
  },
  {
   "cell_type": "markdown",
   "metadata": {},
   "source": [
    "<a><img src=\"figures/expression_value_type.png\" width=\"430\" height=\"180\" border=\"10\" /></a>\n",
    "\n",
    "\n",
    "\n",
    "<np></np><center><b>Figure 6:</b> Expressions, values and types.</center> "
   ]
  },
  {
   "cell_type": "markdown",
   "metadata": {},
   "source": [
    "If you ask Python to `print` an expression, the interpreter *evaluates* the expression and displays the result."
   ]
  },
  {
   "cell_type": "code",
   "execution_count": null,
   "metadata": {},
   "outputs": [],
   "source": [
    "print(1 + 1 + (2 * 3))\n",
    "print(len(\"hello\"))"
   ]
  },
  {
   "cell_type": "markdown",
   "metadata": {},
   "source": [
    "In this example `len` is a built-in Python function that returns the number of characters in a string.\n",
    "\n",
    "The *evaluation of an expression* produces a value, which is why expressions can appear on the right hand side of assignment statements. A literal all by itself is a simple expression, and so is a variable."
   ]
  },
  {
   "cell_type": "code",
   "execution_count": null,
   "metadata": {},
   "outputs": [],
   "source": [
    "y = 3.14\n",
    "x = len(\"hello\")\n",
    "print(x)\n",
    "print(y)\n"
   ]
  },
  {
   "cell_type": "markdown",
   "metadata": {},
   "source": [
    "In a program, anywhere that a literal value (a string or a number) is acceptable, a more complicated expression is also acceptable. Here are the kinds of expressions we’ve considered thus far:\n",
    "\n",
    "**literal**\n",
    "\n",
    "e.g., `“Hello”` or `3.14`\n",
    "\n",
    "**variable name**\n",
    "\n",
    "e.g., `x` or `y`\n",
    "\n",
    "**operator expression**\n",
    "\n",
    "`<expression> operator-name <expression>`\n",
    "\n",
    "**function call expressions**\n",
    "\n",
    "`<expression>(<expressions separated by commas>)`\n",
    "    \n",
    "Notice that binary-operator expressions (such as `+` and `*`) have expressions (you can think of these intuitively as sub-expressions but they are expressions in their own right) before <u>and</u> after the operator (hence the term *binary* - binary means they combine *two* operands). Each of these can themselves be simple or complex expressions. In that way, you can build up to having quite complicated expressions."
   ]
  },
  {
   "cell_type": "code",
   "execution_count": null,
   "metadata": {},
   "outputs": [],
   "source": [
    "print(2 * len(\"hello\") + len(\"goodbye\"))"
   ]
  },
  {
   "cell_type": "markdown",
   "metadata": {},
   "source": [
    "Similarly, when calling a function, instead of putting a literal inside the brackets, a complex expression can be placed inside the brackets. (here we are making calls to the functions `square` and `sub` defined ealrier in this notebook)."
   ]
  },
  {
   "cell_type": "code",
   "execution_count": null,
   "metadata": {},
   "outputs": [],
   "source": [
    "x = 2\n",
    "y = 1\n",
    "print(square(y + 3))\n",
    "print(square(y + square(x)))\n",
    "print(sub(square(y), square(x)))\n"
   ]
  },
  {
   "cell_type": "markdown",
   "metadata": {},
   "source": [
    "With a function call, it’s even possible to have a complex expression before the left bracket, as long as that expression evaluates to a function object. For now, though, we will just use variable names (like `square`,`sub`, and `len`) that are directly bound to function objects.\n",
    "\n",
    "It is important to start learning to read code that contains complex expressions. The Python interpreter examines any line of code and parses it into components. For example, if it sees the assignment symbol `=`, it will try to treat the whole line as an assignment statement. It will expect to see a valid variable name to the left of the `=`, and will parse everything to the right of the `=` as an expression. Additionally, it will try to determine whether the right side is a literal, a variable name, an operator expression, or a function call expression. If it is an operator expression, it will further try to parse the sub-expressions before and after the operator. And so on. You should learn to parse lines of code in the same way. Embrace the Python in you.\n",
    "\n",
    "In order to evaluate an operator expression, the Python interpreter first completely evaluates the expression before the operator, then the one after, then combines the two resulting values using the operator. In order to evaluate a function call expression, the interpreter evaluates the expression before the brackets (i.e., it looks up the name of the function). Then it tries to evaluate each of the expressions inside the brackets. There may be more than one, separated by commas. The values of those expressions are passed as inputs to the function when the function is called.\n",
    "\n",
    "If a function call expression is a sub-expression of some more complicated expression, as `square(y)` is in `sub(square(y), square(x))` , then the return value from `square(y)` is passed as an input to the `sub` function. This is one of the tricky things that you will benefit greatly from getting used to working out when you read (or write) code. In this example, the `square` function is called (twice) before the `sub` function is called, even though the `sub` function comes first when reading the code from left to right. In the following example we will adopt the notation of `add` to indicate that Python has looked up the name `add` and determined that it is a function object."
   ]
  },
  {
   "cell_type": "code",
   "execution_count": null,
   "metadata": {},
   "outputs": [],
   "source": [
    "x = -5\n",
    "y = 7\n",
    "add(square(y), square(x))"
   ]
  },
  {
   "cell_type": "markdown",
   "metadata": {},
   "source": [
    "<div align=\"left\">\n",
    "    <a href=\"#Hagp70\" class=\"btn btn-default\" data-toggle=\"collapse\"><b>Step-by-step evaluation</b></a>\n",
    "\n",
    "</div>\n",
    "<div id=\"Hagp70\" class=\"collapse\">\n",
    "\n",
    "add(square(y), square(x))\n",
    "\n",
    "*  1. `add(`<b>square(y)</b>,square(x)`)` .....<here function `add()` is evaluating its **first argument**>\n",
    "*  2. add(`square(`<b>y</b>`)`,square(x)) .....<here function `square()` is evaluating its **only argument**>\n",
    "*  3. add(`square(`<b>7</b>`)`,square(x)) .....<here `square(y)` accesses the value of `y` from memory> \n",
    "*  4. add(<b>49</b>,square(x)).................<here `square(7)` returns `49`>  \n",
    "*  5. `add(`square(y),<b>square(x)</b>`)`......<here function `add` is evaluating its **second argument**>\n",
    "*  6. add(49, `square(`<b>x</b>`)`)............<here function `square` is evaluating its **only argument**>\n",
    "*  7. add(49, `square(`<b>-5</b>`)`)...........<here `square(x)` accesses the value of `x` from memory>\n",
    "*  8. add(49,`25`).............................<here `square(-5)` returns `25`>\n",
    "*  9. `add(`<b>49</b>,<b>25</b>`)`.............<here `add(49,25)` returns `74`>\n",
    "* 10. `74`.....................................<here `74` is printed to the console                                \n",
    "\n",
    "</div>"
   ]
  },
  {
   "cell_type": "markdown",
   "metadata": {},
   "source": [
    "**Have a go:**"
   ]
  },
  {
   "cell_type": "markdown",
   "metadata": {},
   "source": [
    "1. Arrange the *code* fragments below in the order that the Python interpreter would evaluate them. Assume `x = 2` and `y = 3`. Here the interpreter is executing `square(x + sub(square(y), 2 *x))`."
   ]
  },
  {
   "cell_type": "markdown",
   "metadata": {},
   "source": [
    "* A. look up the variable `x` to get `2`\n",
    "* B. multiply `2*2` to get `4`\n",
    "* C. add `2` and `5` to get `7`\n",
    "* D. look up the variable `sub` to get the functon object\n",
    "* E. look up the variable `square` to get the function object\n",
    "* F. call the `square` function on input `3`, returning the value `9`\n",
    "* G. call the `square` function, again, on input `7` returning the value `49`\n",
    "* H. look up the variable `x`, again, to get `2`\n",
    "* I. look up the variable `y` to get `3`\n",
    "* J. call the `sub` function, passing inputs `9` and `4`, returning the value `5`\n",
    "* K. look up the variable `square` again, to get the function object"
   ]
  },
  {
   "cell_type": "markdown",
   "metadata": {},
   "source": [
    "<div align=\"right\">\n",
    "<a href=\"#H7y3\" class=\"btn btn-default\" data-toggle=\"collapse\">Click here for the answer</a>\n",
    "\n",
    "</div>\n",
    "<div id=\"H7y3\" class=\"collapse\">\n",
    "\n",
    "```\n",
    "E. look up the variable square to get the function object\n",
    "A. look up the variable x to get 2\n",
    "D. look up the variable sub to get the functon object\n",
    "K. look up the variable square again, to get the function object\n",
    "I. look up the variable y to get 3\n",
    "F. call the square function on input 3, returning the value 9\n",
    "H. look up the variable x, again, to get 2\n",
    "B. multiply 2*2 to get 4\n",
    "J. call the sub function, passing inputs 9 and 4, returning the \n",
    "value 5\n",
    "C. add 2 and 5 to get 7\n",
    "G. call the square function, again, on input 7 returning the \n",
    "value 49\n",
    "\n",
    "```\n",
    "\n",
    "\n",
    "</div>"
   ]
  },
  {
   "cell_type": "markdown",
   "metadata": {},
   "source": [
    "<a id=\"ref11\"></a>\n",
    "## Order of Operations\n",
    "\n",
    "<div align=\"right\"><a href=\"#ref00\">back to top</a></div>"
   ]
  },
  {
   "cell_type": "markdown",
   "metadata": {},
   "source": [
    "When more than one operator appears in an expression, the order of evaluation depends on the rules of precedence. Python follows the familiar precedence rules for its mathematical operators.\n",
    "\n",
    "1. *Brackets* have the highest precedence and can be used to force an expression to evaluate in the order you want. Since expressions in brackets are evaluated first, `2 * (3-1)` is `4`, and `(1+1)**(5-2)` is `8`. You can also use brackets to make an expression easier to read, as in `(minute * 100) / 60`: in this case, the brackets don’t change the result, but they reinforce that the expression in brackets will be evaluated first.\n",
    "\n",
    "2. *Exponentiation* has the next highest precedence, so `2**1+1` is `3` and not `4`, and `3*1**3` is `3` and not `27`. Can you explain why?\n",
    "\n",
    "3. *Multiplication* and **both** *division* operators (`/` and `//`) have the same precedence, which is higher than *addition* and *subtraction*, which also have the same precedence. So `2*3-1` yields `5` rather than `4`, and `5-2*2` is `1`, not `6`.\n",
    "\n",
    "4. *Operators* with the same precedence are evaluated from left-to-right. In algebra they are said to be left-associative. So in the expression `6-3+2`, the subtraction happens first, yielding `3`. We then add `2` to get the result `5`. If the operations had been evaluated from right to left, the result would have been `6-(3+2)`, which is `1`."
   ]
  },
  {
   "cell_type": "markdown",
   "metadata": {},
   "source": [
    "<div align=\"left\">\n",
    "    <a href=\"#Hagz0070\" class=\"btn btn-default\" data-toggle=\"collapse\"><b>Note</b></a>\n",
    "\n",
    "</div>\n",
    "<div id=\"Hagz0070\" class=\"collapse\">\n",
    "\n",
    "Due to limitations in expressing compounded exponentiations on the keyboard, an exception to the left-to-right left-associative rule is the exponentiation operator **. A useful hint is to use brackets to force the order you want when exponentiation is involved, see below:**\n",
    "\n",
    "</div>"
   ]
  },
  {
   "cell_type": "code",
   "execution_count": null,
   "metadata": {},
   "outputs": [],
   "source": [
    "print(2 ** 3 ** 2)     # the right-most ** operator gets done first!\n",
    "print((2 ** 3) ** 2)   # use brackets to force the order you want!"
   ]
  },
  {
   "cell_type": "markdown",
   "metadata": {},
   "source": [
    "<div align=\"left\">\n",
    "    <a href=\"#Hagz1070\" class=\"btn btn-default\" data-toggle=\"collapse\"><b>Note</b></a>\n",
    "\n",
    "</div>\n",
    "<div id=\"Hagz1070\" class=\"collapse\">\n",
    "\n",
    "This is a second way that brackets are used in Python. The first way we’ve already seen is that () indicates a function call, with the inputs going inside the brackets. How can Python discern when brackets specify a call to a function, and when they are just forcing the order of operations for potentially ambiguous operator expressions?\n",
    "\n",
    "The answer is that if there’s an expression to the left of the brackets that evaluates to a function object, then the brackets indicate a function call, and otherwise not. You will soon get used to drawing the same inference when you see brackets; is this a function call, or just specifying precedence?\n",
    "\n",
    "</div>"
   ]
  },
  {
   "cell_type": "markdown",
   "metadata": {},
   "source": [
    "**Have a go:**"
   ]
  },
  {
   "cell_type": "markdown",
   "metadata": {},
   "source": [
    "1. What is the value of the following expression:"
   ]
  },
  {
   "cell_type": "code",
   "execution_count": null,
   "metadata": {},
   "outputs": [],
   "source": [
    "16 - 2 * 5 // 3 + 1    # try to evaluate this before running the cell to check your answer"
   ]
  },
  {
   "cell_type": "markdown",
   "metadata": {},
   "source": [
    "* A. 14\n",
    "* B. 24\n",
    "* C.  3\n",
    "* D. 13.667"
   ]
  },
  {
   "cell_type": "markdown",
   "metadata": {},
   "source": [
    "<div align=\"right\">\n",
    "<a href=\"#H7y388\" class=\"btn btn-default\" data-toggle=\"collapse\">Click here for the answer</a>\n",
    "\n",
    "</div>\n",
    "<div id=\"H7y388\" class=\"collapse\">\n",
    "\n",
    "```\n",
    "A. 14 (Using brackets to clarify things, the expression is \n",
    "       evaluated as (2*5) first, then (10 // 3), then 16-3, \n",
    "       and then 13+1)\n",
    "\n",
    "```\n",
    "\n",
    "\n",
    "</div>"
   ]
  },
  {
   "cell_type": "markdown",
   "metadata": {},
   "source": [
    "<a id=\"ref12\"></a>\n",
    "## Reassignment\n",
    "\n",
    "<div align=\"right\"><a href=\"#ref00\">back to top</a></div>"
   ]
  },
  {
   "cell_type": "markdown",
   "metadata": {},
   "source": [
    "As mentioned previously, it is allowable to make more than one assignment to the same variable. A new assignment makes an existing variable refer to the new value (and cease referring to the old value)."
   ]
  },
  {
   "cell_type": "code",
   "execution_count": null,
   "metadata": {},
   "outputs": [],
   "source": [
    "bruce = 5\n",
    "print(bruce)\n",
    "bruce = 7\n",
    "print(bruce)"
   ]
  },
  {
   "cell_type": "markdown",
   "metadata": {},
   "source": [
    "The first time `bruce` is printed, its value is `5`, and the second time, its value is `7`. The assignment statement changes the value (the object) that `bruce` refers to.\n",
    "\n",
    "Here is what **reassignment** looks like in a reference diagram:"
   ]
  },
  {
   "cell_type": "markdown",
   "metadata": {},
   "source": [
    "<a><img src=\"figures/reassign1.png\" width=\"220\" height=\"180\" border=\"10\" /></a>\n",
    "\n",
    "<np></np><center><b>Figure 7:</b> Variable-value reassignment.</center> "
   ]
  },
  {
   "cell_type": "markdown",
   "metadata": {},
   "source": [
    "It is important to note that in mathematics, a statement of equality is always true. If `a is equal to b` now, then `a will always equal to b`. In Python, an assignment statement can make two variables refer to the same object and therefore have the same value. They appear to be equal. However, because of the possibility of reassignment, they don’t have to stay that way:"
   ]
  },
  {
   "cell_type": "code",
   "execution_count": null,
   "metadata": {},
   "outputs": [],
   "source": [
    "a = 5\n",
    "b = a    # after executing this line, a and b are now equal\n",
    "print(a,b)\n",
    "a = 3    # after executing this line, a and b are no longer equal (this is line 4)\n",
    "print(a,b)"
   ]
  },
  {
   "cell_type": "markdown",
   "metadata": {},
   "source": [
    "Line 4 changes the value of `a` but does not change the value of `b`, so they are no longer equal. We shall have more to say about equality in an upcoming notebook."
   ]
  },
  {
   "cell_type": "markdown",
   "metadata": {},
   "source": [
    "**Developing a mental model of how Python evaluates**\n",
    "\n",
    "It is important to develop a good mental model of the steps the Python interpreter takes when evaluating an assignment statement. In an assignment statement, the interpreter first evaluates the code on the right hand side of the assignment operator. It then gives a name to whatever that is."
   ]
  },
  {
   "cell_type": "code",
   "execution_count": null,
   "metadata": {},
   "outputs": [],
   "source": [
    "a = 5\n",
    "b = a"
   ]
  },
  {
   "cell_type": "markdown",
   "metadata": {},
   "source": [
    "In the first statement the literal number 5 evaluates to 5, and is given the name `a`. In the second statement, the variable `a` (to which 5 was assigned) is assigned to `b`, so 5 now ends up with a second name `b`.\n",
    "\n",
    "Step through the code below (by deleting one `#` at a time and running the cell each time you delete one of them) and see how the variable assignments change below."
   ]
  },
  {
   "cell_type": "code",
   "execution_count": null,
   "metadata": {},
   "outputs": [],
   "source": [
    "#a = 5\n",
    "#b = a    # after executing this line, a and b are now equal\n",
    "#print(a,b)\n",
    "#a = 3    # after executing this line, a and b are no longer equal\n",
    "#print(a,b)"
   ]
  },
  {
   "cell_type": "markdown",
   "metadata": {},
   "source": [
    "In some programming languages, a different symbol is used for assignment, such as `<-` or `:=`. The intent is that this will help avoid the mathematics-based *is equal to* confusion. Python uses the tokens `=` for assignment, and `==` for equality. This is a popular choice also found in languages like C, C++, Java, and C#."
   ]
  },
  {
   "cell_type": "markdown",
   "metadata": {},
   "source": [
    "**Have a go:**"
   ]
  },
  {
   "cell_type": "markdown",
   "metadata": {},
   "source": [
    "1. After the following statements, what are the values of x and y?"
   ]
  },
  {
   "cell_type": "code",
   "execution_count": null,
   "metadata": {},
   "outputs": [],
   "source": [
    "x = 15  # as usual try to answer this before running the cell to check\n",
    "y = x\n",
    "x = 22"
   ]
  },
  {
   "cell_type": "markdown",
   "metadata": {},
   "source": [
    "* A. `x` is 15 and `y` is 15\n",
    "* B. `x` is 22 and `y` is 22\n",
    "* C. `x` is 15 and `y` is 22\n",
    "* D. `x` is 22 and `y` is 15"
   ]
  },
  {
   "cell_type": "markdown",
   "metadata": {},
   "source": [
    "<div align=\"right\">\n",
    "<a href=\"#H7y3188\" class=\"btn btn-default\" data-toggle=\"collapse\">Click here for the answer</a>\n",
    "\n",
    "</div>\n",
    "<div id=\"H7y3188\" class=\"collapse\">\n",
    "\n",
    "```\n",
    "D. Yes, x has the value 22 and y the value 15.\n",
    "\n",
    "```\n",
    "\n",
    "\n",
    "</div>"
   ]
  },
  {
   "cell_type": "markdown",
   "metadata": {},
   "source": [
    "<a id=\"ref13\"></a>\n",
    "## Updating Variables\n",
    "\n",
    "<div align=\"right\"><a href=\"#ref00\">back to top</a></div>"
   ]
  },
  {
   "cell_type": "markdown",
   "metadata": {},
   "source": [
    "One of the most common forms of reassignment is an **update** where the new value of the variable depends on the old. For example,"
   ]
  },
  {
   "cell_type": "code",
   "execution_count": null,
   "metadata": {},
   "outputs": [],
   "source": [
    "x = x + 1"
   ]
  },
  {
   "cell_type": "markdown",
   "metadata": {},
   "source": [
    "This means 'get the current value of `x`, add one, and then update `x` with the new value'. The new value of `x` is the old value of `x` plus 1. Although this assignment statement may look a bit strange, remember that executing assignment is a two-step process. First, evaluate the right-hand side expression. Second, let the variable name on the left-hand side refer to this new resulting object. The fact that `x` appears on both sides does not matter. The semantics of the assignment statement makes sure that there is no confusion as to the result. "
   ]
  },
  {
   "cell_type": "code",
   "execution_count": null,
   "metadata": {},
   "outputs": [],
   "source": [
    "x = 6      # initialising:  assign the value 6 to a variable named x\n",
    "print(x)\n",
    "x = x + 1  # updating:  retrieve the value of x from memory and add 1 to it. \n",
    "           #            Assign this value 7 to the variable named x\n",
    "print(x)"
   ]
  },
  {
   "cell_type": "markdown",
   "metadata": {},
   "source": [
    "If you try to update a variable that doesn’t exist, you get an error because Python evaluates the expression on the right side of the assignment operator before it assigns the resulting value to the name on the left. Before you can update a variable, you have to initialise it, usually with a simple assignment. In the above example, `x` was initialised to 6.\n",
    "\n",
    "Updating a variable by adding something to it is called an **increment**; subtracting is called a **decrement**. Sometimes programmers talk about incrementing or decrementing without specifying by how much; when they do they usually mean by 1. Sometimes programmers also talk about **bumping** a variable, which means the same as incrementing it by 1.\n",
    "\n",
    "Incrementing and decrementing are such common operations that programming languages often include special syntax for it. In Python `+=` is used for incrementing, and `-=` for decrementing. In some other languages, there is even a special syntax `++` and `--` for incrementing or decrementing by 1. Python does not have such a special syntax. To increment x by 1 you have to write `x += 1` or `x = x + 1`."
   ]
  },
  {
   "cell_type": "code",
   "execution_count": null,
   "metadata": {},
   "outputs": [],
   "source": [
    "x = 6        # initialise x\n",
    "print(x)\n",
    "x += 3       # increment x by 3; same as x = x + 3\n",
    "print(x)\n",
    "x -= 1       # decrement x by 1\n",
    "print(x)\n"
   ]
  },
  {
   "cell_type": "markdown",
   "metadata": {},
   "source": [
    "Suppose we wanted, not to increment by one each time but instead to add together the numbers from one to ten, but to do so one at a time."
   ]
  },
  {
   "cell_type": "code",
   "execution_count": null,
   "metadata": {},
   "outputs": [],
   "source": [
    "s = 1\n",
    "print(s)\n",
    "s = s + 2\n",
    "print(s)\n",
    "s = s + 3\n",
    "print(s)\n",
    "s = s + 4\n",
    "print(s)\n",
    "s = s + 5\n",
    "print(s)\n",
    "s = s + 6\n",
    "print(s)\n",
    "s = s + 7\n",
    "print(s)\n",
    "s = s + 8\n",
    "print(s)\n",
    "s = s + 9\n",
    "print(s)\n",
    "s = s + 10\n",
    "print(s)"
   ]
  },
  {
   "cell_type": "markdown",
   "metadata": {},
   "source": [
    "After the initial statement, where we assign `1` to the variable `s`, we can add the current value of `s` and the next number that we want to add (sequentially from `2` all the way up to `10`) and then reassign that value to `s` so that the variable is updated after each line in the code.\n",
    "\n",
    "This would be an incredibly tedious approach if we had many numbers to add together. Later we’ll learn a much more elegant way to complete this kind of task. For the here and now it is simply used to illustrate the updating process."
   ]
  },
  {
   "cell_type": "markdown",
   "metadata": {},
   "source": [
    "**Have a go:**"
   ]
  },
  {
   "cell_type": "markdown",
   "metadata": {},
   "source": [
    "1. What is printed when the following statements execute?"
   ]
  },
  {
   "cell_type": "code",
   "execution_count": null,
   "metadata": {},
   "outputs": [],
   "source": [
    "x = 12\n",
    "x = x - 1\n",
    "print(x)"
   ]
  },
  {
   "cell_type": "markdown",
   "metadata": {},
   "source": [
    "* A. 12\n",
    "* B. -1\n",
    "* C. 11\n",
    "* D. Nothing. An error occurs because x can never be equal to x - 1."
   ]
  },
  {
   "cell_type": "markdown",
   "metadata": {},
   "source": [
    "<div align=\"right\">\n",
    "<a href=\"#H7y3388\" class=\"btn btn-default\" data-toggle=\"collapse\">Click here for the answer</a>\n",
    "\n",
    "</div>\n",
    "<div id=\"H7y3388\" class=\"collapse\">\n",
    "\n",
    "```\n",
    "C. 11 (Yes, this statement sets the value of x equal to \n",
    "       the current value minus 1)\n",
    "\n",
    "```\n",
    "\n",
    "\n",
    "</div>"
   ]
  },
  {
   "cell_type": "markdown",
   "metadata": {},
   "source": [
    "2. What is printed when the following statements execute?"
   ]
  },
  {
   "cell_type": "code",
   "execution_count": null,
   "metadata": {},
   "outputs": [],
   "source": [
    "x = 12\n",
    "x = x - 3\n",
    "x = x + 5\n",
    "x = x + 1\n",
    "print(x)"
   ]
  },
  {
   "cell_type": "markdown",
   "metadata": {},
   "source": [
    "* A. 12\n",
    "* B. 9\n",
    "* C. 15\n",
    "* D. Nothing. An error occurs because x cannot be used that many times in assignment statements."
   ]
  },
  {
   "cell_type": "markdown",
   "metadata": {},
   "source": [
    "<div align=\"right\">\n",
    "<a href=\"#H7y3288\" class=\"btn btn-default\" data-toggle=\"collapse\">Click here for the answer</a>\n",
    "\n",
    "</div>\n",
    "<div id=\"H7y3288\" class=\"collapse\">\n",
    "\n",
    "```\n",
    "C. 15 (Yes, starting with 12, subtract 3, then add 5, and \n",
    "       finally add 1)\n",
    "\n",
    "```\n",
    "\n",
    "\n",
    "</div>"
   ]
  },
  {
   "cell_type": "markdown",
   "metadata": {},
   "source": [
    "3. Construct the code (by reordering the statements) that will result in the value 134 being printed."
   ]
  },
  {
   "cell_type": "code",
   "execution_count": null,
   "metadata": {},
   "outputs": [],
   "source": [
    "print(mybalance)\n",
    "mybalance = mybalance + 50\n",
    "mybalance = 84\n"
   ]
  },
  {
   "cell_type": "markdown",
   "metadata": {},
   "source": [
    "4. Which two of the following statements are equivalent?"
   ]
  },
  {
   "cell_type": "markdown",
   "metadata": {},
   "source": [
    "* A. x = x + y\n",
    "* B. y += x\n",
    "* C. x += x + y\n",
    "* D. x += y\n",
    "* E. x++ y"
   ]
  },
  {
   "cell_type": "markdown",
   "metadata": {},
   "source": [
    "<div align=\"right\">\n",
    "<a href=\"#H7y3278\" class=\"btn btn-default\" data-toggle=\"collapse\">Click here for the answer</a>\n",
    "\n",
    "</div>\n",
    "<div id=\"H7y3278\" class=\"collapse\">\n",
    "\n",
    "```\n",
    "\n",
    "A. x = x + y    (x is updated to be the old value of x \n",
    "                 plus the value of y)\n",
    "D. x += y       (x is updated to be the old value of x \n",
    "                 plus the value of y)\n",
    "\n",
    "```\n",
    "\n",
    "\n",
    "</div>"
   ]
  },
  {
   "cell_type": "markdown",
   "metadata": {},
   "source": [
    "<a id=\"ref14\"></a>\n",
    "## Hard-Coding\n",
    "\n",
    "<div align=\"right\"><a href=\"#ref00\">back to top</a></div>"
   ]
  },
  {
   "cell_type": "markdown",
   "metadata": {},
   "source": [
    "As you begin to write programs, you will realise that there are many ways to solve problems. You’ll also find that one of the most pleasing aspects of programming is how easily you can get a computer to do something correctly that humans invariably make errors on (and simply dislike doing). For example, you’ll learn how to write just a very small bit of code to find the 1047th character in a sentence that might be thousands of letters long, and you’ll learn how to perform the very same computation on many different pieces of data.\n",
    "\n",
    "I will frequently ask you in this coursebook not to *hard-code* answers. What does that mean?\n",
    "\n",
    "Some things in programming can only be done by typing them out. As you’ve seen, when you have to assign a value to a variable, you simply type something like `x = 6`. There is no other way.\n",
    "\n",
    "But in most cases, it makes sense to not do the computation in your head or write complete answers to programming problems out by hand. That’s where **hard-coding** comes in. *Don’t hard code* basically means, you should rely on your code, your logic, your program, and you should not write things out by hand or do computation in your head – even if you can do so easily.\n",
    "\n",
    "When you are writing code or working on the answer to a programming exericse, you should ask yourself: would my answer be correct if the named variables took on different values? If the answer to that question is no, you’re probably hard-coding, which you should avoid – and there’s probably a more concise (and at the same time totally general) way to construct your answer!\n",
    "\n",
    "For example, if you’re asked in an exercise to create a variable `z` and assign it the value of the sum of the value of `x = 20` and the value of `y = 35`, writing `z = 55` is *hard-coding*."
   ]
  },
  {
   "cell_type": "markdown",
   "metadata": {},
   "source": [
    "The operation `20 + 35` may be easy to do in your head or with a calculator, but when you learn to program, you want to train yourself to notice useful patterns of how to solve problems, which will make your life easier (perhaps beyond programming too).\n",
    "\n",
    "The correct way to complete such an exercise would be to write: `z = x + y` (or `z = y + x`, as it is equivalent within the order of operations). This is not hard-coding, and it will be correct no matter what the values of `x` and `y` are.\n",
    "\n",
    "In the code above, if the value of `x` was changed from `20` to `40`, `55` would no longer be the correct value for `z` to have. But `z = x + y` would still be correct.\n",
    "\n",
    "Try to not rely on your brilliant but fallible human brain to do the actual computation when you program – that is what computers are for - they may be much less brilliant but they don't make mistakes! Instead, use your brain to determine how to write the correct code to solve the problem for you. This is why I ask you to avoid hard-coding throughout this coursebook."
   ]
  },
  {
   "cell_type": "markdown",
   "metadata": {},
   "source": [
    "<a id=\"ref15\"></a>\n",
    "## Input\n",
    "\n",
    "<div align=\"right\"><a href=\"#ref00\">back to top</a></div>"
   ]
  },
  {
   "cell_type": "markdown",
   "metadata": {},
   "source": [
    "Programs are more interesting if they don’t do exactly the same thing every time they run. One way to make them more interesting is to get **input** from the user. Luckily, in Python there is a built-in function to accomplish this task. It is called `input`."
   ]
  },
  {
   "cell_type": "code",
   "execution_count": null,
   "metadata": {},
   "outputs": [],
   "source": [
    "n = input(\"Please enter your name: \")"
   ]
  },
  {
   "cell_type": "markdown",
   "metadata": {},
   "source": [
    "The input function allows the programmer to provide a **prompt string**. In the example above, it is 'Please enter your name: '. When the function is evaluated in a notebook environment such as this, the prompt is shown as it was above after you executed the cell (if instead of a Jupyter notebook you were using Python in a browser environment, look for a popup window). The user of the program can type some text and press `return`. When this happens the text that has been entered is returned from the `input` function, and in this case assigned to the variable `n`. Run the following cell a few times and try some different names in the input box that appears."
   ]
  },
  {
   "cell_type": "code",
   "execution_count": null,
   "metadata": {},
   "outputs": [],
   "source": [
    "n = input(\"Please enter your name: \")\n",
    "print(\"Hello\", n)"
   ]
  },
  {
   "cell_type": "markdown",
   "metadata": {},
   "source": [
    "It is *very* important to note that the `input` function returns a string value. Even if you asked the user to enter their age, you would get back a string like `\"18\"`. It would be your job, as the programmer, to convert that string into an integer or a floating point number, using the `int` or `float` converter functions we met earlier."
   ]
  },
  {
   "cell_type": "markdown",
   "metadata": {},
   "source": [
    "<div align=\"left\">\n",
    "    <a href=\"#Hagz1170\" class=\"btn btn-default\" data-toggle=\"collapse\"><b>Note</b></a>\n",
    "\n",
    "</div>\n",
    "<div id=\"Hagz1170\" class=\"collapse\">\n",
    "\n",
    "We often use the word *input* (or *argument*) to refer to the values that are passed to any function. Do not confuse that with the `input` function, which asks the user of a program to type in a value. Like any function, `input` itself takes an input argument and produces an output. The input is a character string that is displayed as a prompt to the user. The output is whatever character string the user types.\n",
    "\n",
    "This is analogous to the potential confusion of function *output* with the contents of the cell output or output window. Every function produces an output, which is a Python value. Only the `print` function explicitly puts things in the cell output/output window. Most functions take inputs which are Python values. Only the `input` function invites users to type something.\n",
    "\n",
    "</div>"
   ]
  },
  {
   "cell_type": "markdown",
   "metadata": {},
   "source": [
    "Here is a program that turns a number of seconds into more human readable counts of hours, minutes, and seconds. A call to `input()` allows the user to enter the number of seconds. Then we convert that string to an integer. From there we use the division and modulus operators to compute the results."
   ]
  },
  {
   "cell_type": "code",
   "execution_count": null,
   "metadata": {
    "scrolled": true
   },
   "outputs": [],
   "source": [
    "str_seconds = input(\"Please enter the number of seconds you wish to convert: \")\n",
    "total_secs = int(str_seconds)\n",
    "\n",
    "hours = total_secs // 3600\n",
    "secs_still_remaining = total_secs % 3600\n",
    "minutes =  secs_still_remaining // 60\n",
    "secs_finally_remaining = secs_still_remaining  % 60\n",
    "\n",
    "print(\"Hrs=\", hours, \"mins=\", minutes, \"secs=\", secs_finally_remaining)\n"
   ]
  },
  {
   "cell_type": "markdown",
   "metadata": {},
   "source": [
    "The variable `str_seconds` will refer to the string that is entered by the user. As we said above, even though this string may be `7684`, it is still a string and not a number. To convert it to an integer, we use the `int` function. The result is referred to by `total_secs`. Now, each time you run the program, you can enter a new value for the number of seconds to be converted."
   ]
  },
  {
   "cell_type": "markdown",
   "metadata": {},
   "source": [
    "**Have a go:**\n",
    "1. What is printed when the following statements execute?"
   ]
  },
  {
   "cell_type": "code",
   "execution_count": null,
   "metadata": {},
   "outputs": [],
   "source": [
    "n = input(\"Please enter your age: \")\n",
    "# user types in 18\n",
    "print(type(n))\n"
   ]
  },
  {
   "cell_type": "markdown",
   "metadata": {},
   "source": [
    "\n",
    "* A. <class 'str'>\n",
    "* B. <class 'int'>\n",
    "* C. <class 18>\n",
    "* D. 18"
   ]
  },
  {
   "cell_type": "markdown",
   "metadata": {},
   "source": [
    "<div align=\"right\">\n",
    "<a href=\"#H7y32718\" class=\"btn btn-default\" data-toggle=\"collapse\">Click here for the answer</a>\n",
    "\n",
    "</div>\n",
    "<div id=\"H7y32718\" class=\"collapse\">\n",
    "\n",
    "```\n",
    "\n",
    "A. <class 'str'>   (All input from users is read in as a string)\n",
    "\n",
    "```\n",
    "\n",
    "\n",
    "</div>"
   ]
  },
  {
   "cell_type": "markdown",
   "metadata": {},
   "source": [
    "<a id=\"ref16\"></a>\n",
    "## Glossary\n",
    "\n",
    "<div align=\"right\"><a href=\"#ref00\">back to top</a></div>"
   ]
  },
  {
   "cell_type": "markdown",
   "metadata": {},
   "source": [
    "**assignment statement:**\n",
    "A statement that assigns a value to a name (variable). To the left of the assignment operator (or token), `=`, is a name. To the right of the assignment token is an expression which is evaluated by the Python interpreter and then assigned to the name. The difference between the left and right hand sides of the assignment statement is often confusing to new programmers. In the following assignment:"
   ]
  },
  {
   "cell_type": "code",
   "execution_count": null,
   "metadata": {},
   "outputs": [],
   "source": [
    "n = n + 1"
   ]
  },
  {
   "cell_type": "markdown",
   "metadata": {},
   "source": [
    "`n` plays a very different role on each side of the `=`. On the right it is a *value* and makes up part of the *expression* which will be evaluated by the Python interpreter before assigning it to the name on the left.\n",
    "\n",
    "**assignment token:** `=` is Python’s assignment token, which should not be confused with the mathematical *equality* operator using the same symbol.\n",
    "\n",
    "**boolean expression:**\n",
    "An expression that is either true or false.\n",
    "\n",
    "**boolean value:**\n",
    "There are precisely two boolean values: `True` and `False`. Boolean values result when a boolean expression is evaluated by the Python interepreter. They have type `bool`.\n",
    "\n",
    "**class:**\n",
    "see *data type* below\n",
    "\n",
    "**comment:**\n",
    "Information in a program that is meant for other programmers (or anyone reading the source code) and has no effect on the execution of the program.\n",
    "\n",
    "**data type:**\n",
    "The type of a value determines how it can be used in expressions. Thus far, the types you have seen are integers (`int`), floating-point numbers (`float`), and strings (`str`).\n",
    "\n",
    "**decrement:**\n",
    "Decrease by 1.\n",
    "\n",
    "**evaluate:**\n",
    "To simplify an expression by performing the operations in order to yield a single value.\n",
    "\n",
    "**expression:**\n",
    "A combination of operators and operands (variables and values) that represents a single result value. Expressions are evaluated to give that value.\n",
    "\n",
    "**float:**\n",
    "A Python data type which stores *floating-point* numbers. Floating-point numbers are stored internally in two parts: a *base* and an *exponent*. When printed in standard format, they look like decimal numbers. Beware of rounding errors when you use floats, and remember that they are only approximate values.\n",
    "\n",
    "**increment:**\n",
    "As a noun it means *an increase of 1* and as a verb it means *to increase by 1*.\n",
    "\n",
    "**initialisation (of a variable):**\n",
    "To initialise a variable is to give it an initial value. Since variables in Python don’t exist until they are assigned values, initialisation takes place when they are created. In other programming languages this is not the case, and variables can be created without being initialised, in which case they have either default or garbage values.\n",
    "\n",
    "**int:**\n",
    "A Python data type that holds positive and negative *whole* numbers.\n",
    "\n",
    "**integer division:**\n",
    "An operation that divides one integer by another and yields an integer. Integer division yields only the whole number of times that the numerator is divisible by the denominator and discards any remainder.\n",
    "\n",
    "**keyword:**\n",
    "A reserved word that is used by the compiler to parse code; you cannot use keywords like `if`, `def`, and `while` as variable names.\n",
    "\n",
    "**literal:**\n",
    "A number or string that is written directly in a program. Sometimes these are also referred to as literal values, or just values, but be careful not to confuse a literal value as written in a program with an internal value maintained by the Python interpreter during execution of a program.\n",
    "\n",
    "**logical operator:**\n",
    "One of the operators that combines boolean expressions: `and`, `or`, and `not`.\n",
    "\n",
    "**modulus operator:**\n",
    "An operator, denoted with a percent sign (`%`), that works on integers and yields the remainder when one number is divided by another.\n",
    "\n",
    "**object:**\n",
    "Also known as a data object (or data value). The fundamental things that programs are designed to manipulate (or that programmers ask to do things for them).\n",
    "\n",
    "**operand:**\n",
    "One of the values on which an operator operates.\n",
    "\n",
    "**operator:**\n",
    "A special symbol that represents a simple computation like addition, multiplication, or string concatenation.\n",
    "\n",
    "**prompt string:**\n",
    "Used during interactive input to provide the user with hints as to what type of value to enter.\n",
    "\n",
    "**reference diagram:**\n",
    "A picture showing a variable with an arrow pointing to the value (object) that the variable refers to. See also *state snapshot*.\n",
    "\n",
    "**rules of precedence:**\n",
    "The set of rules governing the order in which expressions involving multiple operators and operands are evaluated.\n",
    "\n",
    "**state snapshot:**\n",
    "A graphical representation of a set of variables and the values to which they refer, taken at a particular instant during the program’s execution.\n",
    "\n",
    "**statement:**\n",
    "An instruction that the Python interpreter can execute. So far we have only seen the assignment statement, but we will soon meet the `import` statement and the `for` statement.\n",
    "\n",
    "**str:**\n",
    "A Python data type that holds a string of characters.\n",
    "\n",
    "**type conversion function:**\n",
    "A function that can convert a data value from one type to another.\n",
    "\n",
    "**value:**\n",
    "A number or string (or other things to be named later) that can be stored in a variable or computed in an expression.\n",
    "\n",
    "**variable:**\n",
    "A name that refers to a value.\n",
    "\n",
    "**variable name:**\n",
    "A name given to a variable. Variable names in Python consist of a sequence of letters a..z, A..Z, underscore _ , and digits 0..9, that begins with a letter. In best programming practice, variable names should be chosen so that they describe their use in the program, making the program *self-documenting*."
   ]
  },
  {
   "cell_type": "markdown",
   "metadata": {},
   "source": [
    "<a id=\"ref17\"></a>\n",
    "## Exercises\n",
    "\n",
    "<div align=\"right\"><a href=\"#ref00\">back to top</a></div>"
   ]
  },
  {
   "cell_type": "markdown",
   "metadata": {},
   "source": [
    "1. Evaluate the following numerical expressions in your head or on a calculator, then use the code cell below to check your results:\n",
    "\n",
    "```python\n",
    "5 ** 2\n",
    "9 * 5\n",
    "15 / 12\n",
    "12 / 15\n",
    "15 // 12\n",
    "12 // 15\n",
    "5 % 2\n",
    "9 % 5\n",
    "15 % 12\n",
    "12 % 15\n",
    "6 % 6\n",
    "0 % 7\n",
    "```"
   ]
  },
  {
   "cell_type": "code",
   "execution_count": null,
   "metadata": {},
   "outputs": [],
   "source": [
    "print(5**2) # print() each of the above expressions\n",
    "            # in this cell to check your answer"
   ]
  },
  {
   "cell_type": "markdown",
   "metadata": {},
   "source": [
    "<div align=\"right\">\n",
    "<a href=\"#H7y2718\" class=\"btn btn-default\" data-toggle=\"collapse\">Click here for the answer</a>\n",
    "\n",
    "</div>\n",
    "<div id=\"H7y2718\" class=\"collapse\">\n",
    "\n",
    "```ipython\n",
    "5 ** 2  = 25\n",
    "9 * 5 = 45\n",
    "15 / 12 = 1.25\n",
    "12 / 15 = 0.8\n",
    "15 // 12 = 1\n",
    "12 // 15 = 0\n",
    "5 % 2 = 1\n",
    "9 % 5 = 4\n",
    "15 % 12 = 3\n",
    "12 % 15 = 12\n",
    "6 % 6 = 0\n",
    "0 % 7 = 0\n",
    "\n",
    "```\n",
    "\n",
    "\n",
    "</div>"
   ]
  },
  {
   "cell_type": "markdown",
   "metadata": {},
   "source": [
    "2. Apply your understanding of precedence to the arithmetic operations in the following expression. Evaluate the expression by hand and then check your work in the cell."
   ]
  },
  {
   "cell_type": "code",
   "execution_count": null,
   "metadata": {},
   "outputs": [],
   "source": [
    "2 + (3 - 1) * 10 / 5 * (2 + 3)"
   ]
  },
  {
   "cell_type": "markdown",
   "metadata": {},
   "source": [
    "<div align=\"right\">\n",
    "<a href=\"#H7y7186\" class=\"btn btn-default\" data-toggle=\"collapse\">Click here for the answer</a>\n",
    "\n",
    "</div>\n",
    "<div id=\"H7y7186\" class=\"collapse\">\n",
    "\n",
    "```ipython\n",
    "22.0 (note this answer, a floating point number)\n",
    "\n",
    "```\n",
    "\n",
    "\n",
    "</div>"
   ]
  },
  {
   "cell_type": "markdown",
   "metadata": {},
   "source": [
    "3. Many people keep time using a 24 hour clock (use 11 to represent 11am, 23 for 11pm, 0 for midnight, etc.). If it is currently 13 (1pm) and you set your alarm to go off in 50 hours, it will be 15 (3pm). Write a Python program to solve the general version of the above problem. Ask the user for the time now (in hours), and then ask for the number of hours to wait for the alarm. Your program should output what the time will be on the clock when the alarm goes off."
   ]
  },
  {
   "cell_type": "code",
   "execution_count": null,
   "metadata": {},
   "outputs": [],
   "source": [
    "# If you find this too challenging at this stage \n",
    "# click below for the answer but make sure you understand the code\n",
    "\n",
    "# Enter your code here\n",
    "\n"
   ]
  },
  {
   "cell_type": "markdown",
   "metadata": {},
   "source": [
    "<div align=\"right\">\n",
    "<a href=\"#H7y786I\" class=\"btn btn-default\" data-toggle=\"collapse\">Click here for the answer</a>\n",
    "\n",
    "</div>\n",
    "<div id=\"H7y786I\" class=\"collapse\">\n",
    "\n",
    "```ipython\n",
    "\n",
    "current_time_string = input(\"What is the current time (in hours)? \")\n",
    "waiting_time_string = input(\"How many hours do you have to wait? \")\n",
    "\n",
    "current_time_int = int(current_time_string)\n",
    "waiting_time_int = int(waiting_time_string)\n",
    "\n",
    "hours = current_time_int + waiting_time_int\n",
    "\n",
    "timeofday = hours % 24\n",
    "\n",
    "print(timeofday)\n",
    "\n",
    "\n",
    "```\n",
    "\n",
    "\n",
    "</div>"
   ]
  },
  {
   "cell_type": "markdown",
   "metadata": {},
   "source": [
    "4. It is possible to name the days of the week from 0 to 6 where day 0 is Sunday and day 6 is Saturday. If you go on holiday leaving on day number 3 (a Wednesday) and return home after 10 nights you would return home on a Saturday (day 6). Write a general version of the program which asks for the starting day number, and the length of your stay, and it will tell you the number of day of the week you will return on. *Base your work on the answer to the previous problem*."
   ]
  },
  {
   "cell_type": "code",
   "execution_count": null,
   "metadata": {},
   "outputs": [],
   "source": [
    "# Enter your code here\n"
   ]
  },
  {
   "cell_type": "markdown",
   "metadata": {},
   "source": [
    "<div align=\"right\">\n",
    "<a href=\"#H7y7I\" class=\"btn btn-default\" data-toggle=\"collapse\">Click here for the answer</a>\n",
    "\n",
    "</div>\n",
    "<div id=\"H7y7I\" class=\"collapse\">\n",
    "\n",
    "```ipython\n",
    "\n",
    "No answer provided to this one but you could \n",
    "base your approach on the previous question.\n",
    "\n",
    "\n",
    "```\n",
    "\n",
    "\n",
    "</div>"
   ]
  },
  {
   "cell_type": "markdown",
   "metadata": {},
   "source": [
    "5. Consider the sentence: \"All play and no work makes Matthew a naughty boy!\" Store each word in a separate variable, then print out the sentence on one line using print."
   ]
  },
  {
   "cell_type": "code",
   "execution_count": 5,
   "metadata": {},
   "outputs": [],
   "source": [
    "# Enter your code here\n",
    "\n",
    "\n"
   ]
  },
  {
   "cell_type": "markdown",
   "metadata": {},
   "source": [
    "<div align=\"right\">\n",
    "<a href=\"#HIy7I\" class=\"btn btn-default\" data-toggle=\"collapse\">Click here for the answer</a>\n",
    "\n",
    "</div>\n",
    "<div id=\"HIy7I\" class=\"collapse\">\n",
    "\n",
    "```ipython\n",
    "word1 = \"All\"\n",
    "word2 = \"play\"\n",
    "word3 = \"and\"\n",
    "word4 = \"no\"\n",
    "word5 = \"work\"\n",
    "word6 = \"makes\"\n",
    "word7 = \"Matthew\"\n",
    "word8 = \"a\"\n",
    "word9 = \"naughty\"\n",
    "word10 = \"boy!\"\n",
    "\n",
    "print(word1 + ' ' +  word2 + ' ' + word3 + ' ' +  word4 + ' ' +  word5 + ' ' +  word6 + ' ' +  word7 + ' ' +  word8 + ' ' +  word9 + ' ' +  word10)\n",
    "\n",
    "\n",
    "```\n",
    "\n",
    "\n",
    "</div>"
   ]
  },
  {
   "cell_type": "markdown",
   "metadata": {},
   "source": [
    "6. Add brackets to the expression `6 * 1 - 2` to change its value from `4` to `-6`."
   ]
  },
  {
   "cell_type": "code",
   "execution_count": null,
   "metadata": {},
   "outputs": [],
   "source": [
    "# Try your suggestions here....\n"
   ]
  },
  {
   "cell_type": "markdown",
   "metadata": {},
   "source": [
    "<div align=\"right\">\n",
    "<a href=\"#PIy7I\" class=\"btn btn-default\" data-toggle=\"collapse\">Click here for the answer</a>\n",
    "\n",
    "</div>\n",
    "<div id=\"PIy7I\" class=\"collapse\">\n",
    "\n",
    "```ipython\n",
    "6*(1-2)\n",
    "\n",
    "```\n",
    "\n",
    "\n",
    "</div>"
   ]
  },
  {
   "cell_type": "markdown",
   "metadata": {},
   "source": [
    "7. The formula for computing the accumulated amount if someone is earning compound interest on an investment is given by"
   ]
  },
  {
   "cell_type": "markdown",
   "metadata": {},
   "source": [
    "![title](figures/compoundinterest.png)"
   ]
  },
  {
   "cell_type": "markdown",
   "metadata": {},
   "source": [
    "Write a Python program that assigns the principal amount of 10000 to variable `P`, assign to `n` the value `12`, and assign to `r` the interest rate of 8% (0.08). Then have the program prompt the user for the number of years, `t`, that the money will be compounded for. Calculate and print the final amount after `t` years."
   ]
  },
  {
   "cell_type": "code",
   "execution_count": 7,
   "metadata": {},
   "outputs": [],
   "source": [
    "# Enter your code here\n",
    "\n",
    "\n"
   ]
  },
  {
   "cell_type": "markdown",
   "metadata": {},
   "source": [
    "<div align=\"right\">\n",
    "<a href=\"#QIy7I\" class=\"btn btn-default\" data-toggle=\"collapse\">Click here for the answer</a>\n",
    "\n",
    "</div>\n",
    "<div id=\"QIy7I\" class=\"collapse\">\n",
    "\n",
    "```ipython\n",
    "P = 10000\n",
    "n = 12\n",
    "r = 0.08\n",
    "\n",
    "t = int(input(\"Compound for how many years? \"))\n",
    "\n",
    "final = P*(1+(r/n))**(n*t) \n",
    "\n",
    "print(\"The final amount after\", t, \"years is\", final)\n",
    "\n",
    "\n",
    "```\n",
    "\n",
    "\n",
    "</div>"
   ]
  },
  {
   "cell_type": "markdown",
   "metadata": {},
   "source": [
    "The final answer above is not in an acceptable form for currency values but we shall learn how to present it in the correct form later in the course."
   ]
  },
  {
   "cell_type": "markdown",
   "metadata": {},
   "source": [
    "8. Write a program that will compute the area of a rectangle. Prompt the user to enter the width and height of the rectangle. Print a helpful message with the answer."
   ]
  },
  {
   "cell_type": "code",
   "execution_count": null,
   "metadata": {},
   "outputs": [],
   "source": [
    "# Enter your code here"
   ]
  },
  {
   "cell_type": "markdown",
   "metadata": {},
   "source": [
    "<div align=\"right\">\n",
    "<a href=\"#TRIy7I\" class=\"btn btn-default\" data-toggle=\"collapse\">Click here for the answer</a>\n",
    "\n",
    "</div>\n",
    "<div id=\"TRIy7I\" class=\"collapse\">\n",
    "\n",
    "```ipython\n",
    "\n",
    "width = int(input(\"Width? \"))\n",
    "height = int(input(\"Height? \"))\n",
    "\n",
    "area = width * height\n",
    "\n",
    "print(\"The area of the rectangle is\", area)\n",
    "\n",
    "\n",
    "```\n",
    "\n",
    "\n",
    "</div>"
   ]
  },
  {
   "cell_type": "markdown",
   "metadata": {},
   "source": [
    "9. Write a program that will compute the area of a circle. Prompt the user to enter the radius and print a helpful message back to the user with the answer."
   ]
  },
  {
   "cell_type": "code",
   "execution_count": 10,
   "metadata": {},
   "outputs": [],
   "source": [
    "# Enter your code here\n",
    "\n",
    "\n"
   ]
  },
  {
   "cell_type": "markdown",
   "metadata": {},
   "source": [
    "<div align=\"right\">\n",
    "<a href=\"#RIy7I\" class=\"btn btn-default\" data-toggle=\"collapse\">Click here for the answer</a>\n",
    "\n",
    "</div>\n",
    "<div id=\"RIy7I\" class=\"collapse\">\n",
    "\n",
    "```\n",
    "No explicit answer given to this one, use the solution to \n",
    "the previous question as a template for this one!\n",
    "\n",
    "```\n",
    "\n",
    "\n",
    "</div>"
   ]
  },
  {
   "cell_type": "markdown",
   "metadata": {},
   "source": [
    "10. Write a program that will compute MPG for a car. Prompt the user to enter the number of miles driven and the number of gallons used. Print a helpful message with the answer."
   ]
  },
  {
   "cell_type": "code",
   "execution_count": null,
   "metadata": {},
   "outputs": [],
   "source": [
    "# Enter your code here\n"
   ]
  },
  {
   "cell_type": "markdown",
   "metadata": {},
   "source": [
    "<div align=\"right\">\n",
    "<a href=\"#HPIy7I\" class=\"btn btn-default\" data-toggle=\"collapse\">Click here for the answer</a>\n",
    "\n",
    "</div>\n",
    "<div id=\"HPIy7I\" class=\"collapse\">\n",
    "\n",
    "```\n",
    "Again you need to go this one alone - but if you are stuck you could \n",
    "post to the discussion forum. \n",
    "\n",
    "\n",
    "```\n",
    "\n",
    "\n",
    "</div>"
   ]
  },
  {
   "cell_type": "markdown",
   "metadata": {},
   "source": [
    "11. Write a program that will convert temperature from degrees Celsius to degrees Fahrenheit. Request input from the user and provide the answer by way of a helpful message."
   ]
  },
  {
   "cell_type": "markdown",
   "metadata": {},
   "source": [
    "![title](figures/Temperature_conversion.png)"
   ]
  },
  {
   "cell_type": "code",
   "execution_count": 30,
   "metadata": {},
   "outputs": [],
   "source": [
    "# Enter your code here\n",
    "\n",
    "\n"
   ]
  },
  {
   "cell_type": "markdown",
   "metadata": {},
   "source": [
    "<div align=\"right\">\n",
    "<a href=\"#TYHPIy7I\" class=\"btn btn-default\" data-toggle=\"collapse\">Click here for the answer</a>\n",
    "\n",
    "</div>\n",
    "<div id=\"TYHPIy7I\" class=\"collapse\">\n",
    "\n",
    "```ipython\n",
    "\n",
    "deg_c = int(input(\"What is the temperature in Celsius? \"))\n",
    "\n",
    "# formula to convert C to F is: (degrees Celsius) times (9/5) plus (32)\n",
    "deg_f = deg_c * (9 / 5) + 32\n",
    "\n",
    "print(deg_c, \" degrees Celsius is\", deg_f, \" degrees Farenheit.\")\n",
    "\n",
    "\n",
    "\n",
    "```\n",
    "\n",
    "\n",
    "</div>"
   ]
  },
  {
   "cell_type": "markdown",
   "metadata": {},
   "source": [
    "12. Repeat the exercise above but this time have the conversion from degrees Fahrenheit to degrees Celsius."
   ]
  },
  {
   "cell_type": "code",
   "execution_count": null,
   "metadata": {},
   "outputs": [],
   "source": [
    "# Enter your code here\n"
   ]
  },
  {
   "cell_type": "markdown",
   "metadata": {},
   "source": [
    "<div align=\"right\">\n",
    "<a href=\"#PINy7I\" class=\"btn btn-default\" data-toggle=\"collapse\">Click here for the answer</a>\n",
    "\n",
    "</div>\n",
    "<div id=\"PINy7I\" class=\"collapse\">\n",
    "\n",
    "```\n",
    "\n",
    "No answer to this one! You should be able to modify \n",
    "the code in the previous question to work in this case,\n",
    "but you will need to use the transposed formula given. \n",
    "\n",
    "\n",
    "```\n",
    "\n",
    "\n",
    "</div>"
   ]
  },
  {
   "cell_type": "markdown",
   "metadata": {},
   "source": [
    "13. Piece together the following code statements (in the correct order) so that a user is asked for two numbers, and then the sum of those two numbers is printed out."
   ]
  },
  {
   "cell_type": "code",
   "execution_count": null,
   "metadata": {},
   "outputs": [],
   "source": [
    "print(sum_of_input)\n",
    "num_one = input(\"Please enter your first number: \")\n",
    "sum_of_input = int(num_one) + int(num_two)\n",
    "num_two = input(\"Please enter your second number: \")"
   ]
  },
  {
   "cell_type": "markdown",
   "metadata": {},
   "source": [
    "<div align=\"right\">\n",
    "<a href=\"#PII\" class=\"btn btn-default\" data-toggle=\"collapse\">Click here for the answer</a>\n",
    "\n",
    "</div>\n",
    "<div id=\"PII\" class=\"collapse\">\n",
    "\n",
    "```ipython\n",
    "\n",
    "num_one = input(\"Please enter your first number: \")\n",
    "num_two = input(\"Please enter your second number: \")\n",
    "sum_of_input = int(num_one) + int(num_two)\n",
    "print(sum_of_input)\n",
    "\n",
    "```\n",
    "\n",
    "\n",
    "</div>"
   ]
  },
  {
   "cell_type": "markdown",
   "metadata": {},
   "source": [
    "14. Write a program that will convert Euro to US Dollars. This program will also need to get input from the user to say how much Euro should be converted and the result should be printed for the user to see.\n"
   ]
  },
  {
   "cell_type": "code",
   "execution_count": null,
   "metadata": {},
   "outputs": [],
   "source": [
    "# Enter your code here\n",
    "\n"
   ]
  },
  {
   "cell_type": "markdown",
   "metadata": {},
   "source": [
    "<div align=\"right\">\n",
    "<a href=\"#BPII\" class=\"btn btn-default\" data-toggle=\"collapse\">Click here for the answer</a>\n",
    "\n",
    "</div>\n",
    "<div id=\"BPII\" class=\"collapse\">\n",
    "\n",
    "```ipython\n",
    "\n",
    "user_Euro = input(\"How much Euro would you like to convert?: \")\n",
    "num_Euro = float(user_Euro) \n",
    "USDollars = num_Euro*1.14    # rate correct at time of printing!\n",
    "print(\"Number of US Dollars:\"+str(USDollars))\n",
    "\n",
    "\n",
    "```\n",
    "\n",
    "\n",
    "</div>"
   ]
  },
  {
   "cell_type": "markdown",
   "metadata": {},
   "source": [
    "15. Write a program that will convert tablespoons to teaspoons. This program will also need to get input from a user to say how many tablespoons should be converted and the result should be printed for the user."
   ]
  },
  {
   "cell_type": "code",
   "execution_count": null,
   "metadata": {},
   "outputs": [],
   "source": [
    "# Enter your code here\n"
   ]
  },
  {
   "cell_type": "markdown",
   "metadata": {},
   "source": [
    "<div align=\"right\">\n",
    "<a href=\"#BPIII\" class=\"btn btn-default\" data-toggle=\"collapse\">Click here for the answer</a>\n",
    "\n",
    "</div>\n",
    "<div id=\"BPIII\" class=\"collapse\">\n",
    "\n",
    "```ipython\n",
    "\n",
    "user_tablespoons = float(input(\"How many tablespoons should be converted?: \"))\n",
    "teaspoons = user_tablespoons*3    \n",
    "print(\"Number of teaspoons:\"+str(teaspoons))\n",
    "\n",
    "\n",
    "```\n",
    "\n",
    "\n",
    "</div>"
   ]
  },
  {
   "cell_type": "markdown",
   "metadata": {},
   "source": [
    "< [More iPython Resources](01.08-More-IPython-Resources.ipynb) | [PyFinLab Index](00.01-Index.ipynb) | [Conditionals](01.10-Conditionals.ipynb) >\n",
    "\n",
    "\n",
    "<div align=\"right\"><a href=\"#ref00\">back to top</a></div>"
   ]
  }
 ],
 "metadata": {
  "kernelspec": {
   "display_name": "Python 3",
   "language": "python",
   "name": "python3"
  },
  "language_info": {
   "codemirror_mode": {
    "name": "ipython",
    "version": 3
   },
   "file_extension": ".py",
   "mimetype": "text/x-python",
   "name": "python",
   "nbconvert_exporter": "python",
   "pygments_lexer": "ipython3",
   "version": "3.7.4"
  }
 },
 "nbformat": 4,
 "nbformat_minor": 2
}
