{
 "cells": [
  {
   "cell_type": "markdown",
   "metadata": {},
   "source": [
    "< [Notebook 12](PartIV1.ipynb) | [PyFinLab Index](ALWAYS-START-HERE.ipynb) | [Notebook 14](PartIV3.ipynb) >\n",
    "\n",
    "<a id = \"ref00\"></a>"
   ]
  },
  {
   "cell_type": "markdown",
   "metadata": {},
   "source": [
    "<a><img src=\"figures/UUBS.png\" width=\"180\" height=\"180\" border=\"10\" /></a>\n",
    "\n",
    "<hr>"
   ]
  },
  {
   "cell_type": "markdown",
   "metadata": {},
   "source": [
    "### Notebook 13: Simple (meaning univariate) linear regression\n",
    "\n",
    "In this notebook, we discuss the univariate linear regression model, aka simple linear regression because it involves only one predictor variable. "
   ]
  },
  {
   "cell_type": "code",
   "execution_count": null,
   "metadata": {},
   "outputs": [],
   "source": [
    "import pandas as pd\n",
    "import statsmodels.formula.api as smf\n",
    "import matplotlib.pyplot as plt\n",
    "%matplotlib inline"
   ]
  },
  {
   "cell_type": "code",
   "execution_count": null,
   "metadata": {},
   "outputs": [],
   "source": [
    "housing = pd.read_csv('data/housing.csv',index_col=0)\n",
    "housing.head()"
   ]
  },
  {
   "cell_type": "markdown",
   "metadata": {},
   "source": [
    "### Simple linear regression"
   ]
  },
  {
   "cell_type": "markdown",
   "metadata": {},
   "source": [
    "$y_i = \\beta_0 + \\beta_1 * x_i + \\epsilon_i $"
   ]
  },
  {
   "cell_type": "markdown",
   "metadata": {},
   "source": [
    "<div align=\"left\">\n",
    "<a href=\"#Gag62\" class=\"btn btn-default\" data-toggle=\"collapse\"><b>What's the plan?</b></a>\n",
    "\n",
    "</div>\n",
    "<div id=\"Gag62\" class=\"collapse\">\n",
    "<br>\n",
    "\n",
    "We are going to use Python to build a univariate linear regression model based on the association between RM and MEDV. This amounts to finding estimates, $\\hat{\\beta}_0$  and $\\hat{\\beta}_1$, for the linear coefficients $\\beta_0$ and $\\beta_1$ (intercept and slope respectively). \n"
   ]
  },
  {
   "cell_type": "code",
   "execution_count": null,
   "metadata": {},
   "outputs": [],
   "source": [
    "# to get things started let's have a pure guess at the values \n",
    "# of the intercept and slope. Let's name our guesses b0, b1...\n",
    "b0 = -2.5\n",
    "b1 = 2.8\n",
    "\n",
    "# let's assign the values, b0 and b1, to a \n",
    "# straight line which can describe our data \n",
    "housing['GuessResponse'] = b0 + b1*housing['RM']\n",
    "\n",
    "# also we want to quantify the error in our guesswork \n",
    "# to see how just how far it is from the true response\n",
    "housing['observederror'] = housing['MEDV'] - housing['GuessResponse']\n",
    "\n",
    "\n",
    "# here we plot our estimated line together with the actual data points\n",
    "plt.figure(figsize=(12, 6))\n",
    "plt.title('Sum of sqaured error is {}'.format(((housing['observederror'])**2).sum()))\n",
    "plt.scatter(housing['RM'],housing['MEDV'],color='g',label='Observed')\n",
    "plt.plot(housing['RM'],housing['GuessResponse'],color='red',label='GuessResponse')\n",
    "plt.legend()\n",
    "plt.xlim(housing['RM'].min()-2,housing['RM'].max()+2)\n",
    "plt.ylim(housing['MEDV'].min()-2,housing['MEDV'].max()+2)\n",
    "plt.show()"
   ]
  },
  {
   "cell_type": "markdown",
   "metadata": {},
   "source": [
    "<div align=\"left\">\n",
    "<a href=\"#62\" class=\"btn btn-default\" data-toggle=\"collapse\"><b>Have a go!</b></a>\n",
    "\n",
    "</div>\n",
    "<div id=\"62\" class=\"collapse\">\n",
    "<br>\n",
    "\n",
    "Try a range of different guess values for b0 and b1 to see if you can get close to what you consider a visually good best fit line. Hopefully after several attempts and no little frustration you will agree, guessing is not really the way to go. \n"
   ]
  },
  {
   "cell_type": "markdown",
   "metadata": {},
   "source": [
    "### Least square estimates"
   ]
  },
  {
   "cell_type": "code",
   "execution_count": null,
   "metadata": {},
   "outputs": [],
   "source": [
    "# input the formula (refer to PyFinlab video, PartIV.Video2)\n",
    "model = smf.ols(formula=None,data=housing).fit()\n",
    "\n",
    "# here we determine estimated values for intercept and \n",
    "# slope using least squares estimation. The attribute \n",
    "# 'params' returns a list of estimated model parameters \n",
    "b0 = model.params[0]\n",
    "b1 = model.params[1]\n",
    "\n",
    "# here is the resulting least squares straight-line fit to the data\n",
    "housing['BestResponse'] = b0 + b1*housing['RM']\n",
    "\n",
    "# again we would like to know the error involved\n",
    "housing['error'] = housing['MEDV'] - housing['BestResponse']\n",
    "\n",
    "\n",
    "# we plot the estimated lines together with the data points to see\n",
    "# how much the error has dropped after using least squares method\n",
    "plt.figure(figsize=(10, 10))\n",
    "plt.title('Sum of sqaured error is {}'.format((((housing['error'])**2)).sum()))\n",
    "plt.scatter(housing['RM'],housing['MEDV'],color='g',label='Observed')\n",
    "plt.plot(housing['RM'],housing['GuessResponse'],\n",
    "         color='red',label='GuessResponse')\n",
    "plt.plot(housing['RM'],housing['BestResponse'],\n",
    "         color='yellow',label='BestResponse')\n",
    "plt.legend()\n",
    "plt.xlim(housing['RM'].min()-2,housing['RM'].max()+2)\n",
    "plt.ylim(housing['MEDV'].min()-2,housing['MEDV'].max()+2)\n",
    "plt.show()"
   ]
  },
  {
   "cell_type": "markdown",
   "metadata": {},
   "source": [
    "### Summary table"
   ]
  },
  {
   "cell_type": "code",
   "execution_count": null,
   "metadata": {},
   "outputs": [],
   "source": [
    "# refer to the p-value of RM, Confidence Interval \n",
    "# and R-square to evaluate the performance.\n",
    "\n",
    "model.summary()"
   ]
  },
  {
   "cell_type": "markdown",
   "metadata": {},
   "source": [
    "< [Notebook 12](PartIV1.ipynb) | [PyFinLab Index](ALWAYS-START-HERE.ipynb) | [Notebook 14](PartIV3.ipynb) >\n",
    "\n",
    "<div align=\"right\"><a href=\"#ref00\">back to top</a></div>"
   ]
  }
 ],
 "metadata": {
  "kernelspec": {
   "display_name": "Python 3",
   "language": "python",
   "name": "python3"
  },
  "language_info": {
   "codemirror_mode": {
    "name": "ipython",
    "version": 3
   },
   "file_extension": ".py",
   "mimetype": "text/x-python",
   "name": "python",
   "nbconvert_exporter": "python",
   "pygments_lexer": "ipython3",
   "version": "3.8.5"
  }
 },
 "nbformat": 4,
 "nbformat_minor": 2
}
