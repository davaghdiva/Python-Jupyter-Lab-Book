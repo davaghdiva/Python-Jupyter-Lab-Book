{
 "cells": [
  {
   "cell_type": "markdown",
   "metadata": {},
   "source": [
    "< [Notebook 13](PartIV2.ipynb) | [PyFinLab Index](ALWAYS-START-HERE.ipynb) | [Notebook 15](PartV1.ipynb) >\n",
    "\n",
    "<a id = \"ref00\"></a>"
   ]
  },
  {
   "cell_type": "markdown",
   "metadata": {},
   "source": [
    "<a><img src=\"figures/UUBS.png\" width=\"180\" height=\"180\" border=\"10\" /></a>\n",
    "\n",
    "<hr>"
   ]
  },
  {
   "cell_type": "markdown",
   "metadata": {},
   "source": [
    "### Notebook 14: Simple linear regression diagnostics\n",
    "\n",
    "In this notebook, we consider how to diagnose simple linear regression models and validated them with regard to the associated assumptions. \n"
   ]
  },
  {
   "cell_type": "code",
   "execution_count": null,
   "metadata": {},
   "outputs": [],
   "source": [
    "import pandas as pd \n",
    "import statsmodels.formula.api as smf\n",
    "import matplotlib.pyplot as plt\n",
    "%matplotlib inline"
   ]
  },
  {
   "cell_type": "code",
   "execution_count": null,
   "metadata": {},
   "outputs": [],
   "source": [
    "housing = pd.read_csv('data/housing.csv',index_col=0)\n",
    "housing.head()"
   ]
  },
  {
   "cell_type": "code",
   "execution_count": null,
   "metadata": {},
   "outputs": [],
   "source": [
    "model = smf.ols(formula='MEDV~LSTAT',data=housing).fit()\n",
    "\n",
    "# here are intercept and slope paramters \n",
    "# found by the least squares estimation  \n",
    "b0 = model.params[0]\n",
    "b1 = model.params[1]\n",
    "\n",
    "housing['BestResponse'] = b0 + b1*housing['LSTAT']"
   ]
  },
  {
   "cell_type": "markdown",
   "metadata": {},
   "source": [
    "### Key assumptions behind linear regression model\n",
    "1. Linearity \n",
    "2. Independence\n",
    "3. Normality\n",
    "4. Equal Variance"
   ]
  },
  {
   "cell_type": "markdown",
   "metadata": {},
   "source": [
    "### Linearity"
   ]
  },
  {
   "cell_type": "code",
   "execution_count": null,
   "metadata": {},
   "outputs": [],
   "source": [
    "# we can view the scatter plot for a quick check\n",
    "housing.plot(kind='scatter',x='LSTAT',y='MEDV',figsize=(10, 5),color='g')"
   ]
  },
  {
   "cell_type": "markdown",
   "metadata": {},
   "source": [
    "### Independence"
   ]
  },
  {
   "cell_type": "code",
   "execution_count": null,
   "metadata": {},
   "outputs": [],
   "source": [
    "# observing the errors (residuals)\n",
    "housing['error'] = housing['MEDV'] - housing['BestResponse']"
   ]
  },
  {
   "cell_type": "code",
   "execution_count": null,
   "metadata": {},
   "outputs": [],
   "source": [
    "# method 1: residual vs order plot\n",
    "# error vs order plot (residual vs order) as a fast check \n",
    "\n",
    "plt.figure(figsize=(12, 6))\n",
    "plt.title('Residual vs order')\n",
    "plt.plot(housing.index, housing['error'],color='purple')\n",
    "plt.axhline(y=0,color='red')\n",
    "plt.show()"
   ]
  },
  {
   "cell_type": "code",
   "execution_count": null,
   "metadata": {},
   "outputs": [],
   "source": [
    "# method 2: Durbin-Watson Test\n",
    "# rule of thumb: a Durbin-Watson Test statistic value in the  \n",
    "# range 1.5-2.5 is generally taken as evidence of independence\n",
    "model.summary()"
   ]
  },
  {
   "cell_type": "markdown",
   "metadata": {},
   "source": [
    "### Normality"
   ]
  },
  {
   "cell_type": "code",
   "execution_count": null,
   "metadata": {},
   "outputs": [],
   "source": [
    "import scipy.stats as stats\n",
    "z = (housing['error'] - housing['error'].mean())/housing['error'].std(ddof=1)\n",
    "\n",
    "stats.probplot(z,dist='norm',plot=plt)\n",
    "plt.title('Normal Q-Q plot')\n",
    "plt.show()"
   ]
  },
  {
   "cell_type": "markdown",
   "metadata": {},
   "source": [
    "### Equal variance"
   ]
  },
  {
   "cell_type": "code",
   "execution_count": null,
   "metadata": {},
   "outputs": [],
   "source": [
    "# Residual vs predictor plot\n",
    "housing.plot(kind='scatter',x='LSTAT',y='error',figsize=(15, 8),color='green')\n",
    "plt.title('Residual vs predictor')\n",
    "plt.axhline(y=0,color='red')\n",
    "plt.show()"
   ]
  },
  {
   "cell_type": "markdown",
   "metadata": {},
   "source": [
    "<div align=\"left\">\n",
    "<a href=\"#G2\" class=\"btn btn-default\" data-toggle=\"collapse\"><b>In conclusion!</b></a>\n",
    "\n",
    "</div>\n",
    "<div id=\"G2\" class=\"collapse\">\n",
    "<br>\n",
    "\n",
    "We see that the regression model (MEDV~LSTAT) violates all four assumptions. Therefore, we cannot draw statistical inference on the association between these variables using this model."
   ]
  },
  {
   "cell_type": "markdown",
   "metadata": {},
   "source": [
    "< [Notebook 13](PartIV2.ipynb) | [PyFinLab Index](ALWAYS-START-HERE.ipynb) | [Notebook 15](PartV1.ipynb) >\n",
    "\n",
    "<div align=\"right\"><a href=\"#ref00\">back to top</a></div>"
   ]
  }
 ],
 "metadata": {
  "kernelspec": {
   "display_name": "Python 3",
   "language": "python",
   "name": "python3"
  },
  "language_info": {
   "codemirror_mode": {
    "name": "ipython",
    "version": 3
   },
   "file_extension": ".py",
   "mimetype": "text/x-python",
   "name": "python",
   "nbconvert_exporter": "python",
   "pygments_lexer": "ipython3",
   "version": "3.7.4"
  }
 },
 "nbformat": 4,
 "nbformat_minor": 2
}
