{
 "cells": [
  {
   "cell_type": "markdown",
   "metadata": {},
   "source": [
    "<  [Functions](ZFunctions.ipynb)| [PyFinLab Index](ALWAYS-START-HERE.ipynb) | [Sequences I](ZSequences-I.ipynb) >\n",
    "\n",
    "<a id = \"ref00\"></a>"
   ]
  },
  {
   "cell_type": "markdown",
   "metadata": {},
   "source": [
    "<a><img src=\"figures/UUBS.png\" width=\"180\" height=\"180\" border=\"10\" /></a>\n",
    "\n",
    "<hr>"
   ]
  },
  {
   "cell_type": "markdown",
   "metadata": {},
   "source": [
    "<h2>Notebook A4: Iteration</h2>\n",
    "\n",
    "<div class=\"alert alert-block alert-info\" style=\"margin-top: 20px\">\n",
    "\n",
    "<li><a href=\"#ref0\">Aims and Objectives</a></li>\n",
    "<li><a href=\"#ref1\">Introduction</a></li>\n",
    "<li><a href=\"#ref2\">The <b>for</b> Loop</a></li>\n",
    "<li><a href=\"#ref3\">Flow of Execution of the <b>for</b> Loop</a></li>\n",
    "<li><a href=\"#ref4\">Strings and <b>for</b> Loops</a></li>\n",
    "<li><a href=\"#ref5\">Lists and <b>for</b> Loops</a></li>\n",
    "<li><a href=\"#ref6\">The Accumulator Pattern</a></li>\n",
    "<li><a href=\"#ref7\">Traversal and the <b>for</b> Loop: by Index</a></li>\n",
    "<li><a href=\"#ref8\">Nested Iteration: Image Processing</a></li>\n",
    "<li><a href=\"#ref9\">Printing Intermediate Results</a></li>\n",
    "<li><a href=\"#ref10\">Naming variables in <b>for</b> Loops</a></li>\n",
    "<li><a href=\"#ref12\">Keeping Track of the Iterator Variable and the Iterable</a></li>\n",
    "<li><a href=\"#ref13\">Glossary</a></li>\n",
    "<li><a href=\"#ref14\">Exercises</a></li>\n",
    "<br>\n",
    "<p></p>\n",
    "Indicative Completion Time: <strong>3hrs (not including video viewing time)</strong>\n",
    "</div>\n"
   ]
  },
  {
   "cell_type": "markdown",
   "metadata": {},
   "source": [
    "<a id=\"ref0\"></a>\n",
    "<h3>Aims</h3>\n",
    "\n",
    "To introduce and understand the concept and use of: \n",
    "* iteration in programming\n",
    "* iteration variables, iterable objects and collections\n",
    "* accumulation patterns\n",
    "* traversal and nesting in iteration\n",
    "\n",
    "<h3>Objectives</h3>\n",
    "\n",
    "On completion of this notebook you should be able to:\n",
    "* distinguish between definite and indefinite loops\n",
    "* iterate over an iteration variable or construct\n",
    "* apply nested iteraton to produce purposeful output\n",
    "* track an iteration variable to help identify problems\n"
   ]
  },
  {
   "cell_type": "markdown",
   "metadata": {},
   "source": [
    "<a id=\"ref1\"></a>\n",
    "<h2>Introduction</h2>"
   ]
  },
  {
   "cell_type": "markdown",
   "metadata": {},
   "source": [
    "A basic component of all programs is the ability to repeat some process over and over again. Whether it is updating the bank balances of millions of customers each night, or sending email messages to thousands of people, programming involves instructing a computer to perform many repetitive actions. In the field of computing this repetitive execution is known as iteration. In this notebook we will learn about iteration and how it can be used effectively to acheive useful ouput.\n",
    "\n",
    "When working with collections (eg. lists and strings), many computations involve processing one item at a time. For strings, this means that we may like to process one character at a time. Often we start at the beginning, select each character in turn, do something with it/to it, and continue until the end of the string is reached. For example, we could take each character and substitute for the character 13 characters away in the alphabet to create a coded message.\n",
    "\n",
    "This pattern of processing is called a traversal, or iteration over the characters. Similarly we can process each of the items in a list, one at a time iterating over the items in the list. This has applications in every piece of software you can imagine:\n",
    "\n",
    "* Displaying a list of friends on SnapChat\n",
    "* Updating the position of every character on the screen of a video game\n",
    "* Displaying the locations that Doctors Without Borders operates in\n",
    "\n",
    "Find below the video collecton for this notebook. Collectively the videos span all the key concepts related to working with functions in Python. View them *more than once* as they lay the foundation for *everything* that follows. \n",
    "\n",
    "Video 1 & Video 2 provide a general introduction to iteration, considering the construction of indefinite and definite loops and the concept of iterating over an iterable object; Video 3 and Video 4 take a detailed look at the purposeful and practical use of iteration and loops.\n"
   ]
  },
  {
   "cell_type": "markdown",
   "metadata": {},
   "source": [
    "<a href=\"http://www.youtube.com/watch?feature=player_embedded&v=TJkjvCvPlPc\n",
    "\" target=\"_blank\"><img src=\"https://cdn.lynda.com/course/614299/614299-636517983560502284-16x9.jpg\" \n",
    "alt=\"Key Value Pairs\" width=\"240\" height=\"180\" border=\"10\" /></a>\n",
    "\n",
    "<p></p>\n",
    "<center><b>Video 1:</b> Welcome to Loops and Iteration</center>"
   ]
  },
  {
   "cell_type": "markdown",
   "metadata": {},
   "source": [
    "<a href=\"http://www.youtube.com/watch?feature=player_embedded&v=VGAYp55-PWE\n",
    "\" target=\"_blank\"><img src=\"https://cdn.lynda.com/course/614299/614299-636517983560502284-16x9.jpg\" \n",
    "alt=\"Key Value Pairs\" width=\"240\" height=\"180\" border=\"10\" /></a>\n",
    "\n",
    "<p></p>\n",
    "<center><b>Video 2:</b> Definite Loops</center>"
   ]
  },
  {
   "cell_type": "markdown",
   "metadata": {},
   "source": [
    "<a href=\"http://www.youtube.com/watch?feature=player_embedded&v=TRMlvozjR-Y\n",
    "\" target=\"_blank\"><img src=\"https://cdn.lynda.com/course/614299/614299-636517983560502284-16x9.jpg\" \n",
    "alt=\"Key Value Pairs\" width=\"240\" height=\"180\" border=\"10\" /></a>\n",
    "\n",
    "<p></p>\n",
    "<center><b>Video 3:</b> Loops with a Purpose I</center>"
   ]
  },
  {
   "cell_type": "markdown",
   "metadata": {},
   "source": [
    "<a href=\"http://www.youtube.com/watch?feature=player_embedded&v=3oGsrv3JT20\n",
    "\" target=\"_blank\"><img src=\"https://cdn.lynda.com/course/614299/614299-636517983560502284-16x9.jpg\" \n",
    "alt=\"Key Value Pairs\" width=\"240\" height=\"180\" border=\"10\" /></a>\n",
    "\n",
    "<p></p>\n",
    "<center><b>Video 4:</b> Loops with a Purpose II</center>"
   ]
  },
  {
   "cell_type": "markdown",
   "metadata": {},
   "source": [
    "<a id=\"ref2\"></a>\n",
    "## The `for` Loop\n",
    "\n",
    "<div align=\"right\"><a href=\"#ref00\">back to top</a></div>"
   ]
  },
  {
   "cell_type": "markdown",
   "metadata": {},
   "source": [
    "A basic building block of all programs is to be able to repeat some code over and over again. We refer to this repetitive process as iteration. In this section, we will explore some mechanisms for basic iteration.\n",
    "\n",
    "In Python, the `for` statement allows us to write programs that implement iteration. As a simple example, let’s say we have some friends, and we’d like to send them each an email inviting them to a party. We don’t quite know how to send email yet, so for the moment we’ll just print a message for each person."
   ]
  },
  {
   "cell_type": "code",
   "execution_count": 1,
   "metadata": {},
   "outputs": [
    {
     "name": "stdout",
     "output_type": "stream",
     "text": [
      "Hi Joseph, please come to my party on Saturday!\n",
      "Hi Amy, please come to my party on Saturday!\n",
      "Hi Bradley, please come to my party on Saturday!\n",
      "Hi Angela, please come to my party on Saturday!\n",
      "Hi Yuqi, please come to my party on Saturday!\n",
      "Hi Sandy, please come to my party on Saturday!\n",
      "Hi Pam, please come to my party on Saturday!\n"
     ]
    }
   ],
   "source": [
    "for name in [\"Joseph\", \"Amy\", \"Bradley\", \"Angela\", \"Yuqi\", \"Sandy\", \"Pam\"] :\n",
    "    print(\"Hi\", name + ',', \"please come to my party on Saturday!\")"
   ]
  },
  {
   "cell_type": "markdown",
   "metadata": {},
   "source": [
    "Take a look at the output produced when you press the `Run` button (or `Shift-Enter` of course). There is one line printed for each friend. Here’s how it works:\n",
    "\n",
    "* `name` in this `for` statement is called the *loop variable* or, alternatively, the *iterator variable*.\n",
    "* The list of names in square brackets is the sequence over which we will iterate.\n",
    "* Line 2 is the *loop body*. The loop body is always indented. The indentation determines precisely which statements are *in the loop*. The loop body is performed one time for each name in the list.\n",
    "* On each iteration (or pass of the loop), a check is first done to see if there are still more items to be processed. If there are none left (this is called the *terminating condition* of the loop), the loop has finished. Program execution continues at the next statement after the loop body.\n",
    "* If there are items still to be processed, the loop variable is updated to refer to the next item in the list. This means, in this case, that the loop body is executed here 7 times, and each time `name` will refer to a different person.\n",
    "* At the end of each execution of the body of the loop, Python returns to the `for` statement, to see if there are more items to be handled.\n",
    "\n",
    "\n",
    "The overall syntax is `for <loop_var_name> in <sequence>:`\n",
    "\n",
    "* Between the words `for` and `in`, there must be a variable name for the loop variable. You can’t put a whole expression there.\n",
    "* A `:` (colon) is required at the end of the line\n",
    "* After the word `in` and before the `:` is an expression that must evaluate to a sequence (e.g, a string, list or tuple). It could be a literal, or a variable name, or a more complex expression."
   ]
  },
  {
   "cell_type": "markdown",
   "metadata": {},
   "source": [
    "<a id=\"ref3\"></a>\n",
    "## Flow of Execution of the `for` Loop\n",
    "\n",
    "<div align=\"right\"><a href=\"#ref00\">back to top</a></div>"
   ]
  },
  {
   "cell_type": "markdown",
   "metadata": {},
   "source": [
    "As a program executes, the interpreter always keeps track of which statement is about to be executed. We call this the *control flow*, or the *flow of execution* of the program. When we attempt to explain programs to someone else, we often point to each statement in turn. So, you could think of control flow as “Python’s moving pointer”.\n",
    "\n",
    "Control flow thus far in the course has been almost entirely top to bottom, one statement at a time. We call this type of control *sequential*. Sequential flow of control is always assumed to be the default behavior for a computer program. The `for` statement changes this.\n",
    "\n",
    "Flow of control is perhaps easier to visualise and understand if we draw a flow diagram. This shows the precise steps and logic of how the `for` statement executes."
   ]
  },
  {
   "cell_type": "markdown",
   "metadata": {},
   "source": [
    "<a><img src=\"figures/new_flowchart_for.png\" width=\"220\" height=\"200\" border=\"10\" /></a>\n",
    "\n",
    "<center><b>Figure 1:</b> <i>for</i> statement control flow </center> "
   ]
  },
  {
   "cell_type": "markdown",
   "metadata": {},
   "source": [
    "Whilst loops may not appear necessary or beneficial when iterating over only a few items, they are extremely helpful when iterating over many items. Imagine you needed to change what happens in the code block below. On the left, when you use iteration, this is easy. On the right, when you have hard-code the process, this is more difficult."
   ]
  },
  {
   "cell_type": "markdown",
   "metadata": {},
   "source": [
    "<a><img src=\"figures/iteration_vs_hardcoding.png\" width=\"250\" height=\"180\" border=\"10\" /></a>\n",
    "\n",
    "<np></np>\n",
    "<center><b>Figure 2:</b> <i>for</i> loop versus hard-coding </center>"
   ]
  },
  {
   "cell_type": "markdown",
   "metadata": {},
   "source": [
    "<a id=\"ref4\"></a>\n",
    "## Strings and `for` Loops\n",
    "\n",
    "<div align=\"right\"><a href=\"#ref00\">back to top</a></div>"
   ]
  },
  {
   "cell_type": "markdown",
   "metadata": {},
   "source": [
    "Since a string is simply a sequence of characters, the `for` loop iterates over each character automatically. (As usual try to predict what the output will be from this code before your run it.)"
   ]
  },
  {
   "cell_type": "code",
   "execution_count": 2,
   "metadata": {},
   "outputs": [
    {
     "name": "stdout",
     "output_type": "stream",
     "text": [
      "G\n",
      "o\n",
      " \n",
      "S\n",
      "p\n",
      "o\n",
      "t\n",
      " \n",
      "G\n",
      "o\n"
     ]
    }
   ],
   "source": [
    "for char in \"Go Spot Go\":\n",
    "    print(char)"
   ]
  },
  {
   "cell_type": "markdown",
   "metadata": {},
   "source": [
    "The loop variable `char` is automatically reassigned each character in the string “Go Spot Go”. We will refer to this type of sequence iteration as *iteration by item*. Note that the `for` loop processes the characters in a string or items in a sequence one at a time from left to right."
   ]
  },
  {
   "cell_type": "markdown",
   "metadata": {},
   "source": [
    "**Have a go:**\n",
    "\n",
    "1. How many times is the word HELLO printed by the following statements?\n",
    "\n",
    "```\n",
    "s = \"Monty Python\"\n",
    "for char in s:\n",
    "   print(\"HELLO\")\n",
    "\n",
    "```"
   ]
  },
  {
   "cell_type": "markdown",
   "metadata": {},
   "source": [
    "* A. 10\n",
    "* B. 11\n",
    "* C. 12\n",
    "* D. Error, the `for` statement needs to use the `range` function"
   ]
  },
  {
   "cell_type": "markdown",
   "metadata": {},
   "source": [
    "<div align=\"right\">\n",
    "<a href=\"#q1\" class=\"btn btn-default\" data-toggle=\"collapse\">Click here for the solution</a>\n",
    "\n",
    "</div>\n",
    "<div id=\"q1\" class=\"collapse\">\n",
    "\n",
    "```\n",
    "C. 12. (Yes, there are 12 characters, including the space.)\n",
    "    \n",
    "```\n",
    "\n",
    "</div>"
   ]
  },
  {
   "cell_type": "markdown",
   "metadata": {},
   "source": [
    "2. How many times is the word HELLO printed by the following statements?\n",
    "\n",
    "```\n",
    "s = \"Monty Python\"\n",
    "for char in s[3:8]:\n",
    "   print(\"HELLO\")\n",
    "```"
   ]
  },
  {
   "cell_type": "markdown",
   "metadata": {},
   "source": [
    "* A. 4\n",
    "* B. 5\n",
    "* C. 6\n",
    "* D. Error, the `for` statment cannot use 'slice'"
   ]
  },
  {
   "cell_type": "markdown",
   "metadata": {},
   "source": [
    "<div align=\"right\">\n",
    "<a href=\"#q2\" class=\"btn btn-default\" data-toggle=\"collapse\">Click here for the solution</a>\n",
    "\n",
    "</div>\n",
    "<div id=\"q2\" class=\"collapse\">\n",
    "\n",
    "```\n",
    "B. 5 (Yes, The space is part of the sequence returned by slice.)\n",
    "    \n",
    "```\n",
    "\n",
    "</div>"
   ]
  },
  {
   "cell_type": "markdown",
   "metadata": {},
   "source": [
    "<a id=\"ref5\"></a>\n",
    "## Lists and `for` Loops\n",
    "\n",
    "<div align=\"right\"><a href=\"#ref00\">back to top</a></div>"
   ]
  },
  {
   "cell_type": "markdown",
   "metadata": {},
   "source": [
    "It is also possible to perform *list traversal* using iteration by item. A list is a sequence of items, so the `for` loop iterates over each item in the list automatically."
   ]
  },
  {
   "cell_type": "code",
   "execution_count": null,
   "metadata": {},
   "outputs": [],
   "source": [
    "fruits = [\"apple\",\"orange\",\"banana\",\"cherry\"]\n",
    "\n",
    "for fruit in fruits:     # by item\n",
    "    print(fruit)\n"
   ]
  },
  {
   "cell_type": "markdown",
   "metadata": {},
   "source": [
    "It reads almost like natural language: for (every) fruit in (the list of) fruits, print (the name of the) fruit. Here's another example based on using the Python drawing module `turtle`"
   ]
  },
  {
   "cell_type": "markdown",
   "metadata": {},
   "source": [
    "### Iteration Simplifies Programs"
   ]
  },
  {
   "cell_type": "markdown",
   "metadata": {},
   "source": [
    "To draw a square it is necessary to do the same thing four times — move the turtle forward some distance and turn 90 degrees. This requires 8 lines of Python code to have `alex` draw the four sides of a square. The program below does exactly the same thing but, with the help of the `for` statement, uses just three lines (not including the setup code). Remember that the `for` statement will repeat the forward and left four times, one time for each value in the list."
   ]
  },
  {
   "cell_type": "markdown",
   "metadata": {},
   "source": [
    "```\n",
    "import turtle            # set up alex\n",
    "wn = turtle.Screen()\n",
    "alex = turtle.Turtle()\n",
    "\n",
    "for i in [0, 1, 2, 3]:      # repeat four times\n",
    "    alex.forward(50)\n",
    "    alex.left(90)\n",
    "\n",
    "wn.exitonclick()\n",
    "```"
   ]
  },
  {
   "cell_type": "markdown",
   "metadata": {},
   "source": [
    "While “saving some lines of code” might be convenient, it is not really the point here. What is much more important is that we’ve found a “repeating pattern” of statements, and we reorganised a program to repeat the pattern.\n",
    "\n",
    "The values [0,1,2,3] are provided to make the loop body execute 4 times. We could have used any four values. For example, consider the following program."
   ]
  },
  {
   "cell_type": "markdown",
   "metadata": {},
   "source": [
    "```\n",
    "import turtle            # set up alex\n",
    "wn = turtle.Screen()\n",
    "alex = turtle.Turtle()\n",
    "\n",
    "for aColour in [\"yellow\", \"red\", \"purple\", \"blue\"]: # repeat four times\n",
    "    alex.forward(50)\n",
    "    alex.left(90)\n",
    "\n",
    "wn.exitonclick()\n",
    "```"
   ]
  },
  {
   "cell_type": "markdown",
   "metadata": {},
   "source": [
    "In the previous example, there were four integers in the list. This time there are four strings. Since there are four items in the list, the iteration will still occur four times. `aColour` will take on each colour in the list. We can even take this one step further and use the value of `aColour` as part of the computation.\n"
   ]
  },
  {
   "cell_type": "markdown",
   "metadata": {},
   "source": [
    "```\n",
    "import turtle            # set up alex\n",
    "wn = turtle.Screen()\n",
    "alex = turtle.Turtle()\n",
    "\n",
    "for aColour in [\"yellow\", \"red\", \"purple\", \"blue\"]:\n",
    "    alex.color(aColour)\n",
    "    alex.forward(50)\n",
    "    alex.left(90)\n",
    "\n",
    "wn.exitonclick()\n",
    "```"
   ]
  },
  {
   "cell_type": "markdown",
   "metadata": {},
   "source": [
    "In this case, the value of `aColour` is used to change the colour attribute of `alex`. Each iteration causes `aColour` to change to the next value in the list.\n",
    "\n",
    "The `for`-loop is our first example of a *compound statement*. Syntactically a compound statement is a statement. The level of indentation of a (whole) compound statement is the indentation of its heading. In the example above there are five statements with the same indentation, executed sequentially: the import, 2 assignments, the whole `for`-loop, and `wn.exitonclick()`. The for-loop compound statement is executed completely before going on to the next sequential statement, `wn.exitonclick()`."
   ]
  },
  {
   "cell_type": "markdown",
   "metadata": {},
   "source": [
    "**Have a go:**"
   ]
  },
  {
   "cell_type": "markdown",
   "metadata": {},
   "source": [
    "1. How many times will the `for` loop iterate in the following statements?\n",
    "\n",
    "```\n",
    "p = [3, 4, \"Me\", 3, [], \"Why\", 0, \"Tell\", 9.3]\n",
    "for ch in p:\n",
    "   print(ch)\n",
    "\n",
    "```"
   ]
  },
  {
   "cell_type": "markdown",
   "metadata": {},
   "source": [
    "* A. 8\n",
    "* B. 9\n",
    "* C. 15\n",
    "* D. Error, the `for` statement needs to use the `range` function"
   ]
  },
  {
   "cell_type": "markdown",
   "metadata": {},
   "source": [
    "<div align=\"right\">\n",
    "<a href=\"#q3\" class=\"btn btn-default\" data-toggle=\"collapse\">Click here for the solution</a>\n",
    "\n",
    "</div>\n",
    "<div id=\"q3\" class=\"collapse\">\n",
    "\n",
    "```\n",
    "B. 9 (Yes, there are nine elements in the list so the \n",
    "      for loop will iterate nine times.)\n",
    "    \n",
    "```\n",
    "\n",
    "</div>"
   ]
  },
  {
   "cell_type": "markdown",
   "metadata": {},
   "source": [
    "2. How does Python know what statements are contained in the loop body?\n",
    "\n",
    "\n",
    "* A. They are indented to the same degree from the loop header.\n",
    "* B. There is always exactly one line in the loop body.\n",
    "* C. The loop body ends with a semi-colon (;) which is not shown in the code above."
   ]
  },
  {
   "cell_type": "markdown",
   "metadata": {},
   "source": [
    "<div align=\"right\">\n",
    "<a href=\"#q4\" class=\"btn btn-default\" data-toggle=\"collapse\">Click here for the solution</a>\n",
    "\n",
    "</div>\n",
    "<div id=\"q4\" class=\"collapse\">\n",
    "\n",
    "```\n",
    "A. (The loop body can have any number of lines, \n",
    "    all indented from the loop header.)\n",
    "    \n",
    "```\n",
    "\n",
    "</div>"
   ]
  },
  {
   "cell_type": "markdown",
   "metadata": {},
   "source": [
    "3. Consider the following code:\n",
    "\n",
    "```\n",
    "for aColor in [\"yellow\", \"red\", \"green\", \"blue\"]:\n",
    "   alex.forward(50)\n",
    "   alex.left(90)\n",
    "   \n",
    "```"
   ]
  },
  {
   "cell_type": "markdown",
   "metadata": {},
   "source": [
    "What does each iteration through the loop do?\n",
    "\n",
    "* A. Draw a square using the same color for each side.\n",
    "* B. Draw a square using a different color for each side.\n",
    "* C. Draw one side of a square and then make a 90 degree turn."
   ]
  },
  {
   "cell_type": "markdown",
   "metadata": {},
   "source": [
    "<div align=\"right\">\n",
    "<a href=\"#q5\" class=\"btn btn-default\" data-toggle=\"collapse\">Click here for the solution</a>\n",
    "\n",
    "</div>\n",
    "<div id=\"q5\" class=\"collapse\">\n",
    "\n",
    "```\n",
    "C. (The body of the loop only draws one side of the square. \n",
    "    It will be repeated once for each item in the list. \n",
    "    However, the color of the turtle never changes.)\n",
    "    \n",
    "```\n",
    "\n",
    "</div>"
   ]
  },
  {
   "cell_type": "markdown",
   "metadata": {},
   "source": [
    "<a id=\"ref6\"></a>\n",
    "<h2>The Accumulator Pattern</h2>\n",
    "\n",
    "<div align=\"right\"><a href=\"#ref00\">back to top</a></div>"
   ]
  },
  {
   "cell_type": "markdown",
   "metadata": {},
   "source": [
    "One common programming “pattern” is to traverse a sequence, *accumulating* a value as we go, such as the sum-so-far or the maximum-so-far. That way, at the end of the traversal we have accumulated a single value, such as the sum total of all the items or the largest item.\n",
    "\n",
    "The anatomy of the accumulation pattern includes:\n",
    "* *initialising* an accumulator variable to an initial value (such as 0 if accumulating a sum)\n",
    "* *iterating* (e.g., traversing the items in a sequence)\n",
    "* *updating* the accumulator variable on each iteration (i.e., when processing each item in the sequence)\n",
    "\n",
    "For example, consider the following code which computes the sum of the numbers in a list."
   ]
  },
  {
   "cell_type": "code",
   "execution_count": null,
   "metadata": {},
   "outputs": [],
   "source": [
    "nums = [1, 2, 3, 4, 5, 6, 7, 8, 9, 10]\n",
    "accum = 0\n",
    "for w in nums:\n",
    "    accum = accum + w\n",
    "print(accum)"
   ]
  },
  {
   "cell_type": "markdown",
   "metadata": {},
   "source": [
    "In the program above, notice that the variable `accum` starts out with a value of 0. Next, the iteration is performed 10 times. Inside the for loop, the update occurs. `w` has the value of current item (1 the first time, then 2, then 3, etc.). `accum` is reassigned a new value which is the old value plus the current value of `w`.\n",
    "\n",
    "This pattern of iterating the updating of a variable is commonly referred to as the *accumulator pattern*. We refer to the variable `accum` as the *accumulator*. This pattern will come up over and over and over again (pardon the pun!). Remember that the key to making it work successfully is to be sure to initialise the variable before you start the iteration. Once inside the iteration, it is required that you update the accumulator."
   ]
  },
  {
   "cell_type": "markdown",
   "metadata": {},
   "source": [
    "<div align=\"left\">\n",
    "<a href=\"#q6\" class=\"btn btn-default\" data-toggle=\"collapse\">Note</a>\n",
    "\n",
    "</div>\n",
    "<div id=\"q6\" class=\"collapse\">\n",
    "\n",
    "```\n",
    "What would happen if we indented the print(accum) statement? \n",
    "Not sure? Make a prediction, then try it and find out.\n",
    "    \n",
    "```\n",
    "\n",
    "</div>"
   ]
  },
  {
   "cell_type": "markdown",
   "metadata": {},
   "source": [
    "We can utilise the range function in this situation as well. Previously, you’ve seen it used when we wanted to draw in `turtle`. There we used it to iterate a certain number of times. We can do more than that though. The `range` function takes at least one input - which should be an integer - and returns a list as long as your input. While you can provide two inputs, we will focus on using range with just one input. With one input, range will start at zero and go up to - but not include - the input value. Here are some examples:"
   ]
  },
  {
   "cell_type": "markdown",
   "metadata": {},
   "source": [
    "```\n",
    "print(\"range(5): \")\n",
    "for i in range(5):\n",
    "    print(i)\n",
    "\n",
    "print(\"range(0,5): \")\n",
    "for i in range(0, 5):\n",
    "    print(i)\n",
    "\n",
    "# Notice the casting of `range` to the `list`\n",
    "print(list(range(5)))\n",
    "print(list(range(0,5)))\n",
    "\n",
    "```"
   ]
  },
  {
   "cell_type": "markdown",
   "metadata": {},
   "source": [
    "One important thing to know about the range function in Python 3 is that if we want to use it outside of iteration, we have to cast it as a list using `list()`. Throughout this coursebook you will notice that `range` works with or without casting it as a list but it is best for you to try and get into the habit of casting it as a list. Here’s how you could use the `range` function in the previous problem."
   ]
  },
  {
   "cell_type": "markdown",
   "metadata": {},
   "source": [
    "```\n",
    "accum = 0\n",
    "for w in range(11):\n",
    "    accum = accum + w\n",
    "print(accum)\n",
    "\n",
    "# or, if you use two inputs for the range function\n",
    "\n",
    "accum = 0\n",
    "for w in range(1,11):\n",
    "    accum = accum + w\n",
    "print(accum)\n",
    "\n",
    "\n",
    "```"
   ]
  },
  {
   "cell_type": "markdown",
   "metadata": {},
   "source": [
    "Because the `range` function is exclusive of the ending number, we have to use 11 as the function input.\n",
    "\n",
    "We can use the accumulation pattern to count the number of something or to sum up a total. The above examples only covered how to get the sum for a list, but we can also count how many items are in the list if we wanted to."
   ]
  },
  {
   "cell_type": "markdown",
   "metadata": {},
   "source": [
    "```\n",
    "nums = [1, 2, 3, 4, 5, 6, 7, 8, 9, 10]\n",
    "count = 0\n",
    "for w in nums:\n",
    "    count = count + 1\n",
    "print(count)\n",
    "```"
   ]
  },
  {
   "cell_type": "markdown",
   "metadata": {},
   "source": [
    "In this example we don’t make use of `w` even though the iterator variable (loop variable) is a necessary part of constructing the `for` loop. Instead of adding the value of `w` to `count` we add a 1 to it, because we’re incrementing the value of count when we iterate each time through the loop. Though in this scenario we could have used the `len` function, there are other cases later on where `len` won’t be useful but we will still need to count."
   ]
  },
  {
   "cell_type": "markdown",
   "metadata": {},
   "source": [
    "**Have a go:**"
   ]
  },
  {
   "cell_type": "markdown",
   "metadata": {},
   "source": [
    "1. Consider the following code:\n",
    "\n",
    "```\n",
    "nums = [1, 2, 3, 4, 5, 6, 7, 8, 9, 10]\n",
    "for w in nums:\n",
    "   accum = 0\n",
    "   accum = accum + w\n",
    "print(accum)\n",
    "\n",
    "```"
   ]
  },
  {
   "cell_type": "markdown",
   "metadata": {},
   "source": [
    "What happens if you put the initialisation of `accum` inside the `for` loop as the first instruction in the loop?\n",
    "\n",
    "* A. It will print out 10 instead of 55\n",
    "* B. It will cause a run-time error\n",
    "* C. It will print out 0 instead of 55"
   ]
  },
  {
   "cell_type": "markdown",
   "metadata": {},
   "source": [
    "<div align=\"right\">\n",
    "<a href=\"#q7\" class=\"btn btn-default\" data-toggle=\"collapse\">Click here for the solution</a>\n",
    "\n",
    "</div>\n",
    "<div id=\"q7\" class=\"collapse\">\n",
    "\n",
    "```\n",
    "A. (The variable accum will be reset to 0 each time through the loop. \n",
    "    Then it will add the current item. Only the last item will count.)\n",
    "    \n",
    "```\n",
    "\n",
    "</div>"
   ]
  },
  {
   "cell_type": "markdown",
   "metadata": {},
   "source": [
    "2. Rearrange the code statements below so that the program will add up the first `n` odd numbers where `n` is provided by the user."
   ]
  },
  {
   "cell_type": "code",
   "execution_count": null,
   "metadata": {},
   "outputs": [],
   "source": [
    "# code statement 1\n",
    "for counter in range(n):\n",
    "\n",
    "# code statement 2\n",
    "thesum = thesum + oddnumber\n",
    "oddnumber = oddnumber + 2\n",
    "\n",
    "# code statement 3\n",
    "print(thesum)\n",
    "\n",
    "# code statement 4\n",
    "n = int(input('How many odd numbers would you like to add together?'))\n",
    "thesum = 0\n",
    "oddnumber = 1"
   ]
  },
  {
   "cell_type": "markdown",
   "metadata": {},
   "source": [
    "<div align=\"right\">\n",
    "<a href=\"#q8\" class=\"btn btn-default\" data-toggle=\"collapse\">Click here for the solution</a>\n",
    "\n",
    "</div>\n",
    "<div id=\"q8\" class=\"collapse\">\n",
    "\n",
    "```\n",
    "n = int(input('How many odd numbers would you like to add together?'))\n",
    "thesum = 0\n",
    "oddnumber = 1\n",
    "\n",
    "for counter in range(n):\n",
    "    thesum = thesum + oddnumber\n",
    "    oddnumber = oddnumber + 2\n",
    "print(thesum)\n",
    "\n",
    "```\n",
    "\n",
    "</div>"
   ]
  },
  {
   "cell_type": "markdown",
   "metadata": {},
   "source": [
    "3. Write code to create a list of integers from 1 to 52 and assign that list to the variable `numbers`. You should use a special Python function – do not type out the whole list yourself. *HINT:* You can do this in one line of code!"
   ]
  },
  {
   "cell_type": "code",
   "execution_count": null,
   "metadata": {},
   "outputs": [],
   "source": [
    "# write your code here\n",
    "\n",
    "\n"
   ]
  },
  {
   "cell_type": "markdown",
   "metadata": {},
   "source": [
    "<div align=\"right\">\n",
    "<a href=\"#q9\" class=\"btn btn-default\" data-toggle=\"collapse\">Click here for the solution</a>\n",
    "\n",
    "</div>\n",
    "<div id=\"q9\" class=\"collapse\">\n",
    "\n",
    "```\n",
    "numbers = list(range(1,53))\n",
    "print(numbers)\n",
    "\n",
    "```\n",
    "\n",
    "</div>"
   ]
  },
  {
   "cell_type": "markdown",
   "metadata": {},
   "source": [
    "4. Count the number of characters in string `str1`. Do not use `len()`. Save the number in variable `numbs`."
   ]
  },
  {
   "cell_type": "code",
   "execution_count": null,
   "metadata": {},
   "outputs": [],
   "source": [
    "str1 = \"A little nonsense never hurts, it fires up the brain cells!\"\n",
    "\n",
    "# write your code here\n",
    "\n",
    "\n"
   ]
  },
  {
   "cell_type": "markdown",
   "metadata": {},
   "source": [
    "<div align=\"right\">\n",
    "<a href=\"#q10\" class=\"btn btn-default\" data-toggle=\"collapse\">Click here for the solution</a>\n",
    "\n",
    "</div>\n",
    "<div id=\"q10\" class=\"collapse\">\n",
    "\n",
    "```\n",
    "numbs = 0\n",
    "for char in str1:\n",
    "    numbs += 1\n",
    "print(numbs)\n",
    "\n",
    "```\n",
    "\n",
    "</div>"
   ]
  },
  {
   "cell_type": "markdown",
   "metadata": {},
   "source": [
    "5. Create a list of numbers from 0 to 40 and assign this list to the variable `numbers`. Then, accumulate the total of the list’s values and assign that sum to the variable `sum1`."
   ]
  },
  {
   "cell_type": "code",
   "execution_count": null,
   "metadata": {},
   "outputs": [],
   "source": [
    "# write your code here\n",
    "\n",
    "\n",
    "\n"
   ]
  },
  {
   "cell_type": "markdown",
   "metadata": {},
   "source": [
    "<div align=\"right\">\n",
    "<a href=\"#q12\" class=\"btn btn-default\" data-toggle=\"collapse\">Click here for the solution</a>\n",
    "\n",
    "</div>\n",
    "<div id=\"q12\" class=\"collapse\">\n",
    "\n",
    "```\n",
    "numbers = list(range(41))\n",
    "sum1 = 0\n",
    "for number in numbers:\n",
    "    sum1 += number\n",
    "print(sum1)\n",
    "\n",
    "```\n",
    "\n",
    "</div>"
   ]
  },
  {
   "cell_type": "markdown",
   "metadata": {},
   "source": [
    "<a id=\"ref7\"></a>\n",
    "## Traversal and the `for` Loop: by Index \n",
    "\n",
    "<div align=\"right\"><a href=\"#ref00\">back to top</a></div>"
   ]
  },
  {
   "cell_type": "markdown",
   "metadata": {},
   "source": [
    "It is also possible to iterate through the indices of a string or sequence. The `for` loop can then be used to iterate over these positions. These positions can be used together with the indexing operator to access the individual characters in the string. We can use `enumerate`, a built-in Python function, to make this process easier because it allows us to loop through something and have an automatic counter."
   ]
  },
  {
   "cell_type": "code",
   "execution_count": 6,
   "metadata": {},
   "outputs": [
    {
     "name": "stdout",
     "output_type": "stream",
     "text": [
      "0 apple\n",
      "1 pear\n",
      "2 apricot\n",
      "3 cherry\n",
      "4 peach\n"
     ]
    }
   ],
   "source": [
    "for counter, item in enumerate(['apple', 'pear', 'apricot', 'cherry', 'peach']):\n",
    "    print(counter, item)"
   ]
  },
  {
   "cell_type": "markdown",
   "metadata": {},
   "source": [
    "By using the `enumerate` function, we can print out a counter that tells us the position of an item in a list. We could do this ourselves, but this saves us from having to. The index positions in the list are 0, 1 , 2, 3, and 4. This is exactly the same sequence of integers that are stored in `counter` each time the loop is iterated. The first time through the for loop, `counter` will be 0 and “apple” will be printed. Then, `counter` will be reassigned to 1 and “pear” will be displayed. This will continue until the list has ended, so that the final value for `counter` will be 4 and the final value of item will be “peach”.\n",
    "\n",
    "Conveniently, we can also use the `range` function to automatically generate the indices of the characters."
   ]
  },
  {
   "cell_type": "code",
   "execution_count": 7,
   "metadata": {},
   "outputs": [
    {
     "name": "stdout",
     "output_type": "stream",
     "text": [
      "<class 'range'>\n",
      "range(0, 5)\n"
     ]
    }
   ],
   "source": [
    "x = range(5)\n",
    "print(type(x))\n",
    "print(x)\n"
   ]
  },
  {
   "cell_type": "markdown",
   "metadata": {},
   "source": [
    "In order to make the iteration more general, we can use the `len` function to provide the bound for `range`. This is a very common pattern for traversing any sequence by position. Make sure you understand why the range function behaves correctly when using `len` of the string as its parameter value."
   ]
  },
  {
   "cell_type": "code",
   "execution_count": null,
   "metadata": {},
   "outputs": [],
   "source": [
    "fruit = ['apple', 'pear', 'apricot', 'cherry', 'peach']\n",
    "for n in range(len(fruit)):\n",
    "    print(n, fruit[n])"
   ]
  },
  {
   "cell_type": "markdown",
   "metadata": {},
   "source": [
    "You may also note that iteration by position allows the programmer to control the direction of the traversal by changing the sequence of index values."
   ]
  },
  {
   "cell_type": "markdown",
   "metadata": {},
   "source": [
    "**Have a go:**\n",
    "\n",
    "1.How many times is the letter p printed by the following statements? \n",
    "\n",
    "```\n",
    "s = \"python\"\n",
    "for idx in range(len(s)):\n",
    "    print(s[idx % 2])\n",
    "```"
   ]
  },
  {
   "cell_type": "markdown",
   "metadata": {},
   "source": [
    "* A. 0\n",
    "* B. 1\n",
    "* C. 2\n",
    "* D. 3\n",
    "* E. 6"
   ]
  },
  {
   "cell_type": "markdown",
   "metadata": {},
   "source": [
    "<div align=\"right\">\n",
    "<a href=\"#q13\" class=\"btn btn-default\" data-toggle=\"collapse\">Click here for the solution</a>\n",
    "\n",
    "</div>\n",
    "<div id=\"q13\" class=\"collapse\">\n",
    "\n",
    "```\n",
    "D. (idx % 2 is 0 whenever idx is even)\n",
    "\n",
    "```\n",
    "\n",
    "</div>"
   ]
  },
  {
   "cell_type": "markdown",
   "metadata": {},
   "source": [
    "<a id=\"ref8\"></a>\n",
    "<h2>Nested Iteration: Image Processing</h2>\n",
    "\n",
    "<div align=\"right\"><a href=\"#ref00\">back to top</a></div>"
   ]
  },
  {
   "cell_type": "markdown",
   "metadata": {},
   "source": [
    "Two dimensional tables have both rows and columns. You have probably seen many tables like this if you have used a spreadsheet program. Another object that is organised in rows and columns is a digital image. In this section we will explore how iteration allows us to manipulate these images.\n",
    "\n",
    "A digital image is a finite collection of small, discrete picture elements called pixels. These pixels are organised in a two-dimensional grid. Each pixel represents the smallest amount of picture information that is available. Sometimes these pixels appear as small “dots”.\n",
    "\n",
    "Each image (grid of pixels) has width and height. The width is the number of columns and the height is the number of rows. We can name the pixels in the grid by using the column number and row number. However, it is important to remember that computer scientists like to start counting with 0 (they're an odd lot!). This means that if there are 20 rows, they will be named 0,1,2, and so on up to 19. This will be very useful later when we iterate using range.\n",
    "\n",
    "In Figure 3 the pixel of interest is found at column c and row r."
   ]
  },
  {
   "cell_type": "markdown",
   "metadata": {},
   "source": [
    "<a><img src=\"figures/pixels.png\" width=\"250\" height=\"180\" border=\"10\" /></a>\n",
    "<center> <b>Figure 3:</b> Pixel grid"
   ]
  },
  {
   "cell_type": "markdown",
   "metadata": {},
   "source": [
    "### The RGB Colour Model"
   ]
  },
  {
   "cell_type": "markdown",
   "metadata": {},
   "source": [
    "Each pixel of the image will represent a single colour. The specific colour depends on a formula that mixes various amounts of three basic colours: red, green, and blue. This technique for creating colour is known as the RGB Colour Model. The amount of each colour, sometimes called the intensity of the colour, allows us to have very fine control over the resulting colour.\n",
    "\n",
    "The minimum intensity value for a basic colour is 0. For example if the red intensity is 0, then there is no red in the pixel. The maximum intensity is 255. This means that there are actually 256 different amounts of intensity for each basic colour. Since there are three basic colours, that means that you can create 256<sup>3</sup> (approx 16.8 million) distinct colors using the RGB Colour Model.\n",
    "\n",
    "Here are the red, green and blue intensities for some common colors. Note that Black is represented by a pixel having no basic color. On the other hand, White has maximum values for all three basic color components. Which colour is missing from Figure 4 and what would its RGB value be?"
   ]
  },
  {
   "cell_type": "markdown",
   "metadata": {},
   "source": [
    "<a><img src=\"figures/RGB_model.png\" width=\"350\" height=\"180\" border=\"10\" /></a>\n",
    "\n",
    "<np></np><np></np>\n",
    "\n",
    "<center><b>Figure 4:</b>Basic RGB colours</center>"
   ]
  },
  {
   "cell_type": "markdown",
   "metadata": {},
   "source": [
    "In order to manipulate an image, we need to be able to access individual pixels. This capability is provided by a module called Image (imported below from the PIL(Pillow) library). The Image module defines a class of the same name, `Image`.\n",
    "\n",
    "At pixel level an object has three attributes: red intensity, green intensity, and blue intensity. The method `getpixel` allows us to access the intensity values, returning an integer 3-tuple of the three basic colour bands (R,G,B) intensities. In addition, we can modify an intensity value(s) for a pixel(s) using the `putpixel` method.\n"
   ]
  },
  {
   "cell_type": "markdown",
   "metadata": {},
   "source": [
    "**Have a go:**\n",
    "1. If you have a pixel whose RGB value is (50, 0, 0), what colour will this pixel appear to be?\n",
    "\n",
    "\n",
    "* A. Dark red\n",
    "* B. Light red\n",
    "* C. Dark green\n",
    "* D. Light green"
   ]
  },
  {
   "cell_type": "markdown",
   "metadata": {},
   "source": [
    "<div align=\"right\">\n",
    "<a href=\"#q14\" class=\"btn btn-default\" data-toggle=\"collapse\">Click here for the solution</a>\n",
    "\n",
    "</div>\n",
    "<div id=\"q14\" class=\"collapse\">\n",
    "\n",
    "```\n",
    "A. Because all three values are close to 0, the \n",
    "   colour will be dark. Because the green and blue \n",
    "   values are zero the colour will appear red. \n",
    "\n",
    "```\n",
    "\n",
    "</div>"
   ]
  },
  {
   "cell_type": "markdown",
   "metadata": {},
   "source": [
    "### Image Objects"
   ]
  },
  {
   "cell_type": "markdown",
   "metadata": {},
   "source": [
    "To access the pixels in a real image, we first need to create an `Image` object. `Image` objects can be created in two ways: an `Image` object can be made from the files that store digital images. The `Image` object has attributes corresponding to the width, the height, and the collection of pixels in the image; it is also possible to create a new `Image`. An `Image.new` object has mode (normallly \"RGB\"), width and height. However, the pixel collection consists of only single colour pixels, with the default being Black.\n",
    "\n",
    "We can ask an `Image` object to return its size using the `size`, `width` or `height` methods. We can also get a pixel from a particular location in the image using `getpixel` and change the pixel at a particular location using `putpixel`.\n"
   ]
  },
  {
   "cell_type": "markdown",
   "metadata": {},
   "source": [
    "Consider the image in Figure 5. Assume that the image is stored in a file called `new_campus.jpg` in the subfolder `figures`. Line 2 opens the file and uses the contents to create an `Image` object that is referred to by `img`. Once we have an `Image` object, we can use the methods described above to access information about the image or to get a specific pixel and obtain its basic colour intensities. The code cell below illustrates some basic actions which can be applied to the image and its pixels. You may wish to experiment a little with this."
   ]
  },
  {
   "cell_type": "markdown",
   "metadata": {},
   "source": [
    "<a><img src=\"figures/new_campus.jpg\" width=\"400\" height=\"244\" border=\"10\" /></a>\n",
    "\n",
    "<np></np>\n",
    "<np></np>\n",
    "\n",
    "<center><b>Figure 5:</b> Ulster University's new Belfast campus</center>"
   ]
  },
  {
   "cell_type": "code",
   "execution_count": 8,
   "metadata": {},
   "outputs": [
    {
     "name": "stdout",
     "output_type": "stream",
     "text": [
      "<class 'PixelAccess'>\n",
      "(114, 132, 168)\n",
      "1078\n",
      "1918\n",
      "(114, 132, 168)\n",
      "114\n",
      "132\n",
      "168\n",
      "(50, 100, 150)\n"
     ]
    }
   ],
   "source": [
    "\n",
    "# import the Image module from the PIL(Pillow) library \n",
    "from PIL import Image  # line 1\n",
    "\n",
    "# create a file handle (note this also loads the image data)\n",
    "img = Image.open(\"figures/new_campus.jpg\")  # line 2\n",
    "\n",
    "# create a PixelAccess object with .load() which can be indexed [i,j] but\n",
    "# not sliced. Strictly speaking .load() is not necessary here as .open() loads\n",
    "# the data but .load() also closes the original file which may be beneficial\n",
    "pixels = img.load() \n",
    "print(type(pixels))\n",
    "\n",
    "# return the colour band intensities as a 3-tuple (R,G,B) \n",
    "# for the pixel at col 46 and row 56\n",
    "print(pixels[45,55])\n",
    "\n",
    "# return image height in pixels (no. of rows)\n",
    "print(img.height) \n",
    "\n",
    "# return image width in pixels (no. of columns)\n",
    "print(img.width) \n",
    "\n",
    "# access a single pixel (specifically the pixel at (col 46, row 56))\n",
    "# and return its colour intensties as a 3-tuple for (R,G,B)  \n",
    "print(img.getpixel((45,55)))\n",
    "\n",
    "# we assign the variable p to this pixel \n",
    "p = img.getpixel((45, 55))\n",
    "\n",
    "# access the individual colour band intensities\n",
    "print(p[0])          # Red\n",
    "print(p[1])          # Green\n",
    "print(p[2])          # Blue\n",
    "\n",
    "\n",
    "# here we can change the colour of the pixel at (46,56)\n",
    "img.putpixel((45,55),(50,100,150))\n",
    "# here you can witness the changed pixel colour\n",
    "print(img.getpixel((45,55)))\n",
    "\n",
    "# here we create a new image with \n",
    "# mode: RGB, size: width 1000, hgt 2000, colour: (255,0,255) \n",
    "# if optional colour parameter is not specified the default is black\n",
    "img2 = Image.new('RGB',(1000,2000),(255,0,255))\n",
    "\n",
    "# and here's how it looks\n",
    "img2.show()\n"
   ]
  },
  {
   "cell_type": "markdown",
   "metadata": {},
   "source": [
    "### Image Processing and Nested Iteration "
   ]
  },
  {
   "cell_type": "markdown",
   "metadata": {},
   "source": [
    "Image processing refers to the ability to manipulate the individual pixels in a digital image. In order to process all of the pixels, we need to be able to systematically visit all of the rows and columns in the image. The best way to do this is to use *nested iteration*.\n",
    "\n",
    "Nested iteration simply means that we will place one iteration construct inside another. We shall refer to these iterations as the *outer* iteration and the *inner* iteration. To see how this works, consider the iteration below."
   ]
  },
  {
   "cell_type": "markdown",
   "metadata": {},
   "source": [
    "```\n",
    "for i in range(5):\n",
    "    print(i)\n",
    "```"
   ]
  },
  {
   "cell_type": "markdown",
   "metadata": {},
   "source": [
    "We have seen this often enough to know that the value of `i` will be 0, then 1, then 2, and so on up to 4. `print` is the only statement in the body of the loop and will be performed once for each pass. However, the body of the loop can contain any statement(s) including another iteration (another `for` statement). For instance,"
   ]
  },
  {
   "cell_type": "markdown",
   "metadata": {},
   "source": [
    "```\n",
    "for i in range(5):\n",
    "    for j in range(3):\n",
    "        print(i, j)\n",
    "```"
   ]
  },
  {
   "cell_type": "markdown",
   "metadata": {},
   "source": [
    "The `for` `i` iteration is the outer iteration and the `for` `j` iteration is the inner iteration. Each pass through the outer iteration will result in the complete processing of the inner iteration from beginning to end. This means that the output from this nested iteration will demonstrate that for each particular value of `i`, all values of `j` will be considered.\n",
    "\n",
    "Here is the same example from above. Run it. Note that the value of `i` remains constant while the value of `j` changes. The inner iteration, in effect, is moving faster than the outer iteration."
   ]
  },
  {
   "cell_type": "code",
   "execution_count": 9,
   "metadata": {},
   "outputs": [
    {
     "name": "stdout",
     "output_type": "stream",
     "text": [
      "0 0\n",
      "0 1\n",
      "0 2\n",
      "1 0\n",
      "1 1\n",
      "1 2\n",
      "2 0\n",
      "2 1\n",
      "2 2\n",
      "3 0\n",
      "3 1\n",
      "3 2\n",
      "4 0\n",
      "4 1\n",
      "4 2\n"
     ]
    }
   ],
   "source": [
    "for i in range(5):\n",
    "    for j in range(3):\n",
    "        print(i, j)"
   ]
  },
  {
   "cell_type": "markdown",
   "metadata": {},
   "source": [
    "The goal with image processing is to visit each pixel. We use an outer iteration to process each row. Within that iteration, we use an inner iteration to process each column. The result is a nested iteration, similar to that immediately above, where the outer `for` loop processes the rows, from 0 up to but not including the height of the image. The inner `for` loop will process each column in a given row, again from 0 up to but not including the width of the image.\n",
    "\n",
    "The resulting code will look as follows (we are now free to modify each pixel in the image as we wish):"
   ]
  },
  {
   "cell_type": "markdown",
   "metadata": {},
   "source": [
    "```\n",
    "for row in range(img.height):\n",
    "    for col in range(img.width):\n",
    "        # do something with the pixel at position (col,row)\n",
    "```"
   ]
  },
  {
   "cell_type": "markdown",
   "metadata": {},
   "source": [
    "One of the simplest (but still quite impressive) image processing algorithms creates what is known as a *negative* image. A negative image simply means that each pixel will be the opposite of what it was originally. But what does opposite mean?\n",
    "\n",
    "In the RGB color model, we can consider the opposite of the red component as the difference between the original red and 255. For example, if the original red component was 50, then the opposite, or negative red value would be 255-50 or 205. In other words, pixels with a high intensity of red will have negatives with a low intensity of red and vise-versa. The same applies for the blue and green values as well.\n",
    "\n",
    "The program below implements this algorithm using the previous image `new_campus.jpg`. Run it to see the resulting negative image. Note that there is a lot of processing taking place and this may take a few seconds to complete. "
   ]
  },
  {
   "cell_type": "markdown",
   "metadata": {},
   "source": [
    "```\n",
    "1   from PIL import Image\n",
    "2   img = Image.open('figures/new_campus.jpg')\n",
    "3   pixels = img.load()\n",
    "5\n",
    "6   for row in range(img.height):\n",
    "7       for col in range(img.width):\n",
    "8           p = img.getpixel((col,row))\n",
    "9           pixels[col,row] = (255-p[0],255-p[1],255-p[2])\n",
    "10\n",
    "11  img.save('figures/new_campus_negative.jpg')\n",
    "12  img.show()\n",
    "\n",
    "```"
   ]
  },
  {
   "cell_type": "markdown",
   "metadata": {},
   "source": [
    "Let’s take a closer look at the code. After importing the `Image` module on line 1, we create an `Image` object called `img` on line 2 that represents a typical digital photograph. Note that whilst the data actually gets read in to Python on line 2, we create the PixelAccess object `pixels` on line 3 with which we can access and manipulate the digital data via the `load` method. The `load` method also closes the original file preventing it from being overwritten. \n",
    "\n",
    "In this example we update each pixel in the image from top to bottom, moving left to right. Lines 6 and 7 create the nested iteration we discussed earlier. This sets up the infrastructure to allow us to process each and every pixel in the image. Line 8 sources an individual pixel and assigns it to the 3-tuple `p`.\n",
    "\n",
    "Line 9 creates the *pixel negative*, generating negative intensity values by extracting the original Red, Green and Blue colour band intensities from the pixel colour 3-tuple `p` and subtracting each of them from 255.\n",
    "\n",
    "Finally, on line 11, the complete data set for the *image negative*, contained in the modified object `pixels` is saved to a new file called `figures/new_campus_negative.jpg`. Line 12 is simply included to allow us to view the final result in a pop up window (the application used to display images will depend on your operating system, for Windows machines it will probably be Paint).\n"
   ]
  },
  {
   "cell_type": "markdown",
   "metadata": {},
   "source": [
    "#### Other pixel manipulation\n",
    "\n",
    "There are a number of different image processing algorithms that follow the same pattern as shown above. Namely, take the original pixel, extract the red, green, and blue intensities, and then create a new pixel from them. The new pixel is inserted into a new image at the same location as the original.\n",
    "\n",
    "For example, you can create a *gray scale* pixel by averaging the red, green and blue intensities and then using that value for all intensities.\n",
    "\n",
    "From the gray scale you can create *black-white* by setting a threshold and selecting to either insert a white pixel for a black pixel into the empty image.\n"
   ]
  },
  {
   "cell_type": "markdown",
   "metadata": {},
   "source": [
    "**Have a go:**\n",
    "1. What will the following nested for-loop print?"
   ]
  },
  {
   "cell_type": "code",
   "execution_count": null,
   "metadata": {},
   "outputs": [],
   "source": [
    "for i in range(3):\n",
    "    for j in range(2):\n",
    "        print(i, j)"
   ]
  },
  {
   "cell_type": "markdown",
   "metadata": {},
   "source": [
    "```\n",
    "a.       b.        c.       d.\n",
    "\n",
    "0  0     0  0      0  0     0  1 \n",
    "0  1     1  0      0  1     0  1\n",
    "1  0     2  0      0  2     0  1\n",
    "1  1     0  1      1  0\n",
    "2  0     1  1      1  1\n",
    "2  1     2  1      1  2\n",
    "```"
   ]
  },
  {
   "cell_type": "markdown",
   "metadata": {},
   "source": [
    "* A. Output a\n",
    "* B. Output b\n",
    "* C. Output c\n",
    "* D. Output d"
   ]
  },
  {
   "cell_type": "markdown",
   "metadata": {},
   "source": [
    "<div align=\"right\">\n",
    "<a href=\"#q16\" class=\"btn btn-default\" data-toggle=\"collapse\">Click here for the solution</a>\n",
    "\n",
    "</div>\n",
    "<div id=\"q16\" class=\"collapse\">\n",
    "\n",
    "```\n",
    "A. Output a ( i will start with a value of 0 and then j will iterate \n",
    "   from 0 to 1. Next, i will be 1 and j will iterate from 0 to 1. \n",
    "   Finally, i will be 2 and j will iterate from 0 to 1.) \n",
    "\n",
    "```\n",
    "\n",
    "</div>"
   ]
  },
  {
   "cell_type": "markdown",
   "metadata": {},
   "source": [
    "2. What would be produced if the line\n",
    "\n",
    "```\n",
    "pixels[col,row] = (255-p[0],255-p[1],255-p[2])\n",
    "```\n",
    "   was replaced with \n",
    "\n",
    "```\n",
    "pixels[col,row] = (255-p[0],0,0)\n",
    "```\n",
    "\n",
    "   in this code?"
   ]
  },
  {
   "cell_type": "markdown",
   "metadata": {},
   "source": [
    "```\n",
    "1   from PIL import Image\n",
    "2   img = Image.open('figures/new_campus.jpg')\n",
    "3   pixels = img.load()\n",
    "5\n",
    "6   for row in range(img.height):\n",
    "7       for col in range(img.width):\n",
    "8           p = img.getpixel((col,row))\n",
    "9           pixels[col,row] = (255-p[0],255-p[1],255-p[2])\n",
    "10\n",
    "11  img.save('figures/new_campus_negative.jpg')\n",
    "12  img.show()\n",
    "\n",
    "```"
   ]
  },
  {
   "cell_type": "markdown",
   "metadata": {},
   "source": [
    "* A. It would look like a red-washed version of the negative image\n",
    "* B. It would be a solid red rectangle the same size as the original image\n",
    "* C. It would look the same as the original image\n",
    "* D. It would look the same as the negative image in the example code"
   ]
  },
  {
   "cell_type": "markdown",
   "metadata": {},
   "source": [
    "<div align=\"right\">\n",
    "<a href=\"#q18\" class=\"btn btn-default\" data-toggle=\"collapse\">Click here for the solution</a>\n",
    "\n",
    "</div>\n",
    "<div id=\"q18\" class=\"collapse\">\n",
    "\n",
    "```\n",
    "A. Because we are removing the green and the blue values, but keeping \n",
    "   the variation (or distribution) of the red the same, we get the same image, \n",
    "   but it will look like it has been bathed in red. \n",
    "\n",
    "```\n",
    "\n",
    "</div>"
   ]
  },
  {
   "cell_type": "markdown",
   "metadata": {},
   "source": [
    "<a id=\"ref9\"></a>\n",
    "<h2>Printing Intermediate Results</h2>\n",
    "\n",
    "<div align=\"right\"><a href=\"#ref00\">back to top</a></div>"
   ]
  },
  {
   "cell_type": "markdown",
   "metadata": {},
   "source": [
    "If you are wondering what is actually happening in your program or someone else's, it is useful to be able to step through the program and watch what happens each time a line is evaluated by the Python interpretor.\n",
    "\n",
    "For this, `print` statements are your friend. They can show you what the value of something is. This is especially helpful in the case of writing `for` loops or accumulating a value. If something is going wrong you can compare what you expect to happen with what is actually happening."
   ]
  },
  {
   "cell_type": "code",
   "execution_count": 11,
   "metadata": {},
   "outputs": [
    {
     "name": "stdout",
     "output_type": "stream",
     "text": [
      "45\n"
     ]
    }
   ],
   "source": [
    "w = range(10)\n",
    "\n",
    "tot = 0\n",
    "for num in w:\n",
    "    tot += num\n",
    "print(tot)"
   ]
  },
  {
   "cell_type": "markdown",
   "metadata": {},
   "source": [
    "Suppose we weren’t sure what `num` was being assigned each time we iterated. One way to find out would be to add a `print` statement inside the `for` loop to let us see explicitly."
   ]
  },
  {
   "cell_type": "code",
   "execution_count": 12,
   "metadata": {},
   "outputs": [
    {
     "name": "stdout",
     "output_type": "stream",
     "text": [
      "0\n",
      "1\n",
      "2\n",
      "3\n",
      "4\n",
      "5\n",
      "6\n",
      "7\n",
      "8\n",
      "9\n",
      "45\n"
     ]
    }
   ],
   "source": [
    "w = range(10)\n",
    "\n",
    "tot = 0\n",
    "for num in w:\n",
    "    print(num)\n",
    "    tot += num\n",
    "print(tot)\n"
   ]
  },
  {
   "cell_type": "markdown",
   "metadata": {},
   "source": [
    "If we want to see what was happening to `tot` as well, we could `print` that from within the `for` loop too."
   ]
  },
  {
   "cell_type": "code",
   "execution_count": 13,
   "metadata": {},
   "outputs": [
    {
     "name": "stdout",
     "output_type": "stream",
     "text": [
      "0\n",
      "0\n",
      "1\n",
      "1\n",
      "2\n",
      "3\n",
      "3\n",
      "6\n",
      "4\n",
      "10\n",
      "5\n",
      "15\n",
      "6\n",
      "21\n",
      "7\n",
      "28\n",
      "8\n",
      "36\n",
      "9\n",
      "45\n",
      "45\n"
     ]
    }
   ],
   "source": [
    "w = range(10)\n",
    "\n",
    "\n",
    "tot = 0\n",
    "for num in w:\n",
    "    print(num)\n",
    "    tot += num\n",
    "    print(tot)\n",
    "print(tot)"
   ]
  },
  {
   "cell_type": "markdown",
   "metadata": {},
   "source": [
    "Finally, if we want to make these numbers easier to understand, we could add more detail to the `print` statements to make them easier to read!"
   ]
  },
  {
   "cell_type": "code",
   "execution_count": 14,
   "metadata": {},
   "outputs": [
    {
     "name": "stdout",
     "output_type": "stream",
     "text": [
      "***** Before the For Loop ******\n",
      "***** A New Loop Iteration ******\n",
      "Value of num: 0\n",
      "Value of tot: 0\n",
      "***** A New Loop Iteration ******\n",
      "Value of num: 1\n",
      "Value of tot: 1\n",
      "***** A New Loop Iteration ******\n",
      "Value of num: 2\n",
      "Value of tot: 3\n",
      "***** A New Loop Iteration ******\n",
      "Value of num: 3\n",
      "Value of tot: 6\n",
      "***** A New Loop Iteration ******\n",
      "Value of num: 4\n",
      "Value of tot: 10\n",
      "***** A New Loop Iteration ******\n",
      "Value of num: 5\n",
      "Value of tot: 15\n",
      "***** A New Loop Iteration ******\n",
      "Value of num: 6\n",
      "Value of tot: 21\n",
      "***** A New Loop Iteration ******\n",
      "Value of num: 7\n",
      "Value of tot: 28\n",
      "***** A New Loop Iteration ******\n",
      "Value of num: 8\n",
      "Value of tot: 36\n",
      "***** A New Loop Iteration ******\n",
      "Value of num: 9\n",
      "Value of tot: 45\n",
      "***** End of For Loop *****\n",
      "Final total: 45\n"
     ]
    }
   ],
   "source": [
    "w = range(10)\n",
    "\n",
    "tot = 0\n",
    "print(\"***** Before the For Loop ******\")\n",
    "for num in w:\n",
    "    print(\"***** A New Loop Iteration ******\")\n",
    "    print(\"Value of num:\", num)\n",
    "    tot += num\n",
    "    print(\"Value of tot:\", tot)\n",
    "print(\"***** End of For Loop *****\")\n",
    "print(\"Final total:\", tot)"
   ]
  },
  {
   "cell_type": "markdown",
   "metadata": {},
   "source": [
    "<a id=\"ref10\"></a>\n",
    "## Naming Variables in `for` Loops\n",
    "\n",
    "<div align=\"right\"><a href=\"#ref00\">back to top</a></div>"
   ]
  },
  {
   "cell_type": "markdown",
   "metadata": {},
   "source": [
    "We’ve mentioned already the benefits of carefully choosing variable names. Though the names we choose aren’t meaningful to the program, they can be to us. When we choose names for variables in `for` loops, the more readily understandable they are to us, the easier it will be to use them. Here are some tips to make `for` loops more readable for ourselves and anyone else who may read our programs:\n",
    "\n",
    "<div align=\"center\"> \n",
    "<a href=\"#q0w18\" class=\"btn btn-default\" data-toggle=\"collapse\">Naming Tips</a>\n",
    "    \n",
    "</div>\n",
    "\n",
    "<div id=\"q0w18\" class=\"collapse\">\n",
    "\n",
    "```\n",
    " 1. use singular nouns for the iterator variable, which is also \n",
    "    called the loop variable (things like “song”, “book”, “post”,\n",
    "    “letter”, “word”).\n",
    " 2. use plural nouns for the sequence variable (things like \n",
    "    “songs”, “books”, “posts”, “letters”, “words”).\n",
    "\n",
    "```\n",
    "\n",
    "</div>\n",
    "\n",
    "\n",
    "While these two tips won’t always apply, they represent good practice when it comes to choosing variable names. Below we have an example!"
   ]
  },
  {
   "cell_type": "code",
   "execution_count": 15,
   "metadata": {},
   "outputs": [
    {
     "name": "stdout",
     "output_type": "stream",
     "text": [
      "0\n",
      "1\n",
      "2\n",
      "3\n",
      "4\n"
     ]
    }
   ],
   "source": [
    "# x is a list defined elsewhwere\n",
    "\n",
    "for y in x:\n",
    "    print(y)\n"
   ]
  },
  {
   "cell_type": "markdown",
   "metadata": {},
   "source": [
    "Since we can’t directly see the contents of `x` - this might be the case if we have a long program where `x` has been defined perhaps 50 lines earlier- then these names would make the program hard to understand. Let’s compare this to a program that does the same thing, but which uses a better naming convention."
   ]
  },
  {
   "cell_type": "code",
   "execution_count": null,
   "metadata": {},
   "outputs": [],
   "source": [
    "# fruits is a list defined elsewhere\n",
    "\n",
    "for fruit in fruits:\n",
    "    print(fruit)"
   ]
  },
  {
   "cell_type": "markdown",
   "metadata": {},
   "source": [
    "Here what we expect is much more clear, even if we didn’t see how `fruits` was initialised!"
   ]
  },
  {
   "cell_type": "markdown",
   "metadata": {},
   "source": [
    "<h3>Iterables: some finer points</h3>\n",
    "\n",
    "The general syntax of a `for` loop is:"
   ]
  },
  {
   "cell_type": "code",
   "execution_count": null,
   "metadata": {},
   "outputs": [],
   "source": [
    "for iter_var_name in some_seq:\n",
    "    # code block line 1\n",
    "    # code block line 2\n",
    "    # ..."
   ]
  },
  {
   "cell_type": "markdown",
   "metadata": {},
   "source": [
    "After the word `in`, there can be any Python expression that evaluates to a sequence. You have already seen iteration over strings and lists. A string is a sequence whose items are single characters. A list is a sequence whose items can be any kind of Python object.\n",
    "\n",
    "Actually, the `for` loop is a little more general. It can iterate not just over strings and lists, but any kind of Python object that acts like a sequence. So far, strings and lists are all we have seen. But a little later in the course we will see tuples, which are another kind of sequence.\n",
    "\n",
    "We will also see some Python objects that act like sequences for the purposes of iterating with a `for` loop. These include file objects, views, and iterators.\n",
    "\n",
    "In fact, we have actually already seen one of these without noticing, because it hardly matters. Technically, the `range` function doesn’t actually return a list. That is, `range(3)` doesn’t actually create the list `[0, 1, 2]`. It returns an object that <i>acts</i> just like the list `[0, 1, 2]`, <i>when used</i> in a `for` loop. The difference is that the numbers 0, 1, and 2 are produced as they are needed rather than all created in advance. This hardly matters when there are only three items. For `range(10000000)` it makes a difference for how fast the program runs and how much memory is used. That’s why the items are produced as needed rather than all produced in advance.\n",
    "\n",
    "For the purposes of this course, however, the difference is not a matter of importance. You can safely think of the `range` function as returning a list object. \n"
   ]
  },
  {
   "cell_type": "markdown",
   "metadata": {},
   "source": [
    "<a id=\"ref12\"></a>\n",
    "<h2>Keeping Track of the Iterator Variable and the Iterable</h2>\n",
    "\n",
    "<div align=\"right\"><a href=\"#ref00\">back to top</a></div>"
   ]
  },
  {
   "cell_type": "markdown",
   "metadata": {},
   "source": [
    "When we first begin using `for` loops, we sometimes have difficulty understanding the difference between the iterator variable (the loop variable) and the iterable.\n",
    "\n",
    "The iterable is the object that you will be parsing through in a `for` loop. Generally, this object does not change while the `for` loop is being executed.\n",
    "\n",
    "The iterator (loop) variable is the variable which stores a portion of the iterable when the `for` loop is being executed. Each time the loop iterates, the value of the iterator variable will change to reflect a different member of the iterable."
   ]
  },
  {
   "cell_type": "markdown",
   "metadata": {},
   "source": [
    "**Have a go:**\n",
    "1. What is the `type` of the iterable?"
   ]
  },
  {
   "cell_type": "code",
   "execution_count": null,
   "metadata": {},
   "outputs": [],
   "source": [
    "n = [\"word\", \"phrase\", 8, (\"beam\")]\n",
    "for item in n:\n",
    "    print(item)"
   ]
  },
  {
   "cell_type": "markdown",
   "metadata": {},
   "source": [
    "* A. string\n",
    "* B. list\n",
    "* C. tuple\n",
    "* D. iterable\n",
    "* E. error, unable to iterate over the object."
   ]
  },
  {
   "cell_type": "markdown",
   "metadata": {},
   "source": [
    "<div align=\"right\">\n",
    "<a href=\"#q018\" class=\"btn btn-default\" data-toggle=\"collapse\">Click here for the solution</a>\n",
    "\n",
    "</div>\n",
    "<div id=\"q018\" class=\"collapse\">\n",
    "\n",
    "```\n",
    "B. list (Yes, the iterable is n, and it is a list.) \n",
    "\n",
    "```\n",
    "\n",
    "</div>"
   ]
  },
  {
   "cell_type": "markdown",
   "metadata": {},
   "source": [
    "2. What is the `type` of the iterable?"
   ]
  },
  {
   "cell_type": "code",
   "execution_count": null,
   "metadata": {},
   "outputs": [],
   "source": [
    "t = \"couch\"\n",
    "for z in t:\n",
    "    print(z)"
   ]
  },
  {
   "cell_type": "markdown",
   "metadata": {},
   "source": [
    "* A. string\n",
    "* B. list\n",
    "* C. tuple\n",
    "* D. iterable\n",
    "* E. error, unable to iterate over the object."
   ]
  },
  {
   "cell_type": "markdown",
   "metadata": {},
   "source": [
    "<div align=\"right\">\n",
    "<a href=\"#q118\" class=\"btn btn-default\" data-toggle=\"collapse\">Click here for the solution</a>\n",
    "\n",
    "</div>\n",
    "<div id=\"q118\" class=\"collapse\">\n",
    "\n",
    "```\n",
    "A. (Yes, the iterable in this example is a string) \n",
    "\n",
    "```\n",
    "\n",
    "</div>"
   ]
  },
  {
   "cell_type": "markdown",
   "metadata": {},
   "source": [
    "3. What is the `type` of the iterable?"
   ]
  },
  {
   "cell_type": "code",
   "execution_count": null,
   "metadata": {},
   "outputs": [],
   "source": [
    "y = 18\n",
    "for z in y:\n",
    "    print(z)"
   ]
  },
  {
   "cell_type": "markdown",
   "metadata": {},
   "source": [
    "* A. string\n",
    "* B. list\n",
    "* C. tuple\n",
    "* D. iterable\n",
    "* E. error, unable to iterate over the object."
   ]
  },
  {
   "cell_type": "markdown",
   "metadata": {},
   "source": [
    "<div align=\"right\">\n",
    "<a href=\"#q218\" class=\"btn btn-default\" data-toggle=\"collapse\">Click here for the solution</a>\n",
    "\n",
    "</div>\n",
    "<div id=\"q218\" class=\"collapse\">\n",
    "\n",
    "```\n",
    "E. (Yes, Python is unable to iterate over integers and floats.)\n",
    "```\n",
    "\n",
    "</div>"
   ]
  },
  {
   "cell_type": "markdown",
   "metadata": {},
   "source": [
    "4. What is the `type` of the iterable?"
   ]
  },
  {
   "cell_type": "code",
   "execution_count": null,
   "metadata": {},
   "outputs": [],
   "source": [
    "t = (\"couch\", \"chair\", \"washer\", \"dryer\", \"table\")\n",
    "for z in t:\n",
    "    print(z)"
   ]
  },
  {
   "cell_type": "markdown",
   "metadata": {},
   "source": [
    "* A. string\n",
    "* B. list\n",
    "* C. tuple\n",
    "* D. iterable\n",
    "* E. error, unable to iterate over the object."
   ]
  },
  {
   "cell_type": "markdown",
   "metadata": {},
   "source": [
    "<div align=\"right\">\n",
    "<a href=\"#q318\" class=\"btn btn-default\" data-toggle=\"collapse\">Click here for the solution</a>\n",
    "\n",
    "</div>\n",
    "<div id=\"q318\" class=\"collapse\">\n",
    "\n",
    "```\n",
    "C. (Yes, the iterable in this situation is a tuple.)\n",
    "```\n",
    "\n",
    "</div>"
   ]
  },
  {
   "cell_type": "markdown",
   "metadata": {},
   "source": [
    "5. What is the `type` of the iterator variable?"
   ]
  },
  {
   "cell_type": "code",
   "execution_count": null,
   "metadata": {},
   "outputs": [],
   "source": [
    "t = [\"couch\", \"chair\", \"washer\", \"dryer\", \"table\"]\n",
    "for z in t:\n",
    "    print(z)"
   ]
  },
  {
   "cell_type": "markdown",
   "metadata": {},
   "source": [
    "* A. string\n",
    "* B. list\n",
    "* C. tuple\n",
    "* D. integer\n",
    "* E. error, unable to iterate and initialise the iterator variable"
   ]
  },
  {
   "cell_type": "markdown",
   "metadata": {},
   "source": [
    "<div align=\"right\">\n",
    "<a href=\"#q518\" class=\"btn btn-default\" data-toggle=\"collapse\">Click here for the solution</a>\n",
    "\n",
    "</div>\n",
    "<div id=\"q518\" class=\"collapse\">\n",
    "\n",
    "```\n",
    "A. (Correct! Every item in the iterable (here the list t) is a \n",
    "    string so the iterator variable will always be a string.)\n",
    "```\n",
    "\n",
    "</div>"
   ]
  },
  {
   "cell_type": "markdown",
   "metadata": {},
   "source": [
    "6. What is the `type` of the iterator variable in the first iteration?"
   ]
  },
  {
   "cell_type": "code",
   "execution_count": null,
   "metadata": {},
   "outputs": [],
   "source": [
    "t = [9, \"winger\", 3, \"prop\", 10, \"flanker\"]\n",
    "for z in t:\n",
    "    print(z)"
   ]
  },
  {
   "cell_type": "markdown",
   "metadata": {},
   "source": [
    "* A. string\n",
    "* B. list\n",
    "* C. tuple\n",
    "* D. integer\n",
    "* E. error, unable to iterate and initialise the iterator variable"
   ]
  },
  {
   "cell_type": "markdown",
   "metadata": {},
   "source": [
    "<div align=\"right\">\n",
    "<a href=\"#q618\" class=\"btn btn-default\" data-toggle=\"collapse\">Click here for the solution</a>\n",
    "\n",
    "</div>\n",
    "<div id=\"q618\" class=\"collapse\">\n",
    "\n",
    "```\n",
    "D. (Yes, the first item in t is an integer.)\n",
    "```\n",
    "\n",
    "</div>"
   ]
  },
  {
   "cell_type": "markdown",
   "metadata": {},
   "source": [
    "7. What is the `type` of the iterator variable in the second iteration?"
   ]
  },
  {
   "cell_type": "code",
   "execution_count": null,
   "metadata": {},
   "outputs": [],
   "source": [
    "t = [11, \"winger\", 3, \"prop\", 7, \"flanker\"]\n",
    "for z in t:\n",
    "    print(z)"
   ]
  },
  {
   "cell_type": "markdown",
   "metadata": {},
   "source": [
    "* A. string\n",
    "* B. list\n",
    "* C. tuple\n",
    "* D. integer\n",
    "* E. error, unable to iterate and initialise the iterator variable"
   ]
  },
  {
   "cell_type": "markdown",
   "metadata": {},
   "source": [
    "<div align=\"right\">\n",
    "<a href=\"#q718\" class=\"btn btn-default\" data-toggle=\"collapse\">Click here for the solution</a>\n",
    "\n",
    "</div>\n",
    "<div id=\"q718\" class=\"collapse\">\n",
    "\n",
    "```\n",
    "A. (Yes, the second item in t is a string.)\n",
    "```\n",
    "\n",
    "</div>"
   ]
  },
  {
   "cell_type": "markdown",
   "metadata": {},
   "source": [
    "8. What is the `type` of the iterator variable in the final iteration?"
   ]
  },
  {
   "cell_type": "code",
   "execution_count": null,
   "metadata": {},
   "outputs": [],
   "source": [
    "red = \"colours\"\n",
    "for blue in red:\n",
    "    print(blue)"
   ]
  },
  {
   "cell_type": "markdown",
   "metadata": {},
   "source": [
    "* A. string\n",
    "* B. list\n",
    "* C. tuple\n",
    "* D. integer\n",
    "* E. error, unable to iterate and initialise the iterator variable"
   ]
  },
  {
   "cell_type": "markdown",
   "metadata": {},
   "source": [
    "<div align=\"right\">\n",
    "<a href=\"#q818\" class=\"btn btn-default\" data-toggle=\"collapse\">Click here for the solution</a>\n",
    "\n",
    "</div>\n",
    "<div id=\"q818\" class=\"collapse\">\n",
    "\n",
    "```\n",
    "A. (Yes, the final value stored in the iterator variable is a string.\n",
    "    In fact right throughout this process the iterable variable takes \n",
    "    the form of a particular single character string: \"c\", then \"o\",...)\n",
    "```\n",
    "\n",
    "</div>"
   ]
  },
  {
   "cell_type": "markdown",
   "metadata": {},
   "source": [
    "<a id=\"ref13\"></a>\n",
    "<h2>Glossary</h2>\n",
    "\n",
    "<div align=\"right\"><a href=\"#ref00\">back to top</a></div>"
   ]
  },
  {
   "cell_type": "markdown",
   "metadata": {},
   "source": [
    "**for loop traversal (`for`):**\n",
    "Traversing a string or a list means accessing each character in the string or item in the list, one at a time. For example, the following `for` loop:\n",
    "\n",
    "```\n",
    "for ix in 'Example':\n",
    "    ...\n",
    "```\n",
    "\n",
    "executes the body of the loop 7 times with different values of `ix` each time.\n",
    "\n",
    "**range:**\n",
    "A function that produces a list of numbers. For example, `range(5)`, produces a list of five numbers, starting with 0, `[0, 1, 2, 3, 4]`.\n",
    "\n",
    "**pattern:**\n",
    "A sequence of statements, or a style of coding something that has general applicability in a number of different situations. Part of becoming a mature programmer is to learn and establish the patterns and algorithms that form your toolkit.\n",
    "\n",
    "**index:**\n",
    "A variable or value used to select a member of an ordered collection, such as a character from a string, or an element from a list.\n",
    "\n",
    "**traverse**\n",
    "To iterate through the elements of a collection, performing a similar operation on each.\n",
    "\n",
    "**accumulator pattern**\n",
    "A pattern where the program initialises an accumulator variable and then changes it during each iteration, accumulating a final result."
   ]
  },
  {
   "cell_type": "markdown",
   "metadata": {},
   "source": [
    "<a id=\"ref14\"></a>\n",
    "<h2>Exercises</h2>\n",
    "\n",
    "<div align=\"right\"><a href=\"#ref00\">back to top</a></div>"
   ]
  },
  {
   "cell_type": "markdown",
   "metadata": {},
   "source": [
    "1. Write a program that will go through a list of temperatures and print them out to the user in the form of a message: *'The temperature outside is `temperature` degrees.'*\n"
   ]
  },
  {
   "cell_type": "code",
   "execution_count": null,
   "metadata": {},
   "outputs": [],
   "source": [
    "temperatures = [-3, 45, 92, -18, 56, -10, 0, 38]\n",
    "# write your code here\n",
    "\n"
   ]
  },
  {
   "cell_type": "markdown",
   "metadata": {},
   "source": [
    "2. Prompt a user to enter some text and print it out in reverse order."
   ]
  },
  {
   "cell_type": "code",
   "execution_count": null,
   "metadata": {},
   "outputs": [],
   "source": [
    "# write your code here\n",
    "\n",
    "\n"
   ]
  },
  {
   "cell_type": "markdown",
   "metadata": {},
   "source": [
    "3. Write a program that uses a `for` loop to print\n",
    "\n",
    "```\n",
    "One of the months of the year is January\n",
    "One of the months of the year is February\n",
    "One of the months of the year is March\n",
    "etc …\n",
    "```"
   ]
  },
  {
   "cell_type": "code",
   "execution_count": null,
   "metadata": {},
   "outputs": [],
   "source": [
    "# Hint: start by defining a list called all_months which \n",
    "# contains the names of the twelve months of the year as strings\n",
    "\n",
    "# write your code here\n",
    "\n",
    "\n"
   ]
  },
  {
   "cell_type": "markdown",
   "metadata": {},
   "source": [
    "4. Assume you have a list of numbers `12, 10, 32, 3, 66, 17, 42, 99, 20`\n",
    "\n",
    "\n",
    "* a. Write a loop that prints each of the numbers on a new line.\n",
    "* b. Write a loop that prints each number and its square on a new line."
   ]
  },
  {
   "cell_type": "code",
   "execution_count": null,
   "metadata": {},
   "outputs": [],
   "source": [
    "# write your code here\n",
    "\n",
    "\n"
   ]
  },
  {
   "cell_type": "markdown",
   "metadata": {},
   "source": [
    "5. Bear with me as I ramble: a rambler makes a random turn and then takes 100 steps forward, makes another random turn, takes another 100 steps, turns another random amount, etc. A ramble-loving friend records the angle of each turn before the next 100 steps are taken: the experimental data are `160, -43, 270, -97, -43, 200, -940, 17, -86`. (Positive angles are anti-clockwise.) The Python module `turtle` was used to code/draw the path taken by the rambler. After the rambler is finished rambling, the final direction is printed. The turtle originally has a bearing of `0` and accumulates the changes in heading to print out the final direction. Find below the code written to implement this entire process. The code has two errors, one error (a syntax error) would actually stop the code running, the other error is a change to the original instructions. Can you spot them?"
   ]
  },
  {
   "cell_type": "markdown",
   "metadata": {},
   "source": [
    "<div align=\"right\">\n",
    "<a href=\"#q815\" class=\"btn btn-default\" data-toggle=\"collapse\">Click here to see the code</a>\n",
    "\n",
    "</div>\n",
    "<div id=\"q815\" class=\"collapse\">\n",
    "\n",
    "```\n",
    "import turtle\n",
    "\n",
    "wn = turtle.Screen()\n",
    "someplace = turtle.Turtle()\n",
    "\n",
    "# draw the rambler's path\n",
    "someplace.pendown()\n",
    "current_heading = 135\n",
    "for angle in [160, -43, 270, -97, -43, 200, -940, 17, -86]\n",
    "\n",
    "    # we use .left() so that positive angles are \n",
    "    # anti-clockwise and negative angles are clockwise\n",
    "    current_heading = (current_heading + angle) % 360\n",
    "    someplace.left(angle)\n",
    "    someplace.forward(100)\n",
    "    \n",
    "print(\"The rambler's final direction is\", current_heading)\n",
    "\n",
    "wn.exitonclick()\n",
    "```\n",
    "\n",
    "</div>"
   ]
  },
  {
   "cell_type": "markdown",
   "metadata": {},
   "source": [
    "<  [Functions](ZFunctions.ipynb)| [PyFinLab Index](ALWAYS-START-HERE.ipynb) | [Sequences I](ZSequences-I.ipynb) >\n",
    "\n",
    "<div align=\"right\"><a href=\"#ref00\">back to top</a></div>"
   ]
  }
 ],
 "metadata": {
  "kernelspec": {
   "display_name": "Python 3",
   "language": "python",
   "name": "python3"
  },
  "language_info": {
   "codemirror_mode": {
    "name": "ipython",
    "version": 3
   },
   "file_extension": ".py",
   "mimetype": "text/x-python",
   "name": "python",
   "nbconvert_exporter": "python",
   "pygments_lexer": "ipython3",
   "version": "3.7.4"
  }
 },
 "nbformat": 4,
 "nbformat_minor": 2
}
