{
 "cells": [
  {
   "cell_type": "markdown",
   "metadata": {},
   "source": [
    "< [Notebook 01](PartI1.ipynb) | [PyFinLab Index](ALWAYS-START-HERE.ipynb) | [Notebook 03](PartI3.ipynb) >\n",
    "\n",
    "<a id = \"ref00\"></a>"
   ]
  },
  {
   "cell_type": "markdown",
   "metadata": {},
   "source": [
    "<a><img src=\"figures/UUBS.png\" width=\"180\" height=\"180\" border=\"10\" /></a>\n",
    "\n",
    "<hr>"
   ]
  },
  {
   "cell_type": "markdown",
   "metadata": {},
   "source": [
    "### Notebook 02: DataFrame - core features\n",
    "\n",
    "In this notebook we cover the key basic attributes and methods of the pandas object, DataFrame, which we shall make frequent use of in all that follows."
   ]
  },
  {
   "cell_type": "code",
   "execution_count": null,
   "metadata": {},
   "outputs": [],
   "source": [
    "# import the packages \"pandas\" and \"MatPlotLib\" into Jupyter Notebook\n",
    "import pandas as pd\n",
    "import matplotlib.pyplot as plt\n",
    "\n",
    "# the 'magic' %matplotlib inline command below allows us to display \n",
    "# plots in the notebook as opposed in a separate pop-up window\n",
    "%matplotlib inline "
   ]
  },
  {
   "cell_type": "code",
   "execution_count": null,
   "metadata": {},
   "outputs": [],
   "source": [
    "# import Facebook's stock data\n",
    "fb = pd.read_csv('data/facebook.csv')"
   ]
  },
  {
   "cell_type": "code",
   "execution_count": null,
   "metadata": {},
   "outputs": [],
   "source": [
    "# print head of fb\n",
    "fb.head()"
   ]
  },
  {
   "cell_type": "code",
   "execution_count": null,
   "metadata": {},
   "outputs": [],
   "source": [
    "# it's your turn to import Microsoft's stock data - \"microsoft.csv\", \n",
    "# which is located in the same folder as facebook.csv.\n",
    "# replace \"None\" with your code\n",
    "ms = None"
   ]
  },
  {
   "cell_type": "code",
   "execution_count": null,
   "metadata": {},
   "outputs": [],
   "source": [
    "# print head of ms\n"
   ]
  },
  {
   "cell_type": "markdown",
   "metadata": {},
   "source": [
    "<div align=\"right\">\n",
    "<a href=\"#Hag123\" class=\"btn btn-default\" data-toggle=\"collapse\">Expected Output</a>\n",
    "\n",
    "</div>\n",
    "<div id=\"Hag123\" class=\"collapse\">\n",
    "\n",
    "<a><img src=\"figures/fig 3.png\" /></a>\n",
    "\n",
    "\n",
    "</div>"
   ]
  },
  {
   "cell_type": "markdown",
   "metadata": {},
   "source": [
    "### Ascertain the size of a DataFrame using \"shape\""
   ]
  },
  {
   "cell_type": "code",
   "execution_count": null,
   "metadata": {},
   "outputs": [],
   "source": [
    "fb.shape"
   ]
  },
  {
   "cell_type": "code",
   "execution_count": null,
   "metadata": {},
   "outputs": [],
   "source": [
    "# ascertain the size (aka dimensions) of ms\n"
   ]
  },
  {
   "cell_type": "markdown",
   "metadata": {},
   "source": [
    "### Show summary statistics of a DataFrame"
   ]
  },
  {
   "cell_type": "code",
   "execution_count": null,
   "metadata": {},
   "outputs": [],
   "source": [
    "# print summary statistics for Facebook data\n",
    "fb.describe()"
   ]
  },
  {
   "cell_type": "code",
   "execution_count": null,
   "metadata": {},
   "outputs": [],
   "source": [
    "# print summary statistics for Microsoft data\n"
   ]
  },
  {
   "cell_type": "markdown",
   "metadata": {},
   "source": [
    "### Locate a particular row of data using \"Selection by label\""
   ]
  },
  {
   "cell_type": "code",
   "execution_count": null,
   "metadata": {},
   "outputs": [],
   "source": [
    "# first set the DataFrame index to 'Date' to \n",
    "# help us select 'by label' more easily\n",
    "fb2 = fb.set_index('Date')\n",
    "fb2.head()"
   ]
  },
  {
   "cell_type": "code",
   "execution_count": null,
   "metadata": {},
   "outputs": [],
   "source": [
    "# select all the price information of Facebook\n",
    "# in 2015 and assign it to the variable fb_2015\n",
    "fb_2015 = fb2.loc['2015-01-01':'2015-12-31']"
   ]
  },
  {
   "cell_type": "code",
   "execution_count": null,
   "metadata": {},
   "outputs": [],
   "source": [
    "# print the price data of Facebook on '2015-03-16'\n",
    "fb_2015.loc['2015-03-16']"
   ]
  },
  {
   "cell_type": "code",
   "execution_count": null,
   "metadata": {},
   "outputs": [],
   "source": [
    "# an equivalent result can be achieved as below where we are \n",
    "# slicing directly into the dataframe fb_2015 without using the .loc method\n",
    "\n",
    "fb_2015['2015-03-16':'2015-03-16']"
   ]
  },
  {
   "cell_type": "code",
   "execution_count": null,
   "metadata": {},
   "outputs": [],
   "source": [
    "# set the Microsoft dataFrame index to Date to help us search on label\n",
    "\n",
    "ms2 = None"
   ]
  },
  {
   "cell_type": "code",
   "execution_count": null,
   "metadata": {},
   "outputs": [],
   "source": [
    "# select all the price information of Microsoft in 2015.\n"
   ]
  },
  {
   "cell_type": "code",
   "execution_count": null,
   "metadata": {},
   "outputs": [],
   "source": [
    "# print price data of Microsoft on '2015-03-16' (in two ways - first way here)\n"
   ]
  },
  {
   "cell_type": "code",
   "execution_count": null,
   "metadata": {},
   "outputs": [],
   "source": [
    "# print price data of Microsoft on '2015-03-16' (in two ways - second way here)\n"
   ]
  },
  {
   "cell_type": "markdown",
   "metadata": {},
   "source": [
    "<div align=\"right\">\n",
    "<a href=\"#Hag1234\" class=\"btn btn-default\" data-toggle=\"collapse\">Expected Output</a>\n",
    "\n",
    "</div>\n",
    "<div id=\"Hag1234\" class=\"collapse\">\n",
    "\n",
    "<a><img src=\"figures/fig 4.png\" /></a>\n",
    "\n",
    "\n",
    "</div>"
   ]
  },
  {
   "cell_type": "markdown",
   "metadata": {},
   "source": [
    "### Locate a particular row of data using \"selection by position\""
   ]
  },
  {
   "cell_type": "code",
   "execution_count": null,
   "metadata": {},
   "outputs": [],
   "source": [
    "# print the opening price of the first row of Facebook stock data\n",
    "fb.iloc[0, 1]"
   ]
  },
  {
   "cell_type": "code",
   "execution_count": null,
   "metadata": {},
   "outputs": [],
   "source": [
    "# print the opening price of the last row\n"
   ]
  },
  {
   "cell_type": "markdown",
   "metadata": {},
   "source": [
    "<div align=\"right\">\n",
    "<a href=\"#Hag23\" class=\"btn btn-default\" data-toggle=\"collapse\">Expected Output</a>\n",
    "\n",
    "</div>\n",
    "<div id=\"Hag23\" class=\"collapse\">\n",
    "\n",
    "```\n",
    "Expected output is 227.000000 (It is OK if the trailing \n",
    "zeros are not displayed in your answer above).\n",
    "\n",
    "```\n",
    "\n",
    "\n",
    "</div>"
   ]
  },
  {
   "cell_type": "code",
   "execution_count": null,
   "metadata": {},
   "outputs": [],
   "source": [
    "# print the volume of FB stock traded on the second last day \n",
    "\n"
   ]
  },
  {
   "cell_type": "markdown",
   "metadata": {},
   "source": [
    "<div align=\"right\">\n",
    "<a href=\"#Hag345\" class=\"btn btn-default\" data-toggle=\"collapse\">Expected Output</a>\n",
    "\n",
    "</div>\n",
    "<div id=\"Hag345\" class=\"collapse\">\n",
    "\n",
    "```\n",
    "Expected output is 17961600 \n",
    "\n",
    "```\n",
    "\n",
    "\n",
    "</div>"
   ]
  },
  {
   "cell_type": "code",
   "execution_count": null,
   "metadata": {},
   "outputs": [],
   "source": [
    "# if you are not sure where the value above came from,\n",
    "# invoke the .tail() method to fb to check\n",
    "\n"
   ]
  },
  {
   "cell_type": "markdown",
   "metadata": {},
   "source": [
    "### Plot the stock data using plot() method"
   ]
  },
  {
   "cell_type": "code",
   "execution_count": null,
   "metadata": {},
   "outputs": [],
   "source": [
    "# note plt below is the alias for matplotlib.pyplot \n",
    "# from the first cell of this notebook\n",
    "\n",
    "plt.figure(figsize=(10, 8))\n",
    "fb['Close'].plot()\n",
    "plt.show()"
   ]
  },
  {
   "cell_type": "code",
   "execution_count": null,
   "metadata": {},
   "outputs": [],
   "source": [
    "plt.figure(figsize=(10, 8))\n",
    "# plot only the 2015 Close price of Microsoft (one line of code is enough)\n",
    "\n"
   ]
  },
  {
   "cell_type": "markdown",
   "metadata": {},
   "source": [
    "<div align=\"right\">\n",
    "<a href=\"#Hag124\" class=\"btn btn-default\" data-toggle=\"collapse\">Expected Output</a>\n",
    "\n",
    "</div>\n",
    "<div id=\"Hag124\" class=\"collapse\">\n",
    "\n",
    "<a><img src=\"figures/fig 5.png\" /></a>\n",
    "\n",
    "\n",
    "</div>"
   ]
  },
  {
   "cell_type": "markdown",
   "metadata": {},
   "source": [
    "< [Notebook 01](PartI1.ipynb) | [PyFinLab Index](ALWAYS-START-HERE.ipynb) | [Notebook 03](PartI3.ipynb) >\n",
    "\n",
    "<div align=\"right\"><a href=\"#ref00\">back to top</a></div>"
   ]
  }
 ],
 "metadata": {
  "kernelspec": {
   "display_name": "Python 3",
   "language": "python",
   "name": "python3"
  },
  "language_info": {
   "codemirror_mode": {
    "name": "ipython",
    "version": 3
   },
   "file_extension": ".py",
   "mimetype": "text/x-python",
   "name": "python",
   "nbconvert_exporter": "python",
   "pygments_lexer": "ipython3",
   "version": "3.7.4"
  }
 },
 "nbformat": 4,
 "nbformat_minor": 2
}
