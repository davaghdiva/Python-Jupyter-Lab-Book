{
 "cells": [
  {
   "cell_type": "markdown",
   "metadata": {},
   "source": [
    "< [Files](ZFiles.ipynb) | [PyFinLab Index](ALWAYS-START-HERE.ipynb) | [About this Lab Book](Welcome.ipynb) >\n",
    "\n",
    "<a id = \"ref00\"></a>"
   ]
  },
  {
   "cell_type": "markdown",
   "metadata": {},
   "source": [
    "<a><img src=\"figures/UUBS.png\" width=\"180\" height=\"180\" border=\"10\" /></a>\n",
    "<hr>"
   ]
  },
  {
   "cell_type": "markdown",
   "metadata": {},
   "source": [
    "<h2> Notebook A8: Dictionaries</h2>\n",
    "\n",
    "<div class=\"alert alert-block alert-info\" style=\"margin-top: 20px\">\n",
    "\n",
    "<li><a href=\"#ref1\">Aims and Objectives</a></li>\n",
    "<li><a href=\"#ref2\">Introduction</a></li>\n",
    "<li><a href=\"#ref3\">Dictionary operations</a></li>\n",
    "<li><a href=\"#ref4\">Dictionary methods</a></li>\n",
    "<li><a href=\"#ref5\">Aliasing and copying</a></li>\n",
    "<li><a href=\"#ref6\">Accumulating Multiple Results in a Dictionary</a></li>\n",
    "<li><a href=\"#ref7\">Accumulating Results from a Dictionary</a></li>\n",
    "<li><a href=\"#ref8\">Accumulating the Best Key</a></li>\n",
    "<li><a href=\"#ref9\">When to use a dictionary</a></li>\n",
    "<li><a href=\"#ref10\">Glossary</a></li>\n",
    "<li><a href=\"#ref11\">Exercises</a></li>\n",
    "<br>\n",
    "<p></p>\n",
    "Indicative Completion Time: <strong>3 hrs</strong>(not including video viewing)\n",
    "</div>\n",
    "\n",
    "<hr>"
   ]
  },
  {
   "cell_type": "markdown",
   "metadata": {},
   "source": [
    "<a id=\"ref1\"></a>\n",
    "<h3>Aims</h3>\n",
    "\n",
    "To introduce and understand the concept and use of: \n",
    "* key-value pairs\n",
    "* unordered sequences\n",
    "* parallel construction in lists\n",
    "* performance benefits and simplicity of dictionaries over parallel lists   \n",
    "* dictionary iteration (iteration over keys)\n",
    "\n",
    "<h3>Objectives</h3>\n",
    "\n",
    "On completion of this notebook you should be able to correctly apply the:\n",
    "* index operator to add a key,value pair to a dicionary\n",
    "* del operator to remove an antry\n",
    "* index operator - retrieval by key\n",
    "* search - contains in / not in\n",
    "* .items(),.keys(),.values() methods\n",
    "* .get() - with a default value\n",
    "* iteration idioms to parse and sort file content"
   ]
  },
  {
   "cell_type": "markdown",
   "metadata": {},
   "source": [
    "\n",
    "<a id=\"ref2\"></a>\n",
    "<h2>Introduction </h2>\n",
    "\n",
    "The compound data types we have studied in detail so far — strings and lists — are sequential collections. This means that the items in the collection are ordered from left to right and they use integers as indices to access the values they contain. This also means that looking for a particular value requires scanning the many items in the list until you find the desired value.\n",
    "\n",
    "Data can sometimes be organised more usefully by associating a key with the value we are looking for. For example, if you are asked for the page number for the start of chapter 12 in a large textbook, you might flip around the book looking for the chapter 12 heading. If the chapter number appears in the header or footer of each page, you might be able to find the page number fairly quickly but it’s generally easier and faster to go to the index page and see what page chapter 12 starts on.\n",
    "\n",
    "This sort of direct look-up of a value in Python is done with an object called a dictionary. Dictionaries are a different kind of collection. They are Python’s built-in mapping type. A map is an unordered, associative collection. The association, or mapping, is from a key, which can be of any immutable type (e.g., the chapter name and number in the analogy above), to a value (the starting page number), which can be any Python data object. You will learn how to use these collections in this notebook.\n",
    "\n"
   ]
  },
  {
   "cell_type": "markdown",
   "metadata": {},
   "source": [
    "Here is the video collecton for this notebook which introduces some important concepts in the creation and use of Python dictionaries. View them more than once as they lay the foundation for what follows. Videos 1 and 2 provide an introduction to the mechanics of key-value pairs, hash functions and an overwiew of dictionary <i>collection</i> objects. Videos 3-5 provide a more indepth study of dictionaries and look at an important example of how they can be used in data analytics. Videos 4 and 5 can be left until you are working through the <a href=\"#ref6\">Accumulating Multiple Results in a Dictionary</a> section of this notebook.  "
   ]
  },
  {
   "cell_type": "markdown",
   "metadata": {},
   "source": [
    "<a href=\"http://www.youtube.com/watch?feature=player_embedded&v=OlW_7XL9muI\n",
    "\" target=\"_blank\"><img src=\"https://i.ytimg.com/vi/0h4fQefIYIs/maxresdefault.jpg\" \n",
    "alt=\"Key Value Pairs\" width=\"200\" height=\"180\" border=\"10\" /></a>\n",
    "\n",
    "<p></p>\n",
    "<center><b>Video 1:</b>  Key value pairs and hashing</center>"
   ]
  },
  {
   "cell_type": "markdown",
   "metadata": {},
   "source": [
    "<a href=\"http://www.youtube.com/watch?feature=player_embedded&v=BtGO4RAPLJM\n",
    "\" target=\"_blank\"><img src=\"https://i.ytimg.com/vi/0h4fQefIYIs/maxresdefault.jpg\" \n",
    "alt=\"Key Value Pairs\" width=\"200\" height=\"180\" border=\"10\" /></a>\n",
    "\n",
    "<p></p>\n",
    "<center><b>Video 2:</b>  Python dictionaries - an overview </center>"
   ]
  },
  {
   "cell_type": "markdown",
   "metadata": {},
   "source": [
    "<a href=\"http://www.youtube.com/watch?feature=player_embedded&v=oS0PXyLuEAk\n",
    "\" target=\"_blank\"><img src=\"https://i.ytimg.com/vi/0h4fQefIYIs/maxresdefault.jpg\" \n",
    "alt=\"Key Value Pairs\" width=\"200\" height=\"180\" border=\"10\" /></a>\n",
    "\n",
    "<p></p>\n",
    "<center><b>Video 3:</b>  Dictionaries in more detail</center>"
   ]
  },
  {
   "cell_type": "markdown",
   "metadata": {},
   "source": [
    "<a href=\"http://www.youtube.com/watch?feature=player_embedded&v=89yO8EqlIos\n",
    "\" target=\"_blank\"><img src=\"https://i.ytimg.com/vi/0h4fQefIYIs/maxresdefault.jpg\" \n",
    "alt=\"Key Value Pairs\" width=\"200\" height=\"180\" border=\"10\" /></a>\n",
    "\n",
    "<p></p>\n",
    "<center><b>Video 4:</b>  Counting with dictionaries </center>"
   ]
  },
  {
   "cell_type": "markdown",
   "metadata": {},
   "source": [
    "<a href=\"http://www.youtube.com/watch?feature=player_embedded&v=GqHR05Jn7EM\n",
    "\" target=\"_blank\"><img src=\"https://i.ytimg.com/vi/0h4fQefIYIs/maxresdefault.jpg\" \n",
    "alt=\"Key Value Pairs\" width=\"200\" height=\"180\" border=\"10\" /></a>\n",
    "\n",
    "<p></p>\n",
    "<center><b>Video 5:</b>  Dictionaries and files</center>"
   ]
  },
  {
   "cell_type": "markdown",
   "metadata": {},
   "source": [
    "And this image provides a useful comparison between dictionaries and lists"
   ]
  },
  {
   "cell_type": "markdown",
   "metadata": {},
   "source": [
    "<a><img src=\"figures/dict1.png\" width=\"380\" height=\"180\" border=\"10\" /></a>\n",
    "\n",
    "<center><b>Figure 1:</b> Comparing a dictionary to a list.</center>\n"
   ]
  },
  {
   "cell_type": "markdown",
   "metadata": {},
   "source": [
    "Creating a dictionary one key at a time"
   ]
  },
  {
   "cell_type": "code",
   "execution_count": null,
   "metadata": {},
   "outputs": [],
   "source": [
    "D1 = {}                   # here the use of {} tells Python to assign an empty dictionary to the variable D1\n",
    "D1['one'] = 'une'         # now we have added the key 'one' to D1 with value 'une'\n",
    "D1['two'] = 'deux'        # and another key-value pair\n",
    "D1['three'] = 'trois'     # and another\n",
    "D1                        # now let's have a look at D1 as a whole\n"
   ]
  },
  {
   "cell_type": "markdown",
   "metadata": {},
   "source": [
    " Or all at once"
   ]
  },
  {
   "cell_type": "code",
   "execution_count": null,
   "metadata": {},
   "outputs": [],
   "source": [
    "D2={'key1':1,'key2':'2','key3':[3,3,3],'key4':(4,4,4),'key5':5,(0,1):6}\n",
    "D2"
   ]
  },
  {
   "cell_type": "markdown",
   "metadata": {},
   "source": [
    " Keys can be strings..."
   ]
  },
  {
   "cell_type": "code",
   "execution_count": null,
   "metadata": {},
   "outputs": [],
   "source": [
    "D2['key1']  # 'key1' is a key and it is a string. \n",
    "            # If you run this cell you will get the \n",
    "            # value associated with this key."
   ]
  },
  {
   "cell_type": "markdown",
   "metadata": {},
   "source": [
    "...but they can also be any immutable object; a tuple for instance "
   ]
  },
  {
   "cell_type": "code",
   "execution_count": null,
   "metadata": {},
   "outputs": [],
   "source": [
    "D2[(0,1)]"
   ]
  },
  {
   "cell_type": "markdown",
   "metadata": {},
   "source": [
    "Notice how each key is separated from its value by a colon `:`. Commas `,` separate the items (i.e., the key/value pairs), and the entire dictionary is enclosed in curly brackets. An empty dictionary is created with just two curly brackets, like this `{}`. Consider this dictionary `release_year_dict`"
   ]
  },
  {
   "cell_type": "code",
   "execution_count": null,
   "metadata": {},
   "outputs": [],
   "source": [
    "release_year_dict = {\"Thriller\":\"1982\", \"Back in Black\":\"1980\", \n",
    "                    \"The Dark Side of the Moon\":\"1973\", \"The Bodyguard\":\"1992\", \n",
    "                    \"Bat Out of Hell\":\"1977\", \"Their Greatest Hits (1971-1975)\":\"1976\", \n",
    "                    \"Saturday Night Fever\":\"1977\", \"Rumours\":\"1977\"}\n",
    "release_year_dict"
   ]
  },
  {
   "cell_type": "markdown",
   "metadata": {},
   "source": [
    "Like a list, a dictionary holds a sequence of elements. Unlike lists, dictionaries have no concept of order. Each element is represented by a key and its corresponding value. For every key there can only be a single value, however, multiple keys can hold the same value as can be seen in `release_year_dict`. Keys can only be strings, numbers, or tuples, but values can be any data type."
   ]
  },
  {
   "cell_type": "markdown",
   "metadata": {},
   "source": [
    "It is helpful to visualise the dictionary as a table, as in Figure 2. The first column represents the keys, the second column represents the values."
   ]
  },
  {
   "cell_type": "markdown",
   "metadata": {},
   "source": [
    "<a><img src=\"figures/dict2.png\" width=\"360\" height=\"180\" border=\"10\" /></a>\n",
    "\n",
    "<center><b>Figure 2:</b> Tabular representation of a dictionary</center>  \n"
   ]
  },
  {
   "cell_type": "markdown",
   "metadata": {},
   "source": [
    "Consider the dictionary below:"
   ]
  },
  {
   "cell_type": "code",
   "execution_count": null,
   "metadata": {},
   "outputs": [],
   "source": [
    "soundtrack_dic = { \"The Bodyguard\":\"1992\", \"Saturday Night Fever\":\"1977\"}\n",
    "soundtrack_dic "
   ]
  },
  {
   "cell_type": "markdown",
   "metadata": {},
   "source": [
    "In the dictionary `soundtrack_dict` what are the keys ?"
   ]
  },
  {
   "cell_type": "markdown",
   "metadata": {},
   "source": [
    " <div align=\"right\">\n",
    "<a href=\"#Dict1\" class=\"btn btn-default\" data-toggle=\"collapse\">Click here for the answer</a>\n",
    "\n",
    "</div>\n",
    "<div id=\"Dict1\" class=\"collapse\">\n",
    "\n",
    "```\n",
    "The keys are \"The Bodyguard\" and \"Saturday Night Fever\" \n",
    "```\n",
    "</div>"
   ]
  },
  {
   "cell_type": "markdown",
   "metadata": {},
   "source": [
    "In the dictionary `soundtrack_dict` what are the values ?"
   ]
  },
  {
   "cell_type": "markdown",
   "metadata": {},
   "source": [
    " <div align=\"right\">\n",
    "<a href=\"#Dict2\" class=\"btn btn-default\" data-toggle=\"collapse\">Click here for the answer</a>\n",
    "\n",
    "</div>\n",
    "<div id=\"Dict2\" class=\"collapse\">\n",
    "\n",
    "```\n",
    "The values are \"1992\" and \"1977\"\n",
    "```\n",
    "\n",
    "</div>"
   ]
  },
  {
   "cell_type": "markdown",
   "metadata": {},
   "source": [
    "We can retrieve values based on the associated key name:"
   ]
  },
  {
   "cell_type": "code",
   "execution_count": null,
   "metadata": {},
   "outputs": [],
   "source": [
    "release_year_dict['Thriller'] "
   ]
  },
  {
   "cell_type": "markdown",
   "metadata": {},
   "source": [
    "This corresponds to: \n"
   ]
  },
  {
   "cell_type": "markdown",
   "metadata": {},
   "source": [
    "<a><img src=\"figures/dict3.png\" width=\"350\" height=\"180\" border=\"10\" /></a>\n",
    "  \n",
    " <center><b>Figure 3:</b> Tabular representation of accessing the value for \"Thriller\"</center>   \n"
   ]
  },
  {
   "cell_type": "markdown",
   "metadata": {},
   "source": [
    "Similarly for The Bodyguard     \n"
   ]
  },
  {
   "cell_type": "code",
   "execution_count": null,
   "metadata": {},
   "outputs": [],
   "source": [
    "release_year_dict['The Bodyguard'] "
   ]
  },
  {
   "cell_type": "markdown",
   "metadata": {},
   "source": [
    "<a><img src=\"figures/dict4.png\" width=\"350\" height=\"180\" border=\"10\" /></a>\n",
    "  \n",
    "<center><b>Figure 4:</b> Accessing the value for the \"The Bodyguard\"</center>\n",
    " \n",
    "\n",
    "\n"
   ]
  },
  {
   "cell_type": "markdown",
   "metadata": {},
   "source": [
    "We can add an entry to the dictionary"
   ]
  },
  {
   "cell_type": "code",
   "execution_count": null,
   "metadata": {},
   "outputs": [],
   "source": [
    "release_year_dict['Graduation']='2007'\n",
    "release_year_dict"
   ]
  },
  {
   "cell_type": "markdown",
   "metadata": {},
   "source": [
    "Or we can delete an entry   "
   ]
  },
  {
   "cell_type": "code",
   "execution_count": null,
   "metadata": {},
   "outputs": [],
   "source": [
    "del(release_year_dict['Thriller'])\n",
    "del(release_year_dict['Graduation'])\n",
    "release_year_dict"
   ]
  },
  {
   "cell_type": "markdown",
   "metadata": {},
   "source": [
    " We can determine if an element is in the dictionary "
   ]
  },
  {
   "cell_type": "code",
   "execution_count": null,
   "metadata": {},
   "outputs": [],
   "source": [
    "'The Bodyguard' in release_year_dict"
   ]
  },
  {
   "cell_type": "markdown",
   "metadata": {},
   "source": [
    "**Have a go:** \n",
    "1. Create a dictionary that keeps track of Ireland's all-time olympics medal count. Each key of the dictionary should represent the type of medal (gold, silver, or bronze) and each key’s value should be the number of that type of medal Ireland has won. As of December 2018 Ireland has 9 gold medals, 10 silver, and 12 bronze. Create a dictionary saved in the variable `medals` that reflects this information."
   ]
  },
  {
   "cell_type": "code",
   "execution_count": null,
   "metadata": {},
   "outputs": [],
   "source": [
    "# Enter your code here"
   ]
  },
  {
   "cell_type": "markdown",
   "metadata": {},
   "source": [
    " <div align=\"right\">\n",
    "<a href=\"#Dict5\" class=\"btn btn-default\" data-toggle=\"collapse\">Click here for the answer</a>\n",
    "\n",
    "</div>\n",
    "<div id=\"Dict5\" class=\"collapse\">\n",
    "\n",
    "```python\n",
    "medals = {\"gold\":9,\"silver\":10,\"bronze\":12}\n",
    "```\n",
    " \n",
    "</div>"
   ]
  },
  {
   "cell_type": "markdown",
   "metadata": {},
   "source": [
    "2. Someone was keeping track of medals for Italy at the 2016 Rio Summer Olympics. At the time they logged the data, Italy had won 7 gold medals, 8 silver metals, and 6 bronze medals in those Games. Create a dictionary called `olympics` where the keys are the numbers of each type of medal won and the values are the type of medal won."
   ]
  },
  {
   "cell_type": "code",
   "execution_count": null,
   "metadata": {},
   "outputs": [],
   "source": [
    "# Enter your code here"
   ]
  },
  {
   "cell_type": "markdown",
   "metadata": {},
   "source": [
    " <div align=\"right\">\n",
    "<a href=\"#Dict6\" class=\"btn btn-default\" data-toggle=\"collapse\">Click here for the answer</a>\n",
    "\n",
    "</div>\n",
    "<div id=\"Dict6\" class=\"collapse\">\n",
    "\n",
    "```python\n",
    " olympics = {7:\"gold\",8:\"silver\",6:\"bronze\"}\n",
    "```\n",
    "\n",
    "</div>"
   ]
  },
  {
   "cell_type": "markdown",
   "metadata": {},
   "source": [
    "More on these operations in the next section"
   ]
  },
  {
   "cell_type": "markdown",
   "metadata": {},
   "source": [
    "<a id=\"ref3\"></a>\n",
    "<h2>Dictionary operations</h2>\n",
    "\n",
    "<div align=\"right\"><a href=\"#ref00\">back to top</a></div>"
   ]
  },
  {
   "cell_type": "markdown",
   "metadata": {},
   "source": [
    "The `del` statement removes a key-value pair from a dictionary. For example, the following dictionary contains the names of various albums and the associated release date. We can remove an entry from the dictionary."
   ]
  },
  {
   "cell_type": "code",
   "execution_count": null,
   "metadata": {},
   "outputs": [],
   "source": [
    "release_year_dict = {\"Thriller\":\"1982\", \"Back in Black\":\"1980\", \n",
    "                    \"The Dark Side of the Moon\":\"1973\", \"The Bodyguard\":\"1992\", \n",
    "                    \"Bat Out of Hell\":\"1977\", \"Their Greatest Hits (1971-1975)\":\"1976\", \n",
    "                    \"Saturday Night Fever\":\"1977\", \"Rumours\":\"1977\"}\n",
    "\n",
    "print('before delete')\n",
    "print(release_year_dict)\n",
    "del(release_year_dict['Back in Black'])\n",
    "print('after delete')\n",
    "print(release_year_dict)"
   ]
  },
  {
   "cell_type": "markdown",
   "metadata": {},
   "source": [
    "Dictionaries are mutable, as the delete operation above indicates. As we’ve seen before with lists, this means that the dictionary can be modified by referencing an association on the left hand side of the assignment statement. In the previous example, instead of deleting the entry for `\"Back in Black\"`, we could have edited its value to `\"1981\"`."
   ]
  },
  {
   "cell_type": "code",
   "execution_count": null,
   "metadata": {},
   "outputs": [],
   "source": [
    "release_year_dict['Back in Black'] = \"1981\"\n",
    "release_year_dict"
   ]
  },
  {
   "cell_type": "markdown",
   "metadata": {},
   "source": [
    "Consider the following dictionary containing information on the number of major awards won by these albums"
   ]
  },
  {
   "cell_type": "code",
   "execution_count": null,
   "metadata": {},
   "outputs": [],
   "source": [
    "major_awards_dict = {\"Thriller\":8, \"Back in Black\":3, \n",
    "                    \"The Dark Side of the Moon\":3, \"The Bodyguard\":1, \n",
    "                    \"Bat Out of Hell\":4, \"Their Greatest Hits (1971-1975)\":0, \n",
    "                    \"Saturday Night Fever\":6, \"Rumours\":0}\n",
    "major_awards_dict"
   ]
  },
  {
   "cell_type": "markdown",
   "metadata": {},
   "source": [
    "Suppose `\"Bat Out of Hell\"` wins another award. This could be handled as follows"
   ]
  },
  {
   "cell_type": "code",
   "execution_count": null,
   "metadata": {},
   "outputs": [],
   "source": [
    "major_awards_dict[\"Bat Out of Hell\"] = major_awards_dict[\"Bat Out of Hell\"] +1 \n",
    "major_awards_dict\n",
    "# note what happens to the output if you run this cell multiple times; if only winning awards was this easy."
   ]
  },
  {
   "cell_type": "markdown",
   "metadata": {},
   "source": [
    "**Have a go:**\n",
    "1. Modify the `?????` below to reflect the fact that a new album entry `\"Run to The Hills\"` has 13 awards\n",
    "    "
   ]
  },
  {
   "cell_type": "code",
   "execution_count": null,
   "metadata": {},
   "outputs": [],
   "source": [
    "major_awards_dict[\"Run to the Hills\"] = major_awards_dict[\"Bat Out of Hell\"] +  major_awards_dict[\"?????\"]\n",
    "major_awards_dict"
   ]
  },
  {
   "cell_type": "markdown",
   "metadata": {},
   "source": [
    " <div align=\"right\">\n",
    "<a href=\"#Dict7\" class=\"btn btn-default\" data-toggle=\"collapse\">Click here for the answer</a>\n",
    "\n",
    "</div>\n",
    "<div id=\"Dict7\" class=\"collapse\">\n",
    "\n",
    "```python\n",
    "major_awards_dict[\"Run to the Hills\"]= \n",
    "major_awards_dict[\"Bat Out of Hell\"] + major_awards_dict[\"Thriller\"]\n",
    "```\n",
    "\n",
    "</div>"
   ]
  },
  {
   "cell_type": "markdown",
   "metadata": {},
   "source": [
    "2. Update the `major_awards_dict` dictionary to fully account for the fact that one of the awards intended for `\"Thriller\"` was accidentally allocated to `\"Saturday Night Fever\"`"
   ]
  },
  {
   "cell_type": "code",
   "execution_count": null,
   "metadata": {},
   "outputs": [],
   "source": [
    "# Enter your code here\n",
    "\n"
   ]
  },
  {
   "cell_type": "markdown",
   "metadata": {},
   "source": [
    " <div align=\"right\">\n",
    "<a href=\"#Dict8\" class=\"btn btn-default\" data-toggle=\"collapse\">Click here for the answer</a>\n",
    "\n",
    "</div>\n",
    "<div id=\"Dict8\" class=\"collapse\">\n",
    "\n",
    "```python\n",
    "major_awards_dict[\"Thriller\"] = major_awards_dict[\"Thriller\"] + 1\n",
    "\n",
    "major_awards_dict[\"Saturday Night Fever\"] = major_awards_dict[\"Saturday Night Fever\"] - 1\n",
    "```\n",
    "\n",
    "</div>"
   ]
  },
  {
   "cell_type": "markdown",
   "metadata": {},
   "source": [
    "<a id=\"ref4\"></a>\n",
    "<h2>Dictionary methods</h2>\n",
    "\n",
    "<div align=\"right\"><a href=\"#ref00\">back to top</a></div>"
   ]
  },
  {
   "cell_type": "markdown",
   "metadata": {},
   "source": [
    "Dictionaries have a number of useful built-in methods. The following table provides a summary and more details can be found in the [Python Documentation](https://docs.python.org/3/library/stdtypes.html#mapping-types-dict).\n",
    "\n",
    "\n",
    "| Method \t| Parameters \t| Description                                             \t|\n",
    "|--------\t|------------\t|----------------------------------------------------------\t|\n",
    "| keys   \t| none       \t| Returns a view of the keys in the dictionary            \t|\n",
    "| values \t| none       \t| Returns a view of the values in the dictionary          \t|\n",
    "| items  \t| none       \t| Returns a view of the key-value pairs in the dictionary \t|\n",
    "| get    \t| key        \t| Returns the value associated with key; None otherwise   \t|\n",
    "| get    \t| key,alt    \t| Returns the value associated with key; alt otherwise    \t|\n",
    "\n",
    "<np></np>\n",
    "<center><b>Table 1</b></center>\n",
    "\n",
    "\n",
    "As we saw earlier with strings and lists, dictionary methods use dot `.` notation, which specifies the name of the method to the right of the dot and the name of the object on which to apply the method immediately to the left of the dot. The empty brackets in the case of `keys` indicates that this method takes no parameters. If `x` is a variable whose value is a dictionary, `x.keys` is the method object, and `x.keys()` invokes the method, returning a view of the value.\n",
    "\n",
    "The `keys` method returns the keys, not necessarily in the same order they were added to the dictionary or any other particular order.\n",
    "\n"
   ]
  },
  {
   "cell_type": "markdown",
   "metadata": {},
   "source": [
    "Take some time to evaluate the code below before running it. What do you think it is doing?"
   ]
  },
  {
   "cell_type": "code",
   "execution_count": null,
   "metadata": {},
   "outputs": [],
   "source": [
    "inventory = {'apples': 430, 'bananas': 312, 'oranges': 525, 'pears': 217}\n",
    "\n",
    "for akey in inventory.keys():     # the order in which we get the keys is not defined\n",
    "    print(\"Got key\", akey, \"which maps to value\", inventory[akey])\n",
    "\n",
    "print(list(inventory.keys()))\n"
   ]
  },
  {
   "cell_type": "markdown",
   "metadata": {},
   "source": [
    "It is so common to iterate over the keys in a dictionary that you can omit the `keys` method call in the `for` loop; iterating over a dictionary implicitly iterates over its keys."
   ]
  },
  {
   "cell_type": "code",
   "execution_count": null,
   "metadata": {},
   "outputs": [],
   "source": [
    "inventory = {'apples': 430, 'bananas': 312, 'oranges': 525, 'pears': 217}\n",
    "\n",
    "for k in inventory:\n",
    "    print(\"Got key\", k, \"which maps to value\", inventory[k])\n"
   ]
  },
  {
   "cell_type": "markdown",
   "metadata": {},
   "source": [
    "The `values` and `items` methods are similar to the `keys` method. They return the objects which can be iterated (looped) over. Note that the `items` objects are tuples containing the key and the associated value."
   ]
  },
  {
   "cell_type": "code",
   "execution_count": null,
   "metadata": {},
   "outputs": [],
   "source": [
    "inventory = {'apples': 430, 'bananas': 312, 'oranges': 525, 'pears': 217}\n",
    "\n",
    "print(list(inventory.values()))\n",
    "print(list(inventory.items()))\n",
    "\n",
    "for k in inventory:\n",
    "    print(\"Got\",k,\"that maps to\",inventory[k])\n"
   ]
  },
  {
   "cell_type": "markdown",
   "metadata": {},
   "source": [
    "The `in` and `not in` operators can test if a key is in the dictionary:"
   ]
  },
  {
   "cell_type": "code",
   "execution_count": null,
   "metadata": {},
   "outputs": [],
   "source": [
    "inventory = {'apples': 430, 'bananas': 312, 'oranges': 525, 'pears': 217}\n",
    "print('apples' in inventory)\n",
    "print('cherries' in inventory)\n",
    "\n",
    "if 'plums' in inventory:\n",
    "    print(inventory['plums'])\n",
    "else:\n",
    "    print(\"We have no plums\")\n"
   ]
  },
  {
   "cell_type": "markdown",
   "metadata": {},
   "source": [
    "The `get` method allows us to access the value associated with a key, similar to the `[ ]` operator. The important difference is that `get` will not cause a runtime error if the key is not present. It will instead return None. There exists a variation of `get` that allows a second parameter that serves as an alternative return value in the case where the key is not present. This can be seen in the final example below. In this case, since “cherries” is not a key, return 0 (instead of None)."
   ]
  },
  {
   "cell_type": "code",
   "execution_count": null,
   "metadata": {},
   "outputs": [],
   "source": [
    "inventory = {'apples': 430, 'bananas': 312, 'oranges': 525, 'pears': 217}\n",
    "\n",
    "print(inventory.get(\"apples\"))\n",
    "print(inventory.get(\"cherries\"))\n",
    "\n",
    "print(inventory.get(\"cherries\",0))\n"
   ]
  },
  {
   "cell_type": "markdown",
   "metadata": {},
   "source": [
    "**Have a go:** \n",
    "\n",
    "1. Edit the code below to replace `?????` with appropriate content to ensure the result of running the code is 3"
   ]
  },
  {
   "cell_type": "code",
   "execution_count": null,
   "metadata": {},
   "outputs": [],
   "source": [
    "animals = {\"cat\":12, \"dog\":6, \"elephant\":23, \"bear\":20}\n",
    "answer = animals.get(\"elephant\")//animals.get(?????)\n",
    "print(answer)"
   ]
  },
  {
   "cell_type": "markdown",
   "metadata": {},
   "source": [
    "<div align=\"right\">\n",
    "<a href=\"#Dict1133\" class=\"btn btn-default\" data-toggle=\"collapse\">Click here for the answer</a>\n",
    "\n",
    "</div>\n",
    "<div id=\"Dict1133\" class=\"collapse\">\n",
    "\n",
    "```python\n",
    "answer = animals.get(\"elephant\")//animals.get(\"dog\")\n",
    "\n",
    "```\n",
    "\n",
    "</div>"
   ]
  },
  {
   "cell_type": "markdown",
   "metadata": {},
   "source": [
    "2. Activate one of the two commented lines in the code below to ensure the result of running the code is True."
   ]
  },
  {
   "cell_type": "code",
   "execution_count": null,
   "metadata": {},
   "outputs": [],
   "source": [
    "animals = {\"cat\":12, \"dog\":6, \"elephant\":23, \"bear\":20}\n",
    "#print(\"dog\" in animals)\n",
    "#print(23 in animals)"
   ]
  },
  {
   "cell_type": "markdown",
   "metadata": {},
   "source": [
    "<div align=\"right\">\n",
    "<a href=\"#Dict1133dd\" class=\"btn btn-default\" data-toggle=\"collapse\">Click here for the answer</a>\n",
    "\n",
    "</div>\n",
    "<div id=\"Dict1133dd\" class=\"collapse\">\n",
    "\n",
    "```python\n",
    "\n",
    "animals = {\"cat\":12, \"dog\":6, \"elephant\":23, \"bear\":20}\n",
    "print(\"dog\" in animals)\n",
    "\n",
    "```\n",
    "\n",
    "</div>"
   ]
  },
  {
   "cell_type": "markdown",
   "metadata": {},
   "source": [
    "3. Implement indenting in the code below to ensure it runs and returns 43"
   ]
  },
  {
   "cell_type": "code",
   "execution_count": null,
   "metadata": {},
   "outputs": [],
   "source": [
    "total = 0\n",
    "animals = {\"cat\":12, \"dog\":6, \"elephant\":23, \"bear\":20}\n",
    "for akey in animals:\n",
    "if len(akey) > 3:\n",
    "total = total + animals[akey]\n",
    "print(total)"
   ]
  },
  {
   "cell_type": "markdown",
   "metadata": {},
   "source": [
    "<div align=\"right\">\n",
    "<a href=\"#Dict33\" class=\"btn btn-default\" data-toggle=\"collapse\">Click here for the answer</a>\n",
    "\n",
    "</div>\n",
    "<div id=\"Dict33\" class=\"collapse\">\n",
    "\n",
    "```python\n",
    "total = 0\n",
    "animals = {\"cat\":12, \"dog\":6, \"elephant\":23, \"bear\":20}\n",
    "for akey in animals:\n",
    "    if len(akey) > 3:\n",
    "        total = total + animals[akey]\n",
    "print(total)\n",
    "\n",
    "```\n",
    "\n",
    "</div>"
   ]
  },
  {
   "cell_type": "markdown",
   "metadata": {},
   "source": [
    "4. Every four years the summer olympics are held in a different country. Add a key-value pair to the dictionary `places` to reflect the fact that the 2016 Olympics were held in Brazil. Don't rewrite the entire dictionary to do this."
   ]
  },
  {
   "cell_type": "code",
   "execution_count": null,
   "metadata": {},
   "outputs": [],
   "source": [
    "places = {\"Australia\":2000, \"Greece\":2004, \"China\":2008, \"England\":2012}\n",
    "# Enter your code here\n",
    "\n"
   ]
  },
  {
   "cell_type": "markdown",
   "metadata": {},
   "source": [
    "<div align=\"right\">\n",
    "<a href=\"#Dict3\" class=\"btn btn-default\" data-toggle=\"collapse\">Click here for the answer</a>\n",
    "\n",
    "</div>\n",
    "<div id=\"Dict3\" class=\"collapse\">\n",
    "\n",
    "```python\n",
    "places['Brazil'] = 2016\n",
    "```\n",
    "\n",
    "</div>"
   ]
  },
  {
   "cell_type": "markdown",
   "metadata": {},
   "source": [
    "5. We have a dictionary of the specific events that Italy has won medals in and the number of medals they have won for each event. Assign to the variable `events` a list of the keys from the dictionary `medal_events`. Don't hard code this."
   ]
  },
  {
   "cell_type": "code",
   "execution_count": null,
   "metadata": {},
   "outputs": [],
   "source": [
    "medal_events = {'Shooting': 7, 'Fencing': 4, 'Judo': 2, 'Swimming': 3, 'Diving': 2}\n",
    "# Enter your code here\n",
    "events"
   ]
  },
  {
   "cell_type": "markdown",
   "metadata": {},
   "source": [
    " <div align=\"right\">\n",
    "<a href=\"#Dict4\" class=\"btn btn-default\" data-toggle=\"collapse\">Click here for the answer</a>\n",
    "\n",
    "</div>\n",
    "<div id=\"Dict4\" class=\"collapse\">\n",
    "\n",
    "```python\n",
    "events = medal_events.keys()\n",
    "```\n",
    "\n",
    "</div>"
   ]
  },
  {
   "cell_type": "markdown",
   "metadata": {},
   "source": [
    "<a id=\"ref5\"></a>\n",
    "<h2>Aliasing and copying</h2>\n",
    "\n",
    "<div align=\"right\"><a href=\"#ref00\">back to top</a></div>"
   ]
  },
  {
   "cell_type": "markdown",
   "metadata": {},
   "source": [
    "Because dictionaries are mutable, you need to be aware of aliasing (as we saw with lists). Whenever two variables refer to the same dictionary object, changes to one affect the other. For example, `opposites` is a dictionary that contains pairs of opposites."
   ]
  },
  {
   "cell_type": "code",
   "execution_count": null,
   "metadata": {},
   "outputs": [],
   "source": [
    "opposites = {'up': 'down', 'right': 'wrong', 'true': 'false'}\n",
    "alias = opposites\n",
    "\n",
    "print(alias is opposites)\n",
    "\n",
    "alias['right'] = 'left'\n",
    "print(opposites['right'])"
   ]
  },
  {
   "cell_type": "markdown",
   "metadata": {},
   "source": [
    "As you can see from the `is` operator, `alias` and `opposites` refer to the same object. If you want to modify a dictionary and keep a copy of the original, use the dictionary `copy` method. Since the variable `acopy` is a copy of the dictionary, changes to it will not effect the original."
   ]
  },
  {
   "cell_type": "code",
   "execution_count": null,
   "metadata": {},
   "outputs": [],
   "source": [
    "opposites = {'up': 'down', 'right': 'wrong', 'true': 'false'}\n",
    "acopy = opposites.copy()\n",
    "acopy['right'] = 'left'    # here we have made a change to acopy\n",
    "\n",
    "\n",
    "print('opposites has not been changed in the process',opposites)"
   ]
  },
  {
   "cell_type": "markdown",
   "metadata": {},
   "source": [
    "**Have a go:**\n",
    "1. Run the cell below but try to predict the output before doing so. Then fix it according to what you think *fix* might mean in this context."
   ]
  },
  {
   "cell_type": "code",
   "execution_count": null,
   "metadata": {},
   "outputs": [],
   "source": [
    "myanimals = {\"cat\":12, \"dog\":6, \"elephant\":23, \"bear\":20}\n",
    "youranimals = myanimals\n",
    "youranimals[\"elephant\"] = 999\n",
    "print(myanimals[\"elephant\"])"
   ]
  },
  {
   "cell_type": "markdown",
   "metadata": {},
   "source": [
    "<div align=\"right\">\n",
    "<a href=\"#Dict393\" class=\"btn btn-default\" data-toggle=\"collapse\">Click here for the answer</a>\n",
    "\n",
    "</div>\n",
    "<div id=\"Dict393\" class=\"collapse\">\n",
    "\n",
    "```python\n",
    "\n",
    "myanimals = {\"cat\":12, \"dog\":6, \"elephant\":23, \"bear\":20}\n",
    "youranimals = myanimals.copy()\n",
    "youranimals[\"elephant\"] = 999\n",
    "print(myanimals[\"elephant\"])\n",
    "\n",
    "```\n",
    "\n",
    "</div>"
   ]
  },
  {
   "cell_type": "markdown",
   "metadata": {},
   "source": [
    "<a id=\"ref6\"></a>\n",
    "<h2>Accumulating Multiple Results in a Dictionary</h2>\n",
    "\n",
    "<div align=\"right\"><a href=\"#ref00\">back to top</a></div>"
   ]
  },
  {
   "cell_type": "markdown",
   "metadata": {},
   "source": [
    "You have previously seen the accumulator pattern; it goes through the items in a sequence, updating an accumulator variable each time. Rather than accumulating a single result, it’s possible to accumulate many results. Suppose, for example, we wanted to find out which letters are used most frequently in English.\n",
    "\n",
    "For convenience we are going to use a paragraph of text to perform this task. The paragraph just written seems as good a choice as any."
   ]
  },
  {
   "cell_type": "code",
   "execution_count": null,
   "metadata": {},
   "outputs": [],
   "source": [
    "txt = \"You have previously seen the accumulator pattern; \\\n",
    "it goes through the items in a sequence, updating an \\\n",
    "accumulator variable each time. Rather than accumulating \\\n",
    "a single result, it’s possible to accumulate many results. \\\n",
    "Suppose, for example, we wanted to find out which letters \\\n",
    "are used most frequently in English.\"\n",
    "\n",
    "print(txt)\n",
    "\n",
    "# The \"\\\" symbol is used here so we can dislay the content of the string \n",
    "# variable \"txt\" within the page width. Without it txt would display \n",
    "# as in the cell below because we are using a Code cell to define the \n",
    "# variable, as we must."
   ]
  },
  {
   "cell_type": "code",
   "execution_count": null,
   "metadata": {},
   "outputs": [],
   "source": [
    "txt = \"You have previously seen the accumulator pattern; it goes through the items in a sequence, updating an accumulator variable each time. Rather than accumulating a single result, it’s possible to accumulate many results. Suppose, for example, we wanted to find out which letters are used most frequently in English.\""
   ]
  },
  {
   "cell_type": "markdown",
   "metadata": {},
   "source": [
    "We can accumulate counts for more than one character as we traverse the text. Suppose, for example, we wanted to compare the counts of `t` and `s` in the text."
   ]
  },
  {
   "cell_type": "code",
   "execution_count": null,
   "metadata": {},
   "outputs": [],
   "source": [
    "\n",
    "t_count = 0 #initialise the t accumulator variable\n",
    "s_count = 0 #initialise the s accumulator as well\n",
    "for c in txt:\n",
    "    if c == 't':\n",
    "        t_count = t_count + 1   #increment the t counter\n",
    "    elif c == 's':\n",
    "        s_count = s_count + 1   #increment the s counter\n",
    "print(\"t: \" + str(t_count) + \" occurrences\")\n",
    "print(\"s: \" + str(s_count) + \" occurrences\")\n"
   ]
  },
  {
   "cell_type": "markdown",
   "metadata": {},
   "source": [
    "That worked but you can hopefully see that this is going to get tedious if we try to accumulate counts for all letters. We will have to initialise a lot of accumulators, and there will be a very long `if..elif..elif` statement. Using a dictionary, we can do much better.\n",
    "\n",
    "A single dictionary can hold all of the accumulator variables. Each key in the dictionary will be one letter, and the corresponding value will be the count so far of how many times that letter has occurred."
   ]
  },
  {
   "cell_type": "code",
   "execution_count": null,
   "metadata": {},
   "outputs": [],
   "source": [
    "x = {} # start with an empty dictionary\n",
    "x['t'] = 0  # initialise the t counter\n",
    "x['s'] = 0  # initialise the s counter\n",
    "for c in txt:\n",
    "    if c == 't': # this is line 5\n",
    "        x['t'] = x['t'] + 1  # increment the t counter\n",
    "    elif c == 's':\n",
    "        x['s'] = x['s'] + 1  # increment the s counter\n",
    "\n",
    "print(\"t: \" + str(x['t']) + \" occurrences\")\n",
    "print(\"s: \" + str(x['s']) + \" occurrences\")\n"
   ]
  },
  {
   "cell_type": "markdown",
   "metadata": {},
   "source": [
    "This hasn’t exactly improved things yet, but look closely at lines 5-8 in the code above. Whichever character we’re seeing, `t` or `s`, we’re incrementing the counter for that character. So lines 6 and 8 could really be the same."
   ]
  },
  {
   "cell_type": "code",
   "execution_count": null,
   "metadata": {},
   "outputs": [],
   "source": [
    "x = {} # start with an empty dictionary\n",
    "x['t'] = 0  # intiialise the t counter\n",
    "x['s'] = 0  # initialise the s counter\n",
    "for c in txt:\n",
    "    if c == 't':\n",
    "        x[c] = x[c] + 1   # increment the t counter\n",
    "    elif c == 's':        # this is line 7\n",
    "        x[c] = x[c] + 1   # increment the s counter\n",
    "\n",
    "print(\"t: \" + str(x['t']) + \" occurrences\")\n",
    "print(\"s: \" + str(x['s']) + \" occurrences\")\n"
   ]
  },
  {
   "cell_type": "markdown",
   "metadata": {},
   "source": [
    "Lines 6 and 8 above may seem a little confusing at first. Previously, our assignment statements referred directly to keys, with `x['s']` and `x['t']`. Here we are just using a variable `c` whose value is ‘s’ or ‘t’, or some other character.\n",
    "\n",
    "Note that, as with all assignment statements, the right side is evaluated first. In this case `x[c]` has to be evaluated. As with all expressions, we first have to substitute values for variable names. `x` is a variable bound to a dictionary. `c` is a variable bound to one letter from the string that `txt` is bound to (that’s what the `for` statement says to do: execute lines 5-8 once for each character in `txt`, with the variable `c` bound to the current character on each iteration.) So, let’s suppose that the current character is the letter s (we are on line 8). Then `x[c]` looks up the value associated with the key `s` in the dictionary `x`. If all is working correctly, that value should be the number of times ‘s’ has previously occurred. For the sake of argument, suppose it’s 14. Then the right side evaluates to 14 + 1, 15. \n",
    "\n",
    "Now we have assigned the value 15 to `x[c]`. That is, in dictionary `x`, we set the value associated with the key `s` (the current value of the variable `c`) to be 15. In other words, we have incremented the value associated with the key `s` from 14 to 15.\n",
    "\n",
    "We can do better still. One other nice thing about using a dictionary is that we don’t have to prespecify what all the letters will be. In this case, we know in advance what the alphabet for English is, but later in the chapter we will count the occurrences of words, and we do not know in advance all the of the words that may be used. Rather than pre-specifying which letters to keep accumulator counts for, we can start with an empty dictionary and add a counter to the dictionary each time we encounter a new thing that we want to start keeping count of."
   ]
  },
  {
   "cell_type": "code",
   "execution_count": null,
   "metadata": {},
   "outputs": [],
   "source": [
    "x = {} # start with an empty dictionary\n",
    "for c in txt:\n",
    "    if c not in x:\n",
    "        # we have not seen this character before, so initialise a counter for it\n",
    "        x[c] = 1\n",
    "\n",
    "    #whether we've seen it before or not, increment its counter\n",
    "    x[c] = x[c] + 1 # this is line 8\n",
    "\n",
    "print(\"t: \" + str(x['t']) + \" occurrences\")\n",
    "print(\"s: \" + str(x['s']) + \" occurrences\")\n"
   ]
  },
  {
   "cell_type": "markdown",
   "metadata": {},
   "source": [
    "Notice that in the `for` loop, we no longer need to explicitly ask whether the current letter is an ‘s’ or a ‘t’. The increment step on line 8 works for the counter associated with whatever the current character is. Our code is now accumulating counts for all letters, not just ‘s’ and ‘t’. Here's what `x` looks like now... "
   ]
  },
  {
   "cell_type": "code",
   "execution_count": null,
   "metadata": {},
   "outputs": [],
   "source": [
    "print(x)"
   ]
  },
  {
   "cell_type": "markdown",
   "metadata": {},
   "source": [
    "**Have a go:**\n",
    "    \n",
    "1. Which of the following will print out `True` if there are more occurrences of `e` than `t` in `txt` and `False` if `t` occurred  more frequently."
   ]
  },
  {
   "cell_type": "markdown",
   "metadata": {},
   "source": [
    "```python\n",
    "A. print(txt['e'] > txt['t'])\n",
    "B. print(x['e'] > x['t'])\n",
    "C. print(x[e] > x[t])\n",
    "D. print(x[c] > txt[c])\n",
    "E. print(e[x] > t[x])\n",
    "\n",
    "```"
   ]
  },
  {
   "cell_type": "code",
   "execution_count": null,
   "metadata": {},
   "outputs": [],
   "source": [
    "x # this will print x out explicitly allowing you to view the results of the accumulating process\n",
    "\n",
    "# you can experiment here to help you check by removing the #Letter# below one at a time\n",
    "\n",
    "#A# print(txt['e'] > txt['t'])\n",
    "#B# print(x['e'] > x['t'])\n",
    "#C# print(x[e] > x[t])\n",
    "#D# print(x[c] > txt[c])\n",
    "#E# print(e[x] > t[x])"
   ]
  },
  {
   "cell_type": "markdown",
   "metadata": {},
   "source": [
    " <div align=\"right\">\n",
    "<a href=\"#Dict100\" class=\"btn btn-default\" data-toggle=\"collapse\">Click here for the answer</a>\n",
    "\n",
    "</div>\n",
    "<div id=\"Dict100\" class=\"collapse\">\n",
    "\n",
    "```python\n",
    "B. print(x['e'] > x['t'])\n",
    "```\n",
    "\n",
    "</div>"
   ]
  },
  {
   "cell_type": "markdown",
   "metadata": {},
   "source": [
    "Note that the `print` statements on lines 10 and 11 of the original code pick out the specific keys `t` and `s`. We can generalise that too, to print out the occurrence counts for all of the characters, using a `for` loop to iterate through the keys in `x`."
   ]
  },
  {
   "cell_type": "code",
   "execution_count": null,
   "metadata": {},
   "outputs": [],
   "source": [
    "letter_counts = {} # start with an empty dictionary\n",
    "for c in txt:\n",
    "    if c not in letter_counts:\n",
    "        # we have not seen this character before, so initialise a counter for it\n",
    "        letter_counts[c] = 0\n",
    "\n",
    "    #whether we've seen it before or not, increment its counter\n",
    "    letter_counts[c] = letter_counts[c] + 1\n",
    "\n",
    "for c in letter_counts.keys():\n",
    "    print(c + \": \" + str(letter_counts[c]) + \" occurrences\")\n"
   ]
  },
  {
   "cell_type": "markdown",
   "metadata": {},
   "source": [
    "Note that only those letters (characters) that actually occur in the text are shown. The most frequently occuring character was actualy ' ' the space character; this fact is easy to determine by inspection because the dictionary `x` is relatively short. In everyday data analytics problems of interest this will not be so easy to determine by inspecton so will require to be answered using code. But that is precisely what we are here for! More on this later."
   ]
  },
  {
   "cell_type": "markdown",
   "metadata": {},
   "source": [
    "2. Create a dictionary called `char_d` from the string `stri`, so that the key is a character and the value is how many times it occurs."
   ]
  },
  {
   "cell_type": "code",
   "execution_count": null,
   "metadata": {},
   "outputs": [],
   "source": [
    "stri = \"what can I do to solve this problem?\"\n",
    "\n",
    "# Enter your code here"
   ]
  },
  {
   "cell_type": "markdown",
   "metadata": {},
   "source": [
    " <div align=\"right\">\n",
    "<a href=\"#Dict10\" class=\"btn btn-default\" data-toggle=\"collapse\">Click here for the answer</a>\n",
    "\n",
    "</div>\n",
    "<div id=\"Dict10\" class=\"collapse\">\n",
    "\n",
    "```python\n",
    "\n",
    "char_d = {}\n",
    "for c in stri:\n",
    "    if c not in char_d:\n",
    "        char_d[c] = 0\n",
    "    char_d[c] = char_d[c] + 1\n",
    "\n",
    "print(char_d)\n",
    "```\n",
    "\n",
    "</div>"
   ]
  },
  {
   "cell_type": "markdown",
   "metadata": {},
   "source": [
    "3. In the cell below is a string, saved to the variable name `sentence`. Split the string into a list of words, then create a dictionary that contains each word and the number of times it occurs. Save this dictionary to the variable name `word_counts`."
   ]
  },
  {
   "cell_type": "code",
   "execution_count": null,
   "metadata": {},
   "outputs": [],
   "source": [
    "sentence = \"The dog chased the rabbit into the forest but the rabbit was too quick.\"\n",
    "\n",
    "# Enter your code here"
   ]
  },
  {
   "cell_type": "markdown",
   "metadata": {},
   "source": [
    " <div align=\"right\">\n",
    "<a href=\"#Dict9\" class=\"btn btn-default\" data-toggle=\"collapse\">Click here for the answer</a>\n",
    "\n",
    "</div>\n",
    "<div id=\"Dict9\" class=\"collapse\">\n",
    "\n",
    "```python\n",
    "split_sentence = sentence.split()\n",
    "word_counts = {}\n",
    "\n",
    "for word in split_sentence:\n",
    "    if word not in word_counts:\n",
    "        word_counts[word] = 0\n",
    "    word_counts[word] = word_counts[word] + 1  \n",
    "    \n",
    "print(word_counts)\n",
    "\n",
    "```\n",
    "\n",
    "</div>"
   ]
  },
  {
   "cell_type": "markdown",
   "metadata": {},
   "source": [
    "<a id=\"ref7\"></a>\n",
    "<h2>Accumulating Results from a Dictionary</h2>\n",
    "\n",
    "<div align=\"right\"><a href=\"#ref00\">back to top</a></div>"
   ]
  },
  {
   "cell_type": "markdown",
   "metadata": {},
   "source": [
    "Just as we have iterated through the elements of a list to accumulate a result, we can also iterate through the keys in a dictionary, accumulating a result that may depend on the values associated with each of the keys.\n",
    "\n",
    "For example, suppose that we wanted to compute a Scrabble score for the `txt` string earlier. Each occurrence of the letter ‘e’ earns 1 point, but ‘q’ earns 10 points. We have a second dictionary, stored in the variable `letter_values` below. Now, to compute the total score, we start an accumulator at 0 and go through each of the letters in the `counts` dictionary. For each of those letters that has a letter value (no points for spaces, punctuation, capital letters, etc.), we add to the total score."
   ]
  },
  {
   "cell_type": "code",
   "execution_count": null,
   "metadata": {},
   "outputs": [],
   "source": [
    "x = {} # start with an empty dictionary\n",
    "for c in txt:\n",
    "    if c not in x:\n",
    "        # we have not seen this character before, so initialise a counter for it\n",
    "        x[c] = 1\n",
    "\n",
    "    #whether we've seen it before or not, increment its counter\n",
    "    x[c] = x[c] + 1\n",
    "\n",
    "letter_values = {'a': 1, 'b': 3, 'c': 3, 'd': 2, 'e': 1, 'f':4, 'g': 2, 'h':4, 'i':1, 'j':8, 'k':5, 'l':1, 'm':3, 'n':1, 'o':1, 'p':3, 'q':10, 'r':1, 's':1, 't':1, 'u':1, 'v':8, 'w':4, 'x':8, 'y':4, 'z':10}\n",
    "\n",
    "tot = 0\n",
    "for y in x:\n",
    "    if y in letter_values:\n",
    "        tot = tot + letter_values[y] * x[y] # this is line 15\n",
    "\n",
    "print(tot)\n"
   ]
  },
  {
   "cell_type": "markdown",
   "metadata": {},
   "source": [
    "Line 15 is the tricky one. We are updating the variable `tot` to have its old number plus the score for the current letter times the number of occurrences of that letter. Try changing some of the letter values and see how it affects the total. Try changing `txt` to be just a single word that you might play in Scrabble. What about `\"supercalifragilisticexpialidocious\"`?"
   ]
  },
  {
   "cell_type": "markdown",
   "metadata": {},
   "source": [
    "**Have a go**\n",
    "\n",
    "1. The dictionary `travel` contains the number of countries within each continent that Claire has travelled to. Find the total number of countries Claire has been to, and save this number to the variable name `total`. Don't hard code this."
   ]
  },
  {
   "cell_type": "code",
   "execution_count": null,
   "metadata": {},
   "outputs": [],
   "source": [
    "travel = {\"North America\": 2, \"Europe\": 8, \"South America\": 3, \"Asia\": 4, \"Africa\":1, \"Antarctica\": 0, \"Australia\": 1}\n",
    "\n",
    "#Enter your code here"
   ]
  },
  {
   "cell_type": "markdown",
   "metadata": {},
   "source": [
    " <div align=\"right\">\n",
    "<a href=\"#Dict11\" class=\"btn btn-default\" data-toggle=\"collapse\">Click here for the answer</a>\n",
    "\n",
    "</div>\n",
    "<div id=\"Dict11\" class=\"collapse\">\n",
    "\n",
    "```python\n",
    "total = 0\n",
    "for countries in travel:\n",
    "    total = total + travel[countries]\n",
    "print(total)\n",
    "\n",
    "```\n",
    "\n",
    "</div>"
   ]
  },
  {
   "cell_type": "markdown",
   "metadata": {},
   "source": [
    "2. `schedule` is a dictionary where a course name is a key and its value is how many credits it is worth. Go through and accumulate the total number of credits that have been earned so far by a student who has successfully completed `SPANISH 103`, `SPANISH 231` and `ANTHRO 101`. Assign the result to the variable `total_credits`."
   ]
  },
  {
   "cell_type": "code",
   "execution_count": null,
   "metadata": {},
   "outputs": [],
   "source": [
    "schedule = {\"UARTS 150\": 3, \"SPANISH 103\": 4, \"ENGLISH 125\": 4, \"SI 110\": 4, \n",
    "            \"ENS 356\": 2, \"WOMENSTD 240\": 4, \"SI 106\": 4, \"BIO 118\": 3, \n",
    "            \"SPANISH 231\": 7, \"PSYCH 111\": 4, \"LING 111\": 3, \"SPANISH 232\": 4, \n",
    "            \"STATS 250\": 4, \"SI 206\": 4, \"COGSCI 200\": 4, \"AMCULT 202\": 4, \n",
    "            \"ANTHRO 101\": 4}\n",
    "\n",
    "# Enter your code here"
   ]
  },
  {
   "cell_type": "markdown",
   "metadata": {},
   "source": [
    " <div align=\"right\">\n",
    "<a href=\"#Dict12\" class=\"btn btn-default\" data-toggle=\"collapse\">Click here for the answer</a>\n",
    "\n",
    "</div>\n",
    "<div id=\"Dict12\" class=\"collapse\">\n",
    "\n",
    "```python\n",
    "total_credits = 0\n",
    "completed_courses = [\"SPANISH 103\",\"SPANISH 231\",\"ANTHRO 101\"]\n",
    "for course in completed_courses:\n",
    "    total_credits = total_credits + schedule[course]\n",
    "    \n",
    "total_credits\n",
    "```\n",
    "\n",
    "</div>"
   ]
  },
  {
   "cell_type": "markdown",
   "metadata": {},
   "source": [
    "<a id=\"ref8\"></a>\n",
    "<h2>Accumulating the Best Key</h2>\n",
    "\n",
    "<div align=\"right\"><a href=\"#ref00\">back to top</a></div>"
   ]
  },
  {
   "cell_type": "markdown",
   "metadata": {},
   "source": [
    "What if you want to find the key associated with the maximum value? It would be nice to just find the maximum value and then look up the key associated with it, but dictionaries don’t work that way. You can look up the value associated with a key, but not the key associated with a value. (The reason for that is there may be more than one key that has the same value).\n",
    "\n",
    "The trick is to have the accumulator keep track of the best key so far instead of the best value so far. For simplicity, let’s assume that there are at least two keys in the dictionary. Then, similar to our first version of computing the maximum of a list, we can initialise the best-key-so-far to be the first key, and loop through the keys, replacing the best-key-so-far whenever we find a better one.\n",
    "\n",
    "In the first exercise below, I have provided some skeleton code. See if you can fill it in. An answer is provided, but you’ll learn more if you try to write it yourself first."
   ]
  },
  {
   "cell_type": "markdown",
   "metadata": {},
   "source": [
    "**Have a go:**\n",
    "\n",
    "1. Write a program that finds the key in a dictionary that has the maximum value. If two keys have the same (maximum) value, it’s OK to print out either one. Fill in the missing code"
   ]
  },
  {
   "cell_type": "code",
   "execution_count": null,
   "metadata": {},
   "outputs": [],
   "source": [
    "d = {'a': 194, 'b': 54, 'c':34, 'd': 44, 'e': 312, 'full':31}\n",
    "\n",
    "ks = d.keys()\n",
    "best_key_so_far = list(ks)[0]  # this turns ks into a real list before using [] to select an item\n",
    "for k in ks:\n",
    "    if d[k] > ?????????:     # This line is where you need to enter the correct code to make this script work properly\n",
    "        best_key_so_far = k\n",
    "\n",
    "print(\"key \" + best_key_so_far + \" has the highest value, \" + str(d[best_key_so_far]))\n"
   ]
  },
  {
   "cell_type": "markdown",
   "metadata": {},
   "source": [
    " <div align=\"right\">\n",
    "<a href=\"#Dict13\" class=\"btn btn-default\" data-toggle=\"collapse\">Click here for the answer</a>\n",
    "\n",
    "</div>\n",
    "<div id=\"Dict13\" class=\"collapse\">\n",
    "\n",
    "```python\n",
    "????????? = d[best_key_so_far]\n",
    "```\n",
    "\n",
    "</div>"
   ]
  },
  {
   "cell_type": "markdown",
   "metadata": {},
   "source": [
    "2. Create a dictionary called `d` that keeps track of all the characters in the string `Game_of_Thrones` and notes how many times each character was seen. Then, find the key with the lowest value in this dictionary and assign that key to `min_value`."
   ]
  },
  {
   "cell_type": "code",
   "execution_count": null,
   "metadata": {},
   "outputs": [],
   "source": [
    "Game_of_Thrones = \"The Dark Hedges is an avenue of large mature \\\n",
    "beech trees, which were planted by James Stuart to frame an \\\n",
    "avenue to his home. The trees were planted around 1775 when he \\\n",
    "built nearby Gracehill House. The trees are on both sides of \\\n",
    "the road, forming a “tunnel” that is between 6 and 10 meters \\\n",
    "in width.\"\n",
    "\n",
    "#Enter your code here\n"
   ]
  },
  {
   "cell_type": "markdown",
   "metadata": {},
   "source": [
    " <div align=\"right\">\n",
    "<a href=\"#Dict14\" class=\"btn btn-default\" data-toggle=\"collapse\">Click here for the answer</a>\n",
    "\n",
    "</div>\n",
    "<div id=\"Dict14\" class=\"collapse\">\n",
    "\n",
    "```python\n",
    "d = {}\n",
    "for c in Game_of_Thrones:\n",
    "    if c not in d:\n",
    "        d[c] = 0 \n",
    "    d[c] = d[c] + 1     # this for loop creates the required dictionary\n",
    "    \n",
    "ks = d.keys()\n",
    "min_value = list(ks)[0]  # this turns ks into a real list before \n",
    "                         # using [] to select an item\n",
    "for k in ks:\n",
    "    if d[k] < d[min_value]: # This line is where you need to enter the\n",
    "                            # correct code to make this script work properly\n",
    "        min_value = k\n",
    "\n",
    "print(\"key \" + min_value + \" has the lowest value, \"\n",
    "      + str(d[min_value]))\n",
    "```\n",
    "\n",
    "</div>"
   ]
  },
  {
   "cell_type": "markdown",
   "metadata": {},
   "source": [
    "3. Create a dictionary called `lett_d` that keeps track of all of the characters in the string `product` and notes how many times each character was seen. Then, find the key with the highest value in this dictionary and assign that key to `max_value`."
   ]
  },
  {
   "cell_type": "code",
   "execution_count": null,
   "metadata": {},
   "outputs": [],
   "source": [
    "product = \"iphone or android phone, what's your preference?\"\n",
    "\n",
    "#Enter your code here"
   ]
  },
  {
   "cell_type": "markdown",
   "metadata": {},
   "source": [
    " <div align=\"right\">\n",
    "<a href=\"#Dict144\" class=\"btn btn-default\" data-toggle=\"collapse\">Click here for the answer</a>\n",
    "\n",
    "</div>\n",
    "<div id=\"Dict144\" class=\"collapse\">\n",
    "\n",
    "```\n",
    "No explicit answer given to this one as you should be able \n",
    "to use what has gone before to write code for this task. \n",
    "You can check your answer by direct observation since the \n",
    "string \"iphone or android phone, what's your preference?\" \n",
    "is not very long.\n",
    "\n",
    "```\n",
    "\n",
    "</div>"
   ]
  },
  {
   "cell_type": "markdown",
   "metadata": {},
   "source": [
    "Checking your answer to this task manually is a good idea, even if you feel you successfully completed the code. Doing so should give you a healthy respect for the convenience that coding brings to tasks like this because even in a short phrase such as `\"phone or android phone, what's your preference?\"` you will probably have found it quite tedious to keep track and come up with an answer manually. Computers are so much better at this than humans!"
   ]
  },
  {
   "cell_type": "markdown",
   "metadata": {},
   "source": [
    "<a id=\"ref9\"></a>\n",
    "<h2>When to use a Dictionary</h2>\n",
    "\n",
    "<div align=\"right\"><a href=\"#ref00\">back to top</a></div>"
   ]
  },
  {
   "cell_type": "markdown",
   "metadata": {},
   "source": [
    "Now that you have experience using lists and dictionaries, it will often be necessary to decide which one is best to use in a particular situation. The following guidelines will help you recognise when a dictionary will be beneficial:\n",
    "\n",
    "When a piece of data consists of a set of properties of a single item, a dictionary is often better. For instance, you could try to keep track mentally that the customers' postcode information is located at index 2 in a list, but your code will be easier to read and you will make fewer mistakes if you can look up `mydiction[‘postcode’]` rather than if you look up `mylst[2]`.\n",
    "\n",
    "When you have a collection of data pairs, and you will often have to look up one of the pairs based on its first value, it is better to use a dictionary than a list of `(key, value)` tuples. With a dictionary, you can find the value for any `(key, value)` tuple by looking up the key. With a list of tuples you would need to iterate through the list, examining each pair to see if it had the key that you want.\n",
    "\n",
    "On the other hand, if you have a collection of data pairs where multiple pairs share the same first data element, then you can’t use a dictionary, because a dictionary requires all the keys to be distinct from each other."
   ]
  },
  {
   "cell_type": "markdown",
   "metadata": {},
   "source": [
    "<a id=\"ref10\"></a>\n",
    "<h2>Glossary</h2>\n",
    "\n",
    "<div align=\"right\"><a href=\"#ref00\">back to top</a></div>"
   ]
  },
  {
   "cell_type": "markdown",
   "metadata": {},
   "source": [
    "**dictionary:**  a collection of key-value pairs that maps from keys to values. The keys can be any immutable type, and the values can be any type.\n",
    "\n",
    "**key:**  a data item that is mapped to a value in a dictionary. Keys are used to look up values in a dictionary.\n",
    "\n",
    "**value:**  the value that is associated with each key in a dictionary.\n",
    "\n",
    "**key-value pair:**  one of the pairs of items in a dictionary. Values are looked up in a dictionary by key.\n",
    "\n",
    "**mapping type:**  a mapping type is a data type comprised of a collection of keys and associated values. Python’s only built-in mapping type is the dictionary. Dictionaries implement the [associative array](https://en.wikipedia.org/wiki/Associative_array) abstract data type."
   ]
  },
  {
   "cell_type": "markdown",
   "metadata": {},
   "source": [
    "<a id=\"ref11\"></a>\n",
    "<h2>Exercises</h2>\n",
    "\n",
    "<div align=\"right\"><a href=\"#ref00\">back to top</a></div>"
   ]
  },
  {
   "cell_type": "markdown",
   "metadata": {},
   "source": [
    "The albums 'Back in Black', 'The Bodyguard' and 'Thriller' have the following music recording sales in millions 50, 50 and 65, respectively:"
   ]
  },
  {
   "cell_type": "markdown",
   "metadata": {},
   "source": [
    "1. Create a dictionary `album_sales_dict` where the keys are the album name and the sales in millions are the values. "
   ]
  },
  {
   "cell_type": "code",
   "execution_count": null,
   "metadata": {},
   "outputs": [],
   "source": [
    "# write your code here\n",
    "\n"
   ]
  },
  {
   "cell_type": "markdown",
   "metadata": {},
   "source": [
    "<div align=\"right\">\n",
    "<a href=\"#q9\" class=\"btn btn-default\" data-toggle=\"collapse\">Click here for the solution</a>\n",
    "\n",
    "</div>\n",
    "<div id=\"q9\" class=\"collapse\">\n",
    "\n",
    "```python\n",
    "album_sales_dict= { \"The Bodyguard\":50, \"Back in Black\":50,\n",
    "                    \"Thriller\":65}\n",
    "```\n",
    "</div>"
   ]
  },
  {
   "cell_type": "markdown",
   "metadata": {},
   "source": [
    "2. Use the dictionary created in (1.) to find the total sales of \"Thriller\"."
   ]
  },
  {
   "cell_type": "code",
   "execution_count": null,
   "metadata": {},
   "outputs": [],
   "source": [
    "# write your code here\n",
    "\n"
   ]
  },
  {
   "cell_type": "markdown",
   "metadata": {},
   "source": [
    "<div align=\"right\">\n",
    "<a href=\"#q10b\" class=\"btn btn-default\" data-toggle=\"collapse\">Click here for the solution</a>\n",
    "\n",
    "</div>\n",
    "<div id=\"q10b\" class=\"collapse\">\n",
    "\n",
    "```python\n",
    "album_sales_dict[\"Thriller\"]\n",
    "```\n",
    "\n",
    "</div>"
   ]
  },
  {
   "cell_type": "markdown",
   "metadata": {},
   "source": [
    "3. Find the names of the albums from the dictionary using the `keys` method."
   ]
  },
  {
   "cell_type": "code",
   "execution_count": null,
   "metadata": {},
   "outputs": [],
   "source": [
    "# write your code here\n",
    "\n"
   ]
  },
  {
   "cell_type": "markdown",
   "metadata": {},
   "source": [
    "<div align=\"right\">\n",
    "<a href=\"#q10c\" class=\"btn btn-default\" data-toggle=\"collapse\">Click here for the solution</a>\n",
    "\n",
    "</div>\n",
    "<div id=\"q10c\" class=\"collapse\">\n",
    "\n",
    "```python\n",
    "\n",
    "album_sales_dict.keys()\n",
    "\n",
    "```\n"
   ]
  },
  {
   "cell_type": "markdown",
   "metadata": {},
   "source": [
    "4. Find the recording sales from the dictionary using the `values` method."
   ]
  },
  {
   "cell_type": "code",
   "execution_count": null,
   "metadata": {},
   "outputs": [],
   "source": [
    "# write your code here"
   ]
  },
  {
   "cell_type": "markdown",
   "metadata": {},
   "source": [
    "<div align=\"right\">\n",
    "<a href=\"#q10d\" class=\"btn btn-default\" data-toggle=\"collapse\">Click here for the solution</a>\n",
    "\n",
    "</div>\n",
    "<div id=\"q10d\" class=\"collapse\">\n",
    "\n",
    "```python\n",
    "album_sales_dict.values()\n",
    "```\n",
    "</div>"
   ]
  },
  {
   "cell_type": "markdown",
   "metadata": {},
   "source": [
    "5. Try to predict what the following line of code would print."
   ]
  },
  {
   "cell_type": "code",
   "execution_count": null,
   "metadata": {},
   "outputs": [],
   "source": [
    "d = {'spring': 'autumn', 'autumn': 'fall', 'fall': 'spring'}\n",
    "print(d['autumn'])"
   ]
  },
  {
   "cell_type": "markdown",
   "metadata": {},
   "source": [
    "<div align=\"right\">\n",
    "<a href=\"#q10dff\" class=\"btn btn-default\" data-toggle=\"collapse\">Click here for the solution</a>\n",
    "\n",
    "</div>\n",
    "<div id=\"q10dff\" class=\"collapse\">\n",
    "\n",
    "```python\n",
    "fall\n",
    "```\n",
    "</div>"
   ]
  },
  {
   "cell_type": "markdown",
   "metadata": {},
   "source": [
    "6. In order to get the following code to print 'failure', what should the value of `?` be."
   ]
  },
  {
   "cell_type": "code",
   "execution_count": null,
   "metadata": {},
   "outputs": [],
   "source": [
    "d = { 'work': 'success', 'success': 'failure', 'failure': 'money', 'time': 'work', 'industry': 'time'}\n",
    "d[d[?]]"
   ]
  },
  {
   "cell_type": "markdown",
   "metadata": {},
   "source": [
    "<div align=\"right\">\n",
    "<a href=\"#q1a\" class=\"btn btn-default\" data-toggle=\"collapse\">Click here for the solution</a>\n",
    "\n",
    "</div>\n",
    "<div id=\"q1a\" class=\"collapse\">\n",
    "\n",
    "```\n",
    "replace `?` with 'work'\n",
    "```\n",
    "\n",
    "</div>"
   ]
  },
  {
   "cell_type": "markdown",
   "metadata": {},
   "source": [
    "7. Consider the block of code"
   ]
  },
  {
   "cell_type": "markdown",
   "metadata": {},
   "source": [
    "```python\n",
    "d =  {'a': 2, 'b': 3, 'c': 1}\n",
    "e = {}\n",
    "for c in d:\n",
    "    e[d[c]] = c\n",
    "print(e)\n",
    "```"
   ]
  },
  {
   "cell_type": "markdown",
   "metadata": {},
   "source": [
    "Without running it decide which of the following options accurately conveys what it does. \n",
    "\n",
    "* A. It creates a new copy of `d`.\n",
    "* B. It creates a new dictionary which swaps the keys and values in `d`.\n",
    "* C. It throws an error.\n",
    "* D. It creates a new dictionary which maps each of `d`'s keys to itself.\n",
    "* E. It creates a new dictionary which maps each of `d`'s values to itself."
   ]
  },
  {
   "cell_type": "markdown",
   "metadata": {},
   "source": [
    "<div align=\"right\">\n",
    "<a href=\"#q1b\" class=\"btn btn-default\" data-toggle=\"collapse\">Click here for the solution</a>\n",
    "\n",
    "</div>\n",
    "<div id=\"q1b\" class=\"collapse\">\n",
    "\n",
    "```\n",
    "The answer is B. d[c] gets the value from dictionary d with key c. In dictionary e, we are putting d[c] as a key and value as c. \n",
    "```\n",
    "\n",
    "</div>"
   ]
  },
  {
   "cell_type": "markdown",
   "metadata": {},
   "source": [
    "8. Consider the following code."
   ]
  },
  {
   "cell_type": "code",
   "execution_count": null,
   "metadata": {},
   "outputs": [],
   "source": [
    "alphabet = 'abcdefghijklmnopqrstuvwxyz'\n",
    "values = {}\n",
    "answer = 0\n",
    "for i in range(len(alphabet)):\n",
    "    values[?????] = i+1;\n",
    "    answer += values[?????]\n",
    "print('The value of answer is',answer,' and values =',values)"
   ]
  },
  {
   "cell_type": "markdown",
   "metadata": {},
   "source": [
    "Replace `?????` in the code to result in the following output\n",
    "```\n",
    "The value of answer is 351  and values\n",
    "```\n",
    "```python\n",
    "= {'a': 1, 'b': 2, 'c': 3, 'd': 4, 'e': 5, 'f': 6, \n",
    "   'g': 7, 'h': 8, 'i': 9, 'j': 10, 'k': 11, 'l': 12,\n",
    "   'm': 13, 'n': 14, 'o': 15, 'p': 16, 'q': 17, \n",
    "   'r': 18, 's': 19, 't': 20, 'u': 21, 'v': 22, \n",
    "   'w': 23, 'x': 24, 'y': 25, 'z': 26}\n",
    "```"
   ]
  },
  {
   "cell_type": "markdown",
   "metadata": {},
   "source": [
    "<div align=\"right\">\n",
    "<a href=\"#q1c\" class=\"btn btn-default\" data-toggle=\"collapse\">Click here for the solution</a>\n",
    "\n",
    "</div>\n",
    "<div id=\"q1c\" class=\"collapse\">\n",
    "\n",
    "```\n",
    "replace `?????` with `alphabet[i]`\n",
    "```\n",
    "\n",
    "</div>"
   ]
  },
  {
   "cell_type": "markdown",
   "metadata": {},
   "source": [
    "9. The table below contains a basic vocabulary map from English to Pirate. Write a program that asks the user to input a sentence (to include several of the English words in the table) and then translates the sentence to Pirate.\n",
    "\n",
    "\n",
    "| English    | Pirate        |\n",
    "|------------|---------------|\n",
    "| sir        | matey         |\n",
    "| hotel      | fleabag inn   |\n",
    "| student    | swabbie       |\n",
    "| boy        | matey         |\n",
    "| madam      | proud beauty  |\n",
    "| professor  | foul blaggart |\n",
    "| restaurant | galley        |\n",
    "| your       | yer           |\n",
    "| excuse     | arr           |\n",
    "| students   | swabbies      |\n",
    "| are        | be            |\n",
    "| lawyer     | foul blaggart |\n",
    "| the        | th’           |\n",
    "| restroom   | head          |\n",
    "\n",
    "\n"
   ]
  },
  {
   "cell_type": "code",
   "execution_count": null,
   "metadata": {},
   "outputs": [],
   "source": [
    "# Write your code here\n",
    "\n"
   ]
  },
  {
   "cell_type": "markdown",
   "metadata": {},
   "source": [
    "<div align=\"right\">\n",
    "<a href=\"#q1d\" class=\"btn btn-default\" data-toggle=\"collapse\">Click here for the solution</a>\n",
    "\n",
    "</div>\n",
    "<div id=\"q1d\" class=\"collapse\">\n",
    "\n",
    "```python\n",
    "str_to_translate = input('Enter a sentence to translate from English to Pirate: \\nThe English version \\n')\n",
    "\n",
    "#  As a for instance you could copy and paste...\n",
    "# \"I see you are enjoying your stay at the hotel \n",
    "# with the students and the #professor and you all \n",
    "# ate at the restaurant with madam and boy\"\n",
    "\n",
    "english_to_pirate = {'sir':'matey',\n",
    "                  'hotel':'fleabag inn',\n",
    "                  'student': 'swabbie',\n",
    "                  'boy': 'matey',\n",
    "                  'madam':'proud beauty',\n",
    "                  'professor': 'foul blaggart',\n",
    "                  'restaurant': 'galley',\n",
    "                  'your':'yer',\n",
    "                  'excuse':'arr',\n",
    "                  'students':'swabbies',\n",
    "                  'are':'be',\n",
    "                  'lawyer':'foul blaggart',\n",
    "                  'the':'th’',\n",
    "                  'restroom':'head'}\n",
    "\n",
    "split_string = str_to_translate.split() \n",
    "pirate_string = split_string.copy()\n",
    "for word in range(len(split_string)):\n",
    "    if split_string[word] in english_to_pirate:\n",
    "        pirate_string[word] = english_to_pirate[split_string[word]]\n",
    "    \n",
    "print(\"\\nThe Pirate version\\n\",' '.join(pirate_string))\n",
    "\n",
    "```\n",
    "\n",
    "</div>"
   ]
  },
  {
   "cell_type": "markdown",
   "metadata": {},
   "source": [
    "10. Write a program that finds the most used 7 letter word in `titanic.txt`. This file should be saved in the same directory/folder that you are using to access this notebook."
   ]
  },
  {
   "cell_type": "code",
   "execution_count": null,
   "metadata": {},
   "outputs": [],
   "source": [
    "# Write your code here\n",
    "\n"
   ]
  },
  {
   "cell_type": "markdown",
   "metadata": {},
   "source": [
    "<div align=\"right\">\n",
    "<a href=\"#q1e\" class=\"btn btn-default\" data-toggle=\"collapse\">Click here for the solution</a>\n",
    "\n",
    "</div>\n",
    "<div id=\"q1e\" class=\"collapse\">\n",
    "\n",
    "```python\n",
    "f = open('titanic.txt', 'r')\n",
    "contents = f.read()\n",
    "d = {}\n",
    "\n",
    "for w in contents.split():\n",
    "    if len(w) == 7:\n",
    "        if w not in d:\n",
    "            d[w] = 1\n",
    "        else:\n",
    "            d[w] = d[w] + 1\n",
    "\n",
    "dkeys = list(d.keys())\n",
    "most_used = dkeys[0]\n",
    "\n",
    "for k in dkeys:\n",
    "    if d[k] > d[most_used]:\n",
    "        most_used = k\n",
    "\n",
    "print(\"The most used word is '\"+most_used+\"', \n",
    "      which appears \"+str(d[most_used])+\" times\")\n",
    "```\n",
    "\n",
    "\n",
    "</div>"
   ]
  },
  {
   "cell_type": "markdown",
   "metadata": {},
   "source": [
    "< [Files](ZFiles.ipynb) | [PyFinLab Index](ALWAYS-START-HERE.ipynb) | [About this Lab Book](Welcome.ipynb) >\n",
    "\n",
    "<div align=\"right\"><a href=\"#ref00\">back to top</a></div>"
   ]
  }
 ],
 "metadata": {
  "kernelspec": {
   "display_name": "Python 3",
   "language": "python",
   "name": "python3"
  },
  "language_info": {
   "codemirror_mode": {
    "name": "ipython",
    "version": 3
   },
   "file_extension": ".py",
   "mimetype": "text/x-python",
   "name": "python",
   "nbconvert_exporter": "python",
   "pygments_lexer": "ipython3",
   "version": "3.7.4"
  }
 },
 "nbformat": 4,
 "nbformat_minor": 2
}
