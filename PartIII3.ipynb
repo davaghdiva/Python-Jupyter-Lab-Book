{
 "cells": [
  {
   "cell_type": "markdown",
   "metadata": {},
   "source": [
    "< [Notebook 09](PartIII2.ipynb) | [PyFinLab Index](ALWAYS-START-HERE.ipynb) | [Notebook 11](PartIII4.ipynb) >\n",
    "\n",
    "<a id = \"ref00\"></a>"
   ]
  },
  {
   "cell_type": "markdown",
   "metadata": {},
   "source": [
    "<a><img src=\"figures/UUBS.png\" width=\"180\" height=\"180\" border=\"10\" /></a>\n",
    "\n",
    "<hr>\n",
    "</a>"
   ]
  },
  {
   "cell_type": "markdown",
   "metadata": {},
   "source": [
    "### Notebook 10: Confidence Intervals\n",
    "\n",
    "In this notebook we consider how to estimate the average return using confidence interval estimation (this amounts to defining a value range within which the population mean will lie for a given percentage of samples, of a given size, drawn from the population). For instance, if, for a given sample size n, we express the 90% CI for the population mean in the form of a range (a,b), we can interpret this as saying that if we repeatedly draw samples of this size from the population then on 90% of occasions the true population mean will lie between the values a and b. Note a and b are sample specific and change with each new sample.  "
   ]
  },
  {
   "cell_type": "code",
   "execution_count": null,
   "metadata": {},
   "outputs": [],
   "source": [
    "import pandas as pd\n",
    "import numpy as np\n",
    "from scipy.stats import norm"
   ]
  },
  {
   "cell_type": "code",
   "execution_count": null,
   "metadata": {},
   "outputs": [],
   "source": [
    "ms = pd.read_csv('data/microsoft.csv')\n",
    "ms.head()"
   ]
  },
  {
   "cell_type": "markdown",
   "metadata": {},
   "source": [
    "### Estimate the average stock return with a 90% CI"
   ]
  },
  {
   "cell_type": "code",
   "execution_count": null,
   "metadata": {},
   "outputs": [],
   "source": [
    "# we shall use the log return for average stock return of Microsoft\n",
    "\n",
    "ms['logReturn'] = np.log(ms['Close'].shift(-1)) - np.log(ms['Close'])"
   ]
  },
  {
   "cell_type": "code",
   "execution_count": null,
   "metadata": {},
   "outputs": [],
   "source": [
    "# here we build a 90% confidence interval for the mean of the stock log-return\n",
    "sample_size = ms['logReturn'].shape[0]\n",
    "sample_mean = ms['logReturn'].mean()\n",
    "std_error_of_mean = ms['logReturn'].std(ddof=1)/sample_size**0.5\n",
    "\n",
    "# left and right quantile (replace 'None' with your proposed code)\n",
    "z_left = None\n",
    "z_right = None\n",
    "\n",
    "# upper and lower bound (replace 'None' with your proposed code)\n",
    "lower_bound = None\n",
    "upper_bound = None"
   ]
  },
  {
   "cell_type": "code",
   "execution_count": null,
   "metadata": {},
   "outputs": [],
   "source": [
    "# the 90% confidence interval tells us that for 90% of samples drawn from\n",
    "# the population, the true population mean of the stock log-return will lie \n",
    "# in the resulting confidence interval.\n",
    "\n",
    "print('The 90% confidence interval is',(lower_bound,upper_bound))"
   ]
  },
  {
   "cell_type": "markdown",
   "metadata": {},
   "source": [
    "<div align=\"right\">\n",
    "<a href=\"#Hag10\" class=\"btn btn-default\" data-toggle=\"collapse\">Expected output</a>\n",
    "\n",
    "</div>\n",
    "<div id=\"Hag10\" class=\"collapse\">\n",
    "    \n",
    "<br>    \n",
    "\n",
    "```\n",
    "90% confidence interval (-1.5603253899378836e-05, 0.001656066226145423)\n",
    "\n",
    "```\n",
    "\n",
    "</div>\n",
    "\n"
   ]
  },
  {
   "cell_type": "markdown",
   "metadata": {},
   "source": [
    "<div align=\"left\">\n",
    "<a href=\"#5004\" class=\"btn btn-default\" data-toggle=\"collapse\"><b>Have a go!</b></a>\n",
    "\n",
    "</div>\n",
    "<div id=\"5004\" class=\"collapse\">\n",
    "<br>\n",
    "\n",
    "In the cell below use the Python numpy function exp(), the equivalent of Shift+ln on your calculator, to convert these log returns bounds to actual percentage return bounds. Print out the result (as in the cell above) with your answer rounded to *3 significant figures* using the Python function round()."
   ]
  },
  {
   "cell_type": "code",
   "execution_count": null,
   "metadata": {},
   "outputs": [],
   "source": []
  },
  {
   "cell_type": "markdown",
   "metadata": {},
   "source": [
    "< [Notebook 09](PartIII2.ipynb) | [PyFinLab Index](ALWAYS-START-HERE.ipynb) | [Notebook 11](PartIII4.ipynb) >\n",
    "\n",
    "<a id = \"ref00\"></a>\n",
    "\n",
    "<div align=\"right\"><a href=\"#ref00\">back to top</a></div>"
   ]
  }
 ],
 "metadata": {
  "kernelspec": {
   "display_name": "Python 3",
   "language": "python",
   "name": "python3"
  },
  "language_info": {
   "codemirror_mode": {
    "name": "ipython",
    "version": 3
   },
   "file_extension": ".py",
   "mimetype": "text/x-python",
   "name": "python",
   "nbconvert_exporter": "python",
   "pygments_lexer": "ipython3",
   "version": "3.7.4"
  }
 },
 "nbformat": 4,
 "nbformat_minor": 2
}
