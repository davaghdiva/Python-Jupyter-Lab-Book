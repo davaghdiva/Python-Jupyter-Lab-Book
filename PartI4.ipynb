{
 "cells": [
  {
   "cell_type": "markdown",
   "metadata": {},
   "source": [
    "< [Notebook 03](PartI3.ipynb) | [PyFinLab Index](ALWAYS-START-HERE.ipynb) | [Notebook 05](PartII1.ipynb) >\n",
    "\n",
    "<a id = \"ref00\"></a>"
   ]
  },
  {
   "cell_type": "markdown",
   "metadata": {},
   "source": [
    "<a><img src=\"figures/UUBS.png\" width=\"180\" height=\"180\" border=\"10\" /></a>\n",
    "\n",
    "<hr>\n",
    "</a>"
   ]
  },
  {
   "cell_type": "markdown",
   "metadata": {},
   "source": [
    "### Notebook 04: Building a simple trading strategy \n",
    "\n",
    "In this notebook we learn how to build a simple strategy for stock trading. The intention is not to provide a get-rich-quick scheme; rather it is to utilise something tangible as motivation to learn the Python we have covered thus far, and get ready for the upcoming notebooks. "
   ]
  },
  {
   "cell_type": "markdown",
   "metadata": {},
   "source": [
    "### Preliminaries"
   ]
  },
  {
   "cell_type": "code",
   "execution_count": null,
   "metadata": {},
   "outputs": [],
   "source": [
    "import pandas as pd\n",
    "import matplotlib.pyplot as plt\n",
    "%matplotlib inline"
   ]
  },
  {
   "cell_type": "code",
   "execution_count": null,
   "metadata": {},
   "outputs": [],
   "source": [
    "# import the CSV data files and store them in DataFrame \n",
    "# variables/objects fb and ms \n",
    "\n",
    "fb = pd.read_csv('data/facebook.csv')\n",
    "ms = pd.read_csv('data/microsoft.csv')"
   ]
  },
  {
   "cell_type": "code",
   "execution_count": null,
   "metadata": {},
   "outputs": [],
   "source": [
    "# set the index to \"Date\" for both the newly created objects fb and ms\n",
    "# assigning the output to variables (also objects) fb2 and ms2 respectively.\n",
    "# replace the keyword None with the correct code\n",
    "\n",
    "fb2 = None\n",
    "ms2 = None"
   ]
  },
  {
   "cell_type": "markdown",
   "metadata": {},
   "source": [
    "### Munging the stock data (add two columns - MA10 and MA50)"
   ]
  },
  {
   "cell_type": "code",
   "execution_count": null,
   "metadata": {},
   "outputs": [],
   "source": [
    "# add two columns to the Facebook stock data\n",
    "# use dropna to remove any \"Not a Number\" (NaN) data\n",
    "\n",
    "fb2['MA10'] = fb2['Close'].rolling(10).mean()\n",
    "fb2['MA50'] = fb2['Close'].rolling(50).mean()\n",
    "fb2 = fb2.dropna()\n",
    "fb2.head()"
   ]
  },
  {
   "cell_type": "markdown",
   "metadata": {},
   "source": [
    "### Add \"Shares\" column to make decisions based on the strategy "
   ]
  },
  {
   "cell_type": "code",
   "execution_count": null,
   "metadata": {},
   "outputs": [],
   "source": [
    "# add a new column \"Shares\", if MA10>MA50, \n",
    "# denote as 1 (long one share of stock), \n",
    "# otherwise, denote as 0 (do nothing)\n",
    "\n",
    "fb2['Shares'] = [1 if fb2.loc[ei,'MA10']>fb2.loc[ei,'MA50'] \n",
    "                 else 0 for ei in fb2.index]"
   ]
  },
  {
   "cell_type": "code",
   "execution_count": null,
   "metadata": {},
   "outputs": [],
   "source": [
    "# add a new column \"Profit\" using List Comprehension, for any rows in fb, \n",
    "# if Shares=1, the profit is calculated as the close price of \n",
    "# tomorrow - the close price of today. Otherwise the profit is 0.\n",
    "\n",
    "# plot a graph to show the profit/loss\n",
    "\n",
    "fb2['Close1'] = fb2['Close'].shift(-1)\n",
    "fb2['Profit'] = [fb2.loc[ei,'Close1'] - fb2.loc[ei,'Close'] \n",
    "                 if fb2.loc[ei,'Shares']==1 else 0 for ei in fb2.index]\n",
    "fb2['Profit'].plot()\n",
    "plt.axhline(y=0, color='red')"
   ]
  },
  {
   "cell_type": "markdown",
   "metadata": {},
   "source": [
    "### Use cumsum() to display model performance under the strategy "
   ]
  },
  {
   "cell_type": "code",
   "execution_count": null,
   "metadata": {},
   "outputs": [],
   "source": [
    "# use .cumsum() to calculate the accumulated wealth over the period\n",
    "\n",
    "fb2['Wealth'] = fb2['Profit'].cumsum()\n",
    "fb2.tail()"
   ]
  },
  {
   "cell_type": "code",
   "execution_count": null,
   "metadata": {
    "scrolled": true
   },
   "outputs": [],
   "source": [
    "#plot the wealth to show the growth of profit over the period\n",
    "\n",
    "fb2['Wealth'].plot()\n",
    "fb2['Wealth'] = round(fb2['Wealth'],2) # round 'Wealth' to 2dp for tidy output\n",
    "plt.title('Total money you win is ${}'.format(fb2.loc[fb2.index[-2], 'Wealth']))"
   ]
  },
  {
   "cell_type": "markdown",
   "metadata": {},
   "source": [
    "\n",
    "<div align=\"left\">\n",
    "<a href=\"#56623\" class=\"btn btn-default\" data-toggle=\"collapse\"><b>Have a go!</b></a>\n",
    "\n",
    "</div>\n",
    "<div id=\"56623\" class=\"collapse\">\n",
    "<br>\n",
    "\n",
    "Now implement this trading strategy in the cells below for the Microsoft stock data, modifying the code from above\n"
   ]
  },
  {
   "cell_type": "code",
   "execution_count": null,
   "metadata": {},
   "outputs": [],
   "source": []
  },
  {
   "cell_type": "code",
   "execution_count": null,
   "metadata": {},
   "outputs": [],
   "source": []
  },
  {
   "cell_type": "code",
   "execution_count": null,
   "metadata": {},
   "outputs": [],
   "source": []
  },
  {
   "cell_type": "code",
   "execution_count": null,
   "metadata": {},
   "outputs": [],
   "source": []
  },
  {
   "cell_type": "code",
   "execution_count": null,
   "metadata": {},
   "outputs": [],
   "source": []
  },
  {
   "cell_type": "markdown",
   "metadata": {},
   "source": [
    "<div align=\"right\">\n",
    "<a href=\"#Hag877\" class=\"btn btn-default\" data-toggle=\"collapse\"><span style=\"color: red;\">Expected final output</span></a>\n",
    "\n",
    "\n",
    "</div>\n",
    "<div id=\"Hag877\" class=\"collapse\">\n",
    "\n",
    "<a><img src=\"figures/fig 7.png\" width=\"520\" height=\"520\" border=\"10\"/></a>\n",
    "\n",
    "</div>"
   ]
  },
  {
   "cell_type": "markdown",
   "metadata": {},
   "source": [
    "< [Notebook 03](PartI3.ipynb) | [PyFinLab Index](ALWAYS-START-HERE.ipynb) | [Notebook 05](PartII1.ipynb) >\n",
    "\n",
    "<a id = \"ref00\"></a>\n",
    "\n",
    "<div align=\"right\"><a href=\"#ref00\">back to top</a></div>\n"
   ]
  }
 ],
 "metadata": {
  "kernelspec": {
   "display_name": "Python 3",
   "language": "python",
   "name": "python3"
  },
  "language_info": {
   "codemirror_mode": {
    "name": "ipython",
    "version": 3
   },
   "file_extension": ".py",
   "mimetype": "text/x-python",
   "name": "python",
   "nbconvert_exporter": "python",
   "pygments_lexer": "ipython3",
   "version": "3.7.4"
  }
 },
 "nbformat": 4,
 "nbformat_minor": 2
}
