{
 "cells": [
  {
   "cell_type": "markdown",
   "metadata": {},
   "source": [
    "< [Conditionals](ZConditionals.ipynb) | [PyFinLab Index](ALWAYS-START-HERE.ipynb) | [Iteration](ZIteration.ipynb) >\n",
    "\n",
    "<a id = \"ref00\"></a>"
   ]
  },
  {
   "cell_type": "markdown",
   "metadata": {},
   "source": [
    "<a><img src=\"figures/UUBS.png\" width=\"180\" height=\"180\" border=\"10\" /></a>\n",
    "<hr>"
   ]
  },
  {
   "cell_type": "markdown",
   "metadata": {},
   "source": [
    "<h2> Notebook A3: Functions</h2>\n",
    "\n",
    "<div class=\"alert alert-block alert-info\" style=\"margin-top: 20px\">\n",
    "\n",
    "<li><a href=\"#ref0\">Aims and Objectives</a></li>\n",
    "<li><a href=\"#ref1\">Introduction</a></li>\n",
    "<li><a href=\"#ref2\">Function definition</a></li>\n",
    "<li><a href=\"#ref3\">Function Invocation</a></li>\n",
    "<li><a href=\"#ref4\">Function parameters</a></li>\n",
    "<li><a href=\"#ref5\">Returning a value from a function</a></li>\n",
    "<li><a href=\"#ref6\">Decoding a function</a></li>\n",
    "<li><a href=\"#ref7\">A function that accumulates</a></li>\n",
    "<li><a href=\"#ref8\">Variables and parameters are local</a></li>\n",
    "<li><a href=\"#ref9\">Global variables</a></li>\n",
    "<li><a href=\"#ref10\">Functions can call other functions (composition)</a></li>\n",
    "<li><a href=\"#ref11\">Flow of execution summary</a></li>\n",
    "<li><a href=\"#ref12\">Print versus return</a></li>\n",
    "<li><a href=\"#ref13\">Passing mutable objects</a></li>\n",
    "<li><a href=\"#ref14\">Side effects</a></li>\n",
    "<li><a href=\"#ref15\">Glossary</a></li>\n",
    "<li><a href=\"#ref16\">Exercises</a></li>\n",
    "<br>\n",
    "<p></p>\n",
    "Indicative Completion Time: <strong>3-4 hrs (not including video viewing time)</strong>\n",
    "</div>\n"
   ]
  },
  {
   "cell_type": "markdown",
   "metadata": {},
   "source": [
    "<a id=\"ref0\"></a>\n",
    "<h3>Aims</h3>\n",
    "\n",
    "To introduce and understand the concept and use of: \n",
    "* 'store and reuse' in programming\n",
    "* functions as a means of abstraction\n",
    "* local and global scope\n",
    "* additional effects of implementing functions\n",
    "\n",
    "<h3>Objectives</h3>\n",
    "\n",
    "On completion of this notebook you should be able to:\n",
    "* identify formal parameters and parameter values in a code sample\n",
    "* predict the return value of a function given sample parameter values\n",
    "* define functions with appropriate names for formal parameters\n",
    "* avoid the use of global variables in function definitions by creating formal parameters for all values that are needed\n",
    "* identify whether a function has any additional/side effects\n"
   ]
  },
  {
   "cell_type": "markdown",
   "metadata": {},
   "source": [
    "<a id=\"ref1\"></a>\n",
    "<h2>Introduction</h2>"
   ]
  },
  {
   "cell_type": "markdown",
   "metadata": {},
   "source": [
    "In Python, a function is a chunk of code that performs some operation that is meaningful for a person to think about as a whole unit, for example calculating a student’s overall grade in a learning system or responding to the jump action in a video game. Once a function has been defined and you are satisfied that it does what it is supposed to do, you will start thinking about it in terms of the larger operation that it performs rather than the specific lines of code that make it work.\n",
    "\n",
    "This breaking down of a task or problem is crucial to the successful implementation of any program of more than 50 or so lines (and plenty of smaller ones too). For example, the program that displays the Instagram landing page is made up of functions that:\n",
    "\n",
    "* display the header bar\n",
    "* display your friends’ posts\n",
    "* display your friends’ stories\n",
    "* display the ad at the bottom of the screen recommending you use the app\n",
    "\n",
    "And each of those is made up of functions as well. For example, the function that displays your friends’ posts is a `for` loop (see the [Iteration](01.12-Iteration.ipynb) notebook) that calls a function to:\n",
    "\n",
    "* display a single post which in turn calls functions to:\n",
    "* display the photo and name of the person posting the story\n",
    "* display the photo itself\n",
    "* display other users’ “likes” of the story\n",
    "* display the comments on the story\n",
    "* etc.\n",
    "\n",
    "In this notebook we will learn about named functions; functions that can be referred to by name when you want to execute them.\n",
    "\n",
    "Find below the video collecton for this notebook. Collectively the videos span all the key concepts related to working with functions in Python. View them *more than once* as they lay the foundation for *everything* that follows. \n",
    "\n",
    "Video 1 provides a general introduction to the concept of 'store and reuse' code which underpins the value of functions in Python (or any programming language); Video 2 provides an overview of functions in Python and is intended to supplement Video 1; Video 3 provides an insightful and detailed discussion of the process of actually buildng functions in Python. It addresses important aspects of syntax as well as structure. Videos 4-6 are placed in appropriate locations throughout the notebook, addressing the important aspects of parameters, return values and variable scope respectively.\n"
   ]
  },
  {
   "cell_type": "markdown",
   "metadata": {},
   "source": [
    "<a href=\"http://www.youtube.com/watch?feature=player_embedded&v=m7kaHj3ln-Y\n",
    "\" target=\"_blank\"><img src=\"https://cdn.lynda.com/course/614299/614299-636517983560502284-16x9.jpg\" \n",
    "alt=\"Key Value Pairs\" width=\"240\" height=\"180\" border=\"10\" /></a>\n",
    "\n",
    "<p></p>\n",
    "<center><b>Video 1:</b> Introducing Functions in Python I</center>"
   ]
  },
  {
   "cell_type": "markdown",
   "metadata": {},
   "source": [
    "<a href=\"http://www.youtube.com/watch?feature=player_embedded&v=VNp706-NRco\n",
    "\" target=\"_blank\"><img src=\"https://cdn.lynda.com/course/614299/614299-636517983560502284-16x9.jpg\" \n",
    "alt=\"Key Value Pairs\" width=\"240\" height=\"180\" border=\"10\" /></a>\n",
    "\n",
    "<p></p>\n",
    "<center><b>Video 2:</b> Introducing Functions in Python II</center>"
   ]
  },
  {
   "cell_type": "markdown",
   "metadata": {},
   "source": [
    "<a href=\"http://www.youtube.com/watch?feature=player_embedded&v=8VjKglOnOs4\n",
    "\" target=\"_blank\"><img src=\"https://cdn.lynda.com/course/614299/614299-636517983560502284-16x9.jpg\" \n",
    "alt=\"Key Value Pairs\" width=\"240\" height=\"180\" border=\"10\" /></a>\n",
    "\n",
    "<p></p>\n",
    "<center><b>Video 3:</b> Building Functions</center>"
   ]
  },
  {
   "cell_type": "markdown",
   "metadata": {},
   "source": [
    "<a id=\"ref2\"></a>\n",
    "<h2>Function definition</h2>\n",
    "\n",
    "<div align=\"right\"><a href=\"#ref00\">back to top</a></div>"
   ]
  },
  {
   "cell_type": "markdown",
   "metadata": {},
   "source": [
    "A function is a reusable block of code which performs operations specified in the function.  They let you break down tasks and allow you to reuse your code in different programs.\n",
    "\n",
    "There are two types of functions :\n",
    "\n",
    "\n",
    "- pre-defined functions\n",
    "- user defined functions"
   ]
  },
  {
   "cell_type": "markdown",
   "metadata": {},
   "source": [
    " You can define functions to provide the required functionality. Here are some guidelines to defining a function in Python:\n",
    "-  functions blocks begin with **def** followed by the function **name** and brackets **()**\n",
    "-  there are input parameters or arguments that should be placed within these brackets \n",
    "-  you can also define parameters inside these brackets\n",
    "-  there is a body within every function that starts after a colon (**:**) and is indented.\n",
    "-  you can place documentation before the body \n",
    "-  the statement **return**  exits a function, optionally passing back a value. \n",
    "\n",
    "\n",
    " "
   ]
  },
  {
   "cell_type": "markdown",
   "metadata": {},
   "source": [
    "<h3>What is a Function?</h3>\n",
    "\n",
    "Below is an example of a function named `add` which <i>adds 1 to the parameter <b>a</b> then prints and returns the output as <b>b</b>:</i>"
   ]
  },
  {
   "cell_type": "code",
   "execution_count": null,
   "metadata": {},
   "outputs": [],
   "source": [
    "def add(a):\n",
    "    \"\"\"\n",
    "    add 1 to a\n",
    "    \"\"\"\n",
    "    b=a+1; \n",
    "    print(a, \"if you add one\" ,b)\n",
    "    \n",
    "    return(b)"
   ]
  },
  {
   "cell_type": "markdown",
   "metadata": {},
   "source": [
    "The figure below outlines the terminology: "
   ]
  },
  {
   "cell_type": "markdown",
   "metadata": {},
   "source": [
    "<a><img src=\"figures/function 1.png\" width=\"320\" height=\"180\" border=\"10\" /></a>\n",
    "\n",
    "   \n",
    "   <center><b>Figure 1:</b> A labelled function</center>\n",
    "   "
   ]
  },
  {
   "cell_type": "markdown",
   "metadata": {},
   "source": [
    " We can obtain help on a function :"
   ]
  },
  {
   "cell_type": "code",
   "execution_count": null,
   "metadata": {},
   "outputs": [],
   "source": [
    "help(add)"
   ]
  },
  {
   "cell_type": "markdown",
   "metadata": {},
   "source": [
    "<a id=\"ref3\"></a>\n",
    "<h2>Function Invocation</h2>\n",
    "\n",
    "<div align=\"right\"><a href=\"#ref00\">back to top</a></div>"
   ]
  },
  {
   "cell_type": "markdown",
   "metadata": {},
   "source": [
    "Defining a function does not make the function run. To execute the function, we need a function call. This is also known as a function invocation.\n",
    "\n",
    "The way to invoke a function is to refer to it by name, followed by brackets. If there are no parameters associated with the function, we won’t need to put anything inside the brackets when we call it. Once we’ve defined a function, we can call it as often as we like and its statements will be executed each time we call it."
   ]
  },
  {
   "cell_type": "markdown",
   "metadata": {},
   "source": [
    "We can call the function:"
   ]
  },
  {
   "cell_type": "code",
   "execution_count": null,
   "metadata": {},
   "outputs": [],
   "source": [
    "add(1)"
   ]
  },
  {
   "cell_type": "markdown",
   "metadata": {},
   "source": [
    "If we call the function with a new input we get a new result:"
   ]
  },
  {
   "cell_type": "code",
   "execution_count": null,
   "metadata": {},
   "outputs": [],
   "source": [
    "add(2)"
   ]
  },
  {
   "cell_type": "markdown",
   "metadata": {},
   "source": [
    " We can create functions to perform many different and varied tasks. As another basic example, we can create a function which multiplies two numbers. The numbers will be represented by the variables <b>a</b> and <b>b</b>:"
   ]
  },
  {
   "cell_type": "code",
   "execution_count": null,
   "metadata": {},
   "outputs": [],
   "source": [
    "def Mult(a,b):\n",
    "    c=a*b\n",
    "    return(c)"
   ]
  },
  {
   "cell_type": "markdown",
   "metadata": {},
   "source": [
    "The same function can be used for different data types. For example, we can multiply two integers:\n"
   ]
  },
  {
   "cell_type": "code",
   "execution_count": null,
   "metadata": {},
   "outputs": [],
   "source": [
    "Mult(2,3)"
   ]
  },
  {
   "cell_type": "markdown",
   "metadata": {},
   "source": [
    " or two floats: "
   ]
  },
  {
   "cell_type": "code",
   "execution_count": null,
   "metadata": {},
   "outputs": [],
   "source": [
    "Mult(10,3.14)"
   ]
  },
  {
   "cell_type": "markdown",
   "metadata": {},
   "source": [
    "We can even replicate a string by multiplying by an integer: "
   ]
  },
  {
   "cell_type": "code",
   "execution_count": null,
   "metadata": {},
   "outputs": [],
   "source": [
    "Mult(2,\"Seeing double? \")"
   ]
  },
  {
   "cell_type": "markdown",
   "metadata": {},
   "source": [
    "Try to come up with a function that divides the first input by the second input:"
   ]
  },
  {
   "cell_type": "code",
   "execution_count": null,
   "metadata": {},
   "outputs": [],
   "source": [
    "# define your function below\n",
    "\n",
    "\n"
   ]
  },
  {
   "cell_type": "markdown",
   "metadata": {},
   "source": [
    "<div align=\"right\">\n",
    "<a href=\"#q1\" class=\"btn btn-default\" data-toggle=\"collapse\">Click here for the solution</a>\n",
    "\n",
    "</div>\n",
    "<div id=\"q1\" class=\"collapse\">\n",
    "\n",
    "```\n",
    "def div(a,b):\n",
    "    return(a/b)\n",
    "    \n",
    "```\n",
    "\n",
    "</div>"
   ]
  },
  {
   "cell_type": "markdown",
   "metadata": {},
   "source": [
    "Now let’s take a closer look at what happens when you define a function and when you execute the function. Try stepping through the code below."
   ]
  },
  {
   "cell_type": "markdown",
   "metadata": {},
   "source": [
    "<div align=\"left\">\n",
    "<a href=\"#q100\" class=\"btn btn-default\" data-toggle=\"collapse\">Let's step through this code</a>\n",
    "\n",
    "</div>\n",
    "<div id=\"q100\" class=\"collapse\">\n",
    "\n",
    "```\n",
    "\n",
    "1\tdef hello():\n",
    "2\t   print(\"Hello\")\n",
    "3\t   print(\"Glad to meet you\")\n",
    "4\t\n",
    "5\tprint(type(hello))\n",
    "6\tprint(type(\"hello\"))\n",
    "7\t\n",
    "8\thello()\n",
    "9\tprint(\"Hey, that just printed two lines with one line of code!\")\n",
    "10   hello()  # do it again, just because we can...\n",
    "    \n",
    "```\n",
    "\n",
    "</div>"
   ]
  },
  {
   "cell_type": "markdown",
   "metadata": {},
   "source": [
    "First of all note that, when it executes line 1, it does not execute the indented lines, line 2 and line 3. Instead it creates a variable named `hello` whose value is a python function object. The function is completely defined by the end of line 3. Note the deindentation on line 5 (this code is no longer part of the function block). \n",
    "\n",
    "The next line of code to execute is line 5. Just to emphasise that `hello` is a variable like any other, and that functions are python <i>objects</i> like any other (just of a particular type of object), line 5 prints out the type of the object referred to by the variable `hello`. It’s type is officially <i>function</i>.\n",
    "\n",
    "Line 6 is just there to remind you of the difference between referring to the variable (function name) `hello` and referring to the string `“hello”`.\n",
    "\n",
    "Next we get to line 8 which has an invocation of the function. The way function invocation works is that the code block inside the function definition (lines 2-3) is executed in the usual way, then execution jumps to the line after the function invocation. In this case line 9.\n",
    "\n",
    "Line 9 is then executed and afterwards, the same process of invocation occurs again on line 10, with lines 2 and 3 getting executed a second time. We say the flow/control of execution passes back and forth between the main program and the function as and when the function is called (invoked) and executed."
   ]
  },
  {
   "cell_type": "markdown",
   "metadata": {},
   "source": [
    "<div align=\"left\">\n",
    "    <a href=\"#Hag2yu0\" class=\"btn btn-default\" data-toggle=\"collapse\"><b>Note</b></a>\n",
    "\n",
    "<np></np>\n",
    "\n",
    "</div>\n",
    "<div id=\"Hag2yu0\" class=\"collapse\">\n",
    "\n",
    "It is a common mistake when first learning Python to forget the brackets after the function name. This is particularly common in the case where parameters are not required. This is less common, but still happens, when trying to call functions that require parameters.\n",
    "\n",
    "</div>"
   ]
  },
  {
   "cell_type": "markdown",
   "metadata": {},
   "source": [
    "**Have a go:**"
   ]
  },
  {
   "cell_type": "markdown",
   "metadata": {},
   "source": [
    "1. What is a function in Python?\n",
    "\n",
    "\n",
    "* A. a named sequence of statements.\n",
    "* B. any sequence of statements.\n",
    "* C. a mathematical expression that calculates a value.\n",
    "* D. a statement of the form x = 5 + 4."
   ]
  },
  {
   "cell_type": "markdown",
   "metadata": {},
   "source": [
    "<div align=\"right\">\n",
    "<a href=\"#q91\" class=\"btn btn-default\" data-toggle=\"collapse\">Click here for the solution</a>\n",
    "\n",
    "</div>\n",
    "<div id=\"q91\" class=\"collapse\">\n",
    "\n",
    "```\n",
    "A. (Yes, a function is a named sequence of statements)\n",
    "    \n",
    "```\n",
    "\n",
    "</div>"
   ]
  },
  {
   "cell_type": "markdown",
   "metadata": {},
   "source": [
    "2. What is a key purpose of a function?\n",
    "\n",
    "\n",
    "* A. to improve the speed of execution\n",
    "* B. to help the programmer organise programs into chunks that match how they think about the solution to the problem.\n",
    "* C. all Python programs must be written using functions\n",
    "* D. to calculate values."
   ]
  },
  {
   "cell_type": "markdown",
   "metadata": {},
   "source": [
    "<div align=\"right\">\n",
    "<a href=\"#q901\" class=\"btn btn-default\" data-toggle=\"collapse\">Click here for the solution</a>\n",
    "\n",
    "</div>\n",
    "<div id=\"q901\" class=\"collapse\">\n",
    "\n",
    "```\n",
    "B. (While the use of functions is not mandatory, they help the \n",
    "    programmer think more clearly about the solution by organising \n",
    "    pieces of the solution into standalone chunks that can be reused.)\n",
    "    \n",
    "```\n",
    "\n",
    "</div>"
   ]
  },
  {
   "cell_type": "markdown",
   "metadata": {},
   "source": [
    "3. How many lines will be output by executing this code?"
   ]
  },
  {
   "cell_type": "code",
   "execution_count": null,
   "metadata": {},
   "outputs": [],
   "source": [
    "def hello():\n",
    "   print(\"Hello\")\n",
    "   print(\"Glad to meet you\")"
   ]
  },
  {
   "cell_type": "markdown",
   "metadata": {},
   "source": [
    "* A. 0\n",
    "* B. 1\n",
    "* C. 2"
   ]
  },
  {
   "cell_type": "markdown",
   "metadata": {},
   "source": [
    "<div align=\"right\">\n",
    "<a href=\"#q9001\" class=\"btn btn-default\" data-toggle=\"collapse\">Click here for the solution</a>\n",
    "\n",
    "</div>\n",
    "<div id=\"q9001\" class=\"collapse\">\n",
    "\n",
    "```\n",
    "A. (The code only defines the function. Nothing prints until the \n",
    "    function is called.)\n",
    "    \n",
    "```\n",
    "\n",
    "</div>"
   ]
  },
  {
   "cell_type": "markdown",
   "metadata": {},
   "source": [
    "4. How many lines will be output by executing this code?"
   ]
  },
  {
   "cell_type": "code",
   "execution_count": null,
   "metadata": {},
   "outputs": [],
   "source": [
    "def hello():\n",
    "   print(\"Hello\")\n",
    "   print(\"Glad to meet you\")\n",
    "\n",
    "hello()\n",
    "print(\"It works\")\n",
    "hello()\n",
    "hello()"
   ]
  },
  {
   "cell_type": "markdown",
   "metadata": {},
   "source": [
    "* A. 0\n",
    "* B. 1\n",
    "* C. 3\n",
    "* D. 4\n",
    "* E. 7"
   ]
  },
  {
   "cell_type": "markdown",
   "metadata": {},
   "source": [
    "<div align=\"right\">\n",
    "<a href=\"#9001\" class=\"btn btn-default\" data-toggle=\"collapse\">Click here for the solution</a>\n",
    "\n",
    "</div>\n",
    "<div id=\"9001\" class=\"collapse\">\n",
    "\n",
    "```\n",
    "E. (Three invocations generating two lines each, \n",
    "    plus the line \"It works\".)\n",
    "    \n",
    "```\n",
    "\n",
    "</div>"
   ]
  },
  {
   "cell_type": "markdown",
   "metadata": {},
   "source": [
    "<a id=\"ref4\"></a>\n",
    "<h2>Function parameters</h2>\n",
    "\n",
    "<div align=\"right\"><a href=\"#ref00\">back to top</a></div>"
   ]
  },
  {
   "cell_type": "markdown",
   "metadata": {},
   "source": [
    "Named functions are convenient because, once they are defined and we understand what they do, we can refer to them by name and not think too much about what's inside them. With parameters, functions are even more powerful, because they can do essentially the same thing on each invocation, but not exactly the same thing. The parameters allow them to do something a little different."
   ]
  },
  {
   "cell_type": "markdown",
   "metadata": {},
   "source": [
    "<a href=\"http://www.youtube.com/watch?feature=player_embedded&v=Ndw_EgFO_tw\n",
    "\" target=\"_blank\"><img src=\"https://cdn.lynda.com/course/614299/614299-636517983560502284-16x9.jpg\" \n",
    "alt=\"Key Value Pairs\" width=\"240\" height=\"180\" border=\"10\" /></a>\n",
    "\n",
    "<p></p>\n",
    "<center><b>Video 4:</b> Formal and Actual Parameters</center>"
   ]
  },
  {
   "cell_type": "markdown",
   "metadata": {},
   "source": [
    "The figure below shows this relationship. A function needs certain information to do its work. These values, often called **arguments** or **actual parameters** or **parameter values**, are passed to the function by the user."
   ]
  },
  {
   "cell_type": "markdown",
   "metadata": {},
   "source": [
    "<a><img src=\"figures/figure_3_34.png\" width=\"240\" height=\"180\" border=\"10\" /></a>\n",
    "\n",
    "<np></np><center><b>Figure 2:</b> black-box diagram.</center> "
   ]
  },
  {
   "cell_type": "markdown",
   "metadata": {},
   "source": [
    "This type of diagram is often called a black-box diagram because it only states the requirements from the perspective of the user (well, the programmer, but the programmer who uses the function, who may be different than the programmer who created the function). The user must know the name of the function and what arguments need to be passed. The details of how the function works are hidden inside the “black-box”.\n",
    "\n",
    "We have already been making function invocations with parameters. For example, when we write `len(\"abc\")` or `len([3, 9, \"hello\"])`, len is the name of a function, and the value that you put inside the brackets, the string `“abc”` or the list `[3, 9, “hello”]`, is a parameter value.\n",
    "\n",
    "When a function has one or more parameters, the names of the parameters appear in the function definition, and the values to assign to those parameters appear inside the brackets of the function invocation. Let’s look at each of those a little more carefully.\n",
    "\n",
    "In the definition, the parameter list is sometimes referred to as the formal parameters or parameter names. These names can be any valid variable name. If there is more than one, they are separated by commas.\n",
    "\n",
    "In the function invocation, inside the brackets one value should be provided for each of the parameter names. These values are separated by commas. The values can be specified either directly, or by any python expression including a reference to some other variable name.\n",
    "\n",
    "That can be a little confusing, so let’s start by looking at a function with just one parameter..."
   ]
  },
  {
   "cell_type": "markdown",
   "metadata": {},
   "source": [
    "```\n",
    "1\tdef hello2(s):\n",
    "2\t   print(\"Hello \" + s)\n",
    "3\t   print(\"Glad to meet you\")\n",
    "4\t\n",
    "5\thello2(\"Ian\")\n",
    "6\thello2(\"Jackie\")\n",
    "\n",
    "```"
   ]
  },
  {
   "cell_type": "markdown",
   "metadata": {},
   "source": [
    "First, notice that `hello2` has one formal parameter, `s`. You can tell that because there is exactly one variable name inside the brackets on line 1.\n",
    "\n",
    "On line 5 control is passed to the function, just like we saw before. But in addition, the variable `s` is bound to a value, the string `“Ian”`. When we get to line 6, for the second invocation of the function, `s` is now bound to `“Jackie”`.\n",
    "\n",
    "Function invocation always work that way. The expression inside the brackets on the line that invokes the function is evaluated before control is passed to the function. The value is assigned to the corresponding formal parameter. Then, when the code block inside the function is executing, it can refer to that formal parameter and get its value, the value that was ‘passed' to the function."
   ]
  },
  {
   "cell_type": "markdown",
   "metadata": {},
   "source": [
    "To get a feel for that, let’s invoke `hello2` using some more complicated expressions. Try some of your own, too."
   ]
  },
  {
   "cell_type": "code",
   "execution_count": null,
   "metadata": {},
   "outputs": [],
   "source": [
    "def hello2(s):\n",
    "    print(\"Hello \" + s)\n",
    "    print(\"Glad to meet you\")\n",
    "\n",
    "hello2(\"Ian\" + \" and Jackie\")\n",
    "hello2(\"Class \" * 3)"
   ]
  },
  {
   "cell_type": "markdown",
   "metadata": {},
   "source": [
    "Now let’s consider a function with two parameters. This version of `hello` takes a parameter that controls how many times the greeting will be printed."
   ]
  },
  {
   "cell_type": "markdown",
   "metadata": {},
   "source": [
    "```\n",
    "1\tdef hello3(s, n):\n",
    "2\t   greeting = \"Hello {} \".format(s)\n",
    "3\t   print(greeting*n)\n",
    "4\t\n",
    "5\thello3(\"Wei\", 4)\n",
    "6\thello3(\"\", 1)\n",
    "7\thello3(\"Kitty\", 11)\n",
    "\n",
    "```"
   ]
  },
  {
   "cell_type": "markdown",
   "metadata": {},
   "source": [
    "At line 5, in the first invocation of `hello3`, notice that the variable `s` is bound to the value `“Wei”` and the variable `n` is bound to the value `4`.\n",
    "\n",
    "That’s how function invocations work; each of the expressions, separated by commas, that are inside the brackets are evaluated to produce values. Then those values are matched up positionally with the formal parameters. The first parameter name is bound to the first value provided. The second parameter name is bound to the second value provided. And so on."
   ]
  },
  {
   "cell_type": "markdown",
   "metadata": {},
   "source": [
    "**Have a go:**"
   ]
  },
  {
   "cell_type": "markdown",
   "metadata": {},
   "source": [
    "1. Which of the following is a valid function header (first line of a function definition)?\n",
    "\n",
    "\n",
    "* A. def greet(t):\n",
    "* B. def greet:\n",
    "* C. greet(t, n):\n",
    "* D. def greet(t, n)"
   ]
  },
  {
   "cell_type": "markdown",
   "metadata": {},
   "source": [
    "<div align=\"right\">\n",
    "<a href=\"#90101\" class=\"btn btn-default\" data-toggle=\"collapse\">Click here for the solution</a>\n",
    "\n",
    "</div>\n",
    "<div id=\"90101\" class=\"collapse\">\n",
    "\n",
    "```\n",
    "A. (A function may take zero or more parameters. \n",
    "    In this case it has one.)\n",
    "    \n",
    "B is not valid because of the absence of brackets\n",
    "C is not valid because of the absence of the def keyword\n",
    "D is not valid because the function header must end in a ':'\n",
    "    \n",
    "```\n",
    "\n",
    "</div>"
   ]
  },
  {
   "cell_type": "markdown",
   "metadata": {},
   "source": [
    "2. What is the name of the following function?\n",
    "\n",
    "```\n",
    "def print_many(x, y):\n",
    "    \"\"\"Print out string x, y times.\"\"\"\n",
    "    for i in range(y):\n",
    "        print(x)\n",
    "```\n",
    "\n",
    "* A. def print_many(x, y):\n",
    "* B. print_many\n",
    "* C. print_many(x, y)\n",
    "* D. Print out string x, y times."
   ]
  },
  {
   "cell_type": "markdown",
   "metadata": {},
   "source": [
    "<div align=\"right\">\n",
    "<a href=\"#90201\" class=\"btn btn-default\" data-toggle=\"collapse\">Click here for the solution</a>\n",
    "\n",
    "</div>\n",
    "<div id=\"90201\" class=\"collapse\">\n",
    "\n",
    "```\n",
    "B. (Yes, the name of the function is given after the keyword def \n",
    "    and before the list of parameters.)\n",
    "    \n",
    "```\n",
    "\n",
    "</div>"
   ]
  },
  {
   "cell_type": "markdown",
   "metadata": {},
   "source": [
    "3. What are the paramters of the following function?\n",
    "\n",
    "```\n",
    "def print_many(x, y):\n",
    "    \"\"\"Print out string x, y times.\"\"\"\n",
    "    for i in range(y):\n",
    "        print(x)\n",
    "```\n",
    "* A. i\n",
    "* B. x\n",
    "* C. x, y\n",
    "* D. x, y, i\n"
   ]
  },
  {
   "cell_type": "markdown",
   "metadata": {},
   "source": [
    "<div align=\"right\">\n",
    "<a href=\"#90301\" class=\"btn btn-default\" data-toggle=\"collapse\">Click here for the solution</a>\n",
    "\n",
    "</div>\n",
    "<div id=\"90301\" class=\"collapse\">\n",
    "\n",
    "```\n",
    "C. (Yes, the function specifies two parameters: x and y.)\n",
    "    \n",
    "```\n",
    "\n",
    "</div>"
   ]
  },
  {
   "cell_type": "markdown",
   "metadata": {},
   "source": [
    "4. Considering the function below, which of the following statements correctly invokes, or calls, this function (i.e., causes it to run)?\n",
    "\n",
    "```\n",
    "def print_many(x, y):\n",
    "   \"\"\"Print out string x, y times.\"\"\"\n",
    "   for i in range(y):\n",
    "       print(x)\n",
    "z = 3\n",
    "\n",
    "\n",
    "```\n",
    "\n",
    "* A. print_many(x, y)\n",
    "* B. print_many\n",
    "* C. print_many(\"Greetings\")\n",
    "* D. print_many(\"Greetings\", 10):\n",
    "* E. print_many(\"Greetings\", z)\n"
   ]
  },
  {
   "cell_type": "markdown",
   "metadata": {},
   "source": [
    "<div align=\"right\">\n",
    "<a href=\"#90401\" class=\"btn btn-default\" data-toggle=\"collapse\">Click here for the solution</a>\n",
    "\n",
    "</div>\n",
    "<div id=\"90401\" class=\"collapse\">\n",
    "\n",
    "```\n",
    "E. (Since z has the value 3, we have passed in two correct values \n",
    "    for this function. \"Greetings\" will be printed 3 times.)\n",
    "\n",
    "A common mistake here might have been to choose D. However a colon \n",
    "is only required in a function definition. It will cause an \n",
    "error when used as part of a function call.\n",
    "    \n",
    "```\n",
    "\n",
    "</div>"
   ]
  },
  {
   "cell_type": "markdown",
   "metadata": {},
   "source": [
    "5. What output will the following code produce?\n",
    "\n",
    "```\n",
    "def cyu(s1, s2):\n",
    "   if len(s1) > len(s2):\n",
    "      print(s1)\n",
    "   else:\n",
    "      print(s2)\n",
    "\n",
    "cyu(\"Hello\", \"Goodbye\")\n",
    "\n",
    "\n",
    "```\n",
    "\n",
    "* A. Hello\n",
    "* B. Goodbye\n",
    "* C. s1\n",
    "* D. s2\n"
   ]
  },
  {
   "cell_type": "markdown",
   "metadata": {},
   "source": [
    "<div align=\"right\">\n",
    "<a href=\"#90501\" class=\"btn btn-default\" data-toggle=\"collapse\">Click here for the solution</a>\n",
    "\n",
    "</div>\n",
    "<div id=\"90501\" class=\"collapse\">\n",
    "\n",
    "```\n",
    "B. (\"Goodbye\" is longer than \"Hello\".)\n",
    "    \n",
    "```\n",
    "\n",
    "</div>"
   ]
  },
  {
   "cell_type": "markdown",
   "metadata": {},
   "source": [
    "<a id=\"ref5\"></a>\n",
    "<h2>Returning a value from a function</h2>\n",
    "\n",
    "<div align=\"right\"><a href=\"#ref00\">back to top</a></div>"
   ]
  },
  {
   "cell_type": "markdown",
   "metadata": {},
   "source": [
    "Not only can you pass a parameter value into a function, a function can also produce a value. You have already seen this in some previous functions that you have used. For example, `len` takes a list or string as a parameter value and returns a number, the length of that list or string. `range` takes an integer as a parameter value and returns a list containing all the numbers from 0 up to that parameter value.\n",
    "\n",
    "Functions that return values are sometimes called *fruitful* functions. In many other languages, a function that doesn’t return a value is called a procedure, but we will stick with the Python way of also calling it a function, or if we want to stress it, a *non-fruitful* function."
   ]
  },
  {
   "cell_type": "markdown",
   "metadata": {},
   "source": [
    "<a href=\"http://www.youtube.com/watch?feature=player_embedded&v=LGOZyrRCJ1o\n",
    "\" target=\"_blank\"><img src=\"https://cdn.lynda.com/course/614299/614299-636517983560502284-16x9.jpg\" \n",
    "alt=\"Key Value Pairs\" width=\"240\" height=\"180\" border=\"10\" /></a>\n",
    "\n",
    "<p></p>\n",
    "<center><b>Video 5:</b> Return Values</center>\n"
   ]
  },
  {
   "cell_type": "markdown",
   "metadata": {},
   "source": [
    "<a><img src=\"figures/figure_3_34b.png\" width=\"240\" height=\"180\" border=\"10\" /></a>\n",
    "\n",
    "<np></np><center><b>Figure 3:</b> Fruitful function.</center> "
   ]
  },
  {
   "cell_type": "markdown",
   "metadata": {},
   "source": [
    "How do we write our own fruitful function? Let’s start by creating a very simple mathematical function which we shall call `square`. The `square` function will take one number as a parameter and return the result of squaring that number. Here is the black-box diagram with the Python code following.\n"
   ]
  },
  {
   "cell_type": "markdown",
   "metadata": {},
   "source": [
    "<a><img src=\"figures/figure_3_34c.png\" width=\"260\" height=\"180\" border=\"10\" /></a>\n",
    "\n",
    "<np></np><center><b>Figure 4:</b> Fruitful 'square' function.</center> "
   ]
  },
  {
   "cell_type": "markdown",
   "metadata": {},
   "source": [
    "```\n",
    "def square(x):\n",
    "    y = x * x\n",
    "    return y\n",
    "\n",
    "toSquare = 10\n",
    "result = square(toSquare)\n",
    "print(\"The result of {} squared is {}.\".format(toSquare, result))\n",
    "\n",
    "```"
   ]
  },
  {
   "cell_type": "markdown",
   "metadata": {},
   "source": [
    "The return statement is followed by an expression `y` which is evaluated. The result of this evaluation is returned to the caller as the “fruit” of calling this function. Because the return statement can contain any Python expression we could have avoided creating the *temporary variable* `y` and simply used `return x*x`. Try modifying the square function above to see that this works just the same. On the other hand, using temporary variables such as `y` in the program above often makes debugging easier. These temporary variables are referred to as *local* variables.\n",
    "\n",
    "Notice something important here. The name of the variable we pass as an argument — `toSquare` — has nothing to do with the name of the formal parameter — `x`. It is as if `x = toSquare` is executed when `square` is called. It doesn’t matter what the value was named in the caller (the place where the function was invoked), inside `square`, it’s name is `x`. \n",
    "\n",
    "There is one more aspect of function return values that should be noted. All Python functions return the special value `None` unless there is an explicit return statement with a value other than `None`. Consider the following common mistake made by beginning Python programmers."
   ]
  },
  {
   "cell_type": "markdown",
   "metadata": {},
   "source": [
    "```\n",
    "1\tdef square(x):\n",
    "2\t    y = x * x\n",
    "3\t    print(y)   # Avoid doing this, use return instead!\n",
    "4\t\n",
    "5\ttoSquare = 10\n",
    "6\tsquareResult = square(toSquare)\n",
    "7\tprint(\"The result of {} squared is {}.\".format(toSquare, squareResult))\n",
    "\n",
    "```"
   ]
  },
  {
   "cell_type": "markdown",
   "metadata": {},
   "source": [
    "The problem with this function is that even though it prints the value of the squared input, that value will not be returned to the place where the call was made. Instead, the value `None` will be returned. Since line 6 uses the return value as the right hand side of an assignment statement, `squareResult` will have `None` as its value and the result printed in line 7 is incorrect. Typically, functions will return values that can be printed or processed in some other way by the caller.\n",
    "\n",
    "A return statement, once executed, immediately terminates execution of a function, even if it is not the last statement in the function. In the following code, when line 3 executes, the value `5` is returned, assigned to the variable `x` in line 7, then printed in line 8. Lines 4 and 5 never execute. Run the following code and try making some modifications to it to make sure you understand why `“there”` and `10` never print out."
   ]
  },
  {
   "cell_type": "markdown",
   "metadata": {},
   "source": [
    "```\n",
    "def weird():\n",
    "    print(\"here\")\n",
    "    return 5\n",
    "    print(\"there\")\n",
    "    return 10\n",
    "\n",
    "x = weird()\n",
    "print(x)\n",
    "\n",
    "```"
   ]
  },
  {
   "cell_type": "markdown",
   "metadata": {},
   "source": [
    "The fact that a return statement immediately ends execution of the code block inside a function is important to understand for writing more complex programs, and it can also be very useful. The following example is a situation where you can use this to your advantage – and understanding this will help you understand other people’s code better, and be able to walk through code more confidently.\n",
    "\n",
    "Consider a situation where you want to write a function to find out, from a class attendance list, whether anyone’s first name is longer than five letters, called `longer_than_five`. If there is anyone in class whose first name is longer than 5 letters, the function should return `True`. Otherwise, it should return `False`.\n",
    "\n",
    "In this case, you’ll be using conditional statements in the code of the function body. Recall the function body is the code block indented underneath the function definition statement (just like the code block that starts with the line `print(\"here\")` in the example above – that’s the body of the function `weird`).\n"
   ]
  },
  {
   "cell_type": "markdown",
   "metadata": {},
   "source": [
    "<div align=\"left\">\n",
    "    <a href=\"#jHag2yu0\" class=\"btn btn-default\" data-toggle=\"collapse\"><b>Challenge</b></a>\n",
    "\n",
    "<np></np>\n",
    "\n",
    "</div>\n",
    "<div id=\"jHag2yu0\" class=\"collapse\">\n",
    "\n",
    "After you look at the explanation below, stop looking at the code – just the description of the function above it, and try to write the code yourself! Then test it on different lists and make sure that it works. But read the explanation first, so you can be sure you have a solid grasp on these function mechanics.\n",
    "\n",
    "\n",
    "</div>"
   ]
  },
  {
   "cell_type": "markdown",
   "metadata": {},
   "source": [
    "A written plan for this new function to define called `longer_than_five`:\n",
    "\n",
    "* I want to pass a list of strings (representing people’s first names) to the function.\n",
    "* I want to iterate over all the items in the list (each of the names).\n",
    "* As soon as I get one name that is longer than five letters, I know the function should return `True` – and then finish - because there is at least one name longer than five letters!\n",
    "* And if I go through the entire list and there is no name longer than five letters, then the function should return `False`.\n",
    "\n",
    "Now, the code:"
   ]
  },
  {
   "cell_type": "code",
   "execution_count": null,
   "metadata": {},
   "outputs": [],
   "source": [
    "def longer_than_five(list_of_names):\n",
    "    for name in list_of_names: # iterate over the list to look at each name\n",
    "        if len(name) > 5: # as soon as you see a name longer than 5 letters,\n",
    "            return True # then return True!\n",
    "            # If Python executes that return statement, the function is over \n",
    "            # and any further code in the function body will not run -- \n",
    "            # you don't need it to run -- you already have your answer!\n",
    "    return False # You will only get to this line if you\n",
    "    # iterated over the whole list and did not get a name where\n",
    "    # the if expression evaluated to True, so at this point, \n",
    "    # it's correct to return False!\n",
    "\n",
    "# Here are a couple sample calls to the function with different lists of names. \n",
    "\n",
    "list1 = [\"Sam\",\"Vera\",\"Jill\",\"Anita\"]\n",
    "list2 = [\"Ray\",\"Yi\",\"Lauren\",\"Natalia\"]\n",
    "\n",
    "print(longer_than_five(list1))\n",
    "print(longer_than_five(list2))"
   ]
  },
  {
   "cell_type": "markdown",
   "metadata": {},
   "source": [
    "So far, we have just seen return values being assigned to variables. For example, we had the line `squareResult = square(toSquare)`. As with all assignment statements, the right hand side is executed first. It invokes the `square` function, passing in a parameter value 10 (the current value of `toSquare`). That returns the value 100, which completes the evaluation of the right-hand side of the assignment. 100 is then assigned to the variable `squareResult`. In this case, the function invocation was the entire expression that was evaluated.\n",
    "\n",
    "Function invocations, however, can also be used as part of more complicated expressions. For example, `squareResult = 2 * square(toSquare)`. In this case, the value 100 is returned and is then multiplied by 2 to produce the value 200. When Python evaluates an expression like `x * 3`, it substitutes the current value of x into the expression and then does the multiplication. When Python evaluates an expression like `2 * square(toSquare)`, it substitutes the return value 100 for entire function invocation and then does the multiplication.\n",
    "\n",
    "To reiterate, when executing a line of code `squareResult = 2 * square(toSquare)`, the Python interpreter takes these steps:\n",
    "\n",
    "* 1.It’s an assignment statement, so evaluate the right-hand side expression `2 * square(toSquare)`.\n",
    "* 2.Look up the values of the variables `square` and `toSquare`: `square` is a function object and `toSquare` is `10`\n",
    "* 3.Pass `10` as a parameter value to the function, get back the return value `100`\n",
    "* 4.Substitute `100` for `square(toSquare)`, so that the expression now reads `2 * 100`\n",
    "* 5.Assign `200` to variable `squareResult`"
   ]
  },
  {
   "cell_type": "markdown",
   "metadata": {},
   "source": [
    "**Have a go:**"
   ]
  },
  {
   "cell_type": "markdown",
   "metadata": {},
   "source": [
    "1. What is wrong with the following function definition?\n",
    "\n",
    "```\n",
    "def addEm(x, y, z):\n",
    "    return x+y+z\n",
    "    print('the answer is', x+y+z)\n",
    "    \n",
    "    \n",
    "```\n",
    "\n",
    "* A. You should never use a print statement in a function definition.\n",
    "* B. You should not have any statements in a function after the return statement. Once the function gets to the return statement it will immediately stop executing the function.\n",
    "* C. You must calculate the value of x+y+z before you return it.\n",
    "* D. A function cannot return a number."
   ]
  },
  {
   "cell_type": "markdown",
   "metadata": {},
   "source": [
    "<div align=\"right\">\n",
    "<a href=\"#905101\" class=\"btn btn-default\" data-toggle=\"collapse\">Click here for the solution</a>\n",
    "\n",
    "</div>\n",
    "<div id=\"905101\" class=\"collapse\">\n",
    "\n",
    "```\n",
    "B. (This is a very common mistake so be sure to watch out for it \n",
    "    when you write your code!)\n",
    "    \n",
    "```\n",
    "\n",
    "</div>"
   ]
  },
  {
   "cell_type": "markdown",
   "metadata": {},
   "source": [
    "2. What will the following function return?\n",
    "\n",
    "```\n",
    "def addEm(x, y, z):\n",
    "    print(x+y+z)\n",
    "    \n",
    "    \n",
    "```\n",
    "\n",
    "* A. The value `None`\n",
    "* B. The value of x+y+z\n",
    "* C. The string 'x+y+z'"
   ]
  },
  {
   "cell_type": "markdown",
   "metadata": {},
   "source": [
    "<div align=\"right\">\n",
    "<a href=\"#905201\" class=\"btn btn-default\" data-toggle=\"collapse\">Click here for the solution</a>\n",
    "\n",
    "</div>\n",
    "<div id=\"905201\" class=\"collapse\">\n",
    "\n",
    "```\n",
    "A. (We have used print where we should have used return. \n",
    "    Therefore, the function will return the value None \n",
    "    by default. This is a very common mistake so watch out! \n",
    "    This mistake is also particularly difficult to find \n",
    "    because when you run the function the output looks the \n",
    "    same. It is not until you try to assign its value to a \n",
    "    variable that you can notice a difference.)\n",
    "    \n",
    "```\n",
    "\n",
    "</div>"
   ]
  },
  {
   "cell_type": "markdown",
   "metadata": {},
   "source": [
    "3. What will the following code output?\n",
    "\n",
    "```\n",
    "def square(x):\n",
    "    y = x * x\n",
    "    return y\n",
    "\n",
    "print(square(5) + square(5))\n",
    "\n",
    "\n",
    "```\n",
    "\n",
    "* A. 25\n",
    "* B. 50\n",
    "* C. 25 + 25"
   ]
  },
  {
   "cell_type": "markdown",
   "metadata": {},
   "source": [
    "<div align=\"right\">\n",
    "<a href=\"#905301\" class=\"btn btn-default\" data-toggle=\"collapse\">Click here for the solution</a>\n",
    "\n",
    "</div>\n",
    "<div id=\"905301\" class=\"collapse\">\n",
    "\n",
    "```\n",
    "B. (The two return values are added together.)\n",
    "    \n",
    "```\n",
    "\n",
    "</div>"
   ]
  },
  {
   "cell_type": "markdown",
   "metadata": {},
   "source": [
    "4. What will the following code output?\n",
    "\n",
    "```\n",
    "def square(x):\n",
    "    y = x * x\n",
    "    return y\n",
    "\n",
    "print(square(square(2)))\n",
    "\n",
    "\n",
    "```\n",
    "* A. 8\n",
    "* B. 16\n",
    "* C. Error: can't put a function invocation inside brackets\n"
   ]
  },
  {
   "cell_type": "markdown",
   "metadata": {},
   "source": [
    "<div align=\"right\">\n",
    "<a href=\"#905901\" class=\"btn btn-default\" data-toggle=\"collapse\">Click here for the solution</a>\n",
    "\n",
    "</div>\n",
    "<div id=\"905901\" class=\"collapse\">\n",
    "\n",
    "```\n",
    "B. (Working from the innermost nested brackets outwards, \n",
    "    it squares 2, yielding the value 4. 4 is then passed \n",
    "    as a value to square, yielding 16.)\n",
    "    \n",
    "```\n",
    "\n",
    "</div>"
   ]
  },
  {
   "cell_type": "markdown",
   "metadata": {},
   "source": [
    "5. What will the following code output?\n",
    "\n",
    "```\n",
    "def cyu2(s1, s2):\n",
    "    x = len(s1)\n",
    "    y = len(s2)\n",
    "    return x-y\n",
    "\n",
    "z = cyu2(\"Yes\", \"no\")\n",
    "if z > 0:\n",
    "    print(\"First one was longer\")\n",
    "else:\n",
    "    print(\"Second one was at least as long\")\n",
    "    \n",
    "    \n",
    "```\n",
    "\n",
    "* A. 1\n",
    "* B. Yes\n",
    "* C. First one was longer\n",
    "* D. Second one was at least as long\n",
    "* E. Error\n"
   ]
  },
  {
   "cell_type": "markdown",
   "metadata": {},
   "source": [
    "<div align=\"right\">\n",
    "<a href=\"#9052401\" class=\"btn btn-default\" data-toggle=\"collapse\">Click here for the solution</a>\n",
    "\n",
    "</div>\n",
    "<div id=\"9052401\" class=\"collapse\">\n",
    "\n",
    "```\n",
    "C. (cyu2 returns the value 1, which is assigned to z.)\n",
    "    \n",
    "```\n",
    "\n",
    "</div>"
   ]
  },
  {
   "cell_type": "markdown",
   "metadata": {},
   "source": [
    "6. Which will print out first, `square`, `g`, or a number?\n",
    "\n",
    "```\n",
    "def square(x):\n",
    "    print(\"square\")\n",
    "    return x*x\n",
    "\n",
    "def g(y):\n",
    "    print(\"g\")\n",
    "    return y + 3\n",
    "\n",
    "print(square(g(2)))\n",
    "\n",
    "\n",
    "```\n",
    "\n",
    "* A. square\n",
    "* B. g\n",
    "* C. a number"
   ]
  },
  {
   "cell_type": "markdown",
   "metadata": {},
   "source": [
    "<div align=\"right\">\n",
    "<a href=\"#905601\" class=\"btn btn-default\" data-toggle=\"collapse\">Click here for the solution</a>\n",
    "\n",
    "</div>\n",
    "<div id=\"905601\" class=\"collapse\">\n",
    "\n",
    "```\n",
    "B. (Again working from the innermost nested brackets outwards, \n",
    "    2 is passed to the function g which has to be executed \n",
    "    before it can return a value to be passed to square. \n",
    "    However, the body of function g contains a print(\"g\") \n",
    "    command (note \"g\" the string and g the function name are \n",
    "    completely unrelated) which will get output to the console \n",
    "    before anything else can happen)\n",
    "    \n",
    "```\n",
    "\n",
    "</div>"
   ]
  },
  {
   "cell_type": "markdown",
   "metadata": {},
   "source": [
    "7. How many lines will the following code print?\n",
    "\n",
    "```\n",
    "def show_me_numbers(list_of_ints):\n",
    "    print(10)\n",
    "    print(\"Next we'll accumulate the sum\")\n",
    "    accum = 0\n",
    "    for num in list_of_ints:\n",
    "        accum = accum + num\n",
    "    return accum\n",
    "    print(\"All done with accumulation!\")\n",
    "\n",
    "show_me_numbers([4,2,3])\n",
    "\n",
    "\n",
    "```\n",
    "\n",
    "* A. 3\n",
    "* B. 2\n",
    "* C. None\n"
   ]
  },
  {
   "cell_type": "markdown",
   "metadata": {},
   "source": [
    "<div align=\"right\">\n",
    "<a href=\"#9057201\" class=\"btn btn-default\" data-toggle=\"collapse\">Click here for the solution</a>\n",
    "\n",
    "</div>\n",
    "<div id=\"9057201\" class=\"collapse\">\n",
    "\n",
    "```\n",
    "B. (Two lines are printed before the function body execution \n",
    "    reaches a return statement. Nothing further gets printed.)\n",
    "    \n",
    "```\n",
    "\n",
    "</div>"
   ]
  },
  {
   "cell_type": "markdown",
   "metadata": {},
   "source": [
    "8. Write a function named `same` that takes a string as input, and simply returns that string."
   ]
  },
  {
   "cell_type": "code",
   "execution_count": null,
   "metadata": {},
   "outputs": [],
   "source": [
    "# write your code here\n",
    "\n",
    "\n"
   ]
  },
  {
   "cell_type": "markdown",
   "metadata": {},
   "source": [
    "<div align=\"right\">\n",
    "<a href=\"#91\" class=\"btn btn-default\" data-toggle=\"collapse\">Click here for the solution</a>\n",
    "\n",
    "</div>\n",
    "<div id=\"91\" class=\"collapse\">\n",
    "\n",
    "```\n",
    "def same(s):\n",
    "    return str(s)\n",
    "    \n",
    "```\n",
    "\n",
    "</div>"
   ]
  },
  {
   "cell_type": "markdown",
   "metadata": {},
   "source": [
    "9. Write a function called `same_thing` that returns the parameter, unchanged."
   ]
  },
  {
   "cell_type": "code",
   "execution_count": null,
   "metadata": {},
   "outputs": [],
   "source": [
    "# write your code here\n",
    "\n",
    "\n"
   ]
  },
  {
   "cell_type": "markdown",
   "metadata": {},
   "source": [
    "<div align=\"right\">\n",
    "<a href=\"#92\" class=\"btn btn-default\" data-toggle=\"collapse\">Click here for the solution</a>\n",
    "\n",
    "</div>\n",
    "<div id=\"92\" class=\"collapse\">\n",
    "\n",
    "```\n",
    "def same_thing(s):\n",
    "    return s\n",
    "    \n",
    "```\n",
    "\n",
    "</div>"
   ]
  },
  {
   "cell_type": "markdown",
   "metadata": {},
   "source": [
    "10. Write a function called `subtract_three` that takes an integer or any number as input, and returns that number minus three.\n"
   ]
  },
  {
   "cell_type": "code",
   "execution_count": null,
   "metadata": {},
   "outputs": [],
   "source": [
    "# write your code here\n",
    "\n",
    "\n"
   ]
  },
  {
   "cell_type": "markdown",
   "metadata": {},
   "source": [
    "<div align=\"right\">\n",
    "<a href=\"#957\" class=\"btn btn-default\" data-toggle=\"collapse\">Click here for the solution</a>\n",
    "\n",
    "</div>\n",
    "<div id=\"957\" class=\"collapse\">\n",
    "\n",
    "```\n",
    "def subtract_three(s):\n",
    "    return s-3\n",
    "    \n",
    "```\n",
    "\n",
    "</div>"
   ]
  },
  {
   "cell_type": "markdown",
   "metadata": {},
   "source": [
    "11. Write a function called `change` that takes one number as its input and returns that number, plus 7."
   ]
  },
  {
   "cell_type": "code",
   "execution_count": null,
   "metadata": {},
   "outputs": [],
   "source": [
    "# write your code here\n",
    "\n",
    "\n",
    "\n"
   ]
  },
  {
   "cell_type": "markdown",
   "metadata": {},
   "source": [
    "<div align=\"right\">\n",
    "<a href=\"#901\" class=\"btn btn-default\" data-toggle=\"collapse\">Click here for the solution</a>\n",
    "\n",
    "</div>\n",
    "<div id=\"901\" class=\"collapse\">\n",
    "\n",
    "```\n",
    "def change(s):\n",
    "    return s+7\n",
    "    \n",
    "```\n",
    "\n",
    "</div>"
   ]
  },
  {
   "cell_type": "markdown",
   "metadata": {},
   "source": [
    "12. Write a function named `intro` that takes a string as input. Given the string “Lee” as input, the function should return: “Hello, my name is Lee and I like programming.”"
   ]
  },
  {
   "cell_type": "code",
   "execution_count": null,
   "metadata": {},
   "outputs": [],
   "source": [
    "# write your code here\n",
    "\n",
    "\n",
    "\n"
   ]
  },
  {
   "cell_type": "markdown",
   "metadata": {},
   "source": [
    "<div align=\"right\">\n",
    "<a href=\"#97201\" class=\"btn btn-default\" data-toggle=\"collapse\">Click here for the solution</a>\n",
    "\n",
    "</div>\n",
    "<div id=\"97201\" class=\"collapse\">\n",
    "\n",
    "```\n",
    "def intro(s):\n",
    "    return \"Hello, my name is \"+s+\" and I like programming\"\n",
    "    \n",
    "```\n",
    "\n",
    "</div>"
   ]
  },
  {
   "cell_type": "markdown",
   "metadata": {},
   "source": [
    "13. Write a function called `s_change` that takes one string as input and returns that string, concatenated with the string ” for fun.”."
   ]
  },
  {
   "cell_type": "code",
   "execution_count": null,
   "metadata": {},
   "outputs": [],
   "source": [
    "# write your code here\n",
    "\n",
    "\n"
   ]
  },
  {
   "cell_type": "markdown",
   "metadata": {},
   "source": [
    "<div align=\"right\">\n",
    "<a href=\"#9021\" class=\"btn btn-default\" data-toggle=\"collapse\">Click here for the solution</a>\n",
    "\n",
    "</div>\n",
    "<div id=\"9021\" class=\"collapse\">\n",
    "\n",
    "```\n",
    "def s_change(s):\n",
    "    return s+\" for fun\"\n",
    "    \n",
    "```\n",
    "\n",
    "</div>"
   ]
  },
  {
   "cell_type": "markdown",
   "metadata": {},
   "source": [
    "14. Write a function called `decision` that takes a string as input, and then checks the number of characters. If it has over 17 characters, return “This is a long string”, if it is shorter or has 17 characters, return “This is a short string”."
   ]
  },
  {
   "cell_type": "code",
   "execution_count": null,
   "metadata": {},
   "outputs": [],
   "source": [
    "# write your code here\n",
    "\n",
    "\n",
    "\n"
   ]
  },
  {
   "cell_type": "markdown",
   "metadata": {},
   "source": [
    "<div align=\"right\">\n",
    "<a href=\"#05720\" class=\"btn btn-default\" data-toggle=\"collapse\">Click here for the solution</a>\n",
    "\n",
    "</div>\n",
    "<div id=\"05720\" class=\"collapse\">\n",
    "\n",
    "```\n",
    "def decision(s):\n",
    "    if len(s) > 17:  # considering any character to be \n",
    "                     # a legitimate character\n",
    "        return \"This is a long string\"\n",
    "    else:\n",
    "        return \"This is a short string\"\n",
    "    \n",
    "```\n",
    "\n",
    "</div>"
   ]
  },
  {
   "cell_type": "markdown",
   "metadata": {},
   "source": [
    "<a id=\"ref6\"></a>\n",
    "<h2>Decoding a function</h2>\n",
    "\n",
    "<div align=\"right\"><a href=\"#ref00\">back to top</a></div>"
   ]
  },
  {
   "cell_type": "markdown",
   "metadata": {},
   "source": [
    "In general, when you see a function definition you will try to work out what the function does, but, unless you are writing the function, you probably won’t care too much about how it does what it does.\n",
    "\n",
    "For example, here is a summary of some functions we have seen already.\n",
    "\n",
    "* `input` takes one parameter, a string. It is displayed to the user. Whatever the user types is returned, as a string.\n",
    "* `int` takes one parameter. It can be of any type that can be converted into an integer, such as a floating point number or a string whose characters are all digits.\n",
    "\n",
    "Sometimes, you will be presented with a function definition whose operation is not as succinctly summarised as above. Sometimes you will need to look at the code, either the function definition or the code that invokes the function, in order to work out what it does.\n",
    "\n",
    "To build your understanding of any function, you should aim to answer the following questions:\n",
    "\n",
    "* 1.How many parameters does it have?\n",
    "* 2.What `type` of value(s) are passed when the function is invoked?\n",
    "* 3.What `type` of return value(s) will the function produce when it executes?\n",
    "\n",
    "If you try to make use of functions, even functions you have written yourself, without being able to answer these questions, you will find that your debugging sessions are long and painful.\n",
    "\n",
    "The first question is always easy to answer. Look at the line with the function definition, look inside the brackets, and count how many variable names there are.\n",
    "\n",
    "The second and third questions are not always as easy to answer. In Python, unlike some other programming languages, variables are not declared to have fixed types, and the same holds true for the variable names that appear as formal parameters to functions. You have to work it out from context.\n",
    "\n",
    "To work out the type(s) of values that a function expects to receive as parameters, you can look at the function invocations or you can look at the operations that are performed on the parameters inside the function.\n",
    "\n",
    "Here are some clues that can help you determine the type of object associated with any variable, including a function parameter. If you see…\n",
    "\n",
    "* `len(x)`, then x must be a string or a list. (Actually, it can also be a dictionary, in which case it is equivalent to the expression `len(x.keys())`. Later in the course, we will also see some other sequence types that it could be). x can’t be a number or a Boolean.\n",
    "* `x - y`, x and y must be numbers (integer and/or float)\n",
    "* `x + y`, x and y must both be numbers, both be strings, or both be lists\n",
    "* `x[3]`, x must be a string or a list containing at least four items, or x must be a dictionary that includes 3 as a key.\n",
    "* `x['3']`, x must be a dictionary, with ‘3’ as a key.\n",
    "* `x[y:z]`, x must be a sequence (string or list), and y and z must be integers\n",
    "* `x and y`, x and y must be Boolean\n",
    "* `for x in y`, y must be a sequence (string or list) or a dictionary (in which case it’s really the dictionary’s keys); x must be a character if y is a string; if y is a list, x could be of any type."
   ]
  },
  {
   "cell_type": "markdown",
   "metadata": {},
   "source": [
    "**Have a go:**"
   ]
  },
  {
   "cell_type": "markdown",
   "metadata": {},
   "source": [
    "1. How many parameters does function cyu3 take?\n",
    "\n",
    "```\n",
    "def cyu3(x, y, z):\n",
    "   if x - y > 0:\n",
    "      return y -2\n",
    "   else:\n",
    "      z.append(y)\n",
    "      return x + 3\n",
    "       \n",
    "\n",
    "```\n",
    "\n",
    "* A. 0\n",
    "* B. 1\n",
    "* C. 2\n",
    "* D. 3\n",
    "* E. Can't tell\n"
   ]
  },
  {
   "cell_type": "markdown",
   "metadata": {},
   "source": [
    "<div align=\"right\">\n",
    "<a href=\"#9201\" class=\"btn btn-default\" data-toggle=\"collapse\">Click here for the solution</a>\n",
    "\n",
    "</div>\n",
    "<div id=\"9201\" class=\"collapse\">\n",
    "\n",
    "```\n",
    "D. (x, y, and z.)\n",
    "    \n",
    "```\n",
    "\n",
    "</div>"
   ]
  },
  {
   "cell_type": "markdown",
   "metadata": {},
   "source": [
    "2. What are the possible types of variables x and y?\n",
    "\n",
    "```\n",
    "def cyu3(x, y, z):\n",
    "   if x - y > 0:\n",
    "      return y -2\n",
    "   else:\n",
    "      z.append(y)\n",
    "      return x + 3\n",
    "      \n",
    "      \n",
    "```\n",
    "* A. integer\n",
    "* B. float\n",
    "* C. list\n",
    "* D. string\n",
    "* E. Can't tell\n"
   ]
  },
  {
   "cell_type": "markdown",
   "metadata": {},
   "source": [
    "<div align=\"right\">\n",
    "<a href=\"#9801\" class=\"btn btn-default\" data-toggle=\"collapse\">Click here for the solution</a>\n",
    "\n",
    "</div>\n",
    "<div id=\"9801\" class=\"collapse\">\n",
    "\n",
    "```\n",
    "A and B.\n",
    "\n",
    "A. x - y, y-2, and x+3 can all be performed on integers.\n",
    "B. x - y, y-2, and x+3 can all be performed on floats.\n",
    "    \n",
    "```\n",
    "\n",
    "</div>"
   ]
  },
  {
   "cell_type": "markdown",
   "metadata": {},
   "source": [
    "3. What are the possible types of variable z?\n",
    "\n",
    "```\n",
    "def cyu3(x, y, z):\n",
    "   if x - y > 0:\n",
    "      return y -2\n",
    "   else:\n",
    "      z.append(y)\n",
    "      return x + 3\n",
    "\n",
    "\n",
    "```\n",
    "\n",
    "* A. integer\n",
    "* B. float\n",
    "* C. list\n",
    "* D. string\n",
    "* E. Can't tell\n"
   ]
  },
  {
   "cell_type": "markdown",
   "metadata": {},
   "source": [
    "<div align=\"right\">\n",
    "<a href=\"#9601\" class=\"btn btn-default\" data-toggle=\"collapse\">Click here for the solution</a>\n",
    "\n",
    "</div>\n",
    "<div id=\"9601\" class=\"collapse\">\n",
    "\n",
    "```\n",
    "C. (append can be performed on lists.)\n",
    "    \n",
    "```\n",
    "\n",
    "</div>"
   ]
  },
  {
   "cell_type": "markdown",
   "metadata": {},
   "source": [
    "4. What are the possible types of the return value from cyu3?\n",
    "\n",
    "```\n",
    "def cyu3(x, y, z):\n",
    "   if x - y > 0:\n",
    "      return y -2\n",
    "   else:\n",
    "      z.append(y)\n",
    "      return x + 3\n",
    "      \n",
    "      \n",
    "```\n",
    "\n",
    "* A. integer\n",
    "* B. float\n",
    "* C. list\n",
    "* D. string\n",
    "* E. Can't tell\n"
   ]
  },
  {
   "cell_type": "markdown",
   "metadata": {},
   "source": [
    "<div align=\"right\">\n",
    "<a href=\"#92051\" class=\"btn btn-default\" data-toggle=\"collapse\">Click here for the solution</a>\n",
    "\n",
    "</div>\n",
    "<div id=\"92051\" class=\"collapse\">\n",
    "\n",
    "```\n",
    "A and B.\n",
    "\n",
    "A. y-2 or x+3 could produce an integer.\n",
    "B. y-2 or x+3 could produce a float.\n",
    "    \n",
    "```\n",
    "\n",
    "</div>"
   ]
  },
  {
   "cell_type": "markdown",
   "metadata": {},
   "source": [
    "<a id=\"ref7\"></a>\n",
    "<h2>A function that accumulates</h2>\n",
    "\n",
    "<div align=\"right\"><a href=\"#ref00\">back to top</a></div>"
   ]
  },
  {
   "cell_type": "markdown",
   "metadata": {},
   "source": [
    "We have frequently used the `len` function. If it weren’t part of Python, our lives as programmers would be harder.\n",
    "\n",
    "Well, actually, not that much harder. Now that we know how to define functions, we could define `len` ourselves if it did not exist. If you have already worked through the [Files](01.15-Files.ipynb) notebook, you will recall how we used the *accumlator* pattern to count the number of lines in a file. Let’s use that same idea and just wrap it in a function definition. We’ll call it `mylen` to distinguish it from the real `len` which already exists. We actually could call it `len`, but that wouldn’t be a very good idea, because it would replace the original `len` function, and our implementation may not be a very good one.\n",
    "\n"
   ]
  },
  {
   "cell_type": "markdown",
   "metadata": {},
   "source": [
    "```\n",
    "def mylen(seq):\n",
    "    c = 0 # initialise the count variable to 0\n",
    "    for item in seq:\n",
    "        c = c + 1   # increment the counter for each item in seq\n",
    "    return c\n",
    "\n",
    "print(mylen(\"hello\"))\n",
    "print(mylen([1, 2, 7]))\n",
    "\n",
    "```"
   ]
  },
  {
   "cell_type": "markdown",
   "metadata": {},
   "source": [
    "**Have a go:**"
   ]
  },
  {
   "cell_type": "markdown",
   "metadata": {},
   "source": [
    "1. Rearrange the code statements in the cell below to match the code in the cell above. (This is an exercise in observing how, where and when *indenting* and *outdenting* happens, and where the return statement should go!)"
   ]
  },
  {
   "cell_type": "code",
   "execution_count": null,
   "metadata": {},
   "outputs": [],
   "source": [
    "for _ in seq:   \n",
    "print(mylen(\"hello\"))\n",
    "print(mylen([1, 2, 7])) \n",
    "return c   \n",
    "def mylen(seq):\n",
    "c = c + 1   # increment the counter for each item in seq  \n",
    "c = 0 # initialise count variable to 0"
   ]
  },
  {
   "cell_type": "code",
   "execution_count": null,
   "metadata": {},
   "outputs": [],
   "source": [
    "# now run this cell to see if you have Python's approval\n",
    "\n",
    "print(mylen(\"hello\"))          # you are looking for an output of 5\n",
    "print(mylen([1, 2, 7]))        # you are looking for an output of 3"
   ]
  },
  {
   "cell_type": "markdown",
   "metadata": {},
   "source": [
    "2. Write a function named `total` that takes a list of integers as input, and returns the total value of all those integers added together."
   ]
  },
  {
   "cell_type": "code",
   "execution_count": null,
   "metadata": {},
   "outputs": [],
   "source": [
    "# write your code here\n",
    "\n",
    "\n",
    "\n"
   ]
  },
  {
   "cell_type": "markdown",
   "metadata": {},
   "source": [
    "<div align=\"right\">\n",
    "<a href=\"#5151\" class=\"btn btn-default\" data-toggle=\"collapse\">Click here for the solution</a>\n",
    "\n",
    "</div>\n",
    "<div id=\"5151\" class=\"collapse\">\n",
    "\n",
    "```\n",
    "def total(int_list):\n",
    "    sum_total = 0 # initialising the sum variable\n",
    "    for element in int_list:\n",
    "        sum_total += element\n",
    "    return sum_total\n",
    "    \n",
    "```\n",
    "\n",
    "</div>"
   ]
  },
  {
   "cell_type": "markdown",
   "metadata": {},
   "source": [
    "3. Write a function called `count` that takes a list of numbers as input and returns a count of the number of elements in the list.\n"
   ]
  },
  {
   "cell_type": "code",
   "execution_count": null,
   "metadata": {},
   "outputs": [],
   "source": [
    "# write your code here\n",
    "\n",
    "\n",
    "\n"
   ]
  },
  {
   "cell_type": "markdown",
   "metadata": {},
   "source": [
    "<div align=\"right\">\n",
    "<a href=\"#5252\" class=\"btn btn-default\" data-toggle=\"collapse\">Click here for the solution</a>\n",
    "\n",
    "</div>\n",
    "<div id=\"5252\" class=\"collapse\">\n",
    "\n",
    "```\n",
    "def count(num_list):\n",
    "    element_count = 0 # initialising the count variable\n",
    "    for element in num_list:\n",
    "        element_count += 1\n",
    "    return element_count\n",
    "    \n",
    "```\n",
    "\n",
    "</div>"
   ]
  },
  {
   "cell_type": "markdown",
   "metadata": {},
   "source": [
    "<a id=\"ref8\"></a>\n",
    "<h2>Variables and parameters are local [optional section]</h2>\n",
    "\n",
    "<div align=\"right\"><a href=\"#ref00\">back to top</a></div>"
   ]
  },
  {
   "cell_type": "markdown",
   "metadata": {},
   "source": [
    "<a href=\"http://www.youtube.com/watch?feature=player_embedded&v=HdFujZpLFVg \n",
    "\" target=\"_blank\"><img src=\"https://cdn.lynda.com/course/614299/614299-636517983560502284-16x9.jpg\" \n",
    "alt=\"Key Value Pairs\" width=\"240\" height=\"180\" border=\"10\" /></a>\n",
    "\n",
    "<p></p>\n",
    "<center><b>Video 6:</b> Variable Scope</center>"
   ]
  },
  {
   "cell_type": "markdown",
   "metadata": {},
   "source": [
    "An assignment statement in a function creates a *local variable* for the variable on the left hand side of the assignment operator. It is called local because this variable only exists inside the function and you cannot use it outside. For example, consider the `square` function from before:"
   ]
  },
  {
   "cell_type": "code",
   "execution_count": null,
   "metadata": {},
   "outputs": [],
   "source": [
    "# execute (Shift-Enter or Run) this code cell to see what output you get\n",
    "\n",
    "def square(x):  \n",
    "    y = x * x\n",
    "    return y\n",
    "                       # line 4\n",
    "z = square(10)\n",
    "print(y)               # line 6\n"
   ]
  },
  {
   "cell_type": "markdown",
   "metadata": {},
   "source": [
    "When we try to use `y` on line 6 (outside the function) Python looks for a global variable named `y` but does not find one. This results in the error: \n",
    "\n",
    "`Name Error: 'y' is not defined`\n",
    "\n",
    "The variable `y` only exists while the function is being executed — we call this its *lifetime*. When the execution of the function terminates (returns), the local variables are destroyed. Go back and step through the statements paying particular attention to the variables that are created when the function is called. Note when they are subsequently destroyed as the function returns.\n",
    "\n",
    "Formal parameters are also local and act like local variables. For example, the lifetime of `x` begins when `square` is called, and its lifetime ends when the function completes its execution.\n",
    "\n",
    "So it is not possible for a function to set some local variable to a value, complete its execution, and then when it is called again next time, recover the local variable. Each call of the function creates new local variables, and their lifetimes expire when the function returns to the caller."
   ]
  },
  {
   "cell_type": "markdown",
   "metadata": {},
   "source": [
    "**Have a go:**"
   ]
  },
  {
   "cell_type": "markdown",
   "metadata": {},
   "source": [
    "1. True or False: Local variables can be referenced outside the function within which they were defined.\n",
    "\n",
    "\n",
    "* A. True\n",
    "* B. False"
   ]
  },
  {
   "cell_type": "markdown",
   "metadata": {},
   "source": [
    "<div align=\"right\">\n",
    "<a href=\"#5196\" class=\"btn btn-default\" data-toggle=\"collapse\">Click here for the solution</a>\n",
    "\n",
    "</div>\n",
    "<div id=\"5196\" class=\"collapse\">\n",
    "\n",
    "```\n",
    "B.(Local variables cannot be referenced outside \n",
    "   the function within which they were defined)\n",
    "   \n",
    "```\n",
    "\n",
    "</div>"
   ]
  },
  {
   "cell_type": "markdown",
   "metadata": {},
   "source": [
    "2. Which of the following are local variables? Answer in the order they appear in the code.\n",
    "\n",
    "```\n",
    "numbers = [1, 12, 13, 4]\n",
    "def foo(bar):\n",
    "    aug = str(bar) + \"street\"\n",
    "    return aug\n",
    "\n",
    "addresses = []\n",
    "for item in numbers:\n",
    "    addresses.append(foo(item))\n",
    "\n",
    "```"
   ]
  },
  {
   "cell_type": "markdown",
   "metadata": {},
   "source": [
    "<div align=\"right\">\n",
    "<a href=\"#5197\" class=\"btn btn-default\" data-toggle=\"collapse\">Click here for the solution</a>\n",
    "\n",
    "</div>\n",
    "<div id=\"5197\" class=\"collapse\">\n",
    "\n",
    "bar, aug\n",
    "\n",
    "</div>"
   ]
  },
  {
   "cell_type": "markdown",
   "metadata": {},
   "source": [
    "3. What is the result of the following code?\n",
    "\n",
    "```\n",
    "def adding(x):\n",
    "    y = 3\n",
    "    z = y + x + x\n",
    "    return z\n",
    "\n",
    "def producing(x):\n",
    "    z = x * y\n",
    "    return z\n",
    "\n",
    "print(producing(adding(4)))\n",
    "\n",
    "```"
   ]
  },
  {
   "cell_type": "markdown",
   "metadata": {},
   "source": [
    "* A. 33\n",
    "* B. 12\n",
    "* C. There is an error in the code."
   ]
  },
  {
   "cell_type": "markdown",
   "metadata": {},
   "source": [
    "<div align=\"right\">\n",
    "<a href=\"#5198\" class=\"btn btn-default\" data-toggle=\"collapse\">Click here for the solution</a>\n",
    "\n",
    "</div>\n",
    "<div id=\"5198\" class=\"collapse\">\n",
    "\n",
    "```\n",
    "C. (There is an error because we reference y in the producing function, \n",
    "    but it was defined in adding. Because y is a local variable, we \n",
    "    can't use it in both functions without initialising it in both. \n",
    "    If we initialised y as 3 in both, the answer would be 33.)\n",
    "\n",
    "```\n",
    "\n",
    "</div>"
   ]
  },
  {
   "cell_type": "markdown",
   "metadata": {},
   "source": [
    "<a id=\"ref9\"></a>\n",
    "<h2>Global variables [optional section]</h2>\n",
    "\n",
    "<div align=\"right\"><a href=\"#ref00\">back to top</a></div>"
   ]
  },
  {
   "cell_type": "markdown",
   "metadata": {},
   "source": [
    "Variable names that are at *top-level*, not inside any function definition, are called global.\n",
    "\n",
    "It is legal for a function to access a global variable. However, this is widely considered bad practice and should be avoided. This section includes some examples which illustrate the potential interactions of global and local variables. These should help you understand exactly how Python works. Hopefully, they will also convince you that things can get rather confusing when you mix local and global variables, and that you really shouldn’t do it.\n",
    "\n",
    "Look at the following nonsensical variation of the square function."
   ]
  },
  {
   "cell_type": "code",
   "execution_count": null,
   "metadata": {},
   "outputs": [],
   "source": [
    "def badsquare(x):\n",
    "    y = x ** power\n",
    "    return y\n",
    "\n",
    "power = 2\n",
    "result = badsquare(10)\n",
    "print(result)\n"
   ]
  },
  {
   "cell_type": "markdown",
   "metadata": {},
   "source": [
    "Although the `badsquare` function works, it is poorly designed. We use it here to illustrate an important rule about how variables are 'looked-up' in Python. First, Python looks at the variables that are defined as local variables in the function. We call this the *local scope*. If the variable name is not found in the local scope, then Python looks at the global variables, or *global scope*. This is exactly the case illustrated in the code above. `power` is not found locally in `badsquare` but it does exist globally. The appropriate way to write this function would be to pass `power` as a parameter. For practice, you should rewrite the `badsquare` example to have a second parameter called `power`.\n",
    "\n",
    "There is another variation on this theme of local versus global variables. Assignment statements in the local function cannot change variables defined outside the function. Consider the following example:"
   ]
  },
  {
   "cell_type": "markdown",
   "metadata": {},
   "source": [
    "```\n",
    "def powerof(x,p):\n",
    "    power = p   # Another bad idea\n",
    "    y = x ** power\n",
    "    return y\n",
    "\n",
    "power = 3\n",
    "print(power)\n",
    "result = powerof(10,2)\n",
    "print(result)\n",
    "print(power)\n",
    "\n",
    "```"
   ]
  },
  {
   "cell_type": "markdown",
   "metadata": {},
   "source": [
    "Now step through the code. What do you notice about the values of variable `power` in the local scope compared to the variable `power` in the global scope?\n",
    "\n",
    "The value of `power` in the local scope was different than the global scope. That is because in this example `power` was used on the left hand side of the assignment statement `power = p`. When a variable name is used on the left hand side of an assignment statement Python creates a local variable. When a local variable has the same name as a global variable we say that the local shadows the global. A *shadow* means that the global variable cannot be accessed by Python because the local variable will be found first. This is another good reason not to use global variables. As you can see, it makes your code confusing and difficult to understand.\n",
    "\n",
    "If you really want to change the value of a global variable inside a function, you can can do it by explicitly declaring the variable to be global, as in the example below. Again, you should not do this in your code. The example is here only to cement your understanding of how Python works."
   ]
  },
  {
   "cell_type": "markdown",
   "metadata": {},
   "source": [
    "```\n",
    " 1\tdef powerof(x,p):\n",
    " 2\t    global power  # a really...\n",
    " 3\t    power = p     # ...bad idea, but valid code\n",
    " 4\t    y = x ** power\n",
    " 5\t    return y\n",
    " 6\t\n",
    " 7\tpower = 3\n",
    " 8    print(power)\n",
    " 9\tresult = powerof(10,2)\n",
    "10\tprint(result)\n",
    "11\tprint(power)\n",
    "\n",
    "```"
   ]
  },
  {
   "cell_type": "markdown",
   "metadata": {},
   "source": [
    "To cement all of these ideas even further lets look at one final example. Inside the `square` function we are going to make an assignment to the parameter `x`. There’s no good reason to do this other than to emphasise the fact that the parameter `x` is a local variable. If you step through the example you will see that although `x` is 0 in the local variables for `square`, the `x` in the global scope remains 2. This is confusing to many beginning programmers who think that an assignment to a formal parameter will cause a change to the value of the variable that was used as the actual parameter, especially when the two share the same name. But this example demonstrates that that is clearly not how Python operates."
   ]
  },
  {
   "cell_type": "markdown",
   "metadata": {},
   "source": [
    "```\n",
    "#      switch lines 2 and 5 on/off alternatively \n",
    "#      using '#' to see the difference it makes\n",
    "\n",
    "1   def square(x):\n",
    "2       #x = 0     # line 2: here we assign a new value to the\n",
    "3                 # parameter before it is used in the function body\n",
    "4       y = x * x\n",
    "5       x = 0       # line 5: here we assign a new value to the \n",
    "6                   # parameter after it has been used\n",
    "7       return y\n",
    "8   \n",
    "9   x = 2\n",
    "10  print(x)\n",
    "11  z = square(x)\n",
    "12  print(z)\n",
    "13  print(x)\n",
    "\n",
    "```"
   ]
  },
  {
   "cell_type": "markdown",
   "metadata": {},
   "source": [
    "**Have a go:**"
   ]
  },
  {
   "cell_type": "markdown",
   "metadata": {},
   "source": [
    "1. What is a variable’s scope?\n",
    "\n",
    "\n",
    "* A. Its value\n",
    "* B. The range of statements in the code where a variable can be accessed.\n",
    "* C. Its name"
   ]
  },
  {
   "cell_type": "markdown",
   "metadata": {},
   "source": [
    "<div align=\"right\">\n",
    "<a href=\"#51980\" class=\"btn btn-default\" data-toggle=\"collapse\">Click here for the solution</a>\n",
    "\n",
    "</div>\n",
    "<div id=\"51980\" class=\"collapse\">\n",
    "\n",
    "```\n",
    "B.\n",
    "\n",
    "```\n",
    "\n",
    "</div>"
   ]
  },
  {
   "cell_type": "markdown",
   "metadata": {},
   "source": [
    "2. What is a local variable?\n",
    "\n",
    "\n",
    "* A. A temporary variable that is only used inside a function\n",
    "* B. The same as a parameter\n",
    "* C. Another name for any variable"
   ]
  },
  {
   "cell_type": "markdown",
   "metadata": {},
   "source": [
    "<div align=\"right\">\n",
    "<a href=\"#51981\" class=\"btn btn-default\" data-toggle=\"collapse\">Click here for the solution</a>\n",
    "\n",
    "</div>\n",
    "<div id=\"51981\" class=\"collapse\">\n",
    "\n",
    "```\n",
    "A. (a temporary variable that only exists inside the \n",
    "    function within which it is defined.)\n",
    "\n",
    "```\n",
    "\n",
    "</div>"
   ]
  },
  {
   "cell_type": "markdown",
   "metadata": {},
   "source": [
    "3. Can you use the same name for a local variable as a global variable?"
   ]
  },
  {
   "cell_type": "markdown",
   "metadata": {},
   "source": [
    "* A. Yes, and there is no reason not to.\n",
    "* B. Yes, but it is considered bad practice.\n",
    "* C. No, it will cause an error."
   ]
  },
  {
   "cell_type": "markdown",
   "metadata": {},
   "source": [
    "<div align=\"right\">\n",
    "<a href=\"#51982\" class=\"btn btn-default\" data-toggle=\"collapse\">Click here for the solution</a>\n",
    "\n",
    "</div>\n",
    "<div id=\"51982\" class=\"collapse\">\n",
    "\n",
    "```\n",
    "B. (Yes, but it is generally considered bad practice because \n",
    "    of the potential for the programmer to get confused. If \n",
    "    you must use global variables (also generally poor design) \n",
    "    make sure they have unique names.)\n",
    "```\n",
    "\n",
    "</div>"
   ]
  },
  {
   "cell_type": "markdown",
   "metadata": {},
   "source": [
    "<div align=\"left\">\n",
    "<a href=\"#51983\" class=\"btn btn-default\" data-toggle=\"collapse\">Note</a>\n",
    "\n",
    "<np></np>\n",
    "    \n",
    "</div>\n",
    "<div id=\"51983\" class=\"collapse\">\n",
    "\n",
    "\n",
    "You may be asking yourself at this point when you should make some object a local variable and when should you make it a global variable. Generally, we do not recommend making variables global. \n",
    "\n",
    "Imagine you are trying to write a program that keeps track of a person's money while purchasing groceries. You may create a variable that represents how much money the person possesses, called `wallet`. You may also want to write a function called `purchase`, which will take the name and quantity of an item purchased, its unit price, add the item to a list of groceries, and deduct the cost from the amount stored in `wallet`. If you initialise `wallet` before the function as a variable within the global scope instead of passing it as a third parameter for `purchase`, then an error would occur because wallet would not be found in the local scope. \n",
    "\n",
    "Though there are ways to get around this, as outlined in this page, if your program was supposed to handle groceries for multiple people, then you would need to declare each wallet as a global variable in the functions that want to use wallet, and that would become very confusing and tedious to deal with.\n",
    "\n",
    "\n",
    "</div>"
   ]
  },
  {
   "cell_type": "markdown",
   "metadata": {},
   "source": [
    "<a id=\"ref10\"></a>\n",
    "<h2>Functions can call other functions (composition)</h2>\n",
    "\n",
    "<div align=\"right\"><a href=\"#ref00\">back to top</a></div>"
   ]
  },
  {
   "cell_type": "markdown",
   "metadata": {},
   "source": [
    "It is important to understand that each of the functions we write can be used and called from other functions we write. This is one of the most important ways that computer programmers take a large problem and break it down into a group of smaller problems. This process of breaking a problem into smaller subproblems is called *functional decomposition*.\n",
    "\n",
    "Here’s a simple example of functional decomposition using two functions. The first function called `square` simply computes the square of a given number. The second function called `sum_of_squares` makes use of square to compute the sum of three numbers that have been squared."
   ]
  },
  {
   "cell_type": "markdown",
   "metadata": {},
   "source": [
    "```\n",
    "1\tdef square(x):\n",
    "2\t    y = x * x\n",
    "3\t    return y\n",
    "4\t\n",
    "5\tdef sum_of_squares(x,y,z):\n",
    "6\t    X = square(x)\n",
    "7\t    Y = square(y)\n",
    "8\t    Z = square(z)\n",
    "9\t\n",
    "10\t    return X+Y+Z\n",
    "11\t\n",
    "12\ta = -5\n",
    "13\tb = 2\n",
    "14\tc = 10\n",
    "15\tresult = sum_of_squares(a,b,c)\n",
    "16\tprint(result)\n",
    "\n",
    "```"
   ]
  },
  {
   "cell_type": "markdown",
   "metadata": {},
   "source": [
    "Even though this is a relatively simple example, in practice this approach illustrates many important Python concepts, including local and global variables along with parameter passing. Note that the body of `square` is not executed until it is called from inside the `sum_of_squares` function for the first time on line 6.\n",
    "\n",
    "Also notice that when `square` is called, there are two groups of local variables, one for `square` and one for `sum_of_squares`. Each group of local variables is called a *stack frame*. The variables `x`, and `y` are local variables in both functions. These are completely different variables, even though they have the same name. Each function invocation creates a new frame, and variables are looked up in that frame. Notice that as line 15 commences execution, `y` has the value `25` in one frame and `2` in the other.\n",
    "\n",
    "What happens when you to refer to variable `y` on line 3? Python looks up the value of `y` in the stack frame for the `square` function. If it didn’t find it there, it would look in the global frame; it would not look in the stack frame for the `sum_of_squares` function.\n",
    "\n",
    "Let us use composition to build up a slightly more useful function. In the [dictionaries](01.16-Dictionaries.ipynb) notebook we have a two-step process for finding the letter that appears most frequently in a text string (if you haven't completed the dictionaries notebook yet don't worry you can still follow what happens in the code below):\n",
    "\n",
    "* firstly accumulate a dictionary with letters as keys and counts as values \n",
    "* then find the best key from that dictionary. \n",
    "\n",
    "We can write functions for each of these steps and then compose them into a single function that finds the most common letter."
   ]
  },
  {
   "cell_type": "markdown",
   "metadata": {},
   "source": [
    "```\n",
    "def most_common_letter(s):            # s is a string\n",
    "    frequencies = count_freqs(s)      # frequencies is a dictionary\n",
    "    return best_key(frequencies)      # best_key returns a letter\n",
    "\n",
    "def count_freqs(st):\n",
    "    d = {}\n",
    "    # alphabet is a hand-generated list used below to \n",
    "    # subsequently exclude non-letter characters from st\n",
    "    alphabet = [\"a\",\"b\",\"c\",\"d\",\"e\",\"f\",\"g\",\"h\",\"i\",\"j\",\"k\",\"l\",\n",
    "                \"m\",\"n\",\"o\",\"p\",\"q\",\"r\",\"s\",\"t\",\"u\",\"v\",\"w\",\"x\",\"y\",\"z\"]\n",
    "    for c in st.lower():  # lower() changes every letter to lower case \n",
    "                          # so that A and a are considered the same \n",
    "                          # thing (assuming this is desirable).\n",
    "        if c in alphabet:\n",
    "            if c not in d:\n",
    "                d[c] = 1\n",
    "            d[c] = d[c] + 1\n",
    "    return d\n",
    "\n",
    "def best_key(dictionary):\n",
    "    ks = dictionary.keys()\n",
    "    best_key_so_far = list(ks)[0]  # have to turn ks into a real list \n",
    "                                   # before using [] to select an item\n",
    "    for k in ks:\n",
    "        if dictionary[k] > dictionary[best_key_so_far]:\n",
    "            best_key_so_far = k\n",
    "    return best_key_so_far\n",
    "\n",
    "print(most_common_letter(\"This is quite an involved process!\")) \n",
    "\n",
    "```"
   ]
  },
  {
   "cell_type": "markdown",
   "metadata": {},
   "source": [
    "**Have a go:**"
   ]
  },
  {
   "cell_type": "markdown",
   "metadata": {},
   "source": [
    "1. Write two functions, one called `addit` and one called `mult`. `addit` takes one number as an input and adds 5. `mult` takes two numbers as input; it multiplies the first input by whatever is returned from `addit` applied to the second input, and then returns the result."
   ]
  },
  {
   "cell_type": "code",
   "execution_count": null,
   "metadata": {},
   "outputs": [],
   "source": [
    "# write your code here\n",
    "\n",
    "\n",
    "\n"
   ]
  },
  {
   "cell_type": "markdown",
   "metadata": {},
   "source": [
    "<div align=\"right\">\n",
    "<a href=\"#982\" class=\"btn btn-default\" data-toggle=\"collapse\">Click here for the solution</a>\n",
    "\n",
    "</div>\n",
    "<div id=\"982\" class=\"collapse\">\n",
    "\n",
    "```\n",
    "def addit(n1):\n",
    "    return n1 + 5\n",
    "\n",
    "def mult(n1,n2):\n",
    "    return n1*addit(n2)\n",
    "\n",
    "mult(1,2)\n",
    "\n",
    "```\n",
    "\n",
    "</div>"
   ]
  },
  {
   "cell_type": "markdown",
   "metadata": {},
   "source": [
    "<a id=\"ref11\"></a>\n",
    "<h2>Flow of execution summary</h2>\n",
    "\n",
    "<div align=\"right\"><a href=\"#ref00\">back to top</a></div>"
   ]
  },
  {
   "cell_type": "markdown",
   "metadata": {},
   "source": [
    "When you are working with functions it is very important to know the order in which statements are executed. This is called the *flow of execution* and we’ve already talked about it a number of times in this notebook.\n",
    "\n",
    "Execution always begins at the first statement of the program. Statements are executed one at a time, in order, from top to bottom. Function definitions do not alter the flow of execution of the program, but remember that statements inside the function are not executed until the function is called. Function calls are like a detour in the flow of execution. Instead of going to the next statement, the flow jumps to the first line of the called function, executes all the statements there, and then comes back to pick up where it left off.\n",
    "\n",
    "That sounds simple enough, until you remember that one function can call another. While in the middle of one function, the program might have to execute the statements in another function. But while executing that new function, the program might have to execute yet another function.\n",
    "\n",
    "Fortunately, the Python interperter is adept at keeping track of where it is, so each time a function completes, the program picks up where it left off in the function that called it. When it gets to the end of the program, it terminates.\n",
    "\n",
    "What does all that mean for us when we try to understand a program? Don’t read from top to bottom. Instead, follow the flow of execution. This means that you will read the `def` statements as you are scanning from top to bottom, but you should skip the body of the function until you reach a point where that function is called."
   ]
  },
  {
   "cell_type": "markdown",
   "metadata": {},
   "source": [
    "**Have a go:**"
   ]
  },
  {
   "cell_type": "markdown",
   "metadata": {},
   "source": [
    "1. Consider the following Python code. Note that line numbers are included on the left.\n",
    "\n",
    "```\n",
    " 1   def pow(b, p):\n",
    " 2       y = b ** p\n",
    " 3       return y\n",
    " 4\n",
    " 5   def square(x):\n",
    " 6       a = pow(x, 2)\n",
    " 7       return a\n",
    " 8\n",
    " 9   n = 5\n",
    "10   result = square(n)\n",
    "11   print(result)\n",
    "\n",
    "```"
   ]
  },
  {
   "cell_type": "markdown",
   "metadata": {},
   "source": [
    "What does this code print?\n",
    "\n",
    "\n",
    "* A. 25\n",
    "* B. 5\n",
    "* C. 125\n",
    "* D. 32"
   ]
  },
  {
   "cell_type": "markdown",
   "metadata": {},
   "source": [
    "<div align=\"right\">\n",
    "<a href=\"#9782\" class=\"btn btn-default\" data-toggle=\"collapse\">Click here for the solution</a>\n",
    "\n",
    "</div>\n",
    "<div id=\"9782\" class=\"collapse\">\n",
    "\n",
    "```\n",
    "A. The function square returns the square \n",
    "   of its input (via a call to pow).\n",
    "\n",
    "\n",
    "Feedback to incorrect responses\n",
    "\n",
    "B. What is printed is the output of the square function. \n",
    "   5 is the input to the square function.\n",
    "C. Notice that pow is called from within square with a base \n",
    "   (b) of 5 and a power (p) of 2.\n",
    "D. Notice that pow is called from within square with a base \n",
    "   (b) of 5 and a power (p) of 2.\n",
    "\n",
    "```\n",
    "\n",
    "</div>"
   ]
  },
  {
   "cell_type": "markdown",
   "metadata": {},
   "source": [
    "<a id=\"ref12\"></a>\n",
    "<h2>Print versus return</h2>\n",
    "\n",
    "<div align=\"right\"><a href=\"#ref00\">back to top</a></div>"
   ]
  },
  {
   "cell_type": "markdown",
   "metadata": {},
   "source": [
    "Many people new to programming find the distinction between `print` and `return` confusing, especially since most of the illustrations of `return` values in introductory texts like this one show the returned value from a function call by printing it, as in `print(square(g(2)))`.\n",
    "\n",
    "The `print` function itself is fairly easy to understand. It takes a Python object as input and outputs a representation of it in the output window. You can think of `print(object)` as a function that takes an `object` from the realm of the program and renders it meaningful to the human observer."
   ]
  },
  {
   "cell_type": "markdown",
   "metadata": {},
   "source": [
    "<div align=\"left\">\n",
    "<a href=\"#5183\" class=\"btn btn-default\" data-toggle=\"collapse\">Important Note</a>\n",
    "\n",
    "<np></np>\n",
    "</div>\n",
    "<div id=\"5183\" class=\"collapse\">\n",
    "\n",
    "\n",
    "Print is for people! Printing has absolutely no effect on the ongoing execution of a program. It doesn’t assign a value to a variable. It doesn’t return a value from a function call.\n",
    "\n",
    "\n",
    "\n",
    "</div>"
   ]
  },
  {
   "cell_type": "markdown",
   "metadata": {},
   "source": [
    "If you’re confused, chances are the source of your confusion is really about returned values and the evaluation of complex expressions. A function that returns a value is producing a value for use *by the program*, in particular for use in the part of the code where the function was invoked. Remember that when a function is invoked, the function’s code block is executed – all that code indented under the `def` statement gets executed, following the rules of the Python formal language for what should and should not happen as it goes. But when the function returns, control passes back to the calling location, and a return value may come back with it.\n",
    "\n",
    "We’ve already seen some function calls in earlier notebooks. When we introduced the function `square` that we defined, we saw that the expression `square(2)` evaluated to the integer value `4`.\n",
    "\n",
    "That’s because the `square` function returns a value; the square of whatever input is passed to it. If a returned value is for use *by the program*, what does the program use the result of the function call for? There are three possibilities.\n",
    "\n",
    "  **1. Save it for later.**\n",
    "\n",
    "The returned value may be:\n",
    "* assigned to a variable, e.g., `w = square(3)`\n",
    "* put in a list, e.g., `L.append(square(3))`\n",
    "* put in a dictionary, e.g., `d['area'] = square(3)`\n",
    "\n",
    "\n",
    "  **2. Use it in a more complex expression.**\n",
    "\n",
    "In this case, think of the return value as replacing the entire text of the function invocation. For example, if there is a piece of code `w = square(square(3) + 7) - 5`, think of the return value `9` as replacing the text `square(3)` in that invocation, so it becomes `w = square(9 + 7) -5`, and so on.\n",
    "\n",
    "\n",
    "  **3. Print it for human consumption.**\n",
    "\n",
    "For example, `print(square(3))` outputs `9` to the output window. Note that, unless the return value is first saved as in possibility 1., it will be available only to the humans watching the output area, not to the program as it continues executing.\n",
    "\n",
    "If your only purpose in running a function is to make an output visible for human consumption, there are two ways to do it. You can put one or more print statements inside the function definition and not bother to return anything from the function (the value `None` will be returned). In this case, invoke the function without a print statement. For example, you can have an entire line of code that reads `f(3)`. That will run the function `f` and throw away the return value. Of course, if `f` doesn’t print anything out or have any side effects, it is pointless to call it and do nothing with the return value. But with a function that has print statements inside it, it can be quite useful.\n",
    "\n",
    "The other possibility is to return a value from the function and print it, as in `print(f(3))`. As you start to write larger, more complex programs, this will be more typical. Indeed the print statement will usually only be a temporary measure while you’re developing the program. Eventually, you’ll end up calling `f` and saving the return value or using it as part of a more complex expression.\n",
    "\n",
    "You will know you’ve successfully internalised the concept of functions when you are no longer confused about the difference between print and return. Keep working at it until it makes sense to you!"
   ]
  },
  {
   "cell_type": "markdown",
   "metadata": {},
   "source": [
    "**Have a go:**"
   ]
  },
  {
   "cell_type": "markdown",
   "metadata": {},
   "source": [
    "1. What will the following code output?\n",
    "\n",
    "```\n",
    "def square(x):\n",
    "    return x*x\n",
    "\n",
    "def g(y):\n",
    "    return y + 3\n",
    "\n",
    "def h(y):\n",
    "    return square(y) + 3\n",
    "\n",
    "print(h(2))\n",
    "\n",
    "```"
   ]
  },
  {
   "cell_type": "markdown",
   "metadata": {},
   "source": [
    "* A. 2\n",
    "* B. 5\n",
    "* C. 7\n",
    "* D. 25\n",
    "* E. Error: y has a value but x is an unbound variable inside the square function"
   ]
  },
  {
   "cell_type": "markdown",
   "metadata": {},
   "source": [
    "<div align=\"right\">\n",
    "<a href=\"#9783332\" class=\"btn btn-default\" data-toggle=\"collapse\">Click here for the solution</a>\n",
    "\n",
    "</div>\n",
    "<div id=\"9783332\" class=\"collapse\">\n",
    "\n",
    "```\n",
    "C. (First square 2, then add 3.)\n",
    "\n",
    "\n",
    "Feedback to incorrect responses\n",
    "\n",
    "A. 2 is the input; the value returned from h is what will be printed.\n",
    "B. Don't forget that 2 gets squared.\n",
    "D. 3 is added to the result of squaring 2\n",
    "E. When square is called, x is bound to the parameter value that is \n",
    "   passed in, 2.\n",
    "\n",
    "```\n",
    "\n",
    "</div>"
   ]
  },
  {
   "cell_type": "markdown",
   "metadata": {},
   "source": [
    "2. What will the following code output?\n",
    "\n",
    "```\n",
    "def square(x):\n",
    "    return x*x\n",
    "\n",
    "def g(y):\n",
    "    return y + 3\n",
    "\n",
    "def h(y):\n",
    "    return square(y) + 3\n",
    "\n",
    "print((g(h(2)))\n",
    "\n",
    "```"
   ]
  },
  {
   "cell_type": "markdown",
   "metadata": {},
   "source": [
    "* A. 2\n",
    "* B. 5\n",
    "* C. 7\n",
    "* D. 10\n",
    "* E. Error: you can't nest function calls"
   ]
  },
  {
   "cell_type": "markdown",
   "metadata": {},
   "source": [
    "<div align=\"right\">\n",
    "<a href=\"#9882\" class=\"btn btn-default\" data-toggle=\"collapse\">Click here for the solution</a>\n",
    "\n",
    "</div>\n",
    "<div id=\"9882\" class=\"collapse\">\n",
    "\n",
    "```\n",
    "D. (h(2) returns 7, so y is bound to 7 when g is invoked.)\n",
    "\n",
    "\n",
    "Feedback to incorrect responses\n",
    "\n",
    "A. Please review the section above one more time.\n",
    "B. Please review the section above one more time.\n",
    "C. That's h(2), but it is passed to g.\n",
    "E. You certainly can nest function calls.\n",
    "\n",
    "\n",
    "```\n",
    "\n",
    "</div>"
   ]
  },
  {
   "cell_type": "markdown",
   "metadata": {},
   "source": [
    "<a id=\"ref13\"></a>\n",
    "<h2>Passing mutable objects [optional section]</h2>\n",
    "\n",
    "<div align=\"right\"><a href=\"#ref00\">back to top</a></div>"
   ]
  },
  {
   "cell_type": "markdown",
   "metadata": {},
   "source": [
    "As we have seen, when a function (or method) is invoked and a parameter value is provided, a new stack frame is created, and the parameter name is bound to the parameter value. What happens when the value that is provided is a mutable object, like a list or dictionary? Is the parameter name bound to a copy of the original object, or does it become an alias for exactly that object? In Python, the answer is that it becomes an alias for the original object. This answer matters when the code block inside the function definition causes some change to be made to the object (e.g., adding a key-value pair to a dictionary or appending to a list).\n",
    "\n",
    "This sheds a little different light on the idea of parameters being local. They are local in the sense that if you have a parameter x inside a function and there is a global variable x, any reference to x inside the function gets you the value of local variable x, not the global one. If you set `x = 3`, this becomes the value of the local variable x, but when the function finishes executing, that local x disappears, and so does the value 3.\n",
    "\n",
    "If, on the other hand, the local variable x points to a list `[1, 3, 7]`, setting `x[2] = 0` makes `x` still point to the same list, but changes the list’s contents to `[1, 3, 0]`. The local variable x is discarded when the function completes execution, but the mutation to the list lives on if there is some other variable outside the function that also is an alias for the same list.\n",
    "\n",
    "Consider the following code:"
   ]
  },
  {
   "cell_type": "code",
   "execution_count": null,
   "metadata": {},
   "outputs": [],
   "source": [
    "def double(y):\n",
    "    y = 2 * y\n",
    "\n",
    "def changeit(lst):\n",
    "    lst[0] = \"Rainey\"\n",
    "    lst[1] = \"Rhinos\"\n",
    "\n",
    "y = 5\n",
    "double(y)\n",
    "print(y)\n",
    "\n",
    "mylst = ['our', 'minis', 'are', 'awesome']\n",
    "changeit(mylst)\n",
    "print(mylst)\n"
   ]
  },
  {
   "cell_type": "markdown",
   "metadata": {},
   "source": [
    "Try running it. Similar to examples we have seen before, running `double` does not change the global `y`. But running `changeit` does change `mylst`. The explanation is given above with regard to the sharing of mutable objects. "
   ]
  },
  {
   "cell_type": "markdown",
   "metadata": {},
   "source": [
    "<a id=\"ref14\"></a>\n",
    "<h2>Side effects [optional section]</h2>\n",
    "\n",
    "<div align=\"right\"><a href=\"#ref00\">back to top</a></div>"
   ]
  },
  {
   "cell_type": "markdown",
   "metadata": {},
   "source": [
    "We say that the function `changeit` has a *side effect* on the list object that is passed to it. Global variables are another way to have side effects. For example, similar to examples you have seen above, we could make `double` have a side effect on the global variable `y`."
   ]
  },
  {
   "cell_type": "markdown",
   "metadata": {},
   "source": [
    "```\n",
    "1   def double(n):\n",
    "2\t   global y\n",
    "3\t   y = 2 * n\n",
    "4\t\n",
    "5\ty = 5\n",
    "6\tdouble(y)\n",
    "7\tprint(y)\n",
    "\n",
    "```"
   ]
  },
  {
   "cell_type": "markdown",
   "metadata": {},
   "source": [
    "Side effects are sometimes convenient. For example, it may be convenient to have a single dictionary that accumulates information, and pass it around to various functions that might add to it or modify it.\n",
    "\n",
    "However, programs that have side effects can be very difficult to debug. When an object has a value that is not what you expected, it can be difficult to track down exactly where in the code it was set. Wherever it is practical to do so, it is best to avoid side effects. The way to avoid using side effects is to use return values instead.\n",
    "\n",
    "Instead of modifying a global variable inside a function, pass the global variable’s value in as a parameter, and set that global variable to be equal to a value returned from the function. For example, the following is a better version of the code above."
   ]
  },
  {
   "cell_type": "markdown",
   "metadata": {},
   "source": [
    "```\n",
    "1\tdef double(n):\n",
    "2\t   return 2 * n\n",
    "3\t\n",
    "4\ty = 5\n",
    "5\ty = double(y)\n",
    "6\tprint(y)\n",
    "\n",
    "```"
   ]
  },
  {
   "cell_type": "markdown",
   "metadata": {},
   "source": [
    "You can use the same coding pattern to avoid confusing side effects with sharing of mutable objects. To do that, explicitly make a copy of an object and pass the copy in to the function. Then return the modified copy and reassign it to the original variable if you want to save the changes. The built-in `list` function, which takes a sequence as a parameter and returns a new list, works to copy an existing list. For dictionaries, you can similarly call the `dict` function, passing in a dictionary to get a copy of the dictionary back as a return value."
   ]
  },
  {
   "cell_type": "markdown",
   "metadata": {},
   "source": [
    "```\n",
    "1\tdef changeit(lst):\n",
    "2\t    lst[0] = \"Rainey\"\n",
    "3\t    lst[1] = \"Rhinos\"\n",
    "4\t    return lst\n",
    "5\t\n",
    "6\tmylst = ['UU_AFE', 'students', 'are', 'great']\n",
    "7\tnewlst = changeit(list(mylst))\n",
    "8\tprint(mylst)\n",
    "9\tprint(newlst)\n",
    "\n",
    "\n",
    "```"
   ]
  },
  {
   "cell_type": "markdown",
   "metadata": {},
   "source": [
    "In general, any lasting effect that occurs due to a function, other than through its return value, is called a side effect. There are three ways to have side effects:\n",
    "\n",
    "* printing out a value; this doesn’t change any objects or variable bindings, but it does have a potentially lasting effect outside the function execution, because a person might see the output and be influenced by it.\n",
    "* changing the value of a mutable object.\n",
    "* changing the binding of a global variable."
   ]
  },
  {
   "cell_type": "markdown",
   "metadata": {},
   "source": [
    "<a id=\"ref15\"></a>\n",
    "<h2>Glossary</h2>\n",
    "\n",
    "<div align=\"right\"><a href=\"#ref00\">back to top</a></div>"
   ]
  },
  {
   "cell_type": "markdown",
   "metadata": {},
   "source": [
    "**argument:**\n",
    "A value provided to a function when the function is called. This value is assigned to the corresponding parameter in the function. The argument can be the result of an expression which may involve operators, operands and calls to other fruitful functions.\n",
    "\n",
    "**body:**\n",
    "The second part of a compound statement. The body consists of a sequence of statements all indented the same amount from the beginning of the header. The standard amount of indentation used within the Python community is 4 spaces.\n",
    "\n",
    "**calling stack:**\n",
    "A sequence (stack) of frames, showing all the function calls that are in process but not yet complete. When one function’s code invokes another function call, there will be more than one frame on the stack.\n",
    "\n",
    "**compound statement:**\n",
    "A statement that consists of two parts:\n",
    "\n",
    "* header - which begins with a keyword determining the statement type, and ends with a colon.\n",
    "* body - containing one or more statements indented the same amount from the header.\n",
    "\n",
    "The syntax of a compound statement looks like this:\n",
    "\n",
    "```\n",
    "keyword expression:\n",
    "    statement\n",
    "    statement\n",
    "    ...\n",
    "\n",
    "```"
   ]
  },
  {
   "cell_type": "markdown",
   "metadata": {},
   "source": [
    "**docstring:**\n",
    "If the first thing in a function body is a string (or, we’ll see later, in other situations too) that is attached to the function as its `__doc__` attribute.\n",
    "\n",
    "**flow of execution:**\n",
    "The order in which statements are executed during a program run.\n",
    "\n",
    "**function:**\n",
    "A named sequence of statements that performs some useful operation. Functions may or may not take parameters and may or may not produce a result.\n",
    "\n",
    "**function call:**\n",
    "A statement that executes a function. It consists of the name of the function followed by a list of arguments enclosed in parentheses.\n",
    "\n",
    "**function composition:**\n",
    "Using the output from one function call as the input to another.\n",
    "\n",
    "**function definition:**\n",
    "A statement that creates a new function, specifying its name, parameters, and the statements it executes.\n",
    "\n",
    "**fruitful function:**\n",
    "A function that returns a value when it is called.\n",
    "\n",
    "**global variable:**\n",
    "A variable defined at the top level, not inside any function.\n",
    "\n",
    "**header line:**\n",
    "The first part of a compound statement. A header line begins with a keyword and ends with a colon (:)\n",
    "\n",
    "**lifetime:**\n",
    "Variables and objects have lifetimes — they are created at some point during program execution, and will be destroyed at some time. In python, objects live as long as there is some variable pointing to it, or it is part of some other compound object, like a list or a dictionary. In python, local variables live only until the function finishes execution.\n",
    "\n",
    "**local variable:**\n",
    "A variable defined inside a function. A local variable can only be used inside its function. Parameters of a function are also a special kind of local variable.\n",
    "\n",
    "**method:**\n",
    "A special kind of function that is invoked on particular types of objects, using the syntax `<expr>.<methodname>(<additional parameter values>)`\n",
    "    \n",
    "**None:**\n",
    "A special Python value. One use in Python is that it is returned by functions that do not execute a return statement with a return argument.\n",
    "\n",
    "**parameter:**\n",
    "A name used inside a function to refer to the value which was passed to it as an argument.\n",
    "\n",
    "**return value:**\n",
    "The value provided as the result of a function call.\n",
    "\n",
    "**side effect:**\n",
    "Some lasting effect of a function call, other than its return value. Side effects include print statements, changes to mutable objects, and changes to the values of global variables.\n",
    "\n",
    "**stack frame:**\n",
    "A frame that keeps track of the values of local variables during a function execution, and where to return control when the function execution completes."
   ]
  },
  {
   "cell_type": "markdown",
   "metadata": {},
   "source": [
    "<a id=\"ref16\"></a>\n",
    "<h2>Exercises</h2>\n",
    "\n",
    "<div align=\"right\"><a href=\"#ref00\">back to top</a></div>"
   ]
  },
  {
   "cell_type": "markdown",
   "metadata": {},
   "source": [
    "1. Write a function named `num_test` that takes a number as input. If the number is greater than 10, the function should return “Greater than 10.” If the number is less than 10, the function should return “Less than 10.” If the number is equal to 10, the function should return “Equal to 10.”"
   ]
  },
  {
   "cell_type": "code",
   "execution_count": null,
   "metadata": {},
   "outputs": [],
   "source": [
    "# write your code here\n",
    "\n"
   ]
  },
  {
   "cell_type": "markdown",
   "metadata": {},
   "source": [
    "<div align=\"right\">\n",
    "<a href=\"#19882\" class=\"btn btn-default\" data-toggle=\"collapse\">Click here for the solution</a>\n",
    "\n",
    "</div>\n",
    "<div id=\"19882\" class=\"collapse\">\n",
    "\n",
    "```\n",
    "def num_test(num):\n",
    "    if num > 10:\n",
    "        return \"Greater than 10\"\n",
    "    elif num < 10:\n",
    "        return \"Less than 10\"\n",
    "    else:\n",
    "        return \"Equal to 10\"\n",
    "\n",
    "```\n",
    "\n",
    "</div>"
   ]
  },
  {
   "cell_type": "markdown",
   "metadata": {},
   "source": [
    "2. Write a function that will return the number of digits in an integer."
   ]
  },
  {
   "cell_type": "code",
   "execution_count": null,
   "metadata": {},
   "outputs": [],
   "source": [
    "# write your code here\n",
    "\n"
   ]
  },
  {
   "cell_type": "markdown",
   "metadata": {},
   "source": [
    "<div align=\"right\">\n",
    "<a href=\"#29882\" class=\"btn btn-default\" data-toggle=\"collapse\">Click here for the solution</a>\n",
    "\n",
    "</div>\n",
    "<div id=\"29882\" class=\"collapse\">\n",
    "\n",
    "```\n",
    "def numDigits(n):\n",
    "    n_str = str(n)\n",
    "    return len(n_str)\n",
    "\n",
    "\n",
    "print(numDigits(50))\n",
    "print(numDigits(20000))\n",
    "print(numDigits(1))\n",
    "\n",
    "```\n",
    "\n",
    "</div>"
   ]
  },
  {
   "cell_type": "markdown",
   "metadata": {},
   "source": [
    "3. Write a function called `is_even(n)` that takes an integer as an argument and returns `True` if the argument is an even number and `False` if it is odd."
   ]
  },
  {
   "cell_type": "code",
   "execution_count": null,
   "metadata": {},
   "outputs": [],
   "source": [
    "# write your code here\n",
    "\n",
    "\n"
   ]
  },
  {
   "cell_type": "markdown",
   "metadata": {},
   "source": [
    "<div align=\"right\">\n",
    "<a href=\"#98t82\" class=\"btn btn-default\" data-toggle=\"collapse\">Click here for the solution</a>\n",
    "\n",
    "</div>\n",
    "<div id=\"98t82\" class=\"collapse\">\n",
    "\n",
    "```\n",
    "def is_even(n):\n",
    "    if n % 2 == 0:\n",
    "        return \"True\"\n",
    "    return \"False\"\n",
    "\n",
    "\n",
    "is_even(74)\n",
    "\n",
    "```\n",
    "\n",
    "</div>"
   ]
  },
  {
   "cell_type": "markdown",
   "metadata": {},
   "source": [
    "4. Now write the function `is_odd(n)` that returns `True` when `n` is odd and `False` otherwise."
   ]
  },
  {
   "cell_type": "code",
   "execution_count": null,
   "metadata": {},
   "outputs": [],
   "source": [
    "# write your code here\n",
    "\n",
    "\n",
    "\n"
   ]
  },
  {
   "cell_type": "markdown",
   "metadata": {},
   "source": [
    "<div align=\"right\">\n",
    "<a href=\"#98u82\" class=\"btn btn-default\" data-toggle=\"collapse\">Click here for the solution</a>\n",
    "\n",
    "</div>\n",
    "<div id=\"98u82\" class=\"collapse\">\n",
    "\n",
    "```\n",
    "Answer not provided! Use the previous question as a template.\n",
    "\n",
    "\n",
    "```\n",
    "\n",
    "</div>"
   ]
  },
  {
   "cell_type": "markdown",
   "metadata": {},
   "source": [
    "5. Write a function `sum_of_squares(xs)` that computes the sum of the squares of the numbers in the list `xs`. For example, `sum_of_squares([2, 3, 4])` should return 4+9+16 which is 29:"
   ]
  },
  {
   "cell_type": "code",
   "execution_count": null,
   "metadata": {},
   "outputs": [],
   "source": [
    "# write your code here\n",
    "\n",
    "\n"
   ]
  },
  {
   "cell_type": "markdown",
   "metadata": {},
   "source": [
    "<div align=\"right\">\n",
    "<a href=\"#988277\" class=\"btn btn-default\" data-toggle=\"collapse\">Click here for the solution</a>\n",
    "\n",
    "</div>\n",
    "<div id=\"988277\" class=\"collapse\">\n",
    "\n",
    "```\n",
    "def sum_of_squares(xs):\n",
    "    sum = 0\n",
    "    for element in xs:\n",
    "        ??????????????    # replace single line of ?'s to complete the function\n",
    "    return sum\n",
    "\n",
    "sum_of_squares([2,3,4])\n",
    "\n",
    "\n",
    "```\n",
    "\n",
    "</div>"
   ]
  },
  {
   "cell_type": "markdown",
   "metadata": {},
   "source": [
    "6. [*This exercise provides you with some templates which may be useful with subsequent exercises*] Although Python provides us with many list methods, it is good practice and very instructive to think about how they are implemented. Implement a Python function that works like the following:\n",
    "\n",
    "\n",
    "* a. count\n",
    "* b. reverse\n",
    "* c. index\n",
    "* d. insert"
   ]
  },
  {
   "cell_type": "code",
   "execution_count": null,
   "metadata": {},
   "outputs": [],
   "source": [
    "# write your code here\n",
    "\n",
    "        \n"
   ]
  },
  {
   "cell_type": "markdown",
   "metadata": {},
   "source": [
    "<div align=\"right\">\n",
    "<a href=\"#905882\" class=\"btn btn-default\" data-toggle=\"collapse\">Click here for the solution</a>\n",
    "\n",
    "</div>\n",
    "<div id=\"905882\" class=\"collapse\">\n",
    "\n",
    "```\n",
    "def count(obj, lst):\n",
    "    count = 0\n",
    "    for e in lst:\n",
    "        if e == obj:\n",
    "            count = count + 1\n",
    "    return count\n",
    "\n",
    "def reverse(lst):\n",
    "    reversed = []\n",
    "    for i in range(len(lst)-1, -1, -1): # step through lst backwards\n",
    "        reversed.append(lst[i])\n",
    "    return reversed\n",
    "\n",
    "def index(obj, lst):\n",
    "    for i in range(len(lst)):\n",
    "        if lst[i] == obj:\n",
    "            return i\n",
    "    return -1\n",
    "\n",
    "def insert(obj, index, lst):\n",
    "    newlst = []\n",
    "    for i in range(len(lst)):\n",
    "        if i == index:\n",
    "            newlst.append(obj)\n",
    "        newlst.append(lst[i])\n",
    "    return newlst\n",
    "\n",
    "lst = [0, 1, 1, 2, 2, 3, 4, 5, 6, 7, 8, 9]\n",
    "print(count(1, lst))\n",
    "print(reverse(lst))\n",
    "print(index(2, lst))\n",
    "print(insert('cat', 4, lst))\n",
    "\n",
    "\n",
    "```\n",
    "\n",
    "</div>"
   ]
  },
  {
   "cell_type": "markdown",
   "metadata": {},
   "source": [
    "7. Sum up all the even numbers in a list."
   ]
  },
  {
   "cell_type": "code",
   "execution_count": null,
   "metadata": {},
   "outputs": [],
   "source": [
    "# write your code here\n",
    "\n",
    "\n",
    "\n"
   ]
  },
  {
   "cell_type": "markdown",
   "metadata": {},
   "source": [
    "<div align=\"right\">\n",
    "<a href=\"#98p82\" class=\"btn btn-default\" data-toggle=\"collapse\">Click here for the solution</a>\n",
    "\n",
    "</div>\n",
    "<div id=\"98p82\" class=\"collapse\">\n",
    "\n",
    "```\n",
    "def sumEven(xs):\n",
    "    sum = 0\n",
    "    for element in xs:\n",
    "        if element % 2 == 0:\n",
    "            sum += element\n",
    "    return sum\n",
    "\n",
    "sumEven([2,3,4])\n",
    "\n",
    "```\n",
    "\n",
    "</div>"
   ]
  },
  {
   "cell_type": "markdown",
   "metadata": {},
   "source": [
    "8. Write a function to count how many odd numbers are in a list."
   ]
  },
  {
   "cell_type": "code",
   "execution_count": null,
   "metadata": {},
   "outputs": [],
   "source": [
    "# write your code here\n",
    "\n",
    "\n",
    "\n"
   ]
  },
  {
   "cell_type": "markdown",
   "metadata": {},
   "source": [
    "<div align=\"right\">\n",
    "<a href=\"#9882999\" class=\"btn btn-default\" data-toggle=\"collapse\">Click here for the solution</a>\n",
    "\n",
    "</div>\n",
    "<div id=\"9882999\" class=\"collapse\">\n",
    "\n",
    "```\n",
    "\n",
    "import random\n",
    "\n",
    "def countOdd(lst):\n",
    "    odd = 0\n",
    "    for e in lst:\n",
    "        if e % 2 != 0:\n",
    "            odd = odd + 1\n",
    "    return odd\n",
    "\n",
    "# make a random list to test the function\n",
    "lst = []\n",
    "for i in range(100):\n",
    "    lst.append(random.randint(0, 1000))\n",
    "\n",
    "print(countOdd(lst))\n",
    "\n",
    "\n",
    "\n",
    "```\n",
    "\n",
    "</div>"
   ]
  },
  {
   "cell_type": "markdown",
   "metadata": {},
   "source": [
    "9. Write a Python function that will take a list of 100 random integers between 0 and 1000 and return the maximum value. (Note: there is a builtin function named `max` but pretend you cannot use it.)"
   ]
  },
  {
   "cell_type": "code",
   "execution_count": null,
   "metadata": {},
   "outputs": [],
   "source": [
    "# write your code here\n",
    "\n"
   ]
  },
  {
   "cell_type": "markdown",
   "metadata": {},
   "source": [
    "<div align=\"right\">\n",
    "<a href=\"#988112\" class=\"btn btn-default\" data-toggle=\"collapse\">Click here for the solution</a>\n",
    "\n",
    "</div>\n",
    "<div id=\"988112\" class=\"collapse\">\n",
    "\n",
    "```\n",
    "import random\n",
    "\n",
    "def mad_max(lst):\n",
    "    max = 0\n",
    "    for e in lst:\n",
    "        if e > max:\n",
    "            max = e\n",
    "    return max\n",
    "\n",
    "lst = []\n",
    "for i in range(100):\n",
    "    lst.append(random.randint(0, 1000))\n",
    "\n",
    "print(mad_max(lst))\n",
    "\n",
    "\n",
    "```\n",
    "\n",
    "</div>"
   ]
  },
  {
   "cell_type": "markdown",
   "metadata": {},
   "source": [
    "10. Write a function that removes all occurrences of a given letter from a string."
   ]
  },
  {
   "cell_type": "code",
   "execution_count": null,
   "metadata": {},
   "outputs": [],
   "source": [
    "# write your code here\n",
    "\n",
    "\n"
   ]
  },
  {
   "cell_type": "markdown",
   "metadata": {},
   "source": [
    "<div align=\"right\">\n",
    "<a href=\"#019882\" class=\"btn btn-default\" data-toggle=\"collapse\">Click here for the solution</a>\n",
    "\n",
    "</div>\n",
    "<div id=\"019882\" class=\"collapse\">\n",
    "\n",
    "```\n",
    "def remove_letter(s,a):\n",
    "    removed = ''\n",
    "    for char in s:\n",
    "        if char != a: \n",
    "            removed = removed + char  \n",
    "    return removed\n",
    "\n",
    "remove_letter(\"Remove e from this little string right here\",\"e\")\n",
    "\n",
    "```\n",
    "\n",
    "</div>"
   ]
  },
  {
   "cell_type": "markdown",
   "metadata": {},
   "source": [
    "11. Write a function `replace(s, old, new)` that replaces all occurences of `old` with `new` in a string `s`. Test your code on `replace(s1, 'i', 'I')` and `replace(s2, 'om', 'am')` where `s1 = 'Mississippi'` and `s2 = 'I love spom! Spom is my favorite food.  Spom, spom, spom, yuck!'`\n",
    "       "
   ]
  },
  {
   "cell_type": "markdown",
   "metadata": {},
   "source": [
    "Hint: use the `split` and `join` methods   "
   ]
  },
  {
   "cell_type": "code",
   "execution_count": null,
   "metadata": {},
   "outputs": [],
   "source": [
    "# write your code here\n",
    "\n",
    "\n",
    "    \n"
   ]
  },
  {
   "cell_type": "markdown",
   "metadata": {},
   "source": [
    "<div align=\"right\">\n",
    "<a href=\"#988206\" class=\"btn btn-default\" data-toggle=\"collapse\">Click here for the solution</a>\n",
    "\n",
    "</div>\n",
    "<div id=\"988206\" class=\"collapse\">\n",
    "\n",
    "```\n",
    "def replace(s,old,new):\n",
    "    split_list = s.split(old)\n",
    "    changed_list = []\n",
    "    if split_list[-1] == \" \":\n",
    "        for element in range(len(split_list)):\n",
    "            changed_list.append(split_list[element]+new) \n",
    "    else:\n",
    "        for element in range(len(split_list)-1):\n",
    "            changed_list.append(split_list[element]+new)\n",
    "        changed_list.append(split_list[-1])\n",
    "    \n",
    "    return \"\".join(changed_list)\n",
    "\n",
    "```\n",
    "\n",
    "</div>"
   ]
  },
  {
   "cell_type": "markdown",
   "metadata": {},
   "source": [
    "12. Write a function that reverses its string argument."
   ]
  },
  {
   "cell_type": "code",
   "execution_count": null,
   "metadata": {},
   "outputs": [],
   "source": [
    "# write your code here\n",
    "\n",
    "\n"
   ]
  },
  {
   "cell_type": "markdown",
   "metadata": {},
   "source": [
    "<div align=\"right\">\n",
    "<a href=\"#39882\" class=\"btn btn-default\" data-toggle=\"collapse\">Click here for the solution</a>\n",
    "\n",
    "</div>\n",
    "<div id=\"39882\" class=\"collapse\">\n",
    "\n",
    "```\n",
    "a rather cumbersome first attempt......\n",
    "\n",
    "def reverse_string(s): # activate the print statements \n",
    "                       # below to see how this works\n",
    "\n",
    "    list1 = []; reverse_list = []; rev = ''\n",
    "    for character in s:\n",
    "        list1.append(character)\n",
    "        # print(list1) # will let you see s converting to a list\n",
    "    for num in range(len(list1)):\n",
    "        reverse_list.append(list1[len(list1)-1-num])\n",
    "        # print(reverse_list) # will let you see reverse_list build up\n",
    "    for char in reverse_list:\n",
    "        rev += char\n",
    "    return rev\n",
    "\n",
    "reverse_string(\"Very exciting!\") \n",
    "\n",
    "\n",
    "and a much more succinct attempt after discovering a very useful trick, \n",
    "can you spot the trick itself......?\n",
    "\n",
    "def reverse(mystr):\n",
    "    reversed = ''\n",
    "    for char in mystr:\n",
    "        reversed = char + reversed \n",
    "        print(reversed)\n",
    "    return reversed\n",
    "\n",
    "reverse(\"Very exciting!\")\n",
    "  \n",
    "```\n",
    "\n",
    "</div>"
   ]
  },
  {
   "cell_type": "markdown",
   "metadata": {},
   "source": [
    "< [Conditionals](ZConditionals.ipynb) | [PyFinLab Index](ALWAYS-START-HERE.ipynb) | [Iteration](ZIteration.ipynb) >\n",
    "\n",
    "<div align=\"right\"><a href=\"#ref00\">back to top</a></div>"
   ]
  }
 ],
 "metadata": {
  "kernelspec": {
   "display_name": "Python 3",
   "language": "python",
   "name": "python3"
  },
  "language_info": {
   "codemirror_mode": {
    "name": "ipython",
    "version": 3
   },
   "file_extension": ".py",
   "mimetype": "text/x-python",
   "name": "python",
   "nbconvert_exporter": "python",
   "pygments_lexer": "ipython3",
   "version": "3.7.4"
  }
 },
 "nbformat": 4,
 "nbformat_minor": 2
}
