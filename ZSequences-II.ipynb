{
 "cells": [
  {
   "cell_type": "markdown",
   "metadata": {},
   "source": [
    "< [Sequences I](ZSequences-I.ipynb) | [PyFinLab Index](ALWAYS-START-HERE.ipynb) | [Files](ZFiles.ipynb) >\n",
    "\n",
    "<a id = \"ref00\"></a>"
   ]
  },
  {
   "cell_type": "markdown",
   "metadata": {},
   "source": [
    "<a><img src=\"figures/UUBS.png\" width=\"180\" height=\"180\" border=\"10\" /></a>\n",
    "\n",
    "<hr>"
   ]
  },
  {
   "cell_type": "markdown",
   "metadata": {},
   "source": [
    "<h2>Notebook A6: Sequences II - Transforming Sequences</h2>\n",
    "\n",
    "<div class=\"alert alert-block alert-info\" style=\"margin-top: 20px\">\n",
    "\n",
    "<li><a href=\"#ref0\">Aims and Objectives</a></li>\n",
    "<li><a href=\"#ref1\">Introduction</a></li>\n",
    "<li><a href=\"#ref2\">Mutability</a></li>\n",
    "<li><a href=\"#ref3\">List Element Deletion</a></li>\n",
    "<li><a href=\"#ref4\">Objects and References</a></li>\n",
    "<li><a href=\"#ref5\">Aliasing</a></li>\n",
    "<li><a href=\"#ref6\">Cloning Lists</a></li>\n",
    "<li><a href=\"#ref7\">Mutating Methods</a></li>\n",
    "<li><a href=\"#ref8\">Append versus Concatenate</a></li>\n",
    "<li><a href=\"#ref9\">Non-mutating Methods on Strings</a></li>\n",
    "<li><a href=\"#ref10\">The Accumulator Pattern with Lists</a></li>\n",
    "<li><a href=\"#ref11\">The Accumulator Pattern with Strings</a></li>\n",
    "<li><a href=\"#ref12\">Accumulator Pattern Strategies</a></li>\n",
    "<li><a href=\"#ref13\">Don't Mutate a List that you are Iterating through</a></li>\n",
    "<li><a href=\"#ref15\">Sorting with Sort and Sorted</a></li>\n",
    "<li><a href=\"#ref16\">Sorting a Dictionary</a></li>\n",
    "<li><a href=\"#ref17\">Breaking Ties: Second Sorting</a></li>\n",
    "<li><a href=\"#ref18\">When to use a Lambda Expression</a></li>\n",
    "<li><a href=\"#ref19\">Glossary</a></li>\n",
    "<li><a href=\"#ref20\">Exercises</a></li>\n",
    "<br>\n",
    "<p></p>\n",
    "Indicative Completion Time: <strong>4-5 hrs</strong>\n",
    "</div>\n"
   ]
  },
  {
   "cell_type": "markdown",
   "metadata": {},
   "source": [
    "<a id=\"ref0\"></a>\n",
    "<h3>Aims</h3>\n",
    "\n",
    "To introduce and understand the concept and use of: \n",
    "* mutable and immutable data types\n",
    "* methods on strings (they don't effect the original, but return a new string)\n",
    "* mutating methods on lists ( which return `None`)\n",
    "* sorting with the method `.sort()` and the function `sorted()`\n",
    "\n",
    "<h3>Objectives</h3>\n",
    "\n",
    "On completion of this notebook you should be able to use:\n",
    "* concatenate\n",
    "* index operator\n",
    "* substring (slice)\n",
    "* search - contains in / not in and index\n",
    "* find method\n",
    "* append\n",
    "* join\n",
    "* split\n",
    "* string format method\n",
    "* sort method\n",
    "* sorted\n"
   ]
  },
  {
   "cell_type": "markdown",
   "metadata": {},
   "source": [
    "<a id=\"ref1\"></a>\n",
    "<h2>Introduction</h2>"
   ]
  },
  {
   "cell_type": "markdown",
   "metadata": {},
   "source": [
    "The sequences that we have used so far have been static: a list of colors that doesn’t change or the characters in a string that stays the same. The real world is more complicated than that. A list of users for your social network may need to grow to accommodate new users (or shrink when users leave your service). The letters in a string may need to be modified to personalise a message (“Welcome to Ulster University, `<your name>`”), or to encode a secret message.\n",
    "\n",
    "This notebook will explore many of the methods that can be used to transform lists and strings. Generally there are two kinds of methods that can be used: changing the object, in place, by mutating it; or constructing a new object using a copy-with-change operation.\n",
    "\n",
    "There is currently no specific video collecton for this notebook. However, you may wish to review the collection in [Sequences I](01.13-Sequences-I.ipynb).\n",
    "\n",
    "**As a reminder:** \n",
    "* Video 1 provides an general introduction to the important Python variable type known as `strings`. \n",
    "* Video 2 extends this providing a detaled treatment of working with and manipulating `strings`. \n",
    "* Video 3 introduces the important collection type called `lists`. \n",
    "* Video 4 covers the basics of manipulating `lists`.\n",
    "* Video 5 provides an insightful and practical discussion of the using `lists` and `strings` together to complete useful tasks.\n",
    "* Video 6 introduces another collection type known as `tuples`. "
   ]
  },
  {
   "cell_type": "markdown",
   "metadata": {},
   "source": [
    "<a id=\"ref2\"></a>\n",
    "<h2>Mutability</h2>\n",
    "\n",
    "<div align=\"right\"><a href=\"#ref00\">back to top</a></div>"
   ]
  },
  {
   "cell_type": "markdown",
   "metadata": {},
   "source": [
    "Some Python collection types are amenable to being changed and some are not. If a type is able to be changed, then it is said to be mutable. If the type is not able to be changed then it is said to be immutable. This will be expanded upon below."
   ]
  },
  {
   "cell_type": "markdown",
   "metadata": {},
   "source": [
    "### Lists are Mutable"
   ]
  },
  {
   "cell_type": "markdown",
   "metadata": {},
   "source": [
    "Unlike strings, lists are mutable. This means we can change an item in a list by accessing it directly as part of the assignment statement. Using the indexing operator (square brackets) on the left side of an assignment, we can update one of the list items."
   ]
  },
  {
   "cell_type": "code",
   "execution_count": null,
   "metadata": {},
   "outputs": [],
   "source": [
    "fruit = [\"banana\", \"apple\", \"cherry\"]\n",
    "print(fruit)\n",
    "\n",
    "fruit[0] = \"pear\"\n",
    "fruit[-1] = \"orange\"\n",
    "print(fruit)\n"
   ]
  },
  {
   "cell_type": "markdown",
   "metadata": {},
   "source": [
    "An assignment to an element of a list is called item assignment. Item assignment does not work for strings; strings are immutable (more below)."
   ]
  },
  {
   "cell_type": "markdown",
   "metadata": {},
   "source": [
    "By combining assignment with the slice operator we can update several elements at once."
   ]
  },
  {
   "cell_type": "code",
   "execution_count": null,
   "metadata": {},
   "outputs": [],
   "source": [
    "alist = ['a', 'b', 'c', 'd', 'e', 'f']\n",
    "alist[1:3] = ['x', 'y']\n",
    "print(alist)"
   ]
  },
  {
   "cell_type": "markdown",
   "metadata": {},
   "source": [
    "We can also remove elements from a list by assigning the empty list to them."
   ]
  },
  {
   "cell_type": "code",
   "execution_count": null,
   "metadata": {},
   "outputs": [],
   "source": [
    "alist = ['a', 'b', 'c', 'd', 'e', 'f']\n",
    "alist[1:3] = []\n",
    "print(alist)"
   ]
  },
  {
   "cell_type": "markdown",
   "metadata": {},
   "source": [
    "We can even insert elements into a list by squeezing them into an empty slice at the desired location."
   ]
  },
  {
   "cell_type": "code",
   "execution_count": null,
   "metadata": {},
   "outputs": [],
   "source": [
    "alist = ['a', 'd', 'f']\n",
    "alist[1:1] = ['b', 'c']\n",
    "print(alist)\n",
    "alist[4:4] = ['e']\n",
    "print(alist)"
   ]
  },
  {
   "cell_type": "markdown",
   "metadata": {},
   "source": [
    "### Strings are immutable"
   ]
  },
  {
   "cell_type": "markdown",
   "metadata": {},
   "source": [
    "Something that makes strings different from some other Python collection types is that you are not allowed to modify the individual characters in the collection. It is tempting to use the `[]` operator on the left side of an assignment, with the intention of changing a character in a string. For example, in the following code, we would like to change the first letter of `greeting`."
   ]
  },
  {
   "cell_type": "code",
   "execution_count": null,
   "metadata": {},
   "outputs": [],
   "source": [
    "greeting = \"Hello, world!\"\n",
    "greeting[0] = 'J'            # ERROR!\n",
    "print(greeting)\n"
   ]
  },
  {
   "cell_type": "markdown",
   "metadata": {},
   "source": [
    "Instead of producing the output `Jello, world!`, this code produces the runtime error `TypeError: 'str' object does not support item assignment`.\n",
    "\n",
    "Strings are immutable, which means you cannot change an existing string. The best you can do is create a new string that is derived from the original."
   ]
  },
  {
   "cell_type": "code",
   "execution_count": null,
   "metadata": {},
   "outputs": [],
   "source": [
    "greeting = \"Hello, world!\"\n",
    "newGreeting = 'J' + greeting[1:]\n",
    "print(newGreeting)\n",
    "print(greeting)          # same as it was\n"
   ]
  },
  {
   "cell_type": "markdown",
   "metadata": {},
   "source": [
    "The solution here is to *concatenate* a new first letter onto a slice of `greeting`. This operation has no effect on the original string.\n",
    "\n",
    "While it’s possible to make up new variable names each time we make changes to existing values, it could become difficult to keep track of them all."
   ]
  },
  {
   "cell_type": "code",
   "execution_count": null,
   "metadata": {},
   "outputs": [],
   "source": [
    "phrase = \"many moons\"\n",
    "phrase_expanded = phrase + \" and many stars\"\n",
    "phrase_larger = phrase_expanded + \" litter\"\n",
    "phrase_complete = \"M\" + phrase_larger[1:] + \"the night sky.\"\n",
    "excited_phrase_complete = phrase_complete[:-1] + \"!\"\n"
   ]
  },
  {
   "cell_type": "markdown",
   "metadata": {},
   "source": [
    "The more that you change the string, the more difficult it is to come up with a new variable to use. It’s perfectly acceptable to reassign the value to the same variable name in this case."
   ]
  },
  {
   "cell_type": "code",
   "execution_count": null,
   "metadata": {},
   "outputs": [],
   "source": [
    "phrase = \"many moons\"\n",
    "print(phrase)\n",
    "\n",
    "phrase = phrase + \" and many stars\"\n",
    "print(phrase)"
   ]
  },
  {
   "cell_type": "markdown",
   "metadata": {},
   "source": [
    "### Tuples are Immutable"
   ]
  },
  {
   "cell_type": "markdown",
   "metadata": {},
   "source": [
    "As with strings, if we try to use item assignment to modify one of the elements of a tuple, we get an error. In fact, that’s the key difference between lists and tuples: tuples are like immutable lists. None of the operations on lists that mutate them are available for tuples. Once a tuple is created, it can’t be changed.\n",
    "\n",
    "```\n",
    "julia[0] = 'X'  # TypeError: 'tuple' object does not support item assignment\n",
    "```"
   ]
  },
  {
   "cell_type": "markdown",
   "metadata": {},
   "source": [
    "**Have a go:**\n",
    "1. What is printed by the following statements?"
   ]
  },
  {
   "cell_type": "code",
   "execution_count": null,
   "metadata": {},
   "outputs": [],
   "source": [
    "alist = [4,2,8,6,5]\n",
    "alist[2] = True\n",
    "print(alist)"
   ]
  },
  {
   "cell_type": "markdown",
   "metadata": {},
   "source": [
    "```\n",
    "A. [4,2,True,8,6,5]\n",
    "B. [4,2,True,6,5]\n",
    "C. Error - illegal to assign\n",
    "```\n"
   ]
  },
  {
   "cell_type": "markdown",
   "metadata": {},
   "source": [
    "<div align=\"right\">\n",
    "<a href=\"#q98771\" class=\"btn btn-default\" data-toggle=\"collapse\">Click here for the answer</a>\n",
    "\n",
    "</div>\n",
    "<div id=\"q98771\" class=\"collapse\">\n",
    "\n",
    "```\n",
    "B. [42,True,6,5] \n",
    "(Yes, the value True is placed in the list at index 2. It replaces 8.)                                                                    \n",
    "```\n",
    "\n",
    "</div>"
   ]
  },
  {
   "cell_type": "markdown",
   "metadata": {},
   "source": [
    "2. What is printed by the following statements?"
   ]
  },
  {
   "cell_type": "code",
   "execution_count": null,
   "metadata": {},
   "outputs": [],
   "source": [
    "s = \"Ball\"\n",
    "s[0] = \"C\"\n",
    "print(s)"
   ]
  },
  {
   "cell_type": "markdown",
   "metadata": {},
   "source": [
    "```\n",
    "A. Ball\n",
    "B. Call\n",
    "C. Error\n",
    "```"
   ]
  },
  {
   "cell_type": "markdown",
   "metadata": {},
   "source": [
    "<div align=\"right\">\n",
    "<a href=\"#q98881\" class=\"btn btn-default\" data-toggle=\"collapse\">Click here for the answer</a>\n",
    "\n",
    "</div>\n",
    "<div id=\"q98881\" class=\"collapse\">\n",
    "\n",
    "```\n",
    "C. Error. (Yes, strings are immmutable.)\n",
    "    \n",
    "```\n",
    "\n",
    "</div>"
   ]
  },
  {
   "cell_type": "markdown",
   "metadata": {},
   "source": [
    "<a id=\"ref3\"></a>\n",
    "<h2>List Element Deletion</h2>\n",
    "\n",
    "<div align=\"right\"><a href=\"#ref00\">back to top</a></div>"
   ]
  },
  {
   "cell_type": "markdown",
   "metadata": {},
   "source": [
    "Using slices to delete list elements can be awkward and is error-prone. Python provides an alternative that is more readable. The `del` statement removes an element from a list by using its position."
   ]
  },
  {
   "cell_type": "code",
   "execution_count": null,
   "metadata": {},
   "outputs": [],
   "source": [
    "a = ['one', 'two', 'three']\n",
    "del a[1]\n",
    "print(a)\n",
    "\n",
    "alist = ['a', 'b', 'c', 'd', 'e', 'f']\n",
    "del alist[1:5]\n",
    "print(alist)\n"
   ]
  },
  {
   "cell_type": "markdown",
   "metadata": {},
   "source": [
    "As you might expect, `del` handles negative indices and causes a runtime error if the index is out of range. In addition, you can use a slice as an index for `del`. As usual, slices select all the elements up to, but not including, the second index. Why not experiment in the cell below."
   ]
  },
  {
   "cell_type": "code",
   "execution_count": null,
   "metadata": {},
   "outputs": [],
   "source": [
    "alist = ['a', 'b', 'c', 'd', 'e', 'f']\n",
    "# try using del on negative indices, slices \n",
    "# and perhaps indices which go out of range.....\n",
    "\n",
    "\n"
   ]
  },
  {
   "cell_type": "markdown",
   "metadata": {},
   "source": [
    "<a id=\"ref4\"></a>\n",
    "<h2>Objects and References</h2>\n",
    "\n",
    "<div align=\"right\"><a href=\"#ref00\">back to top</a></div>"
   ]
  },
  {
   "cell_type": "markdown",
   "metadata": {},
   "source": [
    "If we execute these assignment statements,"
   ]
  },
  {
   "cell_type": "code",
   "execution_count": null,
   "metadata": {},
   "outputs": [],
   "source": [
    "a = \"banana\"\n",
    "b = \"banana\""
   ]
  },
  {
   "cell_type": "markdown",
   "metadata": {},
   "source": [
    "we know that `a` and `b` will refer to a string with the letters `\"banana\"`. But we don’t know yet whether they point to the same string."
   ]
  },
  {
   "cell_type": "markdown",
   "metadata": {},
   "source": [
    "There are two possible ways the Python interpreter could arrange its internal states:"
   ]
  },
  {
   "cell_type": "markdown",
   "metadata": {},
   "source": [
    "<a><img src=\"figures/refdiag1.png\" width=\"280\" height=\"180\" border=\"10\" /></a>\n",
    "<np></np>\n",
    "<center><b>Figure 1(a)</b></center>\n",
    "<br></br>"
   ]
  },
  {
   "cell_type": "markdown",
   "metadata": {},
   "source": [
    "<a><img src=\"figures/refdiag2.png\" width=\"280\" height=\"180\" border=\"10\" /></a>\n",
    "<np></np>\n",
    "<center><b>Figure 1(b)</b></center><br></br>"
   ]
  },
  {
   "cell_type": "markdown",
   "metadata": {},
   "source": [
    "In Figure 1(a), `a` and `b` refer to two different string objects that have the same value. In Figure 1(b), they refer to the same object. Remember that an object is something a variable can refer to.\n",
    "\n",
    "We can test whether two variables refer to the same object using the `is` operator. The `is` operator will return true if both references are to the same object. In other words Figure 1(b). Try our example from above."
   ]
  },
  {
   "cell_type": "code",
   "execution_count": null,
   "metadata": {},
   "outputs": [],
   "source": [
    "a = \"banana\"\n",
    "b = \"banana\"\n",
    "\n",
    "print(a is b)"
   ]
  },
  {
   "cell_type": "markdown",
   "metadata": {},
   "source": [
    "The answer is `True`. This tells us that both `a` and `b` refer to the same object, and that it is the second of the two reference diagrams that describes the relationship. Python assigns every object a unique id and when we ask `a is b` what Python is really doing is checking to see if `id(a) == id(b)`."
   ]
  },
  {
   "cell_type": "code",
   "execution_count": null,
   "metadata": {},
   "outputs": [],
   "source": [
    "a = \"banana\"\n",
    "b = \"banana\"\n",
    "\n",
    "print(id(a))\n",
    "print(id(b))"
   ]
  },
  {
   "cell_type": "markdown",
   "metadata": {},
   "source": [
    "Since strings are immutable, the Python interpreter often optimises resources by making two names that refer to the same string value refer to the same object. You shouldn’t rely on this (use `==` to compare strings instead of `is`), but don’t be surprised if you find that two variables each bound to the same string have the same id.\n",
    "\n",
    "This is not the case with lists, which don't share and id just because they have the same contents. Consider the following example. Here, `a` and `b` refer to two different lists, each of which happens to have the same element values. They need to have different ids so that mutations of list `a` do not affect list `b`."
   ]
  },
  {
   "cell_type": "code",
   "execution_count": null,
   "metadata": {},
   "outputs": [],
   "source": [
    "a = [81,82,83]\n",
    "b = [81,82,83]\n",
    "\n",
    "print(a is b)\n",
    "\n",
    "print(a == b)\n",
    "\n",
    "print(id(a))\n",
    "print(id(b))"
   ]
  },
  {
   "cell_type": "markdown",
   "metadata": {},
   "source": [
    "The reference diagram for this example looks like this:\n"
   ]
  },
  {
   "cell_type": "markdown",
   "metadata": {},
   "source": [
    "<a><img src=\"figures/refdiag3.png\" width=\"280\" height=\"180\" border=\"10\" /></a>\n",
    "<np></np>\n",
    "<center><b>Figure 2</b></center>"
   ]
  },
  {
   "cell_type": "markdown",
   "metadata": {},
   "source": [
    "`a` and `b` have identical values but do not refer to the same object. Because their contents are identical, `a==b` evaluates to `True` but because they do not refer to the same object, `a is b` evaluates to `False`."
   ]
  },
  {
   "cell_type": "markdown",
   "metadata": {},
   "source": [
    "<a id=\"ref5\"></a>\n",
    "<h2>Aliasing</h2>\n",
    "\n",
    "<div align=\"right\"><a href=\"#ref00\">back to top</a></div>"
   ]
  },
  {
   "cell_type": "markdown",
   "metadata": {},
   "source": [
    "Since variables refer to objects, if we assign one variable to another, both variables refer to the same object:"
   ]
  },
  {
   "cell_type": "code",
   "execution_count": null,
   "metadata": {},
   "outputs": [],
   "source": [
    "a = [81, 82, 83]\n",
    "b = a\n",
    "print(a is b)\n"
   ]
  },
  {
   "cell_type": "markdown",
   "metadata": {},
   "source": [
    "In this case, the reference diagram looks like this:"
   ]
  },
  {
   "cell_type": "markdown",
   "metadata": {},
   "source": [
    "<a><img src=\"figures/refdiag4.png\" width=\"280\" height=\"180\" border=\"10\" /></a>\n",
    "<np></np>\n",
    "<center><b>Figure 3</b></center>"
   ]
  },
  {
   "cell_type": "markdown",
   "metadata": {},
   "source": [
    "Because the same list has two different names, `a` and `b`, we say that it is aliased. Changes made with one alias affects the other. In the code below, you can see that `a` and `b` refer to the same list after executing the assignment statement `b = a`."
   ]
  },
  {
   "cell_type": "code",
   "execution_count": null,
   "metadata": {},
   "outputs": [],
   "source": [
    "a = [81,82,83]\n",
    "b = [81,82,83]\n",
    "print(a == b)\n",
    "print(a is b)\n",
    "print(id(a)) # notice how the id's change or don't change in this cell\n",
    "print(id(b))\n",
    "print()\n",
    "\n",
    "b = a\n",
    "print(a == b)\n",
    "print(a is b)\n",
    "print(id(a))\n",
    "print(id(b))\n",
    "print()\n",
    "\n",
    "b[0] = 5\n",
    "print(a)\n",
    "print(id(a))\n",
    "print(id(b))\n"
   ]
  },
  {
   "cell_type": "markdown",
   "metadata": {},
   "source": [
    "Although this behavior can be useful, it is sometimes unexpected or undesirable. In general it is safer to avoid aliasing when working with mutable objects. Of course, for immutable objects, there’s no problem. That’s why Python is free to alias strings and integers when it sees an opportunity to economise."
   ]
  },
  {
   "cell_type": "markdown",
   "metadata": {},
   "source": [
    "**Have a go:**\n",
    "1. What is the value of `y` after the following code has been evaluated:"
   ]
  },
  {
   "cell_type": "code",
   "execution_count": null,
   "metadata": {},
   "outputs": [],
   "source": [
    "w = ['Jamboree', 'get-together', 'party']\n",
    "y = ['celebration']\n",
    "y = w"
   ]
  },
  {
   "cell_type": "markdown",
   "metadata": {},
   "source": [
    "```python\n",
    "A. ['Jamboree', 'get-together', 'party']\n",
    "B. ['celebration']\n",
    "C. ['celebration', 'Jamboree', 'get-together', 'party']\n",
    "D. ['Jamboree', 'get-together', 'party', 'celebration']\n",
    "```"
   ]
  },
  {
   "cell_type": "markdown",
   "metadata": {},
   "source": [
    "<div align=\"right\">\n",
    "<a href=\"#q1234\" class=\"btn btn-default\" data-toggle=\"collapse\">Click here for the answer</a>\n",
    "\n",
    "</div>\n",
    "<div id=\"q1234\" class=\"collapse\">\n",
    "\n",
    "```python\n",
    "A. ['Jamboree', 'get-together', 'party']\n",
    "```\n",
    "```\n",
    "(Yes, the value of y has been reassigned to the value of w.)\n",
    "    \n",
    "```\n",
    "\n",
    "</div>"
   ]
  },
  {
   "cell_type": "markdown",
   "metadata": {},
   "source": [
    "2. What is printed by the following statements?"
   ]
  },
  {
   "cell_type": "code",
   "execution_count": null,
   "metadata": {},
   "outputs": [],
   "source": [
    "alist = [4,2,8,6,5]\n",
    "blist = alist\n",
    "blist[3] = 999\n",
    "print(alist)"
   ]
  },
  {
   "cell_type": "markdown",
   "metadata": {},
   "source": [
    "```python\n",
    "A. [4,2,8,6,5]\n",
    "B. [4,2,8,999,5]\n",
    "```"
   ]
  },
  {
   "cell_type": "markdown",
   "metadata": {},
   "source": [
    "<div align=\"right\">\n",
    "<a href=\"#q12345\" class=\"btn btn-default\" data-toggle=\"collapse\">Click here for the answer</a>\n",
    "\n",
    "</div>\n",
    "<div id=\"q12345\" class=\"collapse\">\n",
    "\n",
    "```python\n",
    "B.[4,2,8,999,5] \n",
    "```\n",
    "```\n",
    "(Yes, since alist and blist both reference the same list, \n",
    "changes to one also change the other.)\n",
    "    \n",
    "```\n",
    "\n",
    "</div>"
   ]
  },
  {
   "cell_type": "markdown",
   "metadata": {},
   "source": [
    "<a id=\"ref6\"></a>\n",
    "<h2>Cloning Lists</h2>\n",
    "\n",
    "<div align=\"right\"><a href=\"#ref00\">back to top</a></div>\n",
    "\n",
    "If we want to modify a list and also keep a copy of the original, we need to be able to make a copy of the list itself, not just the reference. This process is sometimes called cloning, to avoid the ambiguity of the word copy.\n",
    "\n",
    "The easiest way to clone a list is to use the slice operator.\n",
    "\n",
    "Taking any slice of `a` creates a new list. In this case the slice happens to consist of the whole list."
   ]
  },
  {
   "cell_type": "code",
   "execution_count": null,
   "metadata": {},
   "outputs": [],
   "source": [
    "a = [81,82,83]\n",
    "print(id(a))\n",
    "print()\n",
    "\n",
    "b = a[:]       # clone using a `full` slice\n",
    "print(a == b)\n",
    "print(a is b)\n",
    "print(id(a))\n",
    "print(id(b))\n",
    "print()\n",
    "\n",
    "b[0] = 5\n",
    "\n",
    "print(a)\n",
    "print(b)\n",
    "print(id(a))\n",
    "print(id(b))\n"
   ]
  },
  {
   "cell_type": "markdown",
   "metadata": {},
   "source": [
    "Now we are free to make changes to `b` without worrying about `a`. Again, we can see below that `a` and `b` are entirely different list objects."
   ]
  },
  {
   "cell_type": "markdown",
   "metadata": {},
   "source": [
    "**Have a go:**\n",
    "1. What is printed by the following statements?"
   ]
  },
  {
   "cell_type": "code",
   "execution_count": null,
   "metadata": {},
   "outputs": [],
   "source": [
    "alist = [4,2,8,6,5]\n",
    "blist = alist * 2\n",
    "blist[3] = 999\n",
    "print(alist)"
   ]
  },
  {
   "cell_type": "markdown",
   "metadata": {},
   "source": [
    "```python\n",
    "A. [4,2,8,999,5,4,2,8,6,5]\n",
    "B. [4,2,8,999,5]\n",
    "C. [4,2,8,6,5]\n",
    "```"
   ]
  },
  {
   "cell_type": "markdown",
   "metadata": {},
   "source": [
    "<div align=\"right\">\n",
    "<a href=\"#q135\" class=\"btn btn-default\" data-toggle=\"collapse\">Click here for the answer</a>\n",
    "\n",
    "</div>\n",
    "<div id=\"q135\" class=\"collapse\">\n",
    "\n",
    "```python\n",
    "C. [4,2,8,6,5]\n",
    "```\n",
    "```\n",
    "(Yes, alist was unchanged by the assignment statement. blist was a copy of the references in alist.)\n",
    "    \n",
    "```\n",
    "\n",
    "</div>"
   ]
  },
  {
   "cell_type": "markdown",
   "metadata": {},
   "source": [
    "<a id=\"ref7\"></a>\n",
    "<h2>Mutating Methods</h2>\n",
    "\n",
    "<div align=\"right\"><a href=\"#ref00\">back to top</a></div>\n",
    "\n",
    "You’ve seen some methods already, like the `count` and `index` methods. Methods are either mutating or non-mutating. Mutating methods are those that change the object; non-mutating methods do not change the object.\n",
    "\n",
    "The `count` and `index` methods are both non-mutating. `count` returns the number of occurances of the argument given but does not change the original string or list. Similarly, `index` returns the leftmost occurance of the argument but does not change the original string or list. Below we’ll talk about list methods in general. Keep an eye out for methods that are mutating!"
   ]
  },
  {
   "cell_type": "markdown",
   "metadata": {},
   "source": [
    "### List Methods\n",
    "\n",
    "The dot `.` operator can also be used to access built-in methods of list objects. `append` is a list method which adds the argument passed to it to the end of the list. Continuing with this example, we show several other list methods. Many of them are easy to understand."
   ]
  },
  {
   "cell_type": "code",
   "execution_count": null,
   "metadata": {},
   "outputs": [],
   "source": [
    "mylist = []\n",
    "mylist.append(5)\n",
    "mylist.append(27)\n",
    "mylist.append(3)\n",
    "mylist.append(12)\n",
    "print(mylist)\n",
    "print()\n",
    "\n",
    "mylist.insert(1, 12)\n",
    "print(mylist)\n",
    "print(mylist.count(12))\n",
    "print()\n",
    "\n",
    "print(mylist.index(3))\n",
    "print(mylist.count(5))\n",
    "print()\n",
    "\n",
    "mylist.reverse()\n",
    "print(mylist)\n",
    "print()\n",
    "\n",
    "mylist.sort()\n",
    "print(mylist)\n",
    "print()\n",
    "\n",
    "mylist.remove(5)\n",
    "print(mylist)\n",
    "print()\n",
    "\n",
    "lastitem = mylist.pop()\n",
    "print(lastitem)\n",
    "print(mylist)\n",
    "print(mylist.pop())\n",
    "print(mylist)"
   ]
  },
  {
   "cell_type": "markdown",
   "metadata": {},
   "source": [
    "There are two ways to use the `pop` method. The first, with no parameter, will remove and return the last item of the list. If you provide a parameter for the position, `pop` will remove and return the item at that position. Either way the list is changed.\n",
    "\n",
    "The following table provides a summary of the list methods shown above. The column titled Result gives an explanation as to what the return value is as it relates to the new value of the list. The term mutator means that the list is changed by the method but nothing is returned (actually `None` is returned). A hybrid method is one that not only changes the list but also returns a value as its result. Finally, if the result is simply a return, then the list is unchanged by the method.\n",
    "\n",
    "Be sure to experiment with these methods to gain a better understanding of what they do."
   ]
  },
  {
   "cell_type": "markdown",
   "metadata": {},
   "source": [
    "<a><img src=\"figures/methods_table.png\" width=\"480\" height=\"180\" border=\"10\" /></a>\n",
    "\n",
    "<np></np>\n",
    "\n",
    "<center><b>Figure 4</b></center>\n"
   ]
  },
  {
   "cell_type": "markdown",
   "metadata": {},
   "source": [
    "Full details for these and others can be found in the [Python Documentation](https://docs.python.org/3/library/stdtypes.html#sequence-types-str-bytes-bytearray-list-tuple-range).\n",
    "\n",
    "It is important to remember that methods like `append`, `sort`, and `reverse` all return `None`. They change the list; they don’t produce a new list. So, while we did reassignment to increment a number, as in `x = x + 1`, doing the analogous thing with these operations will lose the entire list contents (see line 8 below)."
   ]
  },
  {
   "cell_type": "code",
   "execution_count": null,
   "metadata": {},
   "outputs": [],
   "source": [
    "mylist = []\n",
    "mylist.append(5)\n",
    "mylist.append(27)\n",
    "mylist.append(3)\n",
    "mylist.append(12)\n",
    "print(mylist)\n",
    "print()\n",
    "\n",
    "mylist = mylist.append(28)   #probably an error\n",
    "print(mylist)"
   ]
  },
  {
   "cell_type": "markdown",
   "metadata": {},
   "source": [
    "**Have a go:**\n",
    "1. What is printed by the following statements?"
   ]
  },
  {
   "cell_type": "code",
   "execution_count": null,
   "metadata": {},
   "outputs": [],
   "source": [
    "alist = [4,2,8,6,5]\n",
    "alist.append(True)\n",
    "alist.append(False)\n",
    "print(alist)"
   ]
  },
  {
   "cell_type": "markdown",
   "metadata": {},
   "source": [
    "```python\n",
    "A. [4,2,8,6,5,False,True]\n",
    "B. [4,2,8,6,5,True,False]\n",
    "C. [True,False,4,2,8,6,5]\n",
    "```"
   ]
  },
  {
   "cell_type": "markdown",
   "metadata": {},
   "source": [
    "<div align=\"right\">\n",
    "<a href=\"#q1395\" class=\"btn btn-default\" data-toggle=\"collapse\">Click here for the answer</a>\n",
    "\n",
    "</div>\n",
    "<div id=\"q1395\" class=\"collapse\">\n",
    "\n",
    "```python\n",
    "B. [4,2,8,6,5,True,False]\n",
    "```\n",
    "```\n",
    "(Yes, each item is added to the end of the list.)\n",
    "    \n",
    "```\n",
    "\n",
    "</div>"
   ]
  },
  {
   "cell_type": "markdown",
   "metadata": {},
   "source": [
    "<a id=\"ref8\"></a>\n",
    "<h2>Append versus Concatenate</h2>\n",
    "\n",
    "<div align=\"right\"><a href=\"#ref00\">back to top</a></div>\n",
    "\n",
    "The `append` method adds a new item to the end of a list. It is also possible to add a new item to the end of a list by using the concatenation operator `+`. However, you need to be careful.\n",
    "\n",
    "Consider the following example. The original list has 3 integers. We want to add the word “cat” to the end of the list."
   ]
  },
  {
   "cell_type": "code",
   "execution_count": null,
   "metadata": {},
   "outputs": [],
   "source": [
    "origlist = [45,32,88]\n",
    "print(id(origlist))\n",
    "\n",
    "origlist.append(\"cat\")\n",
    "print(origlist)\n",
    "print(id(origlist))\n"
   ]
  },
  {
   "cell_type": "markdown",
   "metadata": {},
   "source": [
    "Here we have used `append` which simply modifies the list. In order to use concatenation, we need to write an assignment statement that uses the accumulator pattern:"
   ]
  },
  {
   "cell_type": "code",
   "execution_count": null,
   "metadata": {},
   "outputs": [],
   "source": [
    "origlist = [45,32,88]\n",
    "print(id(origlist))\n",
    "print()\n",
    "\n",
    "origlist = origlist + [\"cat\"]\n",
    "print(origlist)\n",
    "print(id(origlist))"
   ]
  },
  {
   "cell_type": "markdown",
   "metadata": {},
   "source": [
    "Note that the word “cat” needs to be placed in a list since the concatenation operator needs two lists to do its work.\n",
    "\n",
    "As evidenced above by printing the `id` values, when using `append` the original list is simply modified. On the other hand, with concatenation, an entirely new list is created. "
   ]
  },
  {
   "cell_type": "markdown",
   "metadata": {},
   "source": [
    "This might initially be difficult to understand since two lists can appear to be the same. In Python, every object has a unique identification tag. We have demonstrated this above by calling the built-in function `id` to return an object's unique id. As seen, the function takes a single parameter, the object that you are interested in knowing about. You will have noticed also that an id is (usually) a very large integer value (corresponding to an address in memory). The next few cells provide some reinforcemnt of these ideas."
   ]
  },
  {
   "cell_type": "code",
   "execution_count": null,
   "metadata": {},
   "outputs": [],
   "source": [
    "alist = [4, 5, 6]\n",
    "id(alist)"
   ]
  },
  {
   "cell_type": "code",
   "execution_count": null,
   "metadata": {},
   "outputs": [],
   "source": [
    "origlist = [45,32,88]\n",
    "print(\"origlist:\", origlist)\n",
    "print(\"the identifier:\", id(origlist))             #id of the list before changes\n",
    "newlist = origlist + ['cat']\n",
    "print(\"newlist:\", newlist)\n",
    "print(\"the identifier:\", id(newlist))              #id of the list after concatentation\n",
    "origlist.append('cat')\n",
    "print(\"origlist:\", origlist)\n",
    "print(\"the identifier:\", id(origlist))             #id of the list after append is used\n"
   ]
  },
  {
   "cell_type": "markdown",
   "metadata": {},
   "source": [
    "Note how even though `newlist` and `origlist` appear the same, they have different identifiers.\n",
    "\n",
    "We have previously described `x += 1` as a shorthand for `x = x + 1`. With lists, `+=` is actually a little different. In particular, `origlist += [“cat”]` appends “cat” to the end of the original list object. If there is an alias for `origlist`, this can make a difference, as in the code below. See if you can follow (or better still predict changes in the reference diagrams)."
   ]
  },
  {
   "cell_type": "code",
   "execution_count": null,
   "metadata": {},
   "outputs": [],
   "source": [
    "origlist = [45,32,88]\n",
    "aliaslist = origlist\n",
    "origlist += [\"cat\"]\n",
    "origlist = origlist + [\"cow\"]\n"
   ]
  },
  {
   "cell_type": "markdown",
   "metadata": {},
   "source": [
    "```python\n",
    "origlist = [45,32,88]\n",
    "\n",
    "```\n",
    "\n",
    "<a><img src=\"figures/gf1.png\" width=\"280\" height=\"180\" border=\"10\" /></a>\n",
    "\n",
    "<np></np>\n",
    "\n",
    "<center><b>Figure 5(a)</b></center>\n"
   ]
  },
  {
   "cell_type": "markdown",
   "metadata": {},
   "source": [
    "```python\n",
    "\n",
    "aliaslist = origlist\n",
    "\n",
    "```\n",
    "<a><img src=\"figures/gf2.png\" width=\"280\" height=\"180\" border=\"10\" /></a>\n",
    "\n",
    "<np></np>\n",
    "\n",
    "<center><b>Figure 5(b)</b></center>\n"
   ]
  },
  {
   "cell_type": "markdown",
   "metadata": {},
   "source": [
    "```python\n",
    "\n",
    "origlist += [\"cat\"]\n",
    "\n",
    "```\n",
    "<a><img src=\"figures/gf3.png\" width=\"280\" height=\"180\" border=\"10\" /></a>\n",
    "\n",
    "<np></np>\n",
    "\n",
    "<center><b>Figure 5(c)</b></center>\n"
   ]
  },
  {
   "cell_type": "markdown",
   "metadata": {},
   "source": [
    "```python\n",
    "\n",
    "origlist = origlist + [\"cow\"]\n",
    "\n",
    "```\n",
    "<a><img src=\"figures/gf4.png\" width=\"280\" height=\"180\" border=\"10\" /></a>\n",
    "\n",
    "<np></np>\n",
    "\n",
    "<center><b>Figure 5(d)</b></center>\n"
   ]
  },
  {
   "cell_type": "markdown",
   "metadata": {},
   "source": [
    "We can use `append` or concatenate repeatedly to create new objects. If we had a string and wanted to make a new list where each element in the list is a character in the string, where do you think we should start? In both cases, we’ll need to first create a variable to store the new object.\n"
   ]
  },
  {
   "cell_type": "code",
   "execution_count": null,
   "metadata": {},
   "outputs": [],
   "source": [
    "st = \"Warmth\"\n",
    "a = []"
   ]
  },
  {
   "cell_type": "markdown",
   "metadata": {},
   "source": [
    "Then, character by character, you can add to the empty list. The process looks different if you concatentate rather than  `append`."
   ]
  },
  {
   "cell_type": "code",
   "execution_count": null,
   "metadata": {},
   "outputs": [],
   "source": [
    "st = \"Warmth\"\n",
    "a = []\n",
    "print(a)\n",
    "b = a + [st[0]]\n",
    "print(b)\n",
    "c = b + [st[1]]\n",
    "print(c)\n",
    "d = c + [st[2]]\n",
    "print(d)\n",
    "e = d + [st[3]]\n",
    "print(d)\n",
    "f = e + [st[4]]\n",
    "print(f)\n",
    "g = f + [st[5]]\n",
    "print(g)\n"
   ]
  },
  {
   "cell_type": "code",
   "execution_count": null,
   "metadata": {},
   "outputs": [],
   "source": [
    "st = \"Warmth\"\n",
    "a = []\n",
    "print(a)\n",
    "a.append(st[0])\n",
    "print(a)\n",
    "a.append(st[1])\n",
    "print(a)\n",
    "a.append(st[2])\n",
    "print(a)\n",
    "a.append(st[3])\n",
    "print(a)\n",
    "a.append(st[4])\n",
    "print(a)\n",
    "a.append(st[5])\n",
    "print(a)"
   ]
  },
  {
   "cell_type": "markdown",
   "metadata": {},
   "source": [
    "This might become rather tedious if the string is long. Can you think of a better way to do this?"
   ]
  },
  {
   "cell_type": "code",
   "execution_count": null,
   "metadata": {},
   "outputs": [],
   "source": [
    "# write your code here\n",
    "\n",
    "\n"
   ]
  },
  {
   "cell_type": "markdown",
   "metadata": {},
   "source": [
    "<div align=\"left\">\n",
    "<a href=\"#q13295uu\" class=\"btn btn-default\" data-toggle=\"collapse\">Did you get this?</a>\n",
    "\n",
    "</div>\n",
    "<div id=\"q13295uu\" class=\"collapse\">\n",
    "\n",
    "```python\n",
    "st = \"Warmth\"\n",
    "a = []\n",
    "for char in st:\n",
    "    a.append(char)\n",
    "print(a)\n",
    "    \n",
    "```\n",
    "\n",
    "</div>"
   ]
  },
  {
   "cell_type": "markdown",
   "metadata": {},
   "source": [
    "**Have a go:**\n",
    "1. What is printed by the following statements?"
   ]
  },
  {
   "cell_type": "code",
   "execution_count": null,
   "metadata": {},
   "outputs": [],
   "source": [
    "alist = [4,2,8,6,5]\n",
    "alist = alist + 999\n",
    "print(alist)"
   ]
  },
  {
   "cell_type": "markdown",
   "metadata": {},
   "source": [
    "```python\n",
    "A. [4,2,8,6,5,999]\n",
    "```\n",
    "```\n",
    "B. Error, you cannot concatenate a list with an integer.\n",
    "```"
   ]
  },
  {
   "cell_type": "markdown",
   "metadata": {},
   "source": [
    "<div align=\"right\">\n",
    "<a href=\"#q13295\" class=\"btn btn-default\" data-toggle=\"collapse\">Click here for the answer</a>\n",
    "\n",
    "</div>\n",
    "<div id=\"q13295\" class=\"collapse\">\n",
    "\n",
    "```\n",
    "B. Error, you cannot concatenate a list with an integer.\n",
    "(Yes, in order to perform concatenation you would need \n",
    "to write alist+[999]. You must have two lists.)\n",
    "    \n",
    "```\n",
    "\n",
    "</div>"
   ]
  },
  {
   "cell_type": "markdown",
   "metadata": {},
   "source": [
    "<a id=\"ref9\"></a>\n",
    "<h2>Non-mutating Methods on Strings</h2>\n",
    "\n",
    "<div align=\"right\"><a href=\"#ref00\">back to top</a></div>\n",
    "\n",
    "There are a wide variety of methods for string objects. Run the following cell."
   ]
  },
  {
   "cell_type": "code",
   "execution_count": null,
   "metadata": {},
   "outputs": [],
   "source": [
    "ss = \"Hello, World\"\n",
    "print(ss.upper())\n",
    "\n",
    "tt = ss.lower()\n",
    "print(tt)\n",
    "print(ss)"
   ]
  },
  {
   "cell_type": "markdown",
   "metadata": {},
   "source": [
    "In this example, `upper` is a method that can be invoked on any string object to create a new string in which all the characters are in uppercase. `lower` works in a similar fashion changing all characters in the string to lowercase. (The original string `ss` remains unchanged. A new string `tt` is created.)\n",
    "\n",
    "You’ve already seen a few methods, such as `count` and `index`, that work with strings and are non-mutating. In addition to those, and `upper` and `lower`, the following table provides a summary of some other useful string methods. There are a few coded examples that follow so that you can try them out."
   ]
  },
  {
   "cell_type": "markdown",
   "metadata": {},
   "source": [
    "<a><img src=\"figures/methods_table2.png\" width=\"580\" height=\"180\" border=\"10\" /></a>\n",
    "\n",
    "<np></np>\n",
    "\n",
    "<center><b>Figure 6</b></center>"
   ]
  },
  {
   "cell_type": "markdown",
   "metadata": {},
   "source": [
    "You should experiment with these methods so that you understand what they do. Note once again that the methods that return strings do not change the original. You can also consult the [Python documentation](https://docs.python.org/3/library/stdtypes.html#string-methods) for strings."
   ]
  },
  {
   "cell_type": "markdown",
   "metadata": {},
   "source": [
    "**Example 1:**"
   ]
  },
  {
   "cell_type": "code",
   "execution_count": null,
   "metadata": {},
   "outputs": [],
   "source": [
    "ss = \"    Hello, World    \"\n",
    "\n",
    "els = ss.count(\"l\")\n",
    "print(els)\n",
    "\n",
    "print(\"***\"+ss.strip()+\"***\")\n",
    "\n",
    "news = ss.replace(\"o\", \"***\")\n",
    "print(news)"
   ]
  },
  {
   "cell_type": "markdown",
   "metadata": {},
   "source": [
    "**Example 2:**"
   ]
  },
  {
   "cell_type": "code",
   "execution_count": null,
   "metadata": {},
   "outputs": [],
   "source": [
    "food = \"Fish and chips\"\n",
    "print(food.upper())"
   ]
  },
  {
   "cell_type": "markdown",
   "metadata": {},
   "source": [
    "**Have a go:**\n",
    "1.  What is printed by the following statements?"
   ]
  },
  {
   "cell_type": "code",
   "execution_count": null,
   "metadata": {},
   "outputs": [],
   "source": [
    "s = \"monty python\"\n",
    "print(s.count(\"o\") + s.count(\"p\"))"
   ]
  },
  {
   "cell_type": "markdown",
   "metadata": {},
   "source": [
    "```python\n",
    "A. 0\n",
    "B. 2\n",
    "C. 3\n",
    "```"
   ]
  },
  {
   "cell_type": "markdown",
   "metadata": {},
   "source": [
    "<div align=\"right\">\n",
    "<a href=\"#q13555\" class=\"btn btn-default\" data-toggle=\"collapse\">Click here for the answer</a>\n",
    "\n",
    "</div>\n",
    "<div id=\"q13555\" class=\"collapse\">\n",
    "\n",
    "```python\n",
    "C. 3 \n",
    "```\n",
    "```\n",
    "(Yes, add the number of 'o' characters \n",
    " and the number of 'p' characters.)\n",
    "    \n",
    "```\n",
    "\n",
    "</div>"
   ]
  },
  {
   "cell_type": "markdown",
   "metadata": {},
   "source": [
    "2. What is printed by the following statements?"
   ]
  },
  {
   "cell_type": "code",
   "execution_count": null,
   "metadata": {},
   "outputs": [],
   "source": [
    "s = \"python rocks\"\n",
    "print(s[1]*s.index(\"n\"))"
   ]
  },
  {
   "cell_type": "markdown",
   "metadata": {},
   "source": [
    "```python\n",
    "A. yyyyy\n",
    "B. 55555\n",
    "C. n\n",
    "D. Error, you cannot combine those things together.\n",
    "```"
   ]
  },
  {
   "cell_type": "markdown",
   "metadata": {},
   "source": [
    "<div align=\"right\">\n",
    "<a href=\"#q555\" class=\"btn btn-default\" data-toggle=\"collapse\">Click here for the answer</a>\n",
    "\n",
    "</div>\n",
    "<div id=\"q555\" class=\"collapse\">\n",
    "\n",
    "```\n",
    "A. yyyy \n",
    "(Yes, s[1] is y and the index of n is 5, so 5 y characters. It is \n",
    "important to realise that the index method has precedence over \n",
    "the repetition operator. Repetition is done last.)\n",
    "    \n",
    "```\n",
    "\n",
    "</div>"
   ]
  },
  {
   "cell_type": "markdown",
   "metadata": {},
   "source": [
    "### String Format Method"
   ]
  },
  {
   "cell_type": "markdown",
   "metadata": {},
   "source": [
    "Until now, we have created strings with variable content using the `+` operator to concatenate partial strings together. That works, but it’s very hard for people to read or debug a code line that includes variable names and strings and complex expressions. Consider the following:"
   ]
  },
  {
   "cell_type": "code",
   "execution_count": null,
   "metadata": {},
   "outputs": [],
   "source": [
    "name = \"Issy Bopper\"\n",
    "score = -1  # No respect!\n",
    "print(\"Hello \" + name + \". Your score is \" + str(score))"
   ]
  },
  {
   "cell_type": "markdown",
   "metadata": {},
   "source": [
    "Or perhaps more realistically:"
   ]
  },
  {
   "cell_type": "code",
   "execution_count": null,
   "metadata": {},
   "outputs": [],
   "source": [
    "scores = [(\"Issy Bopper\", -1), (\"Tommy H Lad\", 1), (\"You\", 100)]\n",
    "for person in scores:\n",
    "    name = person[0]\n",
    "    score = person[1]\n",
    "    print(\"Hello \" + name + \". Your score is \" + str(score))"
   ]
  },
  {
   "cell_type": "markdown",
   "metadata": {},
   "source": [
    "In this section, we will learn to format the code in a more readable way:\n"
   ]
  },
  {
   "cell_type": "code",
   "execution_count": null,
   "metadata": {},
   "outputs": [],
   "source": [
    "scores = [(\"Issy Bopper\", -1), (\"Tommy H Lad\", 1), (\"You\", 100)]\n",
    "for person in scores:\n",
    "    name = person[0]\n",
    "    score = person[1]\n",
    "    print(\"Hello {}. Your score is {}.\".format(name, score))\n"
   ]
  },
  {
   "cell_type": "markdown",
   "metadata": {},
   "source": [
    "In quizzes a common convention is to use a fill-in-the blanks approach. For instance..\n",
    "\n",
    "```\n",
    "Hello _____!\n",
    "```\n",
    "\n",
    "....you can fill in the name of the person greeted, and combine given text with a chosen insertion. We use this as an analogy: Python has a similar construction, which we could think of as fill-in-the-curly-brackets. The string method `format`, makes substitutions into places in a string enclosed in brackets. Run the following code:"
   ]
  },
  {
   "cell_type": "code",
   "execution_count": null,
   "metadata": {},
   "outputs": [],
   "source": [
    "person = input('Your name: ')\n",
    "greeting = 'Hello {}!'.format(person)\n",
    "print(greeting)"
   ]
  },
  {
   "cell_type": "markdown",
   "metadata": {},
   "source": [
    "There are several new ideas here!\n",
    "\n",
    "The string for the `format` method has a special form, with curly brackets embedded. Such a string is called a format string. Places where brackets are embedded are replaced by the value of an expression taken from the parameter list for the `format` method. There are many variations on the syntax between the brackets. In this case we used the syntax where the first (and only) location in the string with brackets has a substitution made from the first (and only) parameter.\n",
    "\n",
    "In the code above, this new string is assigned to the identifier `greeting`, and then the string is printed.\n",
    "\n",
    "The identifier `greeting` was introduced to break the operations into a clearer sequence of steps. However, since the value of `greeting` is only referenced once, its presence can be eliminated with the more concise version:"
   ]
  },
  {
   "cell_type": "code",
   "execution_count": null,
   "metadata": {},
   "outputs": [],
   "source": [
    "person = input('Enter your name: ')\n",
    "print('Hello {}!'.format(person))"
   ]
  },
  {
   "cell_type": "markdown",
   "metadata": {},
   "source": [
    "There can be multiple substitutions, with data of any type. Next we use floats. Try original price £2.50 with a 7% discount:"
   ]
  },
  {
   "cell_type": "code",
   "execution_count": null,
   "metadata": {},
   "outputs": [],
   "source": [
    "origPrice = float(input('Enter the original price: £'))\n",
    "discount = float(input('Enter discount percentage: '))\n",
    "newPrice = (1 - discount/100)*origPrice\n",
    "calculation = '£{} discounted by {}% is £{}.'.format(origPrice, discount, newPrice)\n",
    "print(calculation)\n"
   ]
  },
  {
   "cell_type": "markdown",
   "metadata": {},
   "source": [
    "It is important to pass arguments to the `format` method in the correct order, because they are matched positionally into the `{}` places for interpolation where there is more than one.\n",
    "\n",
    "If you used the data suggested, this result is not satisfying. Prices should appear with exactly two places beyond the decimal point, but that is not the default way to display floats.\n",
    "\n",
    "Format strings can give further information inside the brackets showing how to specially format data. In particular floats can be shown with a specific number of decimal places. For two decimal places, put `:.2f` inside the brackets for the monetary values:"
   ]
  },
  {
   "cell_type": "code",
   "execution_count": null,
   "metadata": {},
   "outputs": [],
   "source": [
    "origPrice = float(input('Enter the original price: $'))\n",
    "discount = float(input('Enter discount percentage: '))\n",
    "newPrice = (1 - discount/100)*origPrice\n",
    "calculation = '${:.2f} discounted by {}% is ${:.2f}.'.format(origPrice, discount, newPrice)\n",
    "print(calculation)"
   ]
  },
  {
   "cell_type": "markdown",
   "metadata": {},
   "source": [
    "The 2 in the format modifier can be replaced by another integer to round to that specified number of digits.\n",
    "\n",
    "This kind of format string depends directly on the order of the parameters to the format method. There are other approaches that we will skip here, such as explicitly numbering substitutions.\n",
    "\n",
    "It is also important that you give `format` the same number of arguments as there are `{}` waiting for interpolation in the string. If you have a `{}` in a string that you do not pass arguments for, you may not get an error, but you will see a weird `undefined` value you probably did not intend suddenly inserted into your string. You can see an example below.\n",
    "\n",
    "For example..."
   ]
  },
  {
   "cell_type": "code",
   "execution_count": null,
   "metadata": {},
   "outputs": [],
   "source": [
    "name = \"Sally\"\n",
    "greeting = \"Nice to meet you\"\n",
    "s = \"Hello, {}. {}.\"\n",
    "\n",
    "print(s.format(name,greeting)) # will print Hello, Sally. Nice to meet you.\n",
    "\n",
    "print(s.format(greeting,name)) # will print Hello, Nice to meet you. Sally.\n",
    "\n",
    "print(s.format(name)) # 2 {}s, only one interpolation item! Not ideal.\n"
   ]
  },
  {
   "cell_type": "markdown",
   "metadata": {},
   "source": [
    "<div align=\"left\">\n",
    "<a href=\"#q55ll55\" class=\"btn btn-default\" data-toggle=\"collapse\">Technical Point</a>\n",
    "\n",
    "</div>\n",
    "<div id=\"q55ll55\" class=\"collapse\">\n",
    "\n",
    "```\n",
    "Since the curly brackets have special meaning in a format string, \n",
    "there must be a special rule if you want curly brackets to actually \n",
    "be included in the final formatted string. The rule is to double \n",
    "the brackets: `{{` and `}}`. As an example mathematical set notation \n",
    "uses curly brackets. The initial and final doubled curly brackets \n",
    "in the format string below generate literal curly brackets in the \n",
    "formatted string:\n",
    "    \n",
    "```\n",
    "\n",
    "</div>\n",
    " "
   ]
  },
  {
   "cell_type": "code",
   "execution_count": null,
   "metadata": {},
   "outputs": [],
   "source": [
    "a = 5\n",
    "b = 9\n",
    "setStr = 'The set is {{{}, {}}}.'.format(a, b)\n",
    "print(setStr)"
   ]
  },
  {
   "cell_type": "markdown",
   "metadata": {},
   "source": [
    "**Have a go:**\n",
    "1. What is printed by the following statements?"
   ]
  },
  {
   "cell_type": "code",
   "execution_count": null,
   "metadata": {},
   "outputs": [],
   "source": [
    "x = 2\n",
    "y = 6\n",
    "print('sum of {} and {} is {}; product: {}.'.format( x, y, x+y, x*y))"
   ]
  },
  {
   "cell_type": "markdown",
   "metadata": {},
   "source": [
    "```\n",
    "A. Nothing - it causes an error\n",
    "B. sum of {} and {} is {}; product: {}. 2 6 8 12\n",
    "C. sum of 2 and 6 is 8; product: 12.\n",
    "D. sum of {2} and {6} is {8}; product: {12}.\n",
    "```"
   ]
  },
  {
   "cell_type": "markdown",
   "metadata": {},
   "source": [
    "<div align=\"right\">\n",
    "<a href=\"#q5555\" class=\"btn btn-default\" data-toggle=\"collapse\">Click here for the answer</a>\n",
    "\n",
    "</div>\n",
    "<div id=\"q5555\" class=\"collapse\">\n",
    "\n",
    "```\n",
    "C. sum of 2 and 6 is 8; product: 12.\n",
    "(Yes, correct substitutions!)\n",
    "    \n",
    "```\n",
    "\n",
    "</div>"
   ]
  },
  {
   "cell_type": "markdown",
   "metadata": {},
   "source": [
    "2. What is printed by the following statements?"
   ]
  },
  {
   "cell_type": "code",
   "execution_count": null,
   "metadata": {},
   "outputs": [],
   "source": [
    "v = 2.34567\n",
    "print('{:.1f} {:.2f} {:.7f}'.format(v, v, v))"
   ]
  },
  {
   "cell_type": "markdown",
   "metadata": {},
   "source": [
    "```python\n",
    "A. 2.34567 2.34567 2.34567\n",
    "B. 2.3 2.34 2.34567\n",
    "C. 2.3 2.35 2.3456700\n",
    "```"
   ]
  },
  {
   "cell_type": "markdown",
   "metadata": {},
   "source": [
    "<div align=\"right\">\n",
    "<a href=\"#q56655\" class=\"btn btn-default\" data-toggle=\"collapse\">Click here for the answer</a>\n",
    "\n",
    "</div>\n",
    "<div id=\"q56655\" class=\"collapse\">\n",
    "\n",
    "```python\n",
    "C. 2.3 2.35 2.3456700\n",
    "```\n",
    "```\n",
    "(Yes, correct number of digits with rounding!)\n",
    "    \n",
    "```\n",
    "\n",
    "</div>"
   ]
  },
  {
   "cell_type": "markdown",
   "metadata": {},
   "source": [
    "<a id=\"ref10\"></a>\n",
    "<h2>The Accumulator Pattern with Lists</h2>\n",
    "\n",
    "<div align=\"right\"><a href=\"#ref00\">back to top</a></div>\n",
    "\n",
    "We can accumulate values into a list rather than accumulating a single numeric value. Consider, for example, the following program which transforms a list into a new list by squaring each of the values."
   ]
  },
  {
   "cell_type": "code",
   "execution_count": null,
   "metadata": {},
   "outputs": [],
   "source": [
    "# this is an active code cell\n",
    "\n",
    "nums = [3, 5, 8]  # line 1\n",
    "accum = []\n",
    "for w in nums:\n",
    "    x = w**2\n",
    "    accum.append(x)\n",
    "print(accum)"
   ]
  },
  {
   "cell_type": "markdown",
   "metadata": {},
   "source": [
    "Here, we initialise the accumulator variable to be an empty list, on line 2.\n",
    "\n",
    "We iterate through the sequence (line 3). On each iteration we transform the item by squaring it (line 4).\n",
    "\n",
    "The update step appends the new item to the list which is stored in the accumulator variable (line 5). The update happens using .append(), which mutates the list rather than using a reassignment. Instead, we could have written `accum = accum + [x]`, or `accum += [x]`. In either case, we’d need to concatenate a list containing `x`, not just `x` itself.\n",
    "\n",
    "At the end, we have accumulated a new list of the same length as the original, but with each item transformed into a new item. This is called a mapping operation, and we will revisit it in a later notebook.\n",
    "\n",
    "Note how this differs from mutating the original list, as you saw in a previous section."
   ]
  },
  {
   "cell_type": "markdown",
   "metadata": {},
   "source": [
    "1. What is printed by the following statements?"
   ]
  },
  {
   "cell_type": "code",
   "execution_count": null,
   "metadata": {},
   "outputs": [],
   "source": [
    "alist = [4,2,8,6,5]\n",
    "blist = [ ]\n",
    "for item in alist:\n",
    "    blist.append(item+5)\n",
    "print(blist)"
   ]
  },
  {
   "cell_type": "markdown",
   "metadata": {},
   "source": [
    "```python\n",
    "A. [4,2,8,6,5]\n",
    "B. [4,2,8,6,5,5]\n",
    "C. [9,7,13,11,10]\n",
    "D. Error, you cannot concatenate inside an append.\n",
    "```"
   ]
  },
  {
   "cell_type": "markdown",
   "metadata": {},
   "source": [
    "<div align=\"right\">\n",
    "<a href=\"#q56155\" class=\"btn btn-default\" data-toggle=\"collapse\">Click here for the answer</a>\n",
    "\n",
    "</div>\n",
    "<div id=\"q56155\" class=\"collapse\">\n",
    "\n",
    "```python\n",
    "C. [9,7,13,11,10]\n",
    "```\n",
    "```\n",
    "(Yes, the for loop processes each item of the list. \n",
    " 5 is added before it is appended to blist.)\n",
    "    \n",
    "```\n",
    "\n",
    "</div>"
   ]
  },
  {
   "cell_type": "markdown",
   "metadata": {},
   "source": [
    "2. What is printed by the following statements?"
   ]
  },
  {
   "cell_type": "code",
   "execution_count": null,
   "metadata": {},
   "outputs": [],
   "source": [
    "lst= [3,0,9,4,1,7]\n",
    "new_list=[]\n",
    "for i in range(len(lst)):\n",
    "    new_list.append(lst[i]+5)\n",
    "print(new_list)"
   ]
  },
  {
   "cell_type": "markdown",
   "metadata": {},
   "source": [
    "```python\n",
    "A. [8,5,14,9,6]\n",
    "B. [8,5,14,9,6,12]\n",
    "C. [3,0,9,4,1,7,5]\n",
    "D. Error, you cannot concatenate inside an append.\n",
    "```"
   ]
  },
  {
   "cell_type": "markdown",
   "metadata": {},
   "source": [
    "<div align=\"right\">\n",
    "<a href=\"#q56255\" class=\"btn btn-default\" data-toggle=\"collapse\">Click here for the answer</a>\n",
    "\n",
    "</div>\n",
    "<div id=\"q56255\" class=\"collapse\">\n",
    "\n",
    "```python\n",
    "B. [8,5,14,9,6,12].\n",
    "```\n",
    "```\n",
    "(Yes, the for loop processes each item in lst. 5 is added \n",
    " before lst[i] is appended to blist.)\n",
    "    \n",
    "```\n",
    "\n",
    "</div>"
   ]
  },
  {
   "cell_type": "markdown",
   "metadata": {},
   "source": [
    "3. For each word in the list `verbs`, add an -ing ending. Save this in a new list, `ing`."
   ]
  },
  {
   "cell_type": "code",
   "execution_count": null,
   "metadata": {},
   "outputs": [],
   "source": [
    "verbs = [\"laugh\", \"cry\", \"walk\", \"eat\", \"drink\", \"fly\"]\n",
    "\n",
    "# write your code here\n",
    "\n",
    "\n"
   ]
  },
  {
   "cell_type": "markdown",
   "metadata": {},
   "source": [
    "<div align=\"right\">\n",
    "<a href=\"#qll56355\" class=\"btn btn-default\" data-toggle=\"collapse\">Click here for the answer</a>\n",
    "\n",
    "</div>\n",
    "<div id=\"qll56355\" class=\"collapse\">\n",
    "\n",
    "```python\n",
    "verbs = [\"laugh\", \"cry\", \"walk\", \"eat\", \"drink\", \"fly\"]\n",
    "ing = []\n",
    "for verb in verbs:\n",
    "    ing.append(verb + \"ing\")\n",
    "print(ing)\n",
    "    \n",
    "```\n",
    "\n",
    "</div>"
   ]
  },
  {
   "cell_type": "markdown",
   "metadata": {},
   "source": [
    "4. Given the list of numbers, `numbs`, create a new list of those same numbers increased by 5. Save this new list to the variable `newlist`."
   ]
  },
  {
   "cell_type": "code",
   "execution_count": null,
   "metadata": {},
   "outputs": [],
   "source": [
    "numbs = [5, 10, 15, 20, 25]\n",
    "\n",
    "# write your code here\n",
    "\n",
    "\n"
   ]
  },
  {
   "cell_type": "markdown",
   "metadata": {},
   "source": [
    "<div align=\"right\">\n",
    "<a href=\"#q56455\" class=\"btn btn-default\" data-toggle=\"collapse\">Click here for the answer</a>\n",
    "\n",
    "</div>\n",
    "<div id=\"q56455\" class=\"collapse\">\n",
    "\n",
    "```python\n",
    "\n",
    "numbs = [5, 10, 15, 20, 25]\n",
    "newlist = []\n",
    "for numb in numbs:\n",
    "    newlist.append(numb+5)\n",
    "print(newlist)\n",
    "    \n",
    "```\n",
    "\n",
    "</div>"
   ]
  },
  {
   "cell_type": "markdown",
   "metadata": {},
   "source": [
    "5. Now do the same as in the previous problem, but do not create a new list. Overwrite the list `numbs` so that each of the original numbers are increased by 5."
   ]
  },
  {
   "cell_type": "code",
   "execution_count": null,
   "metadata": {},
   "outputs": [],
   "source": [
    "numbs = [5, 10, 15, 20, 25]\n",
    "\n",
    "# write your code here\n",
    "\n",
    "\n"
   ]
  },
  {
   "cell_type": "markdown",
   "metadata": {},
   "source": [
    "<div align=\"right\">\n",
    "<a href=\"#q56555\" class=\"btn btn-default\" data-toggle=\"collapse\">Click here for the answer</a>\n",
    "\n",
    "</div>\n",
    "<div id=\"q56555\" class=\"collapse\">\n",
    "\n",
    "```python\n",
    "\n",
    "numbs = [5, 10, 15, 20, 25]\n",
    "for i in range(len(numbs)):\n",
    "    numbs[i] += 5\n",
    "print(numbs)\n",
    "\n",
    "```\n",
    "\n",
    "</div>"
   ]
  },
  {
   "cell_type": "markdown",
   "metadata": {},
   "source": [
    "6. For each number in `lst_nums`, multiply that number by 2 and append it to a new list called `larger_nums`.~"
   ]
  },
  {
   "cell_type": "code",
   "execution_count": null,
   "metadata": {},
   "outputs": [],
   "source": [
    "lst_nums = [4, 29, 5.3, 10, 2, 1817, 1967, 9, 31.32]\n",
    "\n",
    "# write your code here\n",
    "\n",
    "\n"
   ]
  },
  {
   "cell_type": "markdown",
   "metadata": {},
   "source": [
    "<div align=\"right\">\n",
    "<a href=\"#q56055\" class=\"btn btn-default\" data-toggle=\"collapse\">Click here for the answer</a>\n",
    "\n",
    "</div>\n",
    "<div id=\"q56055\" class=\"collapse\">\n",
    "\n",
    "```python\n",
    "\n",
    "larger_nums = []\n",
    "for numb in lst_nums:\n",
    "    larger_nums.append(2*numb)\n",
    "print(larger_nums)\n",
    "    \n",
    "```\n",
    "\n",
    "</div>"
   ]
  },
  {
   "cell_type": "markdown",
   "metadata": {},
   "source": [
    "<a id=\"ref11\"></a>\n",
    "<h2>The Accumulator Pattern with Strings</h2>\n",
    "\n",
    "<div align=\"right\"><a href=\"#ref00\">back to top</a></div>\n",
    "\n",
    "We can also accumulate strings rather than accumulating numbers, as you’ve seen before. The following program isn’t particularly useful for data processing, but we will see more useful things later that accumulate strings."
   ]
  },
  {
   "cell_type": "code",
   "execution_count": null,
   "metadata": {},
   "outputs": [],
   "source": [
    "s = input(\"Enter some text: \")\n",
    "ac = \"\"\n",
    "for c in s:\n",
    "    ac = ac + c + \"-\" + c + \"-\"\n",
    "\n",
    "print(ac)\n"
   ]
  },
  {
   "cell_type": "markdown",
   "metadata": {},
   "source": [
    "Look carefully at line 4 in the above program (`ac = ac + c + \"-\" + c + \"-\"`). In words, it says that the new value of `ac` will be the old value of `ac` concatenated with the current character, followed by a dash, then the current character again and finally another dash. We are building the resulting string character by character.\n",
    "\n",
    "Take a close look also at the initialisation of `ac`. We start with an empty string and then begin adding new characters to the end. Also note that I have given it a different name this time, `ac` instead of `accum`. There’s nothing sacred about these names. You could use any valid variable and it would work (try substituting `x` for `ac` everywhere in the above code)."
   ]
  },
  {
   "cell_type": "markdown",
   "metadata": {},
   "source": [
    "**Have a go:**\n",
    "1. What is printed by the following statements?"
   ]
  },
  {
   "cell_type": "code",
   "execution_count": null,
   "metadata": {},
   "outputs": [],
   "source": [
    "s = \"ball\"\n",
    "r = \"\"\n",
    "for item in s:\n",
    "    r = item.upper() + r\n",
    "\n",
    "print(r)"
   ]
  },
  {
   "cell_type": "markdown",
   "metadata": {},
   "source": [
    "```\n",
    "A. Ball\n",
    "B. BALL\n",
    "C. LLAB\n",
    "```"
   ]
  },
  {
   "cell_type": "markdown",
   "metadata": {},
   "source": [
    "<div align=\"right\">\n",
    "<a href=\"#q560505\" class=\"btn btn-default\" data-toggle=\"collapse\">Click here for the answer</a>\n",
    "\n",
    "</div>\n",
    "<div id=\"q560505\" class=\"collapse\">\n",
    "\n",
    "```\n",
    "C. LLAB (Yes, the order is reversed due to the order \n",
    "         of the concatenation.)\n",
    "    \n",
    "```\n",
    "\n",
    "</div>"
   ]
  },
  {
   "cell_type": "markdown",
   "metadata": {},
   "source": [
    "2. For each character in the string already saved in the variable `str1`, add each character to a list called `chars`."
   ]
  },
  {
   "cell_type": "code",
   "execution_count": null,
   "metadata": {},
   "outputs": [],
   "source": [
    "str1 = \"Python for FinTech\"\n",
    "# write your code here\n",
    "\n",
    "\n"
   ]
  },
  {
   "cell_type": "markdown",
   "metadata": {},
   "source": [
    "<div align=\"right\">\n",
    "<a href=\"#q051\" class=\"btn btn-default\" data-toggle=\"collapse\">Click here for the answer</a>\n",
    "\n",
    "</div>\n",
    "<div id=\"q051\" class=\"collapse\">\n",
    "\n",
    "```python\n",
    "\n",
    "chars = [];\n",
    "for item in str1: \n",
    "    chars.append(item)\n",
    "print(chars)\n",
    "    \n",
    "```\n",
    "\n",
    "</div>"
   ]
  },
  {
   "cell_type": "markdown",
   "metadata": {},
   "source": [
    "3. Assign an empty string to the variable `output`. Using the `range` function, write code to make it so that the variable `output` has 10 `a`'s inside it (like \"`aaaaaaaaaa`\"). "
   ]
  },
  {
   "cell_type": "code",
   "execution_count": null,
   "metadata": {},
   "outputs": [],
   "source": [
    "# write your code here\n",
    "\n",
    "    \n",
    "    "
   ]
  },
  {
   "cell_type": "markdown",
   "metadata": {},
   "source": [
    "<div align=\"right\">\n",
    "<a href=\"#q50005\" class=\"btn btn-default\" data-toggle=\"collapse\">Click here for the answer</a>\n",
    "\n",
    "</div>\n",
    "<div id=\"q50005\" class=\"collapse\">\n",
    "\n",
    "```python\n",
    "\n",
    "output = \"\"\n",
    "for i in range(10):\n",
    "    output = 'a' + output\n",
    "print(output)\n",
    "  \n",
    "```\n",
    "\n",
    "</div>"
   ]
  },
  {
   "cell_type": "markdown",
   "metadata": {},
   "source": [
    "<a id=\"ref12\"></a>\n",
    "<h2>Accumulator Pattern Strategies</h2>\n",
    "\n",
    "<div align=\"right\"><a href=\"#ref00\">back to top</a></div>\n",
    "\n",
    "### When to Use it\n",
    "When we first encounter word problems in maths classes, it can be difficult to translate those words into arithmetic expressions involving addition, subtraction, multiplication, and division. etc. Teachers offer heuristics. If the problem says “how many…altogether”, that’s an addition problem. If it says “how many are left”, that’s a subtraction problem. And so on.\n",
    "\n",
    "Learning to use the accumulator pattern can be similarly confusing. The first step is to recognise something in the problem statement that suggests an accumulation pattern. Here are a few. You might want to try adding some of your own."
   ]
  },
  {
   "cell_type": "markdown",
   "metadata": {},
   "source": [
    "<a><img src=\"figures/accum_table.png\" width=\"480\" height=\"180\" border=\"10\" /></a>\n",
    "\n",
    "<center><b>Figure 7</b></center>"
   ]
  },
  {
   "cell_type": "markdown",
   "metadata": {},
   "source": [
    "For example, if the problem is to compute the total distance traveled in a series of small trips, you would want to accumulate a sum. If the problem is to make a list of the cubes of a sequence of numbers, you want a list accumulation, starting with an empty list and appending one more cube each time. If the problem is to make a comma-separated list of all the people invited to a party, you should think concatenation; you could start with an empty string and concatenate one more person on each iteration through a list of names."
   ]
  },
  {
   "cell_type": "markdown",
   "metadata": {},
   "source": [
    "### Before Writing it\n",
    "\n",
    "Before writing any code, I recommend that you first answer the following questions:\n",
    "\n",
    "* What sequence will you iterate through as you accumulate a result? It could be a range of numbers, the letters in a string, or some existing list that you have just as a list of names.\n",
    "* What type of value will you accumulate? If your final result is to be a number, your accumulator will start out with a number and always have a number even as it is updated each time. Similarly, if your final result is to be a list, start with a list. If your final result is to be a string, you’ll probably want to start with a string; one other option is to accumulate a list of strings and then use the `.join()` method at the end to concatenate them together.\n",
    "\n",
    "We recommend writing your answers to these questions in a comment. As you encounter bugs and have to look things up, it will help remind you what it was you were trying to implement. Sometimes just writing the comment can help you spot a potential problem and avoid it before you ever write any code."
   ]
  },
  {
   "cell_type": "markdown",
   "metadata": {},
   "source": [
    "### Choosing Good Accumulator and Iterator Variable Names\n",
    "\n",
    "One final piece of advice regarding accumulation strategies is to be intentional when choosing variable names for the accumulator and iterator variables. A good name can help remind you of what the value assigned to the variable is, as well as what you should end up with at the end of your code. While it might be tempting at first to use a short variable name, such as `a` or `x`, if you run into any bugs or look at your code later, you may have trouble understanding what you intended to do and what your code is actually doing.\n",
    "\n",
    "For the accumulator variable, one thing that can help is to make the variable name end with “so_far”. The prefix can be chosen to help remind you of what you’re supposed to end up with. For example: count_so_far, total_so_far, or cubes_so_far.\n",
    "\n",
    "As mentioned previously the iterator variable should be a singular noun. It should describe what one item in the original sequence is, not what one item in the final result will be. For example, when accumulating cubes of numbers from 1-25, don’t write\n",
    "```python\n",
    "for cube in range(25):\n",
    "```\n",
    "Instead, write \n",
    "```python\n",
    "for num in range(25):\n",
    "```    \n",
    "If you name the iterator variable `cube` you run the risk of getting confused that it has already been cubed, when that’s actually something you have still to write in your code. Much of this may seem like common sense but don't underestimate the value of common sense. Definitely the case - if you've got it, flaunt it!"
   ]
  },
  {
   "cell_type": "markdown",
   "metadata": {},
   "source": [
    "**Have a go:**\n",
    "1. Does the following prompt require an accumulation pattern? If so, what words indicate that? For each string in `wrds`, add ‘ed’ to the end of the word (to make the word past tense). Save these past tense words to a list called `past_wrds`."
   ]
  },
  {
   "cell_type": "markdown",
   "metadata": {},
   "source": [
    "```\n",
    "A. Yes; \"save... to a list\"\n",
    "B. Yes; \"add 'ed' to the end of the word\"\n",
    "C. No\n",
    "```"
   ]
  },
  {
   "cell_type": "markdown",
   "metadata": {},
   "source": [
    "<div align=\"right\">\n",
    "<a href=\"#q11\" class=\"btn btn-default\" data-toggle=\"collapse\">Click here for the answer</a>\n",
    "\n",
    "</div>\n",
    "<div id=\"q11\" class=\"collapse\">\n",
    "\n",
    "```\n",
    "A\n",
    "    \n",
    "```\n",
    "\n",
    "</div>"
   ]
  },
  {
   "cell_type": "markdown",
   "metadata": {},
   "source": [
    "2. Does the following prompt require an accumulation pattern? If so, what words indicate that? Write code to sum up all of the numbers in the list `seat_counts`. Store that number in the variable `total_seat_counts`."
   ]
  },
  {
   "cell_type": "markdown",
   "metadata": {},
   "source": [
    "```\n",
    "A. Yes; \"to sum up\"\n",
    "B. Yes; \"numbers in the list\"\n",
    "C. No\n",
    "```"
   ]
  },
  {
   "cell_type": "markdown",
   "metadata": {},
   "source": [
    "<div align=\"right\">\n",
    "<a href=\"#q22\" class=\"btn btn-default\" data-toggle=\"collapse\">Click here for the answer</a>\n",
    "\n",
    "</div>\n",
    "<div id=\"q22\" class=\"collapse\">\n",
    "\n",
    "```\n",
    "A\n",
    "    \n",
    "```\n",
    "\n",
    "</div>"
   ]
  },
  {
   "cell_type": "markdown",
   "metadata": {},
   "source": [
    "3. Does the following prompt require an accumulation pattern? If so, what words indicate that? Write code to print out each character of the string `my_str` on a separate line."
   ]
  },
  {
   "cell_type": "markdown",
   "metadata": {},
   "source": [
    "```\n",
    "A. Yes; \"print out each\"\n",
    "B. Yes; \"on a separate line\"\n",
    "C. No\n",
    "```"
   ]
  },
  {
   "cell_type": "markdown",
   "metadata": {},
   "source": [
    "<div align=\"right\">\n",
    "<a href=\"#q33\" class=\"btn btn-default\" data-toggle=\"collapse\">Click here for the answer</a>\n",
    "\n",
    "</div>\n",
    "<div id=\"q33\" class=\"collapse\">\n",
    "\n",
    "```\n",
    "C\n",
    "    \n",
    "```\n",
    "\n",
    "</div>"
   ]
  },
  {
   "cell_type": "markdown",
   "metadata": {},
   "source": [
    "4. Does the following prompt require an accumulation pattern? If so, what words indicate that? Write code that will count the number of vowels in the sentence `s` and assign the result to the variable `num_vowels`."
   ]
  },
  {
   "cell_type": "markdown",
   "metadata": {},
   "source": [
    "``` \n",
    "A. Yes; \"vowels in the sentence\"\n",
    "B. Yes; \"code that will count\"\n",
    "C. No\n",
    "\n",
    "```"
   ]
  },
  {
   "cell_type": "markdown",
   "metadata": {},
   "source": [
    "<div align=\"right\">\n",
    "<a href=\"#q44\" class=\"btn btn-default\" data-toggle=\"collapse\">Click here for the answer</a>\n",
    "\n",
    "</div>\n",
    "<div id=\"q44\" class=\"collapse\">\n",
    "\n",
    "```\n",
    "B\n",
    "    \n",
    "```\n",
    "\n",
    "</div>"
   ]
  },
  {
   "cell_type": "markdown",
   "metadata": {},
   "source": [
    "5. What type should be used for the accumulator variable in the following prompt? Write code that will count the number of vowels in the sentence `s` and assign the result to the variable `num_vowels`."
   ]
  },
  {
   "cell_type": "markdown",
   "metadata": {},
   "source": [
    "```\n",
    "A. string\n",
    "B. list\n",
    "C. integer\n",
    "D. none, there is no accumulator variable.\n",
    "```"
   ]
  },
  {
   "cell_type": "markdown",
   "metadata": {},
   "source": [
    "<div align=\"right\">\n",
    "<a href=\"#q55\" class=\"btn btn-default\" data-toggle=\"collapse\">Click here for the answer</a>\n",
    "\n",
    "</div>\n",
    "<div id=\"q55\" class=\"collapse\">\n",
    "\n",
    "```\n",
    "C. (Yes, because we want to keep track of a number.)\n",
    "    \n",
    "```\n",
    "\n",
    "</div>"
   ]
  },
  {
   "cell_type": "markdown",
   "metadata": {},
   "source": [
    "6. What sequence will you iterate through as you accumulate a result in the following prompt? Write code that will count the number of vowels in the sentence `s` and assign the result to the variable `num_vowels`."
   ]
  },
  {
   "cell_type": "markdown",
   "metadata": {},
   "source": [
    "```\n",
    "A. num_vowels\n",
    "B. s\n",
    "C. the prompt does not say\n",
    "```"
   ]
  },
  {
   "cell_type": "markdown",
   "metadata": {},
   "source": [
    "<div align=\"right\">\n",
    "<a href=\"#q66\" class=\"btn btn-default\" data-toggle=\"collapse\">Click here for the answer</a>\n",
    "\n",
    "</div>\n",
    "<div id=\"q66\" class=\"collapse\">\n",
    "\n",
    "```\n",
    "B. (Yes, that is the sequence you will iterate through!)\n",
    "    \n",
    "```\n",
    "\n",
    "</div>"
   ]
  },
  {
   "cell_type": "markdown",
   "metadata": {},
   "source": [
    "7. What type should be used for the accumulator variable in the following prompt? For each string in `wrds`, add ‘ed’ to the end of the word (to make the word past tense). Save these past tense words to a list called `past_wrds`."
   ]
  },
  {
   "cell_type": "markdown",
   "metadata": {},
   "source": [
    "```\n",
    "A. string\n",
    "B. list\n",
    "C. integer\n",
    "D. none, there is no accumulator variable.\n",
    "```"
   ]
  },
  {
   "cell_type": "markdown",
   "metadata": {},
   "source": [
    "<div align=\"right\">\n",
    "<a href=\"#q77\" class=\"btn btn-default\" data-toggle=\"collapse\">Click here for the answer</a>\n",
    "\n",
    "</div>\n",
    "<div id=\"q77\" class=\"collapse\">\n",
    "\n",
    "```\n",
    "B. (Yes, because we want a new list at the end of the code.)\n",
    "    \n",
    "```\n",
    "\n",
    "</div>"
   ]
  },
  {
   "cell_type": "markdown",
   "metadata": {},
   "source": [
    "8. What sequence will you iterate through as you accumulate a result in the following prompt? For each string in `wrds`, add ‘ed’ to the end of the word (to make the word past tense). Save these past tense words to a list called `past_wrds`."
   ]
  },
  {
   "cell_type": "markdown",
   "metadata": {},
   "source": [
    "```\n",
    "A. wrds\n",
    "B. past_wrds\n",
    "C. the prompt does not say\n",
    "\n",
    "```"
   ]
  },
  {
   "cell_type": "markdown",
   "metadata": {},
   "source": [
    "<div align=\"right\">\n",
    "<a href=\"#q88\" class=\"btn btn-default\" data-toggle=\"collapse\">Click here for the answer</a>\n",
    "\n",
    "</div>\n",
    "<div id=\"q88\" class=\"collapse\">\n",
    "\n",
    "```\n",
    "A. ( Yes, that is the sequence you will iterate through!)\n",
    "    \n",
    "```\n",
    "\n",
    "</div>"
   ]
  },
  {
   "cell_type": "markdown",
   "metadata": {},
   "source": [
    "9.  What type should be used for the accumulator variable in the following prompt? Write code to sum up all of the numbers in the list `seat_counts`. Store that number in the variable `total_seat_counts`."
   ]
  },
  {
   "cell_type": "markdown",
   "metadata": {},
   "source": [
    "```\n",
    "A. string\n",
    "B. list\n",
    "C. integer\n",
    "D. none, there is no accumulator variable.\n",
    "```"
   ]
  },
  {
   "cell_type": "markdown",
   "metadata": {},
   "source": [
    "<div align=\"right\">\n",
    "<a href=\"#q99\" class=\"btn btn-default\" data-toggle=\"collapse\">Click here for the answer</a>\n",
    "\n",
    "</div>\n",
    "<div id=\"q99\" class=\"collapse\">\n",
    "\n",
    "```\n",
    "C. (Yes, because we want to keep track of a number.)\n",
    "    \n",
    "```\n",
    "\n",
    "</div>"
   ]
  },
  {
   "cell_type": "markdown",
   "metadata": {},
   "source": [
    "10. What sequence will you iterate through as you accumulate a result in the following prompt? Write code to sum up all of the numbers in the list `seat_counts`. Store that number in the variable `total_seat_counts`."
   ]
  },
  {
   "cell_type": "markdown",
   "metadata": {},
   "source": [
    "```\n",
    "A. seat_counts\n",
    "B. total_seat_counts\n",
    "C. the prompt does not say\n",
    "```"
   ]
  },
  {
   "cell_type": "markdown",
   "metadata": {},
   "source": [
    "<div align=\"right\">\n",
    "<a href=\"#q1010\" class=\"btn btn-default\" data-toggle=\"collapse\">Click here for the answer</a>\n",
    "\n",
    "</div>\n",
    "<div id=\"q1010\" class=\"collapse\">\n",
    "\n",
    "```\n",
    "A. (Yes, that is the sequence you will iterate through!)\n",
    "    \n",
    "```\n",
    "\n",
    "</div>"
   ]
  },
  {
   "cell_type": "markdown",
   "metadata": {},
   "source": [
    "11. What type should be used for the accumulator variable in the following prompt? Write code to print out each character of the string `my_str` on a separate line."
   ]
  },
  {
   "cell_type": "markdown",
   "metadata": {},
   "source": [
    "```\n",
    "A. string\n",
    "B. list\n",
    "C. integer\n",
    "D. none, there is no accumulator variable.\n",
    "```"
   ]
  },
  {
   "cell_type": "markdown",
   "metadata": {},
   "source": [
    "<div align=\"right\">\n",
    "<a href=\"#q1111\" class=\"btn btn-default\" data-toggle=\"collapse\">Click here for the answer</a>\n",
    "\n",
    "</div>\n",
    "<div id=\"q1111\" class=\"collapse\">\n",
    "\n",
    "```\n",
    "D. (Correct, because this prompt does not require \n",
    "    an accumulator pattern)\n",
    "    \n",
    "```\n",
    "\n",
    "</div>"
   ]
  },
  {
   "cell_type": "markdown",
   "metadata": {},
   "source": [
    "12. What sequence will you iterate through as you accumulate a result in the following prompt? Write code to print out each character of the string `my_str` on a separate line."
   ]
  },
  {
   "cell_type": "markdown",
   "metadata": {},
   "source": [
    "```\n",
    "A. my_str\n",
    "B. my_str.split()\n",
    "C. the prompt does not say\n",
    "```"
   ]
  },
  {
   "cell_type": "markdown",
   "metadata": {},
   "source": [
    "<div align=\"right\">\n",
    "<a href=\"#q1212\" class=\"btn btn-default\" data-toggle=\"collapse\">Click here for the answer</a>\n",
    "\n",
    "</div>\n",
    "<div id=\"q1212\" class=\"collapse\">\n",
    "\n",
    "```\n",
    "A. (Yes, that is the sequence you will iterate through!) \n",
    "    \n",
    "```\n",
    "\n",
    "</div>"
   ]
  },
  {
   "cell_type": "markdown",
   "metadata": {},
   "source": [
    "13. Which of these are good alternatives to the accumulator variable and iterator variable names for the following prompt? For each string in `wrds`, add ‘ed’ to the end of the word (to make the word past tense). Save these past tense words to a list called `past_wrds`."
   ]
  },
  {
   "cell_type": "markdown",
   "metadata": {},
   "source": [
    "```\n",
    "A. Accumulator Variable: wrds_so_far ; Iterator Variable: wrd\n",
    "B. Accumulator Variable: wrds_so_far ; Iterator Variable: x\n",
    "C. Accumulator Variable: changed_wrds ; Iterator Variable: ed\n",
    "```"
   ]
  },
  {
   "cell_type": "markdown",
   "metadata": {},
   "source": [
    "<div align=\"right\">\n",
    "<a href=\"#q1313\" class=\"btn btn-default\" data-toggle=\"collapse\">Click here for the answer</a>\n",
    "\n",
    "</div>\n",
    "<div id=\"q1313\" class=\"collapse\">\n",
    "\n",
    "```\n",
    "A. (Yes, this is the most clear combination of \n",
    "    accumulator and iterator variables.)\n",
    "    \n",
    "```\n",
    "\n",
    "</div>"
   ]
  },
  {
   "cell_type": "markdown",
   "metadata": {},
   "source": [
    "14. Which of these are good alternatives to the accumulator variable and iterator variable names for the following prompt? Write code that will count the number of vowels in the sentence `s` and assign the result to the variable `num_vowels`."
   ]
  },
  {
   "cell_type": "markdown",
   "metadata": {},
   "source": [
    "```\n",
    "A. Accumulator Variable: count_so_far ; Iterator Variable: l\n",
    "B. Accumulator Variable: total_so_far ; Iterator Variable: letter\n",
    "C. Accumulator Variable: n_v ; Iterator Variable: letter\n",
    "```"
   ]
  },
  {
   "cell_type": "markdown",
   "metadata": {},
   "source": [
    "<div align=\"right\">\n",
    "<a href=\"#q1414\" class=\"btn btn-default\" data-toggle=\"collapse\">Click here for the answer</a>\n",
    "\n",
    "</div>\n",
    "<div id=\"q1414\" class=\"collapse\">\n",
    "\n",
    "```\n",
    "B. (Yes! Both the accumulator and iterator variable are clear.)\n",
    "    \n",
    "```\n",
    "\n",
    "</div>"
   ]
  },
  {
   "cell_type": "markdown",
   "metadata": {},
   "source": [
    "15. Which of these are good alternatives to the accumulator variable and iterator variable names for the following prompt? Write code to sum up all of the numbers in the list `seat_counts`. Store that number in the variable `total_seat_counts`."
   ]
  },
  {
   "cell_type": "markdown",
   "metadata": {},
   "source": [
    "```\n",
    "A. Accum. Variable: total_so_far ; Iterator Variable: seat\n",
    "B. Accum. Variable: total_seats_so_far ; Iterator Variable: seat_count\n",
    "C. Accum. Variable: count ; Iterator Variable: n\n",
    "```"
   ]
  },
  {
   "cell_type": "markdown",
   "metadata": {},
   "source": [
    "<div align=\"right\">\n",
    "<a href=\"#q1515\" class=\"btn btn-default\" data-toggle=\"collapse\">Click here for the answer</a>\n",
    "\n",
    "</div>\n",
    "<div id=\"q1515\" class=\"collapse\">\n",
    "\n",
    "```\n",
    "B. (Yes, this is the most clear combination.)\n",
    "    \n",
    "```\n",
    "\n",
    "</div>"
   ]
  },
  {
   "cell_type": "markdown",
   "metadata": {},
   "source": [
    "16. Which of these are good alternatives to the accumulator variable and iterator variable names for the following prompt? Write code to print out each character of the string `my_str` on a separate line."
   ]
  },
  {
   "cell_type": "markdown",
   "metadata": {},
   "source": [
    "```\n",
    "A. Accum. Variable: character_so_far ; Iterator Variable: char\n",
    "B. Accum. Variable: no variable needed ; Iterator Variable: c\n",
    "C. Accum. Variable: no variable needed ; Iterator Variable: char\n",
    "```"
   ]
  },
  {
   "cell_type": "markdown",
   "metadata": {},
   "source": [
    "<div align=\"right\">\n",
    "<a href=\"#q1616\" class=\"btn btn-default\" data-toggle=\"collapse\">Click here for the answer</a>\n",
    "\n",
    "</div>\n",
    "<div id=\"q1616\" class=\"collapse\">\n",
    "\n",
    "```\n",
    "C. (Yes, there is no accumulator variable needed and\n",
    "    the iterator variable is clear (char is a common \n",
    "    short form of character))\n",
    "    \n",
    "```\n",
    "\n",
    "</div>"
   ]
  },
  {
   "cell_type": "markdown",
   "metadata": {},
   "source": [
    "<a id=\"ref13\"></a>\n",
    "<h2>Don't Mutate a List that you are Iterating through</h2>\n",
    "\n",
    "<div align=\"right\"><a href=\"#ref00\">back to top</a></div>\n",
    "\n",
    "Thus far we’ve seen how to iterate through a list:\n"
   ]
  },
  {
   "cell_type": "code",
   "execution_count": null,
   "metadata": {},
   "outputs": [],
   "source": [
    "colours = [\"Green\", \"Blue\", \"Indigo\", \"Violet\"]\n",
    "\n",
    "for colour in colours:\n",
    "    print(colour)"
   ]
  },
  {
   "cell_type": "markdown",
   "metadata": {},
   "source": [
    "As well as accumulate a list by appending items."
   ]
  },
  {
   "cell_type": "code",
   "execution_count": null,
   "metadata": {},
   "outputs": [],
   "source": [
    "colours = [\"Green\", \"Blue\", \"Indigo\", \"Violet\"]\n",
    "initials = []\n",
    "\n",
    "for colour in colours:\n",
    "    initials.append(colour[0])\n",
    "    \n",
    "print(initials)\n"
   ]
  },
  {
   "cell_type": "markdown",
   "metadata": {},
   "source": [
    "You may be tempted to iterate through a list and accumulate some data into it or delete data from it as you go, however that is almost always asking for trouble. "
   ]
  },
  {
   "cell_type": "markdown",
   "metadata": {},
   "source": [
    "**Example 1:**\n",
    "In the following code we attempt to filter out words beginning with P, B, or T."
   ]
  },
  {
   "cell_type": "code",
   "execution_count": null,
   "metadata": {},
   "outputs": [],
   "source": [
    "colours = [\"Green\", \"Blue\", \"Indigo\", \"Violet\", \"Purple\", \n",
    "           \"Pink\", \"Brown\", \"Teal\", \"Turquois\", \"Peach\"]\n",
    "\n",
    "for position in range(len(colours)):\n",
    "    colour = colours[position]\n",
    "    print(colour)\n",
    "    if colour[0] in [\"P\", \"B\", \"T\"]:\n",
    "        del colours[position]\n",
    "\n",
    "print(colours)\n"
   ]
  },
  {
   "cell_type": "markdown",
   "metadata": {},
   "source": [
    "Problem - `Traceback`? We iterated through `range(len(colours))` because it made it easier to locate the position of the item in the list and delete it. However, we ran into a problem because as we deleted content from the list, the list became shorter. Not only did we have an indexing issue on line 4, after a certain point, but we also skipped over some strings because they had *moved*. Note that each time we iterate through the list python does not reevaluate the iterator variable.\n",
    "\n",
    "In the cell below we adopt a slightly different tact but still arrive at an incorrect result."
   ]
  },
  {
   "cell_type": "code",
   "execution_count": null,
   "metadata": {},
   "outputs": [],
   "source": [
    "colours = [\"Green\", \"Blue\", \"Indigo\", \"Violet\", \"Purple\", \n",
    "           \"Pink\", \"Brown\", \"Teal\", \"Turquois\", \"Peach\"]\n",
    "\n",
    "for colour in colours:\n",
    "    print(colour)\n",
    "    if colour[0] in [\"P\", \"B\", \"T\"]:\n",
    "        del colours[colours.index(colour)]\n",
    "\n",
    "print(colours)"
   ]
  },
  {
   "cell_type": "markdown",
   "metadata": {},
   "source": [
    "Let's add in a couple of *debugging* print statements to provide some transparency into what exactly is happening as we iterate thorugh the loop. Specifically we are going to print the `colours` list within the `if` statment, before and after the `del` command.\n",
    "\n",
    "Take a close look at the output after running the cell below and try to ascertain what is happeing. The first thing to note is that the iterator variable skips the value `Indigo`. Why?"
   ]
  },
  {
   "cell_type": "code",
   "execution_count": null,
   "metadata": {},
   "outputs": [],
   "source": [
    "colours = [\"Green\", \"Blue\", \"Indigo\", \"Violet\", \"Purple\", \n",
    "           \"Pink\", \"Brown\", \"Teal\", \"Turquois\", \"Peach\"]\n",
    "\n",
    "for colour in colours:\n",
    "    print()\n",
    "    print(colour)\n",
    "    if colour[0] in [\"P\", \"B\", \"T\"]:\n",
    "        print(\"This iteration has taken us into the if statement\")\n",
    "        print(\"Before delete \", colours)\n",
    "        del colours[colours.index(colour)]\n",
    "        print(\"After delete \", colours)\n",
    "        print()\n",
    "\n",
    "print(colours)"
   ]
  },
  {
   "cell_type": "markdown",
   "metadata": {},
   "source": [
    "When `colour` takes the value `Blue` (index position 1 in `colours`) on the 2nd iteration, the program enters the `if` statement; subsequently and consequently `Blue` is deleted from the `colours` list. This is as intended so all good thus far. \n",
    "\n",
    "However, and this is the crux of the matter, `Indigo` now moves from being at index position 2 in `colours` to being at index position 1 in `colours` as a direct result of the deletion. Consequenlty next time around the loop (on the 3rd iteration) when Python is naturally looking for the value located at index position 2 in `colours`, it finds `Violet` occupying that index position! Indigo has been overloooked (as opposed to looked over). It was accidental. This overlooking problem continues and causes problems eventualy when one of the overlooked values happens to begin with P,B or T because that value does not get deleted from `colours`.\n",
    "\n",
    "As a result we end up with the outcome we did; a final list containing three items which should have been deleted. Take care."
   ]
  },
  {
   "cell_type": "markdown",
   "metadata": {},
   "source": [
    "We can also try to accumulate to a list that we’re iterating through as well.\n",
    "\n",
    "**Example 2:** What do you think will happen here?\n",
    "\n",
    "Don't run this cell until you know what is going to happen and don't run it after you know either! ;) Well, not before removing the leftmost `#`'s on lines 6 and 7"
   ]
  },
  {
   "cell_type": "code",
   "execution_count": null,
   "metadata": {},
   "outputs": [],
   "source": [
    "colours = [\"Green\", \"Blue\", \"Indigo\", \"Violet\"]  \n",
    "\n",
    "for colour in colours:\n",
    "    if colour[0] in [\"A\", \"E\", \"I\", \"O\", \"U\"]:\n",
    "        colours.append(colour)\n",
    "        #if len(colours) > 50:   # line 6\n",
    "         #   break\n",
    "\n",
    "print(colours)"
   ]
  },
  {
   "cell_type": "markdown",
   "metadata": {},
   "source": [
    "This code has been written to add any `colour` it finds beginning with a vowel, during the `colours` list traversal, to the end of the list. It passes without entering `if` for the first two iterations. On the third iteration it reaches `Indigo` which, on account of starting with a vowel takes us into the `if` statement; `Indigo` gets appended to the end of the `colours` list.\n",
    "\n",
    "At this precise point in time the `colours` list becomes\n",
    "\n",
    "```python\n",
    "colours = [\"Green\", \"Blue\", \"Indigo\", \"Violet\", \"Indigo\"]\n",
    "```\n",
    "with `Indigo` now appearing at the end as per the code instruction. On the fourth iteration `colour = \"Violet\"` and the loop ignores `if`. However because `Indigo` was added in the previous iteration, the list is now five items long meaning we shall have a fifth iteration. The loop enters `if` on this fifth iteration because `colour = Indigo`. As a result `Indigo` gets added to the end of the list and `colours` becomes\n",
    "\n",
    "```python\n",
    "colours = [\"Green\", \"Blue\", \"Indigo\", \"Violet\", \"Indigo\", \"Indigo\"]\n",
    "```\n",
    "Now `colours` is six items long and we will consequenlty have a sixth iteration. You've guessed it; the sixth iteration will result in another `Indigo` being added to the list and then another iteration ensuing. And then another `Indigo` added and so on. An infinite loop no less!\n",
    "\n",
    "The cell above can run safely if lines 6 and 7 \n",
    "\n",
    "```python\n",
    " #if len(colours) > 50:   # line 6\n",
    "         #   break\n",
    "```\n",
    "are activated by removing the leftmost \"#'s\"\n",
    "\n",
    "```python\n",
    "if len(colours) > 50:   # line 6\n",
    "    break\n",
    "```\n",
    "I have set the code to `break` once `colours` exceeds 50 items in length...but hopefully the point has been made.\n"
   ]
  },
  {
   "cell_type": "markdown",
   "metadata": {},
   "source": [
    "In the cell below we again take a slightly different tact but we are still mutating a list that we are iterating over. We are spared the infinite loop embarrassment this time but this is still a potentially flawed approach, even if it does arrive at the correct outcome on this occasion. "
   ]
  },
  {
   "cell_type": "code",
   "execution_count": null,
   "metadata": {},
   "outputs": [],
   "source": [
    "colours = [\"Green\", \"Blue\", \"Indigo\", \"Violet\"]\n",
    "\n",
    "for position in range(len(colours)):\n",
    "    colour = colours[position]\n",
    "    if colour[0] in [\"A\", \"E\", \"I\", \"O\", \"U\"]:\n",
    "        colours.append(colour)\n",
    "\n",
    "print(colours)\n"
   ]
  },
  {
   "cell_type": "markdown",
   "metadata": {},
   "source": [
    "Because Python does not reevaluate the iterator variable, \n",
    "\n",
    "```python\n",
    "for position in range(len(colours)):\n",
    "```\n",
    "This line is read once at the start and `position` is fixed to take the values 0,1,2 and 3 based on `colours` initially being four items long. Even though `colours` changes length later in the process this line is not reevaluated so the loop stops after four iterations. Consequently we are not stuck adding `Indigo` indefinitey. \n",
    "\n",
    "Ultimately though, it can be confusing to write code like this. I recommend not iterating over a list that you will be mutating within the `for` loop.\n",
    "\n",
    "This section should act as a reminder to create a new list for this kind of task. "
   ]
  },
  {
   "cell_type": "markdown",
   "metadata": {},
   "source": [
    "Reworking **Example 1:**\n",
    "\n",
    "```python\n",
    "colours = [\"Green\", \"Blue\", \"Indigo\", \"Violet\", \"Purple\", \n",
    "           \"Pink\", \"Brown\", \"Teal\", \"Turquois\", \"Peach\"]\n",
    "\n",
    "new_colours = []\n",
    "for colour in colours:\n",
    "    if colour[0] not in [\"P\", \"B\", \"T\"]:\n",
    "        new_colours.append(colour)\n",
    "\n",
    "print(new_colours)\n",
    "```\n",
    "Reworking **Example 2:**\n",
    "\n",
    "```python\n",
    "colours = [\"Green\", \"Blue\", \"Indigo\", \"Violet\"]  \n",
    "\n",
    "v_colours = colours[:]    #creating a clone of colours\n",
    "for colour in colours:\n",
    "    if colour[0] in [\"A\", \"E\", \"I\", \"O\", \"U\"]:\n",
    "        v_colours.append(colour)\n",
    "\n",
    "print(v_colours)\n",
    "```"
   ]
  },
  {
   "cell_type": "markdown",
   "metadata": {},
   "source": [
    "<a id=\"ref15\"></a>\n",
    "<h2>Sorting with Sort and Sorted</h2>\n",
    "\n",
    "<div align=\"right\"><a href=\"#ref00\">back to top</a></div>"
   ]
  },
  {
   "cell_type": "markdown",
   "metadata": {},
   "source": [
    "When we first introduced lists, we noted the existence of a method `sort()`. When invoked on a list, the order of items in the list is changed. If no optional parameters are specified, the items are arranged in whatever the natural ordering is for the item type. For example, if the items are all integers, then smaller numbers go earlier in the list. If the items are all strings, they are arranged in alphabetic order."
   ]
  },
  {
   "cell_type": "code",
   "execution_count": null,
   "metadata": {},
   "outputs": [],
   "source": [
    "L1 = [1, 7, 4, -2, 3]\n",
    "L2 = [\"Cherry\", \"Apple\", \"Blueberry\"]\n",
    "\n",
    "print(L1)\n",
    "L2.sort()\n",
    "print(L2)"
   ]
  },
  {
   "cell_type": "markdown",
   "metadata": {},
   "source": [
    "Note that the `sort` method does not return a sorted version of the list. In fact, it returns the value None. But the list itself has been modified. This kind of operation that works by having a *side effect* on the list can be quite confusing.\n",
    "\n",
    "In this course, we will generally use an alternative way of sorting, the function `sorted` rather than the method `sort`. Because it is a function rather than a method, it is invoked on a list by passing the list as a parameter inside the brackets, rather than putting the list before the period. More importantly, `sorted` does not change the original list. Instead, it returns a new list.\n"
   ]
  },
  {
   "cell_type": "code",
   "execution_count": null,
   "metadata": {},
   "outputs": [],
   "source": [
    "L2 = [\"Cherry\", \"Apple\", \"Blueberry\"]\n",
    "\n",
    "L3 = sorted(L2)\n",
    "print(L3)\n",
    "print(sorted(L2))\n",
    "print(L2) # unchanged\n",
    "\n",
    "print(\"----\")\n",
    "\n",
    "L2.sort()\n",
    "print(L2)\n",
    "print(L2.sort())  #return value is None"
   ]
  },
  {
   "cell_type": "markdown",
   "metadata": {},
   "source": [
    "### Optional reverse parameter"
   ]
  },
  {
   "cell_type": "markdown",
   "metadata": {},
   "source": [
    "The `sorted` function takes some optional parameters (see the Optional Parameters page). The first optional parameter is a key function, which will be described in the next section. The second optional parameter is a Boolean value which determines whether or not to sort the items in reverse order. By default, it is False, but if you set it to True, the list will be sorted in reverse order."
   ]
  },
  {
   "cell_type": "code",
   "execution_count": null,
   "metadata": {},
   "outputs": [],
   "source": [
    "L2 = [\"Cherry\", \"Apple\", \"Blueberry\"]\n",
    "print(sorted(L2, reverse=True))"
   ]
  },
  {
   "cell_type": "markdown",
   "metadata": {},
   "source": [
    "<div align=\"left\">\n",
    "<a href=\"#q16916\" class=\"btn btn-default\" data-toggle=\"collapse\">Note</a>\n",
    "\n",
    "</div>\n",
    "<div id=\"q16916\" class=\"collapse\">\n",
    "\n",
    "<br></br>\n",
    "This is a situation where it is convenient to use the keyword mechanism for providing optional parameters. It is possible to provide the value `True` for the reverse parameter without naming that parameter, but then we would have to provide a value for the second parameter as well, rather than allowing the default parameter value to be used. We would have had to write `sorted(L2, None, True)`. That's harder to read and understand.\n",
    "    \n",
    "\n",
    "\n",
    "</div>"
   ]
  },
  {
   "cell_type": "markdown",
   "metadata": {},
   "source": [
    "**Have a go:**\n",
    "1. Sort the list, `lst` from largest to smallest. Save this new list to the variable `lst_sorted`."
   ]
  },
  {
   "cell_type": "code",
   "execution_count": null,
   "metadata": {},
   "outputs": [],
   "source": [
    "lst = [3, 5, 1, 6, 7, 2, 9, -2, 5]\n",
    "# write your code here\n",
    "\n",
    "\n",
    "\n"
   ]
  },
  {
   "cell_type": "markdown",
   "metadata": {},
   "source": [
    "<div align=\"right\">\n",
    "<a href=\"#q166\" class=\"btn btn-default\" data-toggle=\"collapse\">Click here for the answer</a>\n",
    "\n",
    "</div>\n",
    "<div id=\"q166\" class=\"collapse\">\n",
    "\n",
    "```python\n",
    "lst_sorted = sorted(lst,reverse = True)\n",
    "print(lst_sorted)\n",
    "\n",
    "```\n",
    "</div>"
   ]
  },
  {
   "cell_type": "markdown",
   "metadata": {},
   "source": [
    "### Optional key parameter"
   ]
  },
  {
   "cell_type": "markdown",
   "metadata": {},
   "source": [
    "If you want to sort things in some order other than the “natural” or or its reverse, you can provide an additional parameter, the key parameter. For example, suppose you want to sort a list of numbers based on their absolute value, so that -4 comes after 3? Or suppose you have a dictionary with strings as the keys and numbers as the values. Instead of sorting them in alphabetic order based on the keys, you might like to sort them in order based on their values.\n",
    "\n",
    "First let’s consider an example and then explore how it works. We'll define a function `absolute` that takes a number and returns its absolute value. (Actually, Python provides a built-in function `abs` that does this, but we are going to define our own, for reasons that will be explained shortly.)"
   ]
  },
  {
   "cell_type": "code",
   "execution_count": null,
   "metadata": {},
   "outputs": [],
   "source": [
    "L1 = [1, 7, 4, -2, 3]\n",
    "\n",
    "def absolute(x):\n",
    "    if x >= 0:\n",
    "        return x\n",
    "    else:\n",
    "        return -x\n",
    "\n",
    "print(absolute(3))\n",
    "print(absolute(-119))\n",
    "\n",
    "for y in L1:\n",
    "    print(absolute(y))\n"
   ]
  },
  {
   "cell_type": "markdown",
   "metadata": {},
   "source": [
    "Now, we can pass the `absolute` function to `sorted` in order to specify that we want items sorted in order of their absolute value, rather than in order of their actual value."
   ]
  },
  {
   "cell_type": "code",
   "execution_count": null,
   "metadata": {},
   "outputs": [],
   "source": [
    "L1 = [1, 7, 4, -2, 3]\n",
    "\n",
    "def absolute(x):\n",
    "    if x >= 0:\n",
    "        return x\n",
    "    else:\n",
    "        return -x\n",
    "\n",
    "L2 = sorted(L1, key = absolute)\n",
    "print(L2)\n",
    "\n",
    "#or in reverse order\n",
    "print(sorted(L1, reverse = True, key = absolute))\n"
   ]
  },
  {
   "cell_type": "markdown",
   "metadata": {},
   "source": [
    "What’s really going on here? We’ve done something pretty different. Before, all the values we have passed as parameters have been easy to understand: numbers, strings, lists, Booleans, dictionaries. Here we have passed a function object: `absolute` is a variable name whose value is the function. When we pass that function object, it is not automatically invoked. Instead, it is just bound to the formal parameter key of the function `sorted`.\n",
    "\n",
    "We are not going to look at the source code for the built-in function `sorted`. But if we did, we would find somewhere in its code a parameter named `key` with a default value of `None`. When a value is provided for that parameter in an invocation of the function `sorted`, it has to be a function. What the `sorted` function does is call that `key` function once for each item in the list that’s getting sorted. It associates the result returned by that function (the `absolute` function in our case) with the original value. Think of those associated values as being post-it notes that decorate the original values. The value 4 has a post-it that says 4 on it, but the value -2 has a post-it that says 2 on it. Then the `sorted` function rearranges the original items in order of the values written on their associated post-it notes.\n",
    "\n",
    "To illustrate that the `absolute` function is invoked once on each item, during the execution of `sorted`, I have added some print statements into the code."
   ]
  },
  {
   "cell_type": "code",
   "execution_count": null,
   "metadata": {},
   "outputs": [],
   "source": [
    "L1 = [1, 7, 4, -2, 3]\n",
    "\n",
    "def absolute(x):\n",
    "    print(\"--- figuring out what to write on the post-it note for \" + str(x))\n",
    "    if x >= 0:\n",
    "        return x\n",
    "    else:\n",
    "        return -x\n",
    "\n",
    "print(\"About to call sorted\")\n",
    "L2 = sorted(L1, key=absolute)\n",
    "print(\"Finished execution of sorted\")\n",
    "print(L2)"
   ]
  },
  {
   "cell_type": "markdown",
   "metadata": {},
   "source": [
    "Note that this code never explicitly calls the `absolute` function at all. It passes the `absolute` function as a parameter value to the `sorted` function. Inside the `sorted` function, whose code we haven’t seen, that function gets invoked."
   ]
  },
  {
   "cell_type": "markdown",
   "metadata": {},
   "source": [
    "<div align=\"left\">\n",
    "<a href=\"#q1\" class=\"btn btn-default\" data-toggle=\"collapse\">Note</a>\n",
    "\n",
    "</div>\n",
    "<div id=\"q1\" class=\"collapse\">\n",
    "<br></br>\n",
    "\n",
    "It may be a little confusing that I am using the word key so many times. The name of the optional parameter is `key`. We will usually pass a parameter value using the keyword parameter passing mechanism. When we write `key=some_function` in the function invocation, the word key is there because it is the name of the parameter, specified in the definition of the sort function, not because we are using keyword-based parameter passing.\n",
    "\n",
    "\n",
    "\n",
    "</div>"
   ]
  },
  {
   "cell_type": "markdown",
   "metadata": {},
   "source": [
    "**Have a go:**\n",
    "1. You will be sorting the following list by each element’s second letter a to z. Create a function to use when sorting that takes a string as input and return the second letter of that string and name it `second_let`. Create a variable called `func_sort` and assign the sorted list to it. Don't use a lambda expression."
   ]
  },
  {
   "cell_type": "code",
   "execution_count": null,
   "metadata": {},
   "outputs": [],
   "source": [
    "ex_lst = ['hi', 'how are you', 'bye', 'apple', 'zebra', 'dance']\n",
    "\n",
    "# write your code here\n",
    "\n",
    "\n",
    "\n"
   ]
  },
  {
   "cell_type": "markdown",
   "metadata": {},
   "source": [
    "<div align=\"right\">\n",
    "<a href=\"#q62\" class=\"btn btn-default\" data-toggle=\"collapse\">Click here for the answer</a>\n",
    "\n",
    "</div>\n",
    "<div id=\"q62\" class=\"collapse\">\n",
    "\n",
    "```python\n",
    "\n",
    "def second_let(s):\n",
    "    return s[1]\n",
    "\n",
    "func_sort = sorted(ex_lst,key=second_let)\n",
    "print(func_sort)\n",
    "  \n",
    "```\n",
    "\n",
    "</div>"
   ]
  },
  {
   "cell_type": "markdown",
   "metadata": {},
   "source": [
    "2. Below, we have provided a list of strings called `nums`. Write a function called `last_char` that takes a string as input, and returns only its last character. Use this function to sort the list `nums` by the last digit of each number, from highest to lowest, and save this as a new list called `nums_sorted`."
   ]
  },
  {
   "cell_type": "code",
   "execution_count": null,
   "metadata": {},
   "outputs": [],
   "source": [
    "nums = ['1450', '33', '871', '19', '14378', '32', '1005', '44', '8907', '16']\n",
    "# write your code here\n",
    "\n",
    "\n"
   ]
  },
  {
   "cell_type": "markdown",
   "metadata": {},
   "source": [
    "<div align=\"right\">\n",
    "<a href=\"#q63\" class=\"btn btn-default\" data-toggle=\"collapse\">Click here for the answer</a>\n",
    "\n",
    "</div>\n",
    "<div id=\"q63\" class=\"collapse\">\n",
    "\n",
    "```python\n",
    "def last_char(s):\n",
    "    return s[-1]\n",
    "\n",
    "nums_sorted = sorted(nums, key = last_char, reverse = True)\n",
    "print(nums_sorted)\n",
    "\n",
    "```\n",
    "\n",
    "</div>"
   ]
  },
  {
   "cell_type": "markdown",
   "metadata": {},
   "source": [
    "3. Once again, sort the list `nums` based on the last digit of each number from highest to lowest. However, now you should do so by writing a lambda function. Save the new list as `nums_sorted_lambda`."
   ]
  },
  {
   "cell_type": "code",
   "execution_count": null,
   "metadata": {},
   "outputs": [],
   "source": [
    "nums = ['1450', '33', '871', '19', '14378', '32', '1005', '44', '8907', '16']\n",
    "\n",
    "nums_sorted_lambda =\n"
   ]
  },
  {
   "cell_type": "markdown",
   "metadata": {},
   "source": [
    "<div align=\"right\">\n",
    "<a href=\"#q64\" class=\"btn btn-default\" data-toggle=\"collapse\">Click here for the answer</a>\n",
    "\n",
    "</div>\n",
    "<div id=\"q64\" class=\"collapse\">\n",
    "\n",
    "```\n",
    "\n",
    "Come back to this when you have covered \n",
    "lambda functions later in this notebook!\n",
    "    \n",
    "```\n",
    "\n",
    "</div>"
   ]
  },
  {
   "cell_type": "markdown",
   "metadata": {},
   "source": [
    "<a id=\"ref16\"></a>\n",
    "<h2>Sorting a Dictionary</h2>\n",
    "\n",
    "<div align=\"right\"><a href=\"#ref00\">back to top</a></div>"
   ]
  },
  {
   "cell_type": "markdown",
   "metadata": {},
   "source": [
    "You may wish to leave this section until you hae completed the notebook on [Dictionaries](01.16-Dictionaries.ipynb)"
   ]
  },
  {
   "cell_type": "markdown",
   "metadata": {},
   "source": [
    "Previously, we have used a dictionary to accumulate counts, such as the frequencies of letters or words in a text. For example, the following code counts the frequencies of different numbers in the list."
   ]
  },
  {
   "cell_type": "code",
   "execution_count": null,
   "metadata": {},
   "outputs": [],
   "source": [
    "L = ['E','F','B','A','D','I','I','C','B','A','D','D','E','D']\n",
    "\n",
    "d = {}\n",
    "for x in L:\n",
    "    if x in d:\n",
    "        d[x] = d[x] + 1\n",
    "    else:\n",
    "        d[x] = 1\n",
    "for x in d.keys():\n",
    "    print(\"{} appears {} times\".format(x, d[x]))\n"
   ]
  },
  {
   "cell_type": "markdown",
   "metadata": {},
   "source": [
    "The dictionary’s keys are not sorted in any particular order. In fact, you may get a different order of output than someone else running the same code. We can force the results to be displayed in some fixed ordering, by sorting the keys."
   ]
  },
  {
   "cell_type": "code",
   "execution_count": null,
   "metadata": {},
   "outputs": [],
   "source": [
    "L = ['E','F','B','A','D','I','I','C','B','A','D','D','E','D']\n",
    "\n",
    "d = {}\n",
    "for x in L:\n",
    "    if x in d:\n",
    "        d[x] = d[x] + 1\n",
    "    else:\n",
    "        d[x] = 1\n",
    "y = sorted(d.keys())\n",
    "for k in y:\n",
    "    print(\"{} appears {} times\".format(k, d[k]))\n"
   ]
  },
  {
   "cell_type": "markdown",
   "metadata": {},
   "source": [
    "With a dictionary that’s maintaining counts or some other kind of score, we might prefer to get the outputs sorted based on the count rather than on the items. The standard way to do that in Python is to sort based on a property of the key, in particular its value in the dictionary.\n",
    "\n",
    "Here things get a little confusing because we have two different meanings of the word “key”. One meaning is a key in a dictionary. The other meaning is the parameter name for the function that you pass into the `sorted` function.\n",
    "\n",
    "Remember that the `key` function always takes as input one item from the sequence and returns a property of the item. In our case, the items to be sorted are the dictionary’s keys, so each item is one key from the dictionary. To remind ourselves of that, we’ve named the parameter in the lambda expression `k`. The property of key `k` that is supposed to be returned is its associated `value` in the dictionary. Hence, we have the lambda expression `lambda k: d[k]`."
   ]
  },
  {
   "cell_type": "code",
   "execution_count": null,
   "metadata": {},
   "outputs": [],
   "source": [
    "L = ['E','F','B','A','D','I','I','C','B','A','D','D','E','D']\n",
    "\n",
    "d = {}\n",
    "for x in L:\n",
    "    if x in d:\n",
    "        d[x] = d[x] + 1\n",
    "    else:\n",
    "        d[x] = 1\n",
    "\n",
    "y = sorted(d.keys(), key=lambda k: d[k], reverse=True)\n",
    "for k in y:\n",
    "    print(\"{} appears {} times\".format(k, d[k]))\n"
   ]
  },
  {
   "cell_type": "markdown",
   "metadata": {},
   "source": [
    "Here’s a version of that using a named function."
   ]
  },
  {
   "cell_type": "code",
   "execution_count": null,
   "metadata": {},
   "outputs": [],
   "source": [
    "L = ['E','F','B','A','D','I','I','C','B','A','D','D','E','D']\n",
    "\n",
    "d = {}\n",
    "for x in L:\n",
    "    if x in d:\n",
    "        d[x] = d[x] + 1\n",
    "    else:\n",
    "        d[x] = 1\n",
    "\n",
    "def g(k):\n",
    "    return d[k]\n",
    "\n",
    "y =(sorted(d.keys(), key=g, reverse=True))\n",
    "\n",
    "# now loop through the keys\n",
    "for k in y:\n",
    "    print(\"{} appears {} times\".format(k, d[k]))\n"
   ]
  },
  {
   "cell_type": "markdown",
   "metadata": {},
   "source": [
    "<div align=\"left\">\n",
    "<a href=\"#q19\" class=\"btn btn-default\" data-toggle=\"collapse\">Note</a>\n",
    "\n",
    "</div>\n",
    "<div id=\"q19\" class=\"collapse\">\n",
    "\n",
    "<br></br>\n",
    "When we sort the keys, passing a function with `key=lambda x: d[x]` does not specify to sort the keys of a dictionary. The lists of keys are passed as the first parameter value in the invocation of sort. The `key` parameter provides a function that identifies the criteria on which to sort them.\n",
    "\n",
    "\n",
    "</div>"
   ]
  },
  {
   "cell_type": "markdown",
   "metadata": {},
   "source": [
    "When you become a more experienced programmer, certainly by the end of this course, you will probably not even separate out the sorting step; and also take advantage of the fact that when you pass a dictionary to something that is expecting a list, its the same as passing the list of dictionary keys. "
   ]
  },
  {
   "cell_type": "code",
   "execution_count": null,
   "metadata": {},
   "outputs": [],
   "source": [
    "L = ['E','F','B','A','D','I','I','C','B','A','D','D','E','D']\n",
    "\n",
    "d = {}\n",
    "for x in L:\n",
    "    if x in d:\n",
    "        d[x] = d[x] + 1\n",
    "    else:\n",
    "        d[x] = 1\n",
    "\n",
    "# now loop through the sorted keys\n",
    "for k in sorted(d, key=lambda k: d[k], reverse=True):  # line 11\n",
    "      print(\"{} appears {} times\".format(k, d[k]))\n"
   ]
  },
  {
   "cell_type": "markdown",
   "metadata": {},
   "source": [
    "Eventually, you will be able to read code like that and immediately know what it’s doing. For now, when you come across something potentially confusing, such as line 11, try breaking it down: \n",
    "```\n",
    "1. The function sorted is invoked. \n",
    "\n",
    "2. Its first parameter value is the dictionary, d, which \n",
    "   really means the keys of the dictionary d. \n",
    "   \n",
    "3. The second parameter, the key function, decorates the dictionary key \n",
    "   with a post-it note containing that key’s value in dictionary d. \n",
    "   \n",
    "4. The last parameter, True, says to sort in reverse order.\n",
    "```\n",
    "There is another way to sort dictionaries, by calling `.items()` to extract a sequence of `(key, value)` tuples, and then sorting that sequence of tuples. But it’s better to learn the Pythonic way of doing it too; sorting the dictionary keys using a `key` function that takes one key as input and looks up the value in the dictionary."
   ]
  },
  {
   "cell_type": "markdown",
   "metadata": {},
   "source": [
    "**Have a go:**\n",
    "1. Which of the following will sort the keys of `d` in ascending order of their values (i.e., from lowest to highest)?"
   ]
  },
  {
   "cell_type": "code",
   "execution_count": null,
   "metadata": {},
   "outputs": [],
   "source": [
    "L = [4, 5, 1, 0, 3, 8, 8, 2, 1, 0, 3, 3, 4, 3]\n",
    "\n",
    "d = {}\n",
    "for x in L:\n",
    "    if x in d:\n",
    "        d[x] = d[x] + 1\n",
    "    else:\n",
    "        d[x] = 1\n",
    "\n",
    "def g(k, d):\n",
    "    return d[k]\n",
    "\n",
    "ks = d.keys()\n"
   ]
  },
  {
   "cell_type": "markdown",
   "metadata": {},
   "source": [
    "```python\n",
    "A. sorted(ks, key=g)\n",
    "B. sorted(ks, key=lambda x: g(x, d))\n",
    "C. sorted(ks, key=lambda x: d[x])\n",
    "```"
   ]
  },
  {
   "cell_type": "markdown",
   "metadata": {},
   "source": [
    "<div align=\"right\">\n",
    "<a href=\"#qe4\" class=\"btn btn-default\" data-toggle=\"collapse\">Click here for the answer</a>\n",
    "\n",
    "</div>\n",
    "<div id=\"qe4\" class=\"collapse\">\n",
    "\n",
    "```\n",
    "B. The lambda function takes just one parameter, and calls g \n",
    "   with two parameters.\n",
    "\n",
    "C. The lambda function looks up the value of x in d.\n",
    "    \n",
    "```\n",
    "\n",
    "</div>"
   ]
  },
  {
   "cell_type": "markdown",
   "metadata": {},
   "source": [
    "2. Sort the following dictionary based on the keys so that they are sorted a to z. Assign the resulting value to the variable `sorted_keys`."
   ]
  },
  {
   "cell_type": "code",
   "execution_count": null,
   "metadata": {},
   "outputs": [],
   "source": [
    "dictionary = {\"Flowers\": 10, 'Trees': 20, 'Chairs': 6, \n",
    "              \"Firepit\": 1, 'Grill': 2, 'Lights': 14}\n",
    "\n",
    "# write your code here\n",
    "\n",
    "\n"
   ]
  },
  {
   "cell_type": "markdown",
   "metadata": {},
   "source": [
    "<div align=\"right\">\n",
    "<a href=\"#qd4\" class=\"btn btn-default\" data-toggle=\"collapse\">Click here for the answer</a>\n",
    "\n",
    "</div>\n",
    "<div id=\"qd4\" class=\"collapse\">\n",
    "\n",
    "```python\n",
    "\n",
    "sorted_keys = sorted(dictionary)\n",
    "print(sorted_keys)\n",
    "\n",
    "```\n",
    "\n",
    "</div>"
   ]
  },
  {
   "cell_type": "markdown",
   "metadata": {},
   "source": [
    "3. Below find the dictionary `groceries`, whose keys are grocery items, and whose values represent the number of each item that need to be purchased. Sort the dictionary’s keys into alphabetical order, and save them as a list called `grocery_keys_sorted`."
   ]
  },
  {
   "cell_type": "code",
   "execution_count": null,
   "metadata": {},
   "outputs": [],
   "source": [
    "groceries = {'apples': 5, 'pasta': 3, 'carrots': 12, 'orange juice': 2, \n",
    "             'bananas': 8, 'popcorn': 1, 'salsa': 3, 'cereal': 4, \n",
    "             'coffee': 5, 'granola bars': 15, 'onions': 7, 'rice': 1, \n",
    "             'peanut butter': 2, 'spinach': 9}\n",
    "\n",
    "# write your code here\n",
    "\n",
    "\n",
    "\n"
   ]
  },
  {
   "cell_type": "markdown",
   "metadata": {},
   "source": [
    "<div align=\"right\">\n",
    "<a href=\"#qc4\" class=\"btn btn-default\" data-toggle=\"collapse\">Click here for the answer</a>\n",
    "\n",
    "</div>\n",
    "<div id=\"qc4\" class=\"collapse\">\n",
    "\n",
    "```python\n",
    "grocery_keys_sorted = sorted(groceries)\n",
    "print(grocery_keys_sorted)\n",
    "   \n",
    "```\n",
    "\n",
    "</div>"
   ]
  },
  {
   "cell_type": "markdown",
   "metadata": {},
   "source": [
    "4. Sort the following dictionary’s keys based on the value from highest to lowest. Assign the resulting value to the variable `sorted_values`."
   ]
  },
  {
   "cell_type": "code",
   "execution_count": null,
   "metadata": {},
   "outputs": [],
   "source": [
    "dictionary = {\"Flowers\": 10, 'Trees': 20, 'Chairs': 6, \"Firepit\": 1, 'Grill': 2, 'Lights': 14}\n",
    "\n",
    "# write your code here\n",
    "\n",
    "\n",
    "\n"
   ]
  },
  {
   "cell_type": "markdown",
   "metadata": {},
   "source": [
    "<div align=\"right\">\n",
    "<a href=\"#qb4\" class=\"btn btn-default\" data-toggle=\"collapse\">Click here for the answer</a>\n",
    "\n",
    "</div>\n",
    "<div id=\"qb4\" class=\"collapse\">\n",
    "\n",
    "```python\n",
    "sorted_values = sorted(dictionary, key=lambda x: \n",
    "                       dictionary[x], reverse = True)\n",
    "print(sorted_values) \n",
    "```\n",
    "\n",
    "</div>"
   ]
  },
  {
   "cell_type": "markdown",
   "metadata": {},
   "source": [
    "<a id=\"ref17\"></a>\n",
    "<h2>Breaking Ties: Second Sorting</h2>\n",
    "\n",
    "<div align=\"right\"><a href=\"#ref00\">back to top</a></div>"
   ]
  },
  {
   "cell_type": "markdown",
   "metadata": {},
   "source": [
    "What happens when two items are tied in the sort order? For example, suppose we sort a list of words by their lengths. Which five-letter word will appear first in the event that there is more than one of them?\n",
    "\n",
    "The answer is that the Python interpreter will return the tied items in the same order they were in before the sorting.\n",
    "\n",
    "What if we wanted to sort them by some other property, say alphabetically, when the words were the same length? Python allows us to specify multiple conditions when we perform a sort by returning a tuple from a `key` function.\n",
    "\n",
    "First, let’s see how Python sorts tuples. We’ve already seen that there’s a built-in sort order, if we don’t specify any `key` function. For numbers, it’s lowest to highest. For strings, it’s alphabetic order. For a sequence of tuples, the default sort order is based on the default sort order for the first elements of the tuples, with ties being broken by the second elements, and then third elements if necessary, etc. For example,"
   ]
  },
  {
   "cell_type": "code",
   "execution_count": null,
   "metadata": {},
   "outputs": [],
   "source": [
    "tups = [('A', 3, 2),\n",
    "        ('C', 1, 4),\n",
    "        ('B', 3, 1),\n",
    "        ('A', 2, 4),\n",
    "        ('C', 1, 2)]\n",
    "for tup in sorted(tups):\n",
    "    print(tup)"
   ]
  },
  {
   "cell_type": "markdown",
   "metadata": {},
   "source": [
    "In the code below, we are going to sort a list of words, first by their length, smallest to largest, and then alphabetically to break ties among words of the same length. To do that, we have the `key` function return a tuple whose first element is the length of the word, and second element is the word itself."
   ]
  },
  {
   "cell_type": "code",
   "execution_count": null,
   "metadata": {},
   "outputs": [],
   "source": [
    "fruits = ['peach', 'kiwi', 'apple', 'blueberry', 'papaya', 'mango', 'pear']\n",
    "new_order = sorted(fruits, key=lambda x: (len(x), x))\n",
    "for fruit in new_order:\n",
    "    print(fruit)\n"
   ]
  },
  {
   "cell_type": "markdown",
   "metadata": {},
   "source": [
    "Here, each word is evaluated first on it’s length, then by alphabetical order. Note that we could continue to specify other conditions by including more elements in the tuple.\n",
    "\n",
    "What would happen though if we wanted to sort it by largest to smallest, and then by alphabetical order?"
   ]
  },
  {
   "cell_type": "code",
   "execution_count": null,
   "metadata": {},
   "outputs": [],
   "source": [
    "fruits = ['peach', 'kiwi', 'apple', 'blueberry', 'papaya', 'mango', 'pear']\n",
    "new_order = sorted(fruits, key=lambda x: (len(x),x), reverse=True)\n",
    "for fruit in new_order:\n",
    "    print(fruit)\n"
   ]
  },
  {
   "cell_type": "markdown",
   "metadata": {},
   "source": [
    "Do you see a problem here? Not only does it sort the words from largest to smallest, but also in reverse alphabetical order! Can you think of any ways you can solve this issue?\n",
    "\n",
    "One solution is to add a negative sign in front of `len(fruit_name)`, which will convert all positive numbers to negative, and all negative numbers to positive. As a result, the longest elements would be first and the shortest elements would be last."
   ]
  },
  {
   "cell_type": "code",
   "execution_count": null,
   "metadata": {},
   "outputs": [],
   "source": [
    "fruits = ['peach', 'kiwi', 'apple', 'blueberry', 'papaya', 'mango', 'pear']\n",
    "new_order = sorted(fruits, key=lambda x: (-len(x), x))\n",
    "for fruit in new_order:\n",
    "    print(fruit)"
   ]
  },
  {
   "cell_type": "markdown",
   "metadata": {},
   "source": [
    "**Have a go:**\n",
    "1. What will the `sorted` function sort by?"
   ]
  },
  {
   "cell_type": "code",
   "execution_count": null,
   "metadata": {},
   "outputs": [],
   "source": [
    "weather = {'Reykjavik': {'temp':60, 'condition': 'rainy'},\n",
    "           'Buenos Aires': {'temp': 55, 'condition': 'cloudy'},\n",
    "           'Cairo': {'temp': 96, 'condition': 'sunny'},\n",
    "           'Berlin': {'temp': 89 'condition': 'sunny'},\n",
    "           'Caloocan': {'temp': 78 'condition': 'sunny'}}\n",
    "\n",
    "sorted_weather = sorted(weather, key=lambda w: (w, weather[w]['temp']))"
   ]
  },
  {
   "cell_type": "markdown",
   "metadata": {},
   "source": [
    "```\n",
    "A. first city name (alphabetically), then temperature (low to high)\n",
    "B. first temperature (high to low), then city name (alphabetically)\n",
    "C. first city name (alphabetically), then temperature (high to low)\n",
    "D. first temperature (low to high), then city name (alphabetically)\n",
    "\n",
    "```"
   ]
  },
  {
   "cell_type": "markdown",
   "metadata": {},
   "source": [
    "<div align=\"right\">\n",
    "<a href=\"#qb4z\" class=\"btn btn-default\" data-toggle=\"collapse\">Click here for the answer</a>\n",
    "\n",
    "</div>\n",
    "<div id=\"qb4z\" class=\"collapse\">\n",
    "\n",
    "```\n",
    "A. first city name (alphabetically),then temperature (lowest to highest)\n",
    "\n",
    "(Correct! First we sort alphabetically by city name, then by the \n",
    " temperature, from lowest to highest.)    \n",
    "   \n",
    "```\n",
    "\n",
    "</div>"
   ]
  },
  {
   "cell_type": "markdown",
   "metadata": {},
   "source": [
    "2. How will the following data be sorted?"
   ]
  },
  {
   "cell_type": "code",
   "execution_count": null,
   "metadata": {},
   "outputs": [],
   "source": [
    "weather = {'Reykjavik': {'temp':60, 'condition': 'rainy'},\n",
    "           'Buenos Aires': {'temp': 55, 'condition': 'cloudy'},\n",
    "           'Cairo': {'temp': 96, 'condition': 'sunny'},\n",
    "           'Berlin': {'temp': 89 'condition': 'sunny'},\n",
    "           'Caloocan': {'temp': 78 'condition': 'sunny'}}\n",
    "\n",
    "sorted_weather = sorted(weather, key=lambda w: (w, -weather[w]['temp']), reverse=True)"
   ]
  },
  {
   "cell_type": "markdown",
   "metadata": {},
   "source": [
    "```\n",
    "A. first city name (reverse alpha.), then temperature (low to high)\n",
    "B. first temperature (high to low), then city name (alpha.)\n",
    "C. first city name (reverse alpha.), then temperature (high to low)\n",
    "D. first temperature (low to high), then city name (alphab.)\n",
    "E. first city name (alpha.), then temperature (low to high)\n",
    "```"
   ]
  },
  {
   "cell_type": "markdown",
   "metadata": {},
   "source": [
    "<div align=\"right\">\n",
    "<a href=\"#qb4zz\" class=\"btn btn-default\" data-toggle=\"collapse\">Click here for the answer</a>\n",
    "\n",
    "</div>\n",
    "<div id=\"qb4zz\" class=\"collapse\">\n",
    "\n",
    "```\n",
    " A. first city name(reverse alphabet.),then temperature(low to high)\n",
    " \n",
    " (Correct! In this case, the reverse parameter will cause the country \n",
    "  name to be  sorted reverse alphabetically instead of alphabetically, \n",
    "  and it will also negate the negative sign in front of the temperature)\n",
    "  \n",
    "```\n",
    "\n",
    "</div>"
   ]
  },
  {
   "cell_type": "markdown",
   "metadata": {},
   "source": [
    "<a id=\"ref18\"></a>\n",
    "<h2>When to use a Lambda Expression</h2>\n",
    "\n",
    "<div align=\"right\"><a href=\"#ref00\">back to top</a></div>"
   ]
  },
  {
   "cell_type": "markdown",
   "metadata": {},
   "source": [
    "Though you can often use a `lambda` expression or a named function interchangeably when sorting, it’s generally best to use `lambda` expressions until the process is too complicated, and then a function should be used. For example, in the following examples, we’ll be sorting a dictionary’s keys by properties of its values. Each key is a county name and each value is a list of town names in the respective counties.\n",
    "\n",
    "For our first sort order, we want to sort the counties in order by the length of the first town name. Here, it’s pretty easy to compute that property. `counties[county]` is the list of towns associated with a particular county. So if the county is a list of town strings, `len(counties[county][0])` is the length of the first town name. Thus, we can use a `lambda` expression:"
   ]
  },
  {
   "cell_type": "code",
   "execution_count": null,
   "metadata": {},
   "outputs": [],
   "source": [
    "counties = {\"Armagh\": [\"Mountnorris\", \"Charlemont\", \"Bynan\", \"Blackwatertown\"],\n",
    "          \"Antrim\": [\"Antrim\", \"Cullybackey\", \"Toome\", \"Ballymena\"],\n",
    "          \"Fermanagh\": [\"Boho\", \"Enniskillen\", \"Lisnaskea\", \"Lisbellaw\"]}\n",
    "\n",
    "print(sorted(counties, key=lambda county: len(counties[county][0])))"
   ]
  },
  {
   "cell_type": "markdown",
   "metadata": {},
   "source": [
    "This is actually pushing the limits of how complex a `lambda` expression can be before it’s really hard to read (or debug).\n",
    "\n",
    "For our second sort order, the property we want to sort by is the number of towns that begin with the letter ‘B’. The function defining this property is harder to express, requiring a filter and count accumulation pattern. So we are better off defining a separate, named function. Here, I’ve chosen to make a `lambda` expression that looks up the value associated with the particular county and pass that value to the named function `b_towns_count`. We could have passed just the key, but then the function would have to look up the value, and it would be a little confusing, from the code, to figure out what dictionary the key is supposed to be looked up in. Here, we’ve done the lookup right in the `lambda` expression, which makes it a little bit clearer that we’re just sorting the keys of the counties dictionary based on a property of their values. It also makes it easier to reuse the counting function on other town lists, even if they aren’t embedded in that particular county's dictionary."
   ]
  },
  {
   "cell_type": "code",
   "execution_count": null,
   "metadata": {},
   "outputs": [],
   "source": [
    "def b_towns_count(town_list):\n",
    "    twn = 0\n",
    "    for town in town_list:\n",
    "        if town[0] == \"B\":\n",
    "            twn += 1\n",
    "    return twn\n",
    "\n",
    "counties = {\"Armagh\": [\"Mountnorris\", \"Charlemont\", \"Bynan\", \"Blackwatertown\"],\n",
    "          \"Antrim\": [\"Antrim\", \"Cullybackey\", \"Toome\", \"Ballymena\"],\n",
    "          \"Fermanagh\": [\"Boho\", \"Enniskillen\", \"Lisnaskea\", \"Lisbellaw\"]}\n",
    "\n",
    "print(sorted(counties, key=lambda county: b_towns_count(counties[county])))\n"
   ]
  },
  {
   "cell_type": "markdown",
   "metadata": {},
   "source": [
    "At this point in the course, we don’t yet know how to do such a filter and accumulation as part of a `lambda` expression. There is a way, using something called list comprehensions; we haven’t covered those yet, but we will!\n",
    "\n",
    "There will be other situations that are even more complicated than this. In some cases, they may be too complicated to solve with a `lambda` expression at all! You can always fall back on writing a named function when a `lambda` expression is not an option."
   ]
  },
  {
   "cell_type": "markdown",
   "metadata": {},
   "source": [
    "<a id=\"ref19\"></a>\n",
    "<h2>Glossary</h2>\n",
    "\n",
    "<div align=\"right\"><a href=\"#ref00\">back to top</a></div>"
   ]
  },
  {
   "cell_type": "markdown",
   "metadata": {},
   "source": [
    "**accumulator pattern:**\n",
    "a pattern where the program initialises an accumulator variable and then changes it during each iteration, accumulating a final result.\n",
    "\n",
    "**for loop traversal (`for`):**\n",
    "*traversing* a string or a list means accessing each character in the string or item in the list, one at a time. For example, the following `for` loop:\n",
    "\n",
    "```for ix in 'Example':\n",
    "    ...\n",
    "```\n",
    "executes the body of the loop 7 times with different values of `ix` each time.\n",
    "\n",
    "**index:**\n",
    "a variable or value used to select a member of an ordered collection, such as a character from a string, or an element from a list.\n",
    "\n",
    "**key parameter:**\n",
    "if a value is specified, it must be a function object that takes one parameter. The function will be called once for each item in the list that’s getting sorted. The return value will be used to decorate the item with a post-it note. Values on the post-it notes are used to determine the sort order of the items.\n",
    "\n",
    "**pattern:**\n",
    "a sequence of statements, or a style of coding something that has general applicability in a number of different situations. Part of becoming a mature programmer is to learn and establish the patterns and algorithms that form your toolkit.\n",
    "\n",
    "**range:**\n",
    "a function that produces a list of numbers. For example, `range(5)`, produces a list of five numbers, starting with 0, `[0, 1, 2, 3, 4]`.\n",
    "\n",
    "**reverse parameter:**\n",
    "if True, the sorting is done in reverse order.\n",
    "\n",
    "**sort:**\n",
    "a method that sorts a list in place, changing the contents of the list. It returns `None`, not a new list.\n",
    "\n",
    "**sorted:**\n",
    "a function that returns a sorted list, without changing the original.\n",
    "\n",
    "\n",
    "**traverse:**\n",
    "to iterate through the elements of a collection, performing a similar operation on each.\n",
    "\n",
    "\n",
    "\n",
    "\n",
    "\n",
    "\n",
    "\n"
   ]
  },
  {
   "cell_type": "markdown",
   "metadata": {},
   "source": [
    "<a id=\"ref20\"></a>\n",
    "<h2>Exercises</h2>\n",
    "\n",
    "<div align=\"right\"><a href=\"#ref00\">back to top</a></div>"
   ]
  },
  {
   "cell_type": "markdown",
   "metadata": {},
   "source": [
    "1. For each word in the list `verbs`, add an -ing ending. Overwrite the old list so that `verbs` has the same words with ing at the end of each one."
   ]
  },
  {
   "cell_type": "code",
   "execution_count": null,
   "metadata": {},
   "outputs": [],
   "source": [
    "verbs = [\"laugh\", \"cry\", \"walk\", \"eat\", \"drink\", \"fly\"]\n",
    "\n",
    "# write your code here\n",
    "\n",
    "\n"
   ]
  },
  {
   "cell_type": "markdown",
   "metadata": {},
   "source": [
    "<div align=\"right\">\n",
    "<a href=\"#aqb4zz\" class=\"btn btn-default\" data-toggle=\"collapse\">Click here for the answer</a>\n",
    "\n",
    "</div>\n",
    "<div id=\"aqb4zz\" class=\"collapse\">\n",
    "\n",
    "```python\n",
    "\n",
    "for i in range(len(verbs)):\n",
    "    verbs[i] = verbs[i] + \"ing\"\n",
    "print(verbs)\n",
    "```\n",
    "\n",
    "</div>"
   ]
  },
  {
   "cell_type": "markdown",
   "metadata": {},
   "source": [
    "2. In Ulster University upper level Python modules are labelled 300 and up, upper level Engineering modules are numbered 200 and up and upper level Sociology modules are numbered 400 and up. Create two lists, `upper` and `lower`. Assign each module in `modules` to the correct list, `upper` or `lower`. HINT: remember, you can convert some strings to different types!"
   ]
  },
  {
   "cell_type": "code",
   "execution_count": null,
   "metadata": {},
   "outputs": [],
   "source": [
    "modules = [\"PYTH 150\", \"SOCI 111\", \"SOCI 313\", \"SOCI 412\", \"PYTH 300\", \"PYTH 404\", \"PYTH 206\", \"ENG 100\", \"ENG 103\", \"ENG 201\", \"SOCI 508\", \"ENG 220\", \"ENG 125\", \"ENG 124\"]\n",
    "\n",
    "# write your code here\n",
    "\n",
    "\n",
    "\n"
   ]
  },
  {
   "cell_type": "markdown",
   "metadata": {},
   "source": [
    "<div align=\"right\">\n",
    "<a href=\"#bqb4zz\" class=\"btn btn-default\" data-toggle=\"collapse\">Click here for the answer</a>\n",
    "\n",
    "</div>\n",
    "<div id=\"bqb4zz\" class=\"collapse\">\n",
    "\n",
    "```python\n",
    "\n",
    "lower = [];upper = []\n",
    "for module in modules:   # \\ means code continued on next line\n",
    "    if (module[0] == \"P\" and int(module[-3:]) >= 300)\\\n",
    "    or (module[0] == \"E\" and int(module[-3:]) >= 200)\\\n",
    "    or (module[0] == \"S\" and int(module[-3:]) >= 400):\n",
    "        upper.append(module)\n",
    "    else:\n",
    "        lower.append(module)       \n",
    "\n",
    "print(lower)\n",
    "print(upper)  \n",
    "\n",
    "```\n",
    "\n",
    "</div>"
   ]
  },
  {
   "cell_type": "markdown",
   "metadata": {},
   "source": [
    "3. Starting with the list provided, write Python statements to do the following:\n",
    "\n",
    "\n",
    "* Append “apple” and 76 to the list.\n",
    "* Insert the value “cat” at position 3.\n",
    "* Insert the value 99 at the start of the list.\n",
    "* Find the index of “hello”.\n",
    "* Count the number of 76s in the list.\n",
    "* Remove the first occurrence of 76 from the list.\n",
    "* Remove True from the list using pop and index."
   ]
  },
  {
   "cell_type": "code",
   "execution_count": null,
   "metadata": {},
   "outputs": [],
   "source": [
    "myList = [76, 92.3, 'hello', True, 4, 76]\n",
    "\n",
    "# write your code here\n",
    "\n",
    "\n"
   ]
  },
  {
   "cell_type": "markdown",
   "metadata": {},
   "source": [
    "<div align=\"right\">\n",
    "<a href=\"#cqb4zz\" class=\"btn btn-default\" data-toggle=\"collapse\">Click here for the answer</a>\n",
    "\n",
    "</div>\n",
    "<div id=\"cqb4zz\" class=\"collapse\">\n",
    "\n",
    "```python\n",
    "\n",
    "myList.append(\"apple\")\n",
    "print(\"'apple' has been added to give\\n\",myList)\n",
    "print()\n",
    "myList.append(76)\n",
    "print(\"76 has been added too\\n\",myList)\n",
    "print()\n",
    "myList.insert(3,\"cat\")\n",
    "print(\"'cat' has been added at index 3\\n\",myList)\n",
    "print()\n",
    "myList.insert(0,99)\n",
    "print(\"99 has been added to the start of the list\\n\",myList)\n",
    "print()\n",
    "a = myList.index(\"hello\")\n",
    "print(\"The index value of 'hello' is \",a)\n",
    "print()\n",
    "b = myList.count(76)\n",
    "print(\"There are \",b ,\"76's in the list\\n\",myList)\n",
    "print()\n",
    "myList.remove(76)\n",
    "print(\"Here we have removed the first occurence of 76 from the list\\n\", myList)\n",
    "print()\n",
    "myList.pop(myList.index(True))\n",
    "print('True has been \"popped\" from the list\\n',myList)\n",
    "  \n",
    "```\n",
    "\n",
    "</div> "
   ]
  },
  {
   "cell_type": "markdown",
   "metadata": {},
   "source": [
    "4. The module `keyword` determines if a string is a keyword. e.g. `keyword.iskeyword(s)` where `s` is a string will return either `True` or `False`, depending on whether or not the string is a Python keyword. Import the `keyword` module and test to see whether each of the words in list `test` are keywords. Save the respective answers in a list, `keyword_test`."
   ]
  },
  {
   "cell_type": "code",
   "execution_count": null,
   "metadata": {},
   "outputs": [],
   "source": [
    "test = [\"else\", \"integer\", \"except\", \"elif\"]\n",
    "keyword_test = []\n",
    "\n",
    "# write your code here\n",
    "\n",
    "\n"
   ]
  },
  {
   "cell_type": "markdown",
   "metadata": {},
   "source": [
    "<div align=\"right\">\n",
    "<a href=\"#dqb4zz\" class=\"btn btn-default\" data-toggle=\"collapse\">Click here for the answer</a>\n",
    "\n",
    "</div>\n",
    "<div id=\"dqb4zz\" class=\"collapse\">\n",
    "\n",
    "```python\n",
    "\n",
    "import keyword as kwd\n",
    "for word in test:\n",
    "    keyword_test.append(kwd.iskeyword(word))\n",
    "print(keyword_test)\n",
    "  \n",
    "```\n",
    "\n",
    "</div>"
   ]
  },
  {
   "cell_type": "markdown",
   "metadata": {},
   "source": [
    "5. The `string` module provides sequences of various types of Python characters. It has an attribute called `digits` that produces the string ‘0123456789’. Import the module and assign this string to the variable `nums`. Below, we have provided a list of characters called `chars`. Using `nums` and `chars`, produce a list called `is_num` that consists of tuples. The first element of each tuple should be the character from `chars`, and the second element should be a Boolean that reflects whether or not it is a Python digit.\n",
    "\n"
   ]
  },
  {
   "cell_type": "code",
   "execution_count": null,
   "metadata": {},
   "outputs": [],
   "source": [
    "chars = ['h', '1', 'C', 'i', '9', 'True', '3.1', '8', 'F', '4', 'j']\n",
    "# write your code here\n",
    "\n"
   ]
  },
  {
   "cell_type": "markdown",
   "metadata": {},
   "source": [
    "<div align=\"right\">\n",
    "<a href=\"#dqb4zzz\" class=\"btn btn-default\" data-toggle=\"collapse\">Click here for the answer</a>\n",
    "\n",
    "</div>\n",
    "<div id=\"dqb4zzz\" class=\"collapse\">\n",
    "\n",
    "```python\n",
    "\n",
    "import string as stg\n",
    "nums = stg.digits\n",
    "\n",
    "def is_digit(s):\n",
    "    a = str(s) in nums\n",
    "    return s,a\n",
    "    \n",
    "is_num = []\n",
    "for char in chars:\n",
    "    is_num.append(is_digit(char))\n",
    "print(is_num)\n",
    " \n",
    "```\n",
    "\n",
    "</div>"
   ]
  },
  {
   "cell_type": "markdown",
   "metadata": {},
   "source": [
    "Now you are going to be asked to write a function that takes a string as parameter and returns a list of the five most frequent characters in the string. Soon you will be able to solve this sort of problem without coaching; but I am going to step through this as a series of exercises. First the function will count the frequencies of all the characters, as we’ve done before using a dictionary and the accumulator pattern. Then it will sort the (key, value) pairs. Finally it will take a slice of the sorted list to get just the top five. That slice will be returned."
   ]
  },
  {
   "cell_type": "markdown",
   "metadata": {},
   "source": [
    "6.  Suppose you had this list, `[8, 7, 6, 6, 4, 4, 3, 1, 0]`, already sorted, how would you make a list of just the best 5? "
   ]
  },
  {
   "cell_type": "code",
   "execution_count": null,
   "metadata": {},
   "outputs": [],
   "source": [
    "# write your code here\n",
    "\n",
    "\n"
   ]
  },
  {
   "cell_type": "markdown",
   "metadata": {},
   "source": [
    "<div align=\"right\">\n",
    "<a href=\"#eqb4zz\" class=\"btn btn-default\" data-toggle=\"collapse\">Click here for the answer</a>\n",
    "\n",
    "</div>\n",
    "<div id=\"eqb4zz\" class=\"collapse\">\n",
    "\n",
    "```python\n",
    "L = [8, 7, 6, 6, 4, 4, 3, 1, 0]\n",
    "L[:5]\n",
    "  \n",
    "```\n",
    "\n",
    "</div>"
   ]
  },
  {
   "cell_type": "markdown",
   "metadata": {},
   "source": [
    "7. Now suppose the list wasn’t sorted yet. How would get those same five elements from this list?"
   ]
  },
  {
   "cell_type": "code",
   "execution_count": null,
   "metadata": {},
   "outputs": [],
   "source": [
    "# write your code here\n",
    "\n",
    "\n"
   ]
  },
  {
   "cell_type": "markdown",
   "metadata": {},
   "source": [
    "<div align=\"right\">\n",
    "<a href=\"#fqb4zz\" class=\"btn btn-default\" data-toggle=\"collapse\">Click here for the answer</a>\n",
    "\n",
    "</div>\n",
    "<div id=\"fqb4zz\" class=\"collapse\">\n",
    "\n",
    "```python\n",
    "L = [0, 1, 6, 7, 3, 6, 8, 4, 4]\n",
    "L2 = sorted(L, reverse=True)\n",
    "L2[:5]\n",
    "\n",
    "  \n",
    "```\n",
    "\n",
    "</div>"
   ]
  },
  {
   "cell_type": "markdown",
   "metadata": {},
   "source": [
    "8. Now take the list `L` below and make a dictionary of counts for how often these numbers appear in the list."
   ]
  },
  {
   "cell_type": "code",
   "execution_count": null,
   "metadata": {},
   "outputs": [],
   "source": [
    "L = [0, 1, 6, 7, 3, 6, 8, 4, 4, 6, 1, 6, 6, 5, 4, 4, 3, 35, 4, 11]\n",
    "# write your code here\n",
    "\n",
    "\n"
   ]
  },
  {
   "cell_type": "markdown",
   "metadata": {},
   "source": [
    "<div align=\"right\">\n",
    "<a href=\"#gqb4zz\" class=\"btn btn-default\" data-toggle=\"collapse\">Click here for the answer</a>\n",
    "\n",
    "</div>\n",
    "<div id=\"gqb4zz\" class=\"collapse\">\n",
    "\n",
    "```python\n",
    "L = [0, 1, 6, 7, 3, 6, 8, 4, 4, 6, 1, 6, 6, 5, 4, 4, 3, 35, 4, 11]\n",
    "d = {}\n",
    "for x in L:\n",
    "    if x in d:\n",
    "        d[x] = d[x] + 1\n",
    "    else:\n",
    "        d[x] = 1\n",
    "\n",
    "  \n",
    "```\n",
    "\n",
    "</div>"
   ]
  },
  {
   "cell_type": "markdown",
   "metadata": {},
   "source": [
    "9. Now sort the keys (numbers) based on their frequencies. Review <a href=\"#ref16\">Sorting a Dictionary</a> if you’re not sure how to do this. Keep just the top five keys."
   ]
  },
  {
   "cell_type": "code",
   "execution_count": null,
   "metadata": {},
   "outputs": [],
   "source": [
    "# write your code here\n",
    "\n",
    "\n",
    "\n"
   ]
  },
  {
   "cell_type": "markdown",
   "metadata": {},
   "source": [
    "<div align=\"right\">\n",
    "<a href=\"#hqb4zz\" class=\"btn btn-default\" data-toggle=\"collapse\">Click here for the answer</a>\n",
    "\n",
    "</div>\n",
    "<div id=\"hqb4zz\" class=\"collapse\">\n",
    "\n",
    "```python\n",
    "L = [0, 1, 6, 7, 3, 6, 8, 4, 4, 6, 1, 6, 6, 5, 4, 4, 3, 35, 4, 11]\n",
    "\n",
    "d = {}\n",
    "for x in L:\n",
    "    if x in d:\n",
    "        d[x] = d[x] + 1\n",
    "    else:\n",
    "        d[x] = 1\n",
    "\n",
    "s = sorted(d, key=lambda x: d[x], reverse=True)\n",
    "\n",
    "print(s[:5])\n",
    "\n",
    "  \n",
    "```\n",
    "\n",
    "</div>"
   ]
  },
  {
   "cell_type": "markdown",
   "metadata": {},
   "source": [
    "10. Finally generalise what you’ve done. Write a function that takes a string instead of a list as a parameter and returns a list of the five most frequent characters in the string."
   ]
  },
  {
   "cell_type": "code",
   "execution_count": null,
   "metadata": {},
   "outputs": [],
   "source": [
    "# write your code here\n",
    "\n",
    "\n",
    "\n"
   ]
  },
  {
   "cell_type": "markdown",
   "metadata": {},
   "source": [
    "<div align=\"right\">\n",
    "<a href=\"#iqb4zz\" class=\"btn btn-default\" data-toggle=\"collapse\">Click here for the answer</a>\n",
    "\n",
    "</div>\n",
    "<div id=\"iqb4zz\" class=\"collapse\">\n",
    "\n",
    "```python\n",
    "def five_most_frequent(s):\n",
    "    d = {}\n",
    "    for x in s:\n",
    "        if x in d:\n",
    "            d[x] = d[x] + 1\n",
    "        else:\n",
    "            d[x] = 1\n",
    "\n",
    "    s = sorted(d, key=lambda x: d[x], reverse=True)\n",
    "\n",
    "    return s[:5]\n",
    "  \n",
    "```\n",
    "\n",
    "</div>"
   ]
  },
  {
   "cell_type": "markdown",
   "metadata": {},
   "source": [
    "< [Sequences I](ZSequences-I.ipynb) | [PyFinLab Index](ALWAYS-START-HERE.ipynb) | [Files](ZFiles.ipynb) >\n",
    "\n",
    "<div align=\"right\"><a href=\"#ref00\">back to top</a></div>"
   ]
  }
 ],
 "metadata": {
  "kernelspec": {
   "display_name": "Python 3",
   "language": "python",
   "name": "python3"
  },
  "language_info": {
   "codemirror_mode": {
    "name": "ipython",
    "version": 3
   },
   "file_extension": ".py",
   "mimetype": "text/x-python",
   "name": "python",
   "nbconvert_exporter": "python",
   "pygments_lexer": "ipython3",
   "version": "3.7.4"
  }
 },
 "nbformat": 4,
 "nbformat_minor": 2
}
