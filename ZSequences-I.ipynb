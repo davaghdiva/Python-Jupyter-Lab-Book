{
 "cells": [
  {
   "cell_type": "markdown",
   "metadata": {},
   "source": [
    "< [Iteration](ZIteration.ipynb) | [PyFinLab Index](ALWAYS-START-HERE.ipynb) | [Sequences II](ZSequences-II.ipynb) > \n",
    "\n",
    "<a id = \"ref00\"></a>"
   ]
  },
  {
   "cell_type": "markdown",
   "metadata": {},
   "source": [
    "<a><img src=\"figures/UUBS.png\" width=\"180\" height=\"180\" border=\"10\" /></a>\n",
    "\n",
    "<hr>"
   ]
  },
  {
   "cell_type": "markdown",
   "metadata": {},
   "source": [
    "<h2>Notebook A5: Sequences I - Strings, Lists and Tuples</h2>\n",
    "\n",
    "<div class=\"alert alert-block alert-info\" style=\"margin-top: 20px\">\n",
    "\n",
    "<li><a href=\"#ref0\">Aims and Objectives</a></li>\n",
    "<li><a href=\"#ref1\">Introduction</a></li>\n",
    "<li><a href=\"#ref2\">Strings and Lists</a></li>\n",
    "<li><a href=\"#ref3\">Index Operator: characters in a string</a></li>\n",
    "<li><a href=\"#ref4\">Disambiguating []: creating v indexing</a></li>\n",
    "<li><a href=\"#ref5\">Length</a></li>\n",
    "<li><a href=\"#ref6\">The Slice Operator</a></li>\n",
    "<li><a href=\"#ref7\">Concatenation and Repetition</a></li>\n",
    "<li><a href=\"#ref8\">Count and Index</a></li>\n",
    "<li><a href=\"#ref9\">Splitting and Joining Strings</a></li>\n",
    "<li><a href=\"#ref10\">Tuple Packing and Unpacking</a></li>\n",
    "<li><a href=\"#ref11\">Tuples as Return Values</a></li>\n",
    "<li><a href=\"#ref12\">Tuple Assignment with Unpacking</a></li>\n",
    "<li><a href=\"#ref13\">Unpacking into Iterator Variables</a></li>\n",
    "<li><a href=\"#ref14\">Glossary</a></li>\n",
    "<li><a href=\"#ref15\">Exercises</a></li>\n",
    "<br>\n",
    "<p></p>\n",
    "Indicative Completion Time: <strong>4hrs (not including video viewing time)</strong>\n",
    "</div>\n"
   ]
  },
  {
   "cell_type": "markdown",
   "metadata": {},
   "source": [
    "<a id=\"ref0\"></a>\n",
    "<h3>Aims</h3>\n",
    "\n",
    "To introduce and understand the concept and use of: \n",
    "* key operations that can be performed on strings and lists\n",
    "* [] in a variety of contexts in Python\n",
    "* tuple packing and unpacking\n",
    "\n",
    "<h3>Objectives</h3>\n",
    "\n",
    "On completion of this notebook you should be able to:\n",
    "* predict the output of split and join operations\n",
    "* read and write expressions that use slices\n",
    "* read and write expressions that use concatenation and repetition\n",
    "* recognise when code is using implicit tuple packing\n",
    "* use implicit tuple packing to return multiple values from a function\n",
    "* read and write code that unpacks a tuple into multiple variables\n"
   ]
  },
  {
   "cell_type": "markdown",
   "metadata": {},
   "source": [
    "<a id=\"ref1\"></a>\n",
    "<h2>Introduction</h2>"
   ]
  },
  {
   "cell_type": "markdown",
   "metadata": {},
   "source": [
    "In the real world most of the data we are interested in don’t exist in splendid isolation. Usually they come in the form of some kind of collection or sequence (and more often than not requiring significantly cleaning before we can use it). For example, a grocery list helps us keep track of the individual food items we need to buy, and the proverbial todo list helps organise the things we need to do each day. Notice that both the grocery list and the todo list are not even concerned with numbers as much as they are with words. This is true of much of our daily lives, and so Python provides us with many features to work with lists of all kinds of objects (numbers, words, etc.) as well as a special kind of sequence, the character string, which you can think of as a sequence of individual letters.\n",
    "\n",
    "So far we have seen built-in types like: `int`, `float`, and `str`. `int` and `float` are considered to be simple or primitive or atomic data types because their values are not composed of any smaller parts. They cannot be broken down.\n",
    "\n",
    "On the other hand, strings and lists are different from the others because they are made up of smaller pieces. In the case of strings, they are made up of smaller strings each containing one character.\n",
    "\n",
    "Types that are comprised of smaller pieces are called *collection data types*. Depending on what we are doing, we may want to treat a collection data type as a single entity (the whole), or we may want to access its parts. This ambiguity is useful.\n",
    "\n",
    "In this notebook we will examine operations that can be performed on sequences, such as picking out individual elements or subsequences (called slices) or computing their length. In addition, we’ll examine some special functions that are defined only for strings, and we’ll find out one important difference between strings and lists; lists can be changed (or mutated) while strings cannot (they are immutable).\n",
    "\n",
    "Find below the video collecton for this notebook. Collectively the videos span all the key concepts related to working with sequences in Python. View them *more than once* as they lay the foundation for *everything* that follows. \n",
    "\n",
    "Video 1 provides a general introduction to the important Python variable type known as `strings`; Video 2 extends this providing a detaled treatment of working with and manipulating Strings. Next, Video 3 introduces the important collection type called `lists` and Video 4 covers the basics of manipulating `lists`. Video 5 provides an insightful and practical discussion of the using `lists` and `strings` together to complete useful tasks. Finally, Video 6 introduces another collection type known as `tuples`. The other main collection data type that will concern us is `dictionaries`. Dictionaries are so central to the workings of data science in Python that they have been allocated a [notebook](01.16-Dictionaries.ipynb) of their own. \n"
   ]
  },
  {
   "cell_type": "markdown",
   "metadata": {},
   "source": [
    "<a href=\"http://www.youtube.com/watch?feature=player_embedded&v=tNCLKZ1iTVo\n",
    "\" target=\"_blank\"><img src=\"https://cdn.lynda.com/course/614299/614299-636517983560502284-16x9.jpg\" \n",
    "alt=\"Key Value Pairs\" width=\"240\" height=\"180\" border=\"10\" /></a>\n",
    "\n",
    "<p></p>\n",
    "<center><b>Video 1:</b> Introducing Strings</center>"
   ]
  },
  {
   "cell_type": "markdown",
   "metadata": {},
   "source": [
    "<a href=\"http://www.youtube.com/watch?feature=player_embedded&v=eVYCJgB_RzE\n",
    "\" target=\"_blank\"><img src=\"https://cdn.lynda.com/course/614299/614299-636517983560502284-16x9.jpg\" \n",
    "alt=\"Key Value Pairs\" width=\"240\" height=\"180\" border=\"10\" /></a>\n",
    "\n",
    "<p></p>\n",
    "<center><b>Video 2:</b> Working with Strings</center>"
   ]
  },
  {
   "cell_type": "markdown",
   "metadata": {},
   "source": [
    "<a href=\"http://www.youtube.com/watch?feature=player_embedded&v=dmjvH5-_MYw\n",
    "\" target=\"_blank\"><img src=\"https://cdn.lynda.com/course/614299/614299-636517983560502284-16x9.jpg\" \n",
    "alt=\"Key Value Pairs\" width=\"240\" height=\"180\" border=\"10\" /></a>\n",
    "\n",
    "<p></p>\n",
    "<center><b>Video 3:</b> Introducing Lists</center>"
   ]
  },
  {
   "cell_type": "markdown",
   "metadata": {},
   "source": [
    "<a href=\"http://www.youtube.com/watch?feature=player_embedded&v=bnq7SEJnd4M\n",
    "\" target=\"_blank\"><img src=\"https://cdn.lynda.com/course/614299/614299-636517983560502284-16x9.jpg\" \n",
    "alt=\"Key Value Pairs\" width=\"240\" height=\"180\" border=\"10\" /></a>\n",
    "\n",
    "<p></p>\n",
    "<center><b>Video 4:</b> Manipulating Lists</center>"
   ]
  },
  {
   "cell_type": "markdown",
   "metadata": {},
   "source": [
    "<a href=\"http://www.youtube.com/watch?feature=player_embedded&v=5zyXjujK7Ho\n",
    "\" target=\"_blank\"><img src=\"https://cdn.lynda.com/course/614299/614299-636517983560502284-16x9.jpg\" \n",
    "alt=\"Key Value Pairs\" width=\"240\" height=\"180\" border=\"10\" /></a>\n",
    "\n",
    "<p></p>\n",
    "<center><b>Video 5:</b> Strings and Lists: working together</center>"
   ]
  },
  {
   "cell_type": "markdown",
   "metadata": {},
   "source": [
    "<a href=\"http://www.youtube.com/watch?feature=player_embedded&v=6ukjncArc78\n",
    "\" target=\"_blank\"><img src=\"https://cdn.lynda.com/course/614299/614299-636517983560502284-16x9.jpg\" \n",
    "alt=\"Key Value Pairs\" width=\"240\" height=\"180\" border=\"10\" /></a>\n",
    "\n",
    "<p></p>\n",
    "<center><b>Video 6:</b> Introducing Tuples</center>"
   ]
  },
  {
   "cell_type": "markdown",
   "metadata": {},
   "source": [
    "<a id=\"ref2\"></a>\n",
    "<h2>Strings and Lists</h2>\n",
    "\n",
    "<div align=\"right\"><a href=\"#ref00\">back to top</a></div>"
   ]
  },
  {
   "cell_type": "markdown",
   "metadata": {},
   "source": [
    "In earlier notebooks we have used strings to represent words or phrases that we wanted to print out. Our definition was basically that a string is simply some characters inside quotes. In this notebook we explore strings in more detail.\n",
    "\n",
    "Additionally, we explore lists, which are very much like strings but can hold different types."
   ]
  },
  {
   "cell_type": "markdown",
   "metadata": {},
   "source": [
    "### Strings\n",
    "\n",
    "Strings can be defined as sequential collections of characters. This means that the individual characters that make up a string are in a particular order from left to right.\n",
    "\n",
    "A string that contains no characters, often referred to as the *empty string*, is still considered to be a string. It is simply a sequence of zero characters and is represented by '' or \"\" (two single or two double quotes with nothing in between)."
   ]
  },
  {
   "cell_type": "markdown",
   "metadata": {},
   "source": [
    "### Lists\n",
    "\n",
    "A list is a sequential collection of Python data values, where each value is identified by an index. The values that make up a list are called its elements. Lists are similar to strings, which are ordered collections of characters, except that the elements of a list can have any type and for any one list, the items can be of different types.\n",
    "\n",
    "There are several ways to create a new list. The simplest is to enclose the elements in square brackets ( `[` and `]`).\n",
    "\n",
    "```\n",
    "[10, 20, 30, 40]\n",
    "[\"spam\", \"bungee\", \"wallow\"]\n",
    "```\n",
    "\n",
    "The first example is a list of four integers. The second is a list of three strings. As we said above, the elements of a list don’t have to be the same type. The following list contains a string, a float, an integer, and another list.\n",
    "\n",
    "```\n",
    "[\"hello\", 2.0, 5, [10, 20]]\n",
    "\n",
    "```"
   ]
  },
  {
   "cell_type": "markdown",
   "metadata": {},
   "source": [
    "<div align=\"left\">\n",
    "<a href=\"#q1\" class=\"btn btn-default\" data-toggle=\"collapse\">Note</a>\n",
    "\n",
    "</div>\n",
    "<div id=\"q1\" class=\"collapse\">\n",
    "\n",
    "```\n",
    "Don’t Mix Types!\n",
    "\n",
    "You’ll probably see me appear to ignore my own advice\n",
    "in this course just to give you odd combinations to \n",
    "deal with, as an exercise, but when you create lists\n",
    "you normally should not mix types. A list of just strings\n",
    "or just integers or just floats is generally recommended.\n",
    "    \n",
    "```\n",
    "\n",
    "</div>"
   ]
  },
  {
   "cell_type": "markdown",
   "metadata": {},
   "source": [
    "### Tuples\n",
    "\n",
    "A tuple, like a list, is a sequence of items of any type. The printed representation of a tuple is a comma-separated sequence of values, enclosed in brackets. In other words, the representation is just like lists, except with round brackets () instead of square brackets [].\n",
    "\n",
    "One way to create a tuple is to write an expression, enclosed in brackets, that consists of multiple other expressions separated by commas.\n",
    "\n",
    "```\n",
    "julia = (\"Julia\", \"Roberts\", 1967, \"Duplicity\", 2009, \"Actress\")\n",
    "\n",
    "```\n",
    "\n",
    "The key difference between lists and tuples is that a tuple is immutable, meaning that its contents can’t be changed after the tuple is created. We will examine the mutability of lists in detail later in [Sequences II](01.14-Sequences-II.ipynb).\n",
    "\n",
    "To create a tuple with a single element (though you’re not likely to need to do that very often), we have to include the final comma, because without the final comma, Python treats the (5) below as an integer in brackets:"
   ]
  },
  {
   "cell_type": "code",
   "execution_count": null,
   "metadata": {},
   "outputs": [],
   "source": [
    "t = (5,)\n",
    "print(type(t))\n",
    "\n",
    "x = (5)\n",
    "print(type(x))"
   ]
  },
  {
   "cell_type": "markdown",
   "metadata": {},
   "source": [
    "<a id=\"ref3\"></a>\n",
    "<h2>Index Operator: characters in a string</h2>\n",
    "\n",
    "<div align=\"right\"><a href=\"#ref00\">back to top</a></div>"
   ]
  },
  {
   "cell_type": "markdown",
   "metadata": {},
   "source": [
    "The indexing operator (Python uses square brackets to enclose the index) selects a single character from a string. The characters are accessed by their position or index value. For example, in the string shown below, the 17 characters are indexed left to right from postion 0 to position 16."
   ]
  },
  {
   "cell_type": "markdown",
   "metadata": {},
   "source": [
    "<a><img src=\"figures/strings_image.png\" width=\"480\" height=\"180\" border=\"10\" /></a>"
   ]
  },
  {
   "cell_type": "markdown",
   "metadata": {},
   "source": [
    "It is also the case that the positions are named from right to left using negative numbers where -1 is the rightmost index and so on. Note that the character at index 6 (or -11) is the blank character."
   ]
  },
  {
   "cell_type": "code",
   "execution_count": null,
   "metadata": {},
   "outputs": [],
   "source": [
    "school = \"Ulster University\"\n",
    "m = school[2]\n",
    "print(m)\n",
    "\n",
    "lastchar = school[-1]\n",
    "print(lastchar)"
   ]
  },
  {
   "cell_type": "markdown",
   "metadata": {},
   "source": [
    "The expression `school[2]` selects the character at index 2 from `school`, and creates a new string containing just this one character. The variable `m` refers to the result.\n",
    "\n",
    "The letter at index zero of `\"Ulster University\"` is `U`. So at position `[2]` we have the letter `s`.\n",
    "\n",
    "The expression in brackets is called an `index`. An index specifies a member of an ordered collection. In this case the collection of characters in the string. The index `indicates` which character you want. It can be any integer expression so long as it evaluates to a valid index value.\n",
    "\n",
    "Note that indexing returns a `string` — Python has no special type for a single character. It is just a string of length 1."
   ]
  },
  {
   "cell_type": "markdown",
   "metadata": {},
   "source": [
    "### Accessing Elements of a List or Tuple"
   ]
  },
  {
   "cell_type": "markdown",
   "metadata": {},
   "source": [
    "The syntax for accessing the elements of a list or tuple is the same as the syntax for accessing the characters of a string. We use the index operator (`[]` – not to be confused with an empty list). The expression inside the brackets specifies the index. Remember that the indices start at 0. Any integer expression can be used as an index and as with strings, negative index values will locate items from the right instead of from the left.\n",
    "\n",
    "When we say the first, third or nth character of a sequence, we generally mean counting the usual way, starting with 1. The nth character and the character at index n are not the same: the nth character is located at index n-1. Be clear on what you mean!\n",
    "\n",
    "Try to predict what will be printed out by the following code, and then run it to check your prediction. (Actually, it’s a good idea to always do that with the code examples. You will learn much more if you discipline yourself to make a prediction before you see the output.)"
   ]
  },
  {
   "cell_type": "code",
   "execution_count": null,
   "metadata": {},
   "outputs": [],
   "source": [
    "numbers = [17, 123, 87, 34, 66, 8398, 44]\n",
    "print(numbers[2])\n",
    "print(numbers[9-8])\n",
    "print(numbers[-2])\n"
   ]
  },
  {
   "cell_type": "code",
   "execution_count": null,
   "metadata": {},
   "outputs": [],
   "source": [
    "prices = (1.99, 2.00, 5.50, 20.95, 100.98)\n",
    "print(prices[0])\n",
    "print(prices[-1])\n",
    "print(prices[3-5])"
   ]
  },
  {
   "cell_type": "markdown",
   "metadata": {},
   "source": [
    "**Have a go:**\n",
    "1. What is printed by the following statements?"
   ]
  },
  {
   "cell_type": "code",
   "execution_count": null,
   "metadata": {},
   "outputs": [],
   "source": [
    "s = \"Monty Python\"\n",
    "print(s[3])"
   ]
  },
  {
   "cell_type": "markdown",
   "metadata": {},
   "source": [
    "* A. t\n",
    "* B. y\n",
    "* C. n\n",
    "* D. Error, you cannot use the `[]` operator with a string."
   ]
  },
  {
   "cell_type": "markdown",
   "metadata": {},
   "source": [
    "<div align=\"right\">\n",
    "<a href=\"#q981\" class=\"btn btn-default\" data-toggle=\"collapse\">Click here for the answer</a>\n",
    "\n",
    "</div>\n",
    "<div id=\"q981\" class=\"collapse\">\n",
    "\n",
    "```\n",
    "A. t. (Yes, index locations start with 0)\n",
    "    \n",
    "```\n",
    "\n",
    "</div>"
   ]
  },
  {
   "cell_type": "markdown",
   "metadata": {},
   "source": [
    "2. What is printed by the following statements?"
   ]
  },
  {
   "cell_type": "code",
   "execution_count": null,
   "metadata": {},
   "outputs": [],
   "source": [
    "s = \"Monty Python\"\n",
    "print(s[2] + s[-4])"
   ]
  },
  {
   "cell_type": "markdown",
   "metadata": {},
   "source": [
    "* A. ot\n",
    "* B. oy\n",
    "* C. ny\n",
    "* D. nt\n",
    "* E. Error, you cannot use the `[]` operator with the `+` operator."
   ]
  },
  {
   "cell_type": "markdown",
   "metadata": {},
   "source": [
    "<div align=\"right\">\n",
    "<a href=\"#q991\" class=\"btn btn-default\" data-toggle=\"collapse\">Click here for the answer</a>\n",
    "\n",
    "</div>\n",
    "<div id=\"q991\" class=\"collapse\">\n",
    "\n",
    "```\n",
    "D. nt. (For -4 you count from right to left, starting with -1.)\n",
    "    \n",
    "```\n",
    "\n",
    "</div>"
   ]
  },
  {
   "cell_type": "markdown",
   "metadata": {},
   "source": [
    "3. What is printed by the following statements?"
   ]
  },
  {
   "cell_type": "code",
   "execution_count": null,
   "metadata": {},
   "outputs": [],
   "source": [
    "alist = [3, 67, \"cat\", [56, 57, \"dog\"], [ ], 3.14, False]\n",
    "print(alist[5])"
   ]
  },
  {
   "cell_type": "markdown",
   "metadata": {},
   "source": [
    "* A. `[]`\n",
    "* B. 3.14\n",
    "* C. False\n",
    "* D. \"dog\""
   ]
  },
  {
   "cell_type": "markdown",
   "metadata": {},
   "source": [
    "<div align=\"right\">\n",
    "<a href=\"#q971\" class=\"btn btn-default\" data-toggle=\"collapse\">Click here for the answer</a>\n",
    "\n",
    "</div>\n",
    "<div id=\"q971\" class=\"collapse\">\n",
    "\n",
    "```\n",
    "B. 3.14. (Yes, 3.14 is at index 5 since we start counting \n",
    "          at 0 and sublists count as one item.)\n",
    "    \n",
    "```\n",
    "\n",
    "</div>"
   ]
  },
  {
   "cell_type": "markdown",
   "metadata": {},
   "source": [
    "4. Assign the value of the 34th element of `lst` to the variable `output`."
   ]
  },
  {
   "cell_type": "code",
   "execution_count": null,
   "metadata": {},
   "outputs": [],
   "source": [
    "lst = [\"hi\", \"morning\", \"dog\", \"506\", \"caterpillar\", \"balloons\", 106, \n",
    "       \"yo-yo\", \"python\", \"moon\", \"water\", \"sleepy\", \"daffy\", 45, \n",
    "       \"donald\", \"whiteboard\", \"glasses\", \"markers\", \"couches\", \n",
    "       \"butterfly\", \"100\", \"magazine\", \"door\", \"picture\", \"window\", \n",
    "       [\"Olympics\", \"handle\"], \"chair\", \"pages\", \"readings\", \n",
    "       \"burger\", \"juggle\", \"craft\", [\"store\", \"poster\", \"board\"], \n",
    "       \"laptop\", \"computer\", \"plates\", \"hotdog\", \"salad\", \"backpack\", \n",
    "       \"zipper\", \"ring\", \"watch\", \"finger\", \"bags\", \"boxes\", \"pods\", \n",
    "       \"peas\", \"apples\", \"horse\", \"guinea pig\", \"bowl\", \"EECS\"]\n",
    "\n",
    "#write your code below\n",
    "\n",
    "\n"
   ]
  },
  {
   "cell_type": "markdown",
   "metadata": {},
   "source": [
    "<div align=\"right\">\n",
    "<a href=\"#q961\" class=\"btn btn-default\" data-toggle=\"collapse\">Click here for the answer</a>\n",
    "\n",
    "</div>\n",
    "<div id=\"q961\" class=\"collapse\">\n",
    "\n",
    "```python\n",
    "output = lst[33]\n",
    "print(output)\n",
    "    \n",
    "```\n",
    "\n",
    "</div>"
   ]
  },
  {
   "cell_type": "markdown",
   "metadata": {},
   "source": [
    "5. Assign the value of the 23rd element of `l` to the variable `checking`."
   ]
  },
  {
   "cell_type": "code",
   "execution_count": null,
   "metadata": {},
   "outputs": [],
   "source": [
    "l = (\"hi\", \"goodbye\", \"python\", \"106\", \"506\", 91, \n",
    "     ['all', 'Paul', 'Jackie', \"UMSI\", 1, \"Stephen\", 4.5],\n",
    "     109, \"chair\", \"pizza\", \"wolverine\", 2017, 3.92, 1817, \n",
    "     \"account\", \"readings\", \"papers\", 12, \"facebook\", \n",
    "     \"twitter\", 193.2, \"snapchat\", \"leaders and the best\", \n",
    "     \"social\", \"1986\", 9, 29, \"holiday\", \n",
    "     [\"women\", \"olympics\", \"gold\", \"rio\", 21, \"2016\", \"men\"], \n",
    "     \"26trombones\")\n",
    "\n",
    "# write your code below\n",
    "\n"
   ]
  },
  {
   "cell_type": "markdown",
   "metadata": {},
   "source": [
    "<div align=\"right\">\n",
    "<a href=\"#q951\" class=\"btn btn-default\" data-toggle=\"collapse\">Click here for the answer</a>\n",
    "\n",
    "</div>\n",
    "<div id=\"q951\" class=\"collapse\">\n",
    "\n",
    "```python\n",
    "checking = l[22]\n",
    "print(checking)\n",
    "    \n",
    "```\n",
    "\n",
    "</div>"
   ]
  },
  {
   "cell_type": "markdown",
   "metadata": {},
   "source": [
    "6. Assign the value of the last chacter of `lst` to the variable `output`. Do this in such a way that the length of `lst` doesn’t matter."
   ]
  },
  {
   "cell_type": "code",
   "execution_count": null,
   "metadata": {},
   "outputs": [],
   "source": [
    "lst = \"Every chess or checkers game begins from the same position and has \\\n",
    "a finite number of moves that can be played. While the number of possible \\\n",
    "scenarios and moves is quite large, it is still possible for computers to \\\n",
    "calculate that number and even be programmed to respond well against a human player...\"\n",
    "        \n",
    "# write your code below\n",
    "\n"
   ]
  },
  {
   "cell_type": "markdown",
   "metadata": {},
   "source": [
    "<div align=\"right\">\n",
    "<a href=\"#q941\" class=\"btn btn-default\" data-toggle=\"collapse\">Click here for the answer</a>\n",
    "\n",
    "</div>\n",
    "<div id=\"q941\" class=\"collapse\">\n",
    "\n",
    "```python\n",
    "output = lst[-1]\n",
    "print(output)\n",
    "    \n",
    "```\n",
    "\n",
    "</div>"
   ]
  },
  {
   "cell_type": "markdown",
   "metadata": {},
   "source": [
    "<div align=\"left\">\n",
    "<a href=\"#q931\" class=\"btn btn-default\" data-toggle=\"collapse\">Anorak alert</a>\n",
    "\n",
    "</div>\n",
    "<div id=\"q931\" class=\"collapse\">\n",
    "\n",
    "```\n",
    "Why does counting start at 0 going from left to right, but at -1 going \n",
    "from right to left? Well, indexing starting at 0 has a long history in \n",
    "computer science having to do with some low-level implementation details \n",
    "that we won’t go into. For indexing from right to left, it might seem \n",
    "natural to do the analogous thing and start at -0. Unfortunately, -0 is \n",
    "the same as 0, so s[-0] can’t be the last item. Remember that\n",
    "programming languages are formal languages where details matter and \n",
    "everything is taken literally?\n",
    "    \n",
    "```\n",
    "\n",
    "</div>"
   ]
  },
  {
   "cell_type": "markdown",
   "metadata": {},
   "source": [
    "<a id=\"ref4\"></a>\n",
    "<h2>Disambiguating []: creating v indexing</h2>\n",
    "\n",
    "<div align=\"right\"><a href=\"#ref00\">back to top</a></div>"
   ]
  },
  {
   "cell_type": "markdown",
   "metadata": {},
   "source": [
    "Square brackets `[]` are used in quite a few ways in Python. When you’re first learning how to use them it may be confusing, but with practice and repetition they’ll be easy to incorporate!\n",
    "\n",
    "You have currently encountered two instances where we have used square brakets. The first is creating lists and the second is indexing. At first glance, creating and indexing are difficult to distinguish. However, indexing requires referencing an already created list while simply creating a list does not."
   ]
  },
  {
   "cell_type": "code",
   "execution_count": null,
   "metadata": {},
   "outputs": [],
   "source": [
    "new_lst = []"
   ]
  },
  {
   "cell_type": "markdown",
   "metadata": {},
   "source": [
    "In the code above, a new list is created using the empty brackets. Since there’s nothing in it though, we can’t index into it."
   ]
  },
  {
   "cell_type": "code",
   "execution_count": null,
   "metadata": {},
   "outputs": [],
   "source": [
    "new_lst = [\"NFLX\", \"AMZN\", \"GOOGL\", \"DIS\", \"XOM\"]\n",
    "part_of_new_lst = new_lst[0]"
   ]
  },
  {
   "cell_type": "markdown",
   "metadata": {},
   "source": [
    "In the code above, you’ll see how, now that we have elements inside of `new_lst`, we can index into it. In order to extract an element of the list, we do use `[]`, but we first have to specify which list we are indexing. Imagine if there was another list in the activecode. How would python know which list we want to index into if we don’t tell it? Additionally, we have to specify what element we want to extract. This belongs inside of the brakets.\n",
    "\n",
    "Though it may be easier to distinguish in the code above, below may be a bit more difficult."
   ]
  },
  {
   "cell_type": "code",
   "execution_count": null,
   "metadata": {},
   "outputs": [],
   "source": [
    "lst = [0]\n",
    "n_lst = lst[0]\n",
    "\n",
    "print(lst)\n",
    "print(n_lst)"
   ]
  },
  {
   "cell_type": "markdown",
   "metadata": {},
   "source": [
    "Here, we see a list called `lst` being assigned to a list with one element, zero. Then, we see how `n_lst` is assigned the value associated with the first element of lst. Dispite the variable names, only one of the above variables is assigned to a list. Note that in this example, what sets creating appart from indexing is the reference to the list to let python know that you are extracting an element from another list."
   ]
  },
  {
   "cell_type": "markdown",
   "metadata": {},
   "source": [
    "**Have a go:**"
   ]
  },
  {
   "cell_type": "markdown",
   "metadata": {},
   "source": [
    "1. Which of the following correctly uses indexing? Assume that `a` is a list or string. Select as many as apply."
   ]
  },
  {
   "cell_type": "markdown",
   "metadata": {},
   "source": [
    "* A. w = [a]\n",
    "* B. y = a[]\n",
    "* C. x = [8]\n",
    "* D. t = a[0]"
   ]
  },
  {
   "cell_type": "markdown",
   "metadata": {},
   "source": [
    "<div align=\"right\">\n",
    "<a href=\"#q9412\" class=\"btn btn-default\" data-toggle=\"collapse\">Click here for the answer</a>\n",
    "\n",
    "</div>\n",
    "<div id=\"q9412\" class=\"collapse\">\n",
    "\n",
    "```\n",
    "D. Yes, this will using indexing to get the value of the first \n",
    "   element of a.\n",
    "    \n",
    "```\n",
    "\n",
    "</div>"
   ]
  },
  {
   "cell_type": "markdown",
   "metadata": {},
   "source": [
    "<a id=\"ref5\"></a>\n",
    "<h2>Length</h2>\n",
    "\n",
    "<div align=\"right\"><a href=\"#ref00\">back to top</a></div>"
   ]
  },
  {
   "cell_type": "markdown",
   "metadata": {},
   "source": [
    "The `len` function, when applied to a string, returns the number of characters in a string."
   ]
  },
  {
   "cell_type": "code",
   "execution_count": null,
   "metadata": {},
   "outputs": [],
   "source": [
    "fruit = \"Banana\"\n",
    "print(len(fruit))"
   ]
  },
  {
   "cell_type": "markdown",
   "metadata": {},
   "source": [
    "To get the last letter of a string, you might be tempted to try something like this:"
   ]
  },
  {
   "cell_type": "code",
   "execution_count": null,
   "metadata": {},
   "outputs": [],
   "source": [
    "fruit = \"Banana\"\n",
    "sz = len(fruit)\n",
    "last = fruit[sz]       # ERROR!\n",
    "print(last)\n"
   ]
  },
  {
   "cell_type": "markdown",
   "metadata": {},
   "source": [
    "That won’t work. It causes the runtime error `IndexError: string index out of range`. The reason is that there is no letter at index position 6 in `\"Banana\"`. Since we started counting at zero, the six indexes are numbered 0 to 5. To get the last character, we have to subtract 1 from the length. Give it a try in the example above."
   ]
  },
  {
   "cell_type": "code",
   "execution_count": null,
   "metadata": {},
   "outputs": [],
   "source": [
    "fruit = \"Banana\"\n",
    "sz = len(fruit)\n",
    "lastch = fruit[sz-1]\n",
    "print(lastch)"
   ]
  },
  {
   "cell_type": "markdown",
   "metadata": {},
   "source": [
    "Typically, a Python programmer would combine lines 2 and 3 from the above example into a single line:"
   ]
  },
  {
   "cell_type": "code",
   "execution_count": null,
   "metadata": {},
   "outputs": [],
   "source": [
    "lastch = fruit[len(fruit)-1]"
   ]
  },
  {
   "cell_type": "markdown",
   "metadata": {},
   "source": [
    "Though, from what you just learned about using negative indices, using `fruit[-1]` would be a more appropriate way to access the last index in a list.\n",
    "\n",
    "You can still use the `len` function to access other predictable indices, like the middle character of a string."
   ]
  },
  {
   "cell_type": "code",
   "execution_count": null,
   "metadata": {},
   "outputs": [],
   "source": [
    "fruit = \"grape\"\n",
    "midchar = fruit[len(fruit)/2]\n",
    "# the value of midchar is \"a\""
   ]
  },
  {
   "cell_type": "markdown",
   "metadata": {},
   "source": [
    "As with strings, the function `len` returns the length of a list (the number of items in the list). However, since lists can have items which are themselves sequences (e.g., strings), it important to note that `len` only returns the top-most length."
   ]
  },
  {
   "cell_type": "code",
   "execution_count": null,
   "metadata": {},
   "outputs": [],
   "source": [
    "alist =  [\"hello\", 2.0, 5]\n",
    "print(len(alist))\n",
    "print(len(alist[0]))"
   ]
  },
  {
   "cell_type": "markdown",
   "metadata": {},
   "source": [
    "Note that `alist[0]` is the string `\"hello\"`, which has length 5."
   ]
  },
  {
   "cell_type": "markdown",
   "metadata": {},
   "source": [
    "**Have a go:**"
   ]
  },
  {
   "cell_type": "markdown",
   "metadata": {},
   "source": [
    "1. What is printed by the following statements?"
   ]
  },
  {
   "cell_type": "code",
   "execution_count": null,
   "metadata": {},
   "outputs": [],
   "source": [
    "s = \"python rocks\"\n",
    "print(len(s))"
   ]
  },
  {
   "cell_type": "markdown",
   "metadata": {},
   "source": [
    "* A. 11\n",
    "* B. 12"
   ]
  },
  {
   "cell_type": "markdown",
   "metadata": {},
   "source": [
    "<div align=\"right\">\n",
    "<a href=\"#q412\" class=\"btn btn-default\" data-toggle=\"collapse\">Click here for the answer</a>\n",
    "\n",
    "</div>\n",
    "<div id=\"q412\" class=\"collapse\">\n",
    "\n",
    "```\n",
    "B. Yes, there are 12 characters in the string.\n",
    "    \n",
    "```\n",
    "\n",
    "</div>"
   ]
  },
  {
   "cell_type": "markdown",
   "metadata": {},
   "source": [
    "2. What is printed by the following statements?"
   ]
  },
  {
   "cell_type": "code",
   "execution_count": null,
   "metadata": {},
   "outputs": [],
   "source": [
    "alist = [3, 67, \"cat\", 3.14, False]\n",
    "print(len(alist))"
   ]
  },
  {
   "cell_type": "markdown",
   "metadata": {},
   "source": [
    "* A. 4\n",
    "* B. 5"
   ]
  },
  {
   "cell_type": "markdown",
   "metadata": {},
   "source": [
    "<div align=\"right\">\n",
    "<a href=\"#q4012\" class=\"btn btn-default\" data-toggle=\"collapse\">Click here for the answer</a>\n",
    "\n",
    "</div>\n",
    "<div id=\"q4012\" class=\"collapse\">\n",
    "\n",
    "```\n",
    "B. Yes, there are 5 items in tis list.\n",
    "    \n",
    "```\n",
    "\n",
    "</div>"
   ]
  },
  {
   "cell_type": "markdown",
   "metadata": {},
   "source": [
    "3. What is printed by the following statements?"
   ]
  },
  {
   "cell_type": "code",
   "execution_count": null,
   "metadata": {},
   "outputs": [],
   "source": [
    "L = [0.34, '6', 'SI106', 'Python', -2]\n",
    "print(len(L[1:-1]))"
   ]
  },
  {
   "cell_type": "markdown",
   "metadata": {},
   "source": [
    "* A. 2\n",
    "* B. 3\n",
    "* C. 4\n",
    "* D. 5"
   ]
  },
  {
   "cell_type": "markdown",
   "metadata": {},
   "source": [
    "<div align=\"right\">\n",
    "<a href=\"#q4612\" class=\"btn btn-default\" data-toggle=\"collapse\">Click here for the answer</a>\n",
    "\n",
    "</div>\n",
    "<div id=\"q4612\" class=\"collapse\">\n",
    "\n",
    "```\n",
    "B. Yes, there are 3 items in this list.\n",
    "    \n",
    "```\n",
    "\n",
    "</div>"
   ]
  },
  {
   "cell_type": "markdown",
   "metadata": {},
   "source": [
    "4. Assign the number of elements in `lst` to the variable `output`."
   ]
  },
  {
   "cell_type": "code",
   "execution_count": null,
   "metadata": {},
   "outputs": [],
   "source": [
    "lst = [\"hi\", \"morning\", \"dog\", \"506\", \"caterpillar\", \"balloons\", 106, \"yo-yo\", \"python\", \"moon\", \"water\", \"sleepy\", \"daffy\", 45, \"donald\", \"whiteboard\", \"glasses\", \"markers\", \"couches\", \"butterfly\", \"100\", \"magazine\", \"door\", \"picture\", \"window\", [\"Olympics\", \"handle\"], \"chair\", \"pages\", \"readings\", \"burger\", \"juggle\", \"craft\", [\"store\", \"poster\", \"board\"], \"laptop\", \"computer\", \"plates\", \"hotdog\", \"salad\", \"backpack\", \"zipper\", \"ring\", \"watch\", \"finger\", \"bags\", \"boxes\", \"pods\", \"peas\", \"apples\", \"horse\", \"guinea pig\", \"bowl\", \"EECS\"]\n",
    "# write your code here.\n",
    "\n",
    "\n"
   ]
  },
  {
   "cell_type": "markdown",
   "metadata": {},
   "source": [
    "<div align=\"right\">\n",
    "<a href=\"#q4152\" class=\"btn btn-default\" data-toggle=\"collapse\">Click here for the answer</a>\n",
    "\n",
    "</div>\n",
    "<div id=\"q4152\" class=\"collapse\">\n",
    "\n",
    "```python\n",
    "output = len(lst)\n",
    "print(output) # print is necessary if you wish to see the assigned \n",
    "              # value.\n",
    "    \n",
    "```\n",
    "\n",
    "</div>"
   ]
  },
  {
   "cell_type": "markdown",
   "metadata": {},
   "source": [
    "<a id=\"ref6\"></a>\n",
    "<h2>The Slice Operator</h2>\n",
    "\n",
    "<div align=\"right\"><a href=\"#ref00\">back to top</a></div>"
   ]
  },
  {
   "cell_type": "markdown",
   "metadata": {},
   "source": [
    "A substring of a string is called a **slice**. Selecting a slice is similar to selecting a character:"
   ]
  },
  {
   "cell_type": "code",
   "execution_count": null,
   "metadata": {},
   "outputs": [],
   "source": [
    "singers = \"Peter, Paul, and Mary\"\n",
    "print(singers[0:5])\n",
    "print(singers[7:11])\n",
    "print(singers[17:21])"
   ]
  },
  {
   "cell_type": "markdown",
   "metadata": {},
   "source": [
    "The `slice` operator `[n:m]` returns the part of the string starting with the character at index n and go up to but *not including* the character at index m. Or with normal counting from 1, this is the (n+1)st character up to and including the mth character.\n",
    "\n",
    "If you omit the first index (before the colon), the slice starts at the beginning of the string. If you omit the second index, the slice goes to the end of the string."
   ]
  },
  {
   "cell_type": "code",
   "execution_count": null,
   "metadata": {},
   "outputs": [],
   "source": [
    "fruit = \"banana\"\n",
    "print(fruit[:3])\n",
    "print(fruit[3:])"
   ]
  },
  {
   "cell_type": "markdown",
   "metadata": {},
   "source": [
    "What do you think `fruit[:]` means?"
   ]
  },
  {
   "cell_type": "markdown",
   "metadata": {},
   "source": [
    "### List Slices"
   ]
  },
  {
   "cell_type": "markdown",
   "metadata": {},
   "source": [
    "The slice operation we saw with strings also work on lists. Remember that the first index is the starting point for the slice and the second number is one index past the end of the slice (up to but not including that element). Recall also that if you omit the first index (before the colon), the slice starts at the beginning of the sequence. If you omit the second index, the slice goes to the end of the sequence."
   ]
  },
  {
   "cell_type": "code",
   "execution_count": null,
   "metadata": {},
   "outputs": [],
   "source": [
    "a_list = ['a', 'b', 'c', 'd', 'e', 'f']\n",
    "print(a_list[1:3])\n",
    "print(a_list[:4])\n",
    "print(a_list[3:])\n",
    "print(a_list[:])"
   ]
  },
  {
   "cell_type": "markdown",
   "metadata": {},
   "source": [
    "### Tuple Slices"
   ]
  },
  {
   "cell_type": "markdown",
   "metadata": {},
   "source": [
    "We can’t modify the elements of a tuple, but we can make a variable reference a new tuple holding different information. Thankfully we can also use the slice operation on tuples as well as strings and lists. To construct the new tuple, we can slice parts of the old tuple and join up the bits to make the new tuple. So `julia` has a new recent film, and we might want to change her tuple. We can easily slice off the parts we want and concatenate them with the new tuple."
   ]
  },
  {
   "cell_type": "code",
   "execution_count": null,
   "metadata": {},
   "outputs": [],
   "source": [
    "julia = (\"Julia\", \"Roberts\", 1967, \"Duplicity\", \n",
    "         2009, \"Actress\", \"Atlanta, Georgia\")\n",
    "\n",
    "print(julia[2])\n",
    "print(julia[2:6])\n",
    "\n",
    "print(len(julia))\n",
    "\n",
    "julia = julia[:3] + (\"Eat Pray Love\", 2010) + julia[5:]\n",
    "print(julia)"
   ]
  },
  {
   "cell_type": "markdown",
   "metadata": {},
   "source": [
    "**Have a go:**"
   ]
  },
  {
   "cell_type": "markdown",
   "metadata": {},
   "source": [
    "1. What is printed by the following statements?"
   ]
  },
  {
   "cell_type": "code",
   "execution_count": null,
   "metadata": {},
   "outputs": [],
   "source": [
    "s = \"Python rocks\"\n",
    "print(s[3:8])"
   ]
  },
  {
   "cell_type": "markdown",
   "metadata": {},
   "source": [
    "* A. Python\n",
    "* B. rocks\n",
    "* C. hon r\n",
    "* D. Error, you cannot have two numbers inside the `[]`."
   ]
  },
  {
   "cell_type": "markdown",
   "metadata": {},
   "source": [
    "<div align=\"right\">\n",
    "<a href=\"#q4102\" class=\"btn btn-default\" data-toggle=\"collapse\">Click here for the answer</a>\n",
    "\n",
    "</div>\n",
    "<div id=\"q4102\" class=\"collapse\">\n",
    "\n",
    "```\n",
    "C. hon r. (Yes, start with the character at index 3 and go up to but not \n",
    "           include the character at index 8.)\n",
    "    \n",
    "```\n",
    "\n",
    "</div>"
   ]
  },
  {
   "cell_type": "markdown",
   "metadata": {},
   "source": [
    "2. What is printed by the following statements?"
   ]
  },
  {
   "cell_type": "code",
   "execution_count": null,
   "metadata": {},
   "outputs": [],
   "source": [
    "alist = [3, 67, \"cat\", [56, 57, \"dog\"], [ ], 3.14, False]\n",
    "print(alist[4:])"
   ]
  },
  {
   "cell_type": "markdown",
   "metadata": {},
   "source": [
    "* A. `[[], 3.14, False]`\n",
    "* B. `[[], 3.14]`\n",
    "* C. `[[56, 57, \"dog\"], [ ], 3.14, False]`"
   ]
  },
  {
   "cell_type": "markdown",
   "metadata": {},
   "source": [
    "<div align=\"right\">\n",
    "<a href=\"#q452\" class=\"btn btn-default\" data-toggle=\"collapse\">Click here for the answer</a>\n",
    "\n",
    "</div>\n",
    "<div id=\"q452\" class=\"collapse\">\n",
    "\n",
    "```\n",
    "A. [[], 3.14, False] (Yes, the slice starts at index 4 and goes up \n",
    "                      to and including the last item.)\n",
    "    \n",
    "```\n",
    "\n",
    "</div>"
   ]
  },
  {
   "cell_type": "markdown",
   "metadata": {},
   "source": [
    "3. Create a new list using the 9th through 12th elements (four items in all) of `new_lst` and assign it to the variable `sub_lst`."
   ]
  },
  {
   "cell_type": "code",
   "execution_count": null,
   "metadata": {},
   "outputs": [],
   "source": [
    "new_lst = [\"computer\", \"luxurious\", \"basket\", \"crime\", 0, 2.49, \"institution\", \"slice\", \"sun\", [\"water\", \"air\", \"fire\", \"earth\"], \"games\", 2.7, \"code\", \"java\", [\"birthday\", \"celebration\", 1817, \"party\", \"cake\", 5], \"rain\", \"thunderstorm\", \"top down\"]\n",
    "\n",
    "\n"
   ]
  },
  {
   "cell_type": "markdown",
   "metadata": {},
   "source": [
    "<div align=\"right\">\n",
    "<a href=\"#q445\" class=\"btn btn-default\" data-toggle=\"collapse\">Click here for the answer</a>\n",
    "\n",
    "</div>\n",
    "<div id=\"q445\" class=\"collapse\">\n",
    "\n",
    "```python\n",
    "sub_lst = new_lst[8:12]\n",
    "print(sub_lst) # print if you want to view sub_lst explicitly\n",
    "    \n",
    "```\n",
    "\n",
    "</div>"
   ]
  },
  {
   "cell_type": "markdown",
   "metadata": {},
   "source": [
    "<a id=\"ref7\"></a>\n",
    "<h2>Concatenation and Repetition</h2>\n",
    "\n",
    "<div align=\"right\"><a href=\"#ref00\">back to top</a></div>"
   ]
  },
  {
   "cell_type": "markdown",
   "metadata": {},
   "source": [
    "Again, as with strings, the `+` operator concatenates lists. Similarly, the `*` operator repeats the items in a list a given number of times."
   ]
  },
  {
   "cell_type": "code",
   "execution_count": null,
   "metadata": {},
   "outputs": [],
   "source": [
    "fruit = [\"apple\",\"orange\",\"banana\",\"cherry\"]\n",
    "print([1,2] + [3,4])\n",
    "print(fruit+[6,7,8,9])\n",
    "\n",
    "print([0] * 4)"
   ]
  },
  {
   "cell_type": "markdown",
   "metadata": {},
   "source": [
    "It is important to see that these operators create new lists from the elements of the operand lists. If you concatenate a list with 2 items and a list with 4 items, you will get a new list with 6 items (not a list with two sublists). Similarly, repetition of a list of 2 items 4 times will give a list with 8 items.\n",
    "\n",
    "One way for us to make this more clear is to run a part of this example in codelens. As you step through the code, you will see the variables being created and the lists that they refer to. Pay particular attention to the fact that when `newlist` is created by the statement `newlist = fruit + numlist`, it refers to a completely new list formed by making copies of the items from `fruit` and `numlist`."
   ]
  },
  {
   "cell_type": "markdown",
   "metadata": {},
   "source": [
    "<div align=\"left\">\n",
    "<a href=\"#q1445\" class=\"btn btn-default\" data-toggle=\"collapse\">Note</a>\n",
    "\n",
    "</div>\n",
    "<div id=\"q1445\" class=\"collapse\">\n",
    "\n",
    "\n",
    "Beware when adding different types together! Python doesn’t understand how to concatenate different types together. Thus, if we try to add a string to a list with `['first'] + \"second\"` then the interpreter will return an error. To do this you’ll need to make the two objects the same type. In this case, it means putting the string into its own list and then adding the two together like so: `['first'] + [\"second\"]`. This process will look different for other types though. Remember that there are functions to convert types!\n",
    "    \n",
    "\n",
    "</div>"
   ]
  },
  {
   "cell_type": "markdown",
   "metadata": {},
   "source": [
    "**Have a go:**"
   ]
  },
  {
   "cell_type": "markdown",
   "metadata": {},
   "source": [
    "1. What is printed by the following statements?"
   ]
  },
  {
   "cell_type": "code",
   "execution_count": null,
   "metadata": {},
   "outputs": [],
   "source": [
    "alist = [1,3,5]\n",
    "blist = [2,4,6]\n",
    "print(alist + blist)"
   ]
  },
  {
   "cell_type": "markdown",
   "metadata": {},
   "source": [
    "\n",
    "* A. 6\n",
    "* B. [1,2,3,4,5,6]\n",
    "* C. [1,3,5,2,4,6]\n",
    "* D. [3,7,11]\n",
    "\n"
   ]
  },
  {
   "cell_type": "markdown",
   "metadata": {},
   "source": [
    "<div align=\"right\">\n",
    "<a href=\"#q4455\" class=\"btn btn-default\" data-toggle=\"collapse\">Click here for the answer</a>\n",
    "\n",
    "</div>\n",
    "<div id=\"q4455\" class=\"collapse\">\n",
    "\n",
    "```\n",
    "C. [1,3,5,2,4,6] (Yes, a new list with all the items of the first list \n",
    "                  followed by all those from the second.)\n",
    "    \n",
    "```\n",
    "\n",
    "</div>"
   ]
  },
  {
   "cell_type": "markdown",
   "metadata": {},
   "source": [
    "2. What is printed by the following statements?"
   ]
  },
  {
   "cell_type": "code",
   "execution_count": null,
   "metadata": {},
   "outputs": [],
   "source": [
    "alist = [1,3,5]\n",
    "print(alist * 3)"
   ]
  },
  {
   "cell_type": "markdown",
   "metadata": {},
   "source": [
    "* A. 9\n",
    "* B. [1,1,1,3,3,3,5,5,5]\n",
    "* C. [1,3,5,1,3,5,1,3,5]\n",
    "* D. [3,9,15]"
   ]
  },
  {
   "cell_type": "markdown",
   "metadata": {},
   "source": [
    "<div align=\"right\">\n",
    "<a href=\"#q4456\" class=\"btn btn-default\" data-toggle=\"collapse\">Click here for the answer</a>\n",
    "\n",
    "</div>\n",
    "<div id=\"q4456\" class=\"collapse\">\n",
    "\n",
    "```\n",
    "C. [1,3,5,1,3,5,1,3,5] (Yes, the items of the list are repeated \n",
    "                        3 times, one after another.)\n",
    "    \n",
    "```\n",
    "\n",
    "</div>"
   ]
  },
  {
   "cell_type": "markdown",
   "metadata": {},
   "source": [
    "<a id=\"ref8\"></a>\n",
    "<h2>Count and Index</h2>\n",
    "\n",
    "<div align=\"right\"><a href=\"#ref00\">back to top</a></div>"
   ]
  },
  {
   "cell_type": "markdown",
   "metadata": {},
   "source": [
    "As you create more complex programs, you will find that some tasks are commonly done. Python has some built-in functions and methods to help you with these tasks. This page will cover two helpful methods for both strings and lists: count and index.\n",
    "\n",
    "You’ve learned about methods before when drawing with the turtle module. There, you used `.forward(50)` and `.color(\"purple\")` to complete actions. We refer to forward and color as methods of the turtle class. Objects like strings and lists also have methods that we can use."
   ]
  },
  {
   "cell_type": "markdown",
   "metadata": {},
   "source": [
    "### Count"
   ]
  },
  {
   "cell_type": "markdown",
   "metadata": {},
   "source": [
    "The first method we’ll talk about is called `count`. It requires that you provide one argument, which is what you would like to count. The method then returns the number of times that the argument occured in the string/list the method was used on. There are some differences between count for strings and count for lists. When you use count on a string, the argument can only be a string. You can’t count how many times the integer 2 appears in a string, though you can count how many times the string “2” appears in a string. For lists, the argument is not restricted to just strings."
   ]
  },
  {
   "cell_type": "code",
   "execution_count": null,
   "metadata": {},
   "outputs": [],
   "source": [
    "a = \"I have had an apple on my desk before!\"\n",
    "print(a.count(\"e\"))\n",
    "print(a.count(\"ha\"))\n"
   ]
  },
  {
   "cell_type": "markdown",
   "metadata": {},
   "source": [
    "The cell above demonstrates the use of `count` on a string. Just like with the turtle module when we had to specify which turtle was changing colour or moving, we have to specify which string we are using `count` on."
   ]
  },
  {
   "cell_type": "code",
   "execution_count": null,
   "metadata": {},
   "outputs": [],
   "source": [
    "z = ['atoms', 4, 'neutron', 6, 'proton', 4, 'electron', 4, 'electron', 'atoms']\n",
    "print(z.count(\"4\"))\n",
    "print(z.count(4))\n",
    "print(z.count(\"a\"))\n",
    "print(z.count(\"electron\"))"
   ]
  },
  {
   "cell_type": "markdown",
   "metadata": {},
   "source": [
    "When you run the cell above, you’ll see how `count` on a list works. Notice how “4” has a count of zero but 4 has a count of three? This is because the list `z` only contains the integer 4. There are never any strings that are 4. Additionally, when we check the count of “a”, we see that the program returns zero. Though some of the words in the list contain the letter “a”, the program is looking for items in the list that are just the letter “a”."
   ]
  },
  {
   "cell_type": "markdown",
   "metadata": {},
   "source": [
    "### Index"
   ]
  },
  {
   "cell_type": "markdown",
   "metadata": {},
   "source": [
    "The other method that can be helpful for both strings and lists is the `index` method. The `index` method requires one argument, and, like the `count` method, it takes only strings as arguments when used on strings, but any data type when used on lists. For both strings and lists, `index` returns the leftmost index where the argument is found. If it is unable to find the argument in the string or list, then an error will occur."
   ]
  },
  {
   "cell_type": "code",
   "execution_count": null,
   "metadata": {},
   "outputs": [],
   "source": [
    "music = \"Put on your music and dancing can begin\"\n",
    "bio = [\"Metatarsal\", \"Metatarsal\", \"Fibula\", [], \"Tibia\", \n",
    "       \"Tibia\", 43, \"Femur\", \"Occipital\", \"Metatarsal\"]\n",
    "\n",
    "print(music.index(\"m\"))\n",
    "print(music.index(\"your\"))\n",
    "\n",
    "print(bio.index(\"Metatarsal\"))\n",
    "print(bio.index([]))\n",
    "print(bio.index(43))"
   ]
  },
  {
   "cell_type": "markdown",
   "metadata": {},
   "source": [
    "All of the above examples work, but were you surprised by any of the return values? Remember that `index` will return the left most index of the argument. Even though “Metatarsal” occurs many times in `bio`, the method will only return the location of one of them.\n",
    "\n",
    "Here’s another example."
   ]
  },
  {
   "cell_type": "code",
   "execution_count": null,
   "metadata": {},
   "outputs": [],
   "source": [
    "seasons = [\"winter\", \"spring\", \"summer\", \"autumn\"]\n",
    "\n",
    "print(seasons.index(\"fall\"))  #Error!"
   ]
  },
  {
   "cell_type": "markdown",
   "metadata": {},
   "source": [
    "In the cell above, we’re trying to see where “fall” is in the list seasons. However, there is no string called fall (though there is string called “autumn” which is probably what the program is looking for). Remember that an error occurs if the argument is not in the string or list."
   ]
  },
  {
   "cell_type": "markdown",
   "metadata": {},
   "source": [
    "**Have a go:**"
   ]
  },
  {
   "cell_type": "markdown",
   "metadata": {},
   "source": [
    "1. What will be stored in the variable `ty` below?"
   ]
  },
  {
   "cell_type": "code",
   "execution_count": null,
   "metadata": {},
   "outputs": [],
   "source": [
    "qu = \"wow, welcome week!\"\n",
    "ty = qu.index(\"we\")"
   ]
  },
  {
   "cell_type": "markdown",
   "metadata": {},
   "source": [
    "* A. 5\n",
    "* B. 6\n",
    "* C. 13\n",
    "* D. 14\n",
    "* E. There is an error."
   ]
  },
  {
   "cell_type": "markdown",
   "metadata": {},
   "source": [
    "<div align=\"right\">\n",
    "<a href=\"#q44526\" class=\"btn btn-default\" data-toggle=\"collapse\">Click here for the answer</a>\n",
    "\n",
    "</div>\n",
    "<div id=\"q44526\" class=\"collapse\">\n",
    "\n",
    "```\n",
    "A. 5. (Yes, when we get the index of a string that is longer \n",
    "       than one character, we get the index for the first \n",
    "       character in the string.)\n",
    "    \n",
    "```\n",
    "\n",
    "</div>"
   ]
  },
  {
   "cell_type": "markdown",
   "metadata": {},
   "source": [
    "2. What will be stored in the variable `ty` below?"
   ]
  },
  {
   "cell_type": "code",
   "execution_count": null,
   "metadata": {},
   "outputs": [],
   "source": [
    "qu = \"wow, welcome week! Were you wanting to go?\"\n",
    "ty = qu.count(\"we\")"
   ]
  },
  {
   "cell_type": "markdown",
   "metadata": {},
   "source": [
    "* A. 0\n",
    "* B. 2\n",
    "* C. 3\n",
    "* D. There is an error."
   ]
  },
  {
   "cell_type": "markdown",
   "metadata": {},
   "source": [
    "<div align=\"right\">\n",
    "<a href=\"#q44\" class=\"btn btn-default\" data-toggle=\"collapse\">Click here for the answer</a>\n",
    "\n",
    "</div>\n",
    "<div id=\"q44\" class=\"collapse\">\n",
    "\n",
    "```\n",
    "B. 2. (Yes, there is a difference between \"we\" and \"We\" which \n",
    "       means there are only two in the string.)\n",
    "    \n",
    "```\n",
    "\n",
    "</div>"
   ]
  },
  {
   "cell_type": "markdown",
   "metadata": {},
   "source": [
    "3. What will be stored in the variable `ht` below?"
   ]
  },
  {
   "cell_type": "code",
   "execution_count": null,
   "metadata": {},
   "outputs": [],
   "source": [
    "rooms = ['bathroom', 'kitchen', 'living room', 'bedroom', 'closet', \"foyer\"]\n",
    "ht = rooms.index(\"garden\")"
   ]
  },
  {
   "cell_type": "markdown",
   "metadata": {},
   "source": [
    "* A. 0\n",
    "* B. -1\n",
    "* C. There is an error."
   ]
  },
  {
   "cell_type": "markdown",
   "metadata": {},
   "source": [
    "<div align=\"right\">\n",
    "<a href=\"#q414\" class=\"btn btn-default\" data-toggle=\"collapse\">Click here for the answer</a>\n",
    "\n",
    "</div>\n",
    "<div id=\"q414\" class=\"collapse\">\n",
    "\n",
    "```\n",
    "C. There is an error. (Yes, there is no 'garden' in the list, \n",
    "                       so we get back an error.)\n",
    "    \n",
    "```\n",
    "\n",
    "</div>"
   ]
  },
  {
   "cell_type": "markdown",
   "metadata": {},
   "source": [
    "<a id=\"ref9\"></a>\n",
    "<h2>Splitting and Joining Strings</h2>\n",
    "\n",
    "<div align=\"right\"><a href=\"#ref00\">back to top</a></div>"
   ]
  },
  {
   "cell_type": "markdown",
   "metadata": {},
   "source": [
    "Two of the most useful methods on strings involve lists of strings. The `split` method breaks a string into a list of words. By default, any number of whitespace characters is considered a word boundary."
   ]
  },
  {
   "cell_type": "markdown",
   "metadata": {},
   "source": [
    "<a><img src=\"figures/6point9_gif1.gif\" width=\"280\" height=\"180\" border=\"10\" /></a>"
   ]
  },
  {
   "cell_type": "code",
   "execution_count": null,
   "metadata": {},
   "outputs": [],
   "source": [
    "song = \"The rain in Spain...\"\n",
    "wds = song.split()\n",
    "print(wds)"
   ]
  },
  {
   "cell_type": "markdown",
   "metadata": {},
   "source": [
    "An optional argument called a *delimiter* can be used to specify which characters to use as word boundaries."
   ]
  },
  {
   "cell_type": "markdown",
   "metadata": {},
   "source": [
    "<a><img src=\"figures/6point9_jpeg1.jpeg\" width=\"280\" height=\"180\" border=\"10\" /></a>"
   ]
  },
  {
   "cell_type": "markdown",
   "metadata": {},
   "source": [
    "The following example uses the string `ai` as the delimiter:"
   ]
  },
  {
   "cell_type": "code",
   "execution_count": null,
   "metadata": {},
   "outputs": [],
   "source": [
    "song = \"The rain in Spain...\"\n",
    "wds = song.split('ai')\n",
    "print(wds)"
   ]
  },
  {
   "cell_type": "markdown",
   "metadata": {},
   "source": [
    "Notice that the delimiter doesn’t appear in the result.\n",
    "\n",
    "The inverse of the `split` method is `join`. You choose a desired *separator* string, (often called the glue) and join the list with the glue between each of the elements."
   ]
  },
  {
   "cell_type": "markdown",
   "metadata": {},
   "source": [
    "<a><img src=\"figures/6point9_gif2.gif\" width=\"280\" height=\"180\" border=\"10\" /></a>"
   ]
  },
  {
   "cell_type": "code",
   "execution_count": null,
   "metadata": {},
   "outputs": [],
   "source": [
    "wds = [\"red\", \"blue\", \"green\"]\n",
    "glue = ';'\n",
    "s = glue.join(wds)\n",
    "print(s)\n",
    "print(wds)\n",
    "\n",
    "print(\"***\".join(wds))\n",
    "print(\"\".join(wds))\n",
    "print(wds)"
   ]
  },
  {
   "cell_type": "markdown",
   "metadata": {},
   "source": [
    "The list that you glue together (`wds` in this example) is not modified. Also, you can use empty glue or multi-character strings as glue."
   ]
  },
  {
   "cell_type": "markdown",
   "metadata": {},
   "source": [
    "**Have a go:**"
   ]
  },
  {
   "cell_type": "markdown",
   "metadata": {},
   "source": [
    "1. Create a new list consisting of the 6th to 13th elements of `lst` (eight items in all) and assign it to the variable `output`."
   ]
  },
  {
   "cell_type": "code",
   "execution_count": null,
   "metadata": {},
   "outputs": [],
   "source": [
    "lst = [\"swimming\", 2, \"water bottle\", 44, \"lollipop\", \n",
    "       \"shine\", \"marsh\", \"winter\", \"donkey\", \"rain\", \n",
    "       [\"Rio\", \"Beijing\", \"London\"], [1,2,3], \"gold\", \n",
    "       \"bronze\", \"silver\", \"mathematician\", \"scientist\", \n",
    "       \"actor\", \"actress\", \"win\", \"cell phone\", \"leg\", \n",
    "       \"running\", \"horse\", \"socket\", \"plug\", \n",
    "       [\"Phelps\", \"le Clos\", \"Lochte\"], \"drink\", 22, \n",
    "       \"happyfeet\", \"penguins\"]\n",
    "\n",
    "# write your code here\n",
    "\n",
    "\n",
    "\n"
   ]
  },
  {
   "cell_type": "markdown",
   "metadata": {},
   "source": [
    "<div align=\"right\">\n",
    "<a href=\"#q1414\" class=\"btn btn-default\" data-toggle=\"collapse\">Click here for the answer</a>\n",
    "\n",
    "</div>\n",
    "<div id=\"q1414\" class=\"collapse\">\n",
    "\n",
    "```python\n",
    "output = lst[5:13]\n",
    "print(output)\n",
    "    \n",
    "```\n",
    "\n",
    "</div>"
   ]
  },
  {
   "cell_type": "markdown",
   "metadata": {},
   "source": [
    "2. Create a variable `output` and assign it to a list whose elements are the words in the string `str1`."
   ]
  },
  {
   "cell_type": "code",
   "execution_count": null,
   "metadata": {},
   "outputs": [],
   "source": [
    "str1 = \"OH THE PLACES YOU'LL GO\"\n",
    "#write your code here\n",
    "\n",
    "\n"
   ]
  },
  {
   "cell_type": "markdown",
   "metadata": {},
   "source": [
    "<div align=\"right\">\n",
    "<a href=\"#q14\" class=\"btn btn-default\" data-toggle=\"collapse\">Click here for the answer</a>\n",
    "\n",
    "</div>\n",
    "<div id=\"q14\" class=\"collapse\">\n",
    "\n",
    "```python\n",
    "output = str1.split()\n",
    "print(output)\n",
    "    \n",
    "```\n",
    "\n",
    "</div>"
   ]
  },
  {
   "cell_type": "markdown",
   "metadata": {},
   "source": [
    "<a id=\"ref10\"></a>\n",
    "<h2>Tuple Packing and Unpacking</h2>\n",
    "\n",
    "<div align=\"right\"><a href=\"#ref00\">back to top</a></div>"
   ]
  },
  {
   "cell_type": "markdown",
   "metadata": {},
   "source": [
    "We have previously seen tuples, a sequence type that works just like lists except that they are immutable.\n",
    "\n",
    "When working with multiple values or multiple variable names, the Python interpreter does some automatic packing and unpacking to and from tuples, which allows some simplifications in the code we write.\n",
    "\n",
    "Wherever Python expects a single value, if multiple expressions are provided, separated by commas, they are automatically packed into a tuple. For example, we could have omitted the brackets when first assigning a tuple to the variable `julia` below."
   ]
  },
  {
   "cell_type": "code",
   "execution_count": null,
   "metadata": {},
   "outputs": [],
   "source": [
    "julia = (\"Julia\", \"Roberts\", 1967, \"Duplicity\", 2009, \"Actress\", \"Atlanta\")\n",
    "\n",
    "# or equivalently\n",
    "julia = \"Julia\", \"Roberts\", 1967, \"Duplicity\", 2009, \"Actress\", \"Atlanta\"\n",
    "print(julia[4])"
   ]
  },
  {
   "cell_type": "markdown",
   "metadata": {},
   "source": [
    "**Have a go:**"
   ]
  },
  {
   "cell_type": "markdown",
   "metadata": {},
   "source": [
    "1. Which of the following statements will output \"Atlanta\"?"
   ]
  },
  {
   "cell_type": "markdown",
   "metadata": {},
   "source": [
    "* A. print(julia['city'])\n",
    "* B. print(julia[-1])\n",
    "* C. print(julia(-1))\n",
    "* D. print(julia(6))\n",
    "* E. print(julia[7])"
   ]
  },
  {
   "cell_type": "markdown",
   "metadata": {},
   "source": [
    "<div align=\"right\">\n",
    "<a href=\"#q1884\" class=\"btn btn-default\" data-toggle=\"collapse\">Click here for the answer</a>\n",
    "\n",
    "</div>\n",
    "<div id=\"q1884\" class=\"collapse\">\n",
    "\n",
    "```\n",
    "B. [-1] picks out the last item in the sequence.\n",
    "    \n",
    "```\n",
    "\n",
    "</div>"
   ]
  },
  {
   "cell_type": "markdown",
   "metadata": {},
   "source": [
    "2. Create a tuple called `practice` that has four elements: ‘y’, ‘h’, ‘z’, and ‘x’."
   ]
  },
  {
   "cell_type": "code",
   "execution_count": null,
   "metadata": {},
   "outputs": [],
   "source": [
    "# write your code here\n",
    "\n",
    "\n"
   ]
  },
  {
   "cell_type": "markdown",
   "metadata": {},
   "source": [
    "<div align=\"right\">\n",
    "<a href=\"#q8840\" class=\"btn btn-default\" data-toggle=\"collapse\">Click here for the answer</a>\n",
    "\n",
    "</div>\n",
    "<div id=\"q8840\" class=\"collapse\">\n",
    "\n",
    "```python\n",
    "practice = ('y','h','z','x')\n",
    "print(practice)\n",
    "\n",
    "or \n",
    "\n",
    "practice = 'y','h','z','x'\n",
    "print(practice)   \n",
    "\n",
    "```\n",
    "\n",
    "</div>"
   ]
  },
  {
   "cell_type": "markdown",
   "metadata": {},
   "source": [
    "3. Provided is a list of tuples. Create another list called `t_check` that contains the third element of every tuple."
   ]
  },
  {
   "cell_type": "code",
   "execution_count": null,
   "metadata": {},
   "outputs": [],
   "source": [
    "lst_tups = [('Articuno', 'Moltres', 'Zaptos'), \n",
    "            ('Beedrill', 'Metapod', 'Charizard', 'Venasaur', 'Squirtle'), \n",
    "            ('Oddish', 'Poliwag', 'Diglett', 'Bellsprout'), \n",
    "            ('Ponyta', \"Farfetch'd\", \"Tauros\", 'Dragonite'), \n",
    "            ('Hoothoot', 'Chikorita', 'Lanturn', 'Teddiursa', 'Phanpy'), \n",
    "            ('Loudred', 'Volbeat', 'Wailord', 'Seviper', 'Sealeo')]\n"
   ]
  },
  {
   "cell_type": "code",
   "execution_count": null,
   "metadata": {},
   "outputs": [],
   "source": [
    "# write your code here\n",
    "\n",
    "\n",
    "\n",
    "\n"
   ]
  },
  {
   "cell_type": "markdown",
   "metadata": {},
   "source": [
    "<div align=\"right\">\n",
    "<a href=\"#q7840\" class=\"btn btn-default\" data-toggle=\"collapse\">Click here for the answer</a>\n",
    "\n",
    "</div>\n",
    "<div id=\"q7840\" class=\"collapse\">\n",
    "\n",
    "```python\n",
    "t_check = []\n",
    "for elmnt in lst_tups:\n",
    "    t_check.append(elmnt[2])\n",
    "    \n",
    "print(t_check)\n",
    "\n",
    "```\n",
    "\n",
    "</div>"
   ]
  },
  {
   "cell_type": "markdown",
   "metadata": {},
   "source": [
    "4. Below is a list of tuples. Write a `for` loop that saves the second element of each tuple into a list called `seconds`."
   ]
  },
  {
   "cell_type": "code",
   "execution_count": null,
   "metadata": {},
   "outputs": [],
   "source": [
    "tups = [('a', 'b', 'c'), (8, 7, 6, 5), ('blue', 'green', 'yellow', 'orange', 'red'), (5.6, 9.99, 2.5, 8.2), ('squirrel', 'chipmunk')]\n"
   ]
  },
  {
   "cell_type": "code",
   "execution_count": null,
   "metadata": {},
   "outputs": [],
   "source": [
    "# write your code here\n",
    "\n",
    "\n",
    "\n"
   ]
  },
  {
   "cell_type": "markdown",
   "metadata": {},
   "source": [
    "<div align=\"right\">\n",
    "<a href=\"#q71840\" class=\"btn btn-default\" data-toggle=\"collapse\">Click here for the answer</a>\n",
    "\n",
    "</div>\n",
    "<div id=\"q71840\" class=\"collapse\">\n",
    "\n",
    "```python\n",
    "seconds = []\n",
    "for elmnt in tups:\n",
    "    seconds.append(elmnt[1])\n",
    "    \n",
    "print(seconds)\n",
    "\n",
    "```\n",
    "\n",
    "</div>"
   ]
  },
  {
   "cell_type": "markdown",
   "metadata": {},
   "source": [
    "<a id=\"ref11\"></a>\n",
    "<h2>Tuples as Return Values</h2>\n",
    "\n",
    "<div align=\"right\"><a href=\"#ref00\">back to top</a></div>"
   ]
  },
  {
   "cell_type": "markdown",
   "metadata": {},
   "source": [
    "Functions can return tuples as return values. This is very useful — we often want to know some sportsperson's highest and lowest score, or we want to find the mean and the standard deviation, or we want to know the year, the month, and the day, or if we’re doing some ecological modeling we may want to know the numbers for a certain species of prey (eg. rabbit) and the associated species of predator (eg. eagle) in some conservation region at a given time. In each case, a function (which may only return a single value), can create a single tuple holding multiple elements.\n",
    "\n",
    "For example, we could write a function that returns both the area and the circumference of a circle of radius r."
   ]
  },
  {
   "cell_type": "code",
   "execution_count": null,
   "metadata": {},
   "outputs": [],
   "source": [
    "def circleInfo(r):\n",
    "    \"\"\" Return (circumference, area) of a circle of radius r \"\"\"\n",
    "    c = 2 * 3.14159 * r\n",
    "    a = 3.14159 * r * r   \n",
    "    return (c, a)      # this is line 5\n",
    "\n",
    "print(circleInfo(10))"
   ]
  },
  {
   "cell_type": "markdown",
   "metadata": {},
   "source": [
    "Again, we can take advantage of packing to make the code look a little more readable on line 5"
   ]
  },
  {
   "cell_type": "code",
   "execution_count": null,
   "metadata": {},
   "outputs": [],
   "source": [
    "def circleInfo(r):\n",
    "    \"\"\" Return (circumference, area) of a circle of radius r \"\"\"\n",
    "    c = 2 * 3.14159 * r\n",
    "    a = 3.14159 * r * r   \n",
    "    return c, a     # this is line 5\n",
    "\n",
    "print(circleInfo(10))"
   ]
  },
  {
   "cell_type": "markdown",
   "metadata": {},
   "source": [
    "**Have a go:**"
   ]
  },
  {
   "cell_type": "markdown",
   "metadata": {},
   "source": [
    "1. Define a function called `information` that takes as input, the variables `name`, `birth_year`, `fav_colour`, and `hometown`. It should return a tuple of these variables in this order."
   ]
  },
  {
   "cell_type": "code",
   "execution_count": null,
   "metadata": {},
   "outputs": [],
   "source": [
    "# write your code here\n",
    "\n",
    "def information():\n",
    "    \n",
    "  \n",
    "\n"
   ]
  },
  {
   "cell_type": "markdown",
   "metadata": {},
   "source": [
    "<div align=\"right\">\n",
    "<a href=\"#q718\" class=\"btn btn-default\" data-toggle=\"collapse\">Click here for the answer</a>\n",
    "\n",
    "</div>\n",
    "<div id=\"q718\" class=\"collapse\">\n",
    "\n",
    "```python\n",
    "\n",
    "def information(name,birth_year,fav_colour,hometown):\n",
    "    \"\"\"\n",
    "    Return the string inputs for \n",
    "    name = \"name\", birth_year = \"birth_year\", \n",
    "    fav_colour = \"fav_colour\", hometown = \"hometown\"\n",
    "    \n",
    "    \"\"\"\n",
    "    return name,birth_year,fav_colour,hometown\n",
    "```\n",
    "\n",
    "</div>"
   ]
  },
  {
   "cell_type": "markdown",
   "metadata": {},
   "source": [
    "2. Define a function called `info` with the following required parameters: `name`, `age`, `birth_year`, `university`, and `hometown`. The function should return a tuple that contains all the inputted information."
   ]
  },
  {
   "cell_type": "code",
   "execution_count": null,
   "metadata": {},
   "outputs": [],
   "source": [
    "# write your code here\n",
    "\n",
    "def info():\n",
    "    \n",
    "    \n",
    "\n"
   ]
  },
  {
   "cell_type": "markdown",
   "metadata": {},
   "source": [
    "<div align=\"right\">\n",
    "<a href=\"#q7822\" class=\"btn btn-default\" data-toggle=\"collapse\">Click here for the answer</a>\n",
    "\n",
    "</div>\n",
    "<div id=\"q7822\" class=\"collapse\">\n",
    "\n",
    "```python\n",
    "\n",
    "def info(name,age,birth_year,university,hometown):\n",
    "    \"\"\"\n",
    "    Return the string inputs for \n",
    "    name = \"name\", age = \"age\", birth_year = \"birth_year\", \n",
    "    university = \"university\", hometown = \"hometown\"\n",
    "    \n",
    "    \"\"\"\n",
    "    return name,age, birth_year,university,hometown \n",
    "\n",
    "```\n",
    "\n",
    "</div>"
   ]
  },
  {
   "cell_type": "markdown",
   "metadata": {},
   "source": [
    "<a id=\"ref12\"></a>\n",
    "<h2>Tuple Assignment with Unpacking</h2>\n",
    "\n",
    "<div align=\"right\"><a href=\"#ref00\">back to top</a></div>"
   ]
  },
  {
   "cell_type": "markdown",
   "metadata": {},
   "source": [
    "Python has a very powerful *tuple assignment* feature that allows a tuple of variable names on the left of an assignment statement to be assigned values from a tuple on the right of the assignment. Another way to think of this is that the tuple of values is *unpacked* into the variable names."
   ]
  },
  {
   "cell_type": "code",
   "execution_count": null,
   "metadata": {},
   "outputs": [],
   "source": [
    "julia = \"Julia\", \"Roberts\", 1967, \"Duplicity\", 2009, \"Actress\", \"Atlanta, Georgia\"\n",
    "\n",
    "name, surname, birth_year, movie, movie_year, profession, birth_place = julia\n",
    "\n",
    "print(movie)\n"
   ]
  },
  {
   "cell_type": "markdown",
   "metadata": {},
   "source": [
    "This does the equivalent of seven assignment statements, all in one easy step. One requirement is that the number of variables on the left must match the number of elements in the tuple.\n",
    "\n",
    "Once in a while, it is useful to swap the values of two variables. With conventional assignment statements, we have to use a temporary variable. For example, to swap `a` and `b`:\n"
   ]
  },
  {
   "cell_type": "code",
   "execution_count": null,
   "metadata": {},
   "outputs": [],
   "source": [
    "a = 1\n",
    "b = 2\n",
    "temp = a\n",
    "a = b\n",
    "b = temp\n",
    "print(a, b, temp)\n"
   ]
  },
  {
   "cell_type": "markdown",
   "metadata": {},
   "source": [
    "Tuple assignment solves this problem neatly:"
   ]
  },
  {
   "cell_type": "code",
   "execution_count": null,
   "metadata": {},
   "outputs": [],
   "source": [
    "a = 1\n",
    "b = 2\n",
    "(a, b) = (b, a) # or more succinctly a,b = b,a\n",
    "print(a, b)"
   ]
  },
  {
   "cell_type": "markdown",
   "metadata": {},
   "source": [
    "The left side is a tuple of variables; the right side is a tuple of values. Each value is assigned to its respective variable. All the expressions on the right side are evaluated before any of the assignments. This feature makes tuple assignment quite versatile.\n"
   ]
  },
  {
   "cell_type": "code",
   "execution_count": null,
   "metadata": {},
   "outputs": [],
   "source": [
    "(a, b, c, d) = (1, 2, 3) # What will happen here?"
   ]
  },
  {
   "cell_type": "markdown",
   "metadata": {},
   "source": [
    "Earlier we were demonstrating how to use tuples as return values when calculating the area and circumference of a circle. Here we can unpack the return values after calling the function."
   ]
  },
  {
   "cell_type": "code",
   "execution_count": null,
   "metadata": {},
   "outputs": [],
   "source": [
    "def circleInfo(r):\n",
    "    \"\"\" Return (circumference, area) of a circle of radius r \"\"\"\n",
    "    c = 2 * 3.14159 * r\n",
    "    a = 3.14159 * r * r\n",
    "    return c, a\n",
    "\n",
    "print(circleInfo(10))\n",
    "\n",
    "circumference, area = circleInfo(10)\n",
    "print(circumference)\n",
    "print(area)\n",
    "\n",
    "circumference_two, area_two = circleInfo(45)\n",
    "print(circumference_two)\n",
    "print(area_two)\n"
   ]
  },
  {
   "cell_type": "markdown",
   "metadata": {},
   "source": [
    "Python even provides a way to pass a single tuple to a function and have it be unpacked for assignment to the named parameters."
   ]
  },
  {
   "cell_type": "code",
   "execution_count": null,
   "metadata": {},
   "outputs": [],
   "source": [
    "def add(x, y):\n",
    "    return x + y\n",
    "\n",
    "print(add(3, 4))\n",
    "z = (5, 4)\n",
    "print(add(*z)) # this line will cause the values to be unpacked\n",
    "print(add(z)) # line 7: this causes an error\n"
   ]
  },
  {
   "cell_type": "markdown",
   "metadata": {},
   "source": [
    "If you run this, you will be get an error caused by line 7, where it says that the function add is expecting two parameters, but you’re only passing one parameter (a tuple). In line 6 you’ll see that the tuple is unpacked and 5 is bound to x, 4 to y.\n",
    "\n",
    "Don’t worry about mastering this idea yet. But later in the course, if you come across some code that someone else has written that uses the * notation inside a parameter list, you will hopefully recall this example."
   ]
  },
  {
   "cell_type": "markdown",
   "metadata": {},
   "source": [
    "<div align=\"left\">\n",
    "<a href=\"#q00822\" class=\"btn btn-default\" data-toggle=\"collapse\">Note</a>\n",
    "\n",
    "</div>\n",
    "<div id=\"q00822\" class=\"collapse\">\n",
    "\n",
    "```\n",
    "Unpacking into multiple variable names also works with lists, \n",
    "or any other sequence type, as long as there is exactly one \n",
    "value for each variable. For example, you can write \n",
    "```\n",
    "```python\n",
    "x, y = [3, 4]\n",
    "\n",
    "```\n",
    "```\n",
    "Or we could have..\n",
    "```\n",
    "\n",
    "```python\n",
    "lst = [6,7]\n",
    "p,q = lst\n",
    "print(p,q)\n",
    "\n",
    "```\n",
    "\n",
    "</div>"
   ]
  },
  {
   "cell_type": "markdown",
   "metadata": {},
   "source": [
    "<a id=\"ref13\"></a>\n",
    "<h2>Unpacking into Iterator Variables</h2>\n",
    "\n",
    "<div align=\"right\"><a href=\"#ref00\">back to top</a></div>"
   ]
  },
  {
   "cell_type": "markdown",
   "metadata": {},
   "source": [
    "Multiple assignment with unpacking is particularly useful when you iterate through a list of tuples or lists.\n",
    "\n",
    "For example, a dictionary consists of key-value pairs. When you call the `items()` method on a dictionary, you get back a sequence of key-value pairs. Each of those pairs is a two-item tuple. (More generally, we refer to any two-item tuple as a *pair*). You can iterate over the key-value pairs."
   ]
  },
  {
   "cell_type": "code",
   "execution_count": null,
   "metadata": {},
   "outputs": [],
   "source": [
    "d = {\"k1\": 3, \"k2\": 7, \"k3\": \"some other value\"}\n",
    "\n",
    "for p in d.items(): # this is line 3\n",
    "    print(\"key: {}, value: {}\".format(p[0], p[1])) \n",
    "    \n"
   ]
  },
  {
   "cell_type": "markdown",
   "metadata": {},
   "source": [
    "Each time line 3 is executed, `p` will refer to one key-value pair from `d` (equivalently to one item from the sequence `d.items()`). A pair is just a tuple, so `p[0]` refers to the key and `p[1]` refers to the value.\n",
    "\n",
    "That code is easier to read if we unpack the key-value pairs into two variable names."
   ]
  },
  {
   "cell_type": "code",
   "execution_count": null,
   "metadata": {},
   "outputs": [],
   "source": [
    "d = {\"k1\": 3, \"k2\": 7, \"k3\": \"some other value\"}\n",
    "\n",
    "for k, v in d.items():\n",
    "    print(\"key: {}, value: {}\".format(k, v))"
   ]
  },
  {
   "cell_type": "markdown",
   "metadata": {},
   "source": [
    "More generally, if you have a list of tuples, each of which has more than two items, and you iterate through them with a `for` loop pulling out information from the tuples, the code will be much more readable if you unpack them into separate variable names immediately after the word `for`."
   ]
  },
  {
   "cell_type": "markdown",
   "metadata": {},
   "source": [
    "**Have a go:**\n",
    "1. If you want a function to return two values, contained in variables x and y, which of the following methods will work?"
   ]
  },
  {
   "cell_type": "markdown",
   "metadata": {},
   "source": [
    "* A. Make the last two lines of the function be \"return x\" and \"return y\"\n",
    "* B. Include the statement \"return [x, y]\"\n",
    "* C. Include the statement \"return (x, y)\"\n",
    "* D. Include the statement \"return x, y\"\n",
    "* E. It's not possible to return two values; make two functions that each compute one value."
   ]
  },
  {
   "cell_type": "markdown",
   "metadata": {},
   "source": [
    "<div align=\"right\">\n",
    "<a href=\"#q78252\" class=\"btn btn-default\" data-toggle=\"collapse\">Click here for the answer</a>\n",
    "\n",
    "</div>\n",
    "<div id=\"q78252\" class=\"collapse\">\n",
    "\n",
    "```\n",
    "\n",
    "B. \"return [x,y]\" is not the preferred method because it returns x and y \n",
    "in a list and you would have to manually unpack the values. \n",
    "But it is workable.\n",
    "\n",
    "C. \"return (x, y)\" returns a tuple.\n",
    "\n",
    "D. \"return x, y\" packs the two values into a tuple.\n",
    "\n",
    "```\n",
    "\n",
    "</div>"
   ]
  },
  {
   "cell_type": "markdown",
   "metadata": {},
   "source": [
    "2. Consider the following alternative way to swap the values of variables x and y. What’s wrong with it?"
   ]
  },
  {
   "cell_type": "code",
   "execution_count": null,
   "metadata": {},
   "outputs": [],
   "source": [
    "# assume x and y already have values assigned to them\n",
    "y = x\n",
    "x = y"
   ]
  },
  {
   "cell_type": "markdown",
   "metadata": {},
   "source": [
    "* A. You can't use different variable names on the left and right side of an assignment statement.\n",
    "* B. x will still have it's original value and y's original value is gone.\n",
    "* C. Actually, it works just fine!"
   ]
  },
  {
   "cell_type": "markdown",
   "metadata": {},
   "source": [
    "<div align=\"right\">\n",
    "<a href=\"#q78242\" class=\"btn btn-default\" data-toggle=\"collapse\">Click here for the answer</a>\n",
    "\n",
    "</div>\n",
    "<div id=\"q78242\" class=\"collapse\">\n",
    "\n",
    "```\n",
    "Once you assign x's value to y, y's original value is gone.\n",
    "\n",
    "```\n",
    "\n",
    "</div>"
   ]
  },
  {
   "cell_type": "markdown",
   "metadata": {},
   "source": [
    "3. With only one line of code, assign the variables water, fire, electric, and grass to the values “Squirtle”, “Charmander”, “Pikachu”, and “Bulbasaur”"
   ]
  },
  {
   "cell_type": "code",
   "execution_count": null,
   "metadata": {},
   "outputs": [],
   "source": [
    "# write your code here\n",
    "\n",
    "\n"
   ]
  },
  {
   "cell_type": "markdown",
   "metadata": {},
   "source": [
    "<div align=\"right\">\n",
    "<a href=\"#q78232\" class=\"btn btn-default\" data-toggle=\"collapse\">Click here for the answer</a>\n",
    "\n",
    "</div>\n",
    "<div id=\"q78232\" class=\"collapse\">\n",
    "\n",
    "```python\n",
    "\n",
    "water,fire,electric,grass=\"Squirtle\",\"Charmander\",\"Pikachu\",\"Bulbasaur\"\n",
    "\n",
    "print(water)\n",
    "print(fire)\n",
    "print(electric)\n",
    "print(grass)\n",
    "\n",
    "```\n",
    "\n",
    "</div>"
   ]
  },
  {
   "cell_type": "markdown",
   "metadata": {},
   "source": [
    "4. With only one line of code, assign four variables, `v1`, `v2`, `v3`, and `v4`, to the following four values: 1, 2, 3, 4."
   ]
  },
  {
   "cell_type": "code",
   "execution_count": null,
   "metadata": {},
   "outputs": [],
   "source": [
    "# write your code here\n",
    "\n",
    "\n"
   ]
  },
  {
   "cell_type": "markdown",
   "metadata": {},
   "source": [
    "<div align=\"right\">\n",
    "<a href=\"#q78222\" class=\"btn btn-default\" data-toggle=\"collapse\">Click here for the answer</a>\n",
    "\n",
    "</div>\n",
    "<div id=\"q78222\" class=\"collapse\">\n",
    "\n",
    "```python\n",
    "\n",
    "v1,v2,v3,v4 = 1,2,3,4\n",
    "print(v3) # just to check\n",
    "\n",
    "```\n",
    "\n",
    "</div>"
   ]
  },
  {
   "cell_type": "markdown",
   "metadata": {},
   "source": [
    "5. If you remember, the .items() dictionary method produces a sequence of tuples. Keeping this in mind, I have provided you with a dictionary called `pokemon`. For every key value pair, append the key to the list `p_names`, and append the value to the list `p_number`. Don't use the `.keys()` or `.values()` methods.\n"
   ]
  },
  {
   "cell_type": "code",
   "execution_count": null,
   "metadata": {},
   "outputs": [],
   "source": [
    "pokemon = {'Rattata': 19, 'Machop': 66, 'Seel': 86, 'Volbeat': 86, 'Solrock': 126}"
   ]
  },
  {
   "cell_type": "code",
   "execution_count": null,
   "metadata": {},
   "outputs": [],
   "source": [
    "# write your code here\n",
    "\n",
    "\n"
   ]
  },
  {
   "cell_type": "markdown",
   "metadata": {},
   "source": [
    "<div align=\"right\">\n",
    "<a href=\"#q78212\" class=\"btn btn-default\" data-toggle=\"collapse\">Click here for the answer</a>\n",
    "\n",
    "</div>\n",
    "<div id=\"q78212\" class=\"collapse\">\n",
    "\n",
    "```python\n",
    "\n",
    "p_names = [];p_number = []\n",
    "\n",
    "for k,v in pokemon.items():\n",
    "    p_names.append(k)\n",
    "    p_number.append(v)\n",
    "print(p_names,p_number)\n",
    "\n",
    "# if you were to use the keys() and values() methods\n",
    "print(pokemon.keys(),pokemon.values())\n",
    "\n",
    "```\n",
    "\n",
    "</div>"
   ]
  },
  {
   "cell_type": "markdown",
   "metadata": {},
   "source": [
    "6. The .items() method produces a sequence of key-value pair tuples. With this in mind, write code to create a list of keys from the dictionary `track_medal_counts` and assign the list to the variable name `track_events`. Don't use the `.keys()` method."
   ]
  },
  {
   "cell_type": "code",
   "execution_count": null,
   "metadata": {},
   "outputs": [],
   "source": [
    "track_medal_counts = {'shot put': 1, 'long jump': 3, '100 meters': 2, '400 meters': 2, '100 meter hurdles': 3, 'triple jump': 3, 'steeplechase': 2, '1500 meters': 1, '5K': 0, '10K': 0, 'marathon': 0, '200 meters': 0, '400 meter hurdles': 0, 'high jump': 1}\n"
   ]
  },
  {
   "cell_type": "code",
   "execution_count": null,
   "metadata": {},
   "outputs": [],
   "source": [
    "# write your code here\n",
    "\n",
    "\n",
    "\n"
   ]
  },
  {
   "cell_type": "markdown",
   "metadata": {},
   "source": [
    "<div align=\"right\">\n",
    "<a href=\"#q78202\" class=\"btn btn-default\" data-toggle=\"collapse\">Click here for the answer</a>\n",
    "\n",
    "</div>\n",
    "<div id=\"q78202\" class=\"collapse\">\n",
    "\n",
    "```python\n",
    "\n",
    "track_events = []\n",
    "for k,v in track_medal_counts.items():\n",
    "    track_events.append(k)\n",
    "print(track_events)\n",
    "\n",
    "```\n",
    "\n",
    "</div>"
   ]
  },
  {
   "cell_type": "markdown",
   "metadata": {},
   "source": [
    "<a id=\"ref14\"></a>\n",
    "<h2>Glossary</h2>\n",
    "\n",
    "<div align=\"right\"><a href=\"#ref00\">back to top</a></div>\n",
    "\n",
    "\n",
    "**tuple**:\n",
    "a type of sequence, much like a list but immutable. A tuple is created by enclosing one or more values in round brackets, separated by commas.\n",
    "\n",
    "**packing**:\n",
    "when multiple values are specified, separated by commas, they are packed into a tuple.\n",
    "\n",
    "**unpacking**:\n",
    "when a tuple is assigned to a collection of variable names separated by commas, the tuple is unpacked and the separate values are assigned to each of the variables.\n",
    "\n",
    "**pair**:\n",
    "a tuple with exactly two items."
   ]
  },
  {
   "cell_type": "markdown",
   "metadata": {},
   "source": [
    "<a id=\"ref15\"></a>\n",
    "<h2>Exercises</h2>\n",
    "\n",
    "<div align=\"right\"><a href=\"#ref00\">back to top</a></div>"
   ]
  },
  {
   "cell_type": "markdown",
   "metadata": {},
   "source": [
    "1. Using the code statements below write a program that will print out the length of each item in the `weather` list as well as the first and last characters of the item."
   ]
  },
  {
   "cell_type": "code",
   "execution_count": null,
   "metadata": {},
   "outputs": [],
   "source": [
    "weather = [\"sunny\",\"cloudy\",\"partially sunny\",\"rainy\",\"storming\",\"windy\",\"foggy\",\"snowy\",\"hailing\"]"
   ]
  },
  {
   "cell_type": "code",
   "execution_count": null,
   "metadata": {},
   "outputs": [],
   "source": [
    "# re-order the following statements in the cell below to complete the program \n",
    "\n",
    "# statement 1\n",
    "print(\"The first character is: \" + first_char)\n",
    "print(\"The last character is: \" + last_char)\n",
    "print()\n",
    "\n",
    "# statement 2\n",
    "first_char = condition[0]\n",
    "last_char = condition[-1]\n",
    "\n",
    "# statement 3\n",
    "print(\"The word\",condition,\"is\", len(condition), \"characters long\")\n",
    "\n",
    "# statement 4\n",
    "for condition in weather:\n"
   ]
  },
  {
   "cell_type": "code",
   "execution_count": null,
   "metadata": {},
   "outputs": [],
   "source": [
    "# write your code here\n",
    "\n",
    "\n"
   ]
  },
  {
   "cell_type": "markdown",
   "metadata": {},
   "source": [
    "<div align=\"right\">\n",
    "<a href=\"#q1994\" class=\"btn btn-default\" data-toggle=\"collapse\">Click here for the answer</a>\n",
    "\n",
    "</div>\n",
    "<div id=\"q1994\" class=\"collapse\">\n",
    "\n",
    "```python\n",
    "\n",
    "for condition in weather:\n",
    "    first_char = condition[0]\n",
    "    last_char = condition[-1]\n",
    "    print(\"The word\",condition,\"is\", len(condition), \"characters long\")\n",
    "    print(\"The first character is: \" + first_char)\n",
    "    print(\"The last character is: \" + last_char)\n",
    "    print()\n",
    "    \n",
    "```\n",
    "\n",
    "</div>"
   ]
  },
  {
   "cell_type": "markdown",
   "metadata": {},
   "source": [
    "2. Write code to determine how many t's are in the following sentences."
   ]
  },
  {
   "cell_type": "code",
   "execution_count": null,
   "metadata": {},
   "outputs": [],
   "source": [
    "phrases = [\"Hey, what a nice day it is today!\",\"How are you finding learning Python programming?\",\"This is the third and last sentence; it has lots of t's\"]"
   ]
  },
  {
   "cell_type": "code",
   "execution_count": null,
   "metadata": {},
   "outputs": [],
   "source": [
    "# write your code here\n",
    "\n",
    "\n"
   ]
  },
  {
   "cell_type": "markdown",
   "metadata": {},
   "source": [
    "<div align=\"right\">\n",
    "<a href=\"#q1949\" class=\"btn btn-default\" data-toggle=\"collapse\">Click here for the answer</a>\n",
    "\n",
    "</div>\n",
    "<div id=\"q1949\" class=\"collapse\">\n",
    "\n",
    "```python\n",
    "\n",
    "for sentence in phrases:\n",
    "    print(sentence.count(\"t\"))\n",
    "    \n",
    "```\n",
    "\n",
    "</div>"
   ]
  },
  {
   "cell_type": "markdown",
   "metadata": {},
   "source": [
    "3. Fill in the left side of line 7 so that the following code runs without error (and as intended)!"
   ]
  },
  {
   "cell_type": "code",
   "execution_count": null,
   "metadata": {},
   "outputs": [],
   "source": [
    "def circleInfo(r):\n",
    "    \"\"\" Return (circumference, area) of a circle of radius r \"\"\"\n",
    "    c = 2 * 3.14159 * r\n",
    "    a = 3.14159 * r * r\n",
    "    return c, a\n",
    "\n",
    " = circleInfo(10)   # this is line 7\n",
    "print(\"area is \" + str(area))\n",
    "print(\"circumference is \" + str(circ))\n"
   ]
  },
  {
   "cell_type": "markdown",
   "metadata": {},
   "source": [
    "<div align=\"right\">\n",
    "<a href=\"#q19429\" class=\"btn btn-default\" data-toggle=\"collapse\">Click here for the answer</a>\n",
    "\n",
    "</div>\n",
    "<div id=\"q19429\" class=\"collapse\">\n",
    "\n",
    "```python\n",
    "\n",
    "def circleInfo(r):\n",
    "    \"\"\" Return (circumference, area) of a circle of radius r \"\"\"\n",
    "    c = 2 * 3.14159 * r\n",
    "    a = 3.14159 * r * r\n",
    "    return c, a\n",
    "\n",
    "circ, area = circleInfo(10)   # this is line 7\n",
    "print(\"area is \" + str(area))\n",
    "print(\"circumference is \" + str(circ))\n",
    "    \n",
    "```\n",
    "\n",
    "</div>"
   ]
  },
  {
   "cell_type": "markdown",
   "metadata": {},
   "source": [
    "4. Use a `for` loop to print out the last name, year of birth, and city for each of the people. (There are multiple ways you could do this. Try out some code and see what happens!)"
   ]
  },
  {
   "cell_type": "code",
   "execution_count": null,
   "metadata": {},
   "outputs": [],
   "source": [
    "julia = (\"Julia\", \"Roberts\", 1967, \"Duplicity\", 2009, \"Actress\", \"Atlanta, Georgia\")\n",
    "claude = (\"Claude\", \"Shannon\", 1916, \"A Mathematical Theory of Communication\", 1948, \"Mathematician\", \"Petoskey, Michigan\")\n",
    "alan = (\"Alan\", \"Turing\", 1912, \"Computing machinery and intelligence\", 1950, \"Mathematician\", \"London, England\")\n",
    "\n",
    "people = [julia, claude, alan]\n",
    "\n"
   ]
  },
  {
   "cell_type": "markdown",
   "metadata": {},
   "source": [
    "<div align=\"right\">\n",
    "<a href=\"#q19439\" class=\"btn btn-default\" data-toggle=\"collapse\">Click here for the answer</a>\n",
    "\n",
    "</div>\n",
    "<div id=\"q19439\" class=\"collapse\">\n",
    "\n",
    "```python\n",
    "\n",
    "# using just a for loop\n",
    "for person in people:\n",
    "    last_name, year_of_birth, city = person[1],person[2],person[6]\n",
    "    print(last_name,year_of_birth,city)\n",
    "    \n",
    "# defining a function and using a for loop    \n",
    "def extractinfo(atuple):\n",
    "    return atuple[1],atuple[2],atuple[6]\n",
    "\n",
    "for person in people:\n",
    "    print(extractinfo(person))\n",
    " \n",
    "```\n",
    "\n",
    "</div>"
   ]
  },
  {
   "cell_type": "markdown",
   "metadata": {},
   "source": [
    "< [Iteration](ZIteration.ipynb) | [PyFinLab Index](ALWAYS-START-HERE.ipynb) | [Sequences II](ZSequences-II.ipynb) > \n",
    "\n",
    "<div align=\"right\"><a href=\"#ref00\">back to top</a></div>"
   ]
  }
 ],
 "metadata": {
  "kernelspec": {
   "display_name": "Python 3",
   "language": "python",
   "name": "python3"
  },
  "language_info": {
   "codemirror_mode": {
    "name": "ipython",
    "version": 3
   },
   "file_extension": ".py",
   "mimetype": "text/x-python",
   "name": "python",
   "nbconvert_exporter": "python",
   "pygments_lexer": "ipython3",
   "version": "3.7.4"
  }
 },
 "nbformat": 4,
 "nbformat_minor": 2
}
