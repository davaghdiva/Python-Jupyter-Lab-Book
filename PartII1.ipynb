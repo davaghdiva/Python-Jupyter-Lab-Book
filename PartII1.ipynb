{
 "cells": [
  {
   "cell_type": "markdown",
   "metadata": {},
   "source": [
    "< [Notebook 04](PartI4.ipynb) | [PyFinLab Index](ALWAYS-START-HERE.ipynb) | [Notebook 06](PartII2.ipynb) >\n",
    "\n",
    "<a id = \"ref00\"></a>"
   ]
  },
  {
   "cell_type": "markdown",
   "metadata": {},
   "source": [
    "<a><img src=\"figures/UUBS.png\" width=\"180\" height=\"180\" border=\"10\" /></a>\n",
    "\n",
    "<hr>\n",
    "</a>"
   ]
  },
  {
   "cell_type": "markdown",
   "metadata": {},
   "source": [
    "### Notebook 05: Outcomes and random variables\n",
    "\n",
    "In this notebook we cover the basics of what a discrete random variable is; modelling a familiar scenario in Python to generate and observe the outcomes associated with such a random variable."
   ]
  },
  {
   "cell_type": "code",
   "execution_count": 1,
   "metadata": {},
   "outputs": [],
   "source": [
    "#import numpy and pandas packages\n",
    "import numpy as np\n",
    "import pandas as pd"
   ]
  },
  {
   "cell_type": "markdown",
   "metadata": {},
   "source": [
    "### Simulate rolling two dice in a single trial"
   ]
  },
  {
   "cell_type": "code",
   "execution_count": 2,
   "metadata": {},
   "outputs": [
    {
     "name": "stdout",
     "output_type": "stream",
     "text": [
      "The sum of the scores on two dice is 4\n"
     ]
    }
   ],
   "source": [
    "# roll two dice together in a single trial \n",
    "# and record the sum of the scores on each die,\n",
    "\n",
    "die = pd.DataFrame([1, 2, 3, 4, 5, 6])\n",
    "sum_of_dice = die.sample(2, replace=True).sum().loc[0]\n",
    "print('The sum of the scores on two dice is', sum_of_dice)  \n",
    "\n",
    "# you may get different outcomes each time you execute this cell\n",
    "# but the range must always be between 2 and 12. \n",
    "# The code above makes no distinction between the scores on the \n",
    "# individual die, recording only the .sum() total."
   ]
  },
  {
   "cell_type": "markdown",
   "metadata": {},
   "source": [
    "### Have a go!"
   ]
  },
  {
   "cell_type": "code",
   "execution_count": null,
   "metadata": {},
   "outputs": [],
   "source": [
    "# replace 'None' with code suited to rolling three dice instead of two\n",
    "np.random.seed(1)  # This is for checking so don't modify this line of code\n",
    "\n",
    "# modify the code then replace None\n",
    "sum_of_three_dice = None"
   ]
  },
  {
   "cell_type": "code",
   "execution_count": null,
   "metadata": {},
   "outputs": [],
   "source": [
    "print('The sum of the scores on three dice is', sum_of_three_dice)"
   ]
  },
  {
   "cell_type": "markdown",
   "metadata": {},
   "source": [
    "<div align=\"right\">\n",
    "<a href=\"#Hag19\" class=\"btn btn-default\" data-toggle=\"collapse\">Expected output</a>\n",
    "\n",
    "</div>\n",
    "<div id=\"Hag19\" class=\"collapse\">\n",
    "\n",
    "```\n",
    "The sum of the scores on three dice is 15.\n",
    "\n",
    "```\n",
    "\n",
    "\n",
    "</div>"
   ]
  },
  {
   "cell_type": "markdown",
   "metadata": {},
   "source": [
    "### Simulate rolling two dice multiple times"
   ]
  },
  {
   "cell_type": "code",
   "execution_count": 3,
   "metadata": {},
   "outputs": [],
   "source": [
    "# the following code simulates rolling two dice in 50 repeated trials, \n",
    "# with the outcomes being stored in the Python variable \"result\"\n",
    "\n",
    "trial = 50\n",
    "result = [die.sample(2, replace=True).sum().loc[0] for i in range(trial)]"
   ]
  },
  {
   "cell_type": "code",
   "execution_count": 4,
   "metadata": {},
   "outputs": [
    {
     "data": {
      "text/plain": [
       "[12, 8, 7, 6, 3, 10, 12, 8, 8, 3]"
      ]
     },
     "execution_count": 4,
     "metadata": {},
     "output_type": "execute_result"
    }
   ],
   "source": [
    "# print the outcomes from the first 10 trials\n",
    "result[:10]"
   ]
  },
  {
   "cell_type": "markdown",
   "metadata": {},
   "source": [
    "<div align=\"left\">\n",
    "<a href=\"#5344\" class=\"btn btn-default\" data-toggle=\"collapse\"><b>Have a go!</b></a>\n",
    "\n",
    "</div>\n",
    "<div id=\"5344\" class=\"collapse\">\n",
    "<br>\n",
    "\n",
    "In the cells below simulate an experiment in which three dice are thrown for 50 repreated trials but this time it is the average score that is recorded, not the sum. Print out the outcomes from the first ten trials."
   ]
  },
  {
   "cell_type": "code",
   "execution_count": null,
   "metadata": {},
   "outputs": [],
   "source": [
    "# replace 'None' with code suited to rolling three dice instead of two\n",
    "# recording the MEAN score rather than the sum total\n",
    "\n",
    "np.random.seed(2)  # This is for checking so don't modify this line of code\n",
    "\n",
    "# replace None with the modified the code\n",
    "result2 = None"
   ]
  },
  {
   "cell_type": "code",
   "execution_count": null,
   "metadata": {},
   "outputs": [],
   "source": []
  },
  {
   "cell_type": "markdown",
   "metadata": {},
   "source": [
    "<div align=\"right\">\n",
    "<a href=\"#Hag807\" class=\"btn btn-default\" data-toggle=\"collapse\">Expected output</span></a>\n",
    "\n",
    "\n",
    "</div>\n",
    "<div id=\"Hag807\" class=\"collapse\">\n",
    "\n",
    "<a><img src=\"figures/fig 8.png\" width=\"520\" height=\"520\" border=\"10\"/></a>\n",
    "\n",
    "</div>"
   ]
  },
  {
   "cell_type": "markdown",
   "metadata": {},
   "source": [
    "<div align=\"left\">\n",
    "<a href=\"#5000\" class=\"btn btn-default\" data-toggle=\"collapse\"><b>Have a go!</b></a>\n",
    "\n",
    "</div>\n",
    "<div id=\"5000\" class=\"collapse\">\n",
    "<br>\n",
    "\n",
    "\n",
    "Is the random variable in the experiment you have just coded discrete or continuous? Explain your Yes or No answer!"
   ]
  },
  {
   "cell_type": "markdown",
   "metadata": {},
   "source": [
    "Edit your explantion **here** (double click to open cell): \n",
    "\n"
   ]
  },
  {
   "cell_type": "markdown",
   "metadata": {},
   "source": [
    "< [Notebook 04](PartI4.ipynb) | [PyFinLab Index](ALWAYS-START-HERE.ipynb) | [Notebook 06](PartII2.ipynb) >\n",
    "\n",
    "<div align=\"right\"><a href=\"#ref00\">back to top</a></div>"
   ]
  }
 ],
 "metadata": {
  "kernelspec": {
   "display_name": "Python 3",
   "language": "python",
   "name": "python3"
  },
  "language_info": {
   "codemirror_mode": {
    "name": "ipython",
    "version": 3
   },
   "file_extension": ".py",
   "mimetype": "text/x-python",
   "name": "python",
   "nbconvert_exporter": "python",
   "pygments_lexer": "ipython3",
   "version": "3.7.4"
  }
 },
 "nbformat": 4,
 "nbformat_minor": 2
}
