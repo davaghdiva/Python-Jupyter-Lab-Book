{
 "cells": [
  {
   "cell_type": "markdown",
   "metadata": {},
   "source": [
    "< [Notebook 11](PartIII4.ipynb) | [PyFinLab Index](ALWAYS-START-HERE.ipynb) | [Notebook 13](PartIV2.ipynb) >\n",
    "\n",
    "<a id = \"ref00\"></a>"
   ]
  },
  {
   "cell_type": "markdown",
   "metadata": {},
   "source": [
    "<a><img src=\"figures/UUBS.png\" width=\"180\" height=\"180\" border=\"10\" /></a>\n",
    "\n",
    "<hr>"
   ]
  },
  {
   "cell_type": "markdown",
   "metadata": {},
   "source": [
    "### Notebook 12: Association between two random variables \n",
    "\n",
    "In this notebook, we discuss how to measure the strength of association between two random variables. To illustrate this, we use house prices as an example; data have been taken from a publicly available source, and are based on housing values in suburbs of Boston, United States. "
   ]
  },
  {
   "cell_type": "code",
   "execution_count": null,
   "metadata": {},
   "outputs": [],
   "source": [
    "import pandas as pd\n",
    "import matplotlib.pyplot as plt\n",
    "%matplotlib inline"
   ]
  },
  {
   "cell_type": "code",
   "execution_count": null,
   "metadata": {},
   "outputs": [],
   "source": [
    "# import the housing information for analysis \n",
    "\n",
    "housing = pd.read_csv('data/housing.csv',index_col=0)\n",
    "housing.head()"
   ]
  },
  {
   "cell_type": "code",
   "execution_count": null,
   "metadata": {},
   "outputs": [],
   "source": [
    "# using covariance to quantify the association\n",
    "\n",
    "housing.cov()"
   ]
  },
  {
   "cell_type": "code",
   "execution_count": null,
   "metadata": {},
   "outputs": [],
   "source": [
    "# using correlation to quantify the \n",
    "# association is more appropriate here\n",
    "\n",
    "housing.corr()"
   ]
  },
  {
   "cell_type": "code",
   "execution_count": null,
   "metadata": {},
   "outputs": [],
   "source": [
    "# scatter matrix plot\n",
    "\n",
    "from pandas.plotting import scatter_matrix\n",
    "sm = scatter_matrix(housing,figsize=(10, 10))"
   ]
  },
  {
   "cell_type": "markdown",
   "metadata": {},
   "source": [
    "<div align=\"left\">\n",
    "<a href=\"#Gag62\" class=\"btn btn-default\" data-toggle=\"collapse\"><b>Have a go!</b></a>\n",
    "\n",
    "</div>\n",
    "<div id=\"Gag62\" class=\"collapse\">\n",
    "<br>\n",
    "\n",
    "Observe the association between LSTAT and MEDV and type your response in the `input` cell provided.\n"
   ]
  },
  {
   "cell_type": "code",
   "execution_count": null,
   "metadata": {},
   "outputs": [],
   "source": [
    "# take a closer look at the association between MEDV and LSTAT\n",
    "\n",
    "housing.plot(kind='scatter',x='LSTAT',y='MEDV',figsize=(10, 10))"
   ]
  },
  {
   "cell_type": "code",
   "execution_count": null,
   "metadata": {},
   "outputs": [],
   "source": [
    "# press Shift+Enter, input your answer, then press Enter. It may be more \n",
    "# convenient to edit your explantion in Word and paste it in. If you later \n",
    "# wish to enter a different answer then, select, from the ribbon at the top of\n",
    "# the notebook, Cell-Current Outputs-Clear to reset.\n",
    "\n",
    "input('I observe the following:') "
   ]
  },
  {
   "cell_type": "markdown",
   "metadata": {},
   "source": [
    "< [Notebook 11](PartIII4.ipynb) | [PyFinLab Index](ALWAYS-START-HERE.ipynb) | [Notebook 13](PartIV2.ipynb) >\n",
    "\n",
    "<a id = \"ref00\"></a>\n",
    "\n",
    "<div align=\"right\"><a href=\"#ref00\">back to top</a></div>"
   ]
  }
 ],
 "metadata": {
  "kernelspec": {
   "display_name": "Python 3",
   "language": "python",
   "name": "python3"
  },
  "language_info": {
   "codemirror_mode": {
    "name": "ipython",
    "version": 3
   },
   "file_extension": ".py",
   "mimetype": "text/x-python",
   "name": "python",
   "nbconvert_exporter": "python",
   "pygments_lexer": "ipython3",
   "version": "3.8.5"
  }
 },
 "nbformat": 4,
 "nbformat_minor": 2
}
