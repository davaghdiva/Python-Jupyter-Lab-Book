{
 "cells": [
  {
   "cell_type": "markdown",
   "metadata": {},
   "source": [
    "< [Variables, Statements, and Expressions](ZVES.ipynb) | [PyFinLab Index](ALWAYS-START-HERE.ipynb) | [Functions](ZFunctions.ipynb) >\n",
    "\n",
    "<a id = \"ref00\"></a>"
   ]
  },
  {
   "cell_type": "markdown",
   "metadata": {},
   "source": [
    "<a><img src=\"figures/UUBS.png\" width=\"180\" height=\"180\" border=\"10\" /></a>\n",
    "<hr>"
   ]
  },
  {
   "cell_type": "markdown",
   "metadata": {},
   "source": [
    "<h2>Notebook A2: Conditional Execution</h2>\n",
    "\n",
    "<div class=\"alert alert-block alert-info\" style=\"margin-top: 20px\">\n",
    "\n",
    "<li><a href=\"#ref0\">Aims and Objectives</a></li>\n",
    "<li><a href=\"#ref1\">Introduction</a></li>\n",
    "<li><a href=\"#ref2\">Boolean Values and Boolean Expressions</a></li>\n",
    "<li><a href=\"#ref3\">Logical operators</a></li>\n",
    "<li><a href=\"#ref4\">The <b>in</b> and <b>not in</b> operators</a></li>\n",
    "<li><a href=\"#ref5\">Precedence of operators</a></li>\n",
    "<li><a href=\"#ref6\">Conditional Execution: Binary Selection</a></li>\n",
    "<li><a href=\"#ref7\">Omitting the <b>else</b> Clause: Unary Selection</a></li>\n",
    "<li><a href=\"#ref8\">Nested Conditionals</a></li>\n",
    "<li><a href=\"#ref9\">Chained Conditionals</a></li>\n",
    "<li><a href=\"#ref10\">The Accumulator Pattern with Conditionals</a></li>\n",
    "<li><a href=\"#ref11\">Setting Up Conditionals</a></li>\n",
    "<li><a href=\"#ref12\">Glossary</a></li>\n",
    "<li><a href=\"#ref13\">Exercises</a></li>\n",
    "\n",
    "<br>\n",
    "<p></p>\n",
    "Indicative Completion Time: <strong>3 hrs (not including video viewing time)</strong>\n",
    "</div>\n"
   ]
  },
  {
   "cell_type": "markdown",
   "metadata": {},
   "source": [
    "<a id=\"ref0\"></a>\n",
    "<h3>Aims</h3>\n",
    "\n",
    "To introduce and understand the concept and use of: \n",
    "* boolean expressions and logical operators\n",
    "* conditional execution\n",
    "* writing a boolean function\n",
    "* binary, unary, chained and nested conditional statements\n",
    "\n",
    "<h3>Objectives</h3>\n",
    "\n",
    "On completion of this notebook you should be able to:\n",
    "* properly evaluate a (compound) boolean expression\n",
    "* use brackets to properly demonstrate operator precedence\n",
    "* use conditional statements to properly branch code\n"
   ]
  },
  {
   "cell_type": "markdown",
   "metadata": {},
   "source": [
    "<a id=\"ref1\"></a>\n",
    "<h2>Introduction</h2>"
   ]
  },
  {
   "cell_type": "markdown",
   "metadata": {},
   "source": [
    "Thus far, our programs have been a series of statements which always execute sequentially, yet programs frequently need to be more subtle with their behavior. For example, a messaging app might only set a message’s title bold if it has not been read by the user. Or a video game needs to update the position of all the characters that are not asleep. This is done with something called a **selection** or a **conditional statement**.\n",
    "\n",
    "Find below the video collecton for this notebook. Collectively the videos span all the concepts which we shall need when working with conditional execution in Python. View them *more than once* as they lay the foundation for *everything* that follows. \n",
    "\n",
    "Video 1 provides an general introduction to condtional execution; Video 2 extends the treatment and looks in detail at conditional execution patterns and structuring more powerful blocks of code.\n"
   ]
  },
  {
   "cell_type": "markdown",
   "metadata": {},
   "source": [
    "<a href=\"http://www.youtube.com/watch?feature=player_embedded&v=GzewqlkOB3I\n",
    "\" target=\"_blank\"><img src=\"https://cdn.lynda.com/course/614299/614299-636517983560502284-16x9.jpg\" \n",
    "alt=\"Key Value Pairs\" width=\"240\" height=\"180\" border=\"10\" /></a>\n",
    "\n",
    "<p></p>\n",
    "<center><b>Video 1:</b> Introduction to Conditional Execution</center>"
   ]
  },
  {
   "cell_type": "markdown",
   "metadata": {},
   "source": [
    "<a href=\"http://www.youtube.com/watch?feature=player_embedded&v=8GHTklpdzs4\n",
    "\" target=\"_blank\"><img src=\"https://cdn.lynda.com/course/614299/614299-636517983560502284-16x9.jpg\" \n",
    "alt=\"Key Value Pairs\" width=\"240\" height=\"180\" border=\"10\" /></a>\n",
    "\n",
    "<p></p>\n",
    "<center><b>Video 2:</b> Conditional Execution Patterns</center>"
   ]
  },
  {
   "cell_type": "markdown",
   "metadata": {},
   "source": [
    "To provide context let's consider a simple *turtle* drawing program (turtle is a Python drawing module); using this kind of statement will allow us to check conditions and change the behavior of the program accordingly"
   ]
  },
  {
   "cell_type": "markdown",
   "metadata": {},
   "source": [
    "```\n",
    "import turtle\n",
    "wn = turtle.Screen()\n",
    "\n",
    "amy = turtle.Turtle()\n",
    "amy.pencolor(\"Pink\")\n",
    "amy.forward(50)\n",
    "if amy.pencolor() == \"Pink\":\n",
    "    amy.right(60)\n",
    "    amy.forward(100)\n",
    "else:\n",
    "    amy.left(60)\n",
    "    amy.forward(100)\n",
    "\n",
    "kenji = turtle.Turtle()\n",
    "kenji.forward(60)\n",
    "if kenji.pencolor() == \"Pink\":\n",
    "    kenji.right(60)\n",
    "    kenji.forward(100)\n",
    "else:\n",
    "    kenji.left(60)\n",
    "    kenji.forward(100)\n",
    "\n",
    "\n",
    "```"
   ]
  },
  {
   "cell_type": "markdown",
   "metadata": {},
   "source": [
    "In the above code, we first set amy’s pen colour to “Pink” and then move her forward. Next we want one of two actions to happen, either amy should move right and then forward, or left and then forward. The direction that we want her to go in depends on her pen colour. If her pen colour is pink, which is determined by *asking*\n",
    "\n",
    "`amy.pencolor() == \"Pink\"` \n",
    "\n",
    "which checks to see if the value returned by\n",
    "\n",
    "`amy.pencolor()` \n",
    "\n",
    "is the equivalent to the string \n",
    "\n",
    "`“Pink”` \n",
    "\n",
    "then we should have her move right and forward, `else` (or otherwise) she should move left and forward. Both things can’t happen though. She can’t move right, forward and left, forward. We then do the same thing for kenji, though in this case we didn’t pre-set kenji’s pen colour (it will take the default colour of black).\n",
    "\n",
    "It may seem a bit odd to have added the conditionals in this example. Wouldn’t we already know that we set up amy and kenji’s colours, so why would we need a conditional? It’s true that it isn’t necessary in this case to use a conditional, it is just for illustration purposes at this stage. We can also combine conditional statements with `for` loops to make something very useful! We will cover 'loops' in the [Iteration](01.12-Iteration.ipynb) notebook but have a look at an implementation of a `for` loop in the code below, you may get a basic feel for what it is trying to achieve."
   ]
  },
  {
   "cell_type": "markdown",
   "metadata": {},
   "source": [
    "```\n",
    "import turtle\n",
    "wn = turtle.Screen()\n",
    "\n",
    "amy = turtle.Turtle()\n",
    "amy.pencolor(\"Pink\")\n",
    "amy.right(170)\n",
    "\n",
    "colours = [\"Purple\", \"Yellow\", \"Orange\", \"Pink\", \"Orange\", \"Yellow\", \"Purple\", \"Orange\", \"Pink\", \"Pink\", \"Orange\", \"Yellow\", \"Purple\", \"Orange\", \"Purple\", \"Yellow\", \"Orange\", \"Pink\", \"Orange\", \"Purple\", \"Purple\", \"Yellow\", \"Orange\", \"Pink\", \"Orange\", \"Yellow\", \"Purple\", \"Yellow\"]\n",
    "\n",
    "\n",
    "for colour in colours:\n",
    "    if amy.pencolor() == \"Purple\":\n",
    "        amy.forward(50)\n",
    "        amy.right(59)\n",
    "    elif amy.pencolor() == \"Yellow\":\n",
    "        amy.forward(65)\n",
    "        amy.left(98)\n",
    "    elif amy.pencolor() == \"Orange\":\n",
    "        amy.forward(30)\n",
    "        amy.left(60)\n",
    "    elif amy.pencolor() == \"Pink\":\n",
    "        amy.forward(50)\n",
    "        amy.right(57)\n",
    "\n",
    "    amy.pencolor(colour)\n",
    "\n",
    "```"
   ]
  },
  {
   "cell_type": "markdown",
   "metadata": {},
   "source": [
    "The above example combines a `for` loop with a set of conditional statements. Here, we loop through a list of colours and each iteration checks to see what amy’s pen colour is. Depending on the pen colour, the turtle will move in a certain direction, for a certain distance. Before the `for` loop iterates, amy’s pen colour is changed to whatever `colour` is in the `for` loop and it continues. Note how the colour doesn’t change until the end, so that we can start using whatever colour amy is set to initally. This means that the last colour in the list `colours` will not be used, though you can see how the icon changes to the appropriate colour.\n",
    "\n",
    "The remainder of this notebook explores in some detail how to use conditional statements."
   ]
  },
  {
   "cell_type": "markdown",
   "metadata": {},
   "source": [
    "<a id=\"ref2\"></a>\n",
    "<h2>Boolean Values and Boolean Expressions</h2>\n",
    "\n",
    "<div align=\"right\"><a href=\"#ref00\">back to top</a></div>"
   ]
  },
  {
   "cell_type": "markdown",
   "metadata": {},
   "source": [
    "The Python type for storing true and false values is called `bool`, named after the mathematician, George Boole. George Boole created *Boolean Algebra*, which is the basis of all modern computer arithmetic.\n",
    "\n",
    "There are only two boolean values. They are `True` and `False`. Capitalisation is important, since `true` and `false` are not boolean values (remember Python is case sensitive).\n",
    "\n"
   ]
  },
  {
   "cell_type": "code",
   "execution_count": null,
   "metadata": {},
   "outputs": [],
   "source": [
    "print(True)\n",
    "print(type(True))\n",
    "print(type(False))"
   ]
  },
  {
   "cell_type": "markdown",
   "metadata": {},
   "source": [
    "<div align=\"left\">\n",
    "<a href=\"#q1\" class=\"btn btn-default\" data-toggle=\"collapse\">Important Note</a>\n",
    "\n",
    "</div>\n",
    "<div id=\"q1\" class=\"collapse\">\n",
    "\n",
    "\n",
    "Boolean values are not strings!\n",
    "\n",
    "It is very important to realise that `True` and `False` are not strings. They are not surrounded by quotes. They are the only two values in the data type `bool`. Take a close look at the types shown below.\n",
    "    \n",
    "\n",
    "\n",
    "</div>"
   ]
  },
  {
   "cell_type": "code",
   "execution_count": null,
   "metadata": {},
   "outputs": [],
   "source": [
    "print(type(True))\n",
    "print(type(\"True\"))"
   ]
  },
  {
   "cell_type": "markdown",
   "metadata": {},
   "source": [
    "A **boolean expression** is an expression that evaluates to a boolean value. The equality operator, `==`, compares two values and produces a boolean value related to whether or not the two values are equal to one another."
   ]
  },
  {
   "cell_type": "code",
   "execution_count": null,
   "metadata": {},
   "outputs": [],
   "source": [
    "print(5 == 5)\n",
    "print(5 == 6)"
   ]
  },
  {
   "cell_type": "markdown",
   "metadata": {},
   "source": [
    "In the first statement, the two operands are equal, so the expression evaluates to `True`. In the second statement, 5 is not equal to 6, so we get `False`.\n",
    "\n",
    "The `==` operator is one of six common **comparison** operators; the others are:"
   ]
  },
  {
   "cell_type": "markdown",
   "metadata": {},
   "source": [
    "```\n",
    "x != y               # x is not equal to y\n",
    "x > y                # x is greater than y\n",
    "x < y                # x is less than y\n",
    "x >= y               # x is greater than or equal to y\n",
    "x <= y               # x is less than or equal to y\n",
    "\n",
    "```"
   ]
  },
  {
   "cell_type": "markdown",
   "metadata": {},
   "source": [
    "Although these operations are probably familiar to you, the Python symbols are different from the mathematical symbols. A common error is to use a single equal sign (`=`) instead of a double equal sign (`==`). Remember that `=` is an assignment operator and `==` is a comparison operator. Also, there is no such thing as `=<` or `=>`.\n",
    "\n",
    "Note too that an equality test is symmetric, but assignment is not. For example, if `a == 7` then `7 == a`. But in Python, the statement `a = 7` is legal while `7 = a` is not. (Can you explain why?)"
   ]
  },
  {
   "cell_type": "markdown",
   "metadata": {},
   "source": [
    "**Have a go:**"
   ]
  },
  {
   "cell_type": "markdown",
   "metadata": {},
   "source": [
    "1. Which of the following is a Boolean expression? Select all that apply.\n",
    "\n",
    "\n",
    "* A. True\n",
    "* B. 3 == 4\n",
    "* C. 3 + 4\n",
    "* D. 3 + 4 == 7\n",
    "* E. \"False\""
   ]
  },
  {
   "cell_type": "markdown",
   "metadata": {},
   "source": [
    "<div align=\"right\">\n",
    "<a href=\"#q01\" class=\"btn btn-default\" data-toggle=\"collapse\">Click here for the answer</a>\n",
    "\n",
    "</div>\n",
    "<div id=\"q01\" class=\"collapse\">\n",
    "\n",
    "```\n",
    "A. True and False are both Boolean literals.\n",
    "B. The comparison between two numbers via == results in \n",
    "   either True or False (in this case False), both \n",
    "   Boolean values.\n",
    "D. 3+4 evaluates to 7. 7 == 7 then evaluates to True, \n",
    "   which is a Boolean value.\n",
    "\n",
    "```\n",
    "\n",
    "</div>"
   ]
  },
  {
   "cell_type": "markdown",
   "metadata": {},
   "source": [
    "<a id=\"ref3\"></a>\n",
    "<h2>Logical Operators</h2>\n",
    "\n",
    "<div align=\"right\"><a href=\"#ref00\">back to top</a></div>"
   ]
  },
  {
   "cell_type": "markdown",
   "metadata": {},
   "source": [
    "There are three **logical operators**: `and`, `or`, and `not`. The semantics (meaning) of these operators is similar to their meaning in English. For example, `x > 0 and x < 10` is true only if `x` is greater than 0 and at the same time, `x` is less than 10.\n",
    "\n",
    "`n % 2 == 0 or n % 3 == 0` is true if *either* of the conditions is true, that is, if the number is divisible by 2 or divisible by 3. In this case, one, or the other, or both of the parts has to be true for the result to be true.\n",
    "\n",
    "Finally, the `not` operator negates a boolean expression, so `not  x > y` is true if `x > y` is false, that is, if `x` is less than or equal to `y`."
   ]
  },
  {
   "cell_type": "code",
   "execution_count": null,
   "metadata": {},
   "outputs": [],
   "source": [
    "x = 5\n",
    "print(x>0 and x<10)\n",
    "\n",
    "n = 25\n",
    "print(n%2 == 0 or n%3 == 0)\n"
   ]
  },
  {
   "cell_type": "markdown",
   "metadata": {},
   "source": [
    "<div align=\"left\">\n",
    "<a href=\"#q001\" class=\"btn btn-default\" data-toggle=\"collapse\">Important Note</a>\n",
    "\n",
    "</div>\n",
    "<div id=\"q001\" class=\"collapse\">\n",
    "\n",
    "There is a very common mistake that occurs when programmers try to write boolean expressions. For example, what if we have a variable `number` and we want to check to see if its value is 5, 6, or 7? In words we might say: “number equal to 5 or 6 or 7”. However, if we translate this into Python, `number == 5 or 6 or 7`, it will not be correct. The `or` operator must join the results of three equality checks. The correct way to write this is `number == 5 or number == 6 or number == 7`.\n",
    "\n",
    "This may seem like a lot of typing but it is absolutely necessary. You cannot take a shortcut.\n",
    "\n",
    "Well, actually, you can take a shortcut but not that way. Later in this notebook you will learn about the `in` operator for strings and sequences: you could write `number in [5, 6, 7]`.\n",
    "\n",
    "</div>"
   ]
  },
  {
   "cell_type": "markdown",
   "metadata": {},
   "source": [
    "**Have a go:**"
   ]
  },
  {
   "cell_type": "markdown",
   "metadata": {},
   "source": [
    "1. What is the correct Python expression for checking to see if a number stored in a variable x is between 0 and 5.\n",
    "\n",
    "\n",
    "* A. x > 0 and < 5\n",
    "* B. 0 < x< 5\n",
    "* C. x > 0 or x < 5\n",
    "* D. x > 0 and x < 5\n"
   ]
  },
  {
   "cell_type": "markdown",
   "metadata": {},
   "source": [
    "<div align=\"right\">\n",
    "<a href=\"#q002\" class=\"btn btn-default\" data-toggle=\"collapse\">Click here for the answer</a>\n",
    "\n",
    "</div>\n",
    "\n",
    "<div id=\"q002\" class=\"collapse\">\n",
    "\n",
    "\n",
    "D. Yes, with an `and` keyword both expressions must be true so the number must be greater than 0 an less than 5 for this expression to be true.\n",
    "(A is not syntactically correct)\n",
    "\n",
    "\n",
    "</div>"
   ]
  },
  {
   "cell_type": "markdown",
   "metadata": {},
   "source": [
    "<a id=\"ref4\"></a>\n",
    "\n",
    "## The `in` and `not in` operators\n",
    "\n",
    "<div align=\"right\"><a href=\"#ref00\">back to top</a></div>"
   ]
  },
  {
   "cell_type": "markdown",
   "metadata": {},
   "source": [
    "The `in` operator tests if one string is a substring of another:"
   ]
  },
  {
   "cell_type": "code",
   "execution_count": null,
   "metadata": {},
   "outputs": [],
   "source": [
    "print('p' in 'apple')\n",
    "print('i' in 'apple')\n",
    "print('ap' in 'apple')\n",
    "print('pa' in 'apple')"
   ]
  },
  {
   "cell_type": "markdown",
   "metadata": {},
   "source": [
    "Note that a string is a substring of itself, and the empty string is a substring of any other string. It is often important to think about these 'boundary' cases carefully."
   ]
  },
  {
   "cell_type": "code",
   "execution_count": null,
   "metadata": {},
   "outputs": [],
   "source": [
    "print('a' in 'a')\n",
    "print('apple' in 'apple')\n",
    "print('' in 'a')\n",
    "print('' in 'apple')\n",
    "print('' in '')"
   ]
  },
  {
   "cell_type": "markdown",
   "metadata": {},
   "source": [
    "The `not in` operator returns the logical opposite result of `in`."
   ]
  },
  {
   "cell_type": "code",
   "execution_count": null,
   "metadata": {},
   "outputs": [],
   "source": [
    "print('x' not in 'apple')"
   ]
  },
  {
   "cell_type": "markdown",
   "metadata": {},
   "source": [
    "We can also use the `in` and `not in` operators on lists!"
   ]
  },
  {
   "cell_type": "code",
   "execution_count": null,
   "metadata": {},
   "outputs": [],
   "source": [
    "print('a' in ['a', 'b', 'c', 'd']) \n",
    "print(9 in [3, 2, 9, 10, 9.0])\n",
    "print('wow' not in ['gee wiz', 'gosh golly', 'wow', 'amazing'] )"
   ]
  },
  {
   "cell_type": "markdown",
   "metadata": {},
   "source": [
    "However, recall how we were able to check to see if the string 'a' was in 'apple'? Let’s try that again to see if the string 'a' is in the following list."
   ]
  },
  {
   "cell_type": "code",
   "execution_count": null,
   "metadata": {},
   "outputs": [],
   "source": [
    "print('a' in ['apple', 'absolutely', 'application', 'nope'])"
   ]
  },
  {
   "cell_type": "markdown",
   "metadata": {},
   "source": [
    "Clearly, we can tell that `a` is in the word `apple`, and `absolutely`, and `application`. For some reason though, the Python interpreter returns `False`. Why is that? When we use the `in` and `not in` operators on lists, Python checks to see if the item on the left side of the expression is equivalent to an element in the item on the right side of the expression. In this case, Python is checking whether or not an element of the list is the string 'a' - nothing more or less than that."
   ]
  },
  {
   "cell_type": "markdown",
   "metadata": {},
   "source": [
    "<a id=\"ref5\"></a>\n",
    "<h2>Precedence of Operators</h2>\n",
    "\n",
    "<div align=\"right\"><a href=\"#ref00\">back to top</a></div>"
   ]
  },
  {
   "cell_type": "markdown",
   "metadata": {},
   "source": [
    "Arithmetic operators take precedence over logical operators. Python will always evaluate the arithmetic operators first (****** is highest, then multiplication/division, then addition/subtraction). Next comes the relational operators. Finally, the logical operators are done last. This means that the expression `x*5 >= 10 and y-6 <= 20` will be evaluated so as to first perform the arithmetic and then check the relationships. The `and` will be done last. Many programmers place brackets around the two relational expressions, `(x*5 >= 10) and (y-6 <= 20)`. It is not necessary to do so, but does no harm and may make it easier for people to read and understand the code.\n",
    "\n",
    "The following table summarises the operator precedence from highest to lowest. A complete table for the entire language can be found in the [Python Documentation](https://docs.python.org/3/reference/expressions.html#expression-lists)."
   ]
  },
  {
   "cell_type": "markdown",
   "metadata": {},
   "source": [
    "<a><img src=\"figures/Table_conditionals.png\" width=\"480\" height=\"180\" border=\"10\" /></a>"
   ]
  },
  {
   "cell_type": "markdown",
   "metadata": {},
   "source": [
    "Students new to programming sometimes incorrectly combine the `in` and `or` operators. For example, if they want to check that the letter `'x'` is inside either of two variables, they tend to write it the following way: `'x' in y or z`\n",
    "\n",
    "Written this way, the code would not always do what the programmer intended. This is because the `in` operator is only on the left side of the `or` statement. It does not get implemented on both sides of the `or` statement. In order to properly check that `'x'` is inside either variable, the `in` operator must be used on both sides which looks like this:\n"
   ]
  },
  {
   "cell_type": "markdown",
   "metadata": {},
   "source": [
    "```\n",
    "'x' in y or 'x' in z\n",
    "\n",
    "```"
   ]
  },
  {
   "cell_type": "markdown",
   "metadata": {},
   "source": [
    "**Have a go:**"
   ]
  },
  {
   "cell_type": "markdown",
   "metadata": {},
   "source": [
    "1. Which of the following properly expresses the precedence of operators (using brackets) in the following expression: \n",
    "<br><br>\n",
    "`5*3 > 10 and 4+6==11`\n",
    "\n",
    "\n",
    "* A. ((5*3) > 10) and ((4+6) == 11)\n",
    "* B. (5*(3 > 10)) and (4 + (6 == 11))\n",
    "* C. ((((5*3) > 10) and 4)+6) == 11\n",
    "* D. ((5*3) > (10 and (4+6))) == 11"
   ]
  },
  {
   "cell_type": "markdown",
   "metadata": {},
   "source": [
    "<div align=\"right\">\n",
    "<a href=\"#q003\" class=\"btn btn-default\" data-toggle=\"collapse\">Click here for the answer</a>\n",
    "\n",
    "</div>\n",
    "\n",
    "<div id=\"q003\" class=\"collapse\">\n",
    "\n",
    "A. ((5*3) > 10) and ((4+6) == 11)\n",
    "\n",
    "Yes, `*` and `+` have higher precedence, followed by `>` and `==`, and then the keyword `and`\n",
    "\n",
    "\n",
    "\n",
    "\n",
    "</div>"
   ]
  },
  {
   "cell_type": "markdown",
   "metadata": {},
   "source": [
    "<a id=\"ref6\"></a>\n",
    "<h2>Conditional Execution: Binary Selection</h2>\n",
    "\n",
    "<div align=\"right\"><a href=\"#ref00\">back to top</a></div>"
   ]
  },
  {
   "cell_type": "markdown",
   "metadata": {},
   "source": [
    "In order to write useful programs, we almost always need to be able to check conditions and change the behavior of the program accordingly. **Selection statements**, sometimes also referred to as **conditional statements**, give us this ability. The simplest form of selection is the **`if` statement**. This is sometimes referred to as **binary selection** since there are two possible paths of execution.\n"
   ]
  },
  {
   "cell_type": "code",
   "execution_count": null,
   "metadata": {},
   "outputs": [],
   "source": [
    "x = 15\n",
    "\n",
    "if x % 2 == 0:\n",
    "    print(x, \"is even\")\n",
    "else:\n",
    "    print(x, \"is odd\")\n"
   ]
  },
  {
   "cell_type": "markdown",
   "metadata": {},
   "source": [
    "The syntax for an `if` statement looks like this:"
   ]
  },
  {
   "cell_type": "markdown",
   "metadata": {},
   "source": [
    "```\n",
    "if BOOLEAN EXPRESSION:\n",
    "    STATEMENTS_1        # executed if condition evaluates to True\n",
    "else:\n",
    "    STATEMENTS_2        # executed if condition evaluates to False\n",
    "\n",
    "```"
   ]
  },
  {
   "cell_type": "markdown",
   "metadata": {},
   "source": [
    "The boolean expression after the `if` statement is called the condition. If it is true, then the indented statements get executed. If not, then the statements indented under the `else` clause get executed.\n",
    "\n",
    "<a><img src=\"figures/flowchart_if_else.png\" width=\"220\" height=\"180\" border=\"10\" /></a>\n",
    "\n",
    "\n",
    "\n",
    "<div align=\"center\">\n",
    "    \n",
    "<center><b>Figure 1:</b> Flow for an <b>if</b> statement with an <b>else</b>.</center>\n",
    "\n",
    "</div>  \n",
    "  \n",
    "\n",
    "As with the function definition from the previous notebook and other compound statements like `for`, the `if` statement consists of a header line and a body. The header line begins with the keyword `if` followed by a boolean expression and ends with a colon (:).\n",
    "\n",
    "The indented statements that follow are called a **block**. The first unindented statement marks the end of the block.\n",
    "\n",
    "Each of the statements inside the first block of statements is executed in order if the boolean expression evaluates to `True`. The entire first block of statements is skipped if the boolean expression evaluates to `False`, and instead all the statements under the `else` clause are executed.\n",
    "\n",
    "There is no limit to the number of statements that can appear under the two clauses of an `if` statement, but there has to be at least one statement in each block."
   ]
  },
  {
   "cell_type": "markdown",
   "metadata": {},
   "source": [
    "**Have a go:**"
   ]
  },
  {
   "cell_type": "markdown",
   "metadata": {},
   "source": [
    "1. How many lines of code can appear in the indented code block below the `if` and `else` lines in a conditional?\n",
    "\n",
    "\n",
    "* A. Just one.\n",
    "* B. Zero or more.\n",
    "* C. One or more.\n",
    "* D. One or more, and each must contain the same number.\n",
    "\n"
   ]
  },
  {
   "cell_type": "markdown",
   "metadata": {},
   "source": [
    "<div align=\"right\">\n",
    "<a href=\"#q004\" class=\"btn btn-default\" data-toggle=\"collapse\">Click here for the answer</a>\n",
    "\n",
    "</div>\n",
    "\n",
    "<div id=\"q004\" class=\"collapse\">\n",
    "\n",
    "\n",
    "C. One or more. (Yes, a block must contain at least one statement and can have many statements)\n",
    "\n",
    "\n",
    "</div>"
   ]
  },
  {
   "cell_type": "markdown",
   "metadata": {},
   "source": [
    "2. What does the following code print?\n",
    "\n",
    "```\n",
    "if (4 + 5 == 10):\n",
    "    print(\"TRUE\")\n",
    "else:\n",
    "    print(\"FALSE\")\n",
    "\n",
    "```"
   ]
  },
  {
   "cell_type": "markdown",
   "metadata": {},
   "source": [
    "* A. TRUE\n",
    "* B. FALSE\n",
    "* C. TRUE on one line and FALSE on the next\n",
    "* D. Nothing will be printed"
   ]
  },
  {
   "cell_type": "markdown",
   "metadata": {},
   "source": [
    "<div align=\"right\">\n",
    "<a href=\"#q005\" class=\"btn btn-default\" data-toggle=\"collapse\">Click here for the answer</a>\n",
    "\n",
    "</div>\n",
    "\n",
    "<div id=\"q005\" class=\"collapse\">\n",
    "\n",
    "B. Since `4+5==10` evaluates to `False`, Python will skip over the `if` block and execute the statement in the `else` block.\n",
    "\n",
    "\n",
    "</div>"
   ]
  },
  {
   "cell_type": "markdown",
   "metadata": {},
   "source": [
    "3. What does the following code print?\n",
    "\n",
    "```\n",
    "if (4 + 5 == 10):\n",
    "    print(\"TRUE\")\n",
    "else:\n",
    "    print(\"FALSE\")\n",
    "print(\"TRUE\")\n",
    "\n",
    "\n",
    "```"
   ]
  },
  {
   "cell_type": "markdown",
   "metadata": {},
   "source": [
    "Choose from the following output options\n",
    "\n",
    "```\n",
    "A. TRUE   B. TRUE    C. FALSE   D. TRUE\n",
    "             FALSE      TRUE       FALSE\n",
    "                                   TRUE\n",
    "```\n"
   ]
  },
  {
   "cell_type": "markdown",
   "metadata": {},
   "source": [
    "<div align=\"right\">\n",
    "<a href=\"#q006\" class=\"btn btn-default\" data-toggle=\"collapse\">Click here for the answer</a>\n",
    "\n",
    "</div>\n",
    "\n",
    "<div id=\"q006\" class=\"collapse\">\n",
    "\n",
    "\n",
    "C. Python will print `FALSE` from within the `else`-block (because `5+4` does not equal 10), and then print `TRUE` after the `if-else` statement completes.\n",
    "\n",
    "</div>"
   ]
  },
  {
   "cell_type": "markdown",
   "metadata": {},
   "source": [
    "\n",
    "4. Write code to assign the string `'You can apply to UUBS!'` to `output` **if** the string \"UBS 107\" is in the list `courses`. If it is not in `courses`, assign the value `'Take SI 106!'` to the variable `output`."
   ]
  },
  {
   "cell_type": "code",
   "execution_count": 4,
   "metadata": {},
   "outputs": [],
   "source": [
    "courses = [\"ENGR 101\", \"UBS 110\", \"ENG 125\", \"UBS 106\", \"CHEM 130\"]\n",
    "\n",
    "# write your code below\n",
    "\n",
    "\n",
    "\n"
   ]
  },
  {
   "cell_type": "markdown",
   "metadata": {},
   "source": [
    "<div align=\"right\">\n",
    "<a href=\"#q008\" class=\"btn btn-default\" data-toggle=\"collapse\">Click here for the answer</a>\n",
    "\n",
    "</div>\n",
    "\n",
    "<div id=\"q008\" class=\"collapse\">\n",
    "\n",
    "```\n",
    "if \"UBS 107\" in courses:\n",
    "    output = \"You can apply to UUBS!\"\n",
    "else:\n",
    "    output = \"Take SI 106\"\n",
    "    \n",
    "print(output)\n",
    "\n",
    "```\n",
    "\n",
    "</div>"
   ]
  },
  {
   "cell_type": "markdown",
   "metadata": {},
   "source": [
    "5. Create a variable, `b`, and assign it the value of `15`. Then, write code to see if the value `b` is greater than that of `a`. If it is, `a`’s value should be multiplied by 2. If the value of `b` is less than or equal to `a`, nothing should happen. Finally, create variable `c` and assign it the value of the sum of `a` and `b`."
   ]
  },
  {
   "cell_type": "code",
   "execution_count": null,
   "metadata": {},
   "outputs": [],
   "source": [
    "a = 20\n",
    "# write your code below\n",
    "\n",
    "\n",
    "\n"
   ]
  },
  {
   "cell_type": "markdown",
   "metadata": {},
   "source": [
    "<div align=\"right\">\n",
    "<a href=\"#q009\" class=\"btn btn-default\" data-toggle=\"collapse\">Click here for the answer</a>\n",
    "\n",
    "</div>\n",
    "\n",
    "<div id=\"q009\" class=\"collapse\">\n",
    "\n",
    "```\n",
    "a = 20\n",
    "b = ? # choose a numerical value for b\n",
    "if b > a:\n",
    "    a = 2*a\n",
    "c = a + b\n",
    "print(c)\n",
    "\n",
    "```\n",
    "\n",
    "</div>"
   ]
  },
  {
   "cell_type": "markdown",
   "metadata": {},
   "source": [
    "<a id=\"ref7\"></a>\n",
    "\n",
    "## Omitting the `else` Clause: Unary Selection\n",
    "\n",
    "<div align=\"right\"><a href=\"#ref00\">back to top</a></div>"
   ]
  },
  {
   "cell_type": "markdown",
   "metadata": {},
   "source": [
    "Another form of the `if` statement is one in which the `else` clause is omitted entirely. This creates what is sometimes called **unary** selection. In this case, when the condition evaluates to `True`, the statements are executed. Otherwise the flow of execution continues to the statement after the body of the `if`."
   ]
  },
  {
   "cell_type": "markdown",
   "metadata": {},
   "source": [
    "<a><img src=\"figures/unary_selection.png\" width=\"200\" height=\"180\" border=\"10\" /></a>\n",
    "\n",
    "<div align=\"center\">\n",
    "    \n",
    "<center><b>Figure 2:</b> Flow for an <b>if</b> statement with no <b>else</b>.</center>\n",
    "\n",
    "</div>  \n"
   ]
  },
  {
   "cell_type": "code",
   "execution_count": null,
   "metadata": {},
   "outputs": [],
   "source": [
    "x = 10\n",
    "if x < 0:\n",
    "    print(\"x being negative caused this sentence to be printed.\")\n",
    "print(\"This sentence is always printed.\")"
   ]
  },
  {
   "cell_type": "markdown",
   "metadata": {},
   "source": [
    "What would be printed above if the value of `x` is negative? \n",
    "\n",
    "**Have a go:**"
   ]
  },
  {
   "cell_type": "markdown",
   "metadata": {},
   "source": [
    "1. What does the following code print?\n",
    "\n",
    "```\n",
    "x = -10\n",
    "if x < 0:\n",
    "    print(\"The negative number \",  x, \" is not valid here.\")\n",
    "print(\"This is always printed\")\n",
    "```"
   ]
  },
  {
   "cell_type": "markdown",
   "metadata": {},
   "source": [
    "<ul>\n",
    "  <li>A</li>\n",
    "    <ul>\n",
    "      <li>This is always printed</li>\n",
    "    </ul>\n",
    "  <li>B\n",
    "    <ul>\n",
    "      <li>The negative number -10 is not valid here</li>\n",
    "      <li>This is always printed</li>\n",
    "    </ul>\n",
    "  </li>\n",
    "  <li>C\n",
    "    <ul>\n",
    "      <li>The negative number -10 is not valid here</li>\n",
    "    </ul>\n",
    "  </li>\n",
    "  <li>D\n",
    "    <ul>\n",
    "      <li>It will cause an error because every `if` must have an `else` clause</li>\n",
    "    </ul>\n",
    "  </li>\n",
    "</ul>\n",
    "\n",
    "\n",
    "\n",
    "\n",
    "\n"
   ]
  },
  {
   "cell_type": "markdown",
   "metadata": {},
   "source": [
    "<div align=\"right\">\n",
    "<a href=\"#q0010\" class=\"btn btn-default\" data-toggle=\"collapse\">Click here for the answer</a>\n",
    "\n",
    "</div>\n",
    "\n",
    "<div id=\"q0010\" class=\"collapse\">\n",
    "\n",
    "\n",
    "B. Python executes the body of the `if`-block as well as the statement that follows the `if`-block.\n",
    "\n",
    "\n",
    "</div>"
   ]
  },
  {
   "cell_type": "markdown",
   "metadata": {},
   "source": [
    "2. Will the following code cause an error?\n",
    "\n",
    "```\n",
    "x = -10\n",
    "if x < 0:\n",
    "    print(\"The negative number \",  x, \" is not valid here.\")\n",
    "else:\n",
    "    print(x, \" is a positive number\")\n",
    "else:\n",
    "    print(\"This is always printed\")\n",
    "```"
   ]
  },
  {
   "cell_type": "markdown",
   "metadata": {},
   "source": [
    "* A. No\n",
    "* B. Yes"
   ]
  },
  {
   "cell_type": "markdown",
   "metadata": {},
   "source": [
    "<div align=\"right\">\n",
    "<a href=\"#q0011\" class=\"btn btn-default\" data-toggle=\"collapse\">Click here for the answer</a>\n",
    "\n",
    "</div>\n",
    "\n",
    "<div id=\"q0011\" class=\"collapse\">\n",
    "\n",
    "\n",
    "B. Yes. This will cause an error because the second `else`-block is not attached to a corresponding `if`-block.\n",
    "\n",
    "\n",
    "\n",
    "</div>"
   ]
  },
  {
   "cell_type": "markdown",
   "metadata": {},
   "source": [
    "<a id=\"ref8\"></a>\n",
    "<h2>Nested Conditionals</h2>\n",
    "\n",
    "<div align=\"right\"><a href=\"#ref00\">back to top</a></div>"
   ]
  },
  {
   "cell_type": "markdown",
   "metadata": {},
   "source": [
    "One conditional can also be **nested** within another. For example, assume we have two integer variables, `x` and `y`. The following pattern of selection shows how we might decide how they are related to each other."
   ]
  },
  {
   "cell_type": "markdown",
   "metadata": {},
   "source": [
    "```\n",
    "if x < y:\n",
    "    print(\"x is less than y\")\n",
    "else:\n",
    "    if x > y:\n",
    "        print(\"x is greater than y\")\n",
    "    else:\n",
    "        print(\"x and y must be equal\")\n",
    "        \n",
    "```"
   ]
  },
  {
   "cell_type": "markdown",
   "metadata": {},
   "source": [
    "The outer conditional contains two branches. The second branch (the else from the outer) contains another `if` statement, which has two branches of its own. Those two branches could contain conditional statements as well."
   ]
  },
  {
   "cell_type": "markdown",
   "metadata": {},
   "source": [
    "The flow of control for this example can be seen in the illustration:\n",
    "\n",
    "\n",
    "<a><img src=\"figures/control_flow.png\" width=\"260\" height=\"180\" border=\"10\" /></a>\n",
    "\n",
    "<div align=\"center\">\n",
    "    \n",
    "<center><b>Figure 3:</b> Flow for a nested <b>if-else</b> statement.</center>\n",
    "\n",
    "</div>  \n",
    "\n"
   ]
  },
  {
   "cell_type": "markdown",
   "metadata": {},
   "source": [
    "Here is a complete program that defines values for `x` and `y`. Run the program and see the result. Then change the values of the variables to change the flow of control."
   ]
  },
  {
   "cell_type": "code",
   "execution_count": null,
   "metadata": {},
   "outputs": [],
   "source": [
    "x = 5\n",
    "y = 5\n",
    "\n",
    "if x < y:\n",
    "    print(\"x is less than y\")\n",
    "else:\n",
    "    if x > y:\n",
    "        print(\"x is greater than y\")\n",
    "    else:\n",
    "        print(\"x and y must be equal\")\n"
   ]
  },
  {
   "cell_type": "markdown",
   "metadata": {},
   "source": [
    "<div align=\"left\">\n",
    "<a href=\"#q0012\" class=\"btn btn-default\" data-toggle=\"collapse\">Note</a>\n",
    "\n",
    "</div>\n",
    "\n",
    "<div id=\"q0012\" class=\"collapse\">\n",
    "\n",
    "In some programming languages matching the `if` and the `else` can be difficult. However in Python this is not the case. The indentation pattern tells us exactly which `else` belongs to which `if`.\n",
    "\n",
    "</div>"
   ]
  },
  {
   "cell_type": "markdown",
   "metadata": {},
   "source": [
    "**Have a go:**"
   ]
  },
  {
   "cell_type": "markdown",
   "metadata": {},
   "source": [
    "1. Will the following code cause an error?\n",
    "\n",
    "```\n",
    "x = -10\n",
    "if x < 0:\n",
    "    print(x, \" is a negative number.\")\n",
    "else:\n",
    "    if x > 0:\n",
    "        print(x, \" is a positive number\")\n",
    "    else:\n",
    "        print(x,\" is 0\")\n",
    "\n",
    "```"
   ]
  },
  {
   "cell_type": "markdown",
   "metadata": {},
   "source": [
    "* A. No\n",
    "* B. Yes"
   ]
  },
  {
   "cell_type": "markdown",
   "metadata": {},
   "source": [
    "<div align=\"right\">\n",
    "<a href=\"#q0014\" class=\"btn btn-default\" data-toggle=\"collapse\">Click here for the answer</a>\n",
    "\n",
    "</div>\n",
    "\n",
    "<div id=\"q0014\" class=\"collapse\">\n",
    "\n",
    "\n",
    "A. No. This is a legal nested `if`-`else` statement. The inner `if`-`else` statement is contained completely within the body of the outer `else`-block.\n",
    "\n",
    "\n",
    "</div>"
   ]
  },
  {
   "cell_type": "markdown",
   "metadata": {},
   "source": [
    "<a id=\"ref9\"></a>\n",
    "<h2>Chained Conditionals</h2>\n",
    "\n",
    "<div align=\"right\"><a href=\"#ref00\">back to top</a></div>"
   ]
  },
  {
   "cell_type": "markdown",
   "metadata": {},
   "source": [
    "Python provides an alternative way to write nested selection such as the one shown in the previous section. This is sometimes referred to as a **chained conditional**."
   ]
  },
  {
   "cell_type": "markdown",
   "metadata": {},
   "source": [
    "```\n",
    "if x < y:\n",
    "    print(\"x is less than y\")\n",
    "elif x > y:\n",
    "    print(\"x is greater than y\")\n",
    "else:\n",
    "    print(\"x and y must be equal\")\n",
    "\n",
    "```"
   ]
  },
  {
   "cell_type": "markdown",
   "metadata": {},
   "source": [
    "The flow of control can be drawn in a different orientation but the resulting pattern is identical to the one shown above."
   ]
  },
  {
   "cell_type": "markdown",
   "metadata": {},
   "source": [
    "<a><img src=\"figures/flowchart_chained_conditional_one.png\" width=\"260\" height=\"180\" border=\"10\" /></a>\n",
    "\n",
    "<div align=\"center\">\n",
    "    \n",
    "<center><b>Figure 4:</b> Flow for an <b>if-elif-else</b> statement.</center>\n",
    "\n",
    "</div>  \n",
    " \n"
   ]
  },
  {
   "cell_type": "markdown",
   "metadata": {},
   "source": [
    "`elif` is a portmanteau of `else if`. Again, exactly one branch will be executed. There is no limit to the number of `elif` statements but only a single (and optional) final `else` statement is allowed and it must be the last branch in the statement."
   ]
  },
  {
   "cell_type": "markdown",
   "metadata": {},
   "source": [
    "<a><img src=\"figures/conditionals_overview.png\" width=\"320\" height=\"180\" border=\"10\" /></a>"
   ]
  },
  {
   "cell_type": "markdown",
   "metadata": {},
   "source": [
    "<div align=\"center\">\n",
    "    \n",
    "<center><b>Figure 5:</b> Overview of flow for conditional statements.</center>\n",
    "\n",
    "</div> "
   ]
  },
  {
   "cell_type": "markdown",
   "metadata": {},
   "source": [
    "Each condition is checked in order. If the first is false, the next is checked, and so on. If one of them is true, the corresponding branch executes, and the statement ends. Even if more than one condition is true, **only** the first true branch executes.\n",
    "\n",
    "Here is the same program from earlier using `elif`."
   ]
  },
  {
   "cell_type": "code",
   "execution_count": null,
   "metadata": {},
   "outputs": [],
   "source": [
    "x = 3\n",
    "y = 3\n",
    "\n",
    "if x < y:\n",
    "    print(\"x is less than y\")\n",
    "elif x > y:\n",
    "    print(\"x is greater than y\")\n",
    "else:\n",
    "    print(\"x and y must be equal\")\n"
   ]
  },
  {
   "cell_type": "markdown",
   "metadata": {},
   "source": [
    "The following image highlights the general kinds of valid conditionals that can be used. Though there are other versions of conditionals that Python can understand (imagine an `if` statement with twenty `elif` statements), those other versions must follow the same order as seen below."
   ]
  },
  {
   "cell_type": "markdown",
   "metadata": {},
   "source": [
    "<a><img src=\"figures/valid_conditionals.png\" width=\"420\" height=\"180\" border=\"10\" /></a>\n",
    "\n",
    "<div align=\"center\">\n",
    "\n",
    "</div>  \n"
   ]
  },
  {
   "cell_type": "markdown",
   "metadata": {},
   "source": [
    "<div align=\"center\">\n",
    "    \n",
    "<center><b>Figure 6:</b> Overview of valid conditional patterns.</center>\n",
    "\n",
    "</div> "
   ]
  },
  {
   "cell_type": "markdown",
   "metadata": {},
   "source": [
    "**Have a go:**"
   ]
  },
  {
   "cell_type": "markdown",
   "metadata": {},
   "source": [
    "1. Which of I, II, and III below gives the same result as the following nested `if`?"
   ]
  },
  {
   "cell_type": "code",
   "execution_count": null,
   "metadata": {},
   "outputs": [],
   "source": [
    "\n",
    "# nested if-else statement\n",
    "x = -10\n",
    "if x < 0:\n",
    "    print(x, \" is a negative number\")\n",
    "else:\n",
    "    if x > 0:\n",
    "        print(x, \" is a positive number\")\n",
    "    else:\n",
    "        print(x, \" is 0\")\n"
   ]
  },
  {
   "cell_type": "markdown",
   "metadata": {},
   "source": [
    "```\n",
    "I.\n",
    "\n",
    "if x < 0:\n",
    "    print(x, \" is negative number\")\n",
    "else (x > 0):\n",
    "    print(x, \" is a positive number\")\n",
    "else:\n",
    "    print(x, \" is 0\")\n",
    "    \n",
    "II.\n",
    "\n",
    "if x < 0:\n",
    "    print(x, \" is a negative number\")\n",
    "elif (x > 0):\n",
    "    print(x, \" is a positive number\")\n",
    "else:\n",
    "    print(x, \" is 0\")\n",
    "    \n",
    "III.\n",
    "\n",
    "if x < 0:\n",
    "    print(x, \" is a negative number\")\n",
    "if (x > 0):\n",
    "    print(x, \" is a positive number\")\n",
    "else:\n",
    "    print(x, \" is 0\")   \n",
    "\n",
    "``` "
   ]
  },
  {
   "cell_type": "markdown",
   "metadata": {},
   "source": [
    "* A. I only\n",
    "* B. II only\n",
    "* C. III only\n",
    "* D. II and III\n",
    "* E. I,II and III"
   ]
  },
  {
   "cell_type": "markdown",
   "metadata": {},
   "source": [
    "<div align=\"right\">\n",
    "<a href=\"#q0015\" class=\"btn btn-default\" data-toggle=\"collapse\">Click here for the answer</a>\n",
    "\n",
    "</div>\n",
    "\n",
    "<div id=\"q0015\" class=\"collapse\">\n",
    "\n",
    "B. II only. (Yes, II will give the same result.)\n",
    "\n",
    "\n",
    "</div>"
   ]
  },
  {
   "cell_type": "markdown",
   "metadata": {},
   "source": [
    "2. What will the following code print if `x = 3`, `y = 5`, and `z = 2`?"
   ]
  },
  {
   "cell_type": "markdown",
   "metadata": {},
   "source": [
    "```\n",
    "if x < y and x < z:\n",
    "    print(\"a\")\n",
    "elif y < x and y < z:\n",
    "    print(\"b\")\n",
    "else:\n",
    "    print(\"c\")\n",
    "\n",
    "```"
   ]
  },
  {
   "cell_type": "markdown",
   "metadata": {},
   "source": [
    "* A. a\n",
    "* B. b\n",
    "* C. c"
   ]
  },
  {
   "cell_type": "markdown",
   "metadata": {},
   "source": [
    "<div align=\"right\">\n",
    "<a href=\"#q0016\" class=\"btn btn-default\" data-toggle=\"collapse\">Click here for the answer</a>\n",
    "\n",
    "</div>\n",
    "\n",
    "<div id=\"q0016\" class=\"collapse\">\n",
    "\n",
    "C. c. (Since the first two Boolean expressions are false the `else` will be executed.)\n",
    "\n",
    "\n",
    "</div>"
   ]
  },
  {
   "cell_type": "markdown",
   "metadata": {},
   "source": [
    "3. Create one conditional to find whether “false” is in string `str1`. If so, assign variable `output` the string “False. You aren’t you?”. Check to see if “true” is in string `str1` and if it is then assign “True! You are you!” to the variable `output`. If neither are in `str1`, assign “Neither true nor false!” to `output`."
   ]
  },
  {
   "cell_type": "code",
   "execution_count": null,
   "metadata": {},
   "outputs": [],
   "source": [
    "str1 = \"Today you are you! That is truer than true! There is no one alive who is you-er than you!\"\n",
    "\n",
    "# write your code below\n",
    "\n",
    "\n"
   ]
  },
  {
   "cell_type": "markdown",
   "metadata": {},
   "source": [
    "<div align=\"right\">\n",
    "<a href=\"#q0017\" class=\"btn btn-default\" data-toggle=\"collapse\">Click here for the answer</a>\n",
    "\n",
    "</div>\n",
    "\n",
    "<div id=\"q0017\" class=\"collapse\">\n",
    "\n",
    "```\n",
    "if \"false\" in str1:\n",
    "    output = \"False. You aren't you?\"\n",
    "elif \"true\" in str1:\n",
    "    output = \"True! You are you!\"\n",
    "else:\n",
    "    output = \"Neither true nor false!\"\n",
    "    \n",
    "print(output)\n",
    "\n",
    "```\n",
    "</div>"
   ]
  },
  {
   "cell_type": "markdown",
   "metadata": {},
   "source": [
    "4. Create an empty list called `resps`. Using the list `percent_rain`, for each percent, if it is above 90, add the string ‘Bring an umbrella.’ to `resps`, otherwise if it is above 80, add the string ‘Good for the flowers?’ to `resps`, otherwise if it is above 50, add the string ‘Watch out for clouds!’ to `resps`, otherwise, add the string ‘Nice day!’ to `resps`. \n"
   ]
  },
  {
   "cell_type": "code",
   "execution_count": 8,
   "metadata": {},
   "outputs": [],
   "source": [
    "percent_rain = [94.3, 45, 100, 78, 16, 5.3, 79, 86]\n",
    "# write your code below\n",
    "\n",
    "\n",
    "\n",
    "\n",
    "# the solution provided below uses iteration (a for loop to be precise)\n",
    "# which we have not covered yet but you may find it worth looking \n",
    "# at the structure in any event\n"
   ]
  },
  {
   "cell_type": "markdown",
   "metadata": {},
   "source": [
    "<div align=\"right\">\n",
    "<a href=\"#q0018\" class=\"btn btn-default\" data-toggle=\"collapse\">Click here for the answer</a>\n",
    "\n",
    "</div>\n",
    "\n",
    "<div id=\"q0018\" class=\"collapse\">\n",
    "\n",
    "```\n",
    "resps = []\n",
    "for percent in percent_rain:\n",
    "    if percent > 90:\n",
    "        resps.append('Bring an umbrella')\n",
    "    elif percent > 80:\n",
    "        resps.append('Good for the flowers?')\n",
    "    elif percent > 50:\n",
    "        resps.append('Watch out for clouds!')\n",
    "    else:\n",
    "        resps.append('Nice day!')\n",
    "print(resps)\n",
    "\n",
    "```\n",
    "</div>"
   ]
  },
  {
   "cell_type": "markdown",
   "metadata": {},
   "source": [
    "5. We have created conditionals for you to use. Do not change the provided conditional statements. Find an integer value for `x` that will cause `output` to hold the values `True` and `None`. (Drawing diagrams or flow charts for yourself may help!)"
   ]
  },
  {
   "cell_type": "code",
   "execution_count": null,
   "metadata": {},
   "outputs": [],
   "source": [
    "x = \n",
    "output = []\n",
    "\n",
    "if x > 63:\n",
    "    output.append(True)\n",
    "elif x > 55:\n",
    "    output.append(False)\n",
    "else:\n",
    "    output.append(\"Neither\")\n",
    "\n",
    "if x > 67:\n",
    "    output.append(True)\n",
    "else:\n",
    "    output.append(None)\n",
    "    \n",
    "print(output)"
   ]
  },
  {
   "cell_type": "markdown",
   "metadata": {},
   "source": [
    "<div align=\"right\">\n",
    "<a href=\"#q0019\" class=\"btn btn-default\" data-toggle=\"collapse\">Click here for the answer</a>\n",
    "\n",
    "</div>\n",
    "\n",
    "<div id=\"q0019\" class=\"collapse\">\n",
    "\n",
    "```\n",
    "x = any of 64,65,66,67\n",
    "\n",
    "```\n",
    "</div>"
   ]
  },
  {
   "cell_type": "markdown",
   "metadata": {},
   "source": [
    "<a id=\"ref10\"></a>\n",
    "<h2>The Accumulator Pattern with Conditionals</h2>\n",
    "\n",
    "<div align=\"right\"><a href=\"#ref00\">back to top</a></div>"
   ]
  },
  {
   "cell_type": "markdown",
   "metadata": {},
   "source": [
    "Sometimes when we’re accumulating, we don’t want to add to our accumulator every time we iterate. Consider, for example, the following program which counts the number of letters in a phrase.\n"
   ]
  },
  {
   "cell_type": "code",
   "execution_count": 13,
   "metadata": {},
   "outputs": [
    {
     "name": "stdout",
     "output_type": "stream",
     "text": [
      "28\n"
     ]
    }
   ],
   "source": [
    "phrase = \"What a wonderful day to write code\"\n",
    "tot = 0\n",
    "for char in phrase:\n",
    "    if char != \" \":\n",
    "        tot = tot + 1\n",
    "print(tot)"
   ]
  },
  {
   "cell_type": "markdown",
   "metadata": {},
   "source": [
    "Here, we **initialise** the accumulator variable to be zero on line two.\n",
    "\n",
    "We **iterate** through the sequence (line 3).\n",
    "\n",
    "The **update** step happens in two parts. First, we check to see if the value of `char` is not a space. If it is not a space, then we update the value of our accumulator variable `tot` (on line 5) by adding one to it. If that conditional proves to be False, which means that char *is* a space, then we don’t update `tot` and continue the `for` loop. We can write `tot = tot + 1` or `tot += 1`, either is fine.\n",
    "\n",
    "At the end, we have accumulated the total number of letters in the phrase. Without using the conditional, we would have only been able to count how many characters there are in the string and not been able to differentiate between spaces and non-spaces.\n",
    "\n",
    "We can use conditionals to count if particular items are in a string or list. The following code finds all occurrences of vowels in the string `s`.\n",
    "\n"
   ]
  },
  {
   "cell_type": "code",
   "execution_count": null,
   "metadata": {},
   "outputs": [],
   "source": [
    "s = \"what if we went to the zoo\"\n",
    "x = 0\n",
    "for i in s:\n",
    "    if i in ['a', 'e', 'i', 'o', 'u']:\n",
    "        x += 1\n",
    "print(x)"
   ]
  },
  {
   "cell_type": "markdown",
   "metadata": {},
   "source": [
    "We can also use `==` to execute a similar operation. Here, we’ll check to see if the character we are iterating over is an “o”. If it is an “o” then we will update our counter."
   ]
  },
  {
   "cell_type": "markdown",
   "metadata": {},
   "source": [
    "<a><img src=\"figures/accum_o.gif\" width=\"380\" height=\"180\" border=\"10\" /></a>\n",
    "\n",
    "<div align=\"center\">\n",
    "\n",
    "</div>   "
   ]
  },
  {
   "cell_type": "markdown",
   "metadata": {},
   "source": [
    "<div align=\"center\">\n",
    "    \n",
    "<center><b>Figure 7:</b> Accumulator pattern with conditionals.</center>\n",
    "\n",
    "</div> "
   ]
  },
  {
   "cell_type": "markdown",
   "metadata": {},
   "source": [
    "### Accumulating the Max Value"
   ]
  },
  {
   "cell_type": "markdown",
   "metadata": {},
   "source": [
    "We can also use the accumulation pattern with conditionals to find the maximum or minimum value. Instead of continuing to build up the accumulator value like we have when counting or finding a sum, we can reassign the accumulator variable to a different value.\n",
    "\n",
    "The following example shows how we can get the maximum value from a list of integers."
   ]
  },
  {
   "cell_type": "code",
   "execution_count": null,
   "metadata": {},
   "outputs": [],
   "source": [
    "nums = [9, 3, 8, 11, 5, 29, 2]\n",
    "best_num = 0\n",
    "for n in nums:\n",
    "    if n > best_num:\n",
    "        best_num = n\n",
    "print(best_num)"
   ]
  },
  {
   "cell_type": "markdown",
   "metadata": {},
   "source": [
    "Here, we initialise `best_num` to zero (which is fine provided we don't have a list of exclusively negative numbers).\n",
    "\n",
    "In the `for` loop, we check to see if the current value of `n` is greater than the current value of `best_num`. If it is, we **update** `best_num` so that it is now assigned the higher number. Otherwise, we do nothing and continue the `for` loop.\n",
    "\n",
    "You may notice that the current structure could be a problem. If the numbers were all negative what would happen to our code? Or, what if we were looking for the smallest number but we initialised `best_num` to zero? \n",
    "\n",
    "To get around this issue, we can initialise the accumulator variable using one of the numbers in the list.\n",
    "\n"
   ]
  },
  {
   "cell_type": "code",
   "execution_count": null,
   "metadata": {},
   "outputs": [],
   "source": [
    "nums = [9, 3, 8, 11, 5, 29, 2]\n",
    "best_num = nums[0]\n",
    "for n in nums:\n",
    "    if n > best_num:\n",
    "        best_num = n\n",
    "print(best_num)\n"
   ]
  },
  {
   "cell_type": "markdown",
   "metadata": {},
   "source": [
    "The only thing we changed was the value of `best_num` on line 2 so that the value of `best_num` is the first element in `nums`, but the result is still the same!"
   ]
  },
  {
   "cell_type": "markdown",
   "metadata": {},
   "source": [
    "**Have a go:**"
   ]
  },
  {
   "cell_type": "markdown",
   "metadata": {},
   "source": [
    "1. What is printed by the following statements?\n",
    "\n",
    "```\n",
    "\n",
    "s = \"We are learning!\"\n",
    "x = 0\n",
    "for i in s:\n",
    "    if i in ['a', 'b', 'c', 'd', 'e']:\n",
    "        x += 1\n",
    "print(x)\n",
    "\n",
    "\n",
    "```\n",
    "\n",
    "* A. 2\n",
    "* B. 5\n",
    "* C. 0\n",
    "* D. There is an error in the code so it cannot run."
   ]
  },
  {
   "cell_type": "markdown",
   "metadata": {},
   "source": [
    "<div align=\"right\">\n",
    "<a href=\"#q0020\" class=\"btn btn-default\" data-toggle=\"collapse\">Click here for the answer</a>\n",
    "\n",
    "</div>\n",
    "\n",
    "<div id=\"q0020\" class=\"collapse\">\n",
    "\n",
    "```\n",
    "B. 5. Yes, we add to x each time we come across a letter in the list.\n",
    "\n",
    "```\n",
    "</div>"
   ]
  },
  {
   "cell_type": "markdown",
   "metadata": {},
   "source": [
    "2. What is printed by the following statements?\n",
    "\n",
    "```\n",
    "\n",
    "list= [5, 2, 1, 4, 9, 10]\n",
    "min_value = 0\n",
    "for item in list:\n",
    "   if item < min_value:\n",
    "       min_value = item\n",
    "print(min_value)\n",
    "\n",
    "\n",
    "```\n",
    "\n",
    "* A. 10\n",
    "* B. 1\n",
    "* C. 0\n",
    "* D. There is an error in the code so it cannot run."
   ]
  },
  {
   "cell_type": "markdown",
   "metadata": {},
   "source": [
    "<div align=\"right\">\n",
    "<a href=\"#q0021\" class=\"btn btn-default\" data-toggle=\"collapse\">Click here for the answer</a>\n",
    "\n",
    "</div>\n",
    "\n",
    "<div id=\"q0021\" class=\"collapse\">\n",
    "\n",
    "```\n",
    "C. 0. Yes, min_value was set to a number that was smaller than any of the numbers in the list, so it was never updated in the for loop.\n",
    "\n",
    "```\n",
    "</div>"
   ]
  },
  {
   "cell_type": "markdown",
   "metadata": {},
   "source": [
    "3. For each string in the list `words`, find the number of characters in the string. If the number of characters in the string is greater than 3, add 1 to the variable `num_words` so that `num_words` should end up with the total number of words with more than 3 characters."
   ]
  },
  {
   "cell_type": "code",
   "execution_count": 15,
   "metadata": {},
   "outputs": [],
   "source": [
    "words = [\"water\", \"chair\", \"pen\", \"basket\", \"hi\", \"car\"]\n",
    "\n",
    "# write your code below\n",
    "\n",
    "\n",
    "\n"
   ]
  },
  {
   "cell_type": "markdown",
   "metadata": {},
   "source": [
    "<div align=\"right\">\n",
    "<a href=\"#q0022\" class=\"btn btn-default\" data-toggle=\"collapse\">Click here for the answer</a>\n",
    "\n",
    "</div>\n",
    "\n",
    "<div id=\"q0022\" class=\"collapse\">\n",
    "\n",
    "```\n",
    "num_words = 0\n",
    "\n",
    "for word in words:\n",
    "    if len(word) > 3:\n",
    "        num_words += 1\n",
    "print(num_words)\n",
    "\n",
    "```\n",
    "</div>"
   ]
  },
  {
   "cell_type": "markdown",
   "metadata": {},
   "source": [
    "4. For each word in `words`, add ‘d’ to the end of the word if the word ends in “e” to make it past tense. Otherwise, add ‘ed’ to make it past tense. Save these past tense words to a list called `past_tense`."
   ]
  },
  {
   "cell_type": "code",
   "execution_count": 20,
   "metadata": {},
   "outputs": [],
   "source": [
    "words = [\"adopt\", \"bake\", \"beam\", \"confide\", \"grill\", \"plant\", \"time\", \"wave\", \"wish\"]\n",
    "\n",
    "# write your code here\n",
    "\n",
    "\n"
   ]
  },
  {
   "cell_type": "markdown",
   "metadata": {},
   "source": [
    "<div align=\"right\">\n",
    "<a href=\"#q0023\" class=\"btn btn-default\" data-toggle=\"collapse\">Click here for the answer</a>\n",
    "\n",
    "</div>\n",
    "\n",
    "<div id=\"q0023\" class=\"collapse\">\n",
    "\n",
    "```\n",
    "past_tense = []\n",
    "\n",
    "for word in words:\n",
    "    if word[-1] == \"e\":\n",
    "        word = word +\"d\"\n",
    "    else:\n",
    "        word = word + \"ed\"\n",
    "    past_tense.append(word)\n",
    "\n",
    "print(past_tense)\n",
    "\n",
    "\n",
    "```\n",
    "</div>"
   ]
  },
  {
   "cell_type": "markdown",
   "metadata": {},
   "source": [
    "<a id=\"ref11\"></a>\n",
    "<h2>Setting Up Conditionals</h2>\n",
    "\n",
    "<div align=\"right\"><a href=\"#ref00\">back to top</a></div>"
   ]
  },
  {
   "cell_type": "markdown",
   "metadata": {},
   "source": [
    "Before writing conditionals, it can be helpful to make a flowchart that will plot out the flow of each condition. By writing out the flow, you can better determine how complex the set of conditionals will be as well as check to see if any condition is not taken care of before you begin writing it out.\n",
    "\n",
    "To make sure that your code covers all of the conditions that you intend for it to cover, you should add comments for each clause that explains what that clause is meant to do. Then, you should add tests for each possible path that the program could take. What leads to certain conditional statements being executed? Is that what you intended?"
   ]
  },
  {
   "cell_type": "markdown",
   "metadata": {},
   "source": [
    "### Choosing your type of Conditional"
   ]
  },
  {
   "cell_type": "markdown",
   "metadata": {},
   "source": [
    "When adding conditionals to your program, you should also consider the kinds of conditionals that are at your disposal and what would fit best."
   ]
  },
  {
   "cell_type": "markdown",
   "metadata": {},
   "source": [
    "<a><img src=\"figures/valid_conditionals_1.png\" width=\"320\" height=\"180\" border=\"10\" /></a>\n",
    "\n",
    "<div align=\"center\">\n",
    "\n",
    "</div>  \n",
    "\n"
   ]
  },
  {
   "cell_type": "markdown",
   "metadata": {},
   "source": [
    "<div align=\"center\">\n",
    "    \n",
    "<center><b>Figure 8:</b> Overview of valid conditional patterns.</center>\n",
    "\n",
    "</div> "
   ]
  },
  {
   "cell_type": "markdown",
   "metadata": {},
   "source": [
    "Though you’ll use them often, remember that conditional statements don’t always need an `else` clause. When deciding the flow, ask yourself what you want to have happen under a certain condition. For example, if you wanted to find all of the words that have the letter ‘n’ in them. If there’s nothing that needs to happen when a word does not contain the letter ‘n’ then you won’t need an `else` clause. The program should just continue onward!"
   ]
  },
  {
   "cell_type": "markdown",
   "metadata": {},
   "source": [
    "**Have a go:**"
   ]
  },
  {
   "cell_type": "markdown",
   "metadata": {},
   "source": [
    "1. What is the best set of conditonal statements in A-D, based on the following prompt? You want to keep track of all the words that have the letter ‘t’ and in a separate variable you want to keep track of all the words that have the letter ‘z’ in them."
   ]
  },
  {
   "cell_type": "markdown",
   "metadata": {},
   "source": [
    "* A. `if` statement - `else` statement\n",
    "* B. `if` statement - `elif` statement\n",
    "* C. `if` statement - `if` statement\n",
    "* D. `if` statement - `elif` statement - `else` statement"
   ]
  },
  {
   "cell_type": "markdown",
   "metadata": {},
   "source": [
    "<div align=\"right\">\n",
    "<a href=\"#q0024\" class=\"btn btn-default\" data-toggle=\"collapse\">Click here for the answer</a>\n",
    "\n",
    "</div>\n",
    "\n",
    "<div id=\"q0024\" class=\"collapse\">\n",
    "\n",
    "```\n",
    "C. (Yes, two if statements will keep track of - and properly update \n",
    "    - the two different accumulator variables.)\n",
    "```\n",
    "</div>"
   ]
  },
  {
   "cell_type": "markdown",
   "metadata": {},
   "source": [
    "2. Select the most appropriate set of conditonal statements for the situation described: You want to keep track of all the words that contain both “t” and “z”."
   ]
  },
  {
   "cell_type": "markdown",
   "metadata": {},
   "source": [
    "* A. `if` statement - `elif` statement - `else` statement\n",
    "* B. `if` statement - `else` statement\n",
    "* C. `if` statement - Nested `if` statement\n",
    "* D. `if` statement\n",
    "* E. `if` statement - Nested `if` statement - `else` statement\n"
   ]
  },
  {
   "cell_type": "markdown",
   "metadata": {},
   "source": [
    "<div align=\"right\">\n",
    "<a href=\"#q0026\" class=\"btn btn-default\" data-toggle=\"collapse\">Click here for the answer</a>\n",
    "\n",
    "</div>\n",
    "\n",
    "<div id=\"q0026\" class=\"collapse\">\n",
    "\n",
    "```\n",
    "D. (Yes, this is the most concise way of writing a conditional for that prompt.)\n",
    "```\n",
    "</div>"
   ]
  },
  {
   "cell_type": "markdown",
   "metadata": {},
   "source": [
    "<a id=\"ref12\"></a>\n",
    "<h2>Glossary</h2>\n",
    "\n",
    "<div align=\"right\"><a href=\"#ref00\">back to top</a></div>"
   ]
  },
  {
   "cell_type": "markdown",
   "metadata": {},
   "source": [
    "**accumulating:**\n",
    "One common programming “pattern” is to traverse a sequence, accumulating a value as we go, such as the sum-so-far or the maximum-so-far. That way, at the end of the traversal we have accumulated a single value, such as the sum total of all the items or the largest item. The anatomy of the accumulation pattern includes:\n",
    "* initialising an “accumulator” variable to an initial value (such as 0 if accumulating a sum)\n",
    "* iterating (e.g., traversing the items in a sequence)\n",
    "* updating the accumulator variable on each iteration (i.e., when processing each item in the sequence)\n",
    "\n",
    "**block:**\n",
    "A group of consecutive statements with the same indentation.\n",
    "\n",
    "**body:**\n",
    "The block of statements in a compound statement that follows the header.\n",
    "\n",
    "**branch**\n",
    "One of the possible paths for the flow of execution determined by conditional execution.\n",
    "\n",
    "**chained conditional**\n",
    "A conditional branch with more than two possible flows of execution. In Python chained conditionals are written with `if` ... `elif` ... `else` statements.\n",
    "\n",
    "**comparison operator**\n",
    "One of the operators that compares two values: ==, !=, >, <, >=, and <=.\n",
    "\n",
    "**condition**\n",
    "The boolean expression in a conditional statement that determines which branch is executed.\n",
    "\n",
    "**conditional statement**\n",
    "A statement that controls the flow of execution depending on some condition. In Python the keywords `if`, `elif`, and `else` are used for conditional statements.\n",
    "\n",
    "**nesting**\n",
    "One program structure within another, such as a conditional statement inside a branch of another conditional statement."
   ]
  },
  {
   "cell_type": "markdown",
   "metadata": {},
   "source": [
    "<a id=\"ref13\"></a>\n",
    "<h2>Exercises</h2>\n",
    "\n",
    "<div align=\"right\"><a href=\"#ref00\">back to top</a></div>"
   ]
  },
  {
   "cell_type": "markdown",
   "metadata": {},
   "source": [
    "1. Write code that asks the user to enter a numeric score (0-100). In response, it should print out the score and corresponding letter grade, according to the table below."
   ]
  },
  {
   "cell_type": "markdown",
   "metadata": {},
   "source": [
    "<a><img src=\"figures/grade_table.png\" width=\"320\" height=\"180\" border=\"10\" /></a>\n",
    "\n",
    "<div align=\"center\">\n",
    "\n",
    "</div>  "
   ]
  },
  {
   "cell_type": "markdown",
   "metadata": {},
   "source": [
    "The square `[` and round `)` brackets denote closed and open intervals respectively. A closed interval includes the number, and open interval excludes it. So 79.999 gets grade C , but 80 gets grade B."
   ]
  },
  {
   "cell_type": "code",
   "execution_count": null,
   "metadata": {},
   "outputs": [],
   "source": [
    "# write your code here\n",
    "\n"
   ]
  },
  {
   "cell_type": "markdown",
   "metadata": {},
   "source": [
    "<div align=\"right\">\n",
    "<a href=\"#q0027\" class=\"btn btn-default\" data-toggle=\"collapse\">Click here for the answer</a>\n",
    "\n",
    "</div>\n",
    "\n",
    "<div id=\"q0027\" class=\"collapse\">\n",
    "\n",
    "```\n",
    "sc = input(\"Enter a score from 0 to 100 (decimal points are allowed)\")\n",
    "fl_sc = float(sc)\n",
    "\n",
    "if fl_sc < 60:\n",
    "    gr = \"F\"\n",
    "elif fl_sc <70:\n",
    "    gr = \"D\"\n",
    "elif fl_sc < 80:\n",
    "    gr = \"C\"\n",
    "elif fl_sc < 90:\n",
    "    gr = \"B\"\n",
    "else:\n",
    "    gr = \"A\"\n",
    "\n",
    "print(\"A score of\", fl_sc, \"gets awarded a grade\", gr)\n",
    "\n",
    "```\n",
    "</div>"
   ]
  },
  {
   "cell_type": "markdown",
   "metadata": {},
   "source": [
    "2. What do these expressions evaluate to?"
   ]
  },
  {
   "cell_type": "markdown",
   "metadata": {},
   "source": [
    "* 1. `3 == 3`\n",
    "* 2. `3 != 3`\n",
    "* 3. `3 >= 4`\n",
    "* 4. `not (3 < 4)`"
   ]
  },
  {
   "cell_type": "markdown",
   "metadata": {},
   "source": [
    "<div align=\"right\">\n",
    "<a href=\"#q0029\" class=\"btn btn-default\" data-toggle=\"collapse\">Click here for the answer</a>\n",
    "\n",
    "</div>\n",
    "\n",
    "<div id=\"q0029\" class=\"collapse\">\n",
    "\n",
    "```\n",
    "1. True\n",
    "2. False\n",
    "3. False\n",
    "4. False\n",
    "\n",
    "```\n",
    "</div>"
   ]
  },
  {
   "cell_type": "markdown",
   "metadata": {},
   "source": [
    "3. Give the **logical opposites** of these conditions, meaning an expression that would produce False whenever this expression produces True, and vice versa. You are not allowed to use the `not` operator."
   ]
  },
  {
   "cell_type": "markdown",
   "metadata": {},
   "source": [
    "* 1. `a > b`\n",
    "* 2. `a >= b`\n",
    "* 3. `a >= 18 and day == 3`\n",
    "* 4. `a >= 18 or day != 3`"
   ]
  },
  {
   "cell_type": "markdown",
   "metadata": {},
   "source": [
    "<div align=\"right\">\n",
    "<a href=\"#q0030\" class=\"btn btn-default\" data-toggle=\"collapse\">Click here for the answer</a>\n",
    "\n",
    "</div>\n",
    "\n",
    "<div id=\"q0030\" class=\"collapse\">\n",
    "\n",
    "```\n",
    "1. (a > b) becomes (a <= b)\n",
    "2. (a >= b) becomes (a < b)\n",
    "3. (a >= 18 and day == 3) becomes (a < 18 or day != 3) \n",
    "4. (a >= 18 or day != 3) becomes (a < 18 and day == 3)\n",
    "\n",
    "```\n",
    "</div>"
   ]
  },
  {
   "cell_type": "markdown",
   "metadata": {},
   "source": [
    "4. Provided is a list of numbers. For each of the numbers in the list, determine whether they are even or odd. If the number is odd, add `True` to a new list called `is_odd`. If the number is even, then add `False`."
   ]
  },
  {
   "cell_type": "code",
   "execution_count": 23,
   "metadata": {},
   "outputs": [],
   "source": [
    "number_list = [5,7,8,10,4,9,3,13,68]\n",
    "# write your code below\n",
    "\n",
    "\n",
    "\n"
   ]
  },
  {
   "cell_type": "markdown",
   "metadata": {},
   "source": [
    "<div align=\"right\">\n",
    "<a href=\"#q0033\" class=\"btn btn-default\" data-toggle=\"collapse\">Click here for the answer</a>\n",
    "\n",
    "</div>\n",
    "\n",
    "<div id=\"q0033\" class=\"collapse\">\n",
    "\n",
    "```\n",
    "Answer to this one not provided.\n",
    "\n",
    "```\n",
    "</div>"
   ]
  },
  {
   "cell_type": "markdown",
   "metadata": {},
   "source": [
    "5. Given the lengths of three sides of a triange, determine whether or not the triangle is right-angled. If it is, assign `True` to the variable `is_rightangled`. If it is not, assign `False` to the variable `is_rightangled`. The image below depicts the mathematical relationship which exists between **a**,**b** and **c** when a trangle is right-angled."
   ]
  },
  {
   "cell_type": "markdown",
   "metadata": {},
   "source": [
    "<a><img src=\"figures/pythagoras_formulae.png\" width=\"200\" height=\"150\" border=\"10\" /></a>\n",
    "\n",
    "<div align=\"center\">\n",
    "\n",
    "</div>  "
   ]
  },
  {
   "cell_type": "markdown",
   "metadata": {},
   "source": [
    "**Hint**: floating point arithmetic is not always exactly accurate, so it is not safe to test floating point numbers for equality. If a programmer wants to know whether `x` is equal or close enough to `y`, they would probably code it up as"
   ]
  },
  {
   "cell_type": "markdown",
   "metadata": {},
   "source": [
    "```\n",
    "if  abs(x - y) < 0.0001:      # if x is approximately equal to y\n",
    "    ...\n",
    "\n",
    "```"
   ]
  },
  {
   "cell_type": "code",
   "execution_count": 28,
   "metadata": {},
   "outputs": [],
   "source": [
    "a = 3; b = 4; c = 5  # c should always be used for the longest side\n",
    "\n",
    "# write your code below\n",
    "\n",
    "\n",
    "\n"
   ]
  },
  {
   "cell_type": "markdown",
   "metadata": {},
   "source": [
    "<div align=\"right\">\n",
    "<a href=\"#q0034\" class=\"btn btn-default\" data-toggle=\"collapse\">Click here for the answer</a>\n",
    "\n",
    "</div>\n",
    "\n",
    "<div id=\"q0034\" class=\"collapse\">\n",
    "\n",
    "```\n",
    "\n",
    "if abs(a**2 + b**2 - c**2) < 0.0001:\n",
    "    print(\"This triangle is right-angled\")\n",
    "else:\n",
    "    print(\"This triangle is not right-angled\")\n",
    "\n",
    "\n",
    "\n",
    "```\n",
    "</div>"
   ]
  },
  {
   "cell_type": "markdown",
   "metadata": {},
   "source": [
    "6. Implement the calculator for the date of Easter. The following algorithm computes the date for Easter Sunday for any year between 1900 to 2099. \n",
    "\n",
    "Ask the user to enter a year. Compute the following:\n",
    "\n",
    "```\n",
    "a = year % 19\n",
    "b = year % 4\n",
    "c = year % 7\n",
    "d = (19 * a + 24) % 30\n",
    "e = (2 * b + 4 * c + 6 * d + 5) % 7\n",
    "dateofeaster = 22 + d + e\n",
    "\n",
    "```\n",
    "\n",
    "**Special note:** The algorithm can give a date in April. You will know that the date is in April if the calculation gives you an answer greater than 31. (You’ll need to adjust) Also, if the year is one of four special years (1954, 1981, 2049, or 2076) then subtract 7 from the date.\n",
    "\n",
    "Your program should print an error message if the user provides a date that is out of range.\n",
    "\n"
   ]
  },
  {
   "cell_type": "code",
   "execution_count": 30,
   "metadata": {},
   "outputs": [],
   "source": [
    "# write your code below\n",
    "\n",
    "\n",
    "\n"
   ]
  },
  {
   "cell_type": "markdown",
   "metadata": {},
   "source": [
    "<div align=\"right\">\n",
    "<a href=\"#q0035\" class=\"btn btn-default\" data-toggle=\"collapse\">Click here for the answer</a>\n",
    "\n",
    "</div>\n",
    "\n",
    "<div id=\"q0035\" class=\"collapse\">\n",
    "\n",
    "```\n",
    "year = int(input(\"Please enter a year\"))\n",
    "if year >= 1900 and year <= 2099:\n",
    "    a = year % 19\n",
    "    b = year % 4\n",
    "    c = year % 7\n",
    "    d = (19*a + 24) % 30\n",
    "    e = (2*b + 4*c + 6*d + 5) % 7\n",
    "    dateofeaster = 22 + d + e\n",
    "\n",
    "    if year == 1954 or year == 1981 or year == 2049 or year == 2076:\n",
    "        dateofeaster = dateofeaster - 7\n",
    "\n",
    "    if dateofeaster > 31:\n",
    "        print(\"April\", dateofeaster - 31)\n",
    "    else:\n",
    "        print(\"March\", dateofeaster)\n",
    "else:\n",
    "    print(\"ERROR...year out of range\")\n",
    "```\n",
    "</div>"
   ]
  },
  {
   "cell_type": "markdown",
   "metadata": {},
   "source": [
    "7. Get the user to enter some text and print out True if it’s a palindrome, False otherwise. (**Hint:** reuse some of your code from the last question. The `==` operator compares two values to see if they are the same)"
   ]
  },
  {
   "cell_type": "code",
   "execution_count": 33,
   "metadata": {},
   "outputs": [],
   "source": [
    "# write your code below\n",
    "\n",
    "\n",
    "\n"
   ]
  },
  {
   "cell_type": "markdown",
   "metadata": {},
   "source": [
    "<div align=\"right\">\n",
    "<a href=\"#q0036\" class=\"btn btn-default\" data-toggle=\"collapse\">Click here for the answer</a>\n",
    "\n",
    "</div>\n",
    "\n",
    "<div id=\"q0036\" class=\"collapse\">\n",
    "\n",
    "```\n",
    "\n",
    "pal_string = (input(\"Input some text to test its palindrome status: \")).lower()\n",
    "\n",
    "alphabet = [\"a\",\"b\",\"c\",\"d\",\"e\",\"f\",\"g\",\"h\",\"i\",\"j\",\"k\",\"l\",\"m\",\"n\",\"o\",\"p\",\"q\",\"r\",\"s\",\"t\",\"u\",\"v\",\"w\",\"x\",\"y\",\"z\"]\n",
    "\n",
    "list1 = []; reverse_list1 = []\n",
    "for letter in pal_string:\n",
    "    if letter in alphabet:\n",
    "        list1.append(letter)\n",
    "\n",
    "for num in range(len(list1)):\n",
    "    reverse_list1.append(list1[len(list1)-1-num])\n",
    "\n",
    "if list1 == reverse_list1:   \n",
    "    print(\"'\",pal_string,\"'\", \"is a palindrome!\")\n",
    "else:\n",
    "    print(\"'\",pal_string,\"'\", \"is not a palindrome!\")\n",
    "\n",
    "\n",
    "```\n",
    "</div>"
   ]
  },
  {
   "cell_type": "markdown",
   "metadata": {},
   "source": [
    "< [Variables, Statements, and Expressions](ZVES.ipynb) | [PyFinLab Index](ALWAYS-START-HERE.ipynb) | [Functions](ZFunctions.ipynb) >\n",
    "\n",
    "<div align=\"right\"><a href=\"#ref00\">back to top</a></div>"
   ]
  }
 ],
 "metadata": {
  "kernelspec": {
   "display_name": "Python 3",
   "language": "python",
   "name": "python3"
  },
  "language_info": {
   "codemirror_mode": {
    "name": "ipython",
    "version": 3
   },
   "file_extension": ".py",
   "mimetype": "text/x-python",
   "name": "python",
   "nbconvert_exporter": "python",
   "pygments_lexer": "ipython3",
   "version": "3.7.4"
  }
 },
 "nbformat": 4,
 "nbformat_minor": 2
}
