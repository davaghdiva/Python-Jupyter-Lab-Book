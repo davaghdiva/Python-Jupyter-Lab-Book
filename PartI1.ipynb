{
 "cells": [
  {
   "cell_type": "markdown",
   "metadata": {},
   "source": [
    "< [About this Lab Book](Welcome.ipynb) | [PyFinLab Index](ALWAYS-START-HERE.ipynb) | [Notebook 02](PartI2.ipynb) >\n",
    "\n",
    "<a id = \"ref00\"></a>"
   ]
  },
  {
   "cell_type": "markdown",
   "metadata": {},
   "source": [
    "<a><img src=\"figures/UUBS.png\" width=\"180\" height=\"180\" border=\"10\" /></a>\n",
    "\n",
    "<hr>"
   ]
  },
  {
   "cell_type": "markdown",
   "metadata": {},
   "source": [
    "### Notebook 01: Importing data from CSV files \n",
    "In this notebook we will learn how to import data from a CSV file into Jupyter Notebook"
   ]
  },
  {
   "cell_type": "code",
   "execution_count": null,
   "metadata": {},
   "outputs": [],
   "source": [
    "# you can tell this is a comment because of the # at the beginning \n",
    "# Python ignores comments; they are written by humans, for humans!\n",
    "# to get started we need to import the \"pandas\" library....\n",
    "\n",
    "import pandas as pd"
   ]
  },
  {
   "cell_type": "code",
   "execution_count": null,
   "metadata": {},
   "outputs": [],
   "source": [
    "# here we import some stock data for Facebook. \n",
    "# the CSV file 'facebook.csv' is located in the folder called 'data' \n",
    "# in the folder structure that you downloaded from BBL. The command below \n",
    "# will find it and import it for you\n",
    "\n",
    "# we assign the resulting DataFrame object to the variable name fb\n",
    "\n",
    "fb = pd.read_csv('data/facebook.csv')"
   ]
  },
  {
   "cell_type": "markdown",
   "metadata": {},
   "source": [
    "<div align=\"left\">\n",
    "<a href=\"#Gag62\" class=\"btn btn-default\" data-toggle=\"collapse\"><b>Have a go!</b>(click me)</a>\n",
    "\n",
    "</div>\n",
    "<div id=\"Gag62\" class=\"collapse\">\n",
    "<br>\n",
    "Now it's your turn. Import the stock data for Microsoft (microsoft.csv) and assign the resulting Dataframe to the variable name `ms`. \n",
    "\n",
    "**Hint:** copy and paste the code from the above cell and modify the filename and variable name to suit. \n"
   ]
  },
  {
   "cell_type": "code",
   "execution_count": null,
   "metadata": {},
   "outputs": [],
   "source": [
    "# type your answer immediately below and then execute the cell\n",
    "\n"
   ]
  },
  {
   "cell_type": "code",
   "execution_count": null,
   "metadata": {},
   "outputs": [],
   "source": [
    "# run this cell to ensure Microsoft's stock data is imported correctly\n",
    "\n",
    "print(type(ms))"
   ]
  },
  {
   "cell_type": "code",
   "execution_count": null,
   "metadata": {},
   "outputs": [],
   "source": [
    "# run this cell to retrieve the Microsoft data value located at position (5,3)\n",
    "\n",
    "print(ms.iloc[5, 3])"
   ]
  },
  {
   "cell_type": "markdown",
   "metadata": {},
   "source": [
    "<div align=\"right\">\n",
    "<a href=\"#Hag1\" class=\"btn btn-default\" data-toggle=\"collapse\">Expected output</a>\n",
    "\n",
    "</div>\n",
    "<div id=\"Hag1\" class=\"collapse\">\n",
    "\n",
    "```\n",
    "Expected output is 46.720001 \n",
    "\n",
    "```\n",
    "\n",
    "\n",
    "</div>"
   ]
  },
  {
   "cell_type": "code",
   "execution_count": null,
   "metadata": {},
   "outputs": [],
   "source": [
    "# run this cell to ensure Facebook's stock data is imported correctly\n",
    "\n",
    "print(type(fb))"
   ]
  },
  {
   "cell_type": "code",
   "execution_count": null,
   "metadata": {},
   "outputs": [],
   "source": [
    "# run this cell to retrieve the Facebook data value located at position (4,3)\n",
    "\n",
    "print(fb.iloc[4, 3])"
   ]
  },
  {
   "cell_type": "markdown",
   "metadata": {},
   "source": [
    "<div align=\"right\">\n",
    "<a href=\"#Hag123\" class=\"btn btn-default\" data-toggle=\"collapse\">Expected output</a>\n",
    "\n",
    "</div>\n",
    "<div id=\"Hag123\" class=\"collapse\">\n",
    "\n",
    "```\n",
    "Expected output is 19.080000 (It is OK if the trailing \n",
    "zeros are not displayed in your answer above).\n",
    "\n",
    "```\n",
    "\n",
    "\n",
    "</div>"
   ]
  },
  {
   "cell_type": "markdown",
   "metadata": {},
   "source": [
    "Cross-check the value you obtained for `print(fb.iloc[4,3])` with classmates just to confirm you are correct. Better still, as an independent follow-up, why not open the original CSV file `facebook.csv` and track down the value for yourself! \n",
    "\n",
    "You may find what you think is an inconsistency between the row and column location when you move from looking at the the dataframe to looking in the `.csv` file. It will be a very important exercise to understand the difference. Read on!"
   ]
  },
  {
   "cell_type": "markdown",
   "metadata": {},
   "source": [
    "You can view the top five rows of the `fb` dataframe by executing the command in the cell below"
   ]
  },
  {
   "cell_type": "code",
   "execution_count": null,
   "metadata": {},
   "outputs": [],
   "source": [
    "fb.head()"
   ]
  },
  {
   "cell_type": "markdown",
   "metadata": {},
   "source": [
    "Immediately below are screen captures from the `.csv` file and the `fb` data frame. Compare the location of the value `19.08` and make sense of the `(4,3)` \"*coordinates*\" in both the `fb` dataframe and `.csv` images below."
   ]
  },
  {
   "cell_type": "markdown",
   "metadata": {},
   "source": [
    "<div align=\"right\">\n",
    "<a href=\"#Hag136\" class=\"btn btn-default\" data-toggle=\"collapse\">DataFrame image</a>\n",
    "\n",
    "</div>\n",
    "<div id=\"Hag136\" class=\"collapse\">\n",
    "\n",
    "<a><img src=\"figures/fig 2.png\"/></a>\n",
    "\n",
    "\n",
    "</div>"
   ]
  },
  {
   "cell_type": "markdown",
   "metadata": {},
   "source": [
    "<div align=\"right\">\n",
    "<a href=\"#Hag1036\" class=\"btn btn-default\" data-toggle=\"collapse\">CSV image</a>\n",
    "\n",
    "</div>\n",
    "<div id=\"Hag1036\" class=\"collapse\">\n",
    "\n",
    "<a><img src=\"figures/fig 1.png\"/></a>\n",
    "\n",
    "\n",
    "</div>"
   ]
  },
  {
   "cell_type": "markdown",
   "metadata": {},
   "source": [
    "<div align=\"left\">\n",
    "<a href=\"#ag70912\" class=\"btn btn-default\" data-toggle=\"collapse\"><b>Have a go!</b></a>\n",
    "\n",
    "</div>\n",
    "<div id=\"ag70912\" class=\"collapse\">\n",
    "<br>\n",
    "\n",
    "Type your explanation for the apparent difference in the `input` cell below. This will be useful for your understanding going forward. \n",
    "\n",
    "**Hint:** it has to do with whether we start *counting* at `0` or `1`."
   ]
  },
  {
   "cell_type": "code",
   "execution_count": null,
   "metadata": {},
   "outputs": [],
   "source": [
    "# press Shift+Enter, input your answer, then press Enter. It may be more \n",
    "# convenient to edit your explantion in Word and paste it in. If you later \n",
    "# wish to enter a different answer then, select, from the ribbon at the top of\n",
    "# the notebook, Cell-Current Outputs-Clear to reset.\n",
    "\n",
    "input('My explanation is as follows:') "
   ]
  },
  {
   "cell_type": "markdown",
   "metadata": {},
   "source": [
    "<div align=\"right\">\n",
    "<a href=\"#Hag19023\" class=\"btn btn-default\" data-toggle=\"collapse\">Explanation (if you are unsure)</a>\n",
    "\n",
    "</div>\n",
    "<div id=\"Hag19023\" class=\"collapse\">\n",
    "    \n",
    "<br>\n",
    "\n",
    "When working with Python data frames, coordinates `(4,3)` acutally refer to the 5th row and 4th column because index counting starts at `0` for both rows and columns in DataFrame objects `[0,1,2,3,4,5,6,...]`. As an illustration, an entry in the 1st row and 1st column of a data frame would actually have position coordinates `(0,0)`.\n",
    "\n",
    "Regarding positioning in the CSV file, `19.08` appears in `Row 6` and column D. This is because the rows in a CSV file start counting at `1` and the column headings actually use up `Row 1`. `Column D` is the 4th column with `Col_A=Col_1`,..., `Col_D=Col_4`, etc.\n",
    "\n",
    "Just be aware of the indexing difference between CSV files and Python data frame objects. Generally, this will not cause any difficulty because we will always be working with the imported data in Python format so it is more important to understand the DataFrame row and column indexing, which starts with `0` as in `[0,1,2,3,4,5,6,...]`.\n",
    "\n"
   ]
  },
  {
   "cell_type": "markdown",
   "metadata": {},
   "source": [
    "< [About this Lab Book](Welcome.ipynb) | [PyFinLab Index](ALWAYS-START-HERE.ipynb) | [Notebook 02](PartI2.ipynb) >\n",
    "\n",
    "<div align=\"right\"><a href=\"#ref00\">back to top</a></div>"
   ]
  }
 ],
 "metadata": {
  "kernelspec": {
   "display_name": "Python 3",
   "language": "python",
   "name": "python3"
  },
  "language_info": {
   "codemirror_mode": {
    "name": "ipython",
    "version": 3
   },
   "file_extension": ".py",
   "mimetype": "text/x-python",
   "name": "python",
   "nbconvert_exporter": "python",
   "pygments_lexer": "ipython3",
   "version": "3.7.4"
  }
 },
 "nbformat": 4,
 "nbformat_minor": 2
}
