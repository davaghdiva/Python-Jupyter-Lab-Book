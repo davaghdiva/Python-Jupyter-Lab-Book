{
 "cells": [
  {
   "cell_type": "markdown",
   "metadata": {},
   "source": [
    "< [Notebook 06](PartII2.ipynb) | [PyFinLab Index](ALWAYS-START-HERE.ipynb) | [Notebook 08](PartIII1.ipynb) >\n",
    "\n",
    "<a id = \"ref00\"></a>"
   ]
  },
  {
   "cell_type": "markdown",
   "metadata": {},
   "source": [
    "<a><img src=\"figures/UUBS.png\" width=\"180\" height=\"180\" border=\"10\" /></a>\n",
    "\n",
    "<hr>\n",
    "</a>"
   ]
  },
  {
   "cell_type": "markdown",
   "metadata": {},
   "source": [
    "### Notebook 07: Models of Stock Return\n",
    "\n",
    "In this notebook we model stock return using a normal random variable and demonstrate the importance of distribution in identifying financial risk, a crucial component of risk management."
   ]
  },
  {
   "cell_type": "code",
   "execution_count": null,
   "metadata": {},
   "outputs": [],
   "source": [
    "import pandas as pd\n",
    "import numpy as np\n",
    "import matplotlib.pyplot as plt\n",
    "from scipy.stats import norm\n",
    "import warnings\n",
    "warnings.filterwarnings('ignore')\n",
    "%matplotlib inline"
   ]
  },
  {
   "cell_type": "code",
   "execution_count": null,
   "metadata": {},
   "outputs": [],
   "source": [
    "ms = pd.read_csv('data/microsoft.csv')\n",
    "ms.head()"
   ]
  },
  {
   "cell_type": "markdown",
   "metadata": {},
   "source": [
    "### Distribution of Log return"
   ]
  },
  {
   "cell_type": "code",
   "execution_count": null,
   "metadata": {},
   "outputs": [],
   "source": [
    "# let's modify the Microsoft data by calculating the log daily return\n",
    "ms['LogReturn'] = np.log(ms['Close']).shift(-1) - np.log(ms['Close'])"
   ]
  },
  {
   "cell_type": "code",
   "execution_count": null,
   "metadata": {},
   "outputs": [],
   "source": [
    "# here we plot a histogram to show the distribution of log return of\n",
    "# Microsoft's stock. We can see it is approximately normal in appearance\n",
    "\n",
    "mu = ms['LogReturn'].mean()\n",
    "sigma = ms['LogReturn'].std(ddof=1)\n",
    "\n",
    "######## YOU CAN SAFELY IGNORE THE NEXT 5 LINES OF CODE ########### \n",
    "denms = pd.DataFrame() # LINE 1 ###################################\n",
    "denms['x'] = np.arange(ms['LogReturn'].min()-0.01,\n",
    "                       ms['LogReturn'].max()+0.01,0.001) # LINE 2 #\n",
    "denms['pdf'] = norm.pdf(denms['x'],mu,sigma) # LINE 3 #############\n",
    "\n",
    "# code to give histogram and pdf the same maxiumm values \n",
    "# in the graph for direct visual comparison(aka normalisation)\n",
    "y,x,_ = plt.hist(ms['LogReturn'],bins=50) # LINE 4 ################\n",
    "\n",
    "denms['pdf'] = denms['pdf']*y.max()/max(denms['pdf']) # LINE 5 ####\n",
    "\n",
    "######## YOU CAN SAFELY IGNORE THE ABOVE 5 LINES OF CODE # LINE 5 # \n",
    "\n",
    "# code for plot \n",
    "ms['LogReturn'].hist(bins=50,figsize=(15, 8))\n",
    "plt.plot(denms['x'],denms['pdf'],color='red')\n",
    "plt.show()\n"
   ]
  },
  {
   "cell_type": "markdown",
   "metadata": {},
   "source": [
    "### Calculate the probability that the stock price will drop by more than a given percentage in a single day"
   ]
  },
  {
   "cell_type": "code",
   "execution_count": null,
   "metadata": {},
   "outputs": [],
   "source": [
    "# probability that the stock price of Microsoft \n",
    "# will drop by more than 5% in a day\n",
    "prob_return5 = norm.cdf(np.log(0.95),mu,sigma)\n",
    "print('The probability is',prob_return5)"
   ]
  },
  {
   "cell_type": "code",
   "execution_count": null,
   "metadata": {},
   "outputs": [],
   "source": [
    "# Now it's your turn, calculate the probability that the \n",
    "# stock price of Microsoft will drop over 10% in a day\n",
    "\n",
    "prob_return10 = None\n",
    "print('The probability is',prob_return10)"
   ]
  },
  {
   "cell_type": "markdown",
   "metadata": {},
   "source": [
    "<div align=\"right\">\n",
    "<a href=\"#Hag16900\" class=\"btn btn-default\" data-toggle=\"collapse\">Expected output</a>\n",
    "\n",
    "</div>\n",
    "<div id=\"Hag16900\" class=\"collapse\">\n",
    "\n",
    "```\n",
    "The probability is 3.6659478851740854e-14\n",
    "\n",
    "```\n",
    "\n",
    "\n",
    "</div>"
   ]
  },
  {
   "cell_type": "markdown",
   "metadata": {},
   "source": [
    "### Calculate the probability that the stock price will drop by more than a given percentage in a year"
   ]
  },
  {
   "cell_type": "code",
   "execution_count": null,
   "metadata": {},
   "outputs": [],
   "source": [
    "# drop by over 30% in 220 days\n",
    "mu220 = 220*mu\n",
    "sigma220 = (220**0.5)*sigma\n",
    "drop30 = norm.cdf(np.log(0.7),mu220,sigma220)\n",
    "print('The probability of dropping by more than 30% in 220 days is',\n",
    "      round(drop30,8))"
   ]
  },
  {
   "cell_type": "code",
   "execution_count": null,
   "metadata": {},
   "outputs": [],
   "source": [
    "# now it's your turn. Calculate the probability that the \n",
    "# stock price of Microsoft will drop my more than 12.5% in 100 days\n",
    "\n",
    "mu100 = None\n",
    "sigma100 = None\n",
    "drop12point5 = None\n",
    "print('The probability of dropping by more than 12.5% in 100 days is',\n",
    "      round(drop12point5,8))\n",
    "\n"
   ]
  },
  {
   "cell_type": "markdown",
   "metadata": {},
   "source": [
    "<div align=\"right\">\n",
    "<a href=\"#Hag102\" class=\"btn btn-default\" data-toggle=\"collapse\">Expected output</a>\n",
    "\n",
    "</div>\n",
    "<div id=\"Hag102\" class=\"collapse\">\n",
    "\n",
    "```\n",
    "The probability of dropping by more \n",
    "than 12.5% in 100 days is 0.06439932\n",
    "\n",
    "```\n",
    "\n",
    "\n",
    "</div>"
   ]
  },
  {
   "cell_type": "markdown",
   "metadata": {},
   "source": [
    "### Calculate Value at risk (VaR)"
   ]
  },
  {
   "cell_type": "code",
   "execution_count": null,
   "metadata": {},
   "outputs": [],
   "source": [
    "# value at risk(VaR)\n",
    "VaRlogreturn = norm.ppf(0.05,mu,sigma)\n",
    "VaR = 100*(np.exp(VaRlogreturn)-1) # converting from log-return to return\n",
    "print('Single-day value at risk is',round(VaR,2),'%')\n"
   ]
  },
  {
   "cell_type": "code",
   "execution_count": null,
   "metadata": {},
   "outputs": [],
   "source": [
    "# Quantiles \n",
    "# 10% quantile\n",
    "print('10% quantile of the daily \"log-return\" distribution',\n",
    "      norm.ppf(0.1,mu,sigma))\n",
    "# 95% quantile\n",
    "print('95% quantile of the daily \"log-return\" distribution',\n",
    "      norm.ppf(0.95,mu,sigma))"
   ]
  },
  {
   "cell_type": "code",
   "execution_count": null,
   "metadata": {},
   "outputs": [],
   "source": [
    "# your turn! Calcuate the 25% quantile,the median, and\n",
    "# the 75% quantile of the daily log-return distribution\n",
    "\n",
    "# 25% quantile(aka lower quartile)\n",
    "q25 = None\n",
    "print('25% quantile of the daily \"log-return\" distribution',q25)\n",
    "# 50% quantile(aka median)\n",
    "qmedian = None \n",
    "print('median of the daily \"log-return\" distribution',qmedian)\n",
    "# 75% quantile(aka upper quartile)\n",
    "q75 = None \n",
    "print('75% quantile of the daily \"log-return\" distribution',q75)"
   ]
  },
  {
   "cell_type": "markdown",
   "metadata": {},
   "source": [
    "<div align=\"right\">\n",
    "<a href=\"#Hag7788\" class=\"btn btn-default\" data-toggle=\"collapse\"><span>Expected output</span></a>\n",
    "\n",
    "\n",
    "</div>\n",
    "<div id=\"Hag7788\" class=\"collapse\">\n",
    "\n",
    "<a><img src=\"figures/fig 16.png\" width=\"320\" height=\"180\" border=\"10\"/></a>\n",
    "\n",
    "</div>"
   ]
  },
  {
   "cell_type": "markdown",
   "metadata": {},
   "source": [
    "<div align=\"left\">\n",
    "<a href=\"#5344\" class=\"btn btn-default\" data-toggle=\"collapse\"><b>Have a go!</b></a>\n",
    "\n",
    "</div>\n",
    "<div id=\"5344\" class=\"collapse\">\n",
    "<br>\n",
    "\n",
    "By firstly importing the requisite Facebook stock data CSV file, determine the probability of Facebook's share price dropping by more than 15% in a 200 day period. By starting right at the start of this notebook, copy, paste, and modify, whatever code snippits you need to do this into the cell(s) below. Attempt to incorporate as little code as possible; there is a lot more code above than necessary to accomplish this."
   ]
  },
  {
   "cell_type": "code",
   "execution_count": null,
   "metadata": {},
   "outputs": [],
   "source": []
  },
  {
   "cell_type": "code",
   "execution_count": null,
   "metadata": {},
   "outputs": [],
   "source": []
  },
  {
   "cell_type": "markdown",
   "metadata": {},
   "source": [
    "<div align=\"right\">\n",
    "<a href=\"#Hag1798\" class=\"btn btn-default\" data-toggle=\"collapse\"><span>Expected output for the probability</span></a>\n",
    "\n",
    "\n",
    "</div>\n",
    "<div id=\"Hag1798\" class=\"collapse\">\n",
    "\n",
    "```\n",
    "The probability of dropping by more than 15% in 200 days is 0.01490275\n",
    "```\n",
    "\n",
    "</div>"
   ]
  },
  {
   "cell_type": "markdown",
   "metadata": {},
   "source": [
    "<div align=\"right\">\n",
    "<a href=\"#Hag2316\" class=\"btn btn-default\" data-toggle=\"collapse\"><span>\n",
    "    If you are really stuck</span></a>\n",
    "\n",
    "\n",
    "</div>\n",
    "<div id=\"Hag2316\" class=\"collapse\">\n",
    "\n",
    "<a><img src=\"figures/fig 17.png\" width=\"520\" height=\"380\" border=\"10\"/></a>\n",
    "\n",
    "</div>"
   ]
  },
  {
   "cell_type": "markdown",
   "metadata": {},
   "source": [
    "< [Notebook 06](PartII2.ipynb) | [PyFinLab Index](ALWAYS-START-HERE.ipynb) | [Notebook 08](PartIII1.ipynb) >\n",
    "\n",
    "<div align=\"right\"><a href=\"#ref00\">back to top</a></div>"
   ]
  }
 ],
 "metadata": {
  "kernelspec": {
   "display_name": "Python 3",
   "language": "python",
   "name": "python3"
  },
  "language_info": {
   "codemirror_mode": {
    "name": "ipython",
    "version": 3
   },
   "file_extension": ".py",
   "mimetype": "text/x-python",
   "name": "python",
   "nbconvert_exporter": "python",
   "pygments_lexer": "ipython3",
   "version": "3.7.4"
  }
 },
 "nbformat": 4,
 "nbformat_minor": 2
}
