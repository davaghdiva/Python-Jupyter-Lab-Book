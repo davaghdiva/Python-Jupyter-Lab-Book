{
 "cells": [
  {
   "cell_type": "markdown",
   "metadata": {},
   "source": [
    "< [Notebook 07](PartII3.ipynb) | [PyFinLab Index](ALWAYS-START-HERE.ipynb) | [Notebook 09](PartIII2.ipynb) >\n",
    "\n",
    "<a id = \"ref00\"></a>"
   ]
  },
  {
   "cell_type": "markdown",
   "metadata": {},
   "source": [
    "<a><img src=\"figures/UUBS.png\" width=\"180\" height=\"180\" border=\"10\" /></a>\n",
    "\n",
    "<hr>\n",
    "</a>"
   ]
  },
  {
   "cell_type": "markdown",
   "metadata": {},
   "source": [
    "### Notebook 08: Population and Sample\n",
    "\n",
    "In this notebook we introduce the essential distinction between population and sample. Often in practice we are interested in studying the properties of a certain group, the population, which cannot be observed in its entirety. In such cases we are necessarily confined to the study of a subset of (i.e., a sample taken from) the population."
   ]
  },
  {
   "cell_type": "code",
   "execution_count": null,
   "metadata": {},
   "outputs": [],
   "source": [
    "import pandas as pd\n",
    "import numpy as np"
   ]
  },
  {
   "cell_type": "code",
   "execution_count": null,
   "metadata": {},
   "outputs": [],
   "source": [
    "# create a population DataFrame with 10 data values \n",
    "\n",
    "pop_data = pd.DataFrame()\n",
    "pop_data['Population'] = [47, 48, 85, 20, 19, 13, 72, 16, 50, 60]"
   ]
  },
  {
   "cell_type": "markdown",
   "metadata": {},
   "source": [
    "You may get different results from sampling."
   ]
  },
  {
   "cell_type": "code",
   "execution_count": null,
   "metadata": {},
   "outputs": [],
   "source": [
    "# draw a sample with replacement, of size=5, from pop_data\n",
    "\n",
    "sample_with = pop_data['Population'].sample(5, replace=True)\n",
    "print(sample_with)"
   ]
  },
  {
   "cell_type": "code",
   "execution_count": null,
   "metadata": {},
   "outputs": [],
   "source": [
    "# draw a sample without replacement, of size=5, from pop_data\n",
    "\n",
    "sample_without = pop_data['Population'].sample(5, replace=False)\n",
    "print(sample_without)"
   ]
  },
  {
   "cell_type": "markdown",
   "metadata": {},
   "source": [
    "### Parameters and Statistics"
   ]
  },
  {
   "cell_type": "code",
   "execution_count": null,
   "metadata": {},
   "outputs": [],
   "source": [
    "# calculate the population mean and variance\n",
    "\n",
    "pop_mean = None\n",
    "pop_var = None\n",
    "\n",
    "print('Population mean is ', pop_mean)\n",
    "print('Population variance is', pop_var)"
   ]
  },
  {
   "cell_type": "markdown",
   "metadata": {},
   "source": [
    "<div align=\"right\">\n",
    "<a href=\"#Hag9919\" class=\"btn btn-default\" data-toggle=\"collapse\">Expected output</a>\n",
    "\n",
    "</div>\n",
    "<div id=\"Hag9919\" class=\"collapse\">\n",
    "\n",
    "```\n",
    "Population mean is  43.0\n",
    "Population variance is 571.8\n",
    "\n",
    "```\n",
    "\n",
    "\n",
    "</div>"
   ]
  },
  {
   "cell_type": "markdown",
   "metadata": {},
   "source": [
    "You may get different results from sampling."
   ]
  },
  {
   "cell_type": "code",
   "execution_count": null,
   "metadata": {},
   "outputs": [],
   "source": [
    "# calculate the sample mean and sample standard deviation \n",
    "# for a sample of size =10. You will get a different mean \n",
    "# and variance every time you excecute the code below\n",
    "\n",
    "#use sampling with replacement\n",
    "sample_10 = None\n",
    "sample_mean = None\n",
    "sample_var = None\n",
    "print('Sample mean is ', sample_mean)\n",
    "print('Sample variance is', sample_var)"
   ]
  },
  {
   "cell_type": "markdown",
   "metadata": {},
   "source": [
    "<div align=\"left\">\n",
    "<a href=\"#g1289\" class=\"btn btn-default\" data-toggle=\"collapse\"><b>Have a go!</b></a>\n",
    "\n",
    "</div>\n",
    "<div id=\"g1289\" class=\"collapse\">\n",
    "<br>\n",
    "\n",
    "Carefully consider what is happening with the code in the cell below and make sure you can explain why we **can tell in advance** that the resulting values for the sample mean and sample variance are identical to the population mean and population variance."
   ]
  },
  {
   "cell_type": "code",
   "execution_count": null,
   "metadata": {},
   "outputs": [],
   "source": [
    "sample_10 = pop_data['Population'].sample(10, replace=False)\n",
    "sample_mean = sample_10.mean()\n",
    "sample_var = sample_10.var(ddof=0)\n",
    "print('Sample mean is ', sample_mean)\n",
    "print('Sample variance is', sample_var)"
   ]
  },
  {
   "cell_type": "code",
   "execution_count": null,
   "metadata": {},
   "outputs": [],
   "source": [
    "# press Shift+Enter, input your answer, then press Enter. It may be more \n",
    "# convenient to edit your explantion in Word and paste it in. If you later \n",
    "# wish to enter a different answer then, select, from the ribbon at the top of\n",
    "# the notebook, Cell-Current Outputs-Clear to reset.\n",
    "\n",
    "input('My explanation is as follows:') "
   ]
  },
  {
   "cell_type": "markdown",
   "metadata": {},
   "source": [
    "### Expectation of an unbiased estimator"
   ]
  },
  {
   "cell_type": "markdown",
   "metadata": {},
   "source": [
    "<div align=\"left\">\n",
    "<a href=\"#yu0612\" class=\"btn btn-default\" data-toggle=\"collapse\"><b>Have a go!</b></a>\n",
    "\n",
    "</div>\n",
    "<div id=\"yu0612\" class=\"collapse\">\n",
    "<br>\n",
    "\n",
    "We will consider the role of unbiased estimators over the next few notebooks. The purpose of including the code below is simply for you to read and ascertain precisely what this code is doing."
   ]
  },
  {
   "cell_type": "code",
   "execution_count": null,
   "metadata": {},
   "outputs": [],
   "source": [
    "sample_length = 500\n",
    "sample_variance_collection=[pop_data['Population'].sample(10, replace=True)\n",
    "                            .var(ddof=1) for i in range(sample_length)]"
   ]
  },
  {
   "cell_type": "code",
   "execution_count": null,
   "metadata": {},
   "outputs": [],
   "source": [
    "input('I think the code in the cell above is doing the following:') "
   ]
  },
  {
   "cell_type": "markdown",
   "metadata": {
    "collapsed": true
   },
   "source": [
    "< [Notebook 07](PartII3.ipynb) | [PyFinLab Index](ALWAYS-START-HERE.ipynb) | [Notebook 09](PartIII2.ipynb) >\n",
    "\n",
    "<a id = \"ref00\"></a>\n",
    "\n",
    "<div align=\"right\"><a href=\"#ref00\">back to top</a></div>"
   ]
  }
 ],
 "metadata": {
  "kernelspec": {
   "display_name": "Python 3",
   "language": "python",
   "name": "python3"
  },
  "language_info": {
   "codemirror_mode": {
    "name": "ipython",
    "version": 3
   },
   "file_extension": ".py",
   "mimetype": "text/x-python",
   "name": "python",
   "nbconvert_exporter": "python",
   "pygments_lexer": "ipython3",
   "version": "3.7.4"
  }
 },
 "nbformat": 4,
 "nbformat_minor": 2
}
