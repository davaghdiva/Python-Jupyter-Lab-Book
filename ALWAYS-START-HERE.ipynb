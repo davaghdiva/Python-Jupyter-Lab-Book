{
 "cells": [
  {
   "cell_type": "markdown",
   "metadata": {},
   "source": [
    "< [About this Lab Book](Welcome.ipynb) | [Notebook 01](PartI1.ipynb) >\n",
    "\n",
    "<a id = \"ref00\"></a>"
   ]
  },
  {
   "cell_type": "markdown",
   "metadata": {},
   "source": [
    "<a><img src=\"figures/UUBS.png\" width=\"180\" height=\"180\" border=\"10\" /></a>\n",
    "\n",
    "<hr>\n",
    "\n"
   ]
  },
  {
   "cell_type": "markdown",
   "metadata": {},
   "source": [
    "## Python for Financial Modelling (Practical Labs)\n",
    "\n",
    "### [FIN303](https://learning.ulster.ac.uk/webapps/blackboard/content/listContentEditable.jsp?content_id=_5305920_1&course_id=_309214_1&mode=reset) Module Handbook\n",
    "\n",
    "</div>"
   ]
  },
  {
   "cell_type": "markdown",
   "metadata": {},
   "source": [
    "### Lab Notebooks\n",
    "#### Part I: Visualising and Manipulating Stock Data\n",
    "- [Notebook 01: Importing data from CSV files](PartI1.ipynb)\n",
    "- [Notebook 02: DataFrame - core features](PartI2.ipynb)\n",
    "- [Notebook 03: DataFrame - generating new variables and features](PartI3.ipynb)\n",
    "- [Notebook 04: Building a simple trading strategy](PartI4.ipynb)\n",
    "\n",
    "#### Part II: Random Variables and Probability Distributions\n",
    "- [Notebook 05: Outcomes and random rariables](PartII1.ipynb)\n",
    "- [Notebook 06: Frequency and distribution](PartII2.ipynb)\n",
    "- [Notebook 07: Models of stock returns](PartII3.ipynb)\n",
    "\n",
    "#### Part III: Sampling and Statistical Inference \n",
    "- [Notebook 08: Populations and samples](PartIII1.ipynb)\n",
    "- [Notebook 09: Sample variation](PartIII2.ipynb)\n",
    "- [Notebook 10: Confidence Intervals](PartIII3.ipynb)\n",
    "- [Notebook 11: Hypothesis Testing](PartIII4.ipynb)\n",
    "\n",
    "#### Part IV: Linear Regression Models for Financial Analysis\n",
    "- [Notebook 12: Association between random variables](PartIV1.ipynb)\n",
    "- [Notebook 13: Simple(aka univariate) linear regression](PartIV2.ipynb)\n",
    "- [Notebook 14: Simple linear regression diagnostics](PartIV3.ipynb)\n",
    "\n",
    "#### Part V (Report): Signal-based Trading on SPY [ETF]\n",
    "- [Notebook 15: Multiple linear regression](PartV1.ipynb)\n",
    "- [Notebook 16: Strategy evaluation](PartV2.ipynb)\n",
    "\n",
    "#### Appendix: Nuts & Bolts (General Python Notebooks)\n",
    "\n",
    "<a id = \"ref0067\"></a>\n",
    "\n",
    "- [Notebook A1: Variables, Statements, and Expressions](ZVES.ipynb)\n",
    "- [Notebook A2: Conditionals](ZConditionals.ipynb)\n",
    "- [Notebook A3: Functions](ZFunctions.ipynb)\n",
    "- [Notebook A4: Iteration](ZIteration.ipynb)\n",
    "- [Notebook A5: Sequences I](ZSequences-I.ipynb)\n",
    "- [Notebook A6: Sequences II](ZSequences-II.ipynb)\n",
    "- [Notebook A7: Files](ZFiles.ipynb)\n",
    "- [Notebook A8: Dictionaries](ZDictionaries.ipynb)\n",
    "\n",
    "\n",
    "\n"
   ]
  },
  {
   "cell_type": "markdown",
   "metadata": {},
   "source": [
    "< [About this Lab Book](Welcome.ipynb) | [Notebook 01](PartI1.ipynb) >\n",
    "\n",
    "\n",
    "<div align=\"right\"><a href=\"#ref00\">back to top</a></div>"
   ]
  }
 ],
 "metadata": {
  "anaconda-cloud": {},
  "kernelspec": {
   "display_name": "Python 3",
   "language": "python",
   "name": "python3"
  },
  "language_info": {
   "codemirror_mode": {
    "name": "ipython",
    "version": 3
   },
   "file_extension": ".py",
   "mimetype": "text/x-python",
   "name": "python",
   "nbconvert_exporter": "python",
   "pygments_lexer": "ipython3",
   "version": "3.8.5"
  }
 },
 "nbformat": 4,
 "nbformat_minor": 1
}
