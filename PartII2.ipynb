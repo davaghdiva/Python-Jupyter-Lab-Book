{
 "cells": [
  {
   "cell_type": "markdown",
   "metadata": {},
   "source": [
    "< [Notebook 05](PartII1.ipynb) | [PyFinLab Index](ALWAYS-START-HERE.ipynb) | [Notebook 07](PartII3.ipynb) >\n",
    "\n",
    "<a id = \"ref00\"></a>"
   ]
  },
  {
   "cell_type": "markdown",
   "metadata": {},
   "source": [
    "<a><img src=\"figures/UUBS.png\" width=\"180\" height=\"180\" border=\"10\" /></a>\n",
    "\n",
    "<hr>\n",
    "</a>"
   ]
  },
  {
   "cell_type": "markdown",
   "metadata": {},
   "source": [
    "### Notebook 06: Frequency and distribution\n",
    "\n",
    "In this notebook we cover the basics of frequency of occurence, relative frequency of observed outcomes, and introduce the concept of distribution. "
   ]
  },
  {
   "cell_type": "code",
   "execution_count": null,
   "metadata": {},
   "outputs": [],
   "source": [
    "import pandas as pd\n",
    "import matplotlib.pyplot as plt\n",
    "%matplotlib inline"
   ]
  },
  {
   "cell_type": "code",
   "execution_count": null,
   "metadata": {},
   "outputs": [],
   "source": [
    "# this is the code to simulate rolling two dice 50 times, noting the sum score\n",
    "\n",
    "die = pd.DataFrame([1,2,3,4,5,6])\n",
    "trial = 50\n",
    "result = [die.sample(2,replace=True).sum().loc[0] for i in range(trial)]"
   ]
  },
  {
   "cell_type": "code",
   "execution_count": null,
   "metadata": {},
   "outputs": [],
   "source": [
    "# this is the code for summarising the results by frequency\n",
    "\n",
    "freq = pd.DataFrame(result)[0].value_counts()\n",
    "sort_freq = freq.sort_index()\n",
    "sort_freq"
   ]
  },
  {
   "cell_type": "code",
   "execution_count": null,
   "metadata": {},
   "outputs": [],
   "source": [
    "# plot the bar chart base on the result\n",
    "\n",
    "sort_freq.plot(kind='bar',color='blue',figsize=(12, 6))"
   ]
  },
  {
   "cell_type": "markdown",
   "metadata": {},
   "source": [
    "### Relative Frequency"
   ]
  },
  {
   "cell_type": "code",
   "execution_count": null,
   "metadata": {},
   "outputs": [],
   "source": [
    "# using relative frequency we can normalise (or rescale) the frequency so \n",
    "# that we can compare results across different numbers of trials\n",
    "\n",
    "relative_freq = sort_freq/trial\n",
    "relative_freq.plot(kind='bar',color='blue',figsize=(12, 6))"
   ]
  },
  {
   "cell_type": "code",
   "execution_count": null,
   "metadata": {},
   "outputs": [],
   "source": [
    "# let's increase the number of trials to 10000, and see what happens...\n",
    "# depending on RAM/Cache of your PC this may take up to one minute\n",
    "\n",
    "trial = 10000\n",
    "result = [die.sample(2,replace=True).sum().loc[0] for i in range(trial)]\n",
    "freq = pd.DataFrame(result)[0].value_counts()\n",
    "sort_freq = freq.sort_index()\n",
    "relative_freq = sort_freq/trial\n",
    "relative_freq.plot(kind='bar',color='blue',figsize=(12, 6))"
   ]
  },
  {
   "cell_type": "markdown",
   "metadata": {},
   "source": [
    "<div align=\"left\">\n",
    "<a href=\"#46789\" class=\"btn btn-default\" data-toggle=\"collapse\"><b>Have a go!</b></a>\n",
    "\n",
    "</div>\n",
    "<div id=\"46789\" class=\"collapse\">\n",
    "<br>\n",
    "\n",
    "With more trials the shape of the resulting bar chart becomes increasingly stable. Experiment with further increases to the number of trials (it may take some time for Jupyter Notebook to output the result or you may exceed the computatonal limits of your PC). In any event we find that by 50,000 trials the shape of the distibtution seems to have 'converged' to the theoretical probability distribution. \n",
    "<br>\n",
    "    \n",
    "P.S. If you would prefer not to test the limits of your PC, images for trials of 20,000 and 50,000 are included below so you can check the apparent convergence of the resulting bar charts."
   ]
  },
  {
   "cell_type": "markdown",
   "metadata": {},
   "source": [
    "<div align=\"right\">\n",
    "<a href=\"#Hag766\" class=\"btn btn-default\" data-toggle=\"collapse\">Convergence of bar chart</a>\n",
    "\n",
    "\n",
    "</div>\n",
    "<div id=\"Hag766\" class=\"collapse\">\n",
    "\n",
    "<a><img src=\"figures/fig 9.png\" width=\"520\" height=\"520\" border=\"10\"/></a>\n",
    "\n",
    "</div>"
   ]
  },
  {
   "cell_type": "markdown",
   "metadata": {},
   "source": [
    "### Mean (aka Expectation) and Variance of a theoretical distribution"
   ]
  },
  {
   "cell_type": "code",
   "execution_count": null,
   "metadata": {},
   "outputs": [],
   "source": [
    "# assume we have fair dice, which means all faces will be \n",
    "# shown with equal probability, then we can say we know the \n",
    "# 'probability distribtuion' of the random variable - sum_of_two_dice\n",
    "\n",
    "X_distbn = pd.DataFrame(index=[2,3,4,5,6,7,8,9,10,11,12])\n",
    "X_distbn['Probabilities'] = [1,2,3,4,5,6,5,4,3,2,1]\n",
    "X_distbn['Probabilities'] = X_distbn['Probabilities']/36\n",
    "X_distbn"
   ]
  },
  {
   "cell_type": "code",
   "execution_count": null,
   "metadata": {},
   "outputs": [],
   "source": [
    "mean = pd.Series(X_distbn.index * X_distbn['Probabilities']).sum()\n",
    "var = pd.Series(((X_distbn.index - mean)**2)*X_distbn['Probabilities']).sum()"
   ]
  },
  {
   "cell_type": "code",
   "execution_count": null,
   "metadata": {},
   "outputs": [],
   "source": [
    "# output the mean and variance of the distribution. \n",
    "# mean and variance can be used to describe a distribution\n",
    "\n",
    "print(mean,var)"
   ]
  },
  {
   "cell_type": "markdown",
   "metadata": {},
   "source": [
    "### Mean and Variance of an empirical (i.e., observed) distribution"
   ]
  },
  {
   "cell_type": "code",
   "execution_count": null,
   "metadata": {},
   "outputs": [],
   "source": [
    "# we calculate the mean and variance of outcomes with a \n",
    "# sufficiently high enough number of trials, eg 20000...\n",
    "\n",
    "trial = 20000\n",
    "results = [die.sample(2,replace=True).sum().loc[0] for i in range(trial)]"
   ]
  },
  {
   "cell_type": "code",
   "execution_count": null,
   "metadata": {},
   "outputs": [],
   "source": [
    "#print the mean and variance of the 20000 trials\n",
    "\n",
    "results = pd.Series(results)\n",
    "print(results.mean(),results.var())"
   ]
  },
  {
   "cell_type": "markdown",
   "metadata": {},
   "source": [
    "<div align=\"left\">\n",
    "<a href=\"#2468\" class=\"btn btn-default\" data-toggle=\"collapse\"><b>Have a go!</b></a>\n",
    "\n",
    "</div>\n",
    "<div id=\"2468\" class=\"collapse\">\n",
    "<br>\n",
    "\n",
    "You can increase the number of trials to see how it affects the observed mean and variance from our simulation experiment.\n",
    "<br>\n",
    "    \n",
    "P.S. Again, if you would prefer not to test the limits of your PC, click on the pop-up immediately below to see convergence between mean and variance from the theortetcial distribution and th eempirical distribution with 50000 trials."
   ]
  },
  {
   "cell_type": "markdown",
   "metadata": {},
   "source": [
    "<div align=\"right\">\n",
    "<a href=\"#Hag7006\" class=\"btn btn-default\" data-toggle=\"collapse\">Convergence of mean and variance (50000 trials)</a>\n",
    "\n",
    "\n",
    "</div>\n",
    "<div id=\"Hag7006\" class=\"collapse\">\n",
    "\n",
    "<a><img src=\"figures/fig 11.png\" width=\"420\" height=\"420\" border=\"10\"/></a>\n",
    "\n",
    "</div>"
   ]
  },
  {
   "cell_type": "markdown",
   "metadata": {},
   "source": [
    "Make a copy of this notebook as illustrated in the pop up below - this will be the most convenient way to perform the task required."
   ]
  },
  {
   "cell_type": "markdown",
   "metadata": {},
   "source": [
    "<div align=\"right\">\n",
    "<a href=\"#Hag7068\" class=\"btn btn-default\" data-toggle=\"collapse\"><span style=\"color: red;\">Making a copy of this notebook</span></a>\n",
    "\n",
    "\n",
    "</div>\n",
    "<div id=\"Hag7068\" class=\"collapse\">\n",
    "\n",
    "<a><img src=\"figures/fig 10.png\" width=\"220\" height=\"220\" border=\"10\"/></a>\n",
    "\n",
    "</div>"
   ]
  },
  {
   "cell_type": "markdown",
   "metadata": {},
   "source": [
    "<div align=\"left\">\n",
    "<a href=\"#5\" class=\"btn btn-default\" data-toggle=\"collapse\"><b>Exercise(Part 1)</b></a>\n",
    "\n",
    "</div>\n",
    "<div id=\"5\" class=\"collapse\">\n",
    "<br>\n",
    "\n",
    "Reproduce the work in this notebook for a modified die. You are still working with a six-faced die with faces numbered 1,2,3,4,5,6 but with the following specification: faces 2,3,4,5 are all equally likely to appear but face 6 is twice as likely as any of the faces (2,3,4,5) whilst face 1 is only half as likely as any of the faces (2,3,4,5)\n",
    " <br>\n",
    "   \n",
    "P.S. Changes need to be made right from the original assignment to the variable `die`. Have a think about what this should look like, but if you are stuck the pop-up below gives you a hint to the structure of the new `die` Series object.\n"
   ]
  },
  {
   "cell_type": "markdown",
   "metadata": {},
   "source": [
    "<div align=\"right\">\n",
    "<a href=\"#Hag2168\" class=\"btn btn-default\" data-toggle=\"collapse\"><span style=\"color: red;\">Modified 'die' variable</span></a>\n",
    "\n",
    "\n",
    "</div>\n",
    "<div id=\"Hag2168\" class=\"collapse\">\n",
    "\n",
    "<a><img src=\"figures/fig 12.png\" width=\"420\" height=\"320\" border=\"10\"/></a>\n",
    "\n",
    "</div>"
   ]
  },
  {
   "cell_type": "markdown",
   "metadata": {},
   "source": [
    "<div align=\"left\">\n",
    "<a href=\"#675\" class=\"btn btn-default\" data-toggle=\"collapse\"><b>Exercise(Part 2)</b></a>\n",
    "\n",
    "</div>\n",
    "<div id=\"675\" class=\"collapse\">\n",
    "<br>\n",
    "\n",
    "Changes will also need to be made to the theoretical probability distribution. Have a think about what this should look like, but if you are stuck the pop-up below gives you a strong hint to the structure of the new `X_distbn['Prob']` object."
   ]
  },
  {
   "cell_type": "markdown",
   "metadata": {},
   "source": [
    "<div align=\"right\">\n",
    "<a href=\"#Hag21800\" class=\"btn btn-default\" data-toggle=\"collapse\"><span style=\"color: red;\">Modified probability distribution</span></a>\n",
    "\n",
    "\n",
    "</div>\n",
    "<div id=\"Hag21800\" class=\"collapse\">\n",
    "\n",
    "<br>\n",
    "    \n",
    "<a><img src=\"figures/fig 13.png\" width=\"420\" height=\"320\" border=\"10\"/></a>\n",
    "\n",
    "</div>"
   ]
  },
  {
   "cell_type": "markdown",
   "metadata": {},
   "source": [
    "<div align=\"left\">\n",
    "<a href=\"#111115\" class=\"btn btn-default\" data-toggle=\"collapse\"><b>Exercise(Part 3)</b></a>\n",
    "\n",
    "</div>\n",
    "<div id=\"111115\" class=\"collapse\">\n",
    "<br>\n",
    "\n",
    "It transpires that 'numerical' or 'computational' convergence is much slower for the modified die; a situation almost certainly arising as a result of the distribution no longer being symmetric. You can experiment with different values for the 'trial' parameter; stick to values your PC is happy to work with. Below are a couple of pop-ups letting you benchmark your results or just cut to the 'convergence' result if you have limited computational capacity.</span></h4>"
   ]
  },
  {
   "cell_type": "markdown",
   "metadata": {},
   "source": [
    "<div align=\"right\">\n",
    "<a href=\"#Hag7236\" class=\"btn btn-default\" data-toggle=\"collapse\"><span style=\"color: red;\">Non-convergence of bar chart (after 100000 trials)</span></a>\n",
    "\n",
    "\n",
    "</div>\n",
    "<div id=\"Hag7236\" class=\"collapse\">\n",
    "\n",
    "<a><img src=\"figures/fig 14.png\" width=\"620\" height=\"420\" border=\"10\"/></a>\n",
    "\n",
    "</div>"
   ]
  },
  {
   "cell_type": "markdown",
   "metadata": {},
   "source": [
    "<div align=\"right\">\n",
    "<a href=\"#Hag6\" class=\"btn btn-default\" data-toggle=\"collapse\"><span style=\"color: red;\">Non-convergence of mean and variance (after 100000 trials)</span></a>\n",
    "\n",
    "\n",
    "</div>\n",
    "<div id=\"Hag6\" class=\"collapse\">\n",
    "\n",
    "<a><img src=\"figures/fig 15.png\" width=\"420\" height=\"420\" border=\"10\"/></a>\n",
    "\n",
    "</div>"
   ]
  },
  {
   "cell_type": "markdown",
   "metadata": {},
   "source": [
    "< [Notebook 05](PartII1.ipynb) | [PyFinLab Index](ALWAYS-START-HERE.ipynb) | [Notebook 07](PartII3.ipynb) >\n",
    "\n",
    "\n",
    "<div align=\"right\"><a href=\"#ref00\">back to top</a></div>"
   ]
  }
 ],
 "metadata": {
  "kernelspec": {
   "display_name": "Python 3",
   "language": "python",
   "name": "python3"
  },
  "language_info": {
   "codemirror_mode": {
    "name": "ipython",
    "version": 3
   },
   "file_extension": ".py",
   "mimetype": "text/x-python",
   "name": "python",
   "nbconvert_exporter": "python",
   "pygments_lexer": "ipython3",
   "version": "3.7.4"
  }
 },
 "nbformat": 4,
 "nbformat_minor": 2
}
