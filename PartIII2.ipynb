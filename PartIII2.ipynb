{
 "cells": [
  {
   "cell_type": "markdown",
   "metadata": {},
   "source": [
    "< [Notebook 08](PartIII1.ipynb) | [PyFinLab Index](ALWAYS-START-HERE.ipynb) | [Notebook 10](PartIII3.ipynb) >\n",
    "\n",
    "<a id = \"ref00\"></a>"
   ]
  },
  {
   "cell_type": "markdown",
   "metadata": {},
   "source": [
    "<a><img src=\"figures/UUBS.png\" width=\"180\" height=\"180\" border=\"10\" /></a>\n",
    "\n",
    "<hr>\n",
    "</a>"
   ]
  },
  {
   "cell_type": "markdown",
   "metadata": {},
   "source": [
    "### Notebook 09: Variation of Sample\n",
    "\n",
    "In this notebook we consider the variability and distribution of a sample mean. Understanding its purpose is important in helping us correctly perform the estimation inherent in statistical inference; to validate assertions about a population based on a sample from that population. "
   ]
  },
  {
   "cell_type": "code",
   "execution_count": null,
   "metadata": {},
   "outputs": [],
   "source": [
    "import pandas as pd\n",
    "import numpy as np\n",
    "from scipy.stats import norm\n",
    "%matplotlib inline"
   ]
  },
  {
   "cell_type": "code",
   "execution_count": null,
   "metadata": {},
   "outputs": [],
   "source": [
    "# the sample mean and sample standard deviation will keep changing \n",
    "# each time you execute this cell, but always within a certain range\n",
    "\n",
    "Fstsample = pd.DataFrame(np.random.normal(10, 5, size=30))\n",
    "print('sample mean is', Fstsample[0].mean())\n",
    "print('sample SD is', Fstsample[0].std(ddof=1))"
   ]
  },
  {
   "cell_type": "markdown",
   "metadata": {},
   "source": [
    "### Empirical distribution of the sample mean"
   ]
  },
  {
   "cell_type": "code",
   "execution_count": null,
   "metadata": {},
   "outputs": [],
   "source": [
    "meanlist = []\n",
    "for t in range(10000):\n",
    "    sample = pd.DataFrame(np.random.normal(10, 5, size=30))\n",
    "    meanlist.append(sample[0].mean())"
   ]
  },
  {
   "cell_type": "code",
   "execution_count": null,
   "metadata": {},
   "outputs": [],
   "source": [
    "collection = pd.DataFrame()\n",
    "collection['meanlist'] = meanlist"
   ]
  },
  {
   "cell_type": "code",
   "execution_count": null,
   "metadata": {},
   "outputs": [],
   "source": [
    "collection['meanlist'].hist(bins=100, density=1,figsize=(12,6))"
   ]
  },
  {
   "cell_type": "markdown",
   "metadata": {},
   "source": [
    "### Sampling from an arbritary distribution"
   ]
  },
  {
   "cell_type": "code",
   "execution_count": null,
   "metadata": {},
   "outputs": [],
   "source": [
    "# the central limit theorem tells us...no matter what the population \n",
    "# distribution is, if the sample size is large enough, the distribution \n",
    "# of the sample mean is approximately normal. arbpop, given below, is not \n",
    "# normal, but experiment by changing the sample size from 10 to a larger \n",
    "# number. The distribution of the sample mean of arbpop becomes normal.\n",
    "\n",
    "sample_size = 10\n",
    "samplemeanlist = []\n",
    "arbpop =  pd.DataFrame([1,2,2,3,3,3,4,4,4,4,5,5,5,5,5])\n",
    "for t in range(10000):\n",
    "    sample = arbpop[0].sample(sample_size, replace=True)  \n",
    "    samplemeanlist.append(sample.mean())\n",
    "\n",
    "arbcollection = pd.DataFrame()\n",
    "arbcollection['meanlist'] = samplemeanlist\n",
    "arbcollection.hist(bins=500, density=1,figsize=(12,6))"
   ]
  },
  {
   "cell_type": "markdown",
   "metadata": {},
   "source": [
    "<div align=\"left\">\n",
    "<a href=\"#Hag65012\" class=\"btn btn-default\" data-toggle=\"collapse\"><b>Have a go!</b></a>\n",
    "\n",
    "</div>\n",
    "<div id=\"Hag65012\" class=\"collapse\">\n",
    "\n",
    "```\n",
    "Modify the code from the notebook sections given below to reproduce this study for the distribution of the sample variance \n",
    "\n",
    "```\n",
    "\n",
    "<a><img src=\"figures/fig 18.png\" width=\"400\" height=\"180\" border=\"10\" /></a>\n",
    "\n",
    "<a><img src=\"figures/fig 19.png\" width=\"400\" height=\"180\" border=\"10\" /></a>"
   ]
  },
  {
   "cell_type": "code",
   "execution_count": null,
   "metadata": {},
   "outputs": [],
   "source": [
    "# starting here, edit your modified script code\n",
    "\n",
    "\n"
   ]
  },
  {
   "cell_type": "code",
   "execution_count": null,
   "metadata": {},
   "outputs": [],
   "source": [
    "# and create extra code cells as and when you need them\n"
   ]
  },
  {
   "cell_type": "markdown",
   "metadata": {},
   "source": [
    "< [Notebook 08](PartIII1.ipynb) | [PyFinLab Index](ALWAYS-START-HERE.ipynb) | [Notebook 10](PartIII3.ipynb) >\n",
    "\n",
    "<a id = \"ref00\"></a>\n",
    "\n",
    "<div align=\"right\"><a href=\"#ref00\">back to top</a></div>"
   ]
  }
 ],
 "metadata": {
  "kernelspec": {
   "display_name": "Python 3",
   "language": "python",
   "name": "python3"
  },
  "language_info": {
   "codemirror_mode": {
    "name": "ipython",
    "version": 3
   },
   "file_extension": ".py",
   "mimetype": "text/x-python",
   "name": "python",
   "nbconvert_exporter": "python",
   "pygments_lexer": "ipython3",
   "version": "3.7.4"
  }
 },
 "nbformat": 4,
 "nbformat_minor": 2
}
